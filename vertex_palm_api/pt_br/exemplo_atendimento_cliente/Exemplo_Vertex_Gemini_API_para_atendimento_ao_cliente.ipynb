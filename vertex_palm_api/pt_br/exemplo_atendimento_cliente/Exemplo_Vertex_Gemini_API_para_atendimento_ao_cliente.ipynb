{
  "nbformat": 4,
  "nbformat_minor": 0,
  "metadata": {
    "colab": {
      "provenance": []
    },
    "kernelspec": {
      "name": "python3",
      "display_name": "Python 3"
    },
    "language_info": {
      "name": "python"
    }
  },
  "cells": [
    {
      "cell_type": "code",
      "source": [
        "# Copyright 2023 Gabriel Moreira\n",
        "#\n",
        "# Licensed under the Apache License, Version 2.0 (the \"License\");\n",
        "# you may not use this file except in compliance with the License.\n",
        "# You may obtain a copy of the License at\n",
        "#\n",
        "#     https://www.apache.org/licenses/LICENSE-2.0\n",
        "#\n",
        "# Unless required by applicable law or agreed to in writing, software\n",
        "# distributed under the License is distributed on an \"AS IS\" BASIS,\n",
        "# WITHOUT WARRANTIES OR CONDITIONS OF ANY KIND, either express or implied.\n",
        "# See the License for the specific language governing permissions and\n",
        "# limitations under the License."
      ],
      "metadata": {
        "id": "46uPzserRfZ4"
      },
      "execution_count": null,
      "outputs": []
    },
    {
      "cell_type": "markdown",
      "source": [
        "# Exemplo de utilização da Vertex Gemini API para atendimento ao cliente\n",
        "Neste notebook, demonstramos a utilização da Gemini API através da Vertex AI SDK para Python, para casos de uso relacionados à atendimento ao cliente:\n",
        "1. Classsificação de sentimentos\n",
        "2. Estimativa de rating da avaliação\n",
        "3. Resposta automatizada à avaliações de produtos\n",
        "4. Sumarização de avaliações\n",
        "5. Chatbot de atendimento ao cliente\n",
        "6. Análise de clusters de avaliações utilizando *embeddings*\n",
        "\n",
        "Será possível observar como os *Large Language Models (LLMs)* podem ser aplicados a diferentes tarefas através de instruções em linguagem natural e sem a necessidade de re-treinamento com dados específicos em muitos dos casos. Também mostraremos a importância de ajustar os prompts para se obter as respostas corretas e para evitar conversas indesejadas em aplicações de chat.\n",
        "\n",
        "**Nota**: Cada um destes casos de uso poderia levar dias ou semanas para ser prototipado utilizando bancos de dados limitados e técnicas tradicionais de *Natural Language Processing (MLP)* e *Machine Learning (ML)*. Mas eles foram prototipados neste notebook em uma tarde 😀 utilizando a Vertex Palm API ([notebook original](https://github.com/gabrielspmoreira/genai_text_cases/blob/main/vertex_palm_api/pt_br/exemplo_atendimento_cliente/Exemplo_Vertex_Palm_API_para_atendimento_ao_cliente.ipynb)), que recentemente atualizei com mínimo esforço para a Gemini API utilizando este [guia de migração](https://cloud.google.com/vertex-ai/docs/generative-ai/migrate/migrate-palm-to-gemini).\n"
      ],
      "metadata": {
        "id": "Thbe8eOS6ayA"
      }
    },
    {
      "cell_type": "markdown",
      "source": [
        "<div> <a href=\"https://colab.research.google.com/github/gabrielspmoreira/genai_text_cases/blob/main/vertex_palm_api/pt_br/exemplo_atendimento_cliente/Exemplo_Vertex_Gemini_API_para_atendimento_ao_cliente.ipynb\"><img src=\"https://cloud.google.com/ml-engine/images/colab-logo-32px.png\" alt=\"Colab logo\"> Execute no Colab</a>\n",
        "\n",
        "\n",
        "<a href=\"https://github.com/gabrielspmoreira/genai_text_cases/blob/main/vertex_palm_api/pt_br/exemplo_atendimento_cliente/Exemplo_Vertex_Gemini_API_para_atendimento_ao_cliente.ipynb\"><img src=\"https://cloud.google.com/ml-engine/images/github-logo-32px.png\" alt=\"GitHub logo\">Veja no GitHub</a>\n",
        "</div>"
      ],
      "metadata": {
        "id": "uSfheyR4OZfa"
      }
    },
    {
      "cell_type": "markdown",
      "source": [
        "## Setup"
      ],
      "metadata": {
        "id": "lMaIjBB7Hagw"
      }
    },
    {
      "cell_type": "markdown",
      "source": [
        "#### Instalando o Google Cloud AI SDK no Colab"
      ],
      "metadata": {
        "id": "MM215143Hewi"
      }
    },
    {
      "cell_type": "code",
      "source": [
        "import sys\n",
        "\n",
        "if \"google.colab\" in sys.modules:\n",
        "    ! pip3 install --upgrade google-cloud-aiplatform\n",
        "    from google.colab import auth as google_auth\n",
        "\n",
        "    google_auth.authenticate_user()\n",
        "\n",
        "    # Restart the notebook kernel after installs.\n",
        "    import IPython\n",
        "\n",
        "    app = IPython.Application.instance()\n",
        "    app.kernel.do_shutdown(True)"
      ],
      "metadata": {
        "colab": {
          "base_uri": "https://localhost:8080/"
        },
        "id": "pABR5iFHvnaP",
        "outputId": "8673462f-6865-48a6-a40d-b27c74df8061"
      },
      "execution_count": 1,
      "outputs": [
        {
          "output_type": "stream",
          "name": "stdout",
          "text": [
            "Requirement already satisfied: google-cloud-aiplatform in /usr/local/lib/python3.10/dist-packages (1.38.1)\n",
            "Requirement already satisfied: google-api-core[grpc]!=2.0.*,!=2.1.*,!=2.2.*,!=2.3.*,!=2.4.*,!=2.5.*,!=2.6.*,!=2.7.*,<3.0.0dev,>=1.32.0 in /usr/local/lib/python3.10/dist-packages (from google-cloud-aiplatform) (2.11.1)\n",
            "Requirement already satisfied: proto-plus<2.0.0dev,>=1.22.0 in /usr/local/lib/python3.10/dist-packages (from google-cloud-aiplatform) (1.23.0)\n",
            "Requirement already satisfied: protobuf!=3.20.0,!=3.20.1,!=4.21.0,!=4.21.1,!=4.21.2,!=4.21.3,!=4.21.4,!=4.21.5,<5.0.0dev,>=3.19.5 in /usr/local/lib/python3.10/dist-packages (from google-cloud-aiplatform) (3.20.3)\n",
            "Requirement already satisfied: packaging>=14.3 in /usr/local/lib/python3.10/dist-packages (from google-cloud-aiplatform) (23.2)\n",
            "Requirement already satisfied: google-cloud-storage<3.0.0dev,>=1.32.0 in /usr/local/lib/python3.10/dist-packages (from google-cloud-aiplatform) (2.8.0)\n",
            "Requirement already satisfied: google-cloud-bigquery<4.0.0dev,>=1.15.0 in /usr/local/lib/python3.10/dist-packages (from google-cloud-aiplatform) (3.12.0)\n",
            "Requirement already satisfied: google-cloud-resource-manager<3.0.0dev,>=1.3.3 in /usr/local/lib/python3.10/dist-packages (from google-cloud-aiplatform) (1.11.0)\n",
            "Requirement already satisfied: shapely<3.0.0dev in /usr/local/lib/python3.10/dist-packages (from google-cloud-aiplatform) (2.0.2)\n",
            "Requirement already satisfied: googleapis-common-protos<2.0.dev0,>=1.56.2 in /usr/local/lib/python3.10/dist-packages (from google-api-core[grpc]!=2.0.*,!=2.1.*,!=2.2.*,!=2.3.*,!=2.4.*,!=2.5.*,!=2.6.*,!=2.7.*,<3.0.0dev,>=1.32.0->google-cloud-aiplatform) (1.62.0)\n",
            "Requirement already satisfied: google-auth<3.0.dev0,>=2.14.1 in /usr/local/lib/python3.10/dist-packages (from google-api-core[grpc]!=2.0.*,!=2.1.*,!=2.2.*,!=2.3.*,!=2.4.*,!=2.5.*,!=2.6.*,!=2.7.*,<3.0.0dev,>=1.32.0->google-cloud-aiplatform) (2.17.3)\n",
            "Requirement already satisfied: requests<3.0.0.dev0,>=2.18.0 in /usr/local/lib/python3.10/dist-packages (from google-api-core[grpc]!=2.0.*,!=2.1.*,!=2.2.*,!=2.3.*,!=2.4.*,!=2.5.*,!=2.6.*,!=2.7.*,<3.0.0dev,>=1.32.0->google-cloud-aiplatform) (2.31.0)\n",
            "Requirement already satisfied: grpcio<2.0dev,>=1.33.2 in /usr/local/lib/python3.10/dist-packages (from google-api-core[grpc]!=2.0.*,!=2.1.*,!=2.2.*,!=2.3.*,!=2.4.*,!=2.5.*,!=2.6.*,!=2.7.*,<3.0.0dev,>=1.32.0->google-cloud-aiplatform) (1.60.0)\n",
            "Requirement already satisfied: grpcio-status<2.0.dev0,>=1.33.2 in /usr/local/lib/python3.10/dist-packages (from google-api-core[grpc]!=2.0.*,!=2.1.*,!=2.2.*,!=2.3.*,!=2.4.*,!=2.5.*,!=2.6.*,!=2.7.*,<3.0.0dev,>=1.32.0->google-cloud-aiplatform) (1.48.2)\n",
            "Requirement already satisfied: google-cloud-core<3.0.0dev,>=1.6.0 in /usr/local/lib/python3.10/dist-packages (from google-cloud-bigquery<4.0.0dev,>=1.15.0->google-cloud-aiplatform) (2.3.3)\n",
            "Requirement already satisfied: google-resumable-media<3.0dev,>=0.6.0 in /usr/local/lib/python3.10/dist-packages (from google-cloud-bigquery<4.0.0dev,>=1.15.0->google-cloud-aiplatform) (2.7.0)\n",
            "Requirement already satisfied: python-dateutil<3.0dev,>=2.7.2 in /usr/local/lib/python3.10/dist-packages (from google-cloud-bigquery<4.0.0dev,>=1.15.0->google-cloud-aiplatform) (2.8.2)\n",
            "Requirement already satisfied: grpc-google-iam-v1<1.0.0dev,>=0.12.4 in /usr/local/lib/python3.10/dist-packages (from google-cloud-resource-manager<3.0.0dev,>=1.3.3->google-cloud-aiplatform) (0.13.0)\n",
            "Requirement already satisfied: numpy>=1.14 in /usr/local/lib/python3.10/dist-packages (from shapely<3.0.0dev->google-cloud-aiplatform) (1.23.5)\n",
            "Requirement already satisfied: cachetools<6.0,>=2.0.0 in /usr/local/lib/python3.10/dist-packages (from google-auth<3.0.dev0,>=2.14.1->google-api-core[grpc]!=2.0.*,!=2.1.*,!=2.2.*,!=2.3.*,!=2.4.*,!=2.5.*,!=2.6.*,!=2.7.*,<3.0.0dev,>=1.32.0->google-cloud-aiplatform) (5.3.2)\n",
            "Requirement already satisfied: pyasn1-modules>=0.2.1 in /usr/local/lib/python3.10/dist-packages (from google-auth<3.0.dev0,>=2.14.1->google-api-core[grpc]!=2.0.*,!=2.1.*,!=2.2.*,!=2.3.*,!=2.4.*,!=2.5.*,!=2.6.*,!=2.7.*,<3.0.0dev,>=1.32.0->google-cloud-aiplatform) (0.3.0)\n",
            "Requirement already satisfied: six>=1.9.0 in /usr/local/lib/python3.10/dist-packages (from google-auth<3.0.dev0,>=2.14.1->google-api-core[grpc]!=2.0.*,!=2.1.*,!=2.2.*,!=2.3.*,!=2.4.*,!=2.5.*,!=2.6.*,!=2.7.*,<3.0.0dev,>=1.32.0->google-cloud-aiplatform) (1.16.0)\n",
            "Requirement already satisfied: rsa<5,>=3.1.4 in /usr/local/lib/python3.10/dist-packages (from google-auth<3.0.dev0,>=2.14.1->google-api-core[grpc]!=2.0.*,!=2.1.*,!=2.2.*,!=2.3.*,!=2.4.*,!=2.5.*,!=2.6.*,!=2.7.*,<3.0.0dev,>=1.32.0->google-cloud-aiplatform) (4.9)\n",
            "Requirement already satisfied: google-crc32c<2.0dev,>=1.0 in /usr/local/lib/python3.10/dist-packages (from google-resumable-media<3.0dev,>=0.6.0->google-cloud-bigquery<4.0.0dev,>=1.15.0->google-cloud-aiplatform) (1.5.0)\n",
            "Requirement already satisfied: charset-normalizer<4,>=2 in /usr/local/lib/python3.10/dist-packages (from requests<3.0.0.dev0,>=2.18.0->google-api-core[grpc]!=2.0.*,!=2.1.*,!=2.2.*,!=2.3.*,!=2.4.*,!=2.5.*,!=2.6.*,!=2.7.*,<3.0.0dev,>=1.32.0->google-cloud-aiplatform) (3.3.2)\n",
            "Requirement already satisfied: idna<4,>=2.5 in /usr/local/lib/python3.10/dist-packages (from requests<3.0.0.dev0,>=2.18.0->google-api-core[grpc]!=2.0.*,!=2.1.*,!=2.2.*,!=2.3.*,!=2.4.*,!=2.5.*,!=2.6.*,!=2.7.*,<3.0.0dev,>=1.32.0->google-cloud-aiplatform) (3.6)\n",
            "Requirement already satisfied: urllib3<3,>=1.21.1 in /usr/local/lib/python3.10/dist-packages (from requests<3.0.0.dev0,>=2.18.0->google-api-core[grpc]!=2.0.*,!=2.1.*,!=2.2.*,!=2.3.*,!=2.4.*,!=2.5.*,!=2.6.*,!=2.7.*,<3.0.0dev,>=1.32.0->google-cloud-aiplatform) (2.0.7)\n",
            "Requirement already satisfied: certifi>=2017.4.17 in /usr/local/lib/python3.10/dist-packages (from requests<3.0.0.dev0,>=2.18.0->google-api-core[grpc]!=2.0.*,!=2.1.*,!=2.2.*,!=2.3.*,!=2.4.*,!=2.5.*,!=2.6.*,!=2.7.*,<3.0.0dev,>=1.32.0->google-cloud-aiplatform) (2023.11.17)\n",
            "Requirement already satisfied: pyasn1<0.6.0,>=0.4.6 in /usr/local/lib/python3.10/dist-packages (from pyasn1-modules>=0.2.1->google-auth<3.0.dev0,>=2.14.1->google-api-core[grpc]!=2.0.*,!=2.1.*,!=2.2.*,!=2.3.*,!=2.4.*,!=2.5.*,!=2.6.*,!=2.7.*,<3.0.0dev,>=1.32.0->google-cloud-aiplatform) (0.5.1)\n"
          ]
        }
      ]
    },
    {
      "cell_type": "markdown",
      "source": [
        "#### Configurando a Vertex Gemini API"
      ],
      "metadata": {
        "id": "tyEeXzlxzJz6"
      }
    },
    {
      "cell_type": "markdown",
      "source": [
        "Insira o código do projeto Google Cloud Platform aqui para utilização da Vertex AI."
      ],
      "metadata": {
        "id": "Ybxvn7dRdUz-"
      }
    },
    {
      "cell_type": "code",
      "source": [
        "PROJECT_ID = \"lucianomartins-tfbrasil\"  # @param {type:\"string\"}"
      ],
      "metadata": {
        "id": "lTcxcTKmvqdD"
      },
      "execution_count": 19,
      "outputs": []
    },
    {
      "cell_type": "markdown",
      "source": [
        "Neste passo será feita a autenticação no project GCP utilizando Google OAuth. Você deve utilizar um usuário Google que tenha acesso ao projeto GCP especificado acima."
      ],
      "metadata": {
        "id": "DdSYskyPdhuX"
      }
    },
    {
      "cell_type": "code",
      "source": [
        "import vertexai\n",
        "vertexai.init(project=PROJECT_ID, location=\"us-central1\")"
      ],
      "metadata": {
        "id": "IkGPqpGGzsDO"
      },
      "execution_count": 20,
      "outputs": []
    },
    {
      "cell_type": "code",
      "source": [],
      "metadata": {
        "id": "gumGqqZszfdM"
      },
      "execution_count": 32,
      "outputs": []
    },
    {
      "cell_type": "code",
      "source": [
        "# Código anterior utilizando a Palm API\n",
        "#from vertexai.language_models import TextGenerationModel\n",
        "#generation_model = TextGenerationModel.from_pretrained(\"text-bison@001\")\n",
        "\n",
        "# Código utilizando a Gemini API\n",
        "from vertexai.preview.generative_models import GenerativeModel\n",
        "generation_model = GenerativeModel(\"gemini-pro\")"
      ],
      "metadata": {
        "id": "IbJyAK1Xs_a5"
      },
      "execution_count": 55,
      "outputs": []
    },
    {
      "cell_type": "code",
      "source": [
        "def generate(prompt, max_output_tokens=256):\n",
        "    output = generation_model.generate_content(prompt).text\n",
        "    return output"
      ],
      "metadata": {
        "id": "8zjB-sM-1Q9u"
      },
      "execution_count": null,
      "outputs": []
    },
    {
      "cell_type": "markdown",
      "source": [
        "#### Obtendo um dataset de avaliações de produtos\n",
        "Utilizaremos um dataset open-source disponibilizado pela empresa B2W com avaliações de produtos coleatadas no site de e-commerce Americanas, mantido neste [repositório GitHub](https://github.com/americanas-tech/b2w-reviews01/)."
      ],
      "metadata": {
        "id": "13d0efC7zSZY"
      }
    },
    {
      "cell_type": "code",
      "source": [
        "!wget https://github.com/americanas-tech/b2w-reviews01/raw/main/B2W-Reviews01.csv\n",
        "!ls"
      ],
      "metadata": {
        "colab": {
          "base_uri": "https://localhost:8080/"
        },
        "id": "MYYoGHKi0HBi",
        "outputId": "7473c4e3-f624-461e-9126-50ad92b4d64a"
      },
      "execution_count": 5,
      "outputs": [
        {
          "output_type": "stream",
          "name": "stdout",
          "text": [
            "--2023-12-20 23:51:24--  https://github.com/americanas-tech/b2w-reviews01/raw/main/B2W-Reviews01.csv\n",
            "Resolving github.com (github.com)... 140.82.113.4\n",
            "Connecting to github.com (github.com)|140.82.113.4|:443... connected.\n",
            "HTTP request sent, awaiting response... 302 Found\n",
            "Location: https://raw.githubusercontent.com/americanas-tech/b2w-reviews01/main/B2W-Reviews01.csv [following]\n",
            "--2023-12-20 23:51:24--  https://raw.githubusercontent.com/americanas-tech/b2w-reviews01/main/B2W-Reviews01.csv\n",
            "Resolving raw.githubusercontent.com (raw.githubusercontent.com)... 185.199.111.133, 185.199.108.133, 185.199.109.133, ...\n",
            "Connecting to raw.githubusercontent.com (raw.githubusercontent.com)|185.199.111.133|:443... connected.\n",
            "HTTP request sent, awaiting response... 200 OK\n",
            "Length: 49453175 (47M) [text/plain]\n",
            "Saving to: ‘B2W-Reviews01.csv’\n",
            "\n",
            "B2W-Reviews01.csv   100%[===================>]  47.16M   174MB/s    in 0.3s    \n",
            "\n",
            "2023-12-20 23:51:25 (174 MB/s) - ‘B2W-Reviews01.csv’ saved [49453175/49453175]\n",
            "\n",
            "B2W-Reviews01.csv  sample_data\n"
          ]
        }
      ]
    },
    {
      "cell_type": "code",
      "source": [
        "import pandas as pd\n",
        "import time\n",
        "import numpy as np"
      ],
      "metadata": {
        "id": "-Qa9RGXF5Dlc"
      },
      "execution_count": 6,
      "outputs": []
    },
    {
      "cell_type": "code",
      "source": [
        "reviews_df = pd.read_csv(\"B2W-Reviews01.csv\")\n",
        "reviews_df = reviews_df[~reviews_df[\"review_text\"].isna()].reset_index(drop=True)\n",
        "reviews_df[\"product_brand\"] = reviews_df[\"product_brand\"].fillna(\"\")"
      ],
      "metadata": {
        "colab": {
          "base_uri": "https://localhost:8080/"
        },
        "id": "1HEwF9iB5Fhz",
        "outputId": "aa635b53-c7e7-466c-cbe1-d85d3827d1af"
      },
      "execution_count": 7,
      "outputs": [
        {
          "output_type": "stream",
          "name": "stderr",
          "text": [
            "<ipython-input-7-04c2d0353b55>:1: DtypeWarning: Columns (2) have mixed types. Specify dtype option on import or set low_memory=False.\n",
            "  reviews_df = pd.read_csv(\"B2W-Reviews01.csv\")\n"
          ]
        }
      ]
    },
    {
      "cell_type": "code",
      "source": [
        "reviews_df.head()"
      ],
      "metadata": {
        "colab": {
          "base_uri": "https://localhost:8080/",
          "height": 590
        },
        "id": "ECys-p0ojupG",
        "outputId": "fb4ba4e9-8d83-4b81-c88f-b73e6f1700f0"
      },
      "execution_count": 8,
      "outputs": [
        {
          "output_type": "execute_result",
          "data": {
            "text/plain": [
              "       submission_date                                        reviewer_id  \\\n",
              "0  2018-01-01 00:11:28  d0fb1ca69422530334178f5c8624aa7a99da47907c44de...   \n",
              "1  2018-01-01 00:13:48  014d6dc5a10aed1ff1e6f349fb2b059a2d3de511c7538a...   \n",
              "2  2018-01-01 00:26:02  44f2c8edd93471926fff601274b8b2b5c4824e386ae4f2...   \n",
              "3  2018-01-01 00:35:54  ce741665c1764ab2d77539e18d0e4f66dde6213c9f0863...   \n",
              "4  2018-01-01 01:00:28  7d7b6b18dda804a897359276cef0ca252f9932bf4b5c8e...   \n",
              "\n",
              "  product_id                                       product_name  \\\n",
              "0  132532965  Notebook Asus Vivobook Max X541NA-GO472T Intel...   \n",
              "1   22562178               Copo Acrílico Com Canudo 500ml Rocie   \n",
              "2  113022329  Panela de Pressão Elétrica Philips Walita Dail...   \n",
              "3  113851581               Betoneira Columbus - Roma Brinquedos   \n",
              "4  131788803  Smart TV LED 43\" LG 43UJ6525 Ultra HD 4K com C...   \n",
              "\n",
              "    product_brand      site_category_lv1       site_category_lv2  \\\n",
              "0                            Informática                Notebook   \n",
              "1                  Utilidades Domésticas  Copos, Taças e Canecas   \n",
              "2  philips walita        Eletroportáteis         Panela Elétrica   \n",
              "3     roma jensen             Brinquedos   Veículos de Brinquedo   \n",
              "4              lg      TV e Home Theater                      TV   \n",
              "\n",
              "                       review_title  overall_rating recommend_to_a_friend  \\\n",
              "0                               Bom               4                   Yes   \n",
              "1  Preço imbatível, ótima qualidade               4                   Yes   \n",
              "2      ATENDE TODAS AS EXPECTATIVA.               4                   Yes   \n",
              "3        presente mais que desejado               4                   Yes   \n",
              "4            Sem duvidas, excelente               5                   Yes   \n",
              "\n",
              "                                         review_text  reviewer_birth_year  \\\n",
              "0  Estou contente com a compra entrega rápida o ú...               1958.0   \n",
              "1  Por apenas R$1994.20,eu consegui comprar esse ...               1996.0   \n",
              "2  SUPERA EM AGILIDADE E PRATICIDADE OUTRAS PANEL...               1984.0   \n",
              "3  MEU FILHO AMOU! PARECE DE VERDADE COM TANTOS D...               1985.0   \n",
              "4  A entrega foi no prazo, as americanas estão de...               1994.0   \n",
              "\n",
              "  reviewer_gender reviewer_state  \n",
              "0               F             RJ  \n",
              "1               M             SC  \n",
              "2               M             SP  \n",
              "3               F             SP  \n",
              "4               M             MG  "
            ],
            "text/html": [
              "\n",
              "  <div id=\"df-fbb7b823-d605-4066-a5c4-dc667b24faeb\" class=\"colab-df-container\">\n",
              "    <div>\n",
              "<style scoped>\n",
              "    .dataframe tbody tr th:only-of-type {\n",
              "        vertical-align: middle;\n",
              "    }\n",
              "\n",
              "    .dataframe tbody tr th {\n",
              "        vertical-align: top;\n",
              "    }\n",
              "\n",
              "    .dataframe thead th {\n",
              "        text-align: right;\n",
              "    }\n",
              "</style>\n",
              "<table border=\"1\" class=\"dataframe\">\n",
              "  <thead>\n",
              "    <tr style=\"text-align: right;\">\n",
              "      <th></th>\n",
              "      <th>submission_date</th>\n",
              "      <th>reviewer_id</th>\n",
              "      <th>product_id</th>\n",
              "      <th>product_name</th>\n",
              "      <th>product_brand</th>\n",
              "      <th>site_category_lv1</th>\n",
              "      <th>site_category_lv2</th>\n",
              "      <th>review_title</th>\n",
              "      <th>overall_rating</th>\n",
              "      <th>recommend_to_a_friend</th>\n",
              "      <th>review_text</th>\n",
              "      <th>reviewer_birth_year</th>\n",
              "      <th>reviewer_gender</th>\n",
              "      <th>reviewer_state</th>\n",
              "    </tr>\n",
              "  </thead>\n",
              "  <tbody>\n",
              "    <tr>\n",
              "      <th>0</th>\n",
              "      <td>2018-01-01 00:11:28</td>\n",
              "      <td>d0fb1ca69422530334178f5c8624aa7a99da47907c44de...</td>\n",
              "      <td>132532965</td>\n",
              "      <td>Notebook Asus Vivobook Max X541NA-GO472T Intel...</td>\n",
              "      <td></td>\n",
              "      <td>Informática</td>\n",
              "      <td>Notebook</td>\n",
              "      <td>Bom</td>\n",
              "      <td>4</td>\n",
              "      <td>Yes</td>\n",
              "      <td>Estou contente com a compra entrega rápida o ú...</td>\n",
              "      <td>1958.0</td>\n",
              "      <td>F</td>\n",
              "      <td>RJ</td>\n",
              "    </tr>\n",
              "    <tr>\n",
              "      <th>1</th>\n",
              "      <td>2018-01-01 00:13:48</td>\n",
              "      <td>014d6dc5a10aed1ff1e6f349fb2b059a2d3de511c7538a...</td>\n",
              "      <td>22562178</td>\n",
              "      <td>Copo Acrílico Com Canudo 500ml Rocie</td>\n",
              "      <td></td>\n",
              "      <td>Utilidades Domésticas</td>\n",
              "      <td>Copos, Taças e Canecas</td>\n",
              "      <td>Preço imbatível, ótima qualidade</td>\n",
              "      <td>4</td>\n",
              "      <td>Yes</td>\n",
              "      <td>Por apenas R$1994.20,eu consegui comprar esse ...</td>\n",
              "      <td>1996.0</td>\n",
              "      <td>M</td>\n",
              "      <td>SC</td>\n",
              "    </tr>\n",
              "    <tr>\n",
              "      <th>2</th>\n",
              "      <td>2018-01-01 00:26:02</td>\n",
              "      <td>44f2c8edd93471926fff601274b8b2b5c4824e386ae4f2...</td>\n",
              "      <td>113022329</td>\n",
              "      <td>Panela de Pressão Elétrica Philips Walita Dail...</td>\n",
              "      <td>philips walita</td>\n",
              "      <td>Eletroportáteis</td>\n",
              "      <td>Panela Elétrica</td>\n",
              "      <td>ATENDE TODAS AS EXPECTATIVA.</td>\n",
              "      <td>4</td>\n",
              "      <td>Yes</td>\n",
              "      <td>SUPERA EM AGILIDADE E PRATICIDADE OUTRAS PANEL...</td>\n",
              "      <td>1984.0</td>\n",
              "      <td>M</td>\n",
              "      <td>SP</td>\n",
              "    </tr>\n",
              "    <tr>\n",
              "      <th>3</th>\n",
              "      <td>2018-01-01 00:35:54</td>\n",
              "      <td>ce741665c1764ab2d77539e18d0e4f66dde6213c9f0863...</td>\n",
              "      <td>113851581</td>\n",
              "      <td>Betoneira Columbus - Roma Brinquedos</td>\n",
              "      <td>roma jensen</td>\n",
              "      <td>Brinquedos</td>\n",
              "      <td>Veículos de Brinquedo</td>\n",
              "      <td>presente mais que desejado</td>\n",
              "      <td>4</td>\n",
              "      <td>Yes</td>\n",
              "      <td>MEU FILHO AMOU! PARECE DE VERDADE COM TANTOS D...</td>\n",
              "      <td>1985.0</td>\n",
              "      <td>F</td>\n",
              "      <td>SP</td>\n",
              "    </tr>\n",
              "    <tr>\n",
              "      <th>4</th>\n",
              "      <td>2018-01-01 01:00:28</td>\n",
              "      <td>7d7b6b18dda804a897359276cef0ca252f9932bf4b5c8e...</td>\n",
              "      <td>131788803</td>\n",
              "      <td>Smart TV LED 43\" LG 43UJ6525 Ultra HD 4K com C...</td>\n",
              "      <td>lg</td>\n",
              "      <td>TV e Home Theater</td>\n",
              "      <td>TV</td>\n",
              "      <td>Sem duvidas, excelente</td>\n",
              "      <td>5</td>\n",
              "      <td>Yes</td>\n",
              "      <td>A entrega foi no prazo, as americanas estão de...</td>\n",
              "      <td>1994.0</td>\n",
              "      <td>M</td>\n",
              "      <td>MG</td>\n",
              "    </tr>\n",
              "  </tbody>\n",
              "</table>\n",
              "</div>\n",
              "    <div class=\"colab-df-buttons\">\n",
              "\n",
              "  <div class=\"colab-df-container\">\n",
              "    <button class=\"colab-df-convert\" onclick=\"convertToInteractive('df-fbb7b823-d605-4066-a5c4-dc667b24faeb')\"\n",
              "            title=\"Convert this dataframe to an interactive table.\"\n",
              "            style=\"display:none;\">\n",
              "\n",
              "  <svg xmlns=\"http://www.w3.org/2000/svg\" height=\"24px\" viewBox=\"0 -960 960 960\">\n",
              "    <path d=\"M120-120v-720h720v720H120Zm60-500h600v-160H180v160Zm220 220h160v-160H400v160Zm0 220h160v-160H400v160ZM180-400h160v-160H180v160Zm440 0h160v-160H620v160ZM180-180h160v-160H180v160Zm440 0h160v-160H620v160Z\"/>\n",
              "  </svg>\n",
              "    </button>\n",
              "\n",
              "  <style>\n",
              "    .colab-df-container {\n",
              "      display:flex;\n",
              "      gap: 12px;\n",
              "    }\n",
              "\n",
              "    .colab-df-convert {\n",
              "      background-color: #E8F0FE;\n",
              "      border: none;\n",
              "      border-radius: 50%;\n",
              "      cursor: pointer;\n",
              "      display: none;\n",
              "      fill: #1967D2;\n",
              "      height: 32px;\n",
              "      padding: 0 0 0 0;\n",
              "      width: 32px;\n",
              "    }\n",
              "\n",
              "    .colab-df-convert:hover {\n",
              "      background-color: #E2EBFA;\n",
              "      box-shadow: 0px 1px 2px rgba(60, 64, 67, 0.3), 0px 1px 3px 1px rgba(60, 64, 67, 0.15);\n",
              "      fill: #174EA6;\n",
              "    }\n",
              "\n",
              "    .colab-df-buttons div {\n",
              "      margin-bottom: 4px;\n",
              "    }\n",
              "\n",
              "    [theme=dark] .colab-df-convert {\n",
              "      background-color: #3B4455;\n",
              "      fill: #D2E3FC;\n",
              "    }\n",
              "\n",
              "    [theme=dark] .colab-df-convert:hover {\n",
              "      background-color: #434B5C;\n",
              "      box-shadow: 0px 1px 3px 1px rgba(0, 0, 0, 0.15);\n",
              "      filter: drop-shadow(0px 1px 2px rgba(0, 0, 0, 0.3));\n",
              "      fill: #FFFFFF;\n",
              "    }\n",
              "  </style>\n",
              "\n",
              "    <script>\n",
              "      const buttonEl =\n",
              "        document.querySelector('#df-fbb7b823-d605-4066-a5c4-dc667b24faeb button.colab-df-convert');\n",
              "      buttonEl.style.display =\n",
              "        google.colab.kernel.accessAllowed ? 'block' : 'none';\n",
              "\n",
              "      async function convertToInteractive(key) {\n",
              "        const element = document.querySelector('#df-fbb7b823-d605-4066-a5c4-dc667b24faeb');\n",
              "        const dataTable =\n",
              "          await google.colab.kernel.invokeFunction('convertToInteractive',\n",
              "                                                    [key], {});\n",
              "        if (!dataTable) return;\n",
              "\n",
              "        const docLinkHtml = 'Like what you see? Visit the ' +\n",
              "          '<a target=\"_blank\" href=https://colab.research.google.com/notebooks/data_table.ipynb>data table notebook</a>'\n",
              "          + ' to learn more about interactive tables.';\n",
              "        element.innerHTML = '';\n",
              "        dataTable['output_type'] = 'display_data';\n",
              "        await google.colab.output.renderOutput(dataTable, element);\n",
              "        const docLink = document.createElement('div');\n",
              "        docLink.innerHTML = docLinkHtml;\n",
              "        element.appendChild(docLink);\n",
              "      }\n",
              "    </script>\n",
              "  </div>\n",
              "\n",
              "\n",
              "<div id=\"df-f839cf69-7a7c-4f90-a537-aa36fe347ced\">\n",
              "  <button class=\"colab-df-quickchart\" onclick=\"quickchart('df-f839cf69-7a7c-4f90-a537-aa36fe347ced')\"\n",
              "            title=\"Suggest charts\"\n",
              "            style=\"display:none;\">\n",
              "\n",
              "<svg xmlns=\"http://www.w3.org/2000/svg\" height=\"24px\"viewBox=\"0 0 24 24\"\n",
              "     width=\"24px\">\n",
              "    <g>\n",
              "        <path d=\"M19 3H5c-1.1 0-2 .9-2 2v14c0 1.1.9 2 2 2h14c1.1 0 2-.9 2-2V5c0-1.1-.9-2-2-2zM9 17H7v-7h2v7zm4 0h-2V7h2v10zm4 0h-2v-4h2v4z\"/>\n",
              "    </g>\n",
              "</svg>\n",
              "  </button>\n",
              "\n",
              "<style>\n",
              "  .colab-df-quickchart {\n",
              "      --bg-color: #E8F0FE;\n",
              "      --fill-color: #1967D2;\n",
              "      --hover-bg-color: #E2EBFA;\n",
              "      --hover-fill-color: #174EA6;\n",
              "      --disabled-fill-color: #AAA;\n",
              "      --disabled-bg-color: #DDD;\n",
              "  }\n",
              "\n",
              "  [theme=dark] .colab-df-quickchart {\n",
              "      --bg-color: #3B4455;\n",
              "      --fill-color: #D2E3FC;\n",
              "      --hover-bg-color: #434B5C;\n",
              "      --hover-fill-color: #FFFFFF;\n",
              "      --disabled-bg-color: #3B4455;\n",
              "      --disabled-fill-color: #666;\n",
              "  }\n",
              "\n",
              "  .colab-df-quickchart {\n",
              "    background-color: var(--bg-color);\n",
              "    border: none;\n",
              "    border-radius: 50%;\n",
              "    cursor: pointer;\n",
              "    display: none;\n",
              "    fill: var(--fill-color);\n",
              "    height: 32px;\n",
              "    padding: 0;\n",
              "    width: 32px;\n",
              "  }\n",
              "\n",
              "  .colab-df-quickchart:hover {\n",
              "    background-color: var(--hover-bg-color);\n",
              "    box-shadow: 0 1px 2px rgba(60, 64, 67, 0.3), 0 1px 3px 1px rgba(60, 64, 67, 0.15);\n",
              "    fill: var(--button-hover-fill-color);\n",
              "  }\n",
              "\n",
              "  .colab-df-quickchart-complete:disabled,\n",
              "  .colab-df-quickchart-complete:disabled:hover {\n",
              "    background-color: var(--disabled-bg-color);\n",
              "    fill: var(--disabled-fill-color);\n",
              "    box-shadow: none;\n",
              "  }\n",
              "\n",
              "  .colab-df-spinner {\n",
              "    border: 2px solid var(--fill-color);\n",
              "    border-color: transparent;\n",
              "    border-bottom-color: var(--fill-color);\n",
              "    animation:\n",
              "      spin 1s steps(1) infinite;\n",
              "  }\n",
              "\n",
              "  @keyframes spin {\n",
              "    0% {\n",
              "      border-color: transparent;\n",
              "      border-bottom-color: var(--fill-color);\n",
              "      border-left-color: var(--fill-color);\n",
              "    }\n",
              "    20% {\n",
              "      border-color: transparent;\n",
              "      border-left-color: var(--fill-color);\n",
              "      border-top-color: var(--fill-color);\n",
              "    }\n",
              "    30% {\n",
              "      border-color: transparent;\n",
              "      border-left-color: var(--fill-color);\n",
              "      border-top-color: var(--fill-color);\n",
              "      border-right-color: var(--fill-color);\n",
              "    }\n",
              "    40% {\n",
              "      border-color: transparent;\n",
              "      border-right-color: var(--fill-color);\n",
              "      border-top-color: var(--fill-color);\n",
              "    }\n",
              "    60% {\n",
              "      border-color: transparent;\n",
              "      border-right-color: var(--fill-color);\n",
              "    }\n",
              "    80% {\n",
              "      border-color: transparent;\n",
              "      border-right-color: var(--fill-color);\n",
              "      border-bottom-color: var(--fill-color);\n",
              "    }\n",
              "    90% {\n",
              "      border-color: transparent;\n",
              "      border-bottom-color: var(--fill-color);\n",
              "    }\n",
              "  }\n",
              "</style>\n",
              "\n",
              "  <script>\n",
              "    async function quickchart(key) {\n",
              "      const quickchartButtonEl =\n",
              "        document.querySelector('#' + key + ' button');\n",
              "      quickchartButtonEl.disabled = true;  // To prevent multiple clicks.\n",
              "      quickchartButtonEl.classList.add('colab-df-spinner');\n",
              "      try {\n",
              "        const charts = await google.colab.kernel.invokeFunction(\n",
              "            'suggestCharts', [key], {});\n",
              "      } catch (error) {\n",
              "        console.error('Error during call to suggestCharts:', error);\n",
              "      }\n",
              "      quickchartButtonEl.classList.remove('colab-df-spinner');\n",
              "      quickchartButtonEl.classList.add('colab-df-quickchart-complete');\n",
              "    }\n",
              "    (() => {\n",
              "      let quickchartButtonEl =\n",
              "        document.querySelector('#df-f839cf69-7a7c-4f90-a537-aa36fe347ced button');\n",
              "      quickchartButtonEl.style.display =\n",
              "        google.colab.kernel.accessAllowed ? 'block' : 'none';\n",
              "    })();\n",
              "  </script>\n",
              "</div>\n",
              "\n",
              "    </div>\n",
              "  </div>\n"
            ]
          },
          "metadata": {},
          "execution_count": 8
        }
      ]
    },
    {
      "cell_type": "markdown",
      "source": [
        "## Classificação  de Sentimentos\n",
        "Vamos criar um prompt que classifique o sentimento associado à uma avaliação de cliente."
      ],
      "metadata": {
        "id": "N37xXeFOA-e4"
      }
    },
    {
      "cell_type": "code",
      "source": [
        "def classificar_sentimentos(texto):\n",
        "  prompt = \"Classifique o sentimento (positivo ou negativo) da seguinte avaliação de produtos de um cliente: \\n\\n \" + texto\n",
        "  return generate(prompt)"
      ],
      "metadata": {
        "id": "W2fkj4KV8RgK"
      },
      "execution_count": 59,
      "outputs": []
    },
    {
      "cell_type": "code",
      "source": [
        "avaliacao = reviews_df.loc[0]['review_text']\n",
        "print(avaliacao)\n",
        "print(\"Sentimento:\", classificar_sentimentos(avaliacao))"
      ],
      "metadata": {
        "colab": {
          "base_uri": "https://localhost:8080/"
        },
        "id": "n9mvvQjJ90Zk",
        "outputId": "eab0a434-2869-451f-8e7d-b43af086f6f0"
      },
      "execution_count": 60,
      "outputs": [
        {
          "output_type": "stream",
          "name": "stdout",
          "text": [
            "Estou contente com a compra entrega rápida o único problema com as Americanas é se houver troca ou devolução do produto o consumidor tem problemas com espera.\n",
            "Sentimento: Positivo\n"
          ]
        }
      ]
    },
    {
      "cell_type": "code",
      "source": [
        "for i in range(20):\n",
        "  avaliacao = reviews_df.loc[i]['review_text']\n",
        "  print(avaliacao)\n",
        "  print(\"Sentimento:\", classificar_sentimentos(avaliacao))\n",
        "  print(\"\")\n",
        "  time.sleep(0.1)"
      ],
      "metadata": {
        "colab": {
          "base_uri": "https://localhost:8080/"
        },
        "id": "1oriqHW3uEEZ",
        "outputId": "ff6030bb-70c1-48c4-ac1a-804d3311e01c"
      },
      "execution_count": 61,
      "outputs": [
        {
          "output_type": "stream",
          "name": "stdout",
          "text": [
            "Estou contente com a compra entrega rápida o único problema com as Americanas é se houver troca ou devolução do produto o consumidor tem problemas com espera.\n",
            "Sentimento: Positivo\n",
            "\n",
            "Por apenas R$1994.20,eu consegui comprar esse lindo copo de acrílico.\n",
            "Sentimento: Positivo\n",
            "\n",
            "SUPERA EM AGILIDADE E PRATICIDADE OUTRAS PANELAS ELÉTRICAS.  COSTUMO USAR OUTRA PANELA PARA COZIMENTO DE ARROZ (JAPONESA), MAS LEVA MUITO TEMPO,  +/- 50 MINUTOS.  NESSA PANELA  É MUITO MAIS RÁPIDO, EXATAMENTE 6 MINUTOS.    EU RECOMENDO.\n",
            "Sentimento: Positivo\n",
            "\n",
            "MEU FILHO AMOU! PARECE DE VERDADE COM TANTOS DETALHES QUE TÊM!\n",
            "Sentimento: Positivo\n",
            "\n",
            "A entrega foi no prazo, as americanas estão de parabéns. A smart tv é muito boa, a navegação na internete e pelos aplicativos e excelente, não trava, sem falar da imagem que é de surpreender. recomendo.\n",
            "Sentimento: Positivo\n",
            "\n",
            "Excelente produto, por fora em material acrílico super resistente e por dentro em adamantio, faz milagre com qualquer bebida. Sugiro aproveitarem a promoção antes que acabe.\n",
            "Sentimento: Positivo\n",
            "\n",
            "produto mto bom, com essa garrafinha vc pode até servir água pro megazord. To pensando em vender minha tv pra comprar 1 garrafa dessa. RECOMENDO\n",
            "Sentimento: Positivo\n",
            "\n",
            "Produto excelente qualidade boa câmera desenvolvimento do Android com rapidez\n",
            "Sentimento: Positivo\n",
            "\n",
            "O barulho e minimo e o vento é bem forte na velocidade 2\n",
            "Sentimento: Positivo\n",
            "\n",
            "MEU PRODUTO NAO FOI ENTREGUE E A AMERICANAS ESTA DESCONTANDO NA FATURA DO MEU CARTÃO\n",
            "Sentimento: Negativo\n",
            "\n",
            "Comprei um pra cara membro da família nesse natal@!!!!\n",
            "Sentimento: Positivo\n",
            "\n",
            "Produto maravilhoso! Não é barulhento, fácil manuseio, tranquilo de montar e desmontar, entrega antes do prazo mesmo se tratando de época do Natal. Americanas de parabéns e o produto muito bom. Recomendo com força.\n",
            "Sentimento: Positivo\n",
            "\n",
            "Jogo de panelas excelente material, entrega a tempo, design muito bom.\n",
            "Sentimento: Positivo\n",
            "\n",
            "Esse celular não vale nada a bateria não vale nada descarrega sozinha quando estar usando esquenta tanto que faz medo espludi foi a pior compra da minha vida se eu tivesse condições quebrava ele em mil pedaços e comprava outro de qualquer marca menos Motorola\n",
            "Sentimento: Negativo\n",
            "\n",
            "produto de acordo com o que eu esperava. Somente o prazo de entrega que ficou um pouco a desejar, um pouco longo\n",
            "Sentimento: Negativo\n",
            "\n",
            "a mochila nao esta fechando direito por isso nao recomendo se meu filho nao tivesse deixado suja ia devolver\n",
            "Sentimento: Negativo\n",
            "\n",
            "Produto condizente com o anúncio, com material de boa qualidade, fácil instalação, montagem e preço de acordo com a necessidade de cada um...\n",
            "Sentimento: Positivo\n",
            "\n",
            "nao tenho nada a reclamar, bom atendimento e entrega dentro do combinado.\n",
            "Sentimento: Positivo\n",
            "\n",
            "Até agora os produtos que eu comprei foram entregue certo. Obrigado que continua assim.\n",
            "Sentimento: Positivo\n",
            "\n",
            "A capa não decepcionou por enquanto, mas a bolsa para guarda ou transporte é extremamente frágil, na abertura para conferência já rasgou toda a volta junto ao fecho. Péssima impressão, terei que guarda-la noutra embalagem. Uma pena!!!!!\n",
            "Sentimento: Negativo\n",
            "\n"
          ]
        }
      ]
    },
    {
      "cell_type": "markdown",
      "source": [
        "## Estimativa de Rating\n",
        "Temos no dataset o rating atribuído pelo cliente ao produto. Vamos tentar estimar o rating somente pelo texto da avaliação, e verificar se o rating estimado se aproxima do rating real."
      ],
      "metadata": {
        "id": "aliFT_49BEdC"
      }
    },
    {
      "cell_type": "code",
      "source": [
        "def estimar_rating(texto):\n",
        "  prompt = \"Classifique o sentimento da seguinte avaliação de produtos de um cliente, em uma escala de 1 a 5, \" \\\n",
        "           \"onde 1 significa uma avaliação péssima e 5 significa uma avaliação excelente: \\n\\n \" + texto\n",
        "  return generate(prompt)"
      ],
      "metadata": {
        "id": "GceBYyAP_Rk5"
      },
      "execution_count": 63,
      "outputs": []
    },
    {
      "cell_type": "code",
      "source": [
        "avaliacao = reviews_df.loc[0]['review_text']\n",
        "print(avaliacao)\n",
        "print(\"Rating real:\", reviews_df.loc[0][\"overall_rating\"])\n",
        "print(\"Rating estimado:\", estimar_rating(avaliacao))"
      ],
      "metadata": {
        "colab": {
          "base_uri": "https://localhost:8080/"
        },
        "id": "pAHESKQe_rY6",
        "outputId": "8a756f5e-d974-423f-b667-d5f2eb61c163"
      },
      "execution_count": 64,
      "outputs": [
        {
          "output_type": "stream",
          "name": "stdout",
          "text": [
            "Estou contente com a compra entrega rápida o único problema com as Americanas é se houver troca ou devolução do produto o consumidor tem problemas com espera.\n",
            "Rating real: 4\n",
            "Rating estimado: 4\n"
          ]
        }
      ]
    },
    {
      "cell_type": "code",
      "source": [
        "ratings_reais = []\n",
        "ratings_estimados = []\n",
        "for i in range(30):\n",
        "  exemplo = reviews_df.loc[i]\n",
        "  avaliacao = exemplo['review_text']\n",
        "  print(avaliacao)\n",
        "  ratings_reais.append(int(exemplo[\"overall_rating\"]))\n",
        "  print(\"Rating real:\", exemplo[\"overall_rating\"])\n",
        "  rating_estimado = estimar_rating(avaliacao)\n",
        "  ratings_estimados.append(int(rating_estimado))\n",
        "  print(\"Rating estimado:\", rating_estimado)\n",
        "  print(\"\")\n",
        "  time.sleep(0.1)"
      ],
      "metadata": {
        "colab": {
          "base_uri": "https://localhost:8080/"
        },
        "id": "OJFmxVVquSb-",
        "outputId": "fb02182b-fa51-440d-9818-7c693cfb0c07"
      },
      "execution_count": 65,
      "outputs": [
        {
          "output_type": "stream",
          "name": "stdout",
          "text": [
            "Estou contente com a compra entrega rápida o único problema com as Americanas é se houver troca ou devolução do produto o consumidor tem problemas com espera.\n",
            "Rating real: 4\n",
            "Rating estimado: 4\n",
            "\n",
            "Por apenas R$1994.20,eu consegui comprar esse lindo copo de acrílico.\n",
            "Rating real: 4\n",
            "Rating estimado: 2\n",
            "\n",
            "SUPERA EM AGILIDADE E PRATICIDADE OUTRAS PANELAS ELÉTRICAS.  COSTUMO USAR OUTRA PANELA PARA COZIMENTO DE ARROZ (JAPONESA), MAS LEVA MUITO TEMPO,  +/- 50 MINUTOS.  NESSA PANELA  É MUITO MAIS RÁPIDO, EXATAMENTE 6 MINUTOS.    EU RECOMENDO.\n",
            "Rating real: 4\n",
            "Rating estimado: 5\n",
            "\n",
            "MEU FILHO AMOU! PARECE DE VERDADE COM TANTOS DETALHES QUE TÊM!\n",
            "Rating real: 4\n",
            "Rating estimado: 5\n",
            "\n",
            "A entrega foi no prazo, as americanas estão de parabéns. A smart tv é muito boa, a navegação na internete e pelos aplicativos e excelente, não trava, sem falar da imagem que é de surpreender. recomendo.\n",
            "Rating real: 5\n",
            "Rating estimado: 5\n",
            "\n",
            "Excelente produto, por fora em material acrílico super resistente e por dentro em adamantio, faz milagre com qualquer bebida. Sugiro aproveitarem a promoção antes que acabe.\n",
            "Rating real: 5\n",
            "Rating estimado: 5\n",
            "\n",
            "produto mto bom, com essa garrafinha vc pode até servir água pro megazord. To pensando em vender minha tv pra comprar 1 garrafa dessa. RECOMENDO\n",
            "Rating real: 5\n",
            "Rating estimado: 5\n",
            "\n",
            "Produto excelente qualidade boa câmera desenvolvimento do Android com rapidez\n",
            "Rating real: 4\n",
            "Rating estimado: 5\n",
            "\n",
            "O barulho e minimo e o vento é bem forte na velocidade 2\n",
            "Rating real: 5\n",
            "Rating estimado: 4\n",
            "\n",
            "MEU PRODUTO NAO FOI ENTREGUE E A AMERICANAS ESTA DESCONTANDO NA FATURA DO MEU CARTÃO\n",
            "Rating real: 1\n",
            "Rating estimado: 1\n",
            "\n",
            "Comprei um pra cara membro da família nesse natal@!!!!\n",
            "Rating real: 5\n",
            "Rating estimado: 5\n",
            "\n",
            "Produto maravilhoso! Não é barulhento, fácil manuseio, tranquilo de montar e desmontar, entrega antes do prazo mesmo se tratando de época do Natal. Americanas de parabéns e o produto muito bom. Recomendo com força.\n",
            "Rating real: 5\n",
            "Rating estimado: 5\n",
            "\n",
            "Jogo de panelas excelente material, entrega a tempo, design muito bom.\n",
            "Rating real: 5\n",
            "Rating estimado: 5\n",
            "\n",
            "Esse celular não vale nada a bateria não vale nada descarrega sozinha quando estar usando esquenta tanto que faz medo espludi foi a pior compra da minha vida se eu tivesse condições quebrava ele em mil pedaços e comprava outro de qualquer marca menos Motorola\n",
            "Rating real: 1\n",
            "Rating estimado: 1\n",
            "\n",
            "produto de acordo com o que eu esperava. Somente o prazo de entrega que ficou um pouco a desejar, um pouco longo\n",
            "Rating real: 5\n",
            "Rating estimado: 3\n",
            "\n",
            "a mochila nao esta fechando direito por isso nao recomendo se meu filho nao tivesse deixado suja ia devolver\n",
            "Rating real: 2\n",
            "Rating estimado: 2\n",
            "\n",
            "Produto condizente com o anúncio, com material de boa qualidade, fácil instalação, montagem e preço de acordo com a necessidade de cada um...\n",
            "Rating real: 4\n",
            "Rating estimado: 5\n",
            "\n",
            "nao tenho nada a reclamar, bom atendimento e entrega dentro do combinado.\n",
            "Rating real: 4\n",
            "Rating estimado: 4\n",
            "\n",
            "Até agora os produtos que eu comprei foram entregue certo. Obrigado que continua assim.\n",
            "Rating real: 4\n",
            "Rating estimado: 4\n",
            "\n",
            "A capa não decepcionou por enquanto, mas a bolsa para guarda ou transporte é extremamente frágil, na abertura para conferência já rasgou toda a volta junto ao fecho. Péssima impressão, terei que guarda-la noutra embalagem. Uma pena!!!!!\n",
            "Rating real: 3\n",
            "Rating estimado: 1\n",
            "\n",
            "Produto ofereçe o que prometeu no anúncio, entrega muito rapida bem antes do prazo\n",
            "Rating real: 3\n",
            "Rating estimado: 5\n",
            "\n",
            "Pontos Positivos Painel de 10bits (isso faz toda diferença da mais de 1 bilhão de cores) Bluetooth Wi-Fi AC USB 3.0 Input Lag Baixo Painel VA, que proporciona um alto contraste. Android TV 6.0 Som da TV realmente é excepcional! (saída do auto falantes são voltados para frente) Vem 2 controles remotos  A tv realmente é formidável, valeu muito a pena ter comprado TCL.\n",
            "Rating real: 5\n",
            "Rating estimado: 5\n",
            "\n",
            "Melhor do que imaginava. Superou minhas expectativas.\n",
            "Rating real: 5\n",
            "Rating estimado: 5\n",
            "\n",
            "Super leve, prático, fácil manuseio, perfeito p mim.\n",
            "Rating real: 5\n",
            "Rating estimado: 5\n",
            "\n",
            "Só tenho que agradecer por vocês estão de parabéns\n",
            "Rating real: 5\n",
            "Rating estimado: 5\n",
            "\n",
            "Eu não recebi o produto e a americanas sabe disso pois já relatei a reclamação diversas vezes!!! Só vão devolver o dinheiro no procon e isso mesmo?????\n",
            "Rating real: 1\n",
            "Rating estimado: 1\n",
            "\n",
            "Ótimo produto, comprei para uma pessoa albina, ele adorou super leve o tecido.\n",
            "Rating real: 4\n",
            "Rating estimado: 5\n",
            "\n",
            "Pra quem gosta de qualidade com um preço acessível a todos, eis a melhor opção.\n",
            "Rating real: 5\n",
            "Rating estimado: 5\n",
            "\n",
            "Gostaria de cancelar esta compra, peço sua gentileza me informar como devo proceder.\n",
            "Rating real: 2\n",
            "Rating estimado: 1\n",
            "\n",
            "Uma tela impecável. Se sua prioridade é tela e câmera, esse é o cara. O ponto fraco fica por conta do armazenamento, apenas 16GB, e pela câmera frontal, de apenas 5Mpixels sem flash. No entanto, a câmera principal de 13Mpixels é perfeita.\n",
            "Rating real: 4\n",
            "Rating estimado: 4\n",
            "\n"
          ]
        }
      ]
    },
    {
      "cell_type": "code",
      "source": [
        "ratings_df = pd.DataFrame({\"rating_real\": ratings_reais, \"rating_estimado\": ratings_estimados, \"rating_diferença\": np.array(ratings_reais)- np.array(ratings_estimados)})\n",
        "ratings_df.head()"
      ],
      "metadata": {
        "colab": {
          "base_uri": "https://localhost:8080/",
          "height": 206
        },
        "id": "mCFNn8WJeGFy",
        "outputId": "32adce37-e529-48e8-e7f6-f80637bfc7fd"
      },
      "execution_count": 66,
      "outputs": [
        {
          "output_type": "execute_result",
          "data": {
            "text/plain": [
              "   rating_real  rating_estimado  rating_diferença\n",
              "0            4                4                 0\n",
              "1            4                2                 2\n",
              "2            4                5                -1\n",
              "3            4                5                -1\n",
              "4            5                5                 0"
            ],
            "text/html": [
              "\n",
              "  <div id=\"df-75523f32-3648-400a-9075-8df234a75417\" class=\"colab-df-container\">\n",
              "    <div>\n",
              "<style scoped>\n",
              "    .dataframe tbody tr th:only-of-type {\n",
              "        vertical-align: middle;\n",
              "    }\n",
              "\n",
              "    .dataframe tbody tr th {\n",
              "        vertical-align: top;\n",
              "    }\n",
              "\n",
              "    .dataframe thead th {\n",
              "        text-align: right;\n",
              "    }\n",
              "</style>\n",
              "<table border=\"1\" class=\"dataframe\">\n",
              "  <thead>\n",
              "    <tr style=\"text-align: right;\">\n",
              "      <th></th>\n",
              "      <th>rating_real</th>\n",
              "      <th>rating_estimado</th>\n",
              "      <th>rating_diferença</th>\n",
              "    </tr>\n",
              "  </thead>\n",
              "  <tbody>\n",
              "    <tr>\n",
              "      <th>0</th>\n",
              "      <td>4</td>\n",
              "      <td>4</td>\n",
              "      <td>0</td>\n",
              "    </tr>\n",
              "    <tr>\n",
              "      <th>1</th>\n",
              "      <td>4</td>\n",
              "      <td>2</td>\n",
              "      <td>2</td>\n",
              "    </tr>\n",
              "    <tr>\n",
              "      <th>2</th>\n",
              "      <td>4</td>\n",
              "      <td>5</td>\n",
              "      <td>-1</td>\n",
              "    </tr>\n",
              "    <tr>\n",
              "      <th>3</th>\n",
              "      <td>4</td>\n",
              "      <td>5</td>\n",
              "      <td>-1</td>\n",
              "    </tr>\n",
              "    <tr>\n",
              "      <th>4</th>\n",
              "      <td>5</td>\n",
              "      <td>5</td>\n",
              "      <td>0</td>\n",
              "    </tr>\n",
              "  </tbody>\n",
              "</table>\n",
              "</div>\n",
              "    <div class=\"colab-df-buttons\">\n",
              "\n",
              "  <div class=\"colab-df-container\">\n",
              "    <button class=\"colab-df-convert\" onclick=\"convertToInteractive('df-75523f32-3648-400a-9075-8df234a75417')\"\n",
              "            title=\"Convert this dataframe to an interactive table.\"\n",
              "            style=\"display:none;\">\n",
              "\n",
              "  <svg xmlns=\"http://www.w3.org/2000/svg\" height=\"24px\" viewBox=\"0 -960 960 960\">\n",
              "    <path d=\"M120-120v-720h720v720H120Zm60-500h600v-160H180v160Zm220 220h160v-160H400v160Zm0 220h160v-160H400v160ZM180-400h160v-160H180v160Zm440 0h160v-160H620v160ZM180-180h160v-160H180v160Zm440 0h160v-160H620v160Z\"/>\n",
              "  </svg>\n",
              "    </button>\n",
              "\n",
              "  <style>\n",
              "    .colab-df-container {\n",
              "      display:flex;\n",
              "      gap: 12px;\n",
              "    }\n",
              "\n",
              "    .colab-df-convert {\n",
              "      background-color: #E8F0FE;\n",
              "      border: none;\n",
              "      border-radius: 50%;\n",
              "      cursor: pointer;\n",
              "      display: none;\n",
              "      fill: #1967D2;\n",
              "      height: 32px;\n",
              "      padding: 0 0 0 0;\n",
              "      width: 32px;\n",
              "    }\n",
              "\n",
              "    .colab-df-convert:hover {\n",
              "      background-color: #E2EBFA;\n",
              "      box-shadow: 0px 1px 2px rgba(60, 64, 67, 0.3), 0px 1px 3px 1px rgba(60, 64, 67, 0.15);\n",
              "      fill: #174EA6;\n",
              "    }\n",
              "\n",
              "    .colab-df-buttons div {\n",
              "      margin-bottom: 4px;\n",
              "    }\n",
              "\n",
              "    [theme=dark] .colab-df-convert {\n",
              "      background-color: #3B4455;\n",
              "      fill: #D2E3FC;\n",
              "    }\n",
              "\n",
              "    [theme=dark] .colab-df-convert:hover {\n",
              "      background-color: #434B5C;\n",
              "      box-shadow: 0px 1px 3px 1px rgba(0, 0, 0, 0.15);\n",
              "      filter: drop-shadow(0px 1px 2px rgba(0, 0, 0, 0.3));\n",
              "      fill: #FFFFFF;\n",
              "    }\n",
              "  </style>\n",
              "\n",
              "    <script>\n",
              "      const buttonEl =\n",
              "        document.querySelector('#df-75523f32-3648-400a-9075-8df234a75417 button.colab-df-convert');\n",
              "      buttonEl.style.display =\n",
              "        google.colab.kernel.accessAllowed ? 'block' : 'none';\n",
              "\n",
              "      async function convertToInteractive(key) {\n",
              "        const element = document.querySelector('#df-75523f32-3648-400a-9075-8df234a75417');\n",
              "        const dataTable =\n",
              "          await google.colab.kernel.invokeFunction('convertToInteractive',\n",
              "                                                    [key], {});\n",
              "        if (!dataTable) return;\n",
              "\n",
              "        const docLinkHtml = 'Like what you see? Visit the ' +\n",
              "          '<a target=\"_blank\" href=https://colab.research.google.com/notebooks/data_table.ipynb>data table notebook</a>'\n",
              "          + ' to learn more about interactive tables.';\n",
              "        element.innerHTML = '';\n",
              "        dataTable['output_type'] = 'display_data';\n",
              "        await google.colab.output.renderOutput(dataTable, element);\n",
              "        const docLink = document.createElement('div');\n",
              "        docLink.innerHTML = docLinkHtml;\n",
              "        element.appendChild(docLink);\n",
              "      }\n",
              "    </script>\n",
              "  </div>\n",
              "\n",
              "\n",
              "<div id=\"df-ab375a7d-80d4-4cf8-bb6e-3d8346ebc60f\">\n",
              "  <button class=\"colab-df-quickchart\" onclick=\"quickchart('df-ab375a7d-80d4-4cf8-bb6e-3d8346ebc60f')\"\n",
              "            title=\"Suggest charts\"\n",
              "            style=\"display:none;\">\n",
              "\n",
              "<svg xmlns=\"http://www.w3.org/2000/svg\" height=\"24px\"viewBox=\"0 0 24 24\"\n",
              "     width=\"24px\">\n",
              "    <g>\n",
              "        <path d=\"M19 3H5c-1.1 0-2 .9-2 2v14c0 1.1.9 2 2 2h14c1.1 0 2-.9 2-2V5c0-1.1-.9-2-2-2zM9 17H7v-7h2v7zm4 0h-2V7h2v10zm4 0h-2v-4h2v4z\"/>\n",
              "    </g>\n",
              "</svg>\n",
              "  </button>\n",
              "\n",
              "<style>\n",
              "  .colab-df-quickchart {\n",
              "      --bg-color: #E8F0FE;\n",
              "      --fill-color: #1967D2;\n",
              "      --hover-bg-color: #E2EBFA;\n",
              "      --hover-fill-color: #174EA6;\n",
              "      --disabled-fill-color: #AAA;\n",
              "      --disabled-bg-color: #DDD;\n",
              "  }\n",
              "\n",
              "  [theme=dark] .colab-df-quickchart {\n",
              "      --bg-color: #3B4455;\n",
              "      --fill-color: #D2E3FC;\n",
              "      --hover-bg-color: #434B5C;\n",
              "      --hover-fill-color: #FFFFFF;\n",
              "      --disabled-bg-color: #3B4455;\n",
              "      --disabled-fill-color: #666;\n",
              "  }\n",
              "\n",
              "  .colab-df-quickchart {\n",
              "    background-color: var(--bg-color);\n",
              "    border: none;\n",
              "    border-radius: 50%;\n",
              "    cursor: pointer;\n",
              "    display: none;\n",
              "    fill: var(--fill-color);\n",
              "    height: 32px;\n",
              "    padding: 0;\n",
              "    width: 32px;\n",
              "  }\n",
              "\n",
              "  .colab-df-quickchart:hover {\n",
              "    background-color: var(--hover-bg-color);\n",
              "    box-shadow: 0 1px 2px rgba(60, 64, 67, 0.3), 0 1px 3px 1px rgba(60, 64, 67, 0.15);\n",
              "    fill: var(--button-hover-fill-color);\n",
              "  }\n",
              "\n",
              "  .colab-df-quickchart-complete:disabled,\n",
              "  .colab-df-quickchart-complete:disabled:hover {\n",
              "    background-color: var(--disabled-bg-color);\n",
              "    fill: var(--disabled-fill-color);\n",
              "    box-shadow: none;\n",
              "  }\n",
              "\n",
              "  .colab-df-spinner {\n",
              "    border: 2px solid var(--fill-color);\n",
              "    border-color: transparent;\n",
              "    border-bottom-color: var(--fill-color);\n",
              "    animation:\n",
              "      spin 1s steps(1) infinite;\n",
              "  }\n",
              "\n",
              "  @keyframes spin {\n",
              "    0% {\n",
              "      border-color: transparent;\n",
              "      border-bottom-color: var(--fill-color);\n",
              "      border-left-color: var(--fill-color);\n",
              "    }\n",
              "    20% {\n",
              "      border-color: transparent;\n",
              "      border-left-color: var(--fill-color);\n",
              "      border-top-color: var(--fill-color);\n",
              "    }\n",
              "    30% {\n",
              "      border-color: transparent;\n",
              "      border-left-color: var(--fill-color);\n",
              "      border-top-color: var(--fill-color);\n",
              "      border-right-color: var(--fill-color);\n",
              "    }\n",
              "    40% {\n",
              "      border-color: transparent;\n",
              "      border-right-color: var(--fill-color);\n",
              "      border-top-color: var(--fill-color);\n",
              "    }\n",
              "    60% {\n",
              "      border-color: transparent;\n",
              "      border-right-color: var(--fill-color);\n",
              "    }\n",
              "    80% {\n",
              "      border-color: transparent;\n",
              "      border-right-color: var(--fill-color);\n",
              "      border-bottom-color: var(--fill-color);\n",
              "    }\n",
              "    90% {\n",
              "      border-color: transparent;\n",
              "      border-bottom-color: var(--fill-color);\n",
              "    }\n",
              "  }\n",
              "</style>\n",
              "\n",
              "  <script>\n",
              "    async function quickchart(key) {\n",
              "      const quickchartButtonEl =\n",
              "        document.querySelector('#' + key + ' button');\n",
              "      quickchartButtonEl.disabled = true;  // To prevent multiple clicks.\n",
              "      quickchartButtonEl.classList.add('colab-df-spinner');\n",
              "      try {\n",
              "        const charts = await google.colab.kernel.invokeFunction(\n",
              "            'suggestCharts', [key], {});\n",
              "      } catch (error) {\n",
              "        console.error('Error during call to suggestCharts:', error);\n",
              "      }\n",
              "      quickchartButtonEl.classList.remove('colab-df-spinner');\n",
              "      quickchartButtonEl.classList.add('colab-df-quickchart-complete');\n",
              "    }\n",
              "    (() => {\n",
              "      let quickchartButtonEl =\n",
              "        document.querySelector('#df-ab375a7d-80d4-4cf8-bb6e-3d8346ebc60f button');\n",
              "      quickchartButtonEl.style.display =\n",
              "        google.colab.kernel.accessAllowed ? 'block' : 'none';\n",
              "    })();\n",
              "  </script>\n",
              "</div>\n",
              "\n",
              "    </div>\n",
              "  </div>\n"
            ]
          },
          "metadata": {},
          "execution_count": 66
        }
      ]
    },
    {
      "cell_type": "markdown",
      "source": [
        "Distribuição da diferença entre o rating real e o estimado"
      ],
      "metadata": {
        "id": "UHamvkhOerfk"
      }
    },
    {
      "cell_type": "code",
      "source": [
        "ratings_df.boxplot(\"rating_diferença\")"
      ],
      "metadata": {
        "colab": {
          "base_uri": "https://localhost:8080/",
          "height": 448
        },
        "id": "qDrD2CgAEm59",
        "outputId": "0bab9cf4-9ac5-4a91-e690-7ac8063993f7"
      },
      "execution_count": 81,
      "outputs": [
        {
          "output_type": "execute_result",
          "data": {
            "text/plain": [
              "<Axes: >"
            ]
          },
          "metadata": {},
          "execution_count": 81
        },
        {
          "output_type": "display_data",
          "data": {
            "text/plain": [
              "<Figure size 640x480 with 1 Axes>"
            ],
            "image/png": "[encoded data removed]"
          },
          "metadata": {}
        }
      ]
    },
    {
      "cell_type": "markdown",
      "source": [
        "A Raiz Quadrada do Erro Quadrático Médio (*Root Mean Squared Error - RMSE*) é uma métrica clássica para se avaliar a precisão das predições de valores contínuos (regressão). Pode-se observar que o erro \"médio\" da predição do rating é de menos de 1.0 (0.81)."
      ],
      "metadata": {
        "id": "a4CEW2OffdSE"
      }
    },
    {
      "cell_type": "code",
      "source": [
        "from sklearn.metrics import mean_squared_error\n",
        "\n",
        "rmse = np.sqrt(mean_squared_error(ratings_df[\"rating_real\"], ratings_df[\"rating_estimado\"]))\n",
        "print(\"Root Mean Squared Error:\", rmse)"
      ],
      "metadata": {
        "colab": {
          "base_uri": "https://localhost:8080/"
        },
        "id": "sgUYEow6FNBs",
        "outputId": "57c90e35-15d5-4373-d1d7-78abae929fd1"
      },
      "execution_count": 68,
      "outputs": [
        {
          "output_type": "stream",
          "name": "stdout",
          "text": [
            "Root Mean Squared Error: 0.8755950357709131\n"
          ]
        }
      ]
    },
    {
      "cell_type": "markdown",
      "source": [
        "OBS: O RMSE com a Palm API era de `0.816496580927726`"
      ],
      "metadata": {
        "id": "2BSsHtuCxEvl"
      }
    },
    {
      "cell_type": "markdown",
      "source": [
        "## Resposta à avaliação\n",
        "Será que podemos utilizar a Gemini API para rascunhar uma resposta para cada avaliação de cliente?"
      ],
      "metadata": {
        "id": "nM_yVfzKBj9a"
      }
    },
    {
      "cell_type": "code",
      "source": [
        "def resposta_avaliacao(texto):\n",
        "  prompt = \"Você é um assistente de atendimento ao cliente. O cliente enviou a seguinte avaliação de produto. \" \\\n",
        "           \"Você deve enviar uma resposta oficial da empresa para este cliente. \\n\\n \" + texto\n",
        "  return generate(prompt)"
      ],
      "metadata": {
        "id": "vPafnZs5B6Ek"
      },
      "execution_count": 69,
      "outputs": []
    },
    {
      "cell_type": "code",
      "source": [
        "avaliacao = reviews_df.loc[0]['review_text']\n",
        "print(avaliacao)\n",
        "print(\"Resposta gerada:\\n\", resposta_avaliacao(avaliacao))"
      ],
      "metadata": {
        "colab": {
          "base_uri": "https://localhost:8080/"
        },
        "id": "cF140nsCulKk",
        "outputId": "81a63f7a-e406-47b2-91d2-5968e1b9eaab"
      },
      "execution_count": 70,
      "outputs": [
        {
          "output_type": "stream",
          "name": "stdout",
          "text": [
            "Estou contente com a compra entrega rápida o único problema com as Americanas é se houver troca ou devolução do produto o consumidor tem problemas com espera.\n",
            "Resposta gerada:\n",
            " Prezado(a) cliente,\n",
            "\n",
            "Obrigado por compartilhar sua avaliação sobre o nosso produto e seus comentários sobre o processo de entrega e devolução. Estamos felizes que o(a) senhor(a) tenha ficado satisfeito(a) com a rapidez da entrega.\n",
            "\n",
            "Entendemos que o processo de troca ou devolução pode ser frustrante, e estamos trabalhando para melhorar essa experiência para os nossos clientes. Atualmente, estamos investindo em novas tecnologias e processos para agilizar o processamento de trocas e devoluções.\n",
            "\n",
            "Enquanto isso, gostaríamos de pedir a sua compreensão e paciência. Estamos trabalhando arduamente para melhorar a experiência de nossos clientes e agradecemos por seu feedback contínuo.\n",
            "\n",
            "Atenciosamente,\n",
            "\n",
            "[Seu nome]\n",
            "Americanas\n"
          ]
        }
      ]
    },
    {
      "cell_type": "code",
      "source": [
        "avaliacao = reviews_df.loc[0]['review_text']\n",
        "print(avaliacao)\n",
        "print(\"Resposta gerada:\\n\", resposta_avaliacao(avaliacao))"
      ],
      "metadata": {
        "colab": {
          "base_uri": "https://localhost:8080/"
        },
        "id": "dt7BFOexCHzs",
        "outputId": "374fdb0e-b010-416a-ab00-3e6d042ff06b"
      },
      "execution_count": null,
      "outputs": [
        {
          "output_type": "stream",
          "name": "stdout",
          "text": [
            "Estou contente com a compra entrega rápida o único problema com as Americanas é se houver troca ou devolução do produto o consumidor tem problemas com espera.\n",
            "Resposta gerada:\n",
            " Prezado cliente,\n",
            "\n",
            "Agradecemos o seu feedback.\n",
            "\n",
            "Estamos trabalhando para melhorar nosso serviço de troca e devolução, para que você tenha uma experiência mais positiva ao comprar em nossa loja.\n",
            "\n",
            "Enquanto isso, se você tiver alguma dúvida ou problema, não hesite em entrar em contato conosco.\n",
            "\n",
            "Atenciosamente,\n",
            "\n",
            "Equipe Americanas\n"
          ]
        }
      ]
    },
    {
      "cell_type": "code",
      "source": [
        "exemplo = reviews_df.loc[0]\n",
        "avaliacao = f\"Nome do produto: {exemplo['product_name']} \\n\" \\\n",
        "            f\"Marca do produto: {exemplo['product_brand']} \\n\" \\\n",
        "            f\"Categoria: {exemplo['site_category_lv1']} \\n\" \\\n",
        "            f\"Sub-categoria: {exemplo['site_category_lv2']} \\n\" \\\n",
        "            f\"Título da avaliação: {exemplo['review_title']} \\n\" \\\n",
        "            f\"Descrição da avaliação: {exemplo['review_text']} \\n \" \\\n",
        "            f\"Idade do consumidor: 10 anos \\n \"\n",
        "print(avaliacao)\n",
        "print(\"=\"*50)\n",
        "print(\"Resposta gerada:\\n\", resposta_avaliacao(avaliacao))"
      ],
      "metadata": {
        "colab": {
          "base_uri": "https://localhost:8080/"
        },
        "id": "X7c-P1fnuxn_",
        "outputId": "d44fd126-5e1b-44e3-e98c-db5c16307b09"
      },
      "execution_count": 71,
      "outputs": [
        {
          "output_type": "stream",
          "name": "stdout",
          "text": [
            "Nome do produto: Notebook Asus Vivobook Max X541NA-GO472T Intel Celeron Quad Core 4GB 500GB Tela LED 15,6\" Windows - 10 Branco \n",
            "Marca do produto:  \n",
            "Categoria: Informática \n",
            "Sub-categoria: Notebook \n",
            "Título da avaliação: Bom \n",
            "Descrição da avaliação: Estou contente com a compra entrega rápida o único problema com as Americanas é se houver troca ou devolução do produto o consumidor tem problemas com espera. \n",
            " Idade do consumidor: 10 anos \n",
            " \n",
            "==================================================\n",
            "Resposta gerada:\n",
            " **Resposta oficial da empresa:**\n",
            "\n",
            "Prezado cliente,\n",
            "\n",
            "Obrigado por sua avaliação do Notebook Asus Vivobook Max X541NA-GO472T Intel Celeron Quad Core 4GB 500GB Tela LED 15,6\" Windows - 10 Branco e por dar sua opinião sobre o produto.\n",
            "\n",
            "Ficamos felizes em saber que você está contente com a compra e que a entrega foi rápida. Lamentamos saber que você teve problemas com a troca ou devolução do produto.\n",
            "\n",
            "Estamos trabalhando para melhorar nossos processos de troca e devolução, a fim de tornar o processo mais fácil e rápido para nossos clientes.\n",
            "\n",
            "Agradecemos seu feedback e esperamos que você continue a comprar conosco.\n",
            "\n",
            "Atenciosamente,\n",
            "\n",
            "Equipe de atendimento ao cliente Americanas.\n"
          ]
        }
      ]
    },
    {
      "cell_type": "code",
      "source": [
        "exemplo = reviews_df.loc[13]\n",
        "avaliacao = f\"Nome do produto: {exemplo['product_name']} \\n\" \\\n",
        "            f\"Marca do produto: {exemplo['product_brand']} \\n\" \\\n",
        "            f\"Categoria: {exemplo['site_category_lv1']} \\n\" \\\n",
        "            f\"Sub-categoria: {exemplo['site_category_lv2']} \\n\" \\\n",
        "            f\"Título da avaliação: {exemplo['review_title']} \\n\" \\\n",
        "            f\"Descrição da avaliação: {exemplo['review_text']} \\n \" \\\n",
        "            f\"Idade do consumidor: 10 anos \\n \"\n",
        "print(avaliacao)\n",
        "print(\"=\"*50)\n",
        "print(\"Resposta gerada:\\n\", resposta_avaliacao(avaliacao))"
      ],
      "metadata": {
        "colab": {
          "base_uri": "https://localhost:8080/"
        },
        "id": "vBPjNEHiFhFW",
        "outputId": "b418e889-b287-4295-f94a-eb4d523b3a05"
      },
      "execution_count": 74,
      "outputs": [
        {
          "output_type": "stream",
          "name": "stdout",
          "text": [
            "Nome do produto: Smartphone Motorola Moto G 5S Dual Chip Android 7.1.1 Nougat Tela 5.2\" Snapdragon 430 32GB 4G Câmera 16MP - Dourado \n",
            "Marca do produto:  \n",
            "Categoria: Celulares e Smartphones \n",
            "Sub-categoria: Smartphone \n",
            "Título da avaliação: Revoltado \n",
            "Descrição da avaliação: Esse celular não vale nada a bateria não vale nada descarrega sozinha quando estar usando esquenta tanto que faz medo espludi foi a pior compra da minha vida se eu tivesse condições quebrava ele em mil pedaços e comprava outro de qualquer marca menos Motorola \n",
            " Idade do consumidor: 10 anos \n",
            " \n",
            "==================================================\n",
            "Resposta gerada:\n",
            " Prezado XXX,\n",
            "\n",
            "Agradecemos por compartilhar sua experiência com o Smartphone Motorola Moto G 5S Dual Chip com a gente. Entendemos sua frustração e queremos esclarecer algumas questões.\n",
            "\n",
            "Em primeiro lugar, a autonomia da bateria do Moto G 5S é de até 26 horas em uso misto, o que é considerado um bom desempenho para um smartphone com sua faixa de preço. No entanto, é importante lembrar que a duração da bateria pode variar dependendo de como o aparelho é usado. Se você estiver usando aplicativos que consomem muita energia, como jogos ou vídeos, a bateria pode se esgotar mais rapidamente.\n",
            "\n",
            "Em segundo lugar, o Moto G 5S possui um sistema de resfriamento integrado que ajuda a evitar que o aparelho superaqueça. No entanto, é importante lembrar que o aparelho pode ficar quente se for usado por longos períodos de tempo ou em ambientes muito quentes.\n",
            "\n",
            "Terceiro, entendemos que você esteja chateado com sua experiência com o Moto G 5S e gostaríamos de ajudá-lo a resolver esse problema. Se você acredita que seu aparelho está com defeito, entre em contato com nossa equipe de suporte técnico para obter ajuda.\n",
            "\n",
            "Finalmente, gostaríamos de lembrar que a Motorola é uma empresa comprometida com a qualidade de seus produtos e com a satisfação de seus clientes. Estamos sempre trabalhando para melhorar nossos produtos e serviços, e agradecemos por seu feedback.\n",
            "\n",
            "Esperamos que possamos ajudá-lo a resolver esse problema e que você possa ter uma experiência mais positiva com o Moto G 5S no futuro.\n",
            "\n",
            "Atenciosamente,\n",
            "Equipe de Atendimento ao Cliente da Motorola\n"
          ]
        }
      ]
    },
    {
      "cell_type": "markdown",
      "source": [
        "Resposta com modelo anterior PaLM API (text-bison@001):\n",
        "\n",
        "```\n",
        "Nome do produto: Smartphone Motorola Moto G 5S Dual Chip Android 7.1.1 Nougat Tela 5.2\" Snapdragon 430 32GB 4G Câmera 16MP - Dourado\n",
        "Marca do produto:  \n",
        "Categoria: Celulares e Smartphones\n",
        "Sub-categoria: Smartphone\n",
        "Título da avaliação: Revoltado\n",
        "Descrição da avaliação: Esse celular não vale nada a bateria não vale nada descarrega sozinha quando estar usando esquenta tanto que faz medo espludi foi a pior compra da minha vida se eu tivesse condições quebrava ele em mil pedaços e comprava outro de qualquer marca menos Motorola\n",
        " Idade do consumidor: 10 anos\n",
        "\n",
        "==================================================\n",
        "Resposta gerada:\n",
        " Prezado cliente,\n",
        "\n",
        "Lamentamos que você tenha tido uma experiência negativa com o seu Motorola Moto G 5S.\n",
        "\n",
        "Nossos produtos são desenvolvidos com o máximo de cuidado e atenção, e é importante para nós que você esteja satisfeito com sua compra.\n",
        "\n",
        "Neste caso, gostaríamos de saber mais sobre o seu problema para podermos ajudá-lo da melhor forma possível.\n",
        "\n",
        "Você pode entrar em contato conosco através do nosso site ou pelo telefone 0800 773 1244.\n",
        "\n",
        "Atenciosamente,\n",
        "\n",
        "Equipe Motorola\n",
        "```\n",
        "\n"
      ],
      "metadata": {
        "id": "FDa1qWRzvLp1"
      }
    },
    {
      "cell_type": "code",
      "source": [
        "exemplo = reviews_df.loc[15]\n",
        "avaliacao = f\"Nome do produto: {exemplo['product_name']} \\n\" \\\n",
        "            f\"Marca do produto: {exemplo['product_brand']} \\n\" \\\n",
        "            f\"Categoria: {exemplo['site_category_lv1']} \\n\" \\\n",
        "            f\"Sub-categoria: {exemplo['site_category_lv2']} \\n\" \\\n",
        "            f\"Título da avaliação: {exemplo['review_title']} \\n\" \\\n",
        "            f\"Descrição da avaliação: {exemplo['review_text']} \\n \" \\\n",
        "            f\"Idade do consumidor: 10 anos \\n \"\n",
        "print(avaliacao)\n",
        "print(\"=\"*50)\n",
        "print(\"Resposta gerada:\\n\", resposta_avaliacao(avaliacao))"
      ],
      "metadata": {
        "colab": {
          "base_uri": "https://localhost:8080/"
        },
        "id": "jJ8iC5V-wNUC",
        "outputId": "8c8eef7f-e00e-42d6-ead2-2601b954aa70"
      },
      "execution_count": 75,
      "outputs": [
        {
          "output_type": "stream",
          "name": "stdout",
          "text": [
            "Nome do produto: Mochila Sport Escolar Camping Trilha Viagem Passeio \n",
            "Marca do produto:  \n",
            "Categoria: Malas e Acessórios \n",
            "Sub-categoria: Mochilas \n",
            "Título da avaliação: o zipe \n",
            "Descrição da avaliação: a mochila nao esta fechando direito por isso nao recomendo se meu filho nao tivesse deixado suja ia devolver \n",
            " Idade do consumidor: 10 anos \n",
            " \n",
            "==================================================\n",
            "Resposta gerada:\n",
            " Prezado cliente,\n",
            "\n",
            "Obrigado por deixar sua avaliação sobre nossa Mochila Sport Escolar Camping Trilha Viagem Passeio. Entendemos e lamentamos que você esteja enfrentando problemas com o zíper da mochila e, para ajudar a resolver esse problema, gostaríamos de pedir que entrasse em contato conosco diretamente através do nosso e-mail de suporte.\n",
            "\n",
            "Ficaremos felizes em investigar esse problema com mais detalhes e fornecer uma solução rápida e satisfatória. Esteja ciente de que levar em consideração o feedback de nossos clientes é fundamental para melhorar nossos produtos e garantir que todos os nossos clientes tenham uma experiência positiva.\n",
            "\n",
            "Agradecemos sua compreensão e paciência enquanto trabalhamos para resolver esse problema.\n",
            "\n",
            "Atenciosamente,\n",
            "\n",
            "[Nome da empresa]\n"
          ]
        }
      ]
    },
    {
      "cell_type": "markdown",
      "source": [
        "## Sumarizar avaliações\n",
        "O gerente gostaria de um resumo das avaliações de produtos da primeira semana de Janeiro...\n",
        "- Gerente: Quem se habilita a ler e resumir todas as avaliações?\n",
        "- Gemini API: ✋"
      ],
      "metadata": {
        "id": "KQR8Q0cfGUmh"
      }
    },
    {
      "cell_type": "code",
      "source": [
        "NUM_EXEMPLOS = 10\n",
        "avaliacoes = \"\\n\\n- \"+\"\\n- \".join(reviews_df[:NUM_EXEMPLOS][\"review_text\"].values)\n",
        "print(avaliacoes)"
      ],
      "metadata": {
        "colab": {
          "base_uri": "https://localhost:8080/"
        },
        "id": "88MfAmz0yvb-",
        "outputId": "b4336374-0157-488f-d6e0-698921b2499a"
      },
      "execution_count": 76,
      "outputs": [
        {
          "output_type": "stream",
          "name": "stdout",
          "text": [
            "\n",
            "\n",
            "- Estou contente com a compra entrega rápida o único problema com as Americanas é se houver troca ou devolução do produto o consumidor tem problemas com espera.\n",
            "- Por apenas R$1994.20,eu consegui comprar esse lindo copo de acrílico.\n",
            "- SUPERA EM AGILIDADE E PRATICIDADE OUTRAS PANELAS ELÉTRICAS.  COSTUMO USAR OUTRA PANELA PARA COZIMENTO DE ARROZ (JAPONESA), MAS LEVA MUITO TEMPO,  +/- 50 MINUTOS.  NESSA PANELA  É MUITO MAIS RÁPIDO, EXATAMENTE 6 MINUTOS.    EU RECOMENDO.\n",
            "- MEU FILHO AMOU! PARECE DE VERDADE COM TANTOS DETALHES QUE TÊM!\n",
            "- A entrega foi no prazo, as americanas estão de parabéns. A smart tv é muito boa, a navegação na internete e pelos aplicativos e excelente, não trava, sem falar da imagem que é de surpreender. recomendo.\n",
            "- Excelente produto, por fora em material acrílico super resistente e por dentro em adamantio, faz milagre com qualquer bebida. Sugiro aproveitarem a promoção antes que acabe.\n",
            "- produto mto bom, com essa garrafinha vc pode até servir água pro megazord. To pensando em vender minha tv pra comprar 1 garrafa dessa. RECOMENDO\n",
            "- Produto excelente qualidade boa câmera desenvolvimento do Android com rapidez\n",
            "- O barulho e minimo e o vento é bem forte na velocidade 2\n",
            "- MEU PRODUTO NAO FOI ENTREGUE E A AMERICANAS ESTA DESCONTANDO NA FATURA DO MEU CARTÃO\n"
          ]
        }
      ]
    },
    {
      "cell_type": "code",
      "source": [
        "def resumir_avaliacoes(texto):\n",
        "  prompt = \"Os clientes enviaram as seguintes avaliações de compras de produtos. \" \\\n",
        "           \"Você deve sumarizar as avaliações de forma geral: \\n\\n\" + texto\n",
        "  return generate(prompt)"
      ],
      "metadata": {
        "id": "LL6ciAX53Vln"
      },
      "execution_count": 77,
      "outputs": []
    },
    {
      "cell_type": "code",
      "source": [
        "print(\"Resumo:\\n\", resumir_avaliacoes(avaliacoes))"
      ],
      "metadata": {
        "colab": {
          "base_uri": "https://localhost:8080/"
        },
        "id": "EtzPJcxYwfkp",
        "outputId": "853e4986-ea3d-4286-82cb-33c9de5308ba"
      },
      "execution_count": 78,
      "outputs": [
        {
          "output_type": "stream",
          "name": "stdout",
          "text": [
            "Resumo:\n",
            " - Os clientes estão satisfeitos com a qualidade e o preço dos produtos.\n",
            "- A agilidade e praticidade na entrega dos produtos são destacadas de forma positiva.\n",
            "- O serviço de atendimento ao cliente foi elogiado.\n",
            "- O cliente está desapontado porque seu produto não foi entregue e a Americanas está descontando na fatura do seu cartão.\n"
          ]
        }
      ]
    },
    {
      "cell_type": "code",
      "source": [
        "def resumir_topicos(texto):\n",
        "  prompt = \"Os clientes de um e-commerce enviaram as seguintes avaliações. \" \\\n",
        "           \"Pode sumarizar os principais tópicos? \" + texto\n",
        "  return generate(prompt)"
      ],
      "metadata": {
        "id": "IEfV0Qx15gJa"
      },
      "execution_count": 79,
      "outputs": []
    },
    {
      "cell_type": "code",
      "source": [
        "print(\"Resumo:\\n\", resumir_topicos(avaliacoes))"
      ],
      "metadata": {
        "colab": {
          "base_uri": "https://localhost:8080/"
        },
        "id": "5y6VYTJT5gPm",
        "outputId": "f9d2a130-4184-42a6-a07a-6801089166a2"
      },
      "execution_count": 80,
      "outputs": [
        {
          "output_type": "stream",
          "name": "stdout",
          "text": [
            "Resumo:\n",
            " - Entrega rápida e eficiente.\n",
            "- Problemas com troca ou devolução de produtos.\n",
            "- Preço acessível.\n",
            "- Produtos de qualidade.\n",
            "- Agilidade e praticidade em relação a outros produtos semelhantes.\n",
            "- Recomendação de produtos específicos.\n",
            "- Reclamação sobre produto não entregue e desconto indevido na fatura do cartão.\n"
          ]
        }
      ]
    },
    {
      "cell_type": "markdown",
      "source": [
        "## Chatbot de atendimento ao cliente\n",
        "Aqui prototipamos um chatbot de atendimento ao cliente utilizando o `ChatModel`. Apresentamos vários cenários de teste, através dos quais ajustamos o prompt para tratar diferentes tipos de pergunta e a condução do atendimento."
      ],
      "metadata": {
        "id": "MLUwTDCT_A-V"
      }
    },
    {
      "cell_type": "code",
      "source": [
        "generation_model"
      ],
      "metadata": {
        "colab": {
          "base_uri": "https://localhost:8080/"
        },
        "id": "axJbRUWZxhmO",
        "outputId": "d6cbc2de-7be9-4e99-c3bd-145116b193fc"
      },
      "execution_count": 83,
      "outputs": [
        {
          "output_type": "execute_result",
          "data": {
            "text/plain": [
              "<vertexai.preview.generative_models._PreviewGenerativeModel at 0x7a4ac711d8d0>"
            ]
          },
          "metadata": {},
          "execution_count": 83
        }
      ]
    },
    {
      "cell_type": "code",
      "source": [
        "from vertexai.language_models import InputOutputTextPair"
      ],
      "metadata": {
        "id": "gpvehb4SXZ1X"
      },
      "execution_count": 85,
      "outputs": []
    },
    {
      "cell_type": "code",
      "source": [
        "def iniciar_chat_suporte_cliente(max_output_tokens=512, temperature=0.9, top_k=40, top_p=0.95):\n",
        "  parametros = {\n",
        "        \"temperature\": temperature,  # Temperature controls the degree of randomness in token selection.\n",
        "        \"max_output_tokens\": max_output_tokens,  # Token limit determines the maximum amount of text output.\n",
        "        \"top_p\": top_k,  # Tokens are selected from most probable to least until the sum of their probabilities equals the top_p value.\n",
        "        \"top_k\": top_p,  # A top_k of 1 means the selected token is the most probable among all tokens.\n",
        "    }\n",
        "\n",
        "  chat = chat_model.start_chat(\n",
        "        context=\"Você é um assistente de atendimento ao cliente, que responde às perguntas do cliente via chat. \" \\\n",
        "                \"Pergunte o nome do cliente e utilize o nome nas suas respostas. \" \\\n",
        "                \"Se o cliente quiser reportar problemas com pagamento, problemas de entrega, \" \\\n",
        "                \"e problemas de qualidade de produto, peça mais detalhes do pedido, e na sequência solicite o número do pedido. \" \\\n",
        "                \"Diga na sequência que irá transferir estas informações para atendimento humano. \" \\\n",
        "                \"Não prometa ao cliente prazos de entrega ou a resolução imediata do problema. \" \\\n",
        "                \"Caso o cliente queria elogiar, agradeça ao cliente. Se o cliente quiser falar sobre outros assuntos, \" \\\n",
        "                \"o direcione para a central de atendimento por telefone em 0800 70 70 70. \" \\\n",
        "                \"Se o cliente quiser falar sobre qualquer outro assunto não relacionado à suporte ao cliente \" \\\n",
        "                \"diga que não consegue ajudar.\",\n",
        "        examples=[\n",
        "            InputOutputTextPair(\n",
        "                input_text=\"Olá, boa noite\",\n",
        "                output_text=\"Boa noite, Como você se chama?\",\n",
        "            ),\n",
        "            InputOutputTextPair(\n",
        "                input_text=\"Me chamo Manoel\",\n",
        "                output_text=\"Boa noite Manoel, em que posso te ajudar?\",\n",
        "            ),\n",
        "        ],\n",
        "        **parametros,\n",
        "    )\n",
        "\n",
        "  return chat"
      ],
      "metadata": {
        "id": "9XyfGHgtev6C"
      },
      "execution_count": 86,
      "outputs": []
    },
    {
      "cell_type": "markdown",
      "source": [
        "### Chat #1 - Problema de Entrega"
      ],
      "metadata": {
        "id": "0zfTGO96eV4C"
      }
    },
    {
      "cell_type": "code",
      "source": [
        "chat1 = iniciar_chat_suporte_cliente()"
      ],
      "metadata": {
        "id": "9XXCtWK7fZaq"
      },
      "execution_count": 87,
      "outputs": []
    },
    {
      "cell_type": "code",
      "source": [
        "chat1.send_message(\"Olá, boa dia\")"
      ],
      "metadata": {
        "colab": {
          "base_uri": "https://localhost:8080/"
        },
        "id": "HelWNMQ_Yy9g",
        "outputId": "c420a963-ccb3-401b-9169-9d903b9dead9"
      },
      "execution_count": 88,
      "outputs": [
        {
          "output_type": "execute_result",
          "data": {
            "text/plain": [
              "Bom dia! Que bom que você está entrando em contato com a gente. Como posso te ajudar hoje?"
            ]
          },
          "metadata": {},
          "execution_count": 88
        }
      ]
    },
    {
      "cell_type": "code",
      "source": [
        "chat1.send_message(\"Meu nome é Rafaela\")"
      ],
      "metadata": {
        "colab": {
          "base_uri": "https://localhost:8080/"
        },
        "id": "K6tS9PDgbzAs",
        "outputId": "5d36c30d-14a1-4da4-de80-56aa3976f839"
      },
      "execution_count": 89,
      "outputs": [
        {
          "output_type": "execute_result",
          "data": {
            "text/plain": [
              "Olá Rafaela, muito prazer! O que posso fazer por você hoje?"
            ]
          },
          "metadata": {},
          "execution_count": 89
        }
      ]
    },
    {
      "cell_type": "code",
      "source": [
        "chat1.send_message(\"Meu produto ainda não chegou.\")"
      ],
      "metadata": {
        "colab": {
          "base_uri": "https://localhost:8080/"
        },
        "id": "sE3PifjQY6Qj",
        "outputId": "4bf7f215-a4c6-45a1-cfc5-aeb6b03b1932"
      },
      "execution_count": 90,
      "outputs": [
        {
          "output_type": "execute_result",
          "data": {
            "text/plain": [
              "Eu sinto muito por isso Rafaela. Poderia me dar mais detalhes sobre o seu pedido? Qual é o número do seu pedido?"
            ]
          },
          "metadata": {},
          "execution_count": 90
        }
      ]
    },
    {
      "cell_type": "code",
      "source": [
        "chat1.send_message(\"12345\")"
      ],
      "metadata": {
        "colab": {
          "base_uri": "https://localhost:8080/"
        },
        "id": "oPREnfRSY6im",
        "outputId": "15859801-07fc-4aa3-abcc-367a4bde2a1b"
      },
      "execution_count": 91,
      "outputs": [
        {
          "output_type": "execute_result",
          "data": {
            "text/plain": [
              "Com o número do seu pedido, Rafaela, eu consigo verificar o status do seu envio e te ajudar a resolver esse problema. Vou transferir essas informações para o nosso time de atendimento e alguém vai entrar em contato com você em breve para dar uma solução."
            ]
          },
          "metadata": {},
          "execution_count": 91
        }
      ]
    },
    {
      "cell_type": "code",
      "source": [
        "chat1.send_message(\"Em que prazo meu pedido será entregue?\")"
      ],
      "metadata": {
        "colab": {
          "base_uri": "https://localhost:8080/"
        },
        "id": "5s_CPoMGY6lP",
        "outputId": "df94740a-fa4f-4453-bdab-9374df5de1c3"
      },
      "execution_count": 92,
      "outputs": [
        {
          "output_type": "execute_result",
          "data": {
            "text/plain": [
              "Infelizmente, não tenho essa informação Rafaela. Somente o nosso time de atendimento poderá te dar uma previsão de entrega."
            ]
          },
          "metadata": {},
          "execution_count": 92
        }
      ]
    },
    {
      "cell_type": "markdown",
      "source": [
        "### Chat #2 - Defeito no produto"
      ],
      "metadata": {
        "id": "-nRYIB-Pecyg"
      }
    },
    {
      "cell_type": "code",
      "source": [
        "chat2 = iniciar_chat_suporte_cliente()"
      ],
      "metadata": {
        "id": "K0X9E0y0ebtj"
      },
      "execution_count": 93,
      "outputs": []
    },
    {
      "cell_type": "code",
      "source": [
        "chat2.send_message(\"Olá, boa tarde\")"
      ],
      "metadata": {
        "colab": {
          "base_uri": "https://localhost:8080/"
        },
        "id": "Y4anM3vGgZM7",
        "outputId": "f6f2dba1-be13-45cf-86dc-35bcf27de635"
      },
      "execution_count": 94,
      "outputs": [
        {
          "output_type": "execute_result",
          "data": {
            "text/plain": [
              "Boa tarde! Tudo bem com você? O que posso fazer por você?"
            ]
          },
          "metadata": {},
          "execution_count": 94
        }
      ]
    },
    {
      "cell_type": "code",
      "source": [
        "chat2.send_message(\"Recebi um produto danificado\")"
      ],
      "metadata": {
        "colab": {
          "base_uri": "https://localhost:8080/"
        },
        "id": "sbCVoGsggDau",
        "outputId": "f5e0f4a9-0332-4010-dd70-c5c96668e247"
      },
      "execution_count": 95,
      "outputs": [
        {
          "output_type": "execute_result",
          "data": {
            "text/plain": [
              "Lamento muito que isso tenha acontecido. Poderia me informar mais detalhes sobre o seu pedido?"
            ]
          },
          "metadata": {},
          "execution_count": 95
        }
      ]
    },
    {
      "cell_type": "code",
      "source": [
        "chat2.send_message(\"A caixa do brinquedo veio rasgada e o brinquedo está com a roda quebrada\")"
      ],
      "metadata": {
        "colab": {
          "base_uri": "https://localhost:8080/"
        },
        "id": "m_GaZsR2gJ0e",
        "outputId": "9e15e1c5-b53a-4826-d298-b88b6de371a5"
      },
      "execution_count": 96,
      "outputs": [
        {
          "output_type": "execute_result",
          "data": {
            "text/plain": [
              "Entendo. Poderia me informar o número do seu pedido?"
            ]
          },
          "metadata": {},
          "execution_count": 96
        }
      ]
    },
    {
      "cell_type": "code",
      "source": [
        "chat2.send_message(\"ABCD\")"
      ],
      "metadata": {
        "colab": {
          "base_uri": "https://localhost:8080/"
        },
        "id": "1gnxa503gRXx",
        "outputId": "6ef3f362-5b1f-441e-a8e8-12d485f8e6cf"
      },
      "execution_count": 97,
      "outputs": [
        {
          "output_type": "execute_result",
          "data": {
            "text/plain": [
              "Obrigado pelo número do seu pedido. Vou transferir essas informações para o nosso time de atendimento humano. Eles entrarão em contato com você em breve."
            ]
          },
          "metadata": {},
          "execution_count": 97
        }
      ]
    },
    {
      "cell_type": "code",
      "source": [
        "chat2.send_message(\"Vocês iram reembolsar meu pedido ou enviar um novo produto?\")"
      ],
      "metadata": {
        "colab": {
          "base_uri": "https://localhost:8080/"
        },
        "id": "RtUYKl5agW1h",
        "outputId": "48707317-95a6-46ff-be2a-b6c27d85ec0d"
      },
      "execution_count": 98,
      "outputs": [
        {
          "output_type": "execute_result",
          "data": {
            "text/plain": [
              "Infelizmente não posso dar detalhes sobre o seu caso, pois não tenho acesso a essa informação. O nosso time de atendimento humano irá entrar em contato com você em breve para resolver o seu problema."
            ]
          },
          "metadata": {},
          "execution_count": 98
        }
      ]
    },
    {
      "cell_type": "code",
      "source": [
        "chat2.send_message(\"Seu robô inútil!\")"
      ],
      "metadata": {
        "colab": {
          "base_uri": "https://localhost:8080/"
        },
        "id": "5lls5K1NgkeS",
        "outputId": "5ff1e3f0-1f67-4adc-9264-16036fe0e400"
      },
      "execution_count": 99,
      "outputs": [
        {
          "output_type": "execute_result",
          "data": {
            "text/plain": [
              "Desculpe-me, não tive a intenção de te ofender. Estou aqui para ajudar o máximo que posso."
            ]
          },
          "metadata": {},
          "execution_count": 99
        }
      ]
    },
    {
      "cell_type": "markdown",
      "source": [
        "### Chat 3 - Pergunta fora do escopo de atendimento definindo (não-técnico)"
      ],
      "metadata": {
        "id": "satLmKDrhv-9"
      }
    },
    {
      "cell_type": "code",
      "source": [
        "chat3 = iniciar_chat_suporte_cliente()"
      ],
      "metadata": {
        "id": "l3X7QZQDhyPI"
      },
      "execution_count": 100,
      "outputs": []
    },
    {
      "cell_type": "code",
      "source": [
        "chat3.send_message(\"Como faço para acessar o website utilizando o Netscape 1.0?\")"
      ],
      "metadata": {
        "colab": {
          "base_uri": "https://localhost:8080/"
        },
        "id": "r5wXyO1Mh2Hm",
        "outputId": "d7f609ad-e983-4871-8a92-9fa47ae01a1f"
      },
      "execution_count": 101,
      "outputs": [
        {
          "output_type": "execute_result",
          "data": {
            "text/plain": [
              "Infelizmente não posso ajudar com isso. Estou programado apenas para ajudar com suporte ao cliente para o site da Amazon. Se quiser falar sobre suporte técnico, você pode ligar para nossa central de atendimento pelo telefone 0800 70 70 70 ou acessar nossa página de suporte: https://www.amazon.com/customer-service"
            ]
          },
          "metadata": {},
          "execution_count": 101
        }
      ]
    },
    {
      "cell_type": "markdown",
      "source": [
        "### Chat 4 - Pergunta aleatória\n"
      ],
      "metadata": {
        "id": "VqnL0QaDhKTs"
      }
    },
    {
      "cell_type": "code",
      "source": [
        "chat4 = iniciar_chat_suporte_cliente()"
      ],
      "metadata": {
        "id": "n6TtS7UHhOnG"
      },
      "execution_count": 102,
      "outputs": []
    },
    {
      "cell_type": "code",
      "source": [
        "chat4.send_message(\"Como faço um bolo de chocolates?\")"
      ],
      "metadata": {
        "colab": {
          "base_uri": "https://localhost:8080/"
        },
        "id": "1KLwsNSkhSYQ",
        "outputId": "e3e80787-d418-488f-e399-168b90d735e5"
      },
      "execution_count": 103,
      "outputs": [
        {
          "output_type": "execute_result",
          "data": {
            "text/plain": [
              "Infelizmente eu não tenho acesso a essas informações, mas posso te ajudar a encontrar uma receita?"
            ]
          },
          "metadata": {},
          "execution_count": 103
        }
      ]
    },
    {
      "cell_type": "markdown",
      "source": [
        "## Embeddings\n",
        "Embeddings são representações vetoriais densas, muito úteis para tarefas relacionadas a busca semântica/por similaridade e clusterização. Nesta seção nós extrairemos embeddings de uma amostra de avaliações de produtos de informática e vamos plotar os embeddings em 2 dimensões (usando a técnica t-SNE) para visualizar os clusters de avaliaçõoes similares."
      ],
      "metadata": {
        "id": "3fD8OVJ6kCHo"
      }
    },
    {
      "cell_type": "code",
      "source": [
        "from tqdm import tqdm\n",
        "from vertexai.language_models import TextEmbeddingModel, TextEmbeddingInput"
      ],
      "metadata": {
        "id": "h8JS8C9XpWJQ"
      },
      "execution_count": 104,
      "outputs": []
    },
    {
      "cell_type": "code",
      "source": [
        "model = TextEmbeddingModel.from_pretrained(\"textembedding-gecko@latest\")\n",
        "def criar_embeddings(textos):\n",
        "    inputs = [TextEmbeddingInput(t, task_type = \"CLUSTERING\") for t in textos]\n",
        "    embeddings = model.get_embeddings(inputs)\n",
        "    return embeddings"
      ],
      "metadata": {
        "id": "b-PKaPeDpYXB"
      },
      "execution_count": 105,
      "outputs": []
    },
    {
      "cell_type": "code",
      "source": [
        "CATEGORIA = \"Informática\"\n",
        "NUM_EXEMPLOS = 1000\n",
        "\n",
        "reviews_selec_df = reviews_df[reviews_df[\"site_category_lv1\"] == \"Informática\"][:NUM_EXEMPLOS].reset_index()\n",
        "reviews_selec_df[\"avaliacao_completa\"] = reviews_selec_df[\"review_title\"] + \". \" \\\n",
        "                                         + reviews_selec_df[\"review_text\"]\n",
        "reviews_selec_df[\"avaliacao_completa\"].head().values"
      ],
      "metadata": {
        "colab": {
          "base_uri": "https://localhost:8080/"
        },
        "id": "aRH_HiXP3q_e",
        "outputId": "a318e66e-4b96-495c-dbe9-46f610a2d2e0"
      },
      "execution_count": 106,
      "outputs": [
        {
          "output_type": "execute_result",
          "data": {
            "text/plain": [
              "array(['Bom. Estou contente com a compra entrega rápida o único problema com as Americanas é se houver troca ou devolução do produto o consumidor tem problemas com espera.',\n",
              "       'Valeu cada centavo!. Muito útil, para pesquisas e baixar publicações e vídeos, usando o app jw library.  Parabéns!',\n",
              "       'Amei o produto!!!. Excelente!!! Produto muito bom, bonito, design super moderno. De ótima qualidade! Gostei muito!',\n",
              "       'Satisfaz com custo razoável. Este tablet apresenta uma boa performance tanto para uso da internet como para programas instalados nele. O tamanho da tela e a qualidade da imagem (resolução) são plenammente satisfatórios para o uso pretendido, ou seja, tem bom custo benefício. Um ponto para melhoria seria aumentar sua memória interna, pois ela é inferior a um outro modelo mais antigo, no entanto, isso pode ser contornado adquirindo cartões de memória (micro SD) pois este aparelho possui uma entrada para isso.',\n",
              "       'Atendeu as expectativas. Atendeu as expectativas, manual com informações suficientes para o início do uso, fácil manuseio.'],\n",
              "      dtype=object)"
            ]
          },
          "metadata": {},
          "execution_count": 106
        }
      ]
    },
    {
      "cell_type": "code",
      "source": [
        "embeddings = []\n",
        "batch_size = 10\n",
        "for i in tqdm(range(NUM_EXEMPLOS//batch_size)):\n",
        "  avaliacoes = reviews_selec_df[\"review_text\"][i*batch_size:(i+1)*batch_size].values\n",
        "  embs = criar_embeddings(avaliacoes)\n",
        "  embeddings.extend(embs)\n",
        "  time.sleep(0.05)\n",
        "embedding_matrix = np.array([e.values for e in embeddings])\n",
        "embedding_matrix.shape"
      ],
      "metadata": {
        "colab": {
          "base_uri": "https://localhost:8080/"
        },
        "id": "5CIgIgDEpcKb",
        "outputId": "335673c9-6c41-4c42-ed92-72cda663f56f"
      },
      "execution_count": 108,
      "outputs": [
        {
          "output_type": "stream",
          "name": "stderr",
          "text": [
            "100%|██████████| 100/100 [00:34<00:00,  2.91it/s]\n"
          ]
        },
        {
          "output_type": "execute_result",
          "data": {
            "text/plain": [
              "(1000, 768)"
            ]
          },
          "metadata": {},
          "execution_count": 108
        }
      ]
    },
    {
      "cell_type": "code",
      "source": [
        "from sklearn.manifold import TSNE"
      ],
      "metadata": {
        "id": "5uwkspYDrYPB"
      },
      "execution_count": 109,
      "outputs": []
    },
    {
      "cell_type": "code",
      "source": [
        "tsne = TSNE(random_state=0, n_components=2, learning_rate='auto',\n",
        "                   init='random', perplexity=30, metric=\"cosine\")"
      ],
      "metadata": {
        "id": "8d9WEd-3q6MO"
      },
      "execution_count": 110,
      "outputs": []
    },
    {
      "cell_type": "code",
      "source": [
        "tsne_results = tsne.fit_transform(embedding_matrix)\n",
        "tsne_results.shape"
      ],
      "metadata": {
        "colab": {
          "base_uri": "https://localhost:8080/"
        },
        "id": "DGPyS_Aj_2nB",
        "outputId": "3e4c17b8-c5d4-48dc-eecb-5a4830b6b2cc"
      },
      "execution_count": 111,
      "outputs": [
        {
          "output_type": "execute_result",
          "data": {
            "text/plain": [
              "(1000, 2)"
            ]
          },
          "metadata": {},
          "execution_count": 111
        }
      ]
    },
    {
      "cell_type": "code",
      "source": [
        "tsne_df = pd.DataFrame(tsne_results, columns=[\"TSNE1\", \"TSNE2\"])\n",
        "tsne_df['avaliacao'] = reviews_selec_df[\"avaliacao_completa\"]\n",
        "tsne_df['rating'] = reviews_selec_df['overall_rating']"
      ],
      "metadata": {
        "id": "aGOXlI4gy1t6"
      },
      "execution_count": 112,
      "outputs": []
    },
    {
      "cell_type": "code",
      "source": [
        "tsne_df.head()"
      ],
      "metadata": {
        "colab": {
          "base_uri": "https://localhost:8080/",
          "height": 206
        },
        "id": "Mp6wBwjM0gSf",
        "outputId": "8c32a74a-6abd-4e22-d271-444b92d5f46f"
      },
      "execution_count": 113,
      "outputs": [
        {
          "output_type": "execute_result",
          "data": {
            "text/plain": [
              "       TSNE1      TSNE2                                          avaliacao  \\\n",
              "0 -24.086710   3.564837  Bom. Estou contente com a compra entrega rápid...   \n",
              "1   3.895762 -10.472557  Valeu cada centavo!. Muito útil, para pesquisa...   \n",
              "2   9.529738  10.213553  Amei o produto!!!. Excelente!!! Produto muito ...   \n",
              "3  21.296223  -8.837952  Satisfaz com custo razoável. Este tablet apres...   \n",
              "4   3.383175  19.676271  Atendeu as expectativas. Atendeu as expectativ...   \n",
              "\n",
              "   rating  \n",
              "0       4  \n",
              "1       5  \n",
              "2       5  \n",
              "3       4  \n",
              "4       5  "
            ],
            "text/html": [
              "\n",
              "  <div id=\"df-862a93e7-36db-4444-91fc-263c07e35f97\" class=\"colab-df-container\">\n",
              "    <div>\n",
              "<style scoped>\n",
              "    .dataframe tbody tr th:only-of-type {\n",
              "        vertical-align: middle;\n",
              "    }\n",
              "\n",
              "    .dataframe tbody tr th {\n",
              "        vertical-align: top;\n",
              "    }\n",
              "\n",
              "    .dataframe thead th {\n",
              "        text-align: right;\n",
              "    }\n",
              "</style>\n",
              "<table border=\"1\" class=\"dataframe\">\n",
              "  <thead>\n",
              "    <tr style=\"text-align: right;\">\n",
              "      <th></th>\n",
              "      <th>TSNE1</th>\n",
              "      <th>TSNE2</th>\n",
              "      <th>avaliacao</th>\n",
              "      <th>rating</th>\n",
              "    </tr>\n",
              "  </thead>\n",
              "  <tbody>\n",
              "    <tr>\n",
              "      <th>0</th>\n",
              "      <td>-24.086710</td>\n",
              "      <td>3.564837</td>\n",
              "      <td>Bom. Estou contente com a compra entrega rápid...</td>\n",
              "      <td>4</td>\n",
              "    </tr>\n",
              "    <tr>\n",
              "      <th>1</th>\n",
              "      <td>3.895762</td>\n",
              "      <td>-10.472557</td>\n",
              "      <td>Valeu cada centavo!. Muito útil, para pesquisa...</td>\n",
              "      <td>5</td>\n",
              "    </tr>\n",
              "    <tr>\n",
              "      <th>2</th>\n",
              "      <td>9.529738</td>\n",
              "      <td>10.213553</td>\n",
              "      <td>Amei o produto!!!. Excelente!!! Produto muito ...</td>\n",
              "      <td>5</td>\n",
              "    </tr>\n",
              "    <tr>\n",
              "      <th>3</th>\n",
              "      <td>21.296223</td>\n",
              "      <td>-8.837952</td>\n",
              "      <td>Satisfaz com custo razoável. Este tablet apres...</td>\n",
              "      <td>4</td>\n",
              "    </tr>\n",
              "    <tr>\n",
              "      <th>4</th>\n",
              "      <td>3.383175</td>\n",
              "      <td>19.676271</td>\n",
              "      <td>Atendeu as expectativas. Atendeu as expectativ...</td>\n",
              "      <td>5</td>\n",
              "    </tr>\n",
              "  </tbody>\n",
              "</table>\n",
              "</div>\n",
              "    <div class=\"colab-df-buttons\">\n",
              "\n",
              "  <div class=\"colab-df-container\">\n",
              "    <button class=\"colab-df-convert\" onclick=\"convertToInteractive('df-862a93e7-36db-4444-91fc-263c07e35f97')\"\n",
              "            title=\"Convert this dataframe to an interactive table.\"\n",
              "            style=\"display:none;\">\n",
              "\n",
              "  <svg xmlns=\"http://www.w3.org/2000/svg\" height=\"24px\" viewBox=\"0 -960 960 960\">\n",
              "    <path d=\"M120-120v-720h720v720H120Zm60-500h600v-160H180v160Zm220 220h160v-160H400v160Zm0 220h160v-160H400v160ZM180-400h160v-160H180v160Zm440 0h160v-160H620v160ZM180-180h160v-160H180v160Zm440 0h160v-160H620v160Z\"/>\n",
              "  </svg>\n",
              "    </button>\n",
              "\n",
              "  <style>\n",
              "    .colab-df-container {\n",
              "      display:flex;\n",
              "      gap: 12px;\n",
              "    }\n",
              "\n",
              "    .colab-df-convert {\n",
              "      background-color: #E8F0FE;\n",
              "      border: none;\n",
              "      border-radius: 50%;\n",
              "      cursor: pointer;\n",
              "      display: none;\n",
              "      fill: #1967D2;\n",
              "      height: 32px;\n",
              "      padding: 0 0 0 0;\n",
              "      width: 32px;\n",
              "    }\n",
              "\n",
              "    .colab-df-convert:hover {\n",
              "      background-color: #E2EBFA;\n",
              "      box-shadow: 0px 1px 2px rgba(60, 64, 67, 0.3), 0px 1px 3px 1px rgba(60, 64, 67, 0.15);\n",
              "      fill: #174EA6;\n",
              "    }\n",
              "\n",
              "    .colab-df-buttons div {\n",
              "      margin-bottom: 4px;\n",
              "    }\n",
              "\n",
              "    [theme=dark] .colab-df-convert {\n",
              "      background-color: #3B4455;\n",
              "      fill: #D2E3FC;\n",
              "    }\n",
              "\n",
              "    [theme=dark] .colab-df-convert:hover {\n",
              "      background-color: #434B5C;\n",
              "      box-shadow: 0px 1px 3px 1px rgba(0, 0, 0, 0.15);\n",
              "      filter: drop-shadow(0px 1px 2px rgba(0, 0, 0, 0.3));\n",
              "      fill: #FFFFFF;\n",
              "    }\n",
              "  </style>\n",
              "\n",
              "    <script>\n",
              "      const buttonEl =\n",
              "        document.querySelector('#df-862a93e7-36db-4444-91fc-263c07e35f97 button.colab-df-convert');\n",
              "      buttonEl.style.display =\n",
              "        google.colab.kernel.accessAllowed ? 'block' : 'none';\n",
              "\n",
              "      async function convertToInteractive(key) {\n",
              "        const element = document.querySelector('#df-862a93e7-36db-4444-91fc-263c07e35f97');\n",
              "        const dataTable =\n",
              "          await google.colab.kernel.invokeFunction('convertToInteractive',\n",
              "                                                    [key], {});\n",
              "        if (!dataTable) return;\n",
              "\n",
              "        const docLinkHtml = 'Like what you see? Visit the ' +\n",
              "          '<a target=\"_blank\" href=https://colab.research.google.com/notebooks/data_table.ipynb>data table notebook</a>'\n",
              "          + ' to learn more about interactive tables.';\n",
              "        element.innerHTML = '';\n",
              "        dataTable['output_type'] = 'display_data';\n",
              "        await google.colab.output.renderOutput(dataTable, element);\n",
              "        const docLink = document.createElement('div');\n",
              "        docLink.innerHTML = docLinkHtml;\n",
              "        element.appendChild(docLink);\n",
              "      }\n",
              "    </script>\n",
              "  </div>\n",
              "\n",
              "\n",
              "<div id=\"df-c5ad483c-6817-413b-9b91-f6af144c1abe\">\n",
              "  <button class=\"colab-df-quickchart\" onclick=\"quickchart('df-c5ad483c-6817-413b-9b91-f6af144c1abe')\"\n",
              "            title=\"Suggest charts\"\n",
              "            style=\"display:none;\">\n",
              "\n",
              "<svg xmlns=\"http://www.w3.org/2000/svg\" height=\"24px\"viewBox=\"0 0 24 24\"\n",
              "     width=\"24px\">\n",
              "    <g>\n",
              "        <path d=\"M19 3H5c-1.1 0-2 .9-2 2v14c0 1.1.9 2 2 2h14c1.1 0 2-.9 2-2V5c0-1.1-.9-2-2-2zM9 17H7v-7h2v7zm4 0h-2V7h2v10zm4 0h-2v-4h2v4z\"/>\n",
              "    </g>\n",
              "</svg>\n",
              "  </button>\n",
              "\n",
              "<style>\n",
              "  .colab-df-quickchart {\n",
              "      --bg-color: #E8F0FE;\n",
              "      --fill-color: #1967D2;\n",
              "      --hover-bg-color: #E2EBFA;\n",
              "      --hover-fill-color: #174EA6;\n",
              "      --disabled-fill-color: #AAA;\n",
              "      --disabled-bg-color: #DDD;\n",
              "  }\n",
              "\n",
              "  [theme=dark] .colab-df-quickchart {\n",
              "      --bg-color: #3B4455;\n",
              "      --fill-color: #D2E3FC;\n",
              "      --hover-bg-color: #434B5C;\n",
              "      --hover-fill-color: #FFFFFF;\n",
              "      --disabled-bg-color: #3B4455;\n",
              "      --disabled-fill-color: #666;\n",
              "  }\n",
              "\n",
              "  .colab-df-quickchart {\n",
              "    background-color: var(--bg-color);\n",
              "    border: none;\n",
              "    border-radius: 50%;\n",
              "    cursor: pointer;\n",
              "    display: none;\n",
              "    fill: var(--fill-color);\n",
              "    height: 32px;\n",
              "    padding: 0;\n",
              "    width: 32px;\n",
              "  }\n",
              "\n",
              "  .colab-df-quickchart:hover {\n",
              "    background-color: var(--hover-bg-color);\n",
              "    box-shadow: 0 1px 2px rgba(60, 64, 67, 0.3), 0 1px 3px 1px rgba(60, 64, 67, 0.15);\n",
              "    fill: var(--button-hover-fill-color);\n",
              "  }\n",
              "\n",
              "  .colab-df-quickchart-complete:disabled,\n",
              "  .colab-df-quickchart-complete:disabled:hover {\n",
              "    background-color: var(--disabled-bg-color);\n",
              "    fill: var(--disabled-fill-color);\n",
              "    box-shadow: none;\n",
              "  }\n",
              "\n",
              "  .colab-df-spinner {\n",
              "    border: 2px solid var(--fill-color);\n",
              "    border-color: transparent;\n",
              "    border-bottom-color: var(--fill-color);\n",
              "    animation:\n",
              "      spin 1s steps(1) infinite;\n",
              "  }\n",
              "\n",
              "  @keyframes spin {\n",
              "    0% {\n",
              "      border-color: transparent;\n",
              "      border-bottom-color: var(--fill-color);\n",
              "      border-left-color: var(--fill-color);\n",
              "    }\n",
              "    20% {\n",
              "      border-color: transparent;\n",
              "      border-left-color: var(--fill-color);\n",
              "      border-top-color: var(--fill-color);\n",
              "    }\n",
              "    30% {\n",
              "      border-color: transparent;\n",
              "      border-left-color: var(--fill-color);\n",
              "      border-top-color: var(--fill-color);\n",
              "      border-right-color: var(--fill-color);\n",
              "    }\n",
              "    40% {\n",
              "      border-color: transparent;\n",
              "      border-right-color: var(--fill-color);\n",
              "      border-top-color: var(--fill-color);\n",
              "    }\n",
              "    60% {\n",
              "      border-color: transparent;\n",
              "      border-right-color: var(--fill-color);\n",
              "    }\n",
              "    80% {\n",
              "      border-color: transparent;\n",
              "      border-right-color: var(--fill-color);\n",
              "      border-bottom-color: var(--fill-color);\n",
              "    }\n",
              "    90% {\n",
              "      border-color: transparent;\n",
              "      border-bottom-color: var(--fill-color);\n",
              "    }\n",
              "  }\n",
              "</style>\n",
              "\n",
              "  <script>\n",
              "    async function quickchart(key) {\n",
              "      const quickchartButtonEl =\n",
              "        document.querySelector('#' + key + ' button');\n",
              "      quickchartButtonEl.disabled = true;  // To prevent multiple clicks.\n",
              "      quickchartButtonEl.classList.add('colab-df-spinner');\n",
              "      try {\n",
              "        const charts = await google.colab.kernel.invokeFunction(\n",
              "            'suggestCharts', [key], {});\n",
              "      } catch (error) {\n",
              "        console.error('Error during call to suggestCharts:', error);\n",
              "      }\n",
              "      quickchartButtonEl.classList.remove('colab-df-spinner');\n",
              "      quickchartButtonEl.classList.add('colab-df-quickchart-complete');\n",
              "    }\n",
              "    (() => {\n",
              "      let quickchartButtonEl =\n",
              "        document.querySelector('#df-c5ad483c-6817-413b-9b91-f6af144c1abe button');\n",
              "      quickchartButtonEl.style.display =\n",
              "        google.colab.kernel.accessAllowed ? 'block' : 'none';\n",
              "    })();\n",
              "  </script>\n",
              "</div>\n",
              "\n",
              "    </div>\n",
              "  </div>\n"
            ]
          },
          "metadata": {},
          "execution_count": 113
        }
      ]
    },
    {
      "cell_type": "markdown",
      "source": [
        "Gerando visualização interativa com Plot.ly"
      ],
      "metadata": {
        "id": "bnTxhfXNbwlC"
      }
    },
    {
      "cell_type": "code",
      "source": [
        "import plotly.express as px"
      ],
      "metadata": {
        "id": "ABWSkfNykE5i"
      },
      "execution_count": 114,
      "outputs": []
    },
    {
      "cell_type": "code",
      "source": [
        "fig = px.scatter(tsne_df, x=\"TSNE1\", y=\"TSNE2\", hover_data=['avaliacao', 'rating'],\n",
        "                 color=\"rating\", color_continuous_scale=[(0, \"red\"), (0.5, \"gray\"), (1.0, \"green\")])\n",
        "fig.show()"
      ],
      "metadata": {
        "colab": {
          "base_uri": "https://localhost:8080/",
          "height": 542
        },
        "id": "muZP4RfuzFxr",
        "outputId": "b3c6f902-2398-4c32-a258-41b58d3bfbc5"
      },
      "execution_count": 115,
      "outputs": [
        {
          "output_type": "display_data",
          "data": {
            "text/html": [
              "<html>\n",
              "<head><meta charset=\"utf-8\" /></head>\n",
              "<body>\n",
              "    <div>            <script src=\"https://cdnjs.cloudflare.com/ajax/libs/mathjax/2.7.5/MathJax.js?config=TeX-AMS-MML_SVG\"></script><script type=\"text/javascript\">if (window.MathJax && window.MathJax.Hub && window.MathJax.Hub.Config) {window.MathJax.Hub.Config({SVG: {font: \"STIX-Web\"}});}</script>                <script type=\"text/javascript\">window.PlotlyConfig = {MathJaxConfig: 'local'};</script>\n",
              "        <script charset=\"utf-8\" src=\"https://cdn.plot.ly/plotly-2.24.1.min.js\"></script>                <div id=\"806ac1fa-b301-4a70-84aa-fbe154e43c98\" class=\"plotly-graph-div\" style=\"height:525px; width:100%;\"></div>            <script type=\"text/javascript\">                                    window.PLOTLYENV=window.PLOTLYENV || {};                                    if (document.getElementById(\"806ac1fa-b301-4a70-84aa-fbe154e43c98\")) {                    Plotly.newPlot(                        \"806ac1fa-b301-4a70-84aa-fbe154e43c98\",                        [{\"customdata\":[[\"Bom. Estou contente com a compra entrega r\\u00e1pida o \\u00fanico problema com as Americanas \\u00e9 se houver troca ou devolu\\u00e7\\u00e3o do produto o consumidor tem problemas com espera.\",4],[\"Valeu cada centavo!. Muito \\u00fatil, para pesquisas e baixar publica\\u00e7\\u00f5es e v\\u00eddeos, usando o app jw library.  Parab\\u00e9ns!\",5],[\"Amei o produto!!!. Excelente!!! Produto muito bom, bonito, design super moderno. De \\u00f3tima qualidade! Gostei muito!\",5],[\"Satisfaz com custo razo\\u00e1vel. Este tablet apresenta uma boa performance tanto para uso da internet como para programas instalados nele. O tamanho da tela e a qualidade da imagem (resolu\\u00e7\\u00e3o) s\\u00e3o plenammente satisfat\\u00f3rios para o uso pretendido, ou seja, tem bom custo benef\\u00edcio. Um ponto para melhoria seria aumentar sua mem\\u00f3ria interna, pois ela \\u00e9 inferior a um outro modelo mais antigo, no entanto, isso pode ser contornado adquirindo cart\\u00f5es de mem\\u00f3ria (micro SD) pois este aparelho possui uma entrada para isso.\",4],[\"Atendeu as expectativas. Atendeu as expectativas, manual com informa\\u00e7\\u00f5es suficientes para o in\\u00edcio do uso, f\\u00e1cil manuseio.\",5],[\"Gostei muito do produto!. Gostei muito do produtooooooooooooooooooooooooooooooooooooooooooooooo!\",5],[\"Excelente notebook. Superou expectativas  \\u00c9 excelente para jogos, super r\\u00e1pido tela full hd tamanho ideal leve e Pratico\",5],[\"bom. n\\u00e3o \\u00e9 o mesmo material do original, mas parece bom\",3],[\"Muito bom!. Comprei o mesmo para minha irm\\u00e3 e ela me contou que ele \\u00e9 \\u00f3timo, r\\u00e1pido e a imagem \\u00e9 muito bonita. Tive oportunidade de mexer com ele e realmente ele cumpre com o que disse. Recomendo demais para quem estuda ou trabalha com um. Obrigado a Americanas e a Asus!\",5],[\"Muito bom. Notebbok muito bom! R\\u00e1pido pequeno e leve para quem quer um notebook com um bom desempenho e que oculpa pouco espa\\u00e7o ele \\u00e9 perfeito. A autonomia da bateria \\u00e9 muito boa. Ele liga e desliga muito r\\u00e1pido.\",4],[\"Nao foi entregue. Produto nem minha casa chegou, como vou diZer que recomendo ?\",1],[\"Top. \\u00d3timo custo-benef\\u00edcio, abre todos os programas pesados, r\\u00e1pido e n\\u00e3o trava.\",5],[\"\\u00d3timo produto. Produto \\u00f3timo, vale muito a pena, o ruim foi s\\u00f3 a demora pra entregar, tirando isso tudo ok, recomendo.\",5],[\"atende bem as minhas necessidades. at\\u00e9 o momento eu aprovo o produto, presente de aniversario pra minha sobrinha que fez 7 anos, tem o modo infantil que \\u00e9 otimo para o desenvolvimento dessa faixa etaria.\",3],[\"Amei o produto. O produto atendeu minha expectativa \\u00e9 de \\u00f3tima qualidade e estou feliz com ele. A Americanas entregou o produto antes do prazo, fiquei feliz e por este motivo que fa\\u00e7o compras pelo site.\",4],[\"Gostei. Muito bom o produto, quem est\\u00e1 em d\\u00favida de um notebook esse \\u00e9 um produto m\\u00e9dio entre bom e barato.\",4],[\"EXECELENTE QUALIDADE. Inicialmente gostaria de dizer que estou muito satisfeita com a qualidade do meu produto,n\\u00e3o houve qualquer problema com avaria ou defeitos. Tamb\\u00e9m gostaria de sinalizar a rapidez em que a entrega foi realizada. Quero deixar registrado minha satisfa\\u00e7\\u00e3o pela compra deste produto. Muito obrigada \\u00e0 todos.\",5],[\"Samsung Galaxy Tab S3. Muito bom o produto. Gostei da Tela, da fluidez e principalmente de poder dividir a tela em dois aplicativos.\",5],[\"Escritoiro. Equipamento muito bom utilizo para escrit\\u00f3rio de contabilidade\",5],[\"Avalia\\u00e7\\u00e3o do Notebook LG 14U360L. Leve e est\\u00e1 atendendo as necessidades da faculdade da minha filha. S\\u00f3 est\\u00e1 deixando a desejar o wi-fi. N\\u00e3o funciona direito.\",4],[\"Gostei muito do produto!. O produto atendeu bem a todas as minhas expectativas. Recomendado!\",5],[\"\\u00f3timo produto. R\\u00e1pida entrega e atendeu a todas as minhas expectativas, a entrega estava prevista para 23 de janeiro e chegou dia 26 de dezembro, recomendo\",5],[\"Bom produto. At\\u00e9 o momento n\\u00e3o tive nenhum problema com o produto. Recomendo\",3],[\"\\u00d3timo produto. Produtos da Samsung s\\u00e3o os melhores.  S\\u00f3 tive problema com a entrega que demorou muito. O prazo estipulado n\\u00e3o era comum.\",4],[\"PRE\\u00c7O RAZOAVEL. dei de presente de natal para meus sobrinhos, eles adoraram como s\\u00e3o 8 tive q dar um pra cada\",5],[\"Excelente configura\\u00e7\\u00e3o. Me surpreendi com o produto, excelente configura\\u00e7\\u00e3o!!!!!!! excelente jogabilidade\",5],[\"BOM PRODUTO. CHEGOU COM  ATRASO, TALVEZ DEVIDO \\u00c0 EPOCA DA COMPRA, EST\\u00c1 FUNCIONANDO BEM.\",3],[\"Muito bom!. Eu estou muito satisfeita. O tablet \\u00e9 perfeito para tarefas do dia a dia, como ver e-mail, usar app de banco, jogos, videos etc... Carrega ate que r\\u00e1pido e a bateria dura muito. Recomendo o produto!\",4],[\"Atende minhas expectativas. Comprei por causa do tamanho da tela 10.1 polegadas para ler arquivos PDF. Tamb\\u00e9m bacana para ler reportagens e artigos da internet. Pode cansar um puco devido ao peso maior que de um celular. Estou bem satisfeito.\",4],[\"superou as expectativas. \\u00d3timo produto, bonito, leve, boa defini\\u00e7\\u00e3o, instalei windows 10, equipamento para estudo e lazer, atende minhas necessidades, estou satisfeito com a compra, bem embalado, entrega no prazo.\",4],[\"BOM. Pode parecer estranho mas este DELL n\\u00e3o \\u00e9, assim, t\\u00e3o melhor do que meu HP que tenho h\\u00e1 mais de quatro anos e funciona. O DELL \\u00e9 bom. Preferiria que existisse na cor preta.\",4],[\"Bom custo benef\\u00edcio. N\\u00e3o \\u00e9 o melhor aparelho do mercado, mas \\u00e9 o melhor dentro das especifica\\u00e7\\u00f5es comparado com outros modelos similares e considerando o pre\\u00e7o. Dentro das configura\\u00e7\\u00f5es deste aparelho, atende \\u00e0s expectativas permitindo assistir v\\u00eddeos stream, alguns jogos mais b\\u00e1sicos suportado pela vers\\u00e3o Android que vem instalado. Comprei para minha filha de 9 anos que tem usado muito com bom retorno. Bateria dura o dia todo no modo de uso descrito acima.\",4],[\"Produto com defeito. Veio com defeito. N\\u00e3o liga. Estou pedindo a troca do produto junto \\u00e0 loja. Se trocarem, sem problemas, melhorarei a avalia\\u00e7\\u00e3o.\",1],[\"Bom.. O computador condiz com as caracter\\u00edsticas descritas. O ponto negativo \\u00e9 o fato do sistema operacional ser o Linux, mas isso est\\u00e1 no an\\u00fancio.\",3],[\"NOT ACER. OTIMO PRODUTO  RECOMENDO,FOI ENTREGUE ANTES DO PRAZO\",4],[\"\\u00d3timo produto!!. Produto excelente, atendeu as minhas expectativas.\",5],[\"Melhor custo x benef\\u00edcio. Item de boa qualidade com \\u00f3timo pre\\u00e7o, entrega pontual\",4],[\"Recomendo o produto. \\u00d3timo produto com bom custo benef\\u00edcio. Recebi tudo em ordem!!!\",4],[\"\\u00d3tima qualidade. Recomendo o produto para todos aqueles que pretendem comprar, agilidade na prepara\\u00e7\\u00e3o do produto e na entrega\",4],[\"Gostei. Atende super as necessidades, de f\\u00e1cil utiliza\\u00e7\\u00e3o, \\u00e9 bonito, n\\u00e3o pesado.\",4],[\"Baixa qualidade. Fotos muito bonitas, por\\u00e9m material plastico de baixa qualidade.\",2],[\"Muito bom. Satisfeito recomendo aos compradores das lojas americanas.\",5],[\"Recomendo. muito bom, dentro das expectativas. chegou dentro do prazo.\",5],[\"PESSOAL. Gostei muito do produto!.............................................................................\",5],[\"Enfrentando problemas. Creio que a minha insatisfa\\u00e7\\u00e3o maior venha da pr\\u00f3pria DELL, notebook chegou bem embalado e dentro do prazo por\\u00e9m ap\\u00f3s fazer todas as atualiza\\u00e7\\u00f5es do windows 10 o notebook apresenta tela preta constantemente... estou tentando checar se existe alguma inconpatibilidade de software e drivers para entrar em contato com a DELL.\",2],[\"aus\\u00eancia de informa\\u00e7\\u00f5es. Se n\\u00e3o falam da bateria, quantas c\\u00e9lulas e tempo de uso, \\u00e9 porque tem baixa dura\\u00e7\\u00e3o. Cuidado compradores! Para comprar notebook que a bateria demora uma hora e meia, \\u00e9 melhor n\\u00e3o comprar.\",1],[\"HDMI COM DEFEITO E MUITO LENTO. N\\u00e3o recomendo esse notebook. Quando o Windows 10 \\u00e9 atualizado, o HDMI n\\u00e3o consegue transmitir sinal para a televis\\u00e3o. Entrei em contato com o suporte Dell, eles fizeram in\\u00fameros procedimentos, mas de nada adiantou. O problema persiste.  Al\\u00e9m de que \\u00e9 muito lento. N\\u00e3o corresponde o que determina a configura\\u00e7\\u00e3o.   Solicitei devolu\\u00e7\\u00e3o\\u002ftroca.\",1],[\"Nota 10. Recebi o produto na data marcada. Tudo muito organizado Obrigada  Cinira\",5],[\"Excelente produto. Notebook 2 em 1 Compaq Presario CQ360 Intel Dual Core 4GB 500GB Tela 11 Windowns 10 Touch - Branco \\u00e9 excelente. Veio no prazo combinado pela loja.\",4],[\"lindo e \\u00f3timo. amei..facil para usar e muito lindo...era o que eu queria\",5],[\"muito satisfeita. Gostei muito do produto, muito mesmo. Mas o brinde que eles est\\u00e3o oferecendo para quem compra o produto at\\u00e9 agora nada, isso j\\u00e1 faz mais de um m\\u00eas que estou aguardando. Portando, o produto \\u00e9 top mas o brinde deixa desejar pela demora.\",5],[\"Excelente. Excelente, adoreii  Chegou no prazo correto, super bem embalado e perfeito!!\",5],[\"muito bom. este produto muito bom, \\u00f3tima qualidade e pre\\u00e7o tbm!! Super recomendo..\",3],[\"Muito satisfeita.. Produto muito bom. Vale o pre\\u00e7o que custou. Recomendo.\",4],[\"Excelente Custo x benef\\u00edcio. Produto muito bom. Computador com desempenho muito bom, \\u00f3timos recursos e f\\u00e1cil de transportar.\",4],[\".. N\\u00e3o recebi o produto porque fui enrolada pela americanas.\",1],[\"travamentos tarefas basicas. apresentou travamentos, para abrir.o gerenciador de tarefas tive que aguardar 2min, um produto para usuarios basicos, melhor aplicacao escritorio, entretenimento basico ok, naoacredito ser problema da intel, montei um pc de mesa com celeron 7geracao placa mae asus e 4gb ddr40rodou lol a 100fps de boa.\",3],[\"bom. produto bom para meus requisitos. armazenamento de jogos bom.\",3],[\"Gostei do produto. O produto \\u00e9 excelente e chegou uma semana antes do previsto.\",5],[\"HORRIVEL. A CAPA N\\u00c3O DUROU UM DIA SEQUER. COM APENAS UM MANUSEIO ELA SE DESPRENDEU E N\\u00c3O ENCAIXOU MAIS.\",1],[\"Computador leve e potente. Core i7 com qualidade Samsung por um pre\\u00e7o bastante competiivo em rela\\u00e7\\u00e3o a concorr\\u00eancia. O HD deixa a desejar por ser 5400RPM mas todo o resto do conjunto \\u00e9 v\\u00e1lido.\",5],[\"Atendeu a expectativa esperada. O Produto adquirido foi o adequado \\u00e0 minha necessidade\",5],[\"Bom. Trava um pouco mas para o que via ser usado serve.\",4],[\"N\\u00e3o inclui pacote office. Tela fosca confort\\u00e1vel para horas de trabalho, bom custo benef\\u00edcio\",5],[\"Muito caro. Custo beneficio que n\\u00e3o vale a pena..... e bla bla e bla \\u00e9 s\\u00f3 para encher e atender o requisito de avalia\\u00e7\\u00e3o;;...\",1],[\"Durou um dia. O Notebook foi um presente de Natal para minha filha. N\\u00f3s o recebemos no dia 22\\u002f12 e, neste dia, funcionou sem problemas. No dia seguinte (23\\u002f12) o Note n\\u00e3o ligou. Mesmo estando com a bateria carregada, s\\u00f3 funcionava quando conectado na tomada.\",1],[\"excelente. at\\u00e9 ent\\u00e3o, perfeito. Tudo que pretendia com ele, fiz........\",5],[\"Superou as expectativas. Notebook muito bom, faz 1 m\\u00eas que estou utilizando e at\\u00e9 agora funcionando perfeitamente. DESTAQUES: Tela agrad\\u00e1vel de se trabalhar, teclados macios, audio satisfat\\u00f3rio, \\u00f3timo desempenho no geral. DEIXA A DESEJAR: falta de leitor CD\\u002fDVD, pouca entrada para USB.\",4],[\"Muito Bom. Notebook muito bom para trabalhos rapidos, pratico para reunioes!! altamente recomendado!\",5],[\"Adoreiiiii!!!. \\u00c9 tudo que eu esperava!!! \\u00d3timo aparelho!!! Agendou todas as minhas expectativas!!!\",4],[\"Que produto FERA!. Melhor custo beneficio do mercado!  At\\u00e9 mesmo para usu\\u00e1rios de games n\\u00e3o t\\u00e3o pesados \\u00e9 uma excelente pedida.\",5],[\"Atende as expectativas. Boa rela\\u00e7\\u00e3o de custo x benef\\u00edcio. Produto de boa qualidade!\",4],[\"Ainda em avalia\\u00e7\\u00e3o.. Recebi h\\u00e1 pouco tempo, ainda estou avaliando mas est\\u00e1 \\u00f3timo. Gostei !!\",4],[\"Travou no primeiro dia de uso. Demorou 40 dias para chegar. Funcionou 2 horas. Agora mais 15 dias para receber outro. Nao recomendo.\",1],[\"Gostei muito do produto!. Tinha expectativas altas pelo produto e todas foram atendidas. Utilizo tanto para trabalhar com uso de programas como Photoshop, quanto para jogos.\",4],[\"Bom mas.... o notebook \\u00e9 excelente, qualidade Lenovo, por\\u00e9m  a tela deu defeito em 1 semana de uso. N\\u00e3o tive problemas com a assist\\u00eancia t\\u00e9cnica, exceto entrar em contato.\",3],[\"Sistema operacional. Adquiri dois tablets deste modelo. Me arrependi porque o sistema operacional nele (Android) \\u00e9 muito lento. Meus filhos reclamam da demora que o sistema tem para acessar aplicativos. N\\u00c3O RECOMENDO!\",2],[\"Dell Inspiron i7 com AMD Radeon R7 M445 4GB GDDR5 excelente produto. Este computador \\u00e9 excelente para usu\\u00e1rios de Linux. Ap\\u00f3s a atualiza\\u00e7\\u00e3o para o sistema 17.10 ele fica \\u00f3timo. A placa de v\\u00eddeo \\u00e9 reconhecida automaticamente. N\\u00e3o tentei instalar o Windowns, mas n\\u00e3o \\u00e9 dif\\u00edcil, basta colocar no modo Legacy. Vale  ressaltar que \\u00e9 um computador que n\\u00e3o tem VGA. Al\\u00e9m disso, pelo tamamho n\\u00e3o \\u00e9 o mais adequado para quem visita muitos ambientes.  O que mais gostei dessa compra foi a rela\\u00e7\\u00e3o custo benef\\u00edcio. Uma dificuldade que encontrei foi para descobrir quantos slots existem no computador pelo site da DELL. O teclado \\u00e9 feio, meio diferente, mas a qualidade das teclas \\u00e9 boa.  O \\u00fanico problema de comprar na Americanas \\u00e9 a quantidade de dias de espera. Acho que eles ganham bastante dinheiro segurando o nosso dinheiro, j\\u00e1 que paguei \\u00e0 vista.\",4],[\"Empresa n\\u00e3o entrega no prazo.. Eu comprei o computador dia 23\\u002f11 pagamento confirmado dia 25\\u002f11 demorou 1 m\\u00eas pra sair a nota fiscal e o prazo era pra hoje dia 3\\u002f1 mas o produto nem se quer saiu para a entrega.\",1],[\"PRODUTO HORR\\u00cdVEL, TRAVA MUITO. A assist\\u00eancia t\\u00e9cnica poderia dar um pouco mais de aten\\u00e7\\u00e3o pra n\\u00f3s, clientes, acessei no PC a assist\\u00eancia t\\u00e9cnica e o computador n\\u00e3o consegue nem carregar a p\\u00e1gina de forma correta, e olha que n\\u00e3o \\u00e9 a internet da que de casa, por que meu celular \\u00e9 muito mais r\\u00e1pido que esse notebook, n\\u00e3o recomendado, produto horr\\u00edvel, terei que contatar a assist\\u00eancia t\\u00e9cnica, n\\u00e3o vejo necessidade para algo assim, os produtos deveriam vir perfeitos.\",1],[\"Lindo e Pr\\u00e1tico.. Realmente recomendo a todos. Meu marido comprou, e meu pai vai comprar amanh\\u00e3. Fam\\u00edlia inteira se modernizando haha. N\\u00e3o trava, f\\u00e1cil, \\u00f3timo desempenho.\",5],[\"Maravilhoso o produto.. Excelente o produto chegou bem antes do combinado, chegou em perfeito estado. Recomendo.\",5],[\"Computador bom e pre\\u00e7o justo. Adorei o produto, muito bom, excelente acabamento e \\u00f3tima configura\\u00e7\\u00e3o. Por\\u00e9m achei 2 problemas, 1 que n\\u00e3o tem entrada para o microfone, somente da para utilizar o que vem de fabrica internamente, e n\\u00e3o apresenta luz de LED, indicadora, de carregamento conclu\\u00eddo, e nem de caps look acionado, o que atrapalha e muito na utiliza\\u00e7\\u00e3o do mesmo.\",4],[\"Excelente Custo-Benef\\u00edcio. Embora n\\u00e3o seja um pc-gamer a configura\\u00e7\\u00e3o permite rodar tudo que preciso com excelente qualidade. At\\u00e9 o momento s\\u00f3 felicidade com o note\",5],[\"Avalia\\u00e7\\u00e3o notebook Dell. Excelente produto, gostei muito e recomendo sua compra\",5],[\"Razo\\u00e1vel. Pr\\u00f3s: Marca renomada\\u002fposs\\u00edvel boa durabilidade. Contras: processador lento\\u002f aparelho pesado\\u002f bateria dura pouco\\u002f n\\u00e3o vem com Office\",2],[\"otimo note. Bonito, leve e bom. Gostei muito, nada mais a declarar. Grato\",4],[\"Produto muito bom!. Aparelho bastante r\\u00e1pido e de f\\u00e1cil acesso pelo wifi. Possui \\u00f3tima configura\\u00e7\\u00e3o e tamb\\u00e9m possui drive de CD e DVD, necess\\u00e1rio para minhas tarefas. Estou satisfeito com essa aquisi\\u00e7\\u00e3o e recomendo o produto. Parab\\u00e9ns \\u00e0s Lojas Americanas pela entrega r\\u00e1pida.\",5],[\"Produto entregue conforme anunciado.. Produto bom, recomendo. Produto entregue conforme anunciado.\",3],[\"\\u00d3timo custo benef\\u00edcio. Esse notebook foi presente para meu filho de 11 anos que queria um notebook gamer para poder jogar. No mercado os computadores com configura\\u00e7\\u00e3o para jogos s\\u00e3o bem mais caros, por\\u00e9m a configura\\u00e7\\u00e3o desse notebook atendeu as plenamente \\u00e0s expectativas dele com um custo bem mais acess\\u00edvel\",5],[\"Gostei do produto. Houve extravio durante o transporte, mas tudo foi solucionado\",5],[\"Excelente. Foi presente de Natal para meu filho e ele est\\u00e1 se divertindo muito, n\\u00e3o desgruda!\",5],[\"Gostei demais do PRODUTO ESTAR ME ATENDENDO EM TUDO QUE NECESSITO. Gostei demais do PRODUTO ESTAR ME ATENDENDO EM TUDO QUE NECESSITO\",5],[\"Gostei muito do produto. Muito bom! A vista de outros, \\u00e9 um produto leve, pr\\u00e1tico e tem suprido minhas necessidades.\",4],[\"Gostei muito. Por enquanto esta muito bom Adorei otimo para crian\\u00e7as\",3],[\"Entrega. Voc\\u00eas deveriam trabalhar com Sedex em todos os produtos, pq se eu compro muitas vezes eu quero entrega express.. pensem nisso. O aparelho n\\u00e3o tem nem o que falar a marca Acer \\u00e9 excelente.\",5],[\"\\u00d3timo produto. Tem boas qualidades para uma crian\\u00e7a interagir com os jogos\",3],[\"cpu. superou a expectativa, muito bom recomendo. vou comprar mais um logo\",4],[\"USB2.0 todas. O processador 2Gera. ok memoria ok hd ok. Placa de rede 10\\u002f100Mbps. usb s\\u00e3o 2.0 todas placa m\\u00e3e e um H61 BrazilPC .   n\\u00e3o e a placa anunciada(Placa M\\u00e3e: Padrao Premium DQ77MK)  e gabinete lacrado. Vem com linux KDE UBUNTU. com senha. manual pl.mae eh cd-drives .\",3],[\"Qual geracao de processador. Qual geracao de processador e esse ??? Diz que e core i5 mas nao diz qual deles\",2],[\"O Computador \\u00e9 mesmo muito potente mas a bateria \\u00e9 uma porcaria. Se usarmos o notebook ligado a tomada e rodarmos algum jogo por exemplo, ele rodar\\u00e1 o jogo MUITO bem, mas se tentarmos jogar um jogo ligado somente na bateria ela vai descarregar inacreditavelmente r\\u00e1pido demais! Eu estava testando jogos simples, com configurac\\u00f5es extremamente baixas e a exemplo do jogo CSGO, logo que comecei a jogar percebi que o ar que o computador jogava pra fora esquentava, pensei que era pelo fato da placa de v\\u00eddeo estar ligando, a\\u00ed iniciei a partida, com todos os gr\\u00e1ficos no m\\u00ednimo e em modo de Lap-top, a bateria durou incr\\u00edveis 40 minutos, e estava em carga total. Ent\\u00e3o resumindo, a \\\"propaganda\\\" que apresenta pecas de \\\"alta pot\\u00eancia\\\" (vamos chamar assim), \\u00e9 enganosa, pois ao mesmo tempo que ele tem essas pecas incr\\u00edveis a bateria n\\u00e3o acompanha a quantidade de energia que essas pecas precisam. E  mesmo para uso DOM\\u00c9STICO, (escrever documentos, pagar contas e etc), a bateria dura 2 horas, no M\\u00c1XIMO 3, e eu estou com ele a 1 ano, ao mesmo tempo que me arrependo de ter comprado ele, por esse fato da bateria, ele est\\u00e1 sendo \\u00fatil para mim, em viagens vejo Netflix na TV, conectando um cabo HDMI, vendo v\\u00eddeos e filmes nele mesmo. Mas agora depende de voc\\u00ea, se voc\\u00ea quer um notebook mais ou menos potente que voc\\u00ea s\\u00f3 possa usar na tomada digamos assim, ou economizar esse baita dinheir\\u00e3o que t\\u00e3o pedindo por ele fazer um Desktop, mas se ainda quiser um notebook, e estiver interessado em baterias duradouras, esse Notebook n\\u00e3o \\u00e9 pra voc\\u00ea!\",3],[\"Bom produto.. Comprei pelo pre\\u00e7o, mas gostei mesmo foi da entrega, eram 10 dias \\u00fateis mas chegou em 5. Muito bom!\",4],[\"Produto excelente. O produto tem desempenho excelente,acabamento de alta qualidade,no quesito dos cuidados ao transportar tambem nao h\\u00e1 do q se reclamar...Americanas nota 1000\",5],[\"Eu n\\u00e3o sei, eu n\\u00e3o tenho. Eu ainda n\\u00e3o comprei o produto, mas estou pensando em comprar, mas estou com uma d\\u00favida, o teclado desse notebook \\u00e9 padr\\u00e3o \\\"ABNT2\\\" ( o teclado brasileiro com \\\"\\u00c7\\\" \\\"~\\\" e etc... ) ?\",3],[\"Samsung Galaxy Tab A SM-P585M. Produto Custo Benef\\u00edcio !!! Atende as expectativas !!!\",4],[\"N\\u00e3o gostei da compra.. Estou insatisfeito porque n\\u00e3o recebi o manual do computador. O manual \\u00e9 importante porque especifica o modelo da placa m\\u00e3e, placa de rede etc. Tamb\\u00e9m n\\u00e3o recebi o cd referente aos os drivers.\",2],[\"Defeito. Comprei o notebook,e no segundo dia de uso ele n\\u00e3o liga mais,fora o transtorno da coleta que ainda n\\u00e3o foi feita.\",1],[\"este tablet n\\u00e3o vale 10 reais. Tive a infelicidade de entrar na besteria e comprar esta mer... ainda 2 unidades trava muito, a bateria n\\u00e3o aguenta, a tela e ruim, optei em jogar fora e comprar um samsung. n\\u00e3o tem como ter pre\\u00e7o e qualidade s\\u00e3o duas coisas que n\\u00e3o anda junto.\",1],[\"Muito bom. SfgkitgodtekoaosteystyoylrlstldlgkxxkdldlrdydldhddushshsgllsgsgsgssszssgjshshdhsuludydudduypgspslgogGGGzgglhlglgl172736bdnsnwhejjcjskschwnsns\",3],[\"Excelente. Muito bom. Produto de extrema qualidade, conforme o que esperava mesmo.\",5],[\"\\u00d3timo produto!. Produto chegou dentro do prazo, \\u00e9 leve, de design fino e elegante. Possui praticidade e vem com todos os programas necess\\u00e1rios para o uso do dia a dia. Para quem usa de forma mais intensa (como quando for jogar, por exemplo) recomendo a compra de um cooler para ajudar no resfriamento do notebook. Excelente produto, atendeu minhas expectativas -- e at\\u00e9 mesmo superou-as.\",5],[\"N\\u00e3o funciona. O produto nem sequer iniciou....estou insatisfeita.  Reinicia automaticamente e constantemente. ..Estou tentando a troca ou devolu\\u00e7\\u00e3o do produto...no momento aguardando um retorno da Americanas sobre minha solicita\\u00e7\\u00e3o. ..\",1],[\"Superou as espectativas. Muito bom o Notebook, supre todas as minhas necessidades, bem r\\u00e1pido e eficiente ... E a entrega da americanas foi executada com excel\\u00eancia, entregaram antes do prazo, muito bom !\",5],[\"Recomendo!. Comprei pros meus filhos, achei boa mem\\u00f3ria, bom custo benef\\u00edcio.  N\\u00e3o tive problemas!\",4],[\"\\u00d3timo notebook. Notebook r\\u00e1pido bom para jogos, excelente compra pode comprar sem medo.\",4],[\"Excelente. \\u00d3tima performance. Superou minhas expectativas. \\u00d3tima configura\\u00e7\\u00e3o, resposta r\\u00e1pida. Tela com \\u00f3tima defini\\u00e7\\u00e3o.\",5],[\"\\u00d3timo. Atende as expectativas e \\u00e9 muito r\\u00e1pido produto excelente\",4],[\"Gostei do produto. Chegou antes do prazo! O material confere com o anunciado!Sastifeita\",4],[\"Sambung Tab A SM-P585M. At\\u00e9 o momento n\\u00e3o tenho do que reclamar do Tab A SM-P585M.   O equipamento \\u00e9 muito bom; pre\\u00e7o razo\\u00e1vel; bom tamanho; S-Pen; boa durabilidade da bateria.  Agora preciso realmente come\\u00e7ar a usar com mais intensidade para poder dar maiores detalhes sobre a performance dele.\",5],[\"Produto. Comprei o produto como presente  de final de ano ,era pra ser entregue at\\u00e9 dia 28 ,porem at\\u00e9 o momento n\\u00e3o sei nada do produto\",2],[\"Produto ainda n\\u00e3o foi entregue. Quero saber o porque de ainda n\\u00e3o entregaram o produto que eu comprei. A data final da entrega era dia 22\\u002f12\\u002f2017 . Ainda nao recebi o meu produto . Primeira e ultima vez que compro nas Lojas Americanas. Nao os recomendo !\",1],[\"\\u00d3tima qualidade E bem veloz. Houve atraso na entrega  E rastreamento \\u00e9 deficit\\u00e1rio  Mas o produto \\u00e9 \\u00f3timo\",5],[\"N\\u00e3o gostei do produto!. Usei o produto s\\u00f3 algumas vezes durante  um per\\u00edodo de menos um m\\u00eas que recebi em minha casa dia 13 de dezembro guardei o computador e quando fui usar novamente no dia 30 ele j\\u00e1 deu pau, ou seja o sistema operacional n\\u00e3o abre mais.\",1],[\"\\u00d3timo custo-benef\\u00edcio. \\u00d3tima velocidade de processamento, espa\\u00e7o de armazenamento, etc. vale cada real investido!!\",5],[\"otimo gostei muito. Gostei muito do produto, e recomendo, produto bom, entrega dentro do esperado\",4],[\"Muito mais do que o esperado. ... Produto muito bom de uma \\u00f3tima qualidade.  Recomendo aqu\\u00e9m for comprar pois as expectativas foram as melhores poss\\u00edveis.  A agilidade na entrega ou seja. O tempo de entrega foi al\\u00e9m do esperado , chegou muito r\\u00e1pido.  Parab\\u00e9ns equipe americanas.com\",5],[\"veio com a cpu fazendo barulho porque n\\u00e3o  foi encaixada direito,. ja pedi a devolu\\u00e7\\u00e3o do produto. aguardo posicionamento\",1],[\"Notebook Lenovo. Na verdade minha avalia\\u00e7\\u00e3o \\u00e9 proforme pois passados 33 dias a transportadora n\\u00e3o entregou, e o suporte da Americana n\\u00e3o foi bom para ajudar a resolver o problema alegado pelo transporte. Hoje meu dinheiro est\\u00e1 com a Americanas e eu sem o notebook.\",2],[\"Gostei muito. Gostei bastante do produto e n\\u00e3o possuo reclama\\u00e7\\u00f5es.\",5],[\"Nao recebi. Boa tarde....nao tem como avaliar pois ate hj nao recebi o produto... vou procurar meus direitos no Procon pois nao me dao nenhuma posi\\u00e7\\u00e3o\",1],[\"exatamente como esperava... Produto muito bom, entrega r\\u00e1pida e segura, embalagem perfeita. Sou cliente a bons tempos, nunca tive problemas...Obrigado..\",4],[\"Amei o produto.. Gente, vale muito a pena. \\u00c9 simplesmente \\u00f3timo! Supriu muito minhas expectativas.\",5],[\"gostei. muito bom ....recomendo...atende as necessidaes ...vale a pena comprar\",5],[\"Bom desempenho. Gostei bastante, o notebook se comporta muito bem, mesmo em stress, da pra jogar bastante coisa (GTA V, Bf4, Lol...), o \\u00fanico problema \\u00e9 que o processador fica debaixo do W A S D, ent\\u00e3o esquenta muito, as vezes a ponto de incomodar. Alguns programas que vem pr\\u00e9-instalados atrapalham um pouco, como o anti-v\\u00edrus. A tela \\u00e9 boa, mas nada excepcional, o som \\u00e9 de qualidade, mesmo em volumes mais altos ele n\\u00e3o perde o foco. O HD faz um barulho caracter\\u00edstico, mas nada que atrapalhe, pode incomodar pra quem \\u00e9 mais exigente quanto a ruido. O acabamento \\u00e9 bonito e ele \\u00e9 bem leve, sem falar na possibilidade de adicionar um novo HD ou SSD, devido ao slot de gravador de CD estar vazio. No geral \\u00e9 um excelente computador, comprei com o intuito de usar para trabalho, mas como gosto de games, instalei alguns, os quais funcionaram muito bem, ent\\u00e3o mesmo sendo um computador de trabalho posso leva-lo onde for que vou me divertir.\",5],[\"Comprei pra fam\\u00edlia Toda. \\u00d3timo Produto!!! Com a grana que t\\u00e1 vendendo aqui eu viajei pros EUAs com a fam\\u00edlia e comprei um pra cada!!!! Somos em 4!!\",5],[\"Bom. Gostei, mas nem tanto, pois a capa \\u00e9 maior do que meu tablet, sendo 10.1\\\" o aparelho. Al\\u00e9m disso, alguns bot\\u00f5es n\\u00e3o s\\u00e3o os mesmos que mostram no teclado. Tirando tudo isso, o resto \\u00e9 bom!\",3],[\"Gostei muito. Tablet bom e robusto (fisicamente \\u00e9 resistente), comprei para meu filho jogar jogos leves e ver v\\u00eddeos.\",5],[\"Comprei desde o dia 4\\u002f12 e ate agora nem mesmo a nota fiscal eletr\\u00f4nica foi emitida. Estou achando que cai num golpe. Quero meu dinheiro de volta.. P\\u00e9ssimo. Comprei desde o dia 4\\u002f12 e ate agora nem mesmo a nota fiscal eletr\\u00f4nica foi emitida. Estou achando que cai num golpe. Quero meu dinheiro de volta.Absurdo a lojas Americanas permitir que esses sites sem credibilidades usem seu espa\\u00e7o para vendas. Estou extremamente chateada, pois nem mesmo uma liga\\u00e7\\u00e3o ou e-mail eu recebi para me esclarecerem o q esta ocorrendo com minha compra. Irei para justi\\u00e7a.\",1],[\"Interessante. Notebook muito bom, leve e f\\u00e1cil de manusear. Super recomendado.\",4],[\"Adorei bastante o produto. Gostei de mais do produto, atingiu mhas espectativas, apenas n\\u00e3o consegui instalar o blooleth\",5],[\"perfeito. faz quase um mes que comprei esse notebook, e o que eu tenho a dizer, super recomendo, perfeito, rapido e com um lindo designer..\",5],[\"Muito bom!!!. Produto muito bom! Mas poderia ter leitor de CD... :(  Americanas est\\u00e1 de parab\\u00e9ns pela agilidade na entrega!!!\",4],[\"\\u00d3timo o produto. A loja tem um atendimento \\u00f3timo e o produto chega antes do combinado.\",5],[\"Melhor rela\\u00e7\\u00e3o custo benef\\u00edcio. Monto computadores h\\u00e1 anos, e escolhi este como melhor rela\\u00e7\\u00e3o custo benef\\u00edcio. H\\u00e1 modelos superiores mas de custo elevado. Para tarefas comuns at\\u00e9 edi\\u00e7\\u00e3o b\\u00e1sica de v\\u00eddeo este serve bem. Para games e edi\\u00e7\\u00e3o avan\\u00e7ada s\\u00f3 maquinas com valor 50% superior.\",4],[\"MINHA FILHA GOSTOU MUITO DESSE PRODUTO. Foi presente de Natal para a filha que ficou encantada.\",5],[\"muito bom o produto. No come\\u00e7o \\u00e9 complicado entender como coloca a trava de acessos para a crian\\u00e7a e como entra na tela dos adultos...depois que entende essa parte fica tudo f\\u00e1cil ...muito bom...meu filho amou.\",4],[\"\\u00d3timo Notebook. Gostei muito do produto! A inicializa\\u00e7\\u00e3o \\u00e9 r\\u00e1pida, bateria dura cerca de 7 horas dependendo do uso, tela linda e de \\u00f3timo tamanho.\",5],[\"Gostei. Chegou poucos dias antes do previsto!!!!!!!!!!!!!!!!!!!!!!!!!!!\",4],[\"Avaliar o que se at\\u00e9 hoje n\\u00e3o recebi meu produto?? Era pra ter chegado mas at\\u00e9 agora NADA!. Ainda n\\u00e3o recebi o produto! J\\u00e1 estamo me perguntando o que achei mas ainda n\\u00e3o recebi nada na minha casa.\",3],[\"FRETE ELEVADO. Produto excelente, mas quase n\\u00e3o compro devido ao elevado valor do frete. UM ABSURDO. R$128,00\",5],[\"COM DEFEITO. PRODUTO EST\\u00c1 COM DEFEITO ESTOU ESPERANDO A TROCA QUERO SABER QUANDO VAI SER A TROCA\",1],[\"Atendeu as expectativas. Produto entregue dentro do prazo estipulado. Equipamento cumpre o prometido nas propagandas.\",5],[\"\\\"topzera\\\". Computador show, fiquei impressionado com a responsabilidade dessa impressa a entrega \\u00e9 r\\u00e1pido mesmo. S\\u00f3 q tem site q acha mais barato.\",5],[\"At\\u00e9 agr \\u00e9 perfeito. Chegou hj, \\u00e9 lindo, leve, e muito r\\u00e1pido, estava previsto para chegar dia 19, tenho que parabenizar a Americanas pela entrega, muito \\u00e1gil, quanto ao note, s\\u00f3 amores.\",5],[\"Muito satisfeito com o produto.. Muito satisfeito e fui muito bem atendido pela garantia dell.\",5],[\"Muito Bom!. \\u00c9 exatamento como o descritivo! super recomendo, e o pre\\u00e7o aqui foi bem mais em conta!\",5],[\"Gostei do produto. Produto \\u00f3timo. Exatamente o que buscava. O prazo de entrega foi antecipado. Embalagem bem protetora. Recomendo fortemente\",5],[\"Blueetooth. Gnt alguem sabe informar se essw note vem com blueetooth?\",3],[\"Gostei muito do produto!. chegou em \\u00f3timo estado, intacto mesmo a caixa da entrega estar um pouco amassada. O produto de alto desempenho, \\u00e9 r\\u00e1pido e supre minhas necessidades. A tela \\u00e9 grande, e o touch \\u00e9 muito bom, como todos os produtos da marca, apenas as c\\u00e2meras s\\u00e3o ruins.\",5],[\"Gostei bastante. Produto leve,  excelente para viajar, bateria dura bastante, um otimo produto.\",4],[\"Bom. Chegou Antes do prazo .tudo certinho . produto muito bom\",3],[\"\\u00f3timo produto por custo beneficio, gostei muito.. Tablet muito bom pelo esse valor de 399,00 dificilmente vc vai encontra um tablet novo de 10 polegadas por esse pre\\u00e7o, esse produto foi feito para consumidos sem muita exigencias, que quer usar ele apenas pra navegar, ver rede sociais, ler livros e ver youtube, e ainda conta com 3g e suporta 2 chips e tb\\u00e9m pode usar um cart\\u00e3o micro sd de at\\u00e9 32gb, j\\u00e1 estou com ele faz 20 dias e n\\u00e3o travou em nenhum momento, podem comprar sem medo.\",4],[\"Show esse produto!. Produto de \\u00f3tima qualidade, a dura\\u00e7\\u00e3o da bateria \\u00e9 incr\\u00edvel!\",5],[\"N\\u00e3o rntregaram. Comprei a quase 2 meses e n\\u00e3o efetuaram a entrega, hoje 05\\u002f01 j\\u00e1 me cobraram 2 parcelas e nada de entregar meu produto.\",1],[\"Gostei muito do produto. No an\\u00fancio e foto consta as caixa de som. Porem nao veio com nenhuma caixa , me senti lesada neste item.\",4],[\"Excelente produto!. Comprei esse notebook para jogar e at\\u00e9 agora est\\u00e1 me atendendo muito bem! Bateria dura bastante, to amando!\",5],[\"Produto muito bom!. Produto muito bom, cumpri o que promete! Super r\\u00e1pido !! Recomendo\",5],[\"MUITO BOM. PRODUTO DOS SONHOS! TECNOLOGIA, QUALIDADE E CUSTO BENEF\\u00cdCIO.\",5],[\"Gostei muito. Excelente para uso no dia a dia como navegar na internet, ver v\\u00eddeos e uso de word e excel para trabalhos da faculdade. A entrega como sempre chegou antes do prazo!\",5],[\"\\u00d3tima rela\\u00e7\\u00e3o custo benef\\u00edcio!. Produto veio antes do prazo. Chegou abrimos e foi s\\u00faper f\\u00e1cil de configurar, funciona muito bem. Para entrar na internet e editar arquivos do Office \\u00e9 show! Muito bom!\",4],[\"Bom produto.. Recomendo a loja e o produto muito bom! Fui bem atendida pela site da loja e a encomenda chegou certinha no prazo.\",3],[\"P\\u00e9ssima. Infelizmente, devolvi o produto, estava com defeito. Felizmente, consegui devolv\\u00ea-lo, recebi SMS que ser\\u00e1 cancelada a compra. Somente terei certeza ao receber a fatura.\",1],[\"Venho com defeito. Al\\u00e9m do produto vim defeituoso \\u00e9 demora pra fazer a troca.\",1],[\"Cumpre o que promete. N\\u00e3o \\u00e9 um PC Gamer, mas at\\u00e9 agora, aguentou bem tudo o que fiz... tenho que usar mais para chegar numa conclus\\u00e3o final\",5],[\"Excelente produto!!!!. Excelente produto, pre\\u00e7o competitivo, entrega r\\u00e1pida, recomendo!!!!\",5],[\"RECOMENDO!. PRODUTO SENSACIONAL PADR\\u00c3O VAIO, MUITA QUALIDADE E MUITO DESEMPENHO\",5],[\"Gostei muito do produto. Produto enviado conforme combinado. Prazo correto.\",4],[\"Basico mais util!. Devido ao seu processador ele \\u00e9 n\\u00e3o \\u00e9 pra quem gosta de fazer varias coisas ao mesmo tempo. Mas \\u00e9 perfeito pra quem quer s\\u00f3 pra acessar internet e editar documentos.\",3],[\"EM SI O PRODUTO \\u00c9 OTIMO. O PRODUTO EM SI \\u00c9 OTIMO, MAS DEIXOU A DESEJAR POIS N\\u00c3O TEM EN TRADA PARA CABO DE REDE\",4],[\"gostei muito!. superou minhas expectativas e \\u00e9 um note gamer que tem um pre\\u00e7o muito acess\\u00edvel. chega a rodar ate PUBG.\",4],[\"Atende expectativa. Prefiro quando a abertura pra sa\\u00edda de ar fica na lateral, nesse modelo fica embaixo e aquece mais, j\\u00e1 que em uso dom\\u00e9stico n\\u00e3o utilizo suporte. Apesar da bateria interna deixar mais leve e mais fino, fico preocupada com o v\\u00edcio e fim da vida \\u00fatil da bateria. As entradas de USB e HDMI ficam todas do lado esquerdo, mouse com fio tem que dar a volta no notebook. Liga\\u002fdesliga r\\u00e1pido (a atualiza\\u00e7\\u00e3o do software no momento da configura\\u00e7\\u00e3o demorou mais de 6 horas) O modelo \\u00e9 leve e design bem bonito. Funcionalidade ok Qualidade de som e imagem\",3],[\"Aprovei o produto. Atendeu minhas expectativas, tamanho, peso, acabamentos, recomendo\",5],[\"Notebook bem leve e completo!. Eu Comprei para minha filha, ela gostou o \\u00fanico defeito \\u00e9 que atualiza o tempo todo, mais para estudos e pesquisas escolares ele \\u00e9 bom. Pelo pre\\u00e7o devia ter mais qualidade.\",3],[\"Excelente rela\\u00e7\\u00e3o custo x benef\\u00edcio. Adquiri a R$ 1765,00 e n\\u00e3o tenho do que reclamar, exceto talvez pela posi\\u00e7\\u00e3o de algumas teclas que s\\u00e3o um pouco confusas. Quanto ao hardware, excelente.\",4],[\"Top. Excelente notebook, comprei 10 unidades para minha empresa.\",5],[\"O wi-fi desconecta direto. O wi-fi do tablet sempre desconecta, precisando desativar o wi-fi e digitar novamente a senha para voltar o sinal de wi-fi que dura entre 5 a 10 minutos. Meu filho est\\u00e1 assistindo algum desenho no YouTube e eu tenho que ficar fazendo esse procedimento v\\u00e1rias vezes. Esse \\u00e9 o \\u00fanico problema que aconteceu comigo.\",3],[\"5 estrteLAS. RAPIDO, BATERIA DURA MUITO, AS PORTAS EST\\u00c3O NA PARTE DE TRAS DAS LATERAIS ISSO AJUDA MUITO , ACER SEMPRE FOI BOA \\u00c9 MEU SEGUNDO NOTE EU RECOMENDO\",5],[\"Produto Top!. Meu filho est\\u00e1 amando, falou que \\u00e9 excelente consegue executar v\\u00e1rias p\\u00e1ginas ao mesmo tempo!\",5],[\"EH MUITO PRATICO. MUITO LEVE E PRATICO F\\u00c1CIL DE LEVA, \\u00d3TIMO PRA TRABALHOS DE FACULDADE.\",4],[\"PROPAGANDA ENGANOSA, NA FOTO VEM O SIMBOLO APPLE QUANDO ENTREGA NAO VEM. Comprei sabendo que nao era um carregador original Apple, porem vi que tinha na FOTO, o simbolo da Apple, e acabei pagando mais caro que no mercado livre a mesma marca e modelo por 30% a menos, pedi a troca com o simbolo da Apple conforme a propaganda e nao me trocaram e forom GROSSO na resposta, sendo assim fica minha dica nao comprem na LOJAS AMERICANAS E COM A MAYMAX, pessimo atendimento e retorno.\",1],[\"d\\u00e1 conta do recado. atende perfeitamente aos meus interesses. chegou antes do previsto.\",4],[\"Gostei. \\u00d3timo equipamento com um custo benef\\u00edcio muito bom. Ideal para tarefas do dia a dia.\",4],[\"\\u00d3timo custo beneficio. Excelente notebook, muito bonito e r\\u00e1pido, bateria muito boa e roda grande maioria dos jogos atuais\",5],[\"produto otimo. produto muito bom, estou muito feliz com minha aquisi\\u00e7\\u00e3o chegou antes da data prevista da entrega\",5],[\"Gostei muito. Obrigado pelo envio r\\u00e1pido do produto, chegou antes do prazo estabelecido por voc\\u00eas.\",4],[\"Produto de \\u00f3tima qualidade. Adorei o produto, pr\\u00e1tico e r\\u00e1pido de usar e eficiente O ruim \\u00e9 q n\\u00e3o veio o fone de ouvido q a Americanas diz q vem\",5],[\"amei. chegou super r\\u00e1pido \\u00e9 perfeito para o q eu precisava\",5],[\"Top. Pc atende as expectativas, mas a resolu\\u00e7\\u00e3o da tela dele n eh a das mais top... mas da pra jogar de boa\",5],[\"Em teste. Ainda estamos testando o equipamento. Por enquanto, parece bom.\",3],[\"TOP. MUITO LEVE E PRATICO F\\u00c1CIL DE LEVA, \\u00d3TIMO PRA TRABALHOS DE FACULDADE.\",5],[\"\\u00d3TIMO. MUITO LEVE E PRATICO F\\u00c1CIL DE LEVA, \\u00d3TIMO PRA TRABALHOS DE FACULDADE.\",5],[\"BOM. MUITO LEVE E PRATICO F\\u00c1CIL DE LEVA, \\u00d3TIMO PRA TRABALHOS DE FACULDADE.\",5],[\"BORA COMPRAR. MUITO LEVE E PRATICO F\\u00c1CIL DE LEVA, \\u00d3TIMO PRA TRABALHOS DE FACULDADE.\",5],[\"muito bom. MUITO LEVE E PRATICO F\\u00c1CIL DE LEVA, \\u00d3TIMO PRA TRABALHOS DE FACULDADE.\",5],[\"\\u00d3TIMO. MUITO LEVE E PRATICO F\\u00c1CIL DE LEVA, \\u00d3TIMO PRA TRABALHOS DE FACULDADE.\",5],[\"TOP. MUITO LEVE E PRATICO F\\u00c1CIL DE LEVA, \\u00d3TIMO PRA TRABALHOS DE FACULDADE.\",5],[\"TOP. MUITO LEVE E PRATICO F\\u00c1CIL DE LEVA, \\u00d3TIMO PRA TRABALHOS DE FACULDADE.\",5],[\"TOP. MUITO LEVE E PRATICO F\\u00c1CIL DE LEVA, \\u00d3TIMO PRA TRABALHOS DE FACULDADE.\",5],[\"TOP. MUITO LEVE E PRATICO F\\u00c1CIL DE LEVA, \\u00d3TIMO PRA TRABALHOS DE FACULDADE.\",4],[\"TOP. MUITO LEVE E PRATICO F\\u00c1CIL DE LEVA, \\u00d3TIMO PRA TRABALHOS DE FACULDADE.\",5],[\"TOP. MUITO LEVE E PRATICO F\\u00c1CIL DE LEVA, \\u00d3TIMO PRA TRABALHOS DE FACULDADE.\",5],[\"Gostei muito do Produto!. Achei ele muito pr\\u00e1tico, leve e com \\u00f3timo desempenho. Gostaria de comentar sobre a entrega, que foi excepcional.\",5],[\"Problema na bateria. Recebi dia 20\\u002f11, no dia 02\\u002f12 n\\u00e3o ligou mais, apenas conectado \\u00e0 tomada. Entrei em contato, levei para autorizada dia 05\\u002f12\\u002f17 e ao receber e fazer a vistoria j\\u00e1 n\\u00e3o ligava nem na tomada. Hoje, 30 dias depois, a \\u00fanica informa\\u00e7\\u00e3o pelo site da Positivo \\u00e9 que est\\u00e1 em manuten\\u00e7\\u00e3o, ligando na autorizada foi me dito que o problema \\u00e9 na bateria. N\\u00e3o quero mais o produto e n\\u00e3o recomendo. Aguardando solu\\u00e7\\u00e3o ainda.\",1],[\"Excelente custo-benef\\u00edcio. Notebook bom e r\\u00e1pido, tem um HD espa\\u00e7oso e uma configura\\u00e7\\u00e3o que atende muito bem para o trabalho di\\u00e1rio.  Recomendo a todos para estudos e tarefas normais, como acessar a internet e ver filmes em alta defini\\u00e7\\u00e3o\",5],[\"Vale a pena!. Chegou 3 dias ap\\u00f3s a realiza\\u00e7\\u00e3o do pedido. Veio tudo aos conformes, com todas as pe\\u00e7as, bem embalado, show demais. O material do produto n\\u00e3o \\u00e9 o melhor, mas ainda assim, bem resistente, levando em considera\\u00e7\\u00e3o o valor pago por ele. N\\u00e3o encontrei produto melhor e mais em conta em qualquer outro lugar.  Total agilidade na entrega e \\u00e9 um suporte muito pr\\u00e1tico de manusear. Recomendo.\",4],[\"Atende as necessidades. Goste muito do produto, muito f\\u00e1cil de montar e guardar. Se ad\\u00e9qua em qualquer espa\\u00e7o. A minha veio um porco torta, mas n\\u00e3o atrapalha o uso.\",4],[\"\\u00d3timo produto.. O produto, at\\u00e9 o momento n\\u00e3o apresentou problemas, tem \\u00f3timo desempenho inclusive em jogos, s\\u00f3 a bateria que n\\u00e3o aguenta muito tempo em jogos, de resto at\\u00e9 o momento atendeu minhas expectativas.\",4],[\"Gostei do produto. Super recomendo!!! Minha filha amou o tablet!! Podem comprar.\",4],[\"Defeito no produto. Quanto ao atendimento da loja tudo ok,porem n\\u00e3o tive sucesso com o produto ,pois o mesmo apresentou defeito (na abertura da 2\\u00aa janela ocorre travamento).\",2],[\"Produto como no an\\u00fancio.. \\u00d3timo atendimento, chegou antes da data, produto em perfeitas condi\\u00e7\\u00f5es, parece bem maior que nas fotos. At\\u00e9 agora gostei muito.\",4],[\"Produto n\\u00e3o liga. Nem suporte do vendedor, nem das Americanas Respondem.. Produto n\\u00e3o ligou. Veio chaveado em 220v, mas n\\u00e3o ligou. Mudei para 110v e coloquei em uma tomada 110 e tamb\\u00e9m n\\u00e3o ligou. Abri a reclama\\u00e7\\u00e3o e tanto o vendedor como as Americanas excederam o prazo de resposta.\",1],[\"Impr\\u00f3prio. Produto apesar de ser dito modelo universal n\\u00e3o serve no Tab A 2017\",2],[\"Produto n\\u00e3o funciona. Comprei de presente para minha filha. O notebook liga mas n\\u00e3o carrega e fica o tempo todo com uma mensagem de atualiza\\u00e7\\u00e3o. Como moro um pouco distante dela, n\\u00e3o tive a oportunidade de encontr\\u00e1-la.\",1],[\"Produto chegou com a caixa remendada, amassada e \\u00famida. O produto chegou a minha resid\\u00eancia com a caixa de fora amassada, a caixa de dentro \\u00famida e ambas amassadas, evidenciando que o produto foi molhado durante o transporte. Sempre compro na americanas e foi a primeira vez que isso ocorreu. Uma pena. Por enquanto est\\u00e1 funcionando como se n\\u00e3o tivesse afetado nada mas se pifar do nada j\\u00e1 sei porque foi.\",3],[\"MOTIVOS PARA N\\u00c3O COMPRAR:. 1\\u00ba Para instalar o Windows \\u00e9 terrivel e d\\u00e1 uma enorme trabalheira pois ele n\\u00e3o faz boot em um pendrive bootavel comum,  tem que baixar o RUFUS porque ele \\u00e9 bloq de fabrica s\\u00f3 consegue fazer boot UEFI.  2\\u00ba Nem tente instalar x32 ele so aceita Windows x64, o que n\\u00e3o faz nenhuma l\\u00f3gica pois o notebook s\\u00f3 vem com 1 slot de RAM e o processador j\\u00e1 \\u00e3o \\u00e9 l\\u00e1 essas coisas.\",1],[\"\\u00d3tima!. Estamos amando a tv imagem perfeita,super f\\u00e1cil de manusear e assistir a Netflix ficou bem melhor!\",5],[\"Atendimento e tempo de entrega p\\u00e9ssimo. Mais de 1 m\\u00eas o tempo de entrega, muito ruim. N\\u00e3o recomendo\",2],[\"Como posso avaliar algo que n\\u00e3o recebi?. Bla bla bla bla bla bla bla bla bla bla bla bla bla bla bla bla bla bla bla bla bla bla bla bla bla\",1],[\"Correspondente ao esperado!!. \\u00d3timo produto. Vale a pena adquirir, eu recomendo. Atendeu sim todas minhas expectativas. Pre\\u00e7o acess\\u00edvel!\",4],[\"n\\u00e3o gostei do produto. Tablet sem c\\u00e2mera atr\\u00e1s e com a resolu\\u00e7\\u00e3o muito ruim.\",2],[\"Amei !. gente gostei muito.. achei o notbook certo para me ajudar nos trabalhos da faculdade.. N\\u00e3o tive nenhum problema com ele, j\\u00e1 estou com ele tem 5 meses, satisfeita. Indico para quem usa Muiiito.. no trabalho e na faculdade.. ele tem 8gb e \\u00e9 o processador mais avan\\u00e7ado, o Core i7 .... bom e barato.\",4],[\"N\\u00e3o recebi o produto. Recebi o software mas o computador n\\u00e3o veio e as parcelas est\\u00e3o sendo descontadas do cart\\u00e3o normalmente\",1],[\"Nao gostei. Desse jeito eu n\\u00e3o vou comprar mesmo . Depois desses coment\\u00e1rios\",1],[\"PERFEITO. Show de bola esse not. Parabens a Samsung. Evoluiu na produ\\u00e7\\u00e3o dos nots gamer.\",5],[\"Recomendo. Produto bom, chegou em perfeitas condi\\u00e7\\u00f5es e bem embalado. S\\u00f3 n\\u00e3o dei mais estrela pq n\\u00e3o vem o drive de CD\\u002fDVD. No mais tudo ok\",3],[\"Gostei e meu filho adorou. Est\\u00e1 funcionando perfeitamente, \\u00e9 s\\u00f3 baixar jogos e se divertir....\",3],[\"gostei era a minha expetativa. muito bom, recomendo valeu a minha compra, equipamento superou o que queria.\",3],[\"Descri\\u00e7\\u00e3o 4gb veio com 2gb. Tudo \\u00f3timo, s\\u00f3 faltou o principal q seria a mem\\u00f3ria do an\\u00fancio. 2gb a mais. Propaganda enganosa.\",2],[\"Gosto muito do produto!. Bonito! Funciona bem. \\u00d3timo desempenho. Estou satisfeito. Obrigado!\",5],[\"Revoltado. N\\u00e3o recebi o produto at\\u00e9 agora vou comprar em outro lugar e colocar a americana na justi\\u00e7a  j\\u00e1 foi pago a primeira  parcela\",1],[\"\\u00d3timo produto!. \\u00d3timo produto, leve e r\\u00e1pido, bom para quem necessita de um notebook para realizar atividades cotidianas, al\\u00e9m do mais tem um bom custo. Recomendo! Entrega r\\u00e1pida.\",4],[\"Produto de alta qualidade. Produto de alta qualidade, melhor custo-benef\\u00edcio entre os notebooks da mesma categoria.\",5],[\"Gostei bastante!!!. O atendimento foi muito bom, o produto otimo n\\u00e3o tem nem o que dizer. S\\u00f3 n\\u00e3o vou dar excelente por que estou com o produto a pouco tempo, pois estava de viagem, ent\\u00e3o se der problema ou algo do tipo (espero que n\\u00e3o) eu possa trocar, parab\\u00e9ns positivo que esta me surpreendendo a cada dia e parab\\u00e9ns lojas americanas pelo atendimento e pela preocupa\\u00e7\\u00e3o, com certeza voltarei a comprar com a loja.\",4],[\"O melhor!. Produto de extrema qualidade e muito veloz. Recomendo a todos!!!\",5],[\"Produto \\u00f3timo. R comemdo. O produto \\u00e9 \\u00f3timo e o atendimento das lojas americanas com rela\\u00e7\\u00e3o ao custo, prazo s\\u00e3o excelentes\",4],[\"Decepcionante. Produto n\\u00e3o correspondeu minha expectativa, bateria n\\u00e3o carregava. Computador so funcionava conectado a rede el\\u00e9trica.Desfiz  o negocio.\",1],[\"\\u00d3timo produto. \\u00d3timo produto com excelente prazo de entrega. O produto est\\u00e1 com 10 dias de uso e s\\u00f3 com mais tempo para uma avalia\\u00e7\\u00e3o melhor\",4],[\"Produto atendeu as especifica\\u00e7\\u00f5es informadas na compra. Apenas o prazo de entrega eu achei muito extenso, j\\u00e1 que a mercadoria saiu de SP para entregar em SC\",4],[\"\\u00c9 bonito mas a bateria n\\u00e3o \\u00e9 legal. A entrega da Americanas foi bem r\\u00e1pida, o produto \\u00e9 bonito mas s\\u00f3 funciona se estiver na tomada, n\\u00e3o carrega a bateria. Pedi troca e a loja prontamente recolheu o produto com defeito e vai enviar outro.\",2],[\"Excelente produto. N\\u00e3o fica devendo absolutamente nada para marcas mais caras, a \\u00fanica coisa que senti falta foi do teclado retro iluminado\",5],[\"Muito bom!. Uma bela m\\u00e1quina para quem deseja alto desempenho e o melhor de tudo, um \\u00f3timo custo-benef\\u00edcio\",5],[\"Falta muito pra ser um ALTA PERFORMANCE. A loja me atendeu bem, entregou antes do previsto, mas o aparelho trava muito, \\u00e9 mais lento que o antigo que tinha, N\\u00c3O TEM LEITOR DE CD \\\\ DVD, tela com reflexo, comprei para trabalhar e est\\u00e1 me dando muito mais trabalho me acostumar com ele.\",2],[\"muito satisfeito. produto muito bom faz uma semana que estou usando muito satisfeito recomendo.  excelente entrega, americanas entregou bem antes do prazo.\",5],[\"Avalia\\u00e7\\u00e3o da compra de um Notbook lenovo. Excelente produto, chegou antes do pravo marcado. Recomendo.\",5],[\"Gostei pouco do produto. Muito fino, leve e bonito. Por\\u00e9m, trava desde quando recebi e \\u00e9 lento\",3],[\"Produto Maravilhoso. Um notebook com o design bem mais bonito que eu imaginava. Desempenho maravilhoso. Entrega r\\u00e1pida.\",5],[\"Top. Superou minhas expectativas produto, leve, design bonito, fininho tela bem grande n\\u00e3o trava com jogos, memoria cabe muitaaaaaaaaa coisa tive um Acer anterior a esse era muito bom esse melhor ainda a entrega era pro dia 03\\u002f01 Chegou dia 27\\u002f12 satisfeita com entrega.recomendo a loja e o notebook\",5],[\"Qual ddr sao as mem\\u00f3ria?. Nao mostra muito as especifica\\u00e7\\u00f5es das pe\\u00e7as tipo mem\\u00f3ria qual ddr e.?\",5],[\"Muito bom. \\u00c9 um produto muito importante para o uso pra utilidades necess\\u00e1ria pra boletos e.etc.\",4],[\"gostei do produto. Ideal para atividades em geral, Bom recurso t\\u00e9cnico, E de armazenagem.\",4],[\"dor de cabe\\u00e7a. nao tem uma semana e ja quero o dinheiro de volta o aparelho fala de baixar e validar programas o aparelho vai ler onde pois nao tem veio um cd com programas coloca onde liga para a empresa nada manda imail nada como vo\\u00e7e compra uma maquina e vo\\u00e7e tem que fazer tudo vamos ver no que da isso mas vai ser mais dor de cabe\\u00e7a .\",1],[\"Bom Produto. J\\u00e1 tinha tido outra experi\\u00eancia com um tablet da DL, era de um parente. Por isso optei pela compra deste aparelho pois, tive uma experi\\u00eancia satisfat\\u00f3ria. Pesquisei muito no mercado nacional, s\\u00f3 haviam tablets desatualizados ou muito caros, n\\u00e3o estava afim de importar... A DL veio com uma proposta muito atraente, que foi unir um smartphone com tablet e de quebra com Android 7.0 atual. Fiquei surpreso por ser uma empresa brasileira.  Claro que n\\u00e3o \\u00e9 perfeito, c\\u00e2mera de selfie fraca, bateria pouco dur\\u00e1vel mem\\u00f3ria interna j\\u00e1 v\\u00eam quase lotada,, (cart\\u00e3o de mem\\u00f3ria indispens\\u00e1vel) e alguma lentid\\u00e3o se usado mais de dois aplicativos... Acredito que a DL vai ouvir o fidback do consumidor e, aprimorar seus produtos. Vale o custo benef\\u00edcio.\",3],[\"Gostei. Comprei para meu neto de cinco anos, achei \\u00f3timo.   Comprei outra marca e sempre travava, com este ele est\\u00e1 muito feliz.\",4],[\"Muito bom o produto. Gostei do produto.. muito bom..atende minhas necessidades!\",3],[\"Excelente aquisi\\u00e7\\u00e3o. Super recomendo!. Gostei muito do aparelho. Recomendo a compra. F\\u00e1cil de usar e muito pr\\u00e1tico.\",5],[\"DUVIDA. Algu\\u00e9m sabe se \\u00e9 bom para rodar o Premiere?? Estou procurando um notebook para trabalho.\",4],[\"S\\u00f3 funciona na tomada!. O computador parecia bom, mas s\\u00f3 funcionou conectado na tomada. Se desligava aproximadamente 5 segundos ap\\u00f3s ser desconectado da fonte! E s\\u00f3 religava conectado! Ou seja, na pr\\u00e1tica \\u00e9 como se n\\u00e3o tivesse bateria! Devolvido no mesmo dia!\",1],[\"Produto enviado com defeito. Notebook enviado ap\\u00f3s 3 dias de uso apresentou defeito, e o mesmo precisar\\u00e1 ser enviado para a assist\\u00eancia!\",1],[\"Notebook  deixa muito a desejar.. Ol\\u00e1. Notebook muito lento na leitura do HD,  caro, sem leitor de CD\\u002fDVD, resolu\\u00e7\\u00e3o da tela ruim,etc. Entrega e atendimento muito complicados. S\\u00f3 n\\u00e3o devolvemos o produto por causa. do nosso projeto social. No geral, eu n\\u00e3o recomendo essa compra.\",1],[\"Gostei do Notebook. O notebook \\u00e9 bom. Apenas algumas observa\\u00e7\\u00f5es a serem feitas: - Demora para encontrar as redes quando inicializado; - Criei dois perfis: um com conta microsoft e outro sem conta. Demora um pouco mais para carregar os perfis; - Ele n\\u00e3o vem com duas parti\\u00e7\\u00f5es no HD, apenas com o disco local C.\",3],[\"Simples e pr\\u00e1tico. Um bom equipamento para quem precisa de algo pr\\u00e1tico e de custo aceit\\u00e1vel para as atividades do dia-a-dia, visando \\u00e9 claro estudo ou trabalho.\",3],[\"Notebook Lenovo. Gostei muito do notebook.  \\u00c9 \\u00f3timo e de f\\u00e1cil manuseio! Chegou rapidinho!\",4],[\"Entrega o que promete!. Estou usando para a universidade, usando inclusive o Arc gis, o pc funciona bem.\",3],[\"Melhor custo \\u002fbenef\\u00edcio. Produto muito bom, pre\\u00e7o bom e teclado num\\u00e9rico me agradou bastante, embora isso deixe o notebook maior. Excelente atendimento da Dell. Americanas , como sempre, fez a entrega antes da previs\\u00e3o, mesmo na \\u00e9poca de Natal.\",4],[\"Gostei do produto. Gostei muito do atendimento entrega no prazo previsto e sem danos\",3],[\"\\u00c9 o que promete ser. Entre todos os produtos que pesquisei este foi o que melhor se encaixou no quesito custo\\u002fbenef\\u00edcio e tem atendido bem as minhas necessidades.  Pr\\u00f3s: - Silencioso - R\\u00e1pido - Tela grande e confort\\u00e1vel. - Bom acabamento - Som excelente - Roda jogos com um desempenho m\\u00e9dio\\u002fbom  Contras: - Sinto falta de leds que sinalizem o que est\\u00e1 ativo ou n\\u00e3o (caps, leitura do disco, num lock...) - Drive cd\\u002fdvd\",5],[\"\\u00d3timo!!. Gostei muito, vale o pre\\u00e7o q paguei 1299,90!  A bateria dura 4h, tem um som muito bom, \\u00f3timo para ver Netflix etc  Roda the Sims 4, na qualidade mais baixa, j\\u00e1 que n\\u00e3o \\u00e9 um Notebook para jogos. Mas \\u00e9 muito bom para oq eu preciso!!\",4],[\"UMA COMPRA BRM SUCEDIDA. Ontem adquirido atende as expectativas do consumidor.\",5],[\"n\\u00e3o sei ao certo. Estou querendo comprar mas estou em duvida se valer apena.algu\\u00e9m me dar uma luz?\",5],[\"Bateria danificada. Produto chegou com bateria danificada, devolvi para a assist\\u00eancia t\\u00e9cnica h\\u00e1 mais de 10 dias e n\\u00e3o tive mais retorno. Quando liguei disseram que est\\u00e3o esperando chegar uma bateria da positivo. Estou sem minha compra. N\\u00e3o recomendo.\",1],[\"Muito bom. Atendeu as expectativas. Fixa bem. A capa traseira \\u00e9 um preto transparente, o que nao mostra na foto, mas gostei!\",4],[\"Muito bom. Notebook muito Bom, atendeu completamente minhas expectativas.\",4],[\"RECOMENDO. N\\u00e3o \\u00e9 nenhum S8 mas pelo custo compensa. \\u00d3tima rela\\u00e7\\u00e3o custoxbenef\\u00edcio. S\\u00f3 n\\u00e3o atribui excelente devido \\u00e0 qualidade das imagens das fotos que ainda fica um pouco a desejar.\",4],[\"\\u00d3timo custo benef\\u00edcio. Produto muito bom,  s\\u00f3 faltou luzes indicativas de fun\\u00e7\\u00f5es ativas.\",4],[\"Produto muito bom.. A m\\u00e1quina \\u00e9 excelente, atender\\u00e1 totalmente a minha necessidade. Por\\u00e9m, o Windows deu problema ap\\u00f3s atualiza\\u00e7\\u00e3o.\",4],[\"Gostei bastante!. Muito bom, recomendo.Apesar do tamanho \\u00e9 bem compacto e vers\\u00e1til.\",4],[\"Amei o produto. Recebi dentro do prazo, super bem embalado, dei de presente ao meu marido, que avaliou como excelente qualidade do produto, \\u00e9 um notebook muito bonito, leve!\",5],[\"excelente produto. Rapido, bateria dura muito, as portas s\\u00e3o muito bem distribuidas, ja tive outro acer uma marca acima de qualquer suspeita, excelente\",5],[\"atendimento de expectativas. Gostei muito do notebook, do design, do peso, e dos programas instalados neste modelo q est\\u00e3o me atendendo muito bem. Recomendo a compra do produto pelas Lojas Americanas que me deu suporte desde o pedido at\\u00e9 a entrega. O produto veio no prazo e bem embalado.\",5],[\"Produto de \\u00f3tima qualidade. Estou super satisfeito,comprei a poucos dias antes do Natal e me entregaram antes do Natal, produto de \\u00f3tima qualidade,eu super recomendo.\",5],[\"muito bom. desingner do produto bonito, entrega da loja no tempo previsto, recomendaria a um amigo, por\\u00e9m, hoje me senti preocupada, precisei utiliz\\u00e1-lo e ele travou pela primeira vez, n\\u00e3o sei se \\u00e9 normal em apenas tr\\u00eas meses de pouco uso e ele j\\u00e1 estar travando.\",4],[\"HORR\\u00cdVEL!!!!. Pra encurtar a conversa, essa marca \\u00e9 uma piada, cai na besteira de comprar, perdi o dinheiro!!!  N\\u00c3O COMPREM!!!\",1],[\"Gostei do produto. Produto bom entrega super r\\u00e1pida, recomendo a loja\",3],[\"muito bom. o note \\u00e9 lindo, o tamanho \\u00e9 ideal, gostei muito. chegou super rapido, comprei na quarta e sabado de manha ja estava com ele. o processador dele \\u00e9 rapido, n\\u00e3o trava, atende o que promete, \\u00e9 um bom investimento.\",5],[\"otimo prooduto. gostei muito deste notebook, vale a pena levar para casa.\",4],[\"\\u00d3timo custo benef\\u00edcio. Comprei para os meus filhos achei \\u00f3timo o produto o valor e a qualidade excelente, entrega r\\u00e1pida super indico\",4],[\"insatisfeita. Produto diferente do anunciado, diferente da foto. Tentei devolver e n\\u00e3o consegui!\",1],[\"Muito Bom. Tem um desempenho bom em jogos e multitarefa, mas o HD realmente faz barulho e ele esquenta um pouco.\",4],[\"Excelente produto!. Computador super r\\u00e1pido, desempenho atende perfeitamente, tamb\\u00e9m bem f\\u00e1cil de usar, e o novo sistema do cortana ajuda muito nas tarefas de trabalho, recomendo!\",4],[\"Custo benefio. Vale a pena bom produto, bonito muito elegante e cumpre o que promete.\",3],[\"muito bom. notte muito bom, rapido, bonito eficiente ....................................................................\",3],[\"Produto bom para uso dom\\u00e9stico.. No geral \\u00e9 bom para tarefas b\\u00e1sicas, como ver filmes e ler e-mails, para jogos n\\u00e3o recomendo.\",3],[\"Otimo Notebook. Notebook Excelente, alem de muito bonito tem desempenho muito bom e quase n\\u00e3o esquenta!!\",5],[\"Pratico rapido e muito leve.. Produto excelente para o seu dia a dia. Al\\u00e9m de r\\u00e1pido e pr\\u00e1tico, o produto ainda \\u00e9 bem leve para o transporte. Excelente produto!!!\",4],[\"Muito bom.. O produto \\u00e9 bom, atende as minhas necessidades. Tem um designer bom, super fino. Gostei muito.\",4],[\"Satisfa\\u00e7\\u00e3o. Compra efetuada sem dificuldades e entrega r\\u00e1pida. Senti apenas falta de maiores informa\\u00e7\\u00f5es\\u002fdescri\\u00e7\\u00e3o do produto no momento da busca.\",4],[\"Produto satisfat\\u00f3rio. Tinha uma expectativa maior sobre o notebook. A entrega foi r\\u00e1pida e eficiente. Produto chego inteiro e sem nenhum problema. A minha decep\\u00e7\\u00e3o foi que achei pesado e lento para um I5. Esperava mais rapidez na execu\\u00e7\\u00e3o dos programas. Por\\u00e9m vai atender a minha necessidade de estudo e uso dom\\u00e9stico.\",3],[\"FIQUEI DECEPCIONADA. J\\u00c1 \\u00c9 O SEGUNDO TABLET QUE COMPRO DESTA MARCAR QUE VOU PRECISAR TROCAR, N\\u00c3O TEM UM MES DE USO\",1],[\"Bom. O produto \\u00e9 bom, por\\u00e9m a bateria \\u00e9 muito ruim, as imagens n\\u00e3o s\\u00e3o n\\u00edtidas.\",3],[\"Otimo. Entrega pronta. Produto otimo em todos os aspectos com funcionamento muito eficaz\",5],[\"Produto otimo recomendo!. Entrega r\\u00e1pida,produto excelente site super mega seguro!!!Adorei\",4],[\"Sem palavras. Muito bom msm Obrigado n\\u00e3o tem compara\\u00e7\\u00e3o com outras  marcas.\",4],[\"Notebook muito bom e de alta qualidade. O produto \\u00e9 excelente e a entrega foi muito r\\u00e1pida. Parab\\u00e9ns! :)\",5],[\"Compra do notebook Positivo pela internet. Muito lindo o produto, design moderno, muito semelhante ao visto pelo computador. A entrega atrasou um pouco, mas nada que comprometesse.\",5],[\"otimo. produto muito bom, n\\u00e3o trava e legal para a crian\\u00e7ada.\",5],[\"Dell \\u00e9 top. Meu segundo notebook, primeiro Dell \\u00e9 claro, boa op\\u00e7\\u00e3o para quem estudante de cursos de Inform\\u00e1tica. Pr\\u00f3s: design top, n\\u00e3o esquenta muito, teclado muito bom, touchpad bom (mas prefiro um mouse bluetooth), n\\u00e3o pesa muito comparado ao meu velho notebook LG, Sistema Linux sem problemas, pois j\\u00e1 venho migrando desde 2016 para softwares livres. Contras: nenhum.\",5],[\"O pre\\u00e7o que ajuda. Mai comprando pela dell as parcelas vai para 12x sem juros e frete gr\\u00e1tis\",4],[\"excelente produto samsung. recomendo o produto, processador r\\u00e1pido, alcan\\u00e7ou as expectativas, pena que o brinde, que era um auto-falante ou uma bateria estava esgotado.\",4],[\"PRODUTO \\u00d3TIMO. Produto em perfeito estado e \\u00f3timo funcionamento, recomendo a todos esses produto.\",4],[\"Produto atende as exoectativas. Produto excelente...........................    Produto excelente................... Produto excelente...................\",5],[\"superou minhas expectativas. Se voc\\u00ea quer um tablet  barato para ler, estudar, assistir v\\u00eddeos e navegar na internet essa \\u00e9 a melhor escolha. Al\\u00e9m de ser muito bonito, \\u00e9 fluido, tem bateria de boa dura\\u00e7\\u00e3o e imagem em hd. Um \\u00f3timo custo-benef\\u00edcio. Estou impressionada.Saiu bem barato.\",5],[\"Tela verde e tremendo. O aparelho veio com defeito. Ele est\\u00e1 com proble.as na placa de v\\u00eddeo. A tela fica verde quando cai desligar.\",1],[\"gostei muito do produto. Excelente custo benef\\u00edcio. Produto bom, pre\\u00e7o bom, chegou r\\u00e1pido. Tudo de acordo com o esperado. Excelente para crian\\u00e7as.\",5],[\"Excelente. Excelente custo benef\\u00edcio. Produto bom, pre\\u00e7o bom, chegou r\\u00e1pido. Tudo de acordo com o esperado. Excelente para crian\\u00e7as.\",5],[\"Excelente notebook.. \\u00d3timo custo e beneficio pela configura\\u00e7\\u00e3o, recomendo.\",5],[\"N\\u00e3o comprei ainda.. N\\u00e3o comprei ainda estou esperando 60% de desconto, tenho acompanhado desde de outubro este produto n\\u00e3o foi dado desconto ainda,  como e que fica preciso comprar. Ex: 1700,00 - 60% = 1020,00 cad\\u00ea o desconto do notebook,\",5],[\"muito bom. Adoramos o tablet, tem excelente desempenho! Design muito bonito! Roda os joguinhos dos meninos sem o menor problema.. e olha que eles carregaram a mem\\u00f3ria! =D\",5],[\"muito bom! recomendo.. alem de bonito, inicia e carrega rapido! Funciona perfeitamente pelo pre\\u00e7o \\u00e9 \\u00d3TIMO para estudos e pesquisas na internet.\",4],[\"Transa\\u00e7\\u00e3o excelente.. Produto excelente, entregue no prazo, tudo de acordo com o an\\u00fancio.\",5],[\"Estou com uma d\\u00favida. Esse notebook \\u00e9 bom para jogar jogo de tiro fps em primeira pessoa?\",5],[\"\\u00d3timo Tablet. Ap\\u00f3s minha experi\\u00eancia com o Galaxy Tab E, o qual acabou quebrando por descuido meu, resolvi experimentar outro modelo. O Galaxy Tab A n\\u00e3o \\u00e9 3G, sendo somente Wifi, ou seja, n\\u00e3o tendo fun\\u00e7\\u00e3o telefone (chip), n\\u00e3o se instala whatsapp e outros apps de conversa\\u00e7\\u00e3o, por\\u00e9m com isso sobra espa\\u00e7o para outros apps. Optei por Tablet pois \\u00e9 bom pra leitura, jogos e videos. N\\u00e3o esquenta.  Bateria dura 1 dia e meio com uso m\\u00e9dio (sem jogatinas pesadas e por v\\u00e1rias horas). \\u00c1udio e visor muito bons. A c\\u00e2mera nunca foi requisito pra minha compra. Mas por experi\\u00eancia com smartphones da Samsung, a c\\u00e2mera \\u00e9 razo\\u00e1vel. \\u00danico por\\u00e9m \\u00e9 com rela\\u00e7\\u00e3o ao acabamento escorregadio. Aconselho a compra juntamente com alguma capa protetora e pel\\u00edcula. Fora isso, \\u00e9 top!\",4],[\"Atendeu todas as minhas expectativas. Comprei para ler e revisar textos utilizando a S-Pen. Tela de bom tamanho para este fim e a S-Pen funciona perfeitamente. Atendeu todas as minhas expectativas.\",5],[\"Excelente. Chegou antes do prazo. Notebook leve, r\\u00e1pido, n\\u00e3o esquenta e processador muito r\\u00e1pido. \\u00f3timo para estudo, trabalho e alguns games.\",5],[\"Capa possui \\u00edm\\u00e3s. O vendedor deveria informar que a capa possui \\u00edm\\u00e3s que prejudicam o funcionamento do aparelho.\",1],[\"Made in china. Produto made in china,tudo em chin\\u00eas, sem falar no carregador ,p\\u00e9ssimo.  Essa loja Eletrobras nunca mais.\",1],[\"EXCELENTE. ESTOU MUITO SATISFEITO E RECOMENDO SUA COMPRA. RECEBI UM BOM APARELHO EM UM CURTO ESPA\\u00c7O DE TEMPO. ENTREGA R\\u00c1PIDA.\",5],[\"GOSTEI MUITO DO PRODUTO LENOVO QUE COMPREI. COMPREI UM NOTEBOOK COM A EMPRESA AMERICANAS.COM DA MARCA LENOVO. AL\\u00c9M DO PRODUTO POSSUIR UM \\u00d3TIMO DESEMPENHO, A EMPRESA TAMB\\u00c9M MERECE SER CITADA PELO \\u00d3TIMO SERVI\\u00c7O DE ENTREGA E PRE\\u00c7O DO MESMO. RECOMENDO SEUS SERVI\\u00c7OS.   MANOELLA\",5],[\"Engana\\u00e7\\u00e3o. Disco de inicializa\\u00e7\\u00e3o em CD, mas n\\u00e3o tem drive... resumindo n\\u00e3o tem como funcionar!!!! MUITO DECEPCIONADO!!!! FUI ENGANO!!!!\",1],[\"Positiva. At\\u00e9 o momento o notebook tem se comportado muito bem, dentro das minhas expectativas.\",4],[\"Atendeu Muito Bem Minhas Expectativas.. Gostei muito do produto, atendeu as minhas expectativas. Comprei para meu filho de 5 anos ,super recomendo, possui o modo infantil que \\u00e9 super legal, milhares de jogos j\\u00e1 intalados ,para diferentes fazes de idade, Valeu muito a pena. Sobre a entrega foi muito rapida, recebi antes do prazo combinado.  Super Indico.\",4],[\"N\\u00c3O RECEBI. J\\u00c1 INFORMEI A AMERICANAS QUE N\\u00c3O RECEBI ESTE PRODUTO, MAS PARECE N\\u00c3O ADIANTAR.  PEDEM AVALIA\\u00c7\\u00c3O DO QUE N\\u00c3O REBEBI. PARECE QUE O \\u00daNICO JEITO \\u00c9 LEVAR A JUSTI\\u00c7A\",1],[\"Que pre\\u00e7o absurdo \\u00e9 esse por uma m\\u00e1quina assim?. Sinceramente, a maior burrice algu\\u00e9m comprar esse computador por esse pre\\u00e7o, com esse valor da pra comprar uma configura\\u00e7\\u00e3o muito melhor.\",1],[\"GOSTEI!. GOSTEI! \\u00d3TIMO PRINCIPALMENTE PARA JOGUINHOS! N\\u00c3O TRAVA EM JOGOS PESADOS.\",4],[\"Razo\\u00e1vel. \\u00d3bvio que \\u00e9 uma m\\u00e1quina limitada, mas por enquanto tem sido \\u00fatil para meu principal uso que \\u00e9 o produzir trabalhos acad\\u00eamidos (usando Word, Excel e ppt) e pesquisa de informa\\u00e7\\u00f5es na internet. As vezes tem uma certa lentid\\u00e3o... fica meio travado.\",2],[\"DEFEITO. Comprei o produto demorou 15 dias para chegar, usei o primeiro dia, no dia seguinte s\\u00f3 funcionava com o carregador conectado na tomada mesmo com a bateria cheia, mandei de volta j\\u00e1 faz 15 dias e at\\u00e9 agora n\\u00e3o recebi outro, recebi mensagem que vai chegar no dia 24\\u002f01\\u002f18, portanto j\\u00e1 ser\\u00e3o 45 dias de espera, brincadeira viu.\",1],[\"Excelente. Gostei mto do produto e da entrega. Um excelente notebook gamer.\",5],[\"Notebook bom. R\\u00e1pida entrega das lojas americanas, marca renomada, o produto atende as necessidades b\\u00e1sicas, \\u00e9 um pouco lento para jogos por exemplo. Mas assisto netflix, youtube, videos do facebook sem travar. Como outros aparelhos de outras marcas, precisa comprar a chave para utilizar office, vem com 1 m\\u00eas gratuito. Tela bem grande, s\\u00e9rio, Recomendo pelo custo benef\\u00edcio.\",4],[\"Gostei. Cumpre o que promete!! N\\u00e3o serve para o iPad novo, mas para o antigo ficou perfeito!!\",5],[\"Gostei do produto. O recebimento do produto foi muito r\\u00e1pido, e o produto atende com satisfa\\u00e7\\u00e3o a minha necessidade.\",4],[\"Muito Bom. Produto atendeu perfeitamente as minhas expectativas.\",5],[\"Excelente notebook!. Excelente notebook, muito r\\u00e1pido, suporta at\\u00e9 alguns games, aplicativos de filmes e muito bom para as atividades b\\u00e1sicas no Office. Recomendo!\",5],[\"Excelente. Pr\\u00e1tico para trabalho, f\\u00e1cil acesso, leve, design moderno!! Entrega antes do prazo!  Excelente custo-benef\\u00edcio.\",5],[\"Bom produto. Produto ok para uso caseiro, custo\\u002fbenef\\u00edcio compensa. Mas se for rodar programas pesados melhor comprar um tablet mais robusto.\",3],[\"Atende perfeitamente o que foi proposto!. Computador ideal para tarefas di\\u00e1rias, bem como redes sociais, jogos em browser, videos em full HD, o sistema operacional inclu\\u00eddo vem com todas as funcionalidades para uma utiliza\\u00e7\\u00e3o completa, foi s\\u00f3 ligar e come\\u00e7ar usar, sem mimimi de ficar instalando windows em um processo de etapas intermin\\u00e1veis.\",5],[\"Bom. O carregado e lento; O Aparelho esquenta um pouco com o uso prolongado; N\\u00e3o da pra ver a tela com a luz do Dia, s\\u00f3 dentro de casa;  Ja vem com muitos programas, ocupando muita memoria; O som e um pouco baixo; Mas o aparelho corresponde em tese as minhas expectativas; Consigo us\\u00e1 lo bem. Recomendo\",3],[\"Muito Lento. Pela marca e pelo equipamento, eu esperava bem mais. Achei muito lento, pra tudo! A entrega foi muito lenta tamb\\u00e9m.\",2],[\"MARAVILHOSO PRODUTO. AMEI ESSE PRODUTO, ELE \\u00c9 GRANDE, PROCESSADOR MUITO BOM, DESENVOLVE BEM, O SOM \\u00c9 MUITO LIMPO.]  S\\u00d3 N\\u00c3O SEI COMO ABRE A UNIDADE DE DISCO. NO MANUAL DIZ QUE VEM, MAS  NAO CONSEGUI ABRIR :i...ALGU\\u00c9M ME AJUDA A\\u00ed?\",4],[\"compra notebook. correspondeu as minhas expectativas, foi boa a compra recomendo\",4],[\"Gostei muito do produto. Excelente notebook, esperava mais da placa de v\\u00eddeo, mas mesmo assim \\u00e9 \\u00f3timo\",4],[\"\\u00d3timo produto.. Bom desempenho, cumpre o que promete. Chegou bem r\\u00e1pido, \\u00e9 pr\\u00e1tico e f\\u00e1cil de carregar, um produto bem leve.\",4],[\"\\u00d3timo produto. \\u00c9 um \\u00f3timo notebook para o dia a dia, mesmo sem a entrada para DVD, \\u00e9 perfeito, e por ser pequeno \\u00e9 bem pr\\u00e1tico. Feliz com a compra.\",4],[\"Demora na entrega e atualiza\\u00e7\\u00e3o de status.. N\\u00e3o tem nem como avaliar j\\u00e1 que meu pc n\\u00e3o chegou e t\\u00e1 demorando horrores para chegar. Decepcionando :\\u002f\",1],[\"Bom. Recomendou-lhe apresenta\\u00e7\\u00e3o conforme descrito nada a reclamar\",5],[\"Tela quebra com facilidade. com 23  dias de uso ele com capa caiu do meu colo e quebrou a tela, muito fr\\u00e1gil, acho que nesses produtos por serem grandes deveria vir com gorilla glass estou muito triste, a entrega na loja foi r\\u00e1pida parab\\u00e9ns loja americana.\",2],[\"NOTEBOOK BOM. comprei j\\u00e1 tem 1 semana, funcionando perfeitamente... atende mais que minhas necessidades diarias... r\\u00e1pido.. bonito e tela grande.\",4],[\"Pr\\u00e9 avalia\\u00e7\\u00e3o. Estou esperando pela entrega, pelos requisitos esse produto tem tudo pra ser um bom notebook, na Espera do produto para avali\\u00e1-lo melhor, custo beneficio em conta...\",3],[\"Produto \\u00f3timo. Gostei muito desse note pequeno, leve bonito e por enquanto posso dizer que ele est\\u00e1 sendo \\u00f3timo pra mim, pouco tempo de uso, a entrega desse produto foi rapida o que me deixou feliz ja o mouse at\\u00e9 agora nada.\",4],[\"Produto \\u00f3timo. Produto excelente, preenchendo todas as espectativas\",4],[\"Execelente Tablet. Excelente Tablet da Samsung, meu filho adorou, funciona muito bem os joguinhos sem travas. Recomendo...!!!!\",5],[\"PRODUTO ATENDE MINHAS NECESSIDADES. A AMERICANAS EST\\u00c1 DE PARABENS PELA ENTREGA, QUE ACONTECEI MUITO ANTES DO PRAZO. O COMPUTADOR TAMB\\u00c9M \\u00c9 EFICIENTE E SUPRE TODAS AS MINHAS NECESSIDADES. ESTOU SATISFEITA COM A COMPRA.\",3],[\"Computador lento. N\\u00e3o recomendo, Noteboock lento, periodicamente pede para atualizar algum programa e fica mais lento ainda. O problema n\\u00e3o \\u00e9 minha internet, possuo 20 Megas.\",1],[\"Cade o leitor de cd\\u002fdvd?. Entrega r\\u00e1pida, produto aparentemente bom, vamos ver com o decorrer da semana, mas cade o leitor de cd\\u002fdvd? algo de vital import\\u00e2ncia...\",3],[\"gostei. atendeu toda expectativa ha pouca memoria mais sabia deste fato ao adquirir comprei por ter a opcao 4g\",4],[\"Produto p\\u00e9ssimo. Produto que de gra\\u00e7a ainda se torna caro ,  porque ao ligar esse tablet e at\\u00e9  voc\\u00ea  conseguir acessar algum aplicativo, seu dia j\\u00e1  se foi !\",1],[\"Design Incr\\u00edvel - usu\\u00e1rio intermedi\\u00e1rio\\u002fb\\u00e1sico. M\\u00e1quina excelente para usu\\u00e1rios b\\u00e1sicos e intermedi\\u00e1rios.  Notebook com design incr\\u00edvel (lindo), por\\u00e9m as linhas cromadas e o logotipo cromado abaixo da tela por vezes proporcionam reflexos inc\\u00f4modos.   Estudantes: Desempenho um pouco a baixo do esperado quando lhe s\\u00e3o instalados softwares \\\"pesados\\\" de programa\\u00e7\\u00e3o, c\\u00e1lculos e desenho (ex: MatLab, Python com as bibliotecas cient\\u00edficas), contradizendo o \\\"Aspire 5 foi pensado para quem precisa de alta performance e velocidade\\\".\",4],[\"\\u00d3timo produto.. \\u00d3timo produto. At\\u00e9 o momento n\\u00e3o tem nenhum problema.\",5],[\"melhor custo x benef\\u00edcio. Comprei um notebook deste A515-51G-58VH na promo\\u00e7\\u00e3o de natal e paguei 10 x 219,90 sem juros, vale cada centavo, \\u00e9 r\\u00e1pido, n\\u00e3o esquenta, a bateria dura at\\u00e9 6 horas se estiver s\\u00f3 navegando e vendo v\\u00eddeos, mas jogando a bateria s\\u00f3 dura umas 2 horas, ele \\u00e9 leve, silencioso demais, teclado confort\\u00e1vel para digitar, o \\u00fanico por\\u00e9m \\u00e9 a tela espelhada, tem muito reflexo, e n\\u00e3o \\u00e9 1280x720 e sim 1366x768, ou seja, diferente de como \\u00e9 anunciado em alguns sites na internet. Mas eu recomendo.\",4],[\"N\\u00e3o Comprem!!!!!!. Demorou para chegar, chegou e n\\u00e3o est\\u00e1 funcionando vou ter que mandar pra eles arrumarem, e demorar mais e mais\",1],[\"Gostei. Me entregaram antes da data prevista,e \\u00e9 um bom produto mais minhas expectativas eram maiores das que obtive\",3],[\"Produto simplesmente n\\u00e3o funciona. Produto n\\u00e3o funciona, fica tela preta carregando e n\\u00e3o abre nada , esquenta muito, muito mesmo mais lento do que qualquer outra coisa , n\\u00e3o recomendo de maneira alguma , produto simplesmente horr\\u00edvel.\",1],[\"produto e atendimento conforme o esperado. gostei !!!!!!!!!!!!!!do servi\\u00e7o como um todo...............................\",4],[\"Boa capa protetora. \\u00c9 uma boa capa para prote\\u00e7\\u00e3o, realmente encaixou o de 7\\\", n\\u00e3o deixa o tablet escorregar das m\\u00e3os. Por\\u00e9m o el\\u00e1stico direito superior fica bem em cima da entrada do fone de ouvido (no caso do tablet samsung galaxy tab A modelo T280), logo, caso queira usar fone, precisa tirar esse el\\u00e1stico (ficando o tablet seguro pelos outros 3 el\\u00e1sticos). E n\\u00e3o deu para assistir videos na horizontal colocando a capa em uma mesa. \\u00c9 preciso escorar o tablet em algum lugar pois a capa n\\u00e3o segura ele na horizontal... fica caindo. Nas fotos do produto v\\u00ea-se um tablet na posi\\u00e7\\u00e3o horizontal, mas n\\u00e3o fica firme.\",3],[\"defeito com menos de 4 meses de uso. Recebi o produto j\\u00e1 faz 3 meses e 20 dias, \\u00e9 um computador regular, nada de espetacular, desempenho comum, todas as USBs (duas), s\\u00e3o do mesmo lado, ali\\u00e1s...tudo fica do lado esquerdo, n\\u00e3o tem entrada pra cart\\u00e3o, mas isso estava nas especifica\\u00e7\\u00f5es e fotos. Hoje vou lev\\u00e1-lo \\u00e0 assist\\u00eancia t\\u00e9cnica pois a placa de wifi, que j\\u00e1 estava falhando, parou de funcionar de fez. N\\u00e3o compraria novamente, ele \\u00e9 um daqueles travados... com parti\\u00e7\\u00f5es escondidas,dif\\u00edcil de trocar o sistema, e nem pode!!!! se vc ler a garantia vai descobrir que ela e torna nula se vc trocar  sistema ou usar alguma coisa que n\\u00e3o \\u00e9 Samsung.\",1],[\"Bom produto. Existem produtos superiores no mercado, mas atendeu a expectativa \\u00e9 o prometido pelo fabricante. Recomendo!\",3],[\"Excelente. Leva o peso da qualidade DELL, n\\u00e3o da pra achar um notebook com essa configura\\u00e7\\u00e3o por esse pre\\u00e7o.  Muito satisfeito por essa compra, confiabilidade da entrega das Lojas Americanas.\",5],[\"Gostei do produto. Produto muito bom conforme esperado. Entrega r\\u00e1pida.\",4],[\"Custo-benef\\u00edcio razo\\u00e1vel. Notebook leve e compacto. J\\u00e1 vem pronto para o uso. No entanto, a capacidade de armazenamento e processamento \\u00e9 t\\u00e3o baixa que s\\u00f3 de instalar Chrome ele j\\u00e1 ficou lento. Se n\\u00e3o for para instalar absolutamente nada nele, at\\u00e9 que atende ao uso dom\\u00e9stico.\",2],[\"O produto atendeu minhas expectativas. Produto entregue dentro do prazo e atendeu as expectativas\",5],[\"O produto atendeu as expectativas. Eu sou desenvolvedor de software, e precisava de um tablet que atendesse as seguintes expectativas:  1) O custo benef\\u00edcio fosse bom; 2) Que o produto n\\u00e3o fosse muito r\\u00e1pido e sofisticado;  Dessa forma, os dois crit\\u00e9rios acima foram atendidos perfeitamente.\",3],[\"nao recebi este produto. gostaria muito de avaliar este produto, mas infelizmente n\\u00e3o recebi. espero o reembolso pelo pg realizado e produto n\\u00e3o enviado. att.,\",1],[\"Ameiiiiiii o produto!!!!!. Gostei muito do produto, veio certinho e chegou at\\u00e9 antes do prazo. Super indico. \\u003c3\",5],[\"Excelente!. Excelente para minhas necessidades. Superou as expectativas!\",4],[\"Pior marca que j\\u00e1 comprei!!!. Com tr\\u00eas meses de uso a placa m\\u00e3e queimou e agora com cinco meses de uso a placa de v\\u00eddeo est\\u00e1 queimando, produto de p\\u00e9ssima qualidade. Nunca pensei que a positivo estivesse t\\u00e3o ruim, estou decepcionada.  O produto est\\u00e1 barato mas \\u00e9 como dizem: O barato sai caro.\",1],[\"Precisam melhorar o atendimento. Fui muito mal atendido pelos consultores da Americanas. Recebi meu produto com atraso, sendo que comprei este computador como uma ferramenta de trabalho.  O computador \\u00e9 lento e dificilmente consigo desempenhar as fun\\u00e7\\u00f5es que necessito com ele.\",2],[\"Notebook LG. Produto bom e entrega o que anuncia, s\\u00f3 o teclado que n\\u00e3o \\u00e9  muito sens\\u00edvel, tendo que apertar com mais for\\u00e7a para seguir o comando.\",3],[\"Gostei do notebook. Suficiente para uso b\\u00e1sico, Office, navega\\u00e7\\u00e3o na internet, redes sociais, fotos, filmes e m\\u00fasicas! Neste aspecto atende plenamente!!!\",4],[\"propaganda enganosa na parte da entrega. como posso avaliar se o produto ainda n\\u00e3o chegou  quando fiz pedido estava 28 dias para entrega paguei dia 11\\u002f12   .. hoje j\\u00e1 em 10 janeiro e nada ainda  pelo conceito que a americanas tem ..deveria pensar em rever as parcerias com seus fornecedores.  estou indignada com falta de aten\\u00e7ao da equipe americana pois ja fazem mais de 10 dias que estou esperando retorno e nada\",1],[\"Otimo!!. Um produto muito bom, muito bonito e funciona muito bem, recomendo!!\",5],[\"PESSIMO O ATENDIMENTO. PIOR SITE PRA FAZER COMPRAS COMPREI UM PRODUTO E NUNCA RECEBI E NAO ME D\\u00c3O NEM SATISFA\\u00c7\\u00c3O, ESTOU PREPARANDO UM B.O PRA ENTRAR NO PROCON.\",1],[\"Dell Inspiron. Aparenta ser um bom produto! Comprei a poucos dias. N\\u00e3o apresentou travamento, s\\u00f3 demora um pouco para ligar.\",3],[\"Bateria de p\\u00e9ssima qualidade. S\\u00f3 funciona na tomada, decepcionante. Minha primeira e \\u00fanica experi\\u00eancia com a marca Positivo, que de positivo mesmo n\\u00e3o tem nada!\",1],[\"meu netinho adorou. Para crian\\u00e7a achei excelente meu netinho amou o som achei baixo mesmo sendo volume maximo mas foi satisfatorio o produto pelo pre\\u00e7o.\",4],[\"otimo. bom chegou direitinho e r\\u00e1pido bom chegou direitinho e r\\u00e1pido bom chegou direitinho e r\\u00e1pido bom chegou direitinho e r\\u00e1pido bom chegou direitinho e r\\u00e1pido bom chegou direitinho e r\\u00e1pido bom chegou direitinho e r\\u00e1pido bom chegou direitinho e r\\u00e1pido bom chegou direitinho e r\\u00e1pido\",4],[\"produto de qualidade. Produto de \\u00f3tima qualidade conforme descri\\u00e7\\u00e3o e chegou antes do prazo previsto\",5],[\"Uma \\u00f3timo produto. J\\u00e1 conhe\\u00e7o essa marca a muitos  anos,e agora tive a oportunidade de adquirir esse aparelho excelente.\",4],[\"Atendeu as expectativas. De acordo com as informa\\u00e7\\u00f5es do site. Estou satisfeito com a aquisi\\u00e7\\u00e3o.\",4],[\"Gostei. Muito pratico, s\\u00f3 faltou uma entrada RJ45 e um processador mais r\\u00e1pido (a\\u00ed seria perfeito), mas atendeu bem minha necessidade. Recomendo.\",4],[\"\\u00d3timo produto. Muito bom o produto, excelente qualidade e acabamento, entrega no prazo.\",3],[\"Cuidados de Consumidor. Tive a sorte de comprar esse produto na loja f\\u00edsica de um Shopping em Fortaleza-CE com um pre\\u00e7o bem em conta e parcelado em 10x. Ao finalizar o pagamento, a funcion\\u00e1ria do caixa me explicou que no cupom fiscal estava discriminado o valor do teclado, mouse e caixas de som separado, mais n\\u00e3o ia interferir no total. Em seguida me entregou a caixa com a CPU e eu indaguei se ela havia me entregado o cupom, ela afirmou positivamente e eu segui com aquele trambolho para o carro, mas resolvi voltar na loja e conferir o conte\\u00fado da caixa, pois j\\u00e1 havia sido prejudicado em uma compra outra \\u00e9poca. Ao abrir a caixa todos os itens constavam, por\\u00e9m notei que a tampa lateral n\\u00e3o estava encaixada como deveria e ao inspecionar melhor virando o gabinete, a surpresa: o alum\\u00ednio do fundo estava muito amassado. Algu\\u00e9m me disse que s\\u00f3 havia aquela caixa e outra funcion\\u00e1ria apareceu 15 min depois com outra. Abrimos e estava oK. Questionei sobre o cupom fiscal que n\\u00e3o achei em meus bolsos e a funcion\\u00e1ria reafirmou que havia entregue. Solicitei uma segunda via como comprovante de garantia, me passaram um recibo e orientaram que enviariam por e-mail. Recebi. Fico pensando na dor de cabe\\u00e7a se tivesse identificado o defeito somente em casa e como iria comprovar que comprei na loja sem o cupom fiscal. Me deu impress\\u00e3o e sensa\\u00e7\\u00e3o de estar participando de um golpe. Fica a Dica!\",4],[\"muito bom o produto. muito bom o produto, entrega r\\u00e1pida e recomendaria para outro consumidor.\",4],[\"Otimo!!! Prazo de entrega excelente!!!. Parab\\u00e9ns continue assim... Gostaria que todos os sites focem de tamanha respons\\u00e1bilidade quanto o seu!\",5],[\"d\\u00favidas. qualquer monitor \\u00e9 compativel? tem entrada HDMI?   aguardo resposta\",3],[\"nao recebi o produto. Tenho tentado entrar em contato inumeras vezes e n\\u00e3o tenho conseguido resposta satisfat\\u00f3ria.  vou procurar o o procon se o caso n\\u00e3o for resolvido esta semana.  entrarei na justi\\u00e7a\",1],[\"MUITO BOM OS PRODUTOS DELL. Tenho um DELL a mais de 9 anos e realmente a qualidade \\u00e9 superior.\",5],[\"Apple \\u00e9 apple. N\\u00e3o tenho do que reclamar do produto, pelo contrario. Vale muito a pena. Chegou antes do prazo. Recomendo!\",5],[\"Pr\\u00e1tico para crian\\u00e7as. Muito pr\\u00e1tico para as crian\\u00e7as segurarem o tablet e o fato de poder deixar apoiado na mesa, sem que precise ficar segurando, \\u00e9 muito bom!\",4],[\"Muito ruim. O notebook n\\u00e3o realiza bem func\\u00f5es b\\u00e1sicas de um notebook qualquer. Ele \\u00e9 extremamente lento e demora at\\u00e9 pra abrir uma p\\u00e1gina na internet. N\\u00e3o recomendo. Tenho uma prima que tem um igual e reclama da mesma coisa.\",1],[\"O produto \\u00e8 bom mas a memoria \\u00e9 um pouco pequena e trava com alguns jogos. O produto \\u00e8 bom mas a memoria \\u00e9 um pouco pequena e trava com alguns jogos.\",3],[\"muito  bom. Estou muito satisfeita com o produto e com  as loja americanas, enrega antes do prazo,muito bom parab\\u00e9ns americanas.\",4],[\"Ideal para seu dia-a-dia.. Aparelho de f\\u00e1cil manuseio, aplicativos dispon\\u00edveis e teclado de uso facilitado.\",4],[\"muito bom. muito r\\u00e1pido e a c\\u00e2mera de excelente defini\\u00e7\\u00e3o,facil de manusear, a bateria \\u00b4n\\u00e3o descarrega com facilidade, gostei muito e recomendo pra qualquer um\",5],[\"produto muito bom. PRODUTO MUITO BOM CUSTO BENEFICIO OTIMO POREM O SISTEMA OPERACIONAL QUE VEM INSTALADO NELE \\u00c9 MUITO RUIM MAIS DEPOIS Q COLOCAR WINDOWS 10 ROOODA MUIIITO BEM RECOMENDO MUIIITO,ENTREGA SUPER OTIMA MUITO ANTES DA DATA PREVISTA.\",4],[\"Bateria melhor que duracell, dura, dura, dura!!!!. Esta pensando naquele Not brilhoso, pintura automotiva, fininho, lev\\u00edssimo coisinha de princesa!?? Pois pode ir desistindo, este Not \\u00e9 para pessoas que querem algo dur\\u00e1vel, robusto, silencioso, que n\\u00e3o esquenta, trabalha sempre no mesmo ritmo, quer um mais r\\u00e1pido!?? Ent\\u00e3o v\\u00e1 para um Dell Corel i5 ou i7, pq este i3 \\u00e9 pau para toda obra, n\\u00e3o te deixa m\\u00e3o, trabalha at\\u00e9 7 horas sem parar, evitando aquele desconforto de \\\"uma tomada pelo amor de deus\\\", na faculdade trabalha sem parar at\\u00e9 o fim da aula como um maratonista, agora se voc\\u00ea gosta dos casquinha de ovos, boa sorte!!!\",5],[\"Perfeito. Roda todos os jogos, n\\u00e3o esquenta, funciona com todos os programas\",5],[\"Gostei!. para a especifica\\u00e7\\u00e3o dele funciona bem. poderia ser um pouco maior.\",4],[\"Lixo!!!!. Comprei para meu filho de presente de Natal. Ele NUNCA conseguiu usar... processador super lento, trava a toda hora e depois de 2 dias travou totalmente e n\\u00e3o funciona mais.... n\\u00e3o recomendo!!\",1],[\"Gostei muito do produto e entrega. Gostei muito do produto e a entrega foi realizada conforme o acordado\",5],[\"Produto excelente. Produto de qualidade, comprei com at\\u00e9 18 dias uteis para entrega e me entregaram com 3 dias.\",5],[\"Entrega. Gostei muito do prazo de entrega, s\\u00e3o excelentes. Parab\\u00e9ns!!!\",5],[\"Muito bom!. Comprei o Note para atividades acad\\u00eamicas. N\\u00e3o tenho do que reclamar.  \\u00c9 r\\u00e1pido e fino.\",5],[\"\\u00d3timo produto, adorei!!!. Produto moderno , com requisitos avan\\u00e7ados que permitem melhor agilidade no desenvolvimento de trabalhos e capacidade de armazenamento.  Recomendo , al\\u00e9m disso , \\u00e9 leve e muito bonito.\",4],[\"Bom produto. Tela antirreflexo \\u00e9 um excelente acess\\u00f3rio, al\\u00e9m do processador ser bom. A bateria n\\u00e3o dura muito tempo, por\\u00e9m no geral o notebook \\u00e9 muito bom.\",4],[\"N\\u00e3o gostei. Tela fr\\u00e1gil para um tablet para crian\\u00e7as, quebrou no dia que ganhou, n\\u00e3o caiu no ch\\u00e3o, ele provavelmente se apoiou no tablet, tem 3 anos e n\\u00e3o \\u00e9 pesado\",2],[\"Me respondam. Pessoal, estou esperando uma gra\\u00e7a e estou com d\\u00favida se o PC vem sem nem um problema no gabinete ou algo assim, \\u00e9 tbm saber qual o ssite mais operacional, obrigado.\",5],[\"Ainda tem ele no estoque?. Equipe das lojas americanas, existe alguma pr\\u00e9via de quando ele voltar\\u00e1 para o estoque? Chateada porque n\\u00e3o tem mais :'(\",4],[\"Prazo de entrega rapido. N\\u00e3o tinha op\\u00e7\\u00e3o de cor, mas o produto \\u00e9 bom e a entrega foi super rapida.\",3],[\"Computador Intel Core I5 3.10Ghz 8Gb Ddr3 HD 2Tera Premium. Bacana, estou gostando bastante......esta me atendendo bem.\",3],[\"N\\u00c3O RECOMENDO!. Esse modelo de notebook n\\u00e3o suporta o sistema operacional e trava o tempo todo, at\\u00e9 para tarefas simples como abrir uma pasta ele fica carregando! n\\u00e3o indico.\",1],[\"Notebook fica com a tela branca. Gostaria de saber sobre a garantia do notebook porque depois de algum tempo ligado o computador fica com a tela toda branca e linhas pretas, a\\u00ed s\\u00f3 desligando ele e ligando novamente volta a funcionar, mas em seguida fica novamente com a tela branca e linhas pretas, qual o procedimento pra concerto ou troca do produto.\",1],[\"Boas recomenda\\u00e7\\u00f5es. Produto chegou antes do prazo e em perfeiras condi\\u00e7\\u00f5es. Muito bom\",5],[\"Muito lento. O computador \\u00e9 muito lento, antes de comprar pesquisem.\",1],[\"Custo beneficio excelente. A entrega foi realizada antes do prazo combinado. O produto chegou sem nenhum defeito ou arranh\\u00e3o e bem embalado. S\\u00f3 achei ele um pouquinho lento e travando as vezes para um i5 - 7\\u00aa Ger., mas est\\u00e1 excelente para as minhas necessidades. Muito bonito, simples e bonito. Recomendo!!!\",4],[\"Pensando em Economia, encontrei o produto.. Minha empregada estava reclamando que sua tv n\\u00e3o estava funcionando vale a pena ver de novo, assim de presente pra ela.\",3],[\"Notebook Lenovo 2 em 1 Yoga 520 Intel Core i7 8GB 1TB Tela 14\\\" Windows 10 - Platinum. Notebook Lenovo 2 em 1 Yoga 520 Intel Core i7 8GB 1TB Tela 14\\\" Windows 10 - Platinum\",5],[\"N\\u00e3o chegou. O pedido n\\u00e3o chegou ainda,  deveria cumprir com a data prevista na hora da compra.\",1],[\"Produto p\\u00e9ssimo. Produto trava toda hora n\\u00e3o consigo acessar nenhum jogo e nem assistir video\",1],[\"Bom. O notebook \\u00e9 bem legal, com visual compacto. Pena que n\\u00e3o tinha na cor preta. Mas valeu a pena ter um.\",3],[\"\\u00d3timo, mas, pode melhorar!. O notebook \\u00e9 \\u00f3timo em termos de funcionalidade e n\\u00e3o deixa a desejar para execu\\u00e7\\u00e3o de atividades b\\u00e1sicas como navega\\u00e7\\u00e3o e uso do pacote office. Pontos para melhorias: - o bot\\u00e3o de liga\\u002fdesliga \\u00e9 na lateral direita do aparelho e provoca v\\u00e1rios desligamentos acidentais.   - a fonte de carregamento \\u00e9 ligada no lado esquerdo do aparelho, portanto, se for usar o modo tablet, \\u00e9 preciso ter cuidado para n\\u00e3o desligar o aparelho, pois, o bot\\u00e3o de desliga est\\u00e1 justamente no lado onde ser\\u00e1 apoiado para uso. - as teclas do teclado poderiam ter sido feitas de outro material. O pl\\u00e1stico usado \\u00e9 duro e n\\u00e3o oferece conforto durante o manuseio, al\\u00e9m de provocar um barulho que incomoda.\",4],[\"Otimo produto. Recomendo pois \\u00e9 \\u00f3timo custo beneficio E bem estiloso.\",5],[\"Atende as expectativas. Produto muito bonito, som de \\u00f3tima qualidade, pena que \\u00e9 um pouco lento, muitas atualiza\\u00e7\\u00f5es do windows. Mas foram isso \\u00e9 top\",4],[\"\\u00d3timo Custo Benef\\u00edcio. O produto tem um tamanho \\u00f3timo e o valor \\u00e9 mais justo que o dos produtos equivalentes\\u002fsimilares de marcas de primeira linha. N\\u00e3o houve problemas em usar o produto pela primeira vez, \\u00e9 t\\u00e3o intuitivo quanto os celulares da mesma marca. Os acess\\u00f3rios de prote\\u00e7\\u00e3o (capa e pel\\u00edcula) para esse modelo s\\u00e3o f\\u00e1ceis de achar e de baixo custo, o que tamb\\u00e9m \\u00e9 uma vantagem.\",4],[\"\\u00c9 um \\u00f3timo para estudante. O Samsung Essentials E35S \\u00e9 uma \\u00f3tima compra, n\\u00e3o esperava eu fosse gostar tanto. \\u00c9 fino, considero pequeno, apesar de ter uma tela 14, e apesar de ser um dos mais leves, ainda acho que \\u00e9 pesado. O material \\u00e9 resistente, n\\u00e3o corre o risco de abrir de quebrar a tapa, \\u00e9 uma material resistente. N\\u00e3o usei muito, tem s\\u00f3 24 hrs que chegou, e acredito que tenha sido uma compra satisfat\\u00f3ria, o sistema fluir r\\u00e1pido, n\\u00e3o lento. Eu gostei muito, e recomendo para quem busca um Notebook para o laser, ou mesmo para estudo e trabalhos para a Universidade. \\u00c9 satisfat\\u00f3rio, e o pre\\u00e7o est\\u00e1 bom.\",4],[\"N\\u00e3o gostei. Pela demora na entrega, solicitei o cancelamento! Comprei em outra loja!\",2],[\"Satisfeita com a compra. Computador com \\u00f3timo design, software excelente, como esperado\",5],[\"Descri\\u00e7\\u00e3o incorreta. Quando fui instalar o produto percebi que a tablet n\\u00e3o cabe no case, pois n\\u00e3o especifica corretamente o tamanho e uma tablet Samsung de 10' n\\u00e3o cabe no case. O teclado funciona perfeitamente, mas tem esse problema no case.\",3],[\"Gostei demais!!. \\u00d3timo produto, dentro das minhas necessidades. Entrega r\\u00e1pida, antes do prazo. Menor pre\\u00e7o do mercado.  Recomendo!\",4],[\"Sem Camera Frontal. Produto muito bom, mais veio sem a camera frontal qual eu paguei fou com camera. Inferlimente ficar atento na chegada do produto.\",5],[\"Conforme esperado. O produto atende a especifica\\u00e7\\u00e3o da compra. Para isto foi feita uma pesquisa de caracter\\u00edsticas tecnicas visando adequa\\u00e7\\u00e3o do equipamento \\u00e0s minhas necessidades...\",3],[\"\\u00d3Timo Tablet. \\u00d3timo produto, s\\u00f3 n\\u00e3o \\u00e9 excelente pelo pequeno espa\\u00e7o de mem\\u00f3ria.\",4],[\"Maravilhoso. Vale muito a pena comprar nas americanas, as entregas chegam muito antes do prazo\",5],[\"Entrega e produto excelente. Americanas est\\u00e1 de parab\\u00e9ns pela r\\u00e1pida entrega e pelo produto que \\u00e9 excelente.\",5],[\"Fraquinho. Infelizmente \\u00e9 um tablet abaixo da m\\u00e9dia em termos de desempenho... Seu processador n\\u00e3o d\\u00e1 conta do Android 7.1, limitando e muito o desempenho do aparelho. E os 8gb de mem\\u00f3ria infelizmente \\u00e9 muito pouco. N\\u00e3o esperava muito dele mesmo, mas a decep\\u00e7\\u00e3o foi maior do que imaginava!\",2],[\"recomendo. Funciona bem, boa mem\\u00f3ria, atende bem minhas necessidades, acesso internet, assisto filmes e tenho alguns apps de jogos que s\\u00e3o bem carregados, deixou um pouco lento, por\\u00e9m funcionando razoavelmente bem.\",3],[\"N\\u00e3o gostei do produto. Aparelho esta apresentando tela vermelha apos os 7 dias de uso.\",1],[\"por ser Dell esperava um desempenho melhor. esperava melhor desempenho, o computador n\\u00e3o responde aos comandos com a velocidade que esperava\",3],[\"IMAGENS N\\u00c3O CONDIZEM COM AS DESCRI\\u00c7\\u00d5ES. As imagens apresentadas no topo do an\\u00fancio n\\u00e3o retratam todo o texto da descri\\u00e7\\u00e3o do equipamento. Nas imagens do topo n\\u00e3o aparece o teclado num\\u00e9rico e mais abaixo diz que tem (d\\u00fabio). No t\\u00edtulo diz que tem placa de v\\u00eddeo Nvidia mas nas caracter\\u00edsticas no final da p\\u00e1gina diz ser Intel (d\\u00fabio). Enfim, an\\u00fancio totalmente confuso, fica complicado confiar no site e imaginar o que de fato ser\\u00e1 entregue.\",1],[\"bom. gostei do produto, s\\u00f3 demorou muito entrega comprei dia 12\\u002f12 foi entregue dia 08\\u002f01 isso n\\u00e3o e legal.\",3],[\"Produto de boa qualidade. \\u00d3timo, produto veio como anunciado.Mas n\\u00e3o da pra colocar cd.\",4],[\"\\u00d2TIMA ESCOLHA. \\u00d3timo Custo Benef\\u00edcio. Vale a pena comprar! Recomendo a todos!\",5],[\"Muito bom. Atendeu minhas expectativas, notebook leve, design bonito e agora estou testando aos pouco. O office terei que instalar outra vers\\u00e3o, pois vc s\\u00f3 consegue utilizaresolver o que vem instalado caso adquira o pacote. Tirando isso,estou gostando do equipamento.\",3],[\"Produto de \\u00f3tima qualidade. O notebook tem um designer muito sofisticado. Recomendo a todos.\",4],[\"tablet. N\\u00e3o foi usado, mas pela marca ser de otima qualidade o tablet em si tbm deve ser.\",5],[\"Propaganda enganosa. Vendido com 8 GB. Mas quando vc consulta tem apenas 5.8 GB. Um absurdo. \\u00c9 fazer o consumidor de ot\\u00e1rio.\",1],[\"N\\u00e3o gostei. Na descri\\u00e7\\u00e3o do produto n\\u00e3o deixa claro que ele n\\u00e3o possui leitor de dvd  a pessoa compra e em casa tem essa  supresa e eles ainda manda um cd de configura\\u00e7\\u00e3o pra passa nai sei onde porque no computador nao \\u00e9  ele nao tem entrada.\",2],[\"Melhor Custo Beneficio. Pesquisei muito antes de compra, sem duvida este notebook tem o melhor custo benefio.\",5],[\"Bom produto. Produto leve, bonito, \\u00f3tima imagem, mas \\u00e9 lento, e as vezes depois que voc\\u00ea tenta abrir algum aplicativo na primeira vez ap\\u00f3s ligar o aparelho, ele demora para abrir e fecha o aplicativo, tirando isso o resto \\u00e9 muito bom\",3],[\"P\\u00e9ssimo com 10 dias de uso parou de funcionar. Fiz a reclama\\u00e7\\u00e3o com dez dias \\u00e9 s\\u00f3 conta uma reclama\\u00e7\\u00e3o. S\\u00f3 preciso do primeiro protocolo de reclama\\u00e7\\u00f5es cujo n\\u00e3o foi respondido  Eu avaliei o produto com um dia t\\u00e1 a \\u00f3timo Agora eu desisto dessa loja e n\\u00e3o recomendo\",1],[\"Produto trava demais. Comprei para minha neta, mas foi uma decep\\u00e7\\u00e3o, trava muito, demora demais para carregar videos. Se para uma crian\\u00e7a somente brincar e assistir videos sem baixar qualquer aplicativo o produto j\\u00e1 apresenta vagarosidade imagine para outras finalidades\",1],[\"Avalia\\u00e7\\u00e3o. Achei muito bom,recebi muito antes da data prevista.\",4],[\"Satisfeito.. At\\u00e9 aqui todas as compras que fiz nesta loja, nada me deixou insatisfeito, muito bom as qualidades dos produtos, e o atendimento em geral.\",4],[\"NOTBOOK SANSUNG. Adorei o MEU computador, ERA O QUE REALMENTE esperava. Quando comprei, estava ciente que o PRODUTO era BOM, e quando chegou, a\\u00ed QUE N\\u00c3O TIVE D\\u00daVIDAS!!! Ele \\u00e9 nota 1000,00!!!  COMPRE!!! a ENTREGA FOI R\\u00c1PIDA E O COMPUTADOR \\u00c9 MARAVILHOSO!!! PARABENS para SANSUNG, AMERICANAS, TRANSPORTADOR e para MIM que comprei o COMPUTADOR!!!\",5],[\"Gostei do produto.. Foi entregue antes do prazo,eu me animei com a destreza dessa compra e fiz outra por\\u00e9m essa j\\u00e1 faz mais de uma semana que foi realizado o pagamento \\u00e9 ainda n\\u00e3o tem nem a nota fiscal.\",3],[\"Muito bom este tablet.. Produto bom e entrega 10 dias antes do prazo previsto.\",4],[\"opini\\u00e3o. preencheu todos os requisitos de  acordo com o informado no anuncio\",4],[\"Tablet com alto falante muito baixo. N\\u00e3o indicaria  essa compra nao j\\u00e1 a entrega veio no prazo\",1],[\"Bom produto. Bom produto s\\u00f3 a bateria que descarrega um pouco r\\u00e1pido\",3],[\"Bom custo benef\\u00edcio. Comprei o tablet para minha filha de 5 anos, para o uso que imaginei o produto funciona bem, o wi-fi do aparelho \\u00e9 um pouco lento, mas com paci\\u00eancia ele satisfat\\u00f3rio, dica para quem comprar, instale um cart\\u00e3o de mem\\u00f3ria de 32 GB, pois a capacidade do aparelho e muito pequena s\\u00f3 8 GB  sendo 3GB do sistema operacional. A c\\u00e2mera n\\u00e3o \\u00e9 boa. Pelo pre\\u00e7o vale o custo benef\\u00edcio .\",3],[\"Muito bom.. At\\u00e9 o momento \\u00f3timo custo beneficio, utilizo para desenhos CAD e BIM, excel e word.\",5],[\"Esquenta e descarrega r\\u00e1pido. Produto novo e n\\u00e3o suporta 10 minutos sem carga, superaquecimento minha filha mal come\\u00e7a a brincar e j\\u00e1 tem que parar para carregar. N\\u00e3o recomendo.\",1],[\"V\\u00c1RIOS DEFEITOS. Produto que n\\u00e3o recomendo, com pouco mais de 1 ano de uso o produto apresentou defeito na tela LCD, na ventoinha, e depois na placa m\\u00e3e. Tenho notebooks bem mais antigos sem ter apresentado qualquer defeito desse tipo em t\\u00e3o pouco tempo de uso.\",1],[\"Muito bom! Gostei do produto!. Perfeito, pequeno, cabe na bolsa e me atende perfeitamente!!! \\u00d3timo  divertimento, uso para jogos e leitura principalmente!\",5],[\"Produto usado de 2003. Compramos dois computadores, quando chegaram, a surpresa chegou junto. Um computador o processador \\u00e9 de 2003 e o outro de 2004, produto usado que n\\u00e3o \\u00e9 informado no an\\u00fancio. As unidades de DVD n\\u00e3o funcionam, bem como o plug dos mouses. P\\u00e9ssimo produto!!\",1],[\"N\\u00e3o recomendo pra ningu\\u00e9m! N\\u00e3o comprem, por favor!. Olha, eu nunca vi loja mais desorganizada e desdeixada com o cliente. Em primeiro lugar, comprei esse tablet para dar de presente a minha sobrinha, que \\u00e9 MENINA, por tanto comprei um tablet com a capa ROSA, mas a\\u00ed quando chegou na minha casa, veio DOURADO, isso mesmo, dourado, mas n\\u00e3o para por a\\u00ed. Em segundo lugar, eles n\\u00e3o respondem o cliente, fiz v\\u00e1rias perguntas, pedindo sobre o produto, e nada deles responderem, n\\u00e3o sei como conseguiram mandar o produto ainda.  Terceiro lugar, a encomenda chegou atrasada pra caramba, era pra ter chegado antes de natal, mas chegou bem depois disso, ent\\u00e3o sinceramente, nunca mais compro nessa loja, e nem recomendo pra ningu\\u00e9m! Fiquei muito desapontado! Quarto lugar, o produto n\\u00e3o \\u00e9 de tanta qualidade assim como fala na descri\\u00e7\\u00e3o: - A c\\u00e2mera \\u00e9 horr\\u00edvel, tanto a frontal, quanto a traseira; - O sistema dizem que \\u00e9 Android 7, mas \\u00e9 o 5.0 Lolipop! - Ele \\u00e9 muito lento por ser um equipamento novo!\",1],[\"EXCELENTE. A entrega foi super r\\u00e1pida, chegou antes do previsto e em perfeito estado. Estou adorando o produto\",5],[\"Sim, \\u00e9 um excelente produto, gorstei muito...... Excelente produto, entrega no prazo combinado , n\\u00e3o tive problema... parab\\u00e9ns.\",4],[\"demora. a demora para aprova\\u00e7\\u00e3o do pedido \\u00e9 fora do comum para os padr\\u00f5es de hoje, chega parecer que n\\u00e3o tem o produto pra entrega e que ainda vao montar ou comprar. muito estranho isso.\",1],[\"adorei. Achei r\\u00e1pido, e ainda gostei muito porque tem teclado num\\u00e9rico, a bateria carrega r\\u00e1pido e tem uma boa dura\\u00e7\\u00e3o.\",5],[\"notebook. ele \\u00e9 muito lento. Mas o formato e muito bom e facil de acessar.\",3],[\"\\u00f3timo computador. Produto incr\\u00edvel. Impressionou a mim e quem viu ele at\\u00e9 agora, tanto pelo visual quanto pela qualidade. Computados de \\u00f3timo desempenho. Comprei para utilizar em trabalhos da faculdade e no trabalho. Mas n\\u00e3o deixei de testar alguns jogos como minecraft que rodou bastante bem sem ter que reduzir resolu\\u00e7\\u00e3o ou algo parecido. do jeito que instalei o jogo ele est\\u00e1 rodando com as mesmas configura\\u00e7\\u00f5es, sendo poss\\u00edvel at\\u00e9 melhorar os gr\\u00e1ficos. Instalei outros jogos mais antigos como GTA San Andreas e ele rodou no m\\u00e1ximo. Ent\\u00e3o estou impressionado. Mas essa n\\u00e3o \\u00e9 a finalidade dele. Acho que ele j\\u00e1 ta se saindo bem demais. Em rela\\u00e7\\u00e3o a entrega o produto chegou com atraso de 5 dias mas n\\u00e3o achei isso um problema.\",5],[\"Gostei muito do produto, atende as minhas necessidades.. O Produto chegou em perfeito estado e antes da data.\",4],[\"Muito bom. Produto excelente pra qualquer atividade,r\\u00e1pido,alta capacidade de armazenamento,e pre\\u00e7o bem razoavel...super recomendo  Gostei muito\",5],[\"Prossesador muito lento. A bateria descarregada muito r\\u00e1pido prossesador muito lento\",1],[\"Muito Rapido. Comprei 5 s\\u00e3o otimos e com um pre\\u00e7o muito bom. Recomendo.\",5],[\"EXCELENTE. Vendi meu carro a adquiri essa maquina!Andar de onibus passou ser divertido depois dessa compra .Faltou apenas o ar condicionado, mas ta valendo.Excelente produto!\",4],[\"Estou preso a maquina de Hemodi\\u00e1lise para sempre mas estou satisfeito!. MUITO Bom, este notebook fez minha vida desmoronar, perdi casa, perdi carro, perdi at\\u00e9 minha familia e meu precioso Rim, mas estou aqui jogando todos os jogos da atualidade no full a 60fps\",5],[\"Muito bom. Chegou antes do prazo, roda games liso No ultra 60 fps e lol em 200 fps.\",5],[\"Muito boa. Comprei de presente de natal para minha filha e o produto atende plenamente o descrito, \\u00e9 r\\u00e1pido e a bateria tem boa dura\\u00e7\\u00e3o\",4],[\"Gostei mas deixou a desejar.. O produto \\u00e9 \\u00f3timo, por\\u00e9m tem falhas que pelo pre\\u00e7o n\\u00e3o poderiam existir, pouca mem\\u00f3ria 32GB e n\\u00e3o tem como utilizar a conex\\u00e3o HDMI.\",3],[\"Melhor compra da vida. A flexibilidade \\u00e9 o q mais chama a aten\\u00e7\\u00e3o, a possibilidade de transformar o notebook em um roteador para at\\u00e9 8 dispositivos, al\\u00e9m muito bonito. Vale muito a pena!\",5],[\"Custo Beneficio!. A Acer veio com tudo para brigar nesse mercado de Gamer, sem duvida vai causar uma alvoro\\u00e7o no mercado! N\\u00e3o h\\u00e1 no mercado Brasileiro hoje (10\\u002f01\\u002f2018) uma Desktop com essas configura\\u00e7\\u00f5es com esse pre\\u00e7o, podem pesquisar, roda qualquer jogo da atualidade e ainda vem com windows original,  mouse e teclado muito bons.Enfim perfeito! Viva a concorr\\u00eancia!!\",5],[\"Otimo produto. Produto bom e no pre\\u00e7o, super recomendo! O prazo para entrega foi razo\\u00e1vel, veio bem embalado.\",4],[\"Gostei muito do produto.. Excelente notebook. Chegou r\\u00e1pido e n\\u00e3o tem problemas. Mem\\u00f3ria reduzida, mas suportou todos os meus arquivos.\",4],[\"Tablet lento e sem capacidade de instala\\u00e7\\u00e3o de v\\u00e1rios APPs. Este tablet \\u00e9 muito lento para as principais aplica\\u00e7\\u00f5es conhecidas e n\\u00e3o possui armazenamento para v\\u00e1rios APPs. N\\u00e3o \\u00e9 raro ser necess\\u00e1rio a desinstala\\u00e7\\u00e3o de um APP para a instala\\u00e7\\u00e3o de outro, pois boa parte do armazenamento de 8gb \\u00e9 destinada ao sistema android.\",1],[\"\\u00f3timo produto. produto \\u00e9 muito bom. atende todas as expectativas!\",5],[\"Contra Indica\\u00e7\\u00f5es. Ao efetuar o pedido estava entrega pra 20 dias uteis, e na hora que finalizou a compra deu o prazo de 2 meses, e j\\u00e1 liguei na americanas varias vezes, e tentei cancelar o pedido, e j\\u00e1 esta 1 semana aguardando a nota fiscal. J\\u00e1 vou fazer um v\\u00eddeo pro youtube alertando e falando sobre oque aconteceu.\",2],[\"M\\u00e1quina com \\u00f3timo desempenho!. Equipamento com \\u00f3timo acabamento e muito r\\u00e1pido o desempenho ao executar v\\u00e1rios programas ao mesmo tempo. Recomendo!\",5],[\"Gostei muito do produto.. Gostei muito do produto, e excelente, sastifez minhas expectativas.\",4],[\"Not book positivo. S\\u00f3 achei a resolu\\u00e7\\u00e3o da c\\u00e2mera ruim mais o resto muito bom apesar de n\\u00e3o usarmos frequente senti falta da entrada rj 45 o resto muito exelente\",3],[\"Super recomendo.... Produto muito bom e muito bonito... A \\u00fanica coisa que me deixou desapontado \\u00e9 que me entregaram o produto dia 3 de Janeiro de 2018 e no sistema consta dia 30 de Dezembro de 2017 kkk Mais do resto, super recomendo o notebook :D\",5],[\"sensacional. Maravilhaaaa  foi presente e quem ganhou amou  e chegou bem antes da data prevista estou satisfeita com a venda\",5],[\"Bom e barato. Ainda n\\u00e3o testei o insuficiente pra ver se o Celeron vai trabalhar direito com programas mais pesados. De antem\\u00e3o funciona bem como Pc caseiro e pra escrit\\u00f3rio. HD generoso. Windows original instalado. Teclado macio. Mouse pequeno, prefiro um pouco maior. Gabinete grande, preferia um menor!\",4],[\"Produto com defeito. O produto chegou no prazo, por\\u00e9m ap\\u00f3s algumas horas de uso ele deixou de funcionar. Devolvi para o fabricante h\\u00e1 2 semanas e at\\u00e9 agora nenhum contato.\",1],[\"\\u00d3timo atendimento.. Meu produto al\\u00e9m de ser excelente, ele chegou 5 dias antes do prazo!!\",5],[\"Excelente. Excelente produto . Excelente loja.\\u00c9 um produto indispens\\u00e1vel nos dias atuais, Recomendo a todos.\",5],[\"Excelente. Produt\\u00f4 exelente , muito bom e a entrega foi super r\\u00e1pida ,bem antes do prazo lojas americanas est\\u00e1 de parab\\u00e9ns ,muito obrigado.\",5],[\"\\u00d3timo. At\\u00e9 agora excelente,grande custo benef\\u00edcio. Pelo pre\\u00e7o n\\u00e3o compro nem um i3 na minha cidade.\",5],[\"Excelente para os prop\\u00f3sitos do produto.. Excelente para os prop\\u00f3sitos do produto.  A demora na entrega compromete a avalia\\u00e7\\u00e3o.\",4],[\"computador travando demais. O computador foi adquirido n\\u00e3o tem um m\\u00eas e j\\u00e1 est\\u00e1 esquentando muito, travando e lento. N\\u00e3o consegui resolver pelas americanas, pois aparentemente ter\\u00e1 que ser diretamente com o fornecedor. N\\u00e3o estou gostando do desempenho do produto.\",2],[\"Tablete Multilaser. Muito bom o tablete. indico porque atendeu bem as expectativas a respeito do produto. entrega realizada no per\\u00edodo marcado.\",4],[\"Eu n\\u00e3o recebi o produto. Eu fiz o pedido no in\\u00edcio de dezembro e at\\u00e9 agora n\\u00e3o recebi o produto, j\\u00e1 entrei em contato para resolver essa situa\\u00e7\\u00e3o mas ainda n\\u00e3o tive o estorno do cart\\u00e3o feito, esse era o presente de Natal da minha filha , imagino ficar sem.presente neste \\u00e9poca.\",1],[\"Pel\\u00edcula Ruim. A pel\\u00edcula chegou toda amassada, paguei o frete mais caro que a pel\\u00edcula e chegou toda torta.\",1],[\"Para quem n\\u00e3o usamuitos programas. O Note \\u00e9 bom para quem n\\u00e3o necessita de espa\\u00e7o em disco. Sua limita\\u00e7\\u00e3o de 32Gb de HD \\u00e9 bem problem\\u00e1tica. Tive problemas inclusive de atualiza\\u00e7\\u00e3o do pr\\u00f3prio Windows por falta de espa\\u00e7o. N\\u00e3o recomendo como notebook principal. Para navegar e programas b\\u00e1sicos OK.\",3],[\"Minha opini\\u00e3o. Um bom produto mas que por falha minha n\\u00e3o percebi que n\\u00e3o tem gravador de cd dvd. No geral \\u00e9 muito bom\",3],[\"Produto devolvido. Produto devolvido n\\u00e3o funciona. Produto devolvido n\\u00e3o funciona. Produto devolvido n\\u00e3o funciona.\",1],[\"EXCELENTE. Design lindo, f\\u00e1cil de mexer, \\u00f3timo para desenvolver as atividades que preciso! Excelente custo beneficio. Recomendo!\",4],[\"Produto \\u00d3timo!. Muito bom, recomendo. Bom custo benef\\u00edcio. Simples para utilizar.\",4],[\"Problemas com drives de \\u00e1udio. Trabalho com est\\u00fadio de grava\\u00e7\\u00e3o, e foi pra esse fim que adquiri o Notebook. Liguei o notebook e fiz todos os procedimentos pedidos na instala\\u00e7\\u00e3o acompanhado de um t\\u00e9cnico em inform\\u00e1tica. Quando coloquei m\\u00fasicas pra ouvir notei que o L\\u002fR do fone de ouvido n\\u00e3o estava saindo separados(pra quem tem Estudio sabe do que estou falando (Click e Audio). Olhei os drives e estavam e dizia ter um drive gen\\u00e9rico instalado. Usei ele no reveill\\u00f3n e deu alguns problemas e depois n\\u00e3o usei mais. Vou fazer novos testes e ver o que esta acontecendo.\",2],[\"Gostei Muito. Por\\u00e9m, no meu caso houveram ru\\u00eddos internos, como se estivesse algo raspando constantemente. Mas o produto \\u00e9 r\\u00e1pido, estiloso e compacto, perfeito para a rotina.\",4],[\"Notebook Dell Inspiron i15-5566-A30P Intel Core i5 4GB 1TB Tela LED 15.6\\\" Windows 10 - Preto. Considero o Notebook Dell Inspiron i15-5566-A30P Intel Core i5 4GB 1TB Tela LED 15.6\\\" Windows 10 - Preto Lento demais!\",2],[\"bom. Chegou antes do prazo. Veio bem embalado e o notebook est\\u00e1 atendendo ao que preciso.\",4],[\"\\u00d3TIMA COMPRA. PRODUTO MUITO BOM PARA ATIVIDADES DO DIA DIA. ENTREGA ANTES DO PRAZO, RECOMENDO \\u00c0 TODOS.\",5],[\"Positivo. \\u00c9 pesado, lento e vem com sistema operacional Windows que n\\u00e3o facilita o trabalho, um sistema que sobrevive por causa da fama e monop\\u00f3lio, para quem n\\u00e3o pode ter acesso a um Apple, as atualiza\\u00e7\\u00f5es quando come\\u00e7am seu ia foi perdido!\",2],[\"Ficou ruim. Ap\\u00f3s atualizar a placa NVIDIA o notebook simplesmente parou de funcionar, dando o erro NVLDDMKM.SYS. N\\u00e3o recomendo\",2],[\"Gostei do produto, mas em partes. Por ser Windows 10, n\\u00e3o consigo instalar como por exemplo impressora mais antiga ou programas de banco como Sicoob, Foi preciso copiar de um computador \\u00e0 outro. A impressora at\\u00e9 agora n\\u00e3o foi poss\\u00edvel a instala\\u00e7\\u00e3o\",3],[\"Produto de entrada a pre\\u00e7o justo. Produto muito bonito e de boa ergonomia, comprei para se utilizado pela minha filha de 7 anos(possui Modo Infantil, com senha, para que a crian\\u00e7a n\\u00e3o sai do modo). Tela com imagem bonita e de r\\u00e1pido processamento. \\u00danico ponto negativo \\u00e9 o fato de o mesmo possuir apenas 8GB internos(quase metade \\u00e9 utilizado pelo Android e os programas padr\\u00e3o da Samsung) e ter apenas acesso via Wi-Fi. Super recomendo a utiliza\\u00e7\\u00e3o do equipamento por pessoas que deseja acesso em telas maiores(possui 7\\\"), sem utiliza\\u00e7\\u00e3o de muitos recursos(como em jogos pesados) e\\u002fou ainda por crian\\u00e7as, pois \\u00e9 infinitamente melhor que as marcas desconhecidas ou das que ainda tenta abocanhar o mercado desta tecnologia.\",4],[\"Excelente. Excelente, amei. Super indico. Produto de alta qualidade . Entrega antes do prometido\",5],[\"N\\u00e3o Liga. Pc fica reiniciando, e entrado em tela de recupera\\u00e7\\u00e3o, pc n\\u00e3o presta\",1],[\"Adorei!. Atende perfeitamente o que eu preciso. Recomendo. \\u00d3timo custo benef\\u00edcio.\",5],[\"Muito bom. Adorei o produto, veio antes da data prevista.  Entrega correta  e eu recomendo\",3],[\"\\u00d3timo produto. Produto excelente, design moderno, velocidade de processamento boa. Atende perfeitamente aos usu\\u00e1rios que utilizam softwares de projetos de desenho t\\u00e9cnico.\",5],[\"Notebook lenovo. Muito bom, design super lindo, facil  de manusear, rapido  e funcional.\",5],[\"Fraco.. Lento. Mau instalei os programas. Ja houve travamentos inclusive apag\\u00f5es.\",3],[\"PRODUTO MUITO BOM. PRODUTO DE EXCELENTE QUALIDADE, LEVE, TECLADO MACIO, DE F\\u00c1CIL TRANSPORTE. SUPER RECOMENDO.\",5],[\"gostei bastante do produto. muito bom desse notebook.\\u00c8r\\u00e0pido,pr\\u00e0tico,leve, para quem gosta de praticidae \\u00e8 \\u00f2timo.\",3],[\"Notebook Ok, mas fonte veio com defeito. O notebook \\u00e9 \\u00f3timo, at\\u00e9 o momento. Por\\u00e9m para minha grande decep\\u00e7\\u00e3o, o careegador veio com defeito. Quero a troca do produto.\",2],[\"Fonte externa e cabo de fonte interna. Sem Wi-Fi, linux bem complicado de configurar, computador bem fraco.\",1],[\"Expert X23. Muito bom! Excelente desempenho! Recomendo. . . . . . . .\\\"...................\",4],[\"Atende a demanda. Atende as necessidades, apenas a bateria poderia durar mais.\",4],[\"Muito bom.. Meus filhos gostaram muito. Pena n\\u00e3o ter slot para cart\\u00e3o sim.\",4],[\"Excelente produto superou a minha expectativa estou satisfeitissimo!. Ainda estou me adaptando, mas estou adorando!!! Abra\\u00e7o do Deuslirio!!\",5],[\"Muito Fr\\u00e1gil. Notebook lindo, por\\u00e9m muito fr\\u00e1gil. Mas, atende as necessidades, s\\u00f3 tomar muiiito cuidado pra n\\u00e3o quebrar.\",3],[\"Excelente  produto. O produto  corresponde aos an\\u00fancios das lojas americanas em 100%.  A entrega foi feita antes do prazo final estipulado.\",5],[\"Gostei muito do produto, mas podereia ter um processador i3 nesse modelo.. Tamanho bom, design bonito,  marca de confian\\u00e7a, mas poderia vir com processador i3 nesse modelo de 11\\\" como tem no exterior.\",3],[\"BOM CUSTO E BENEFICIO. ATENDE AS NECESSIDADES B\\u00c1SICAS, BOA APAR\\u00caNCIA PRA USO QUE COMPREI EST\\u00c1 CORRESPONDENDO BEM\",3],[\"Excelente produto. Produto muito bom super r\\u00e1pido e surpreendeu minhas expectativas\",5],[\"COM DEFEITO. Comprei esse produto, recebi com defeito, cancelei a compra e Americanas nao devolveu o valor pago ainda faz quase 60D, s\\u00f3 enrolam, jogam a responsabilidade pra esse fornecedor que nao se pronuncia.\",1],[\"Atende as necessidades. Bonito, funcional e desempenha as fun\\u00e7\\u00f5es como esperado\",3],[\"informa\\u00e7\\u00f5es. enquanto n\\u00e3o detalharem mais os dados com informa\\u00e7\\u00f5es pertinentes, v\\u00e3o continuar perdendo vendas. Informem a gera\\u00e7\\u00e3o do processador, nome completo da placa m\\u00e3e com a s\\u00e9rie e nome do produto e n\\u00e3o apenas a fabricante.\",3],[\"Tablet n\\u00e3o \\u00e9 moderno. Tablet somente bonito fisicamente, mas as caracter\\u00edsticas t\\u00e9cnicas e sua funcionalidade n\\u00e3o s\\u00e3o atuais. Ainda que seja um produto voltado para crian\\u00e7as se espera um produto moderno, \\u00e1gil e de f\\u00e1cil utiliza\\u00e7\\u00e3o, por\\u00e9m, este n\\u00e3o \\u00e9 o caso do produto. Controle parental vem com defeito grotesco de f\\u00e1brica onde n\\u00e3o se consegue enxergar parte da tela, o que impossibilita instalar muitos dos aplicativos baixados. Devolvi o produto por este motivo.\",1],[\"acer 72db. muito bom, mas aquece bastante em jogos e fica facil perceber pela superficie de aluminio.\",4],[\"Notebook apenas \\u00fatil. Bom produto pela facilidade de manuseio e leveza, alem de ser razoavelmente \\u00e1gil, por\\u00e9m, n\\u00e3o h\\u00e1 facilidades b\\u00e1sicas como teclado com ilumina\\u00e7\\u00e3o que possa fazer uso em ambientes sem luz ou a noite e mesmo a tecla caps Lock n\\u00e3o possui nada indicando (como uma luzinha como normalmente h\\u00e1 nos teclados) para mostrar que est\\u00e1 habilitado a letra mai\\u00fascula ou min\\u00fascula naquele momento. Detalhes que poderiam fazer a diferen\\u00e7a no produto.\",2],[\"Gostei. Gostei recomendo a compra,  muito bom leve e atendeu as minhas necessidade\",4],[\"Cumpre o b\\u00e1sico. O tablet serve o prop\\u00f3sito para o qual foi comprado, que \\u00e9 para minhas filhas assistirem youtube e netflix. Se come\\u00e7arem a baixar muitas aplica\\u00e7\\u00f5es fica lento.\",3],[\"Otimo. Muito bom, r\\u00e1pido, imagem perfeita, estou muito contente,podendo  se necess\\u00e1rio expandir a mem\\u00f3ria para + 32Gb. Perfeito, estou muito satisfeito com a minha compra nas Americanas.\",5],[\"Recomendo. Comprei para o meu filho de 5 anos ver programa\\u00e7\\u00e3o no YouTube e ele est\\u00e1 amando Sem falar que no aplicativo infantil que j\\u00e1 vem instalado nele muito bom\",4],[\"Gostei muito!. Produto muito bom, por um pre\\u00e7o bem razo\\u00e1vel. Entrega dentro do prazo.\",4],[\"Produto excelente e entrega bem antes do previsto. Excelente tanto o produto quanto a entrega. A entrega foi antes do combinado o que me auxiliou muito na minha necessidade de estudo. O produto \\u00e9 de \\u00f3tima qualidade! Tablet \\u00e1gil e leve de carregar. Recomendo.\",5],[\"Notebook Dell. \\u00d3timo pc s\\u00f3 um pouco dif\\u00edcil de manusear por estar acostumado com o Windows\",3],[\"\\u00d3timo produto. Otimo produto, recomendo  produto e a americanas.com.\",5],[\"O produto \\u00e9 \\u00f3timo. O produto \\u00e9 \\u00f3timo por\\u00e9m foi uma compra frustada pq antes da compra o site me deu uma data de entrega e depois da compra essa data foi adiada, e o produto chegou bem depois...\",4],[\"Demora. N\\u00e3o posso avaliar pois j\\u00e1 faz mais de 30 dias que fiz a compra e ainda n\\u00e3o recebi o produto, na pr\\u00f3xima compra terei que levar isso em considera\\u00e7\\u00e3o.\",3],[\"Muito bom produto. Excelente produto, boa acessibilidade, f\\u00e1cil manuseio\",5],[\"Exelente. Produto excelente, recomento. Agilidade na entrega.\",5],[\"Gostei muito!. Compraria novamente. Produto bem acabado, bonito e o teclado num\\u00e9rico ajuda muito.\",4],[\"capa e pel\\u00edcula para tablet Samsung A 10. Produto de boa qualidade, entregue no prazo previsto\",4],[\"Bom, mas acabamento a desejar. A \\u00fanica coisa a reclamar \\u00e9 o acabamento e n\\u00e3o ter luz de led que indica carregamento da bateria. Se existe, o meu veio com defeito. Me parece muito fr\\u00e1gil.\",3],[\"Qualidade incrivel. Produto de \\u00f3tima qualidade e a entrega muito r\\u00e1pida , produto chegou em 10 dias corrido, moro em Brasil\\u00e9ia Acre.\",4],[\"Muito bom. leve, r\\u00e1pido, bonito. O \\u00fanico detalhe \\u00e9 a capacidade do SSD, de 128GB. Contanto que a pretens\\u00e3o de uso leve isso em conta, n\\u00e3o vejo maiores problemas.\",5],[\"Gostei muito do produto. Estou gostando muito do produto que comprei, ainda estou analisando mas muito satisfeita.\",4],[\"Gostei muito do produto!!. Entrega bem antes do previsto, perfeito estou muito satisfeito.\",5],[\"duvidas. Estou muito interessado em comprar, mas queria esclarecer uma duvida. O PC ta com uma configura\\u00e7\\u00e3o muito boa, queria saber de algu\\u00e9m que q comprou ou da loja mesmo, qual \\u00e9 o marca e modelo da placa m\\u00e3e, e a marca da memoria RAM??pois na descri\\u00e7\\u00e3o (detalhes) do produto n\\u00e3o fala.  a fonte sustenta de boa???\",4],[\"Mais ou menos. Galera eu tenho um positivo estilo esses computadores s\\u00e3o fr\\u00e1geis vc tem q ter muito cuidado a bateria n\\u00e3o dura nada ,eu tenho um mais n\\u00e3o recomendo pra ningu\\u00e9m...\",2],[\".. O jogo que consta nele \\u00e9 lento e trava muito. Tentei efetuar a troca e a loja nao aceitou por termos 7 dias corridos para troca, nao consideraram que era presente se natal e havia feriado. O lacre da caixa veio rompido.\",1],[\"Tablet. \\u00d3timo produto.   Excelente tela, bons app. A caneta \\u00e9 muito boa e facilita a opera\\u00e7\\u00e3o;\",5],[\"ENGANA\\u00c7\\u00c3O. AMERICANAS COMO SEMPRE QUERENDO ENGANAR SEUS CLIENTES!!!!!!!!!! MEU PC E 10X MELHOR QUE ESTE E PAGUEI SOMENTE R$ 3.000,00\",1],[\"\\u00d3timo. \\u00d3timo o produto super indico  muuuuuuuuuuuuuuuuuuuuuuuuuuu\\u00fauuuu\\u00fauuu\\u00fauuuuuuuuiiiiiiiiiiiiiiiiiiiiiiiiiiiiiiiiiiiiiiiiiiiiiiiiiiiitttttttttttttttttttttttttttttttttttttttttttttttttttttttt ooooooooooooooooooooooooooooooooo bommmmmmmmmmmmmmmmmmmmmmmmmmmmmmmmmmmmmmmmmmmmmmmmmmmmmmmmmmmlllmm\",4],[\"TABLETE IBRIDO. \\u00c9 LEVE E MUTO BOM, GOSTEI FOI TUDO COMO NO AN\\u00daNCIO, EXCELENTE\",5],[\"Haste muito dura. A haste (o bra\\u00e7o)\\u00e9 muito dura! O que ue dificulta a mobilidade dele. N\\u00e3o gostei!!!\",1],[\"EXCELENTE. O produto \\u00e9 excelente!!!  O \\u00fanico problema foi referente a entrega.\",5],[\"Tablet - Perfeito\\u002flindo. Tablet grande, r\\u00e1pido, bonito!!!! Show mesmo \\u00e9 a empresa B2W na entrega n\\u00e3o tem o que se discutir \\u00e9 mais que r\\u00e1pido diria que \\u00e9 a jato parab\\u00e9ns a Direct pela agilidade de sempre.\",5],[\"Recomendo!. Design elegante e bem acabado, notebook leve, com bom n\\u00edvel de brilho e bons recursos. Teclado macio e funcionamento est\\u00e1vel. Ideal para estudos e pesquisas :)\",5],[\"Produto de primeira. Estou extremamente contente, muito satisfeito mesmo!. Minha opini\\u00e3o concernente ao produto, estou feliz pois me atende perfeitamente. E com respeito a loja, muito bom atendimento e estou satisfeito com o trabalho prestado.\",5],[\"Excelente. Excelente notebook, al\\u00e9m de muito bonito. \\u00d3tima configura\\u00e7\\u00e3o. Atendeu minhas expectativas. E entrega r\\u00e1pida, chegou em 3 dias \\u00fateis e gr\\u00e1tis.\",5],[\"satisfeita. Produto excelente e entrega pontual\\u00edssima! O entregador estava com dificuldade de localizar o endere\\u00e7o e uma atendente me ligou para maiores esclarecimentos. Parabenizo a aten\\u00e7\\u00e3o dada!\",4],[\"Produto atendeu as expectativas. O produto chegou no prazo, possui bom acabamento e razo\\u00e1vel velocidade. Estou muito satisfeito. Recomendo para trabalho!\",5],[\"Gostei do produto. Ele atende as minhas necessidades. ................................................................................................................................................\",3],[\"Gostei do produto. Legal, chegou antes do prazo estimado, pr\\u00e1tico, suficiente para minhas pretens\\u00f5es\",3],[\"otimo. muito bom para navegar na internet e para servi\\u00e7os graficos como o atocad2018\",4],[\"Produto excelente!. Muito bom. Atingiu todas expectativas de desempenho e beleza. Perfeito para jogos, ou programas mais pesados. Recomendo demais este produto.\",5],[\"Comprei dois iguais. Excelente equipamento. Comprei dois, apesar de n\\u00e3o ter tido desconto no segundo que estava com pre\\u00e7o acima do primeiro.  Tem um hardware bom, e para o uso de aplica\\u00e7\\u00f5es que exigem mais recursos opera muito bem.  Entrega dentro do esperado.\",5],[\"Produto \\u00f3timo. Atende as minhas necessidade m\\u00ednimas. N\\u00e3o avalio como excelente porque em uma atualiza\\u00e7\\u00e3o apresentou problemas e o sistema precisou ser formatado, mas fora isso, o notebook apresenta bom desempenho.\",4],[\"Muito ruim. Trava muito. Conprei pra minha filha de tr\\u00eas anos, mas \\u00e9 muito demorado pra abrir as p\\u00e1ginas.  E o touch tamb\\u00e9m n\\u00e3o \\u00e9 t\\u00e3o sens\\u00edvel ao toque.\",1],[\"EXCELENTE!!!! SUPEROU AS EXPECTATIVAS. o MELHOR LAPTOP QUE J\\u00c1 TIVE EM CAPACIDADE DE PROCESSAMENTO , DESIGN E TUDO MAIS!!!! RECOMENDO. E COM \\u00d3TIMO PRE\\u00c7O!!!!\",5],[\"PODE COMPRAR SEM MEDO!. Efetivamente comprei o que paguei.Atende perfeitamente minhas necessidades,para trabalhos e algum entretenimento leve \\u00e9 otimo.Valeu cada centavo.SHOW\",5],[\"Gostei do produto. Produto conforme o anunciado, entrega dentro do prazo.\",4],[\"Excelente....gostei muito. Bom desempenho ....facil acesso...muito bom compacto tb para locomo\\u00e7\\u00e3o com Ele.\",5],[\"Excelente. Produto entregue dentro do prazo. Excelente qualidade, bem conforme descrito no an\\u00fancio.\",5],[\"Notebook bom!. A bateria dura pouco, mas de modo geral tem um exelente desempenho.\",4],[\"Avalia\\u00e7\\u00e3o. N\\u00e3o posso avaliar porque o produto comprado n\\u00e3o estava mais dispon\\u00edvel, apesar o site aceitar a minha compra ( falha do  sistema que n\\u00e3o deveria ter aceitado a compra pois n\\u00e3o tinha mais pra vender) por\\u00e9m a Americanas prontamente fez a cr\\u00e9dito do valor sem precisar entrar em contato, parab\\u00e9ns por administrar muito bem o seu marktplace. 5 estrelas pra Americanas.\",4],[\"Produto \\u00d3timo. Notebook Dell com \\u00f3tima qualidade, chegou dentro do prazo dado pelo site.\",4],[\"\\u00f3timo produto.. produto de boa qualidade, atendeu para o que eu estava precisando.\",4],[\"Um \\u00f3timo produto!. O produto atendeu completamente as minhas expectativas. Muito bom e \\u00f3tima resolu\\u00e7\\u00e3o.\",4],[\"Lixo. Eu odiei o produto. Era presente para minha mae e ele simplesmente nao funciona. Quero meu dinheiro de volta\",1],[\"Tablet Samsung Galaxy Tab A T280 8GB Wi-Fi Tela 7\\\" Android Quad-Core - Preto. Tablet Samsung Galaxy Tab A T280 8GB Wi-Fi Tela 7\\\" Android Quad-Core - Preto\",4],[\"Caro mais compensador. Deixei de dar entrada na minha casa para comprar esse notebook, mais n\\u00e3o me arrependo, ele \\u00e9 muito top, configura\\u00e7\\u00e3o  \\\"parruda\\\" da para jogar Crysis no \\\"maximo\\\" vale cada centavo, top muito top..\",5],[\"Fantastico. Comparei aprovei os criterios para comprar ....RESFRIAMENTO....SOM....TELA....melhores que os concorrentess\",5],[\"Produto cada vez mais simples. Gostei do produto, mas n\\u00e3o tem a op\\u00e7\\u00e3o de compra com leitor\\u002fgravador de cd\\u002fdvd, tendo que ser utilizado um via usb ou encontrar um que seja compat\\u00edvel com o produto para instala\\u00e7\\u00e3o. Apenas duas entradas usb.  Funciona bem o pouco tempo que utilizei.\",3],[\"\\u00d3timo. Corresponde ao que eu esperava. Chegou r\\u00e1pido e bem embalado.\",5],[\"Excelente custo\\u002fbenef\\u00edcio.. Notebook muito bom para navega\\u00e7\\u00e3o na web trabalho com Office e demais ferramentes para escrit\\u00f3rios. N\\u00e3o testei em jogos. A \\u00fanica coisa que precisei fazer para ficar mais veloz foi colocar mais um pente de mem\\u00f3ria de 4gb e ele se tornou excelente. Muito bom e \\u00f3timo custo\\u002fbenef\\u00edcio.\",3],[\"Muito bom. Produto muito bom e entrega, como sempre, muito r\\u00e1pida\",5],[\"IPad \\u00e9 tudo de bom!. Simplesmente maravilhoso !   Aparelho que n\\u00e3o traz problema algum !\",5],[\"\\u00d3timo produto. Produto chegou em boas condi\\u00e7\\u00f5es,simples de montar e n\\u00e3o demora muito\",5],[\"Bom, por\\u00e9m apresenta alguns bugs.. O notebook consta, \\u00e0s vezes, com bugs que s\\u00e3o apenas corrigidos ao reiniciar o pc, de maneira for\\u00e7ada. Atrasando muito o trabalho de quem o faz. Por\\u00e9m, o pc \\u00e9 sim bom, tem um \\u00f3timo desempenha e sim, eu recomendo.\",3],[\"Bom. O Laptop at\\u00e9 ent\\u00e3o atendeu as minhas expectativas, tem um \\u00f3timo acabamento, \\u00e9 muito r\\u00e1pido; pois eu paguei um \\u00f3timo pre\\u00e7o por um produto bom, eu recomento a todos, mas s\\u00f3 tem um detalhe que eu n\\u00e3o observei na hora de comprar, ele n\\u00e3o vem com leitor de m\\u00eddia, mas vale apena!\",5],[\"o produto \\u00e9 bom!. o produto \\u00e9 bom mas, poderia melhorar em dois aspecto,  muito lento fica travando e o som \\u00e9 muito baixo, mas no geral ele \\u00e9 bom!\",3],[\"muito bom. Muito bom recomendo  \\u00f3timo custo beneficio .....................................................................................................\",4],[\"Melhor custo-benef\\u00edcio!!!. Me saiu por R$ 1.700, ent\\u00e3o valeu muito a pena! N\\u00e3o percebi nenhum barulho, como mencionado por alguns consumidores. Na verdade acho que o cooler \\u00e9 percept\\u00edvel quando o lugar est\\u00e1 muito silencioso.     N\\u00e3o vem com entrada de m\\u00eddia, apesar de isso j\\u00e1 estar sendo extinto eu senti falta e diria como um ponto negativo. Outra coisa \\u00e9 a bateria, acho que tem uma dura\\u00e7\\u00e3o de 3h, mas pelo pre\\u00e7o do produto n\\u00e3o da pra reclamar, foi o que a lenovo conseguiu fazer...     O design \\u00e9 muito bonito, recomendo o uso de capa protetora para os desastrados com eu. Resumindo: Melhor custo benef\\u00edcio. Jogo lol, cs go, uso v\\u00e1rios editores pesados, e nem sinal de travamento hehe\",4],[\"Apaixonada!. Entrega quase imediata! muito antes do prazo... Produto perfeito e super bem embalado! Super recomendo o produto e a Loja...\",5],[\"Compraria Novamente. Eu comprei o computador para trabalho e ser banco de dados de um sistema, al\\u00e9m de outros apps. Ele \\u00e9 \\u00f3timo, resposta r\\u00e1pida e ainda n\\u00e3o tive nenhum problema de travamento ou afins. A entrega atrasou um pouco, em torno de 7 dias.\",5],[\"Produto atendeu as expectativas!. Produto atendeu as expectativas! Muito bom!!!                                                                                                         .\",5],[\"Bom. Eu esperava uma performasse maior, mas est\\u00e1 funcionando a contento.\",4],[\"P\\u00e9ssimo. Simplesmente n\\u00e3o funciona, n\\u00e3o liga, j\\u00e1 fiz contato para saber como proceder para fazer a troca e at\\u00e9 o momento n\\u00e3o obtive resposta.\",1],[\"Produto de \\u00f3tima qualidade, recomendo a todos do ML.. Muito bom o produto, recomendo a todos do mercado livre.\",5],[\"Excelente. \\u00d3timo produto. R\\u00e1pido, confi\\u00e1vel e eficiente. Recomendo.\",5],[\"Excelente. Excelente compra como um todo da compra at\\u00e9 a entrega.\",5],[\"Bom, por\\u00e9m pouco espa\\u00e7o. O Notebook \\u00e9 bom, n\\u00e3o esquenta, a velocidade \\u00e9 aceit\\u00e1vel pra fazer trabalhos acad\\u00eamicos e navega\\u00e7\\u00e3o, por\\u00e9m n\\u00e3o tem muito espa\\u00e7o para armazenamento, as atualiza\\u00e7\\u00f5es do Windows tomam todo espa\\u00e7o.\",3],[\"Avalia\\u00e7\\u00e3o do Notebook. O produto foi o esperado e ele chegou antes do prazo\",4],[\"\\u00d3timo produto. Recomendo com certeza.. Produto excelente. Atende as necessidades de todos, tem um \\u00f3timo desempenho e um lindo designe. Possui alta pot\\u00eancia de som. Adorei.\",5],[\"Gostei muito. Produto muito bom. Entrega no tempo previsto. Rapidez e agilidade.\",5],[\"\\u00d3timo Custo Benef\\u00edcio. Meus \\u00faltimos dois notebooks foram da marca DELL, a qual possui \\u00f3tima reputa\\u00e7\\u00e3o e credibilidade, e que me fizeram adquirir o Notebook Dell Inspiron i15-5567.  O notebook tem um design bonito, \\u00e9 relativamente leve e possui boa performance.  Quando o recebi, ele estava com o sistema operacional Linux Ubuntu, e durante os primeiros 3 dias ele chegou a travar v\\u00e1rias vezes, for\\u00e7ando-me a reinici\\u00e1-lo diretamente no bot\\u00e3o Power. Por\\u00e9m, ap\\u00f3s format\\u00e1-lo e instalar o Windows 10 Pro, em nenhum momento ocorreu qualquer tipo de travamento.  Quanto a entrega, considero muito boa, pois foi antes do prazo estipulado, de forma que pude antecipar os trabalhos.\",4],[\"Uma das minhas melhores compras. Al\\u00e9m de lindo \\u00e9 perfeito para as minhas necessidades. Simplesmente amei.\",5],[\"Satisfeito. Cumpre com as especifica\\u00e7\\u00f5es descritas na \\u00e1rea venda\",4],[\"Bom custo-benef\\u00edcio.. Tirando os programas nativos Acer, o restante t\\u00e1 ok.\",4],[\"n\\u00e3o veio como na descri\\u00e7\\u00e3o. \\u00c1s americanas n\\u00e3o devem mais deixar terceiros venderem no site.\",2],[\"Recomendo!. Produto muito bom! Atingiu as expectativas em tudo!\",4],[\"Computador Comprado no dia 09\\u002f12\\u002f17. at\\u00e9 o prezado momento o prduto est\\u00e1 funcionando perfeitamente, foi entregue bem embalado porem s\\u00f3 demoro um pouco, pois o prazo que me deram foi para entrega no dia 22\\u002f12\\u002f17 e foi entregue no dia 8 de 2018, mas fora isso n\\u00e3o tenho nada a reclamar.\",4],[\"Produto muito bom.. Produto, r\\u00e1pido, boas funcionalidades. Valeu a pena o custo benef\\u00edcio. Achei a tela ideal, pois estava querendo a de 10\\\", mas acho que iria ficar muito grande.\",4],[\"COMPUTADOR + MONITOR 19\\\". RECEBI O PRODUTO DENTRO DO PRAZO DETERMINADO, ENTRETANTO AINDA N\\u00c3O INSTALEI O PRODUTO POIS COMPREI PARA DAR DE PRESENTE E O PRESENTEADO EST\\u00c1 EM VIAGEM E VOLTAR\\u00c1 EM BREVE.\",3],[\"Notebook Samsung. Produto de excelente qualidade e com bom desempenho, foi entregue dentro do prazo, contido at\\u00e9 o presente momento n\\u00e3o recebi o e-mail da garantia estendida que contratei.\",4],[\"Produto trava demais. Por se tratar se um produto novo e com essas especifica\\u00e7\\u00f5es, ele \\u00e9 bastante lento e trava em fun\\u00e7\\u00f5es b\\u00e1sicas (usando o google chrome ou o word, por exemplo). Complicado pagar esse pre\\u00e7o nessas condi\\u00e7\\u00f5es. N\\u00e3o recomendo. Sobre a entrega, foi r\\u00e1pida e chegou tudo certo. Minha queixa \\u00e9 apenas quanto ao produto.\",1],[\"Excelente!. \\u00d3timo, r\\u00e1pido, uso pra edi\\u00e7\\u00e3o de fotos, recomendo!\",4],[\"Muito satisfeito. Quanto ao produto,  nada a reclamar, mas quanto a entrega... atrasou bastante, e a entregadora, praticamente, s\\u00f3 entrou em contato comigo na terceira tentativa.\",5],[\"O produto foi entregue com defeito. O produto foi entregue com defeito de fabrica\\u00e7\\u00e3o . N\\u00e3o carrega a bateria . N\\u00e3o consegui falar por telefone paratropas a mercadoria , somente on line . Muita demora para narrar em contato comigo . Enfim , nunca mais desejo comprar nessa loja . N\\u00e3o recomendo para ningu\\u00e9m !!!\",1],[\"Tablet  com bateria ruim. Tablet muito bom mas a bateria dura muito pouco. No m\\u00e1ximo 1 hora.\",3],[\"Excelente. Produto leve para carregar, simples de manusear, r\\u00e1pido o processador. Eu e meu marido compramos igual de tanto que gostamos.\",5],[\"Gostei muito do produto. Me senti presenteada com a promo\\u00e7\\u00e3o do meu produto\",4],[\"Muito bom.. Estou come\\u00e7ando a utilizar, por isso a avalia\\u00e7\\u00e3o que \\u00e9 pedida de maneira imediata, n\\u00e3o d\\u00e1 para ter toda a garantia. Mas at\\u00e9 agora acho muito bom. Ainda melhor do que eu esperava em termos de velocidade.\",4],[\"Excelente. O produto \\u00e9 excelente e a entrega foi espetacular. Foi a entrega mais r\\u00e1pida que j\\u00e1 tive. Parab\\u00e9ns\",5],[\"Estou arrependida de ter comprado.. \\u00d1 \\u00e9 o q esperava, a bateria descarrega muito r\\u00e1pido.\",2],[\"Decepcionante. J\\u00e1 tive um Samsung Tab 7\\\" e um Ipad 2, o Samsung TAB 560 deixa muito a desejar se comparado aos dois. Travamentos em aplicativos simples e nos navegadores de internet ent\\u00e3o, nem se fala. At\\u00e9 pensei se o meu veio com problema, mas n\\u00e3o, o processador \\u00e9 bem aqu\\u00e9m do esperado mesmo. A tela tamb\\u00e9m n\\u00e3o tem boa qualidade. Acredito que vale a pena investir mais um pouco e comprar um tablet com um processador melhor e uma tela HD.\",1],[\"UAU! MELHOR PC! N\\u00c3O RECOMENDO.. ESSE COMPUTADOR DA NASA QUE REALMENTE EST\\u00c1 COM DESCONTO! APROVEITEM!\",5],[\"Gostei. Muito bom para o que eu preciso de um notebook. Rapido, dd transpirte muito facil,leve e robusto ao mesmo tempo.\",3],[\"Muito Satisfeita. Estou muito satisfeita com o notebook, muito r\\u00e1pido, bonito, leve, carrega r\\u00e1pido a bateria e ela dura bem. Superou minhas expectativas. Pre\\u00e7o acess\\u00edvel e qualidade de produtos mais caros.\",5],[\"ENTREGA MUITO DEMORADA. P\\u00c9SSIMO PRAZO DE ENTREGA! COMPREI PARA PRESENTEAR MEU FILHO EM SEU ANIVERS\\u00c1RIO E AT\\u00c9 HOJE N\\u00c3O CHEGOU!\",1],[\"top!!!!!!. estou muitissimo satisfeito, vendi meu rim, da minha mulher e do meu filho pra comprar mas  a maquina \\u00e9 muito r\\u00e1pida. CS sem lag. \\\\o\\u002f\",5],[\"Muito bom. Produto r\\u00e1pido, tela boa, \\u00f3tima qualidade, adorei.\",4],[\"Gostei do produto.. Gostei, \\u00f3timo para minhas filhas que tem 4 e 8 anos, acho que at\\u00e9 os 10 anos ele \\u00e9 muito bom. Mas para crian\\u00e7as de 11 em diante, \\u00e9 necess\\u00e1rio um aparelho mas completo.\",4],[\"Produto bom. Primeiramente a Americanas \\u00e9 top, entrega produto bem r\\u00e1pido e muito bem embalado. O produto \\u00e9 bom, mas o X23 NP300E5K-XD1BR \\u00e9 melhor.\",3],[\"Notebook Samsung. produto conforme expectativa. Poderia acompanhar capa e mouse da Samsung.\",4],[\"gostei. tablet multilaser muito bom a apar\\u00eancia s\\u00f3 precisa melhorar nele a rapidez da maquina interna.\",3],[\"Gostei bastante.. Leve, compacto e r\\u00e1pido, veio a substituir perfeitamente meu velho PC (com configura\\u00e7\\u00f5es bem parecidas) e liberando espa\\u00e7o na minha mesa. A placa de v\\u00eddeo ajuda significantemente no trabalho de edi\\u00e7\\u00e3o gr\\u00e1fica. Minha \\u00fanica ressalva \\u00e9 a troca de posi\\u00e7\\u00e3o do s\\u00edmbolo \\\"?\\\" no teclado, ficando na mesma tecla que a letra \\\"W\\\", sendo portanto acionar a tecla Alt Gr para poder us\\u00e1-la. leva um tempo para se acostumar a essa mudan\\u00e7a, o que reduz a velocidade de digita\\u00e7\\u00e3o em pouco.\",5],[\"Excelente. Entrega dentro do prazo, produto excelente em quest\\u00e3o de desempenho, \\u00f3timo para jogos e demais fun\\u00e7\\u00f5es comuns.\",5],[\"gostei muito do produto!. o notebook \\u00e9 \\u00f3timo,inclui o Windows 10. \\u00e9 perfeito,n\\u00e3o tem o que reclamar.\",5],[\"Horrivel. Comprei ele dia 15 de novembro e dia 15 de Dezembro a tela come\\u00e7ou a piscar e buuu ficou cheia de linhas na tela, e n\\u00e3o funciona pra nada..  n\\u00e3o comprem n\\u00e3o presta.\",1],[\"insatisfa\\u00e7\\u00e3o  total. comprei esse produto na certeza de q era confi\\u00e1vel, pois estava comprando em.uma das maiores lojas de departamento do Brasil, por\\u00e9m o produto chegou com defeito, tenho q mandar para assist\\u00eancia em Coritiba,  sendo q moro em Goi\\u00e2nia,  totalmente arrependida por ter comprado esse produto. A minha maior indica\\u00e7\\u00e3o \\u00e9  que n\\u00e3o  comprei da positivo e sim das lojas americanas. Pensarem duas vezes antes de comprar um produto  dessa loja.\",1],[\"Gostei do produto. Gostei do produto e recomendo a outras pessoas muito bom.\",3],[\"muitos defeitos. Em tempo h\\u00e1bil entrei em contato com departamento solicitando a troca, e n\\u00e3o fui atendido. fiquei muito decepcionado tanto com o produto quanto a assist\\u00eancia, que n\\u00e3o deu aten\\u00e7\\u00e3o para a minha solicita\\u00e7\\u00e3o.\",1],[\"QUALIDADE Notebook 2 em 1 Positivo Duo ZR3630 Intel Celeron Dual Core 4GB 32GB Tela LCD 11.6\\\" Windows 10 - Cinza. PRODUTO DA POSITIVO S\\u00c3O BONS, CREIO QUE FUI INFELIZ NA AQUISI\\u00c7\\u00c3O DESTE NOTEBOOK, ONDE EM APENAS 2 SEMNAS DE UTILIZA\\u00c7\\u00c3O O MESMO OCORREU UM PROBLEMA, ONDE A POSITIVO IMEDIATAMENTE  SOLICITOU O RETORNO DESTE APARELHO, PARA OS MESMOS APURAR ESTA IRREGULARIDADE. AT\\u00c9 O MOMENTO MUITO BEM ATENDIDO PELA POSITIVO E CREIO QUE AP\\u00d3S APURA\\u00c7\\u00c3O O MESMO ESTAR\\u00c1 NOS DANDO UM RELAT\\u00d3RIO DO OCORRIDO E NOS COMPENSANDO COM UM PRESENTE MUITO BOM, VAMOS AGUARDAR...\",3],[\"Notebook de boa qualidade.. Atende bem, para que n\\u00e3o necessita de alta performance.\",4],[\"Muito bom!. Estou muito satisfeita!! Chegou rapidinho, em \\u00f3timo estado, est\\u00e3o de parab\\u00e9ns!\",5],[\"\\u00f3timo notebook. comprei para trabalhar e jogar jogos relativamente leves.  est\\u00e1 dando conta do recado muito bem.\",4],[\"bom. d\\u00e1 pra jogar minecfrat e escutar uns gemid\\u00e3o do zap suave\",5],[\"problema na tela. quando entreguei o presente para os meus filhos eles detectaram que a tela tinha um pixel queimado, mas o prazo de devolu\\u00e7\\u00e3o j\\u00e1 havia terminado.\",2],[\"esse produto chego na data o restante dos produtos nao chegarem ou chegaram atrasados. comprei esse produto e mais produtos na mesma compra, cada um veio com uma transportadora, no site informou que os outros produtos chegariam ate dia X, na transportadora dia Y.  Enfim log\\u00edstica das americas  \\u00e9 p\\u00e9ssima, com essas entregas fracionadas, de outros forncedores.\",3],[\"Bom custo beneficio.. \\u00d3tima m\\u00e1quina pra quem deseja realizar atividades b\\u00e1sicas como trabalho e estudo.\",3],[\"SEM PRODUTO E SEM DEVOLU\\u00c7\\u00c3O DO DINHEIRO. Efetuei a compra no dia 20.12.17 e o prazo de entrega era 02.01.2018. N\\u00e3o recebi o produto, efetuei diversas reclama\\u00e7\\u00f5es, n\\u00e3o recebi respostas. Cancelei a compra e n\\u00e3o devolveram o valor debitado do cart\\u00e3o de cr\\u00e9dito. Efetuei reclama\\u00e7\\u00e3o no site Reclame Aqui e, segundo Americanas o produto foi reenviado, mesmo ap\\u00f3s meu pedido de cancelamento, e s\\u00f3 depois de receber o produto e devolver poder\\u00e3o solicitar o estorno do cart\\u00e3o. O prazo para recebimento desse reenvio encerrou dia 12.01.18 e at\\u00e9 o momento a Americanas.com n\\u00e3o resolveu a situa\\u00e7\\u00e3o. Fui obrigada a mover uma a\\u00e7\\u00e3o na justi\\u00e7a contra a loja.\",1],[\"Muito ruim!. Todos defeitos poss\\u00edveis, mega lento, descarrega r\\u00e1pido, n\\u00e3o conseguir usar para finalidade que comprei. S\\u00f3 n\\u00e3o devolvi pq comecei usar ap\\u00f3s uma semana que chegou e por isso perdi o prazo legal.\",1],[\"bem maneiro.. ele e bem fr\\u00e1gil, porem com os cuidados ate mesmo na hora de abrir a tela e um notebook pra muito tempo, o de melhor nele que achei foi o som, e por n\\u00e3o esquenta, e bem \\u00e1gil pra quem quer usar trabalhar ou estudar. ele vai durar conforme seus cuidados.\",3],[\"Pra trabalho e estudo ok!. Boa capacidade interna e externa, o tornando \\u00e1gil, para trabalho e estudo atende \\u00e0 necessidade, tela grande, bom pre\\u00e7o, indico a compra.\",4],[\"DELL ULTRA-TOP. Note absolutamente fant\\u00e1stico, super r\\u00e1pido e leve, ergon\\u00f4mico, bonito, e UTIL para o dia dia. Falta a placa de video dedicada para quem quer algo sobrenatural, mas duvido ser melhor por conta disso.\",5],[\"Bom notebook, mas esperava mais da placa de v\\u00eddeo.. Notebook muito bonito e de bom desempenho, mesmo para o windows 10 que \\u00e9 bem pesado, as conectividades s\\u00e3o bem modernas mas confesso que esperava mais da placa de v\\u00eddeo, n\\u00e3o senti grande diferen\\u00e7a em rela\\u00e7\\u00e3o a Intel hd 620, uma leve melhora apenas.\",4],[\"Satisfeita!. Achei um bom custo x benef\\u00edcio. \\u00c9 leve, tem um som legal, boa c\\u00e2mera com alguns recursos. \\u00c9 bem flu\\u00eddo. Pelo pre\\u00e7o, estou bem satisfeita.\",4],[\"Funcionou por menos de 1 hora (na tomada!). Ao ligar pela primeira vez j\\u00e1 vi que a bateria estava com problemas pois n\\u00e3o carregava. Mesmo apresentando alguma carga s\\u00f3 funcionou na tomada. Ao tirar da tomada, mesmo com 80% de carga, desligava. Depois n\\u00e3o ligou mais. Desisti da compra para adquirir um de outra marca.\",1],[\"\\u00d3timo. A entrega foi dentro do prazo previsto. O computador \\u00e9 lindo, recomendo.\",5],[\"Otimo produto. O produto e muito bom para que e estudante e precisa de uma m\\u00e1quina com boas especifica\\u00e7\\u00f5es\",5],[\"Bom '!!. meu Irm\\u00e3ozinho gostou bastante e tdos n\\u00f3s gostamos por ele tbm '!!\",4],[\"\\u00d3timo desempenho. O notebook tem um bom acabamento e estou muito contente com ele. N\\u00e3o uso para programas muito pesados, mas posso dizer que para usar internet, Photoshop e usar v\\u00e1rias abas ao mesmo tempo est\\u00e1 sendo excelente, n\\u00e3o trava e \\u00e9 muito eficiente at\\u00e9 ent\\u00e3o. Recomendo!\",5],[\"Bom. N\\u00e3o tem entrada para CD. A entrega foi no prazo. Recomendo o produto  pra pequenos trabalhos, ou para crian\\u00e7as.\",3],[\"Bom e barato. At\\u00e9 agora n\\u00e3o tive nenhum problema com o meu, muito bom!\",3],[\"Tablet  sansung. Muito boa resolu\\u00e7\\u00e3o e tamanho da tela e desempenho\",5],[\"muito bom. recebi meu pedido bem antes do prazo, estou muito satisfeito\",3],[\"Boa compra. \\u00f3timo custo\\u002fbenef\\u00edcio.. Boa op\\u00e7\\u00e3o para crian\\u00e7as.  Boa compra. \\u00f3timo custo\\u002fbenef\\u00edcio.\",4],[\"CUMPRE A PROPOSTA. Na categoria \\u00e9 o melhor, tela anti-reflexo, bem n\\u00edtida e cores vivas. Sou designer gr\\u00e1fico e pra mim tem sido muito \\u00fatil, roda bem os programas. Estou jogando bem tamb\\u00e9m, rodas jogos pesados em full. Designer fosco \\u00e9 bem \\u00fatil pois dificilmente fica sujo. Eu recomendo, parab\\u00e9ns samsung.\",5],[\"Gostei do produto. Bom pra quem usa o notebook pra estudar ou trabalhar. Ainda estou acostumando com o linux,  mas n\\u00e3o apresenta grande dificuldades nas tarefas que fa\\u00e7o normalmente no computador. Sem contar que tive um notebook positivo que durou 10 anos sem apresentar defeito.\",4],[\"Fa\\u00e7a upgrade para SSD. O HD que vem de f\\u00e1brica \\u00e9 de p\\u00e9ssima qualidade. No entanto, se voc\\u00ea colocar um SSD, fica fant\\u00e1stico. Tirando o HD, a constru\\u00e7\\u00e3o \\u00e9 de alta qualidade, a tela \\u00e9 perfeita, com \\u00f3tima densidade de pixels, notebook de 14' com tamanho de 13', por causa das bordas super finas.\",4],[\"Produto falsificado. Eles vendem como um adaptador apple, mas \\u00e9 falso. O acabamento \\u00e9 ruim, o material \\u00e9 diferente do original e queimou depois de carregar apenas 30% da bateria do meu celular no primeiro uso. Ainda por cima solicitei o cancelamento e devolu\\u00e7\\u00e3o do valor mas a loja nem sequer me respondeu. Pura engana\\u00e7\\u00e3o.\",1],[\"N\\u00e3o recomendo. Produto trava bastante. Descarrega r\\u00e1pido. O que era para entreter as crian\\u00e7as acabou se tornando uma frustra\\u00e7\\u00e3o. N\\u00e3o recomendo.\",1],[\"Ele \\u00e9 muito pesado. O tablete em si n\\u00e3o \\u00e9 ruim, por\\u00e9m para o que eu estava precisando n\\u00e3o foi o esperado; ele \\u00e9 muito pesado e a imagem da tela \\u00e9 escura, por mais que deixamos a luminosidade no m\\u00e1ximo. O toque da tela demora muito a responder. N\\u00e3o compraria novamente, nem recomendo.\",2],[\"Excelente Produto. Comprei de presente para meu irm\\u00e3o,ele adorou. Entrega antes do prazo previsto.\",5],[\"excelente produto Tablet T560. Recomendo este produto. Bonito e boa capacidade de processamento.\",5],[\"N\\u00e3o vem com leitor de CD\\u002fDVD. Estou acostumada com meu Inspiration 3420 da Dell e percebi muita diferen\\u00e7a no sistema Windows... do resto, o notebook \\u00e9 mais r\\u00e1pido e cabe muito mais arquivos. O que me chateou \\u00e9 que n\\u00e3o vem com leitor de CD\\u002fDVD e n\\u00e3o havia a op\\u00e7\\u00e3o de comprar a parte.\",3],[\"\\u00d3timo.. Produto \\u00f3tima qualidade, bom custo x benef\\u00edcio, entregue muito antes do prazo.\",4],[\"Gostei do tablet!. Ele tem um bom tamanho de tela com resolu\\u00e7\\u00e3o boa para trabalhar (editar planilhas e navegar). A bateria \\u00e9 boa e tem uma velocidade para abrir os aplicativos legal.\",4],[\"Custo benef\\u00edcio muito bom. Recomendo 100%, tablet ideal para crian\\u00e7as, sem falar que o processamento \\u00e9 r\\u00e1pido e as c\\u00e2meras possuem boa resolu\\u00e7\\u00e3o.\",5],[\"muito insatisfeito com o produto. Boa tarde! Comprei o produto no boleto e paguei, porem o produto chegou com defeito e at\\u00e9 o dia de hoje(17\\u002f01\\u002f2018) n\\u00e3o resolveram o problema, o suporte da dell fica de resolver e n\\u00e3o resolve, vou ter que acionar o Procon, pois tem quase 30 dias que comprei o produto e n\\u00e3o pode usar e pior que esse notebook comprei para dar de presente. descri\\u00e7\\u00e3o o problema: quando colocar para carregar a bateria , ela quando chega em 55% de carga informa que est\\u00e1 conectada e sem carregar. passei essa informa\\u00e7\\u00e3o para Dell e pediram para fazer v\\u00e1rios testes e at\\u00e9 hoje n\\u00e3o trocaram o notebook para eu dar de presente que tinha prometido e olha o constrangimento causado, dei o produto de presente e a pessoa teve que me devolver o presente e at\\u00e9 hoje n\\u00e3o retornei com o presente.\",1],[\"\\u00d3timo produto. \\u00d3timo notebook, excelente pre\\u00e7o comparada a qualidade do produto, a entrega foi bem r\\u00e1pida.\",5],[\"Eu gostei dooproduto. Produto de \\u00f3tima qualidade. Chegou antes do prazo previsto. Um bom atendimento\",4],[\"Bom produto. Demorou muito chegar, quase 1 mes depois que comprei.\",3],[\"Bom custo benef\\u00edcio. O Linux tem algum tipo de bloqueio que dificulta a instala\\u00e7\\u00e3o do Windows. S\\u00f3 consegui desbloquear com um t\\u00e9cnico.\",3],[\"N\\u00e3o \\u00e9 original. O produto n\\u00e3o \\u00e9 Apple!!! \\u00c9 uma r\\u00e9plica muito semelhante ao original, comprei achando que seria original, pois o iPhone depois de um tempo come\\u00e7a a recusar carregadores falsos e foi o caso desse aqui.\",2],[\"Nota 10. Primeiro por que gosto da marca Samsung  Pesquisei bastante \\u00e9 pre\\u00e7o estava mais encota  que outros site. Produto chegou antes da data.\",4],[\"Veio com defeito.. Produto veio com defeito no HD. Estou aguardando contato para efetuar troca do produto\",1],[\"Bom tablet de entrada. Gostei muito do aparelho. \\u00c9 s\\u00f3brio, r\\u00e1pido e desempenha bem o que \\u00e9 esperado dele. Facebook, Whatsapp e alguns jogos n\\u00e3o muito pesados.\",3],[\"Perfeito!!. Para mim atendeu todas as expectativas,comprei dois ,meus filhos amaram ,roda os jogos deles perfeitamente.So tenho elogios quanto a entrega,como sempre as lojas Americanas \\u00e9 r\\u00e1pida nas entregas,est\\u00e3o de parab\\u00e9ns!\",4],[\"PAREM DE VENDER PRODUTOS DESSA PORCARIA DE EMPRESA COMPREBEL. LOJAS AMERICANAS, CRIEM VERGONHA E PAREM DE VENDER PRODUTOS DESSA EMPRESA COMPREBEL. N\\u00c3O ADIANTA VENDER UM PRODUTO QUE N\\u00c3O TEM ESTOQUE. Nunca vi tanto descaso com o cliente como o dessa empresa Comprebel.  Meu sobrinho comprou um PC de 3.670.00 Fazem 40 dias e at\\u00e9 agora n\\u00e3o recebeu o produto, as Lojas Americanas enrolam, a Comprebel diz que n\\u00e3o tem o produto, for\\u00e7ando o cliente a cancelar a compra. J\\u00c1 debitaram 2 parcelas no cart\\u00e3o e nada, por \\u00faltimo disseram que o produto foi postado porem a carga foi roubada, e agora mais 30 dias pra entregar outro???? Contem outra empresa Fundo de Quintal falida.\",1],[\"Aparelho bom. \\u00c9 bonzinho s\\u00f3 q com o tempo ele come\\u00e7a a travar,  mas como \\u00e9 s\\u00f3 pra jogar mesmo, ta bom\",3],[\"serve para o b\\u00e1sico. at\\u00e9 o momento ta rodando de boa. a entrega foi super r\\u00e1pida\",2],[\"Bom vendedor.. Entrega r\\u00e1pida e segura. Recomendo a todos. Veio conforme anunciado.\",5],[\"P\\u00c9SSIMO PRODUTO. CORRAM, CORRAM, CORRAM DESSE PRODUTO!!! COMPREI O PRODUTO E 1 SEMANA DEPOIS APRESENTOU PROBLEMA NA BATERIA. S\\u00d3 FUNCIONA COM O CARREGADOR CONECTADO. N\\u00c3O COMPREM JAMAIS!!\",1],[\"Lento. Comparando com os outros notebooks que tive, achei este inferior, lento para executar os programas, o mouse \\u00e9 ruim de movimenta\\u00e7\\u00e3o. N\\u00e3o entendo muito, n\\u00e3o sei se pode ter rela\\u00e7\\u00e3o com o sistema, que \\u00e9 windows 10, os anteriores que eu usava eram o windows 7, que \\u00e9 mais leve.\",2],[\"Bom e eficiente. \\u00d3tima imagem de tela. Chegou antes do prazo estipulado.\",5],[\"computador bastante fraco. O computador trava quando se usa o power point. E a DELL nao sabe o porque... JOga a culpa na microssoft. material bem fraco, delicado.... nao vale a pena\",1],[\"Excelente produto.. \\u00d3timo produto q tem como \\u00fanica falha o HD q \\u00e9 lento, mas o resto \\u00e9 excelente.\",4],[\"satisfeito com a compra. o tablet nao era nem para min eu indiquei uma pessoa para comprar nesse site e comprei no meu perfil e nao me arrempendo chegou bem antes do prazo e em perfeitas condi\\u00e7oes, ja indiquei uma capa tambem e to aguardando a entrega. otimo site para compras.\",5],[\"muito bom. chegou em quase perfeito estado............................................................................................................................................................................................................................................................................................................\",4],[\"20 mil reais ? ta de sacanagem ?????????. 20 mil reais ? ta de sacanagem ?????????20 mil reais ? ta de sacanagem ?????????20 mil reais ? ta de sacanagem ?????????20 mil reais ? ta de sacanagem ?????????20 mil reais ? ta de sacanagem ?????????20 mil reais ? ta de sacanagem ?????????20 mil reais ? ta de sacanagem ?????????20 mil reais ? ta de sacanagem ?????????20 mil reais ? ta de sacanagem ?????????20 mil reais ? ta de sacanagem ?????????\",1],[\"Bom produto!. Ele trava um pouco mas atende as minhas necessidades. Pelo pre\\u00e7o n\\u00e3o poderia ser melhor.\",3],[\"produto muito bom. Gostei muito do produto, alcan\\u00e7ou minhas expectativas,\\u00f3tima qualidade e \\u00f3timo pre\\u00e7o.\",4],[\"Vale nada. N\\u00e3o comprem gente p\\u00e9ssimo produto chegou num dia no outro nem quiz ligar mais\",1],[\"E o produto que tinha planejado para adquiri-lo.. E um note que atende as minhas expectativas em todos os sentidos,\",4],[\"Tablet Pessimo!. Comprei este tablet para minha filha no dia 24\\u002f12 para dar de natal, levamos para casa e n\\u00e3o ligava, voltamos na loja e trocamos o aparelho. E este segundo em menos de um m\\u00eas (hoje s\\u00e3o 17\\u002f01\\u002f2018) j\\u00e1 apresenta problema! N\\u00e3o abre os aplicativos, n\\u00e3o instala os jogos do Playstore. Come\\u00e7a a ver um v\\u00eddeo no Youtube e ele fecha de repente. Toda hora dando erro com o logo da Philco aparecendo na tela diversas vezes e n\\u00e3o liga. N\\u00e3o comprem!\",1],[\"Caneta n\\u00e3o funciona. A caneta n\\u00e3o funciona com iPad e nem mesmo com tablet Android\",1],[\"\\u00d3timo. \\u00d3timo produto, \\u00f3tima qualidade. Entrega antes do prazo.\",5],[\"Pura engana\\u00e7\\u00e3o. N\\u00e3o comprem, p\\u00e9ssimo produto, itens de marcas diferentes umas das outras, a tela \\u00e9 p\\u00e9ssima resolu\\u00e7\\u00e3o, em menos de um m\\u00eas de uso, o mouse parou, os fones de ouvido tb pararam. O PC travou pedindo que instale windows(ele n\\u00e3o funciona mais). O pior produto que j\\u00e1 comprei. Meu afilhado de 16 anos ficou simplesmente FRUSTRADO, afinal o presente foi para ele. PRODUTO P\\u00c9SSIMO. N\\u00e3o vale investimento nenhum.\",1],[\"Primeira vez que compro dessa marca.... Eu comprei chegou ontem ent\\u00e3o n\\u00e3o tenho muito o que dizer ... Pra mim t\\u00e1 \\u00f3timo pelo que pude mecher... Pelo valor est\\u00e1 \\u00f3timo... Espero que dure bastante tempo sem dar problemas Pois nunca comprei nenhum aparelho com essa marca.... Vi somente um.video no YouTube falando dele \\u00e9.me interessei...\",4],[\"Excelente. Muito satisfeita com o produto superou as expectativas de uso\",4],[\"Kit Capa para mini iPad 2. Gostei do produto, melhor que eu esperava, tem im\\u00e3 para manter o tri\\u00e2ngulo de base para o iPad ficar em p\\u00e9.\",5],[\"Excelente custo benef\\u00edcio. Notebook bonito, r\\u00e1pido, chegou super r\\u00e1pido e custo muito abaixo de outro notebook de mesma configura\\u00e7\\u00e3o e outras marcas.\",5],[\"Notbook Acer. Recebi o produto com 1 dia ap\\u00f3s o prazo previsto,mas completamente aceit\\u00e1vel por ser fim de ano!! Produto excelente,entrega ok. Para mim o melhor site para compras.\",5],[\"Muito bom.. O produto chegou no prazo certo e est\\u00e1 funcionando corretamente. Estou satisfeito com a compra.\",5],[\"O produto nao foi entregue no prazo marcado.. Comprei o Tablet no dia 04\\u002f01\\u002f2018. fui informada que a data de entrega seria at\\u00e9 o dia 16\\u002f01\\u002f2018. Hoje \\u00e9 dia 18 de janeiro e at\\u00e9 o momento n\\u00e3o recebi o produto. E no acompanhamento do pedido continua informando que ser\\u00e1 entregue at\\u00e9 o dia 16 de janeiro. E eu continuo aguardando a entrega... Desanimada....\",1],[\"Estou gostando. Pr\\u00f3s -- Bonito, leve, r\\u00e1pido. Contra -- Tive que pagar para um t\\u00e9cnico tirar o Windows 10 pois \\u00e9 horr\\u00edvel, pede atualiza\\u00e7\\u00f5es di\\u00e1rias e demora demais, \\u00e9 lento pra mexer. Mas agora com o Windows 7 o notebook funciona muito bem. Obs.: Uso para trabalho.\",5],[\"amei. Foi tudo perfeito desde a compra at\\u00e9 a entrega. Recebi o produto conforme o que eu queria. Eu recomendo esse site.\",5],[\"Gostei muito do produto!!. Produto muito bom,serviu ao que se destinou,obrigado!!!!\",4],[\"O notebook \\u00e9 exelente. Atendeu todas as minhas expectativas, o que n\\u00e3o gostei foi da transportadora, que deixa a desejar sobre informa\\u00e7\\u00f5es da localiza\\u00e7\\u00e3o e status da encomenda.\",5],[\"SATISFEITA.. A entrega foi antes do prazo e o produto e muito bom.Satisfeita.\",5],[\"produto excelente. tenho este produto a 2 anos , nunca pegou v\\u00edrus , n\\u00e3o trava , bateria duradora , custo beneficio para uso domestico, s\\u00f3 os apricativos que s\\u00e3o ilimitados precisando desenvolver apricativos para este programa de computador.\",5],[\"\\u00d3timo. Tela grande.  Mem\\u00f3ria muito boa. Meu filho gostou muito, foi um excelente presente.\",4],[\"Regular. Eu comprei o tablet Mirage l\\u00e1 na Lojas Americanas veio em 7 dias ele voltou ficou com defeito a\\u00ed dia 20 dia 11 eu mandei ele de volta e n\\u00e3o voltou at\\u00e9 hoje at\\u00e9 hoje ligo ligo ligo e ningu\\u00e9m atende e a minha nota fiscal est\\u00e1 aqui eu quero saber que que vai acontecer\",2],[\"BOM EQUIPAMENTO. BOM DESEMPENHO PARA ATIVIDADE QUE EXER\\u00c7O - ARQUITETURA e URBANISMO\",3],[\"Gostei do produto. Muito bom, est\\u00e1 atendendo minhas expectativas. Agora por ser um processador I3 eu pensei que seria bem mais r\\u00e1pido do que meu notebook anterior pois este ainda n\\u00e3o est\\u00e1 nem cheio de aplicativos mas a velocidade \\u00e9 compar\\u00e1vel com os processadores anteriores.\",4],[\"Muito bom. Excelente produto. Realmente atendeu \\u00e0s minhas expectativas com rela\\u00e7\\u00e3o \\u00e0 qualidade.\",5],[\"Gostei muito do produto. Chegou antes do prazo, muito bom, meu filho baixou 20 joguinho do Google play e n\\u00e3o travou kkk excelente parab\\u00e9ns\",5],[\"bom. sem altera\\u00e7\\u00e3o , muito bom mesmo , foi eu que escolhi dentro da configura\\u00e7\\u00e3o\",4],[\"Gostei. Achei pratico e resistente. Poderia ter putras cores de op\\u00e7\\u00e3o al\\u00e9m do preto. Mas atende ao que preciso.\",3],[\"Nootebook Sem leitor de DVD.. Notebook \\u00e9 bom, porem n\\u00e3o vem com o leitor de DVD, tem o \\\"furo\\\" pra ter leitor mas vem lacrado, qual o sentido de vir com o encaixe e n\\u00e3o ter o leitor......#decepcionado.\",3],[\"Amei esse produto. Gostei da aten\\u00e7\\u00e3o que vcs tiram tirando d\\u00favidas, sobre a entrega chegou antes do prazo o produto muito bom, ele \\u00e9 al\\u00e9m do que eu imaginava.\",4],[\"GOSTEI DO PRODUTO. TUDO OK...................................................................................................................................................................................................................................................\",5],[\"Parou de funcionar!!!. com menos de 1 m\\u00eas de uso o tablet simplesmente se desligou sozinho e n\\u00e3o liga mais. Procurei por assist\\u00eancia t\\u00e9cnica autorizada em minha cidade e n\\u00e3o tem!!!!\",1],[\"\\u00d3timo PC. PC \\u00f3timo para quem utiliza para estudos e pesquisas na internet...\",5],[\"N\\u00e3o recebi o produto. Comprei o produto no dia 20 de dezembro e at\\u00e9 agora nada... Nunca tive problemas com compras na internet at\\u00e9 agora...\",1],[\"Bom produto. Dentro das expectativas ; ainda tive pouco tempo de uso mais n\\u00e3o decepcionou\",4],[\"\\u00f3timo aparelho. Esquenta bastante rodando jogos como lol, tera, diablo 2 em gr\\u00e1ficos altos. \\u00f3timo desempenho e design. Adorei e est\\u00e1 servindo muito bem todos os meus requerimentos.\",5],[\"Bom custo beneficio. Configura\\u00e7\\u00e3o simples mas que atende muito bem as tarefas do dia a dia.\",4],[\"EXCELENTE PRODUTO. O tablet \\u00e9 muito bom. \\u00d3timo custo benef\\u00edcio. Entrega no prazo.\",5],[\"Excelente produto, gostei!. As Americanas est\\u00e1 de parab\\u00e9ns a entrega foi antes do prazo, super r\\u00e1pido! Recomendo.\",5],[\"Adorei  o meu tablet. Compra segura  Entrega r\\u00e1pida antes do previsto gostei\",5],[\"nao gostei, recebi o computador com HD queimado. Recebi o computador com o HD estragado, ou seja o computador esta  inutiliz\\u00e1vel, ja mandei varios tickets parar o atendimento da Americanas que iriam encaminhar para a loja que enviou o pedido, loja Comprebel, que ficaram de me responder em 48 horas e ja se passou varios dias e nada da resposta. Fiquei no prejuizo! loja sem suporte.\",1],[\"o computador veio com defeito e n\\u00e3o est\\u00e1 funcionando. o computador veio com defeito e n\\u00e3o est\\u00e1 funcionando, instalei tem 2 dias e j\\u00e1 parou de funcionar, o tecnico disse que pode ser o HD ou algum cabo solto mas ele nao pode abrir p ver pois perderia a garantia.\",1],[\"\\u00d3timoooooo!. \\u00c1udio excelente, \\u00f3timo para quem estuda e muito bonito por sinal !\",4],[\"Produto com defeito. Computador de qualidade duvidosa. Deu defeito no primeiro dia de uso.\",1],[\"Custo \\u00e9 benef\\u00edcio. Meu filho gostou muito do aparelho,tem um bom desempenho, bom acabamento e bonito.\",3],[\"Tablet Samsung. Doy 5 estrellas. Excelente producto. Muy atentos y eficaces los vendedores. Lo recib\\u00ed antes de tiempo. Recomiendo.\",5],[\"Superou minha expectativa. Estou muito satisfeito com esse tablet da Mirage. \\u00d3tima bateria, boa resolu\\u00e7\\u00e3o de tela de 10 polegadas e bom desempenho, al\\u00e9m de ser muito bonito.\",4],[\"Insatisfeito. Fico pensando como uma empresa de renome como a DELL coloca uma m\\u00e1quina t\\u00e3o fraca  como essa no mercado.A insatisfa\\u00e7\\u00e3o come\\u00e7a logo na hora de ligar.\\u00c9 uma eternidade at\\u00e9 abrir o windows, e continua com o uso,travando e demorando para processar coisas simples.O design do notebook \\u00e9 fraco e sem atrativos,nem se comparando ao VAIO,que ai sim,tem uma m\\u00e1quina elegante e realmente bonita.Me enganei por achar que comprando um notebook DELL core i5 de s\\u00e9tima gera\\u00e7\\u00e3o  estava fazendo um \\u00f3timo neg\\u00f3cio.Para finalizar estou esperando terminar de pagar a m\\u00e1quina para comprar algo realmente de qualidade e que me entregue o que se prop\\u00f5e.\",1],[\"IPAD. Muito bom, ainda estou aprendendo a lidar com equipamento\",4],[\"M\\u00e9dia qualidade. O produto apresenta uma bateria que acaba muito r\\u00e1pido, o slot do chip \\\"engole\\\" o mesmo, esquenta muito e \\u00e9 dif\\u00edcil encontrar uma capa protetora que sirva.\",2],[\"\\u00d3timo Custo Benef\\u00edcio!!. Comprei esse Tablet para minha esposa para que ela possa mostrar as fotos de seus bolos nas visitas \\u00e0 Clientes. Ela est\\u00e1 adorando!!\",3],[\"Gostei muito do produto.. Gostei muito do produto.  Gostei muito do produto.  Gostei muito do produto.\",4],[\"Otimo. Produto \\u00f3timo e chegou em perfeito estado, eu super recomendo porque ele \\u00e9 bom de verdade tem que respeitar a Dell e a empresa Americanas.\",5],[\"Note samsung expert. Super recomendo melhor aquisi\\u00e7\\u00e3o j\\u00e1 realizada e chegou antes do prazo informado\",5],[\"Produto Excelente!. O notbook \\u00e9 auto de data e \\u00e9 incr\\u00edvel como ele facilita nosso acesso, sem falar da apar\\u00eancia.. lindo ... lindo ... lindo !\",5],[\"Gostei do Produto. Apenas, \\u00e0s vezes o clique no bot\\u00e3o que onde seria do \\\"mouse\\\" n\\u00e3o obedece.\",3],[\"Cumpre o prometido !. Pra quem procura um notebook pra fun\\u00e7\\u00f5es b\\u00e1sicas, faculdade, redes sociais... Ele \\u00e9 muito bom.\",3],[\"Muito bom. Tablet leve e bom, acabamento excelente e estar me atendendo muito bem\",3],[\"Produto de \\u00f3tima qualidade.. Produto de \\u00f3tima qualidade. A \\u00fanica coisa \\u00e9 que a entrega demorou para acontecer. Recebi o produto com atraso.\",4],[\"Muito bom o produto.. S\\u00f3 n\\u00e3o \\u00e9 excelente porque n\\u00e3o vem com o pacote do Office. No mais...\\u00e9 top.\",4],[\"Gostei muito do produto!!. \\u00d3timo produto, de extrema qualidade!! A entrega foi mais r\\u00e1pida do que eu esperava, recomendo a todos!!\",5],[\"Produto com \\u00f3timos recursos. \\u00c9 um excelente produto da Samsung,com \\u00b4recursos  \\u00f3timos.Recomendo.\",5],[\"produto muito bom. produto de otima qualidade,recomendo a quem quiser adquirir\",5],[\"Notebook regular. regular, porem lento, trava um pouco, mas pra uso dom\\u00e9stico at\\u00e9 que \\u00e9 bom.\",2],[\"Bom produto, atende as expectativas. Me decepcionei um pouco com a demora da entrega, j\\u00e1 que estava acostumada com outros sites que s\\u00e3o super r\\u00e1pidos. Quanto ao produto, poderia ter entradas usb dos dois lados (s\\u00f3 tem no lado esquerdo) e em mais quantidade, j\\u00e1 que n\\u00e3o possui leitor de cd. No mais, notebook bonito e pr\\u00e1tico com um pre\\u00e7o compat\\u00edvel\",3],[\"bateria muito rapido termina. nao gostei da questao bateria...rapido demais termina.\",2],[\"muito bom produto. Chegou antes do prazo estou satisfeito. Recomendo pelo valor oferecido foi um \\u00f3timo negocio.\",3],[\"Gostei muito. Computador excelente, muito r\\u00e1pido e o designer \\u00e9 top!\",5],[\"Fiquei com medo, mas deu tudo certo. Tinha visto um coment\\u00e1rio sobre a lentid\\u00e3o do produto, e comprovei isso quando chegou. Fiquei frustrado, mas ent\\u00e3o vi que tinha um monte de atualiza\\u00e7\\u00f5es para serem feitas. Depois de fazer, o notebook est\\u00e1 muito r\\u00e1pido. Realmente valeu a compra. Recomendo!\",5],[\"PESSIMO ATENDIMENTO. Comprei o produto com previs\\u00e3o de entrega dia 02.01.18 e at\\u00e9 o momento o produto n\\u00e3o foi entregue. J\\u00e1 fiz diversas reclama\\u00e7\\u00f5es, sem respostas. Cancelei a compra e ainda n\\u00e3o houve estorno do valor no meu cart\\u00e3o de cr\\u00e9dito.\",1],[\"Top. Por um pre\\u00e7o acess\\u00edvel adquiri um produto com uma qualidade maravilhosa. Obrigado americanas por pre\\u00e7os imbat\\u00edveis e qualidade monstra !!!\",5],[\"produto excelente. produto superou as expectativas, muito bom, valeu a pena.\",5],[\"Vale a pena. vale fazer u upgrade, trocar o hd por ssd. Super recomendo.\",5],[\"Produto bom.. S\\u00f3 carece de driver de CD e DVD. No mais, o equipamento \\u00e9 bom.\",5],[\"\\u00d3timo Equipamento. Trabalho com desenvolvimento Android, e rodar o emulador sempre foi um problema, essa m\\u00e1quina com essa configura\\u00e7\\u00e3o e principalmente pelo SSD, melhorou demais o desenpenho e a minha produtividade\",5],[\"Estou tendo problemas com a taxa de fps. Comprei o not quando fui jogar observei que a taxa de fps tava em 30 sendo que ele termina boa placa de v\\u00eddeo capas de chegar at\\u00e9 192 de ms realizei tudo que meus amigos falaram att entre outros mais permanece assim Am\\u00e9ricas oque eu posso fazer\",1],[\"Cumpre o que promete. De acordo com as especifica\\u00e7\\u00f5es t\\u00e9cnicas do produto.\",4],[\"\\u00d3timo custo\\u002fbenef\\u00edcio. Produto atende \\u00e0s expectativas e a negocia\\u00e7\\u00e3o foi r\\u00e1pido e f\\u00e1cil\",4],[\"Excelente.. \\u00d2tima compra, tela fina super leve e bonito. Recomendo.\",5],[\"PARCELAS. SERIA BOM SE PODESSE PARCELAR EM 10X COM CARTAO DE CREDITO.\",3],[\"Produto veio com problemas. O produto veio com problemas, estou a 10 dias tentando fazer a troca e a loja n\\u00e3o passa uma posi\\u00e7\\u00e3o.  Estou muito chateada e vou ter que entrar na Justi\\u00e7a para resolver.\",1],[\"Produto muito bonito. Meu notebook acabou de chegar. Achei ele lindoooooooo. Bem grande, bem fino, acabamento legal. Ele pega HDMI no site n\\u00e3o mostra. Por\\u00e9m estou triste, pelo fato dele n\\u00e3o estar conectando a nenhuma rede wi-fi\",3],[\"Ideapad 310-\\u00d3timo Notebook. Leve, silencioso, muito r\\u00e1pido, som l\\u00edmpido, teclado confort\\u00e1vel. Recomendo.\",4],[\"Recomendo. Super indico Vale a pena comprar Ele \\u00e9 lindo Slim E a cor \\u00e9 Maravilhosa (para quem gosta da cor a\\u00e7o escovado)\",5],[\"Excelente.. A Samsung sempre foi minha marca de produtos favorita. Celular, TV, Notebook... E esse Notebook \\u00e9 excepcional, tela, processamento dos dados, \\u00f3timo para rodar as coisas di\\u00e1rias, Word, Internet, Youtube tudo na mesma hora, sem travar. Ainda d\\u00e1 para arriscar uns jogos de 2016 para baixo.\",5],[\"P\\u00e9ssimo!!!!. No segundo dia de uso, travou, tenho internet de 30 mega e n\\u00e3o esta abrindo as p\\u00e1ginas da internet, fica travando!!! Irei devolver o produto, sem contar que hoje pela manh\\u00e3 ele iniciou com um ru\\u00eddo interno, como se tivesse algo batendo, que s\\u00f3 parou depois de mudar ele de posi\\u00e7\\u00e3o.\",1],[\"Maravilhoso. Se voc\\u00ea deseja um computador pra editar v\\u00eddeo, jogos, etc. Nada pesado, que exige o M\\u00c1XIMO DO M\\u00c1XIMO do seu PC, ele \\u00e9 super ideal, jogo normalmente, edito videos normalmente. Navego muito bem nos navegadores, parece que minha velocidade de internet \\u00e9 maior do que contratei por causa do hardware desse equipamento. Recomendo. Muito bom.\",5],[\"gostei do produto. bom, b\\u00e1sico, mas de excelente funcionamento, recomendo.\",3],[\"excelente. \\u00f3timo,minha sobrinha adorou!!!!! instalei v\\u00e1rios joguinhos e deu tudo certo!!!!!\",5],[\"Inicializa\\u00e7\\u00e3o r\\u00e1pida.. O que mais me surpreendeu foi a rapidez da inicializa\\u00e7\\u00e3o do Windows. Inicialmente o navegador n\\u00e3o queria acessar todos os sites, mas em uma liga\\u00e7\\u00e3o para o suporte t\\u00e9cnico da Lenovo (excelente atendimento)  e um procedimento orientado por eles, o problema foi resolvido.\",4],[\"OTIMO NOTA 10. ALGUEM SABE SE ELE RODA CS:GO SEM LAGS OU TRAVAMENTOS PORQUE TOU EM DUVIDAS SE COMPRO ELE PARA CS:GO\",5],[\"Muito bom. Pre\\u00e7o bom para as configura\\u00e7\\u00f5es (I7 com placa off board ge-force).\",4],[\"Produto com defeito. Produto chegou com defeito, n\\u00e3o ligava, fiz o contato com a loja e devolvi no dia seguinte.....nao recomendo a ningu\\u00e9m..\",1],[\"Satisfeito. Tudo como no anunciado. Super recomendo. Chegou r\\u00e1pido. Aparelho atualizado com android 7. Gostei muito\",3],[\"Muito satisfeita!. Notebook, com design bem fino, leve e atende as minhas expectativas.E o melhor, chegou antes do prazo previsto.\",5],[\"Linux. T\\u00e1 \\u00e9 louco.. A empresa monta uma m\\u00e1quina dessa, com umas configura\\u00e7\\u00f5es at\\u00e9 interessantes e empurra um Linux. PQP fala s\\u00e9rio. Se voc\\u00ea formata e coloca um Windows perde a garantia.\",3],[\"Recomendo. O produto \\u00e9 muito bom e a entrega foi super r\\u00e1pida.\",5],[\"Recomendo, produto excelente atendeu totalmente minhas necessidades. \\u00d3timo custo beneficio , excelente qualidade,compto ideal para levar a qualquer lugar, dura\\u00e7\\u00e3o da bateria excelente...\",5],[\"Dell gaming. Produto muito bom, mas o teclado apresenta instabilidade.\",4],[\"Notebook Asus. Esperava mas pela configura\\u00e7\\u00e3o apresentada, infelizmente estou decepcionado, assim sendo n\\u00e3o recomendado aqueles que buscam velocidade na resposta\",3],[\"Avalida\\u00e7\\u00e3o de compra. O produto \\u00e9 \\u00f3timo, porem a transportado direct deixa a desejar. Entregou o produto com 3 dias de atraso e n\\u00e3o deu nenhuma justificativa, inclusive a Americanas.\",4],[\"Recomendo. muito bom ... a tela \\u00e9 bem grande, o unico problema \\u00e9 que a capinha e tela de prote\\u00e7\\u00e3o s\\u00f3 achei pela internet ..\",4],[\"Entrega r\\u00e1pida e notebook de qualidade. A entrega foi r\\u00e1pida, foi por Sedex, mas ainda prefiro pela transportadora Direct, mas chegou direitinho e r\\u00e1pido, o notebook \\u00e9 muito bom, est\\u00e1 funcionando perfeitamente at\\u00e9 agora, gostei bastante, Samsung \\u00e9 uma \\u00f3tima marca.\",5],[\"Eu gostei e compraria novamente.. Eu comprei esse notebook, ap\\u00f3s v\\u00e1rias decep\\u00e7\\u00e3o com a lenovo, notebook caro e defeito que n\\u00e3o foram reparados, tamb\\u00e9m tive decep\\u00e7\\u00e3o com a samsung. Ent\\u00e3o,   pelo excelente pre\\u00e7o do notebook positivo e como ele ser\\u00e1 usado somente para acesso \\u00e0 Internet e impress\\u00e3o, achei custo beneficio. Chegou perfeito, at\\u00e9 o momento n\\u00e3o tenho problemas. S\\u00f3 estou tendo um cuidado redobrado, pois ele \\u00e9 bem sens\\u00edvel, fr\\u00e1gil, ent\\u00e3o, utilizo e guardo na caixa com muito cuidado. Eu compraria outro desse, se necess\\u00e1rio, cansei de comprar notebook car\\u00edssimo e s\\u00f3 decep\\u00e7\\u00e3o.\",5],[\"Bom!. Produto atende as expectativas!  Por\\u00e9m a fonte de alimenta\\u00e7\\u00e3o veio em padr\\u00e3o europeu e isso n\\u00e3o foi mencionado no an\\u00fancio.  O produto tamb\\u00e9m \\u00e9 importado e n\\u00e3o nacional.\",3],[\"Super satisfeita. Produto excelente, entrega r\\u00e1pida, super recomendo\",5],[\"Gostei e muito bom. Entrega e boa chega antes do dia combinado parabens para essa loja nota dez\",3],[\"muito bom. recebi no prazo veio bem embalado o notebook e bom  eu comprei pra trabalhar com vendas na internet e esta me respondendo a altura recomendo\",3],[\"Excelente investimento. Notebook Top... Excelente compra...entrega super r\\u00e1pida (antes do prazo at\\u00e9) com certeza recomendo tanto a Dell qto \\u00e0 Americanas...\",5],[\"Satisfeito. Estou satisfeito com o produto adquirido. Recomendo.\",4],[\"\\u00f2timo. melhor q o tab E, mais fino, menos robusto, mais r\\u00e1pido.\",5],[\"Capa. S\\u00f3 n\\u00e3o protege as pontas do Apad. Recomendaria com esta ressalva.\",3],[\"Bom custo-benef\\u00edcio. Boa performance, boa capacidade, bom custo-benef\\u00edcio.\",3],[\"Boa referencia. O produto  \\u00e9 bom. Recomendo aos usu\\u00e1rios por apresentar um bom  desempenho.\",4],[\"Odiei o produto. Note Booker deu problema no segundo dia de uso. Fiz a devolu\\u00e7\\u00e3o.\",1],[\"melhor do que o esperado. \\u00e9 um note muito bom , vale a pena compra lo ..o processador \\u00e9 excelente\",5],[\"\\u00f3timo custo beneficio. Leve e fino por um pre\\u00e7o acessivel, peguei no pre\\u00e7o de black friday ent\\u00e3o foi um \\u00f3timo custo beneficio, estou usando a um m\\u00eas, ele \\u00e9 perfeito para meus estudos e trabalhos.O sistema \\u00e9 o Openmandriva e qualquer um com um pouco de paciencia e coragem aprende a usar em um m\\u00eas, mas se a diferen\\u00e7a de pre\\u00e7o desse pra vers\\u00e3o com i3 for de menos de 300 reais acho melhor o positivo com i3\",5],[\"Uauu!!!. Vendi minha casa e um Rim e um c\\u00f3rnea no mercado negro, mas agora o Minicraft rosa fil\\u00e9....\",5],[\"Notebook n\\u00e3o foi feito para upgrades. \\u00c9 uma boa m\\u00e1quina, mas por seu hardware e configura\\u00e7\\u00e3o deveria ser bem mais r\\u00e1pido. Provavelmente o windows 10 tamb\\u00e9m \\u00e9 lento e pesado com suas in\\u00fameras configura\\u00e7\\u00f5es gr\\u00e1ficas in\\u00fateis. Mas o notebook \\u00e9 lento e, pesquisando nos f\\u00f3runs, a baia para o drive \\u00f3tico do cd\\u002fdvd n\\u00e3o \\u00e9 preparada para receber um HD SSD, que daria muito mais velocidade ao conjunto. S\\u00f3 \\u00e9 poss\\u00edvel faz\\u00ea-lo por meio de adapta\\u00e7\\u00e3o (\\\"gambiarra\\\"). O aparelho \\u00e9 robusto. A bateria tem curta dura\\u00e7\\u00e3o. A tela, que \\u00e9 full HD e tem uma placa gr\\u00e1fica \\u00e0 parte, mas deixou a desejar, pois trabalho com fotografias e gostaria de ter algo mais vibrante.\",3],[\"Muito bom. Comprei para presentear um amigo ele adorou disse qu\\u00ea foi o melhor e mais \\u00fatil presente na sua vida e ele usa para trabalhar\",4],[\"Gostei muito do meu note!. A mercadoria chegou no prazo e em \\u00f3timo estado.Ele atende as minhas necessidades.\",5],[\"mto bom. produto muito bom,atendeu minhas expectativas! cheguei antes do esperado\",4],[\"Massa. Bacana demais bla bla bla  bla bla bla bla bla bla bla bla bla\",5],[\"Baixa qualidade da imagem. N\\u00e3o imaginei que a resolu\\u00e7\\u00e3o da imagem na tela fosse t\\u00e3o ruim.\",2],[\"Excelente produto e \\u00f3timo pre\\u00e7o. Acredito que fiz uma \\u00f3tima compra ao escolher o Notebook Samsung Expert22 nas lojas Americanas, pois al\\u00e9m de uma excelente configura\\u00e7\\u00e3o, designer, pre\\u00e7o, tive acesso a todas as etapas do processo de entrega e chegou antes do prazo estimado.\",5],[\"n\\u00e3o atendeu expectativa. produto n\\u00e3o atendeu expectativa..pois sistema operacional diferente da usual da nossa realidade. por\\u00e9m j\\u00e1 solicitaram troca\",1],[\"Excelente. Produtos da Dell n\\u00e3o tem compara\\u00e7\\u00e3o. Muito bom mesmo.\",5],[\"Top. Top top   gostei do produto......................  \\u00d3tima performance\",5],[\"Gostei muito do produto!. Produto atendeu minhas expectativas e a entrega foi muito r\\u00e1pida, recebi bem antes do prazo previsto.\",4],[\"Satisfeito mais uma vez. Este  \\u00e9 o quarto produto que adquiri da marca. Todos foram satisfat\\u00f3rios. Este ultimo  adquiri para substituir um I5 da Lenovo que desisti de usar por t\\u00e3o lerdo. Este I3 da Asus funciona mais flu\\u00eddo, sem os travamentos constantes do Lenovo. Al\\u00e9m disto, foi bem mais barato, e ainda veio com leitor de CD \\u002f DVD, ausente no da outra marca.\",4],[\"MUITO BOM!!!!!!. Nao vi defeito ate agr ja tenho ele 1 semana e te agr nao deu problema e vem super protegido em duas caixas etc (nesse momento eu estou usando ele..) muito bom viuuu\",5],[\"Muito Barato. Pre\\u00e7o incr\\u00edvel, s\\u00f3 vai me custar um Rins ,mas para que dois rins mesmo se posso usar s\\u00f3 um e ainda usufruir de uma maquina dessa com essa super placa de videio .\",5],[\"MELHOR QUE MINHAS EXPECTATIVAS. \\u00d3timo produto, recomendo muito.Realmente protege o Tablet , e tela , n\\u00e3o conhecia a canetinha ,tamb\\u00e9m \\u00e9 excelente .\",5],[\"\\u00d3tima escolha. Produto de primeira escolha, exatamente como esperava , tenho certeza que fiz \\u00d3tima compra.\",5],[\"Muito barato. Achei o pre\\u00e7o excelente, ent\\u00e3o eu comprei 3, pretendo ouvir musica e usar internet.\",4],[\"Amei o produto. O produto chegou no prazo estipulado e \\u00e9 muito f\\u00e1cil de manusear. Super recomendo.\",4],[\"\\u00d3timo produto.. \\u00d3timo produto, atendeu \\u00e0s minhas expectativas. Chegou bem antes do prazo. Estou muito satisfeita.\",4],[\"Mt ruim. Na segunda vez q tentei usar n\\u00e3o funcionou mais estou por uma semana tentando entra em contato com a Asus para obter a garantia \\u00e9 at\\u00e9 agora nada. Espero conseguir pelo menos mandar para assistente para poder usar.\",1],[\"Excelente custo x benef\\u00edcio. Excelente produto! Vale a pena o investimento! Conjunto muito equilibrado, desempenho bom para jogos n\\u00e3o muito pesados.\",5],[\"muito bom. 100 satisfeito com o note book, vale muito apena adquiri\",4],[\"Perfeito. Muito bom, excelente produto, bem embalado, chegou em perfeito estado, funcionando tudo certinho como deveria. Parabens recomendo bastante a compra deste produto\",5],[\"Eu recomendo. O aparelho tem um \\u00f3timo desempenho, \\u00e9 r\\u00e1pido n\\u00e3o trava, eu recomendo podem comprar sem d\\u00favida !!!\",4],[\"Notebook Dell. Produto de excelente qualidade, aconselho para quem deseja um notebook r\\u00e1pido e est\\u00e1vel.\",5],[\"Adorei o produto!. A compra foi r\\u00e1pida e f\\u00e1cil. O produto chegou antes da data prevista e em perfeito estado. O produto \\u00e9 excelente!!!\",5],[\"P\\u00c9SSIMO!!!!. A entrega e o antedimento do Lojas Americanas foi excelente, produto chegou antes do prazo, por\\u00e9m o produto \\u00e9 p\\u00e9ssimo, n\\u00e3o baixei nada at\\u00e9 o momento e nem desenho do Youtube n\\u00e3o roda.... a tela \\u00e9 escura horr\\u00edvel de visualizar nunca fiquei t\\u00e3o insatisfeita com uma compra como essa, mandei um e-mail para a Multilaser me responderam pra entrar em contato com um 0800 q n\\u00e3o d\\u00e1 certo!!!!!! SSUUUPEERRRRRR DESCONTENTE\",1],[\"\\u00d3timo custo benef\\u00edcio. \\u00d3timo produto, com custo bom. Valeu a pena comprar.\",4],[\"Notebook. Ola, bom dia!  Recebido corretamente. Muito obrigada!\",4],[\"Produto excelente. O produto \\u00e9 \\u00f3timo, chegou intacto e muito antes do prazo combinado.\",5],[\"Gostei muito.. Comprei para minha filha, produto bom, bastante vers\\u00e1til.\",4],[\"O Produto n\\u00e3o chegou!!!. N\\u00e3o posso avaliar o produto, pois o mesmo n\\u00e3o me foi entregue!!!\",1],[\"O produto \\u00e9 muito bom. Produto muito bom e foi presente para o meu afilhado.\",5],[\"Produto bom. O tablet \\u00e9 \\u00f3timo.N\\u00e3o trava. Agora quanto a entrega, atrasou um dia. Reclamei pq n\\u00e3o cumpriram o prazo, o rapaz f\\u00e3 transportadora disse que n\\u00e3o tem acesso ao sistema.\",4],[\"Atendeu minhas expectativas. Queria um computador para tarefas de rotina e que me proporcionasse qualidade de v\\u00eddeo para s\\u00e9ries e filmes. Este notebook tem me atendido neste sentido.\",4],[\"excelente notebook. otimo notebook , configura\\u00e7\\u00e3o excelente , acabamento premium muito sofisticado... velocidade inigual\\u00e1vel dentre os  pcs que j\\u00e1 tive. Entrega na americanas foi super r\\u00e1pida . RECOMENDO\",5],[\"tablet horrivel. Sem condi\\u00e7\\u00f5es de uso N\\u00e3o abre nada Nem tem como instalar nada S\\u00f3 o software para o funcionamento do aparelho j\\u00e1 trava arrependimento total\",1],[\"Perfeito!!!. Produto muito bom, perfeito mesmo, entrega r\\u00e1pida, produto melhor do que eu esperava.\",5],[\"Corresponde exatamente a divulga\\u00e7\\u00e3o do produto. \\u00d3tima qualidade de constru\\u00e7\\u00e3o. N\\u00e3o \\u00e9 pesado pra um computador de 15.6. Som excelente. Os por\\u00e9ns s\\u00e3o q a porta vga nao entra at\\u00e9 o fim (mas funciona), a interroga\\u00e7\\u00e3o no teclado fica num lugar estranho (tem q usar alt gr) e tem hora q parece q o windows 10 \\u00e9 meio pesado\",5],[\"A  empresa esta de parab\\u00e9ns pela agilidade da entrega,produto mto ruim. A  empresa esta de parab\\u00e9ns pela agilidade da entrega,mais o produto n\\u00e3o presta seria mais interessante juntar mais um pouco de grana e comprar outro produto para lhe atender pois esse e dinheiro jogado fora,leiam o que escrevo pois me arrependi.\",1],[\"Que som \\u00e9 esse!. Amei a entrega, melhorou bastante! Quanto ao produto tenho levado alguns susto, est\\u00e1 travando um pouco, uma vez desligou sozinho, mas acredito que n\\u00e3o deve ser nada demais. Amei o som, a qualidade da imagem, bem legal.\",3],[\"N\\u00e3o recomendo pagar entrega R\\u00e1pida. Meu notebook veio um pouco aberto perto do Touch pad, mas coisa de 1 mil\\u00edmetro. Em rela\\u00e7\\u00e3o a entrega, P\\u00c9SSIMO!. Quem for comprar remendo usar a entrega normal mesmo, pois a \\\"R\\u00e1pida\\\" Faz seu aparelho viajar o Brasil todo e demora na mesma. Sem contar que foi 80 reais mais caro.\",2],[\"PRODUTO BASICO. MUITO LENTO,S\\u00d3 RECOMENDO SE FOR PARA O B\\u00c1SICO.CASO CONTRARIO \\u00c9 MELHOR OPTAR POR OUTRO\",2],[\"O protudo \\u00e9 otimo. Ele \\u00e9 um produto excelente,super leve e sem falar que \\u00e9 dujeito que eu imaginei.E a entrega foi super rapida.\",5],[\"muito bom. a entrega foi r\\u00e1pida, o produto \\u00e9 excelente e o pre\\u00e7o foi cerca de 400 reais a menos em rela\\u00e7\\u00e3o ao mesmo produto em lojas f\\u00edsicas de outras empresas.\",5],[\"Boa qualidade f\\u00edsica. bom laptop para escrit\\u00f3rio apesar do Windows 10. Programas 3D leves como Sketchup rodam bem.  N\\u00e3o acompanha os jogos contempor\\u00e2neos.\",4],[\"Excelente. Acabamento, velocidade, comodidade, recomendo. N\\u00e3o deixa a desejar pra nenhuma m\\u00e1quina, gostei muito.\",5],[\"\\u00d2timo. Excelente produto e \\u00f3timo vendedor rapidez na entrega eu recomendo!!\",5],[\"Bom. Entrega r\\u00e1pida e sem problemas. Atendeu as expectativas\",5],[\"\\u00d3timo produto. Pesquisei por meses e consegui o melhor custo benef\\u00edcio do mercado.\",5],[\"n\\u00e3o pude avaliar pois nem consegui ligar.. Produto veio com defeito e n\\u00e3o acessa nada. Liguei pra assist\\u00eancia t\\u00e9cnica e n\\u00e3o foi poss\\u00edvel resolver pediram pra levar numa assist\\u00eancia na Barra Funda e n\\u00e3o era l\\u00e1 mas sim em Pinheiros. Muito  ruim.\",1],[\"bom. este produto comprei para outra pessoa por isso n\\u00e3o posso avaliar corretamente\",3],[\"Perfeito. Al\\u00e9m de chegar dentro do prazo o produto chegou em \\u00f3timo estado e \\u00e9 maravilhoso. Podem comprar sem medo algum!!!\",5],[\"P\\u00e9ssimo. Poucas existem palavras para definir uma coisa t\\u00e3o ruim, quanto mais quando falo de um notebook que compro para utiliza-lo em locais com pouco ou nenhum fornecimento de energia el\\u00e9trica, pois a bateria \\u00e9 um lixo n\\u00e3o suporta um segundo se desconectado da tomada.\",2],[\"P\\u00e9ssima qualidade. Produto com imagem de p\\u00e9ssima qualidade, mas o pior que a conex\\u00e3o com a internet n\\u00e3o presta, Wi Fi desconecta toda hora e n\\u00e3o \\u00e9 problema com a rede pois tenho outros aparelhos e funcionam perfeitamente.\",1],[\"Dell, esse no,e diz tudo.. M\\u00e1quina boa, design bonito, teclado macio. Bom custo beneficio. \\u00c0s vezes pensa demais, poderia ser mais r\\u00e1pido e mais leve. Recomendo pela configura\\u00e7\\u00e3o equilibrada.\",4],[\"Travou duas vezes. Escolhi esta marca e modelo depois de muita pesquisa, queria um notebook razoavelmente r\\u00e1pido e com pre\\u00e7o pr\\u00f3ximo de 2000,00. Realmente o notebook atendente minhas necessidades, por\\u00e9m estou chateado porque j\\u00e1 travou duas vezes, isso aconteceu depois de bloquear a tela por deixar alguns minutos ligado sem usar. Ainda estou testando para ver se acontece novamente.\",3],[\"Produto trava e desliga sozinho. Sem coment\\u00e1rios, n\\u00e3o quero falar mais nada , o produto est\\u00e1 servindo , mas depois da falta de respeito que a loja teve nada tem atrativo\",2],[\"\\u00f3timo produto. Boa configura\\u00e7\\u00e3o, entrega antes do prazo. Recomendo!\",5],[\"Muito bom.. Chegou antes da data prevista, muito bem embalado, funciona perfeitamente.\",5],[\"Excelente produto. Produto de qualidade, leve, maus pad que se assemelha ao Apple e mem\\u00f3ria SSD que faz a diferen\\u00e7a. Tela touch muito boa de usar e bateria que dia mais. Recomendo.\",5],[\"Recomendo. Recebi na data coreta gostem muitos  Recomendo sim Nota 10\",5],[\"N\\u00e3o gostei, produto n\\u00e3o segura bateria. S\\u00f3 funciona conectado na tomada, maior dor de cabe\\u00e7a s\\u00f3 em entrar em contato com a loja e a assist\\u00eancia s\\u00f3 pra trocar. Odiei\",2],[\"Excelente dimais. Amei o produto chegou bem antes do prazo excelente loja.\",5],[\"MUITO BOM O NOTEBOOK SAMSUNG !. FIQUEI BASTANTE SATISFEITA COM O PRODUTO QUE COMPREI. A ENTREGA FOI  R\\u00c1PIDA .\",4],[\"Bom, por\\u00e9m trava muito. Notebook chegou em perfeito estado, por\\u00e9m travava muito e n\\u00e3o conseguia usar, demorou 1 dia inteiro para resetar as configura\\u00e7\\u00f5es, muito lento. Voltou ao normal,por\\u00e9m ainda proporciona leves travamentos\",3],[\"N\\u00e3o recebi o produto!. N\\u00e3o posso avaliar que n\\u00e3o recebi! Infelizmente ocorre uma demora para o envio do produto, no mesmo pedido comprei um teclado que j\\u00e1 recebi, por\\u00e9m, o tablet que \\u00e9 um presente de natal para minha filha n\\u00e3o veio. Entrei em contato com a empresa que entrega h\\u00e1 uns 20 dias, e a mesma informou que adiantaria a entrega, por\\u00e9m, o status do pedido continua o mesmo, que \\u00e9 apenas de emiss\\u00e3o de nota fiscal. Lament\\u00e1vel!\",1],[\"Gostei muito!. Um \\u00f3timo custo-benef\\u00edcio. A Bateria dura bastante, tem uma excelente resposta ao abrir os programas e inicializa muito r\\u00e1pido.\",4],[\"Amei o produto, estou super satisfeita !!!. Tablet \\u00f3timo, tem um bom funcionamento e al\\u00e9m de tudo e lindo e completo.\",5],[\"\\u00d3timo Notebook. Muito bom, excelente configura\\u00e7\\u00e3o por um pre\\u00e7o bom.\",5],[\"P\\u00e9ssimo. N\\u00e3o comprem esse produto \\u00e9 uma porcaria. A bateria estraga em menos de um ano.\",1],[\"Tablet de excelente qualidade!!!. \\u00d3timo produto, correspondeu as expectativas e o melhor, chegou antes do prazo! Recomendo!\",5],[\"Mto bom. Excelente oportunidade Equipamento que atendeu minha necessidade\",4],[\"\\u00d3timo produto.. Recomendaria sem problemas, \\u00f3timo produto. Entrega  adiantada. Parab\\u00e9ns!\",5],[\"Gostei!. Falta um suporte na regi\\u00e3o. O atendimento por telefone deixa muito a desejar.\",4],[\"Muito bom o notebook da Samsung. Muito bom custo e benef\\u00edcio.mas estou testando ainda mas pelo que percebi \\u00e9 muito bom. A loja entregou bem r\\u00e1pido, s\\u00f3 falta entregar um outro produto que comprei no mesmo dia e at\\u00e9 agora n\\u00e3o entregaram.\",4],[\"Produto mais que as especifica\\u00e7\\u00f5es.. Uma capa para um tablet 9\\\"7, e sobrou uns 5 mil\\u00edmetros de cada lado.\",1],[\"Eu recomendo. Muito bom eu recomendo a tds, chegou muito r\\u00e1pido !!!\",5],[\"Qual a marca do PC?. N\\u00e3o tenho opini\\u00e3o a respeito desse produto no momento pois ainda n\\u00e3o possuo, queria saber a marca dele primeiro.\",3],[\"N\\u00e3o recebi o meu tablet. Comprei mas n\\u00e3o recebi at\\u00e9 hoje agir\\u00e1 a americana  tem que provar que eu recebi\",1],[\"Bom produto. O notebook cumpre o que promete, o \\u00fanico problema que os compradores devem ficar atentos \\u00e9 que nele a vers\\u00e3o do Office j\\u00e1 instalada \\u00e9 a 2016 e voc\\u00ea ter\\u00e1 que assinar uma conta para poder acess\\u00e1-la j\\u00e1 que o teste dura poucos dias, e al\\u00e9m do mais o notebook n\\u00e3o possui entrada para cd, vale ressaltar tamb\\u00e9m que ele n\\u00e3o possui entrada para adaptador de sd card.\",4],[\"Gostei. O \\u00fanico ponto fraco \\u00e9 a bateria que n\\u00e3o dura muito, principalmente quando utilizo programas mais pesados. Gostei do desempenho. \\u00c9 r\\u00e1pido. Consegui rodar todos programas e jogos que testei at\\u00e9 agora. Todos em configura\\u00e7\\u00f5es entre m\\u00e9dio e m\\u00e1ximo.\",4],[\"Gostei!. Boa qualidade do produto! Recomendaria esse produto para demais!\",3],[\"Bom conforme acima. Gostei do aparelho, por\\u00e9m apresenta ind\\u00edcios de uso. Nos furos dos parafusos na tampa traseira h\\u00e1 ind\\u00edcios ou marcas de manuten\\u00e7\\u00e3o. D\\u00e1 a impress\\u00e3o que j\\u00e1 foi aberto,\",3],[\"Excelente Produto. O notebook atende totalmente \\u00e0s minhas necessidades. Gostei muito e recomendo.\",5],[\"Tablet Samsung Galaxy TAB A. Equipamento muito bom, atende perfeitamente as minhas necessidades e recomendo o produto.\",4],[\"EXCELENTE. Realizei a compra e dentro de 12 dias j\\u00e1 obtive o produto em excelentes condi\\u00e7\\u00f5es. Super indico.\",5],[\"P\\u00e9ssimo. Muito ruim mesmo. Trava toda hora, nao aceita apps simples, tipo youtube kids, e a tela tem resolu\\u00e7ao tao baixa q quase nao se enxerga. Nao recomendo p ninguem.\",1],[\"\\u00d3timo notebook!. Excelente produto para necessidades de trabalho e uso pessoal. In\\u00edcio estranhei o teclado, mas j\\u00e1 acostumei.\",4],[\"\\u00d3timo custo beneficio, mas.... muito bom notebook pelo pre\\u00e7o e oque entrega, s\\u00f3 tem um detalhe o hd faz muito barulho so pesquisar ai no youtube ideapad 320 faz um barulinho chato.\",4],[\"notebook acer. Excelente produto,entrega chegou no prazo correto,\",5],[\"\\u00d3timo custo-benef\\u00edcio!. Vir com  distro do linux faz o pre\\u00e7o cair, e \\u00e9 s\\u00f3 formatar e por windows.\",4],[\"Amazing. Fantastic this laptop, I would like to buy several of this...\",5],[\"Otimo. Muito bom atende bem as expectativas e as necessidades do universit\\u00e1rio\",5],[\"Equipamento ruim. Tenho dois Notebook Dell Inspiron i5, ambos apresentaram problemas. Um deles n\\u00e3o funciona mais o teclado e nem o som. O outro apresentou problema na placa m\\u00e3e  e a assist\\u00eancia da DELL  cobrou R$ 1.200,00 (isso mesmo) para  fazer o reparo e vc. s\\u00f3 encontra a placa na  Dell. Ou seja, n\\u00e3o compensa consertar.\",1],[\"Capa Kindle. A \\u00fanica ressalva que eu faria, \\u00e9 que n\\u00e3o d\\u00e1 pra deixar o kindlle pocisionado na mesa na vertical, a dobradura s\\u00f3 possibilita na horizontal. De resto, gostei da caneta que acompanha a capa e tamb\\u00e9m da pel\\u00edcula.\",3],[\"Legal o produto. Mas a tabela de fps que ele alcan\\u00e7a \\u00e9 meio mentirosa.\",3],[\"EXCELENTE. Tablet Samsung Galaxy Tab A SM-P585M 16GB Wi-Fi 4G Tela 10.1\\\" Android Processador Octa-Core - Preto, MUITO BOM, DA COMPRA, DA ENTREGA E DA QUALIDADE DO PRODUTO.\",5],[\"EXCELENTE. Cumpre o que promete. Notebook fant\\u00e1stico. Melhor custo benef\\u00edcio.\",5],[\"Bom. O produto \\u00e9 bom, compat\\u00edvel com minhas necessidades.\",3],[\"Excelente. Comprei a pouco tempo entrega super r\\u00e1pida , e produto me parece ser muito bom\",5],[\"Pequeno e r\\u00e1pido. Tablet bastante funcional e r\\u00e1pido. Qualidade de imagem \\u00f3tima e permite assistir v\\u00eddeo com grande conforto.\",4],[\"Muito ruim esta m\\u00e1quina. Existe a possibilidade de comprar uma m\\u00e1quina e eventualmente ela dar problema, ocorre que comprei duas e elas est\\u00e3o em constante problema e iguais. Para ligar, vc pode primeiro liga, depois vai tomar banho tomar seu caf\\u00e9 da manha e ai sim ela ter\\u00e1 ligado. Quando liga o monitor pisca feito falta de energia. tente conectar em seu televisor, imposs\\u00edvel, a TV sansung n\\u00e3o consegue espelhar a m\\u00e1quina, n\\u00e3o consegui resolver isto. Por vezes elas apresentam apag\\u00e3o e diz que foi desligada incorretamente, Gente, foram as minhas primeiras compras de um Dell, e esta semana tive de adquirir mais dois para a empresa e n\\u00e3o tive na Dell minha op\\u00e7\\u00e3o.  Um computador I7 de 7a. gera\\u00e7\\u00e3o, \\u00e9 brincadeira de ruim. Cada um na sua, mas sugiro outra op\\u00e7\\u00e3o.\",1],[\"O QUE EU ESPERAVA. R\\u00e1pido, bateria de longa dura\\u00e7\\u00e3o, e tudo mais nota 10\",5],[\"recomendo. Notebook lindo, leve, r\\u00e1pido, qualidade imagem excelente. Foi indica\\u00e7\\u00e3o e estou amando o produto.\",4],[\"DEFEITO NO PRIMEIRO USO. Meu notebook chegou dentro do prazo. Dia 18\\u002f01 no final da tarde. Fui utiliza-lo no dia 20\\u002f01 para fazer um trabalho, no paint mesmo.  Quando eu estava quase terminando, simplesmente o notebook desligou e eu perdi tudo que havia feito. Alem do que ele trava! Solicitei devolu\\u00e7\\u00e3o  e aguardo o reembolso.\",1],[\"Site mentiroso. Vcs mostram um pre\\u00e7o no site, a\\u00ed quando n\\u00f3s entramos no mesmo, sempre \\u00e9 mas caro.. ou \\u00e9 ou n\\u00e3o \\u00e9... frauuuuuuude\",1],[\"gostei. Entrega no prazo esperado. \\u00d3timo notebook. Sem problemas. Por enquanto estou gostando muito. Estou a 1 m\\u00eas com ele.\",4],[\"Produto bem fraco diante do valor!. \\u00c9 um cabo similar, portanto quem conhece sabe que n\\u00e3o dura muito tempo. Compensa somente por ter 1 ano de garantia.\",2],[\"atende as expectativas. o unico defeito dele, foi a positivo ter bloqueado a bios para que vc n possa alterar o sistema facilmente, fora isso tudo funciona de acordo com o esperado\",3],[\"Regular custo-benef\\u00edcio. O tablet \\u00e9 razo\\u00e1vel pela pre\\u00e7o cobrado, lembrando que ele se destina a quem ir\\u00e1 fazer opera\\u00e7\\u00f5es b\\u00e1sicas. Quem deseja um tablet para filmes ou jogos mais pesados, sugiro olhar outras op\\u00e7\\u00f5es, pois a tela e processador deste, n\\u00e3o suporta de forma satisfat\\u00f3ria essas opera\\u00e7\\u00f5es. Vale lembrar que tamb\\u00e9m \\u00e9 um tablet antigo, com quase dois anos do lan\\u00e7amento, em que, se tratando de Samsung, n\\u00e3o receber\\u00e1 mais as atualiza\\u00e7\\u00f5es de sistema. No meu caso, comprei o tablet para ser usado por uma crian\\u00e7a de 4 anos.\",2],[\"Tablet Samsung Tab A T280. Vers\\u00e3o do Android antiga. N\\u00e3o suporta alguns aplicativos. N\\u00e3o sei se \\u00e9 poss\\u00edvel atualizar para Android 6.\",2],[\"Bom protduto. Moderno e eficiente. Possui vers\\u00e3o atualizada do firmware. Compat\\u00edvel \\u00e0s minhas necessidades.\",4],[\"N\\u00e3o funciona. Muito Ruim, ele deu problema no mesmo dia realmente fiquei decepcionada com esse produto\",1],[\"S\\u00f3 faltou o leitor de cd\\u002fdvd. \\u00d3timos produtos, bom acabamento, por\\u00e9m faltou o leitor de cd\\u002fdvd\",4],[\"Custo e benef\\u00edcio. Excelente. Recomendo. Potente e r\\u00e1pido e f\\u00e1cil manuseio.\",4],[\"Excelente. PROduto maravilhoso, leve, pratico, bonito, e configura\\u00e7\\u00e3o excelente. Recomendo demais!!!\",5],[\"produto funcional. comprei para usar num sangumg 9,6', infelizmente o encaixe \\u00e9 muito maior, mas tirando isso o teclado corresponde as expectativas.\",3],[\"Bom custo benef\\u00edcio. Apesar de n\\u00e3o usar muito o aparelho, ele atende todas as minhas necessidades. Design bonito, a bateria poderia durar mais, mas ta \\u00f3timo, pelo pre\\u00e7o est\\u00e1 de bom tamanho.\",4],[\"otimo. j\\u00e1 conhe\\u00e7o o equipamento, ent\\u00e3o sei da qualidade do produto\",5],[\"Tablet Samsung. Excelente equipamento. Vale a aquisi\\u00e7\\u00e3o. F\\u00e1cil intera\\u00e7\\u00e3o, r\\u00e1pido e funcional.\",4],[\"\\u00d3timo custo benef\\u00edcio. \\u00d3timo Notebook, e consegui comprar por um \\u00f3timo pre\\u00e7o. Valeu muito a pena.\",5],[\"DELL. O COMPUTADOR \\u00c9 EXCELENTE, O ATENDIMENTO DELL TAMB\\u00c9M, O SISTEMA LINUX QUE N\\u00c3O ATENDE MINHAS NECESSIDADES MAIS B\\u00c1SICAS, ASSIM TIVE QUE ALTERAR O SISTEMA.\",5],[\"Muito satisfeito. Estou muito satisfeito com este notebook. Atende \\u00e0s necessidades.\",5],[\"PRODUTO EXCELENTE!!!!. Tudo perfeito: compra, prazo de entrega, notebook de excelente qualidade. Indico.\",5],[\"Bom para o basico. Achei o produto leve, bonito e muito bom para a execu\\u00e7\\u00e3o de atividades b\\u00e1sicas, porem, a memoria \\u00e9 muito pequena, ent\\u00e3o n\\u00e3o recomendo para quem precisa de memoria. No entanto, \\u00e9 perfeitamente utiliz\\u00e1vel com um HD externo, cart\\u00e3o de memoria ou pen drive para salvar arquivos.\",3],[\"Vale  pena !!. Produto bom ! esta rodando o Windows 10 64 bits Tranquilo !\",4],[\"Bom produto na faixa do seu pre\\u00e7o!. Bom som, bonito esteticamente. \\u00danico ponto mediano \\u00e9 a sua bateria, mas \\u00e9 aceit\\u00e1vel, geralmente os notebooks n\\u00e3o possuem bateria com alta dura\\u00e7\\u00e3o. Mas encomendo e espero que esse que comprei para o meu irm\\u00e3o tenha um longo tempo de utiliza\\u00e7\\u00e3o.  Entrega sempre r\\u00e1pida da americanas.\",3],[\"\\u00f3timo produto. Produto conforme descri\\u00e7\\u00e3o no an\\u00fancio. Atende todas as expectativas. Recomendo!\",4],[\"Amei. O tablet \\u00e9 lindo e tem  um excelente desempenho, a bateria dura o dia todo. Muito bom mesmo. Parab\\u00e9ns americanas pela entrega super r\\u00e1pida.\",5],[\"ruim. meu amigo compro para joga fifa 18 e nao pego ! ele disse que travava nos treinamentos , foi um desperdicio !!!\",1],[\"Lento. Estou achando o computador muito lento para a qualidade esperada pelo nome da marca\",2],[\"\\u00d3timo produto. \\u00c9 muito bom, mas as vezes d\\u00e1 umas travadas que n\\u00e3o deveria pela qualidade do produto...\",4],[\"Funciona!!!. Comprei o adaptador para VGA h\\u00e1 um m\\u00eas e at\\u00e9 o momento o desempenho foi adequado. N\\u00e3o tive nenhum tipo de problema. E a entrega foi extremamente r\\u00e1pida. Recebi o produto em 2 dias. Muito satisfeita! Recomendo!\",4],[\"Notebook razo\\u00e1vel. O meu veio com o touchscreen com problema e depois, a tela trocada pela DELL, apresentou vazamento de backlight significativo e falhas no touch. Depois de duas semanas enviarem outra tela, agora o touch funciona, mas ainda h\\u00e1 um vazamento de backlight, deduzo que o processo de fabrica\\u00e7\\u00e3o e controle de qualidade deixam a desejar. Fora esse problema espec\\u00edfico, fica uma \\u00fanica cr\\u00edtica negativa ao produto: a placa de v\\u00eddeo ser compartilhada. Caso possu\\u00edsse uma placa dedicada, a coisa seria bem diferente.\",3]],\"hovertemplate\":\"TSNE1=%{x}\\u003cbr\\u003eTSNE2=%{y}\\u003cbr\\u003eavaliacao=%{customdata[0]}\\u003cbr\\u003erating=%{marker.color}\\u003cextra\\u003e\\u003c\\u002fextra\\u003e\",\"legendgroup\":\"\",\"marker\":{\"color\":[4,5,5,4,5,5,5,3,5,4,1,5,5,3,4,4,5,5,5,4,5,5,3,4,5,5,3,4,4,4,4,4,1,3,4,5,4,4,4,4,2,5,5,5,2,1,1,5,4,5,5,5,3,4,4,1,3,3,5,1,5,5,4,5,1,1,5,4,5,4,5,4,4,1,4,3,2,4,1,1,5,5,4,5,5,2,4,5,3,5,5,5,5,4,3,5,3,4,3,2,3,4,5,3,4,2,1,1,3,5,5,1,5,4,4,5,4,4,5,2,1,5,1,5,4,5,1,2,5,1,4,5,5,5,5,3,5,1,4,5,5,4,5,4,5,4,5,4,3,5,1,5,5,5,5,5,5,3,5,4,3,4,5,1,4,5,5,5,5,4,3,1,1,5,5,5,4,3,4,4,3,5,3,4,5,3,5,5,4,1,4,4,5,5,4,5,5,5,3,5,5,5,5,5,5,5,5,5,4,5,5,5,1,5,4,4,4,4,2,4,1,2,1,3,1,5,2,1,4,2,4,1,1,5,3,3,3,2,5,1,4,5,4,5,4,1,4,4,2,5,5,2,5,5,3,5,5,5,4,4,1,3,4,3,5,4,1,1,1,3,3,4,3,4,3,5,4,5,5,1,4,4,4,4,4,4,5,5,5,5,4,1,3,5,4,4,1,4,4,3,3,3,5,4,4,4,3,1,3,5,4,4,5,5,5,5,4,4,4,5,5,1,5,5,5,5,5,4,5,5,4,5,5,1,1,5,5,1,4,4,1,1,4,2,1,5,4,5,4,5,5,5,3,5,3,2,4,4,4,4,4,1,5,2,4,3,4,4,5,3,1,3,4,1,4,5,4,1,3,1,4,3,1,3,5,4,2,5,3,1,5,4,1,2,3,4,1,5,1,3,1,4,4,5,4,4,4,3,4,4,5,3,1,5,5,4,1,3,4,4,5,4,5,5,4,1,5,5,5,5,4,4,2,5,4,3,3,1,1,5,1,4,3,5,1,1,3,4,5,4,4,4,2,5,3,4,5,3,4,5,5,2,3,1,3,1,3,4,5,3,4,5,1,2,5,3,1,1,4,4,5,3,4,4,1,3,3,5,1,1,5,1,1,5,4,1,5,3,5,4,5,1,5,4,5,5,4,3,5,5,4,4,1,5,2,5,4,3,5,5,4,1,5,5,5,5,4,2,4,1,1,3,3,1,4,4,2,4,2,4,5,2,2,3,4,5,1,5,3,5,5,3,5,3,2,1,4,4,4,5,3,5,3,3,5,1,3,3,1,4,2,4,3,5,4,4,5,3,5,4,3,5,5,4,4,3,4,5,4,5,4,2,1,5,1,4,5,1,5,5,5,5,5,4,5,3,3,4,5,5,4,1,5,5,4,5,5,4,4,4,4,4,1,4,5,5,3,5,3,5,5,5,3,5,3,4,4,5,5,5,4,1,5,5,5,3,4,5,5,4,5,4,4,2,4,4,4,3,4,1,4,5,1,3,5,4,4,5,2,1,5,3,5,1,5,4,4,3,4,3,5,5,5,1,1,3,1,3,4,5,4,5,2,3,3,1,1,3,4,5,4,4,1,5,5,4,5,3,3,5,3,4,5,4,4,1,1,2,5,5,3,4,4,5,1,5,4,3,3,2,4,1,3,4,1,3,2,5,1,2,5,1,4,5,4,1,3,4,1,4,1,1,5,1,4,4,5,5,5,5,1,5,5,4,5,5,5,4,2,3,4,5,5,4,3,3,4,5,1,5,1,4,5,4,5,5,5,1,1,4,1,3,5,4,1,4,2,3,4,5,5,5,3,3,3,4,4,5,5,5,2,3,2,3,5,5,1,5,5,5,5,5,1,4,4,5,3,1,3,4,5,5,1,5,3,5,4,5,4,1,3,5,3,5,5,4,3,4,4,5,5,3,5,3,3,5,4,5,3,3,4,1,5,5,5,3,4,5,4,5,2,5,1,5,5,4,4,5,5,5,5,4,4,4,1,5,4,5,4,5,5,1,4,4,5,4,1,5,4,4,5,1,5,5,1,3,2,2,5,5,4,5,5,5,5,1,3,5,2,1,4,3,2,5,5,5,5,2,5,4,3,1,4,5,5,1,5,4,5,4,4,1,5,3,1,4,4,3,3,5,4,5,1,4,4,5,4,5,5,1,3,3,5,5,3,5,4,1,5,4,1,1,4,2,3,2,2,4,1,4,4,5,3,4,5,4,5,5,5,5,3,4,3,4,5,1,2,4,4,3],\"coloraxis\":\"coloraxis\",\"symbol\":\"circle\"},\"mode\":\"markers\",\"name\":\"\",\"orientation\":\"v\",\"showlegend\":false,\"x\":[-24.08670997619629,3.895761728286743,9.529738426208496,21.296222686767578,3.3831746578216553,-3.397573947906494,3.3779356479644775,-16.4884090423584,11.012125015258789,11.401466369628906,-11.303897857666016,4.594006061553955,-10.657196998596191,-29.26103973388672,-25.85895347595215,5.616515636444092,-10.812230110168457,20.092954635620117,12.346421241760254,16.600692749023438,0.6045268774032593,-8.654623985290527,-2.826183319091797,17.384408950805664,-24.852407455444336,7.839306354522705,-10.659147262573242,24.15291404724121,14.6743803024292,6.607677459716797,17.52849006652832,19.083751678466797,-13.090863227844238,3.1749825477600098,-9.965139389038086,-0.4639853537082672,-14.976988792419434,-8.77114200592041,-8.37802505493164,7.449409008026123,3.5056846141815186,-24.592422485351562,-15.514337539672852,-3.308701753616333,15.692091941833496,0.32867205142974854,0.5969173312187195,-8.922928810119629,15.712788581848145,7.032612323760986,-14.10273551940918,-17.631488800048828,-1.1929841041564941,-0.3862706422805786,6.115268230438232,-22.533767700195312,3.2256453037261963,7.04232120513916,-14.271653175354004,-10.643597602844238,11.13508129119873,3.408073902130127,-8.032073974609375,20.975309371948242,-5.550849437713623,-1.1267402172088623,2.9804444313049316,3.9259660243988037,9.035573959350586,12.979430198669434,1.5273652076721191,2.1158018112182617,-5.58113956451416,-12.94266128540039,3.017711639404297,-1.3306201696395874,20.227336883544922,14.055869102478027,-6.037417411804199,0.6147385239601135,1.6858066320419312,-16.24612045288086,0.4896468222141266,-6.567445755004883,-3.364790916442871,11.905939102172852,4.759201526641846,10.868382453918457,-9.881163597106934,9.893231391906738,-7.327617645263672,-25.183544158935547,-4.398273468017578,9.193615913391113,-27.121257781982422,4.373213768005371,-29.74139976501465,-2.8383710384368896,-5.2803802490234375,-4.890266418457031,0.3865351676940918,-18.66375732421875,-24.765033721923828,2.555525779724121,1.053874135017395,-6.510975360870361,-0.3840327858924866,11.625627517700195,-3.9351119995117188,-2.2314977645874023,6.848537445068359,-21.42612648010254,6.78029203414917,-25.927366256713867,10.304496765136719,13.915921211242676,-6.8827805519104,-16.4735164642334,26.606201171875,-15.721067428588867,-20.49662208557129,-14.135567665100098,-4.605811595916748,13.359772682189941,-10.428165435791016,-26.536128997802734,-13.14667797088623,-3.280593156814575,-3.3373429775238037,-11.204687118530273,-10.143421173095703,0.46122559905052185,3.72588849067688,6.355181694030762,-6.366395473480225,24.40442657470703,23.73468589782715,-19.005977630615234,8.786499977111816,-20.827964782714844,9.725666999816895,-27.288541793823242,-20.756147384643555,7.7817182540893555,-25.10445785522461,-4.01354455947876,9.774507522583008,-16.669408798217773,-11.395684242248535,-16.867090225219727,-11.552931785583496,-2.2457733154296875,14.688638687133789,-17.19365692138672,18.47365379333496,-0.7072766423225403,-11.633710861206055,14.64488410949707,-2.7348709106445312,10.869954109191895,-15.357930183410645,23.49058723449707,6.319825649261475,-16.27398109436035,-22.427520751953125,9.145586013793945,-7.494476318359375,5.060887336730957,11.734854698181152,11.275209426879883,-19.782949447631836,-16.67279815673828,-13.08847713470459,-5.415401458740234,-10.30118465423584,-3.205003499984741,-17.057613372802734,8.52624797821045,-10.44968318939209,-6.564212799072266,6.613440036773682,1.3619667291641235,16.47290802001953,6.393669128417969,7.578305244445801,18.788175582885742,4.540987968444824,15.999885559082031,24.34410858154297,-20.56385040283203,-15.281122207641602,15.18191146850586,9.102829933166504,-14.360429763793945,-12.488198280334473,-22.002599716186523,-11.55013370513916,3.884986639022827,10.795733451843262,23.640012741088867,23.640012741088867,23.640012741088867,23.640012741088867,23.640012741088867,23.34234046936035,23.640012741088867,23.640012741088867,23.640012741088867,23.640012741088867,23.640012741088867,24.34410858154297,9.694424629211426,-14.656618118286133,7.96684455871582,-9.116003036499023,-4.58932638168335,5.169485569000244,24.423534393310547,-14.499406814575195,-18.75600814819336,-15.503090858459473,27.415380477905273,-0.6752521395683289,-19.880290985107422,2.4816644191741943,13.341100692749023,-14.316394805908203,-3.0358588695526123,0.5919726490974426,22.563465118408203,9.161667823791504,-5.481386661529541,-7.203150749206543,17.026473999023438,-13.438724517822266,0.6019921898841858,11.028372764587402,9.308403968811035,6.374583721160889,-21.748437881469727,9.425468444824219,5.278021335601807,-22.814586639404297,-11.401433944702148,-23.275835037231445,-3.1419754028320312,-12.648741722106934,-15.591448783874512,-16.13852310180664,2.016083002090454,15.671302795410156,7.284339427947998,-24.171464920043945,-13.768996238708496,2.664945602416992,8.910595893859863,5.629175186157227,-7.622830390930176,2.519155263900757,8.301441192626953,-6.0969648361206055,21.215850830078125,-4.324526786804199,3.874176263809204,12.541254997253418,3.7394907474517822,-3.049955129623413,-0.12519605457782745,1.1079204082489014,4.279382705688477,15.942667961120605,8.568849563598633,6.306347846984863,16.943950653076172,-20.140962600708008,9.224736213684082,9.785639762878418,2.7855234146118164,-6.974139213562012,-14.71634578704834,0.12252181768417358,6.770610332489014,10.049312591552734,0.6241412162780762,1.3517234325408936,8.895599365234375,9.255146026611328,7.836716651916504,6.369082927703857,-16.956558227539062,-10.111713409423828,-18.517780303955078,-19.23128890991211,14.988967895507812,10.253129959106445,-26.794700622558594,-17.093812942504883,4.356923580169678,5.584507942199707,1.010286808013916,-5.982335090637207,9.642889976501465,8.178959846496582,-5.616620063781738,8.974329948425293,-5.792564868927002,9.019518852233887,24.054649353027344,4.470311164855957,-6.4260454177856445,-11.068323135375977,-5.808833122253418,-11.502623558044434,10.052586555480957,-27.7022705078125,12.923892974853516,-20.498075485229492,4.4431328773498535,-5.6514434814453125,-4.0245208740234375,23.92793846130371,-6.611401081085205,-27.246522903442383,-27.24652671813965,7.136271953582764,3.422894239425659,23.97443389892578,12.381561279296875,-13.034553527832031,11.46865463256836,25.957366943359375,14.411517143249512,8.240442276000977,-4.874016284942627,-16.390851974487305,-11.53049087524414,1.0924389362335205,-11.488358497619629,5.226541996002197,-28.970205307006836,-21.27733039855957,8.926206588745117,-0.1836445927619934,8.313785552978516,-13.769317626953125,10.26426887512207,11.74162483215332,25.112037658691406,-10.531553268432617,0.7498114109039307,8.798285484313965,14.307565689086914,22.453411102294922,5.67331075668335,7.850140571594238,-3.6664552688598633,-11.762398719787598,0.763568103313446,7.596957206726074,9.710816383361816,6.764012336730957,-6.098269939422607,-0.5613035559654236,-7.257627487182617,9.935946464538574,4.220848560333252,15.826374053955078,-0.7702490091323853,23.40816879272461,-8.174728393554688,2.1633474826812744,-14.238391876220703,10.169830322265625,23.860740661621094,8.944687843322754,-2.855086326599121,7.523523330688477,-12.922876358032227,-13.330397605895996,-10.663215637207031,-20.978252410888672,24.529876708984375,-1.322529911994934,-0.7675420045852661,16.55063247680664,-9.019719123840332,6.146643161773682,-11.611063957214355,22.675683975219727,-11.71225643157959,-14.495306968688965,5.1509809494018555,-6.9449462890625,-2.5398991107940674,17.32340431213379,9.380772590637207,-21.18085479736328,7.036258220672607,-17.605424880981445,-7.084208965301514,-17.86250114440918,-26.468151092529297,-11.397162437438965,-14.277153015136719,11.846384048461914,-2.243942975997925,14.493425369262695,-13.521099090576172,-7.560797691345215,-8.35462760925293,-1.046074390411377,-0.9313848614692688,-15.203128814697266,17.43354606628418,-4.928506374359131,23.692581176757812,1.6966928243637085,8.068044662475586,-24.6878662109375,11.226099967956543,8.633883476257324,0.4677300453186035,10.756185531616211,1.3157814741134644,5.494051933288574,-3.0144622325897217,-10.818636894226074,-14.763236045837402,-18.371557235717773,12.773981094360352,11.945860862731934,7.8181471824646,23.571212768554688,-3.8307223320007324,-23.41340446472168,-9.266343116760254,-2.61783504486084,1.9500224590301514,-1.9317625761032104,-14.369933128356934,-0.8439558744430542,-10.349305152893066,13.161930084228516,15.756693840026855,-17.215133666992188,-11.592432022094727,6.905992031097412,4.798910617828369,3.165501832962036,0.779266357421875,10.129875183105469,10.88825511932373,-15.57847785949707,5.910706520080566,24.695959091186523,-9.15908432006836,-1.7131527662277222,9.039374351501465,8.053147315979004,-25.125530242919922,-26.314281463623047,21.221363067626953,11.360370635986328,-8.079834938049316,-1.363812804222107,-7.036989212036133,-16.273723602294922,-14.49155044555664,2.3564629554748535,5.778299331665039,9.233963966369629,26.51980972290039,9.380661964416504,-12.557232856750488,5.458166599273682,8.568071365356445,-16.380550384521484,18.234039306640625,-15.88647174835205,-21.003223419189453,-0.5090311765670776,-17.918554306030273,-13.178901672363281,1.8279495239257812,-17.39139747619629,5.305683135986328,19.906566619873047,13.353128433227539,-14.905570983886719,0.15325747430324554,10.794225692749023,-3.834773540496826,25.54730224609375,-15.54967212677002,-12.859821319580078,-17.301549911499023,8.359463691711426,-0.9132750034332275,4.362489700317383,-14.993657112121582,8.198811531066895,6.3782758712768555,-0.1738259196281433,16.177492141723633,11.97169017791748,0.5029568672180176,3.6625044345855713,7.0418291091918945,6.3606438636779785,9.462289810180664,-11.051534652709961,7.876435279846191,20.629789352416992,0.20132002234458923,-18.690380096435547,14.5547456741333,-1.420843243598938,9.072946548461914,4.234334468841553,-16.976491928100586,9.157794952392578,-13.44598388671875,-14.803297996520996,-4.800751209259033,-24.37932777404785,7.3376617431640625,-13.898200035095215,-2.49450421333313,26.680309295654297,-16.150983810424805,2.5358972549438477,3.523926019668579,-13.58430290222168,-11.920571327209473,13.195024490356445,4.145129203796387,-1.5135470628738403,1.0165092945098877,15.884466171264648,5.901514530181885,-9.03884506225586,4.086268901824951,-0.03482784703373909,0.6520293354988098,19.073577880859375,-12.642372131347656,-4.225645542144775,4.019926071166992,-13.786149024963379,11.140911102294922,9.977646827697754,3.4913082122802734,-9.847601890563965,10.128825187683105,0.07174430787563324,2.770677089691162,0.44934749603271484,5.762279033660889,19.74295425415039,-4.223763465881348,7.38234281539917,-24.378934860229492,10.753066062927246,4.437268257141113,-7.544350624084473,-20.218616485595703,6.763961315155029,-6.658413410186768,20.156700134277344,0.33703160285949707,16.55622100830078,5.3093767166137695,19.569808959960938,10.510364532470703,17.79326820373535,-10.28442668914795,26.751440048217773,4.144744873046875,-26.219533920288086,-15.847947120666504,-10.97906494140625,10.242040634155273,-9.503826141357422,6.954349994659424,-14.035902976989746,0.9256575703620911,-14.220785140991211,10.457087516784668,-3.5545737743377686,-14.081075668334961,-7.00213623046875,8.4014310836792,-10.106499671936035,20.324460983276367,-8.116232872009277,-3.8835432529449463,4.578217029571533,-8.759627342224121,-13.540640830993652,26.87145233154297,8.343602180480957,-20.868982315063477,8.648150444030762,-12.943431854248047,-7.8354902267456055,5.2888383865356445,-6.83551025390625,11.891860008239746,2.3155691623687744,13.351499557495117,5.450651168823242,16.55950355529785,7.583345413208008,11.397905349731445,-11.928844451904297,9.821907997131348,-13.813443183898926,6.281132221221924,-21.83655548095703,16.698741912841797,2.5373799800872803,-1.2746130228042603,-11.61001968383789,27.618511199951172,11.854835510253906,-6.0369744300842285,-13.233808517456055,-12.277750968933105,7.296871662139893,-9.256062507629395,-1.8285642862319946,-5.027015686035156,4.827721118927002,3.4119484424591064,0.4165439307689667,3.0146031379699707,7.147897720336914,-18.048791885375977,5.333351135253906,0.5447155833244324,7.236905097961426,-12.896751403808594,-1.2736610174179077,-5.70933723449707,-16.82654571533203,5.731306076049805,-13.775721549987793,5.351040363311768,-8.215317726135254,13.190865516662598,6.60506534576416,1.0807087421417236,3.5841376781463623,-25.50899314880371,0.1745813935995102,-9.033010482788086,18.753013610839844,-12.060896873474121,-15.358457565307617,-2.102461814880371,-5.125449180603027,-15.34294319152832,-15.084321022033691,25.215158462524414,12.281560897827148,-21.711322784423828,-2.709519624710083,-11.799240112304688,6.5410003662109375,21.27720832824707,7.796579360961914,10.782470703125,7.996110916137695,-23.73615264892578,-0.4824432134628296,-12.698616981506348,18.2916202545166,-5.438319683074951,15.085260391235352,26.616853713989258,7.682897567749023,2.0403175354003906,7.6366119384765625,-9.420539855957031,-17.210220336914062,-2.0446391105651855,-14.389832496643066,0.9637863039970398,7.454875946044922,-13.651187896728516,10.199535369873047,-0.4469437897205353,-7.380060195922852,-19.66781997680664,16.422733306884766,-20.611610412597656,-2.2989742755889893,8.805310249328613,13.345309257507324,13.516956329345703,8.298985481262207,9.81624698638916,-14.752655982971191,5.790319919586182,16.621553421020508,-26.06035041809082,7.054065704345703,-14.729907035827637,-3.3617708683013916,16.247169494628906,-14.431621551513672,-27.49947166442871,16.854480743408203,6.519211769104004,5.225700855255127,-20.441110610961914,-14.905945777893066,21.458066940307617,-22.738706588745117,12.926359176635742,3.3404812812805176,-13.58420181274414,13.297500610351562,23.477872848510742,14.995121002197266,8.321661949157715,-14.672586441040039,-14.507288932800293,2.0133955478668213,-20.544572830200195,17.415279388427734,5.415511608123779,11.426183700561523,-28.940723419189453,-7.600203514099121,-25.360546112060547,-9.40654182434082,-7.7007856369018555,-13.199438095092773,3.1637861728668213,-18.921592712402344,-1.6178773641586304,5.563241958618164,28.015233993530273,-13.464920997619629,-5.642526626586914,5.777411460876465,-1.053511142730713,-16.191837310791016,1.771930456161499,22.680204391479492,21.127439498901367,-13.652449607849121,-3.0226352214813232,11.661559104919434,1.8801829814910889,25.113176345825195,8.258790969848633,-18.045150756835938,-11.707168579101562,25.781272888183594,5.473520278930664,-19.220874786376953,1.4278725385665894,-7.889363765716553,-14.21154499053955,5.816829681396484,-25.446870803833008,24.07668685913086,-8.303436279296875,9.525634765625,-1.4806222915649414,-18.330001831054688,6.214004993438721,7.368734836578369,2.8874173164367676,-18.77977180480957,-4.758284568786621,23.28721046447754,6.82841682434082,-4.880558013916016,2.4850590229034424,2.695727825164795,7.923329830169678,25.948698043823242,-26.05837631225586,-8.08768081665039,-5.173460006713867,-4.704307556152344,5.9115424156188965,-2.9602420330047607,12.439974784851074,-10.322090148925781,24.53391456604004,14.674985885620117,11.521768569946289,4.9755635261535645,24.98572540283203,-3.1374080181121826,17.459232330322266,-15.809460639953613,12.618553161621094,18.19293975830078,5.8713860511779785,25.440601348876953,-14.218729019165039,0.654524028301239,-12.19406795501709,17.31555938720703,-2.129394292831421,1.5034561157226562,4.429568767547607,6.497091770172119,-15.019455909729004,5.997809886932373,3.365921974182129,-16.838403701782227,-25.677980422973633,-0.3653818666934967,12.207281112670898,-13.14612102508545,7.177165508270264,0.8463422656059265,0.8810276389122009,-3.658946990966797,3.153404951095581,-20.498167037963867,-13.546430587768555,1.9682456254959106,9.556705474853516,3.0841667652130127,11.5255708694458,17.493709564208984,7.430178165435791,5.0279860496521,-26.075572967529297,3.1809158325195312,-0.22814755141735077,11.05164909362793,-13.901396751403809,13.963144302368164,8.474616050720215,1.8627331256866455,-9.182902336120605,6.799407958984375,17.279264450073242,-2.8578684329986572,-19.03230094909668,21.925840377807617,11.928927421569824,6.124263763427734,-1.4371354579925537,-10.184337615966797,-19.715200424194336,5.292331218719482,16.536828994750977,-2.320831060409546,13.373390197753906,-2.16645884513855,8.412395477294922,-0.821451723575592,-1.414709210395813,14.941609382629395,9.822392463684082,17.51296043395996,4.952054023742676,-22.605960845947266,-9.609675407409668,-13.210077285766602,-2.768587350845337,16.22320556640625,12.774384498596191,-12.326717376708984,17.532573699951172,-2.6410584449768066,-11.471102714538574,9.266240119934082,-2.541700839996338,17.10763168334961,22.80209732055664,-2.854457139968872,13.650444984436035,-8.643142700195312,-12.368487358093262,-4.649173259735107,1.1514205932617188,11.26977825164795,-6.161367893218994,12.529250144958496,9.560556411743164,-15.894073486328125,-9.80573558807373,0.4693301320075989,-13.771937370300293,-16.1104736328125,-28.392620086669922,-11.316020011901855,-22.422603607177734,25.787799835205078,8.485383033752441,10.746134757995605,-10.825651168823242,-8.668940544128418,6.18392276763916,-14.395310401916504,-8.296215057373047,1.9864815473556519,4.639374256134033,-8.784643173217773,-16.52276039123535,7.386571407318115,15.249044418334961,-10.7771635055542,-7.961350917816162,3.34191632270813,-14.125970840454102,-10.05495834350586,-16.092844009399414,-0.04508800059556961,17.77867317199707,15.470762252807617,0.6271731853485107,-14.273834228515625,7.143240451812744,-12.67192268371582,10.71093463897705,-5.830452919006348,-14.706128120422363,-16.41870880126953,-11.487778663635254,0.6857648491859436,25.771350860595703,5.8527607917785645,24.912425994873047,7.102088928222656,5.433661937713623,-13.262930870056152,10.721236228942871,-7.382851600646973,-15.179167747497559,-6.601458549499512,23.946605682373047,-7.379934310913086,-9.53266716003418,-22.291284561157227,4.686338901519775,6.431715488433838,-1.7321083545684814,-5.326242446899414,6.668595314025879,11.12425422668457,-16.466489791870117,17.86311149597168,15.702906608581543,9.428269386291504,-13.502765655517578,2.4666812419891357,13.285242080688477,5.066494464874268,14.117816925048828,2.5565836429595947,0.9443778991699219,27.354524612426758,6.734844207763672,4.32874870300293,-8.127572059631348,24.421825408935547,14.233516693115234,7.492478847503662,10.189929008483887,-0.14751915633678436,-17.41606330871582,6.048410415649414,-3.866732358932495,2.49747633934021,20.557220458984375,14.712624549865723,11.545159339904785,-10.146768569946289,-14.474842071533203,-4.804378509521484,8.556103706359863,16.949283599853516,10.394790649414062,10.527518272399902,12.10517692565918,7.8531413078308105,3.37541127204895,6.556853771209717,8.285250663757324,10.202064514160156,0.6624035239219666,8.885613441467285,0.06837204098701477,25.119626998901367,-2.672004461288452,-1.1967991590499878,-0.1680610030889511,-9.95233154296875,14.08637809753418],\"xaxis\":\"x\",\"y\":[3.5648374557495117,-10.472557067871094,10.213553428649902,-8.83795166015625,19.676271438598633,13.590453147888184,-6.947209358215332,27.843957901000977,-28.235179901123047,-38.795127868652344,3.464686870574951,-11.519160270690918,9.687568664550781,17.054716110229492,6.2134552001953125,-39.74632263183594,23.46468162536621,2.431159257888794,20.79315948486328,-13.092764854431152,19.28973960876465,22.767162322998047,6.794650077819824,-1.2884918451309204,22.2310791015625,26.53517723083496,5.5072102546691895,-8.983633041381836,-7.395355701446533,-23.84282112121582,-28.46742820739746,-7.672120571136475,-3.7694313526153564,-21.22892951965332,8.009627342224121,18.367599487304688,13.226563453674316,29.215789794921875,13.725515365600586,13.347475051879883,0.2489365041255951,4.663698196411133,23.78544807434082,13.423601150512695,-25.689292907714844,-30.652437210083008,-26.91250991821289,29.43120002746582,-33.724239349365234,13.75136947631836,7.372957229614258,16.924484252929688,14.625521659851074,13.733681678771973,-20.2104549407959,2.2542073726654053,-17.228065490722656,6.633333206176758,17.37335777282715,-4.434723854064941,-21.44991683959961,17.302539825439453,5.836151599884033,13.919679641723633,1.521368145942688,-33.99869918823242,23.114776611328125,-32.075843811035156,-39.66824722290039,-1.9440629482269287,-4.126209259033203,13.793569564819336,8.756183624267578,-6.46256160736084,-4.42937707901001,-28.572174072265625,-10.191651344299316,-27.726346969604492,-18.25092124938965,-28.50933074951172,11.5298490524292,18.591232299804688,0.5336561799049377,-31.09868812561035,15.119422912597656,-12.352869987487793,8.861696243286133,-13.961762428283691,17.936424255371094,-34.34577178955078,25.859437942504883,21.010791778564453,12.959943771362305,13.194561958312988,16.494272232055664,-14.52785873413086,18.48741340637207,19.081972122192383,-25.757112503051758,-26.210590362548828,-30.535680770874023,21.05040168762207,7.897254467010498,-36.80680847167969,17.883020401000977,-22.010772705078125,-34.04557418823242,0.7172653079032898,28.524675369262695,17.286849975585938,-34.18306350708008,-1.4736835956573486,-36.428070068359375,18.992334365844727,-35.93485641479492,-0.6071186661720276,19.671855926513672,27.412965774536133,-5.235019683837891,4.494511604309082,1.1304612159729004,7.985785961151123,-19.07796287536621,15.983053207397461,18.221965789794922,6.602593421936035,3.9362266063690186,-33.02942657470703,11.858505249023438,1.6577651500701904,16.22499656677246,15.674116134643555,14.54168701171875,-27.49037742614746,12.339898109436035,-1.8232735395431519,-7.782339096069336,0.24539627134799957,-39.87284851074219,8.677206039428711,-42.439456939697266,4.328110694885254,15.86426830291748,-18.85342788696289,21.236867904663086,-2.009058952331543,-2.0276901721954346,23.6545467376709,2.8842101097106934,9.960352897644043,5.4661736488342285,23.932355880737305,-19.790565490722656,25.151512145996094,-30.516143798828125,14.982612609863281,17.543046951293945,-39.01875686645508,0.43987736105918884,13.281874656677246,20.123926162719727,-9.516406059265137,1.263660192489624,0.5655230283737183,-4.900056838989258,-36.25428771972656,17.181867599487305,21.745201110839844,-15.282597541809082,-14.721919059753418,14.492443084716797,-3.588479995727539,-1.5538164377212524,-10.855735778808594,14.671634674072266,17.35370635986328,18.82292366027832,-17.892026901245117,7.675974369049072,-31.22549057006836,-27.291006088256836,20.390811920166016,-12.396513938903809,-15.0607328414917,-39.254966735839844,-13.684856414794922,4.668734073638916,19.98733139038086,14.064342498779297,-8.422411918640137,24.961872100830078,13.870827674865723,-36.70797348022461,21.032716751098633,20.026042938232422,8.009801864624023,27.058494567871094,-8.142171859741211,22.833993911743164,14.854019165039062,14.854019165039062,14.854019165039062,14.854019165039062,14.854019165039062,13.835318565368652,14.854019165039062,14.854019165039062,14.854019165039062,14.854019165039062,14.854019165039062,14.064342498779297,13.414670944213867,-7.650332450866699,-31.78727912902832,19.53542137145996,25.06247329711914,-3.796308755874634,-7.132569313049316,-3.3949687480926514,18.276430130004883,-5.62846565246582,-4.0079121589660645,-33.70289993286133,4.109890937805176,-26.087644577026367,2.6123383045196533,1.6205180883407593,32.186546325683594,14.270585060119629,-8.49165153503418,-32.82587814331055,-19.4006404876709,1.8406449556350708,-3.7332963943481445,-17.18021583557129,-6.080049514770508,21.231021881103516,-5.787049293518066,12.306055068969727,1.8738973140716553,-39.0128059387207,-40.662166595458984,5.14380407333374,11.814041137695312,5.405616760253906,-18.785642623901367,17.57997703552246,2.184325933456421,-7.785844326019287,1.712244987487793,15.512381553649902,-8.938055038452148,6.844692707061768,17.5872745513916,6.777963638305664,-42.03888702392578,-34.514198303222656,-26.052871704101562,15.727972030639648,7.734881401062012,-20.5970458984375,-11.578765869140625,6.514281272888184,15.59149169921875,-1.9260025024414062,-41.591217041015625,-19.112417221069336,-34.73384094238281,-28.06517791748047,-30.887117385864258,12.921270370483398,-39.433204650878906,-17.65769386291504,-30.2534122467041,18.841646194458008,-11.468306541442871,-32.29158020019531,20.385700225830078,1.8640847206115723,-7.159501552581787,21.63587188720703,-38.38481521606445,2.9229514598846436,1.5104012489318848,-22.84644889831543,14.254286766052246,-40.929256439208984,-0.3100747764110565,-34.33473587036133,13.059355735778809,-1.1624492406845093,-2.454803466796875,15.267101287841797,-41.330772399902344,-40.90618896484375,18.241743087768555,-4.137636661529541,-7.56866979598999,-19.967361450195312,13.195282936096191,18.87489891052246,-16.53704071044922,-40.290771484375,17.316787719726562,10.547439575195312,21.816987991333008,-27.856069564819336,-12.388190269470215,-0.16877299547195435,16.547754287719727,15.44595718383789,6.659069061279297,14.17564582824707,10.007840156555176,16.48587417602539,-28.847900390625,29.34856414794922,2.2968807220458984,14.364791870117188,16.241302490234375,-9.027287483215332,-6.52449893951416,17.697765350341797,17.69776153564453,25.023229598999023,-39.24006652832031,-6.575270652770996,-15.740936279296875,16.27918815612793,-35.694908142089844,-5.212517738342285,-7.201229572296143,-34.264671325683594,-6.056793689727783,-6.616914749145508,24.45829963684082,-38.5330810546875,-17.801233291625977,-37.89716720581055,18.750764846801758,2.4758005142211914,-20.742338180541992,-4.044499397277832,-16.492109298706055,-6.80362606048584,-35.17475128173828,-12.505702018737793,1.8087337017059326,21.667343139648438,19.00555992126465,-33.82275390625,10.920303344726562,-10.974665641784668,-19.256553649902344,-8.560593605041504,-12.902568817138672,-14.174637794494629,20.43397331237793,-36.92167663574219,13.525483131408691,-35.47133255004883,-10.838418960571289,10.728653907775879,-4.725522518157959,-1.2916169166564941,-38.9286994934082,-41.824222564697266,18.19662094116211,-6.73173189163208,-14.637622833251953,-28.750064849853516,-16.473054885864258,-5.462340831756592,-10.889456748962402,-29.078048706054688,6.6346564292907715,-28.157302856445312,-4.875035762786865,21.580787658691406,-6.405683994293213,19.05094337463379,-2.454009771347046,-18.092256546020508,20.349815368652344,-30.241455078125,17.25572967529297,-29.53856658935547,19.539888381958008,-10.222753524780273,2.246055841445923,18.94036865234375,17.398408889770508,-6.228854656219482,-21.204063415527344,8.019986152648926,-17.48773956298828,0.9914430379867554,11.686179161071777,-1.4941478967666626,4.361423492431641,-5.416213035583496,16.345077514648438,27.5810546875,14.811431884765625,-0.42127302289009094,10.686300277709961,22.415752410888672,13.32196044921875,-19.13404655456543,15.843125343322754,8.366741180419922,27.699373245239258,-2.2240397930145264,-28.7481632232666,11.517887115478516,-4.092120170593262,-27.93107032775879,-5.353179931640625,5.40195369720459,17.50162124633789,0.3705141246318817,-16.89741325378418,-23.5504150390625,-6.159127235412598,15.743424415588379,-15.806900978088379,19.102571487426758,11.642603874206543,20.873044967651367,-40.86003112792969,11.235912322998047,-33.20085906982422,-4.798293590545654,-23.265588760375977,0.7328352928161621,15.286321640014648,32.76795196533203,-27.249134063720703,-28.77684211730957,19.382415771484375,-20.543655395507812,20.212162017822266,3.129577159881592,-34.14459228515625,2.0849838256835938,-8.836477279663086,-41.68836212158203,-32.1861457824707,12.52747631072998,-15.388616561889648,-2.5017292499542236,-31.119535446166992,1.504984736442566,-21.572580337524414,-1.6791843175888062,20.400924682617188,0.22528675198554993,21.33716583251953,-5.056243419647217,4.07448148727417,5.028140068054199,-9.418379783630371,-7.8496479988098145,-6.049648284912109,-20.36444091796875,-24.383155822753906,6.271056652069092,-15.673773765563965,12.593954086303711,-33.21565628051758,-42.79033660888672,-8.79702091217041,-5.871096134185791,-16.758525848388672,-40.544734954833984,-8.28029727935791,-2.3899972438812256,-10.028297424316406,22.72394561767578,13.41185474395752,-17.691984176635742,1.358865737915039,18.60984230041504,25.016740798950195,2.0153934955596924,-0.505779504776001,-8.642538070678711,12.369034767150879,-12.097251892089844,-27.60738182067871,7.162235736846924,-17.245895385742188,-14.747455596923828,16.597797393798828,16.211103439331055,3.037630319595337,-0.814098596572876,-12.362357139587402,-17.32723617553711,19.361806869506836,7.672107219696045,-1.429653525352478,13.122265815734863,16.742372512817383,-34.4273567199707,-9.128575325012207,-1.459154725074768,-6.094691276550293,-43.418216705322266,-20.648597717285156,17.183725357055664,-38.459346771240234,-9.625065803527832,17.48284339904785,0.7354126572608948,18.880640029907227,16.628381729125977,1.0330173969268799,-36.788963317871094,22.182069778442383,-18.751420974731445,-5.764774799346924,17.661190032958984,15.590253829956055,6.69399881362915,4.181711196899414,29.458511352539062,-20.750017166137695,-9.848651885986328,4.203452110290527,29.828838348388672,-29.67999839782715,-16.466419219970703,-5.437981128692627,10.7420654296875,12.716032028198242,-31.682937622070312,5.1870436668396,-33.180206298828125,-36.93955612182617,8.370478630065918,-23.127201080322266,-26.428186416625977,-22.828372955322266,-7.316134929656982,15.120868682861328,-20.351991653442383,13.280532836914062,18.818429946899414,10.516011238098145,10.965218544006348,-12.673507690429688,11.532827377319336,-39.98323440551758,-36.06132507324219,-20.650676727294922,11.430559158325195,-0.2722155749797821,-4.923510551452637,9.216791152954102,-40.95217514038086,5.696368217468262,-25.834278106689453,14.890849113464355,17.15324592590332,-0.998339831829071,12.559087753295898,-25.174301147460938,-10.942769050598145,-2.540623664855957,7.198971271514893,9.573210716247559,-9.885885238647461,-13.57229232788086,-8.664774894714355,17.086585998535156,-10.4395170211792,-20.04807472229004,5.541453838348389,6.947457790374756,2.276191234588623,16.835533142089844,14.031173706054688,10.454973220825195,15.048659324645996,0.9187345504760742,11.89663314819336,-9.069389343261719,10.570257186889648,22.966711044311523,-25.697704315185547,-22.9287052154541,-10.0112886428833,2.232732057571411,-14.770814895629883,28.292762756347656,8.084257125854492,-2.285090923309326,9.418473243713379,-11.906231880187988,-41.063377380371094,13.4810791015625,-38.18509292602539,10.556082725524902,18.72767448425293,16.855201721191406,23.197362899780273,-16.38878631591797,-4.763212203979492,19.29780387878418,-30.196826934814453,-10.318717002868652,-21.091447830200195,5.333531379699707,18.756351470947266,15.017987251281738,15.25152587890625,0.26645421981811523,0.2960726022720337,-30.880054473876953,17.34107208251953,19.327804565429688,-5.3134942054748535,-5.744426727294922,-34.22483825683594,7.072414398193359,-16.553377151489258,25.73822593688965,-31.908748626708984,16.237850189208984,7.943460464477539,24.89214515686035,-29.487356185913086,-32.41830825805664,5.285865783691406,12.573240280151367,-26.801654815673828,16.045337677001953,-19.67939567565918,18.194873809814453,18.476747512817383,-3.9535608291625977,12.998978614807129,18.540271759033203,14.74158000946045,-29.93224334716797,19.870616912841797,21.444595336914062,17.57455062866211,-28.563480377197266,14.476486206054688,24.879043579101562,-13.169461250305176,2.6127450466156006,17.541065216064453,0.0170842744410038,2.3195080757141113,5.9201178550720215,14.590555191040039,-13.266284942626953,19.816625595092773,0.6214786171913147,-6.758596897125244,-10.28402042388916,15.117891311645508,24.732769012451172,-10.889737129211426,13.812196731567383,-1.4070496559143066,-7.589291572570801,-21.21660041809082,-37.4316291809082,-35.88907241821289,21.167335510253906,-8.414409637451172,12.231027603149414,-8.074660301208496,-35.75993728637695,9.19169807434082,-7.690013885498047,-16.314247131347656,-4.832560062408447,-30.497251510620117,-6.47426176071167,-2.8987081050872803,12.596382141113281,-2.9537086486816406,-38.331974029541016,18.31654930114746,24.683101654052734,5.344235420227051,-5.503554821014404,-7.855174541473389,4.081090927124023,13.771451950073242,0.2767883241176605,-12.906393051147461,-23.63166046142578,-8.024628639221191,-40.60454559326172,-30.33714485168457,3.1938722133636475,-8.341103553771973,-21.133577346801758,14.057714462280273,23.941749572753906,-32.52888107299805,-14.53685474395752,6.055984973907471,2.6746814250946045,23.24062156677246,17.4239444732666,-4.604113578796387,-30.468582153320312,-26.5035457611084,-8.373603820800781,-13.21932315826416,-9.853155136108398,21.880573272705078,15.737460136413574,-31.181970596313477,14.03685188293457,-7.580196857452393,-7.406191349029541,-24.803396224975586,-38.71661376953125,14.322577476501465,2.5314066410064697,-19.79046630859375,-8.406671524047852,-1.1269567012786865,-6.3212127685546875,-7.291079521179199,19.320724487304688,-20.080202102661133,12.784419059753418,26.469175338745117,21.476242065429688,-7.730453014373779,-27.603588104248047,25.37224006652832,-23.460966110229492,-6.352034091949463,-10.052247047424316,25.303983688354492,0.9227493405342102,16.53538703918457,16.432214736938477,-1.3552143573760986,21.56434440612793,-14.284496307373047,1.9393818378448486,14.12022876739502,-16.268667221069336,-0.12487770617008209,18.733993530273438,1.7931349277496338,-35.562782287597656,12.241121292114258,22.10075569152832,-13.746260643005371,-28.620763778686523,13.7643461227417,16.34893035888672,24.113977432250977,20.472532272338867,-12.872247695922852,19.581270217895508,-14.58680534362793,8.215413093566895,-26.81499481201172,17.93088150024414,23.395822525024414,25.604482650756836,15.769268035888672,-32.96128463745117,19.166780471801758,29.663719177246094,-13.928171157836914,-18.54045867919922,4.298998832702637,19.087406158447266,-6.762550354003906,23.960403442382812,-9.492574691772461,4.668729305267334,21.56589698791504,-20.654205322265625,-20.73410987854004,21.266996383666992,-19.820659637451172,-3.310654878616333,12.847672462463379,-9.764274597167969,-25.313512802124023,22.945606231689453,-2.958583116531372,-6.946925640106201,13.143267631530762,-30.098587036132812,21.353952407836914,-38.794559478759766,7.607606410980225,-39.27193069458008,-8.192686080932617,8.591846466064453,9.477765083312988,12.838621139526367,-1.5483263731002808,14.525121688842773,5.418450832366943,-34.06180953979492,-1.725284457206726,21.95538330078125,-21.45378303527832,-34.73080062866211,0.5656430125236511,7.031896591186523,16.951480865478516,-19.554134368896484,-17.47027587890625,-12.470357894897461,-9.519257545471191,24.861059188842773,22.239948272705078,9.058544158935547,29.36873435974121,-2.708466053009033,-31.640188217163086,-11.049039840698242,9.341524124145508,-31.840972900390625,-15.400412559509277,-19.14739990234375,12.094762802124023,23.95065689086914,-24.393138885498047,-8.542791366577148,-21.43986701965332,-4.898773670196533,-2.8157291412353516,-41.89751434326172,-22.316984176635742,15.902616500854492,2.247835159301758,8.070198059082031,-11.860871315002441,4.898034572601318,-0.23547136783599854,-32.143062591552734,-31.516267776489258,23.2456111907959,13.646286010742188,16.587940216064453,-36.10009002685547,-31.150789260864258,11.513731956481934,6.638869762420654,4.264913558959961,17.930578231811523,11.876733779907227,-35.57475280761719,-41.28592300415039,-24.710176467895508,17.480854034423828,-27.026914596557617,22.86123275756836,24.663131713867188,20.976179122924805,32.56754684448242,2.6952528953552246,-32.44392013549805,-0.9323294162750244,-29.24017906188965,15.841049194335938,20.923460006713867,-26.030420303344727,4.823707580566406,16.84445571899414,-0.4054855406284332,20.755203247070312,-15.606797218322754,18.70966148376465,21.052770614624023,-21.60181999206543,-4.010205268859863,-41.28274154663086,14.535245895385742,-2.3280844688415527,-37.856414794921875,16.131635665893555,-7.677093982696533,13.870099067687988,26.465925216674805,18.620502471923828,16.544864654541016,2.4778573513031006,23.49749755859375,-11.81500244140625,-31.70270347595215,-33.599674224853516,-17.935771942138672,16.742420196533203,-25.920072555541992,0.08059117197990417,10.533245086669922,-34.696231842041016,5.602286338806152,12.44968032836914,10.670157432556152,-29.490272521972656,15.941884994506836,13.695599555969238,22.522048950195312,11.417498588562012,-4.669167995452881,2.082653045654297,17.331375122070312,-30.797710418701172,-14.85756778717041,15.681639671325684,-32.86285400390625,-1.2420637607574463,25.555007934570312,22.860925674438477,-9.893915176391602,10.079818725585938,-5.036966800689697,20.113039016723633,23.92024040222168,-33.845272064208984,-13.844135284423828,-11.63698959350586,-8.374039649963379,25.45724105834961,0.9330740571022034,19.61016082763672,20.48710823059082,13.398394584655762,-4.182373523712158,8.810647010803223,-2.296800136566162,15.62703800201416,3.2295005321502686,2.0753109455108643,-30.83186149597168,-11.735430717468262,14.294508934020996,-6.46466064453125,-38.09280776977539,20.95777702331543,16.117612838745117,-9.838522911071777,9.973482131958008,-30.644018173217773,16.726032257080078,-19.861682891845703,-36.058998107910156,18.666080474853516,-25.190427780151367,29.802143096923828,-9.649394035339355,-5.564645767211914,-39.77033996582031,16.083621978759766,15.091187477111816,-8.255285263061523,-24.963184356689453,-0.37484198808670044,-38.89867401123047,-35.25977325439453,9.277153968811035,-37.175811767578125,5.245659828186035,-14.514106750488281,-8.356386184692383,-3.732297897338867,18.617483139038086,-2.6582298278808594,-16.469594955444336,18.5682430267334,12.155224800109863,9.392396926879883,-3.058763265609741,22.409351348876953,19.387182235717773,-39.64372634887695,-21.543912887573242,-38.211612701416016,-37.58602523803711,-8.501567840576172,-16.45865249633789,-35.27576446533203,19.658935546875,-9.23038387298584,-4.333876132965088,-20.52139663696289,5.447007179260254,22.762760162353516,-26.16023826599121],\"yaxis\":\"y\",\"type\":\"scatter\"}],                        {\"template\":{\"data\":{\"histogram2dcontour\":[{\"type\":\"histogram2dcontour\",\"colorbar\":{\"outlinewidth\":0,\"ticks\":\"\"},\"colorscale\":[[0.0,\"#0d0887\"],[0.1111111111111111,\"#46039f\"],[0.2222222222222222,\"#7201a8\"],[0.3333333333333333,\"#9c179e\"],[0.4444444444444444,\"#bd3786\"],[0.5555555555555556,\"#d8576b\"],[0.6666666666666666,\"#ed7953\"],[0.7777777777777778,\"#fb9f3a\"],[0.8888888888888888,\"#fdca26\"],[1.0,\"#f0f921\"]]}],\"choropleth\":[{\"type\":\"choropleth\",\"colorbar\":{\"outlinewidth\":0,\"ticks\":\"\"}}],\"histogram2d\":[{\"type\":\"histogram2d\",\"colorbar\":{\"outlinewidth\":0,\"ticks\":\"\"},\"colorscale\":[[0.0,\"#0d0887\"],[0.1111111111111111,\"#46039f\"],[0.2222222222222222,\"#7201a8\"],[0.3333333333333333,\"#9c179e\"],[0.4444444444444444,\"#bd3786\"],[0.5555555555555556,\"#d8576b\"],[0.6666666666666666,\"#ed7953\"],[0.7777777777777778,\"#fb9f3a\"],[0.8888888888888888,\"#fdca26\"],[1.0,\"#f0f921\"]]}],\"heatmap\":[{\"type\":\"heatmap\",\"colorbar\":{\"outlinewidth\":0,\"ticks\":\"\"},\"colorscale\":[[0.0,\"#0d0887\"],[0.1111111111111111,\"#46039f\"],[0.2222222222222222,\"#7201a8\"],[0.3333333333333333,\"#9c179e\"],[0.4444444444444444,\"#bd3786\"],[0.5555555555555556,\"#d8576b\"],[0.6666666666666666,\"#ed7953\"],[0.7777777777777778,\"#fb9f3a\"],[0.8888888888888888,\"#fdca26\"],[1.0,\"#f0f921\"]]}],\"heatmapgl\":[{\"type\":\"heatmapgl\",\"colorbar\":{\"outlinewidth\":0,\"ticks\":\"\"},\"colorscale\":[[0.0,\"#0d0887\"],[0.1111111111111111,\"#46039f\"],[0.2222222222222222,\"#7201a8\"],[0.3333333333333333,\"#9c179e\"],[0.4444444444444444,\"#bd3786\"],[0.5555555555555556,\"#d8576b\"],[0.6666666666666666,\"#ed7953\"],[0.7777777777777778,\"#fb9f3a\"],[0.8888888888888888,\"#fdca26\"],[1.0,\"#f0f921\"]]}],\"contourcarpet\":[{\"type\":\"contourcarpet\",\"colorbar\":{\"outlinewidth\":0,\"ticks\":\"\"}}],\"contour\":[{\"type\":\"contour\",\"colorbar\":{\"outlinewidth\":0,\"ticks\":\"\"},\"colorscale\":[[0.0,\"#0d0887\"],[0.1111111111111111,\"#46039f\"],[0.2222222222222222,\"#7201a8\"],[0.3333333333333333,\"#9c179e\"],[0.4444444444444444,\"#bd3786\"],[0.5555555555555556,\"#d8576b\"],[0.6666666666666666,\"#ed7953\"],[0.7777777777777778,\"#fb9f3a\"],[0.8888888888888888,\"#fdca26\"],[1.0,\"#f0f921\"]]}],\"surface\":[{\"type\":\"surface\",\"colorbar\":{\"outlinewidth\":0,\"ticks\":\"\"},\"colorscale\":[[0.0,\"#0d0887\"],[0.1111111111111111,\"#46039f\"],[0.2222222222222222,\"#7201a8\"],[0.3333333333333333,\"#9c179e\"],[0.4444444444444444,\"#bd3786\"],[0.5555555555555556,\"#d8576b\"],[0.6666666666666666,\"#ed7953\"],[0.7777777777777778,\"#fb9f3a\"],[0.8888888888888888,\"#fdca26\"],[1.0,\"#f0f921\"]]}],\"mesh3d\":[{\"type\":\"mesh3d\",\"colorbar\":{\"outlinewidth\":0,\"ticks\":\"\"}}],\"scatter\":[{\"fillpattern\":{\"fillmode\":\"overlay\",\"size\":10,\"solidity\":0.2},\"type\":\"scatter\"}],\"parcoords\":[{\"type\":\"parcoords\",\"line\":{\"colorbar\":{\"outlinewidth\":0,\"ticks\":\"\"}}}],\"scatterpolargl\":[{\"type\":\"scatterpolargl\",\"marker\":{\"colorbar\":{\"outlinewidth\":0,\"ticks\":\"\"}}}],\"bar\":[{\"error_x\":{\"color\":\"#2a3f5f\"},\"error_y\":{\"color\":\"#2a3f5f\"},\"marker\":{\"line\":{\"color\":\"#E5ECF6\",\"width\":0.5},\"pattern\":{\"fillmode\":\"overlay\",\"size\":10,\"solidity\":0.2}},\"type\":\"bar\"}],\"scattergeo\":[{\"type\":\"scattergeo\",\"marker\":{\"colorbar\":{\"outlinewidth\":0,\"ticks\":\"\"}}}],\"scatterpolar\":[{\"type\":\"scatterpolar\",\"marker\":{\"colorbar\":{\"outlinewidth\":0,\"ticks\":\"\"}}}],\"histogram\":[{\"marker\":{\"pattern\":{\"fillmode\":\"overlay\",\"size\":10,\"solidity\":0.2}},\"type\":\"histogram\"}],\"scattergl\":[{\"type\":\"scattergl\",\"marker\":{\"colorbar\":{\"outlinewidth\":0,\"ticks\":\"\"}}}],\"scatter3d\":[{\"type\":\"scatter3d\",\"line\":{\"colorbar\":{\"outlinewidth\":0,\"ticks\":\"\"}},\"marker\":{\"colorbar\":{\"outlinewidth\":0,\"ticks\":\"\"}}}],\"scattermapbox\":[{\"type\":\"scattermapbox\",\"marker\":{\"colorbar\":{\"outlinewidth\":0,\"ticks\":\"\"}}}],\"scatterternary\":[{\"type\":\"scatterternary\",\"marker\":{\"colorbar\":{\"outlinewidth\":0,\"ticks\":\"\"}}}],\"scattercarpet\":[{\"type\":\"scattercarpet\",\"marker\":{\"colorbar\":{\"outlinewidth\":0,\"ticks\":\"\"}}}],\"carpet\":[{\"aaxis\":{\"endlinecolor\":\"#2a3f5f\",\"gridcolor\":\"white\",\"linecolor\":\"white\",\"minorgridcolor\":\"white\",\"startlinecolor\":\"#2a3f5f\"},\"baxis\":{\"endlinecolor\":\"#2a3f5f\",\"gridcolor\":\"white\",\"linecolor\":\"white\",\"minorgridcolor\":\"white\",\"startlinecolor\":\"#2a3f5f\"},\"type\":\"carpet\"}],\"table\":[{\"cells\":{\"fill\":{\"color\":\"#EBF0F8\"},\"line\":{\"color\":\"white\"}},\"header\":{\"fill\":{\"color\":\"#C8D4E3\"},\"line\":{\"color\":\"white\"}},\"type\":\"table\"}],\"barpolar\":[{\"marker\":{\"line\":{\"color\":\"#E5ECF6\",\"width\":0.5},\"pattern\":{\"fillmode\":\"overlay\",\"size\":10,\"solidity\":0.2}},\"type\":\"barpolar\"}],\"pie\":[{\"automargin\":true,\"type\":\"pie\"}]},\"layout\":{\"autotypenumbers\":\"strict\",\"colorway\":[\"#636efa\",\"#EF553B\",\"#00cc96\",\"#ab63fa\",\"#FFA15A\",\"#19d3f3\",\"#FF6692\",\"#B6E880\",\"#FF97FF\",\"#FECB52\"],\"font\":{\"color\":\"#2a3f5f\"},\"hovermode\":\"closest\",\"hoverlabel\":{\"align\":\"left\"},\"paper_bgcolor\":\"white\",\"plot_bgcolor\":\"#E5ECF6\",\"polar\":{\"bgcolor\":\"#E5ECF6\",\"angularaxis\":{\"gridcolor\":\"white\",\"linecolor\":\"white\",\"ticks\":\"\"},\"radialaxis\":{\"gridcolor\":\"white\",\"linecolor\":\"white\",\"ticks\":\"\"}},\"ternary\":{\"bgcolor\":\"#E5ECF6\",\"aaxis\":{\"gridcolor\":\"white\",\"linecolor\":\"white\",\"ticks\":\"\"},\"baxis\":{\"gridcolor\":\"white\",\"linecolor\":\"white\",\"ticks\":\"\"},\"caxis\":{\"gridcolor\":\"white\",\"linecolor\":\"white\",\"ticks\":\"\"}},\"coloraxis\":{\"colorbar\":{\"outlinewidth\":0,\"ticks\":\"\"}},\"colorscale\":{\"sequential\":[[0.0,\"#0d0887\"],[0.1111111111111111,\"#46039f\"],[0.2222222222222222,\"#7201a8\"],[0.3333333333333333,\"#9c179e\"],[0.4444444444444444,\"#bd3786\"],[0.5555555555555556,\"#d8576b\"],[0.6666666666666666,\"#ed7953\"],[0.7777777777777778,\"#fb9f3a\"],[0.8888888888888888,\"#fdca26\"],[1.0,\"#f0f921\"]],\"sequentialminus\":[[0.0,\"#0d0887\"],[0.1111111111111111,\"#46039f\"],[0.2222222222222222,\"#7201a8\"],[0.3333333333333333,\"#9c179e\"],[0.4444444444444444,\"#bd3786\"],[0.5555555555555556,\"#d8576b\"],[0.6666666666666666,\"#ed7953\"],[0.7777777777777778,\"#fb9f3a\"],[0.8888888888888888,\"#fdca26\"],[1.0,\"#f0f921\"]],\"diverging\":[[0,\"#8e0152\"],[0.1,\"#c51b7d\"],[0.2,\"#de77ae\"],[0.3,\"#f1b6da\"],[0.4,\"#fde0ef\"],[0.5,\"#f7f7f7\"],[0.6,\"#e6f5d0\"],[0.7,\"#b8e186\"],[0.8,\"#7fbc41\"],[0.9,\"#4d9221\"],[1,\"#276419\"]]},\"xaxis\":{\"gridcolor\":\"white\",\"linecolor\":\"white\",\"ticks\":\"\",\"title\":{\"standoff\":15},\"zerolinecolor\":\"white\",\"automargin\":true,\"zerolinewidth\":2},\"yaxis\":{\"gridcolor\":\"white\",\"linecolor\":\"white\",\"ticks\":\"\",\"title\":{\"standoff\":15},\"zerolinecolor\":\"white\",\"automargin\":true,\"zerolinewidth\":2},\"scene\":{\"xaxis\":{\"backgroundcolor\":\"#E5ECF6\",\"gridcolor\":\"white\",\"linecolor\":\"white\",\"showbackground\":true,\"ticks\":\"\",\"zerolinecolor\":\"white\",\"gridwidth\":2},\"yaxis\":{\"backgroundcolor\":\"#E5ECF6\",\"gridcolor\":\"white\",\"linecolor\":\"white\",\"showbackground\":true,\"ticks\":\"\",\"zerolinecolor\":\"white\",\"gridwidth\":2},\"zaxis\":{\"backgroundcolor\":\"#E5ECF6\",\"gridcolor\":\"white\",\"linecolor\":\"white\",\"showbackground\":true,\"ticks\":\"\",\"zerolinecolor\":\"white\",\"gridwidth\":2}},\"shapedefaults\":{\"line\":{\"color\":\"#2a3f5f\"}},\"annotationdefaults\":{\"arrowcolor\":\"#2a3f5f\",\"arrowhead\":0,\"arrowwidth\":1},\"geo\":{\"bgcolor\":\"white\",\"landcolor\":\"#E5ECF6\",\"subunitcolor\":\"white\",\"showland\":true,\"showlakes\":true,\"lakecolor\":\"white\"},\"title\":{\"x\":0.05},\"mapbox\":{\"style\":\"light\"}}},\"xaxis\":{\"anchor\":\"y\",\"domain\":[0.0,1.0],\"title\":{\"text\":\"TSNE1\"}},\"yaxis\":{\"anchor\":\"x\",\"domain\":[0.0,1.0],\"title\":{\"text\":\"TSNE2\"}},\"coloraxis\":{\"colorbar\":{\"title\":{\"text\":\"rating\"}},\"colorscale\":[[0,\"red\"],[0.5,\"gray\"],[1.0,\"green\"]]},\"legend\":{\"tracegroupgap\":0},\"margin\":{\"t\":60}},                        {\"responsive\": true}                    ).then(function(){\n",
              "                            \n",
              "var gd = document.getElementById('806ac1fa-b301-4a70-84aa-fbe154e43c98');\n",
              "var x = new MutationObserver(function (mutations, observer) {{\n",
              "        var display = window.getComputedStyle(gd).display;\n",
              "        if (!display || display === 'none') {{\n",
              "            console.log([gd, 'removed!']);\n",
              "            Plotly.purge(gd);\n",
              "            observer.disconnect();\n",
              "        }}\n",
              "}});\n",
              "\n",
              "// Listen for the removal of the full notebook cells\n",
              "var notebookContainer = gd.closest('#notebook-container');\n",
              "if (notebookContainer) {{\n",
              "    x.observe(notebookContainer, {childList: true});\n",
              "}}\n",
              "\n",
              "// Listen for the clearing of the current output cell\n",
              "var outputEl = gd.closest('.output');\n",
              "if (outputEl) {{\n",
              "    x.observe(outputEl, {childList: true});\n",
              "}}\n",
              "\n",
              "                        })                };                            </script>        </div>\n",
              "</body>\n",
              "</html>"
            ]
          },
          "metadata": {}
        }
      ]
    },
    {
      "cell_type": "markdown",
      "source": [
        "## Conclusão\n",
        "Neste notebook, demonstramos como a Vertex Gemini API pode ser utilizada para endereçar diferentes casos de uso de atendimento ao cliente.  \n",
        "\n",
        "Em particular, verificamos a flexibilidade que as LLMs propiciam, aceitando instruções e restrições nos prompts que aceleram muito o desenvolvimento de aplicações de *machine learning* que levariam semanas para serem implementadas utilizando técnicas tradicionais e bancos de dados limitados.  \n",
        "\n",
        "O Vertex API também oferece ferramentas para [fine-tuning de modelos](https://cloud.google.com/vertex-ai/docs/generative-ai/models/tune-models?hl=pt-br) Palm / Lllama 2, entre outros, caso seja necessário adaptar o model para domínios mais específicos."
      ],
      "metadata": {
        "id": "WxiH02HuMmn4"
      }
    },
    {
      "cell_type": "markdown",
      "source": [
        "## Para saber mais\n",
        "- [Documentação da Vertex AI PaLM API](https://cloud.google.com/vertex-ai/docs/generative-ai/language-model-overview?hl=pt-br)\n",
        "- [Exemplos de Generative AI com Google Cloud Platform](https://github.com/GoogleCloudPlatform/generative-ai) - Google\n",
        "- [Notebooks de Prompt Design, Palm API e Vertex Generative AI Studio em Português](https://github.com/lucianommartins/vertex-genai-ptbr/tree/main/language) - Luciano Martins (Google)"
      ],
      "metadata": {
        "id": "N1eo4IsXXzDx"
      }
    },
    {
      "cell_type": "code",
      "source": [],
      "metadata": {
        "id": "dfUkEHYqYf1s"
      },
      "execution_count": null,
      "outputs": []
    }
  ]
}