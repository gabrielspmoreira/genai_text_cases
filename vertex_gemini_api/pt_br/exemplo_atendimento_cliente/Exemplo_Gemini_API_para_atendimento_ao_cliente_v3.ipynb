{
  "nbformat": 4,
  "nbformat_minor": 0,
  "metadata": {
    "colab": {
      "provenance": []
    },
    "kernelspec": {
      "name": "python3",
      "display_name": "Python 3"
    },
    "language_info": {
      "name": "python"
    }
  },
  "cells": [
    {
      "cell_type": "code",
      "source": [
        "# Copyright 2024 Gabriel Moreira\n",
        "#\n",
        "# Licensed under the Apache License, Version 2.0 (the \"License\");\n",
        "# you may not use this file except in compliance with the License.\n",
        "# You may obtain a copy of the License at\n",
        "#\n",
        "#     https://www.apache.org/licenses/LICENSE-2.0\n",
        "#\n",
        "# Unless required by applicable law or agreed to in writing, software\n",
        "# distributed under the License is distributed on an \"AS IS\" BASIS,\n",
        "# WITHOUT WARRANTIES OR CONDITIONS OF ANY KIND, either express or implied.\n",
        "# See the License for the specific language governing permissions and\n",
        "# limitations under the License."
      ],
      "metadata": {
        "id": "46uPzserRfZ4"
      },
      "execution_count": null,
      "outputs": []
    },
    {
      "cell_type": "markdown",
      "source": [
        "# Exemplo de utilização da Gemini API para atendimento ao cliente\n",
        "Neste notebook, demonstramos a utilização da Gemini API Python para casos de uso relacionados à atendimento ao cliente:\n",
        "1. Classsificação de sentimentos\n",
        "2. Estimativa de rating da avaliação\n",
        "3. Resposta automatizada à avaliações de produtos\n",
        "4. Sumarização de avaliações\n",
        "5. Chatbot de atendimento ao cliente (com acesso a *tools* / *function calling*)\n",
        "6. Análise de clusters de avaliações utilizando *embeddings*\n",
        "\n",
        "Será possível observar como os *Large Language Models (LLMs)* podem ser aplicados a diferentes tarefas através de instruções em linguagem natural e sem a necessidade de re-treinamento com dados específicos em muitos dos casos. Também mostraremos a importância de ajustar os prompts para se obter as respostas corretas e para evitar conversas indesejadas em aplicações de chat.\n",
        "\n",
        "**Nota**: Cada um destes casos de uso poderia levar dias ou semanas para ser prototipado utilizando bancos de dados limitados e técnicas tradicionais de *Natural Language Processing (MLP)* e *Machine Learning (ML)*, mas podem ser implementados rapidamente utilizando a Gemini API.\n"
      ],
      "metadata": {
        "id": "Thbe8eOS6ayA"
      }
    },
    {
      "cell_type": "markdown",
      "source": [
        "<div> <a href=\"https://colab.research.google.com/github/gabrielspmoreira/genai_text_cases/blob/main/vertex_gemini_api/pt_br/exemplo_atendimento_cliente/Exemplo_Gemini_API_para_atendimento_ao_cliente_v3.ipynb\"><img src=\"https://cloud.google.com/ml-engine/images/colab-logo-32px.png\" alt=\"Colab logo\"> Execute no Colab</a>\n",
        "\n",
        "\n",
        "<a href=\"https://github.com/gabrielspmoreira/genai_text_cases/blob/main/vertex_gemini_api/pt_br/exemplo_atendimento_cliente/Exemplo_Gemini_API_para_atendimento_ao_cliente_v3.ipynb\"><img src=\"https://cloud.google.com/ml-engine/images/github-logo-32px.png\" alt=\"GitHub logo\">Veja no GitHub</a>\n",
        "</div>"
      ],
      "metadata": {
        "id": "uSfheyR4OZfa"
      }
    },
    {
      "cell_type": "markdown",
      "source": [
        "## Setup"
      ],
      "metadata": {
        "id": "lMaIjBB7Hagw"
      }
    },
    {
      "cell_type": "markdown",
      "source": [
        "#### Instalando o Google Cloud AI SDK no Colab"
      ],
      "metadata": {
        "id": "MM215143Hewi"
      }
    },
    {
      "cell_type": "code",
      "source": [
        "import google.generativeai as genai"
      ],
      "metadata": {
        "id": "5AvfSl2VNGdM"
      },
      "execution_count": null,
      "outputs": []
    },
    {
      "cell_type": "markdown",
      "source": [
        "Insira seu token obtido no Google AI Studio:"
      ],
      "metadata": {
        "id": "nlI4e3j_Xq6b"
      }
    },
    {
      "cell_type": "code",
      "source": [
        "api_key = \"\" #@param {type:\"string\"}\n",
        "genai.configure(api_key=api_key)"
      ],
      "metadata": {
        "id": "dIlnB8jTNOsZ"
      },
      "execution_count": null,
      "outputs": []
    },
    {
      "cell_type": "code",
      "source": [
        "generation_model = genai.GenerativeModel(model_name=\"gemini-1.5-flash\")"
      ],
      "metadata": {
        "id": "olpuYHj4NoBx"
      },
      "execution_count": null,
      "outputs": []
    },
    {
      "cell_type": "code",
      "source": [
        "def generate(prompt, max_output_tokens=256):\n",
        "    output = generation_model.generate_content(prompt).text\n",
        "    return output"
      ],
      "metadata": {
        "id": "VMN5LXCRNsaD"
      },
      "execution_count": null,
      "outputs": []
    },
    {
      "cell_type": "markdown",
      "source": [
        "#### Obtendo um dataset de avaliações de produtos\n",
        "Utilizaremos um dataset open-source disponibilizado pela empresa B2W com avaliações de produtos coleatadas no site de e-commerce Americanas, mantido neste [repositório GitHub](https://github.com/americanas-tech/b2w-reviews01/)."
      ],
      "metadata": {
        "id": "13d0efC7zSZY"
      }
    },
    {
      "cell_type": "code",
      "source": [
        "!wget https://github.com/americanas-tech/b2w-reviews01/raw/main/B2W-Reviews01.csv\n",
        "!ls"
      ],
      "metadata": {
        "colab": {
          "base_uri": "https://localhost:8080/"
        },
        "id": "MYYoGHKi0HBi",
        "outputId": "1f528e25-dc5e-4667-978e-18745cf01127"
      },
      "execution_count": null,
      "outputs": [
        {
          "output_type": "stream",
          "name": "stdout",
          "text": [
            "--2024-08-16 00:37:05--  https://github.com/americanas-tech/b2w-reviews01/raw/main/B2W-Reviews01.csv\n",
            "Resolving github.com (github.com)... 140.82.114.3\n",
            "Connecting to github.com (github.com)|140.82.114.3|:443... connected.\n",
            "HTTP request sent, awaiting response... 302 Found\n",
            "Location: https://raw.githubusercontent.com/americanas-tech/b2w-reviews01/main/B2W-Reviews01.csv [following]\n",
            "--2024-08-16 00:37:06--  https://raw.githubusercontent.com/americanas-tech/b2w-reviews01/main/B2W-Reviews01.csv\n",
            "Resolving raw.githubusercontent.com (raw.githubusercontent.com)... 185.199.108.133, 185.199.109.133, 185.199.110.133, ...\n",
            "Connecting to raw.githubusercontent.com (raw.githubusercontent.com)|185.199.108.133|:443... connected.\n",
            "HTTP request sent, awaiting response... 200 OK\n",
            "Length: 49453175 (47M) [text/plain]\n",
            "Saving to: ‘B2W-Reviews01.csv.1’\n",
            "\n",
            "B2W-Reviews01.csv.1 100%[===================>]  47.16M   294MB/s    in 0.2s    \n",
            "\n",
            "2024-08-16 00:37:06 (294 MB/s) - ‘B2W-Reviews01.csv.1’ saved [49453175/49453175]\n",
            "\n",
            "B2W-Reviews01.csv  B2W-Reviews01.csv.1\tsample_data\n"
          ]
        }
      ]
    },
    {
      "cell_type": "code",
      "source": [
        "import pandas as pd\n",
        "import time\n",
        "import numpy as np"
      ],
      "metadata": {
        "id": "-Qa9RGXF5Dlc"
      },
      "execution_count": null,
      "outputs": []
    },
    {
      "cell_type": "code",
      "source": [
        "reviews_df = pd.read_csv(\"B2W-Reviews01.csv\")\n",
        "reviews_df = reviews_df[~reviews_df[\"review_text\"].isna()].reset_index(drop=True)\n",
        "reviews_df[\"product_brand\"] = reviews_df[\"product_brand\"].fillna(\"\")"
      ],
      "metadata": {
        "colab": {
          "base_uri": "https://localhost:8080/"
        },
        "id": "1HEwF9iB5Fhz",
        "outputId": "c5d1d0da-2ddf-454d-9e85-fa7892579549"
      },
      "execution_count": null,
      "outputs": [
        {
          "output_type": "stream",
          "name": "stderr",
          "text": [
            "<ipython-input-13-04c2d0353b55>:1: DtypeWarning: Columns (2) have mixed types. Specify dtype option on import or set low_memory=False.\n",
            "  reviews_df = pd.read_csv(\"B2W-Reviews01.csv\")\n"
          ]
        }
      ]
    },
    {
      "cell_type": "code",
      "source": [
        "len(reviews_df)"
      ],
      "metadata": {
        "colab": {
          "base_uri": "https://localhost:8080/"
        },
        "id": "0AvXp0mTPVkB",
        "outputId": "549d241a-4f30-4b25-ad5b-dd18c22682a1"
      },
      "execution_count": null,
      "outputs": [
        {
          "output_type": "execute_result",
          "data": {
            "text/plain": [
              "129098"
            ]
          },
          "metadata": {},
          "execution_count": 34
        }
      ]
    },
    {
      "cell_type": "code",
      "source": [
        "reviews_df.head()"
      ],
      "metadata": {
        "colab": {
          "base_uri": "https://localhost:8080/",
          "height": 590
        },
        "id": "ECys-p0ojupG",
        "outputId": "4d1d404f-b6e4-4b89-fa84-7c3d13071dfe"
      },
      "execution_count": null,
      "outputs": [
        {
          "output_type": "execute_result",
          "data": {
            "text/plain": [
              "       submission_date                                        reviewer_id  \\\n",
              "0  2018-01-01 00:11:28  d0fb1ca69422530334178f5c8624aa7a99da47907c44de...   \n",
              "1  2018-01-01 00:13:48  014d6dc5a10aed1ff1e6f349fb2b059a2d3de511c7538a...   \n",
              "2  2018-01-01 00:26:02  44f2c8edd93471926fff601274b8b2b5c4824e386ae4f2...   \n",
              "3  2018-01-01 00:35:54  ce741665c1764ab2d77539e18d0e4f66dde6213c9f0863...   \n",
              "4  2018-01-01 01:00:28  7d7b6b18dda804a897359276cef0ca252f9932bf4b5c8e...   \n",
              "\n",
              "  product_id                                       product_name  \\\n",
              "0  132532965  Notebook Asus Vivobook Max X541NA-GO472T Intel...   \n",
              "1   22562178               Copo Acrílico Com Canudo 500ml Rocie   \n",
              "2  113022329  Panela de Pressão Elétrica Philips Walita Dail...   \n",
              "3  113851581               Betoneira Columbus - Roma Brinquedos   \n",
              "4  131788803  Smart TV LED 43\" LG 43UJ6525 Ultra HD 4K com C...   \n",
              "\n",
              "    product_brand      site_category_lv1       site_category_lv2  \\\n",
              "0                            Informática                Notebook   \n",
              "1                  Utilidades Domésticas  Copos, Taças e Canecas   \n",
              "2  philips walita        Eletroportáteis         Panela Elétrica   \n",
              "3     roma jensen             Brinquedos   Veículos de Brinquedo   \n",
              "4              lg      TV e Home Theater                      TV   \n",
              "\n",
              "                       review_title  overall_rating recommend_to_a_friend  \\\n",
              "0                               Bom               4                   Yes   \n",
              "1  Preço imbatível, ótima qualidade               4                   Yes   \n",
              "2      ATENDE TODAS AS EXPECTATIVA.               4                   Yes   \n",
              "3        presente mais que desejado               4                   Yes   \n",
              "4            Sem duvidas, excelente               5                   Yes   \n",
              "\n",
              "                                         review_text  reviewer_birth_year  \\\n",
              "0  Estou contente com a compra entrega rápida o ú...               1958.0   \n",
              "1  Por apenas R$1994.20,eu consegui comprar esse ...               1996.0   \n",
              "2  SUPERA EM AGILIDADE E PRATICIDADE OUTRAS PANEL...               1984.0   \n",
              "3  MEU FILHO AMOU! PARECE DE VERDADE COM TANTOS D...               1985.0   \n",
              "4  A entrega foi no prazo, as americanas estão de...               1994.0   \n",
              "\n",
              "  reviewer_gender reviewer_state  \n",
              "0               F             RJ  \n",
              "1               M             SC  \n",
              "2               M             SP  \n",
              "3               F             SP  \n",
              "4               M             MG  "
            ],
            "text/html": [
              "\n",
              "  <div id=\"df-d2d331a1-a3ac-47bb-9901-b395f1e4877e\" class=\"colab-df-container\">\n",
              "    <div>\n",
              "<style scoped>\n",
              "    .dataframe tbody tr th:only-of-type {\n",
              "        vertical-align: middle;\n",
              "    }\n",
              "\n",
              "    .dataframe tbody tr th {\n",
              "        vertical-align: top;\n",
              "    }\n",
              "\n",
              "    .dataframe thead th {\n",
              "        text-align: right;\n",
              "    }\n",
              "</style>\n",
              "<table border=\"1\" class=\"dataframe\">\n",
              "  <thead>\n",
              "    <tr style=\"text-align: right;\">\n",
              "      <th></th>\n",
              "      <th>submission_date</th>\n",
              "      <th>reviewer_id</th>\n",
              "      <th>product_id</th>\n",
              "      <th>product_name</th>\n",
              "      <th>product_brand</th>\n",
              "      <th>site_category_lv1</th>\n",
              "      <th>site_category_lv2</th>\n",
              "      <th>review_title</th>\n",
              "      <th>overall_rating</th>\n",
              "      <th>recommend_to_a_friend</th>\n",
              "      <th>review_text</th>\n",
              "      <th>reviewer_birth_year</th>\n",
              "      <th>reviewer_gender</th>\n",
              "      <th>reviewer_state</th>\n",
              "    </tr>\n",
              "  </thead>\n",
              "  <tbody>\n",
              "    <tr>\n",
              "      <th>0</th>\n",
              "      <td>2018-01-01 00:11:28</td>\n",
              "      <td>d0fb1ca69422530334178f5c8624aa7a99da47907c44de...</td>\n",
              "      <td>132532965</td>\n",
              "      <td>Notebook Asus Vivobook Max X541NA-GO472T Intel...</td>\n",
              "      <td></td>\n",
              "      <td>Informática</td>\n",
              "      <td>Notebook</td>\n",
              "      <td>Bom</td>\n",
              "      <td>4</td>\n",
              "      <td>Yes</td>\n",
              "      <td>Estou contente com a compra entrega rápida o ú...</td>\n",
              "      <td>1958.0</td>\n",
              "      <td>F</td>\n",
              "      <td>RJ</td>\n",
              "    </tr>\n",
              "    <tr>\n",
              "      <th>1</th>\n",
              "      <td>2018-01-01 00:13:48</td>\n",
              "      <td>014d6dc5a10aed1ff1e6f349fb2b059a2d3de511c7538a...</td>\n",
              "      <td>22562178</td>\n",
              "      <td>Copo Acrílico Com Canudo 500ml Rocie</td>\n",
              "      <td></td>\n",
              "      <td>Utilidades Domésticas</td>\n",
              "      <td>Copos, Taças e Canecas</td>\n",
              "      <td>Preço imbatível, ótima qualidade</td>\n",
              "      <td>4</td>\n",
              "      <td>Yes</td>\n",
              "      <td>Por apenas R$1994.20,eu consegui comprar esse ...</td>\n",
              "      <td>1996.0</td>\n",
              "      <td>M</td>\n",
              "      <td>SC</td>\n",
              "    </tr>\n",
              "    <tr>\n",
              "      <th>2</th>\n",
              "      <td>2018-01-01 00:26:02</td>\n",
              "      <td>44f2c8edd93471926fff601274b8b2b5c4824e386ae4f2...</td>\n",
              "      <td>113022329</td>\n",
              "      <td>Panela de Pressão Elétrica Philips Walita Dail...</td>\n",
              "      <td>philips walita</td>\n",
              "      <td>Eletroportáteis</td>\n",
              "      <td>Panela Elétrica</td>\n",
              "      <td>ATENDE TODAS AS EXPECTATIVA.</td>\n",
              "      <td>4</td>\n",
              "      <td>Yes</td>\n",
              "      <td>SUPERA EM AGILIDADE E PRATICIDADE OUTRAS PANEL...</td>\n",
              "      <td>1984.0</td>\n",
              "      <td>M</td>\n",
              "      <td>SP</td>\n",
              "    </tr>\n",
              "    <tr>\n",
              "      <th>3</th>\n",
              "      <td>2018-01-01 00:35:54</td>\n",
              "      <td>ce741665c1764ab2d77539e18d0e4f66dde6213c9f0863...</td>\n",
              "      <td>113851581</td>\n",
              "      <td>Betoneira Columbus - Roma Brinquedos</td>\n",
              "      <td>roma jensen</td>\n",
              "      <td>Brinquedos</td>\n",
              "      <td>Veículos de Brinquedo</td>\n",
              "      <td>presente mais que desejado</td>\n",
              "      <td>4</td>\n",
              "      <td>Yes</td>\n",
              "      <td>MEU FILHO AMOU! PARECE DE VERDADE COM TANTOS D...</td>\n",
              "      <td>1985.0</td>\n",
              "      <td>F</td>\n",
              "      <td>SP</td>\n",
              "    </tr>\n",
              "    <tr>\n",
              "      <th>4</th>\n",
              "      <td>2018-01-01 01:00:28</td>\n",
              "      <td>7d7b6b18dda804a897359276cef0ca252f9932bf4b5c8e...</td>\n",
              "      <td>131788803</td>\n",
              "      <td>Smart TV LED 43\" LG 43UJ6525 Ultra HD 4K com C...</td>\n",
              "      <td>lg</td>\n",
              "      <td>TV e Home Theater</td>\n",
              "      <td>TV</td>\n",
              "      <td>Sem duvidas, excelente</td>\n",
              "      <td>5</td>\n",
              "      <td>Yes</td>\n",
              "      <td>A entrega foi no prazo, as americanas estão de...</td>\n",
              "      <td>1994.0</td>\n",
              "      <td>M</td>\n",
              "      <td>MG</td>\n",
              "    </tr>\n",
              "  </tbody>\n",
              "</table>\n",
              "</div>\n",
              "    <div class=\"colab-df-buttons\">\n",
              "\n",
              "  <div class=\"colab-df-container\">\n",
              "    <button class=\"colab-df-convert\" onclick=\"convertToInteractive('df-d2d331a1-a3ac-47bb-9901-b395f1e4877e')\"\n",
              "            title=\"Convert this dataframe to an interactive table.\"\n",
              "            style=\"display:none;\">\n",
              "\n",
              "  <svg xmlns=\"http://www.w3.org/2000/svg\" height=\"24px\" viewBox=\"0 -960 960 960\">\n",
              "    <path d=\"M120-120v-720h720v720H120Zm60-500h600v-160H180v160Zm220 220h160v-160H400v160Zm0 220h160v-160H400v160ZM180-400h160v-160H180v160Zm440 0h160v-160H620v160ZM180-180h160v-160H180v160Zm440 0h160v-160H620v160Z\"/>\n",
              "  </svg>\n",
              "    </button>\n",
              "\n",
              "  <style>\n",
              "    .colab-df-container {\n",
              "      display:flex;\n",
              "      gap: 12px;\n",
              "    }\n",
              "\n",
              "    .colab-df-convert {\n",
              "      background-color: #E8F0FE;\n",
              "      border: none;\n",
              "      border-radius: 50%;\n",
              "      cursor: pointer;\n",
              "      display: none;\n",
              "      fill: #1967D2;\n",
              "      height: 32px;\n",
              "      padding: 0 0 0 0;\n",
              "      width: 32px;\n",
              "    }\n",
              "\n",
              "    .colab-df-convert:hover {\n",
              "      background-color: #E2EBFA;\n",
              "      box-shadow: 0px 1px 2px rgba(60, 64, 67, 0.3), 0px 1px 3px 1px rgba(60, 64, 67, 0.15);\n",
              "      fill: #174EA6;\n",
              "    }\n",
              "\n",
              "    .colab-df-buttons div {\n",
              "      margin-bottom: 4px;\n",
              "    }\n",
              "\n",
              "    [theme=dark] .colab-df-convert {\n",
              "      background-color: #3B4455;\n",
              "      fill: #D2E3FC;\n",
              "    }\n",
              "\n",
              "    [theme=dark] .colab-df-convert:hover {\n",
              "      background-color: #434B5C;\n",
              "      box-shadow: 0px 1px 3px 1px rgba(0, 0, 0, 0.15);\n",
              "      filter: drop-shadow(0px 1px 2px rgba(0, 0, 0, 0.3));\n",
              "      fill: #FFFFFF;\n",
              "    }\n",
              "  </style>\n",
              "\n",
              "    <script>\n",
              "      const buttonEl =\n",
              "        document.querySelector('#df-d2d331a1-a3ac-47bb-9901-b395f1e4877e button.colab-df-convert');\n",
              "      buttonEl.style.display =\n",
              "        google.colab.kernel.accessAllowed ? 'block' : 'none';\n",
              "\n",
              "      async function convertToInteractive(key) {\n",
              "        const element = document.querySelector('#df-d2d331a1-a3ac-47bb-9901-b395f1e4877e');\n",
              "        const dataTable =\n",
              "          await google.colab.kernel.invokeFunction('convertToInteractive',\n",
              "                                                    [key], {});\n",
              "        if (!dataTable) return;\n",
              "\n",
              "        const docLinkHtml = 'Like what you see? Visit the ' +\n",
              "          '<a target=\"_blank\" href=https://colab.research.google.com/notebooks/data_table.ipynb>data table notebook</a>'\n",
              "          + ' to learn more about interactive tables.';\n",
              "        element.innerHTML = '';\n",
              "        dataTable['output_type'] = 'display_data';\n",
              "        await google.colab.output.renderOutput(dataTable, element);\n",
              "        const docLink = document.createElement('div');\n",
              "        docLink.innerHTML = docLinkHtml;\n",
              "        element.appendChild(docLink);\n",
              "      }\n",
              "    </script>\n",
              "  </div>\n",
              "\n",
              "\n",
              "<div id=\"df-4df3e3cc-62e3-486c-ae5b-17864f60497e\">\n",
              "  <button class=\"colab-df-quickchart\" onclick=\"quickchart('df-4df3e3cc-62e3-486c-ae5b-17864f60497e')\"\n",
              "            title=\"Suggest charts\"\n",
              "            style=\"display:none;\">\n",
              "\n",
              "<svg xmlns=\"http://www.w3.org/2000/svg\" height=\"24px\"viewBox=\"0 0 24 24\"\n",
              "     width=\"24px\">\n",
              "    <g>\n",
              "        <path d=\"M19 3H5c-1.1 0-2 .9-2 2v14c0 1.1.9 2 2 2h14c1.1 0 2-.9 2-2V5c0-1.1-.9-2-2-2zM9 17H7v-7h2v7zm4 0h-2V7h2v10zm4 0h-2v-4h2v4z\"/>\n",
              "    </g>\n",
              "</svg>\n",
              "  </button>\n",
              "\n",
              "<style>\n",
              "  .colab-df-quickchart {\n",
              "      --bg-color: #E8F0FE;\n",
              "      --fill-color: #1967D2;\n",
              "      --hover-bg-color: #E2EBFA;\n",
              "      --hover-fill-color: #174EA6;\n",
              "      --disabled-fill-color: #AAA;\n",
              "      --disabled-bg-color: #DDD;\n",
              "  }\n",
              "\n",
              "  [theme=dark] .colab-df-quickchart {\n",
              "      --bg-color: #3B4455;\n",
              "      --fill-color: #D2E3FC;\n",
              "      --hover-bg-color: #434B5C;\n",
              "      --hover-fill-color: #FFFFFF;\n",
              "      --disabled-bg-color: #3B4455;\n",
              "      --disabled-fill-color: #666;\n",
              "  }\n",
              "\n",
              "  .colab-df-quickchart {\n",
              "    background-color: var(--bg-color);\n",
              "    border: none;\n",
              "    border-radius: 50%;\n",
              "    cursor: pointer;\n",
              "    display: none;\n",
              "    fill: var(--fill-color);\n",
              "    height: 32px;\n",
              "    padding: 0;\n",
              "    width: 32px;\n",
              "  }\n",
              "\n",
              "  .colab-df-quickchart:hover {\n",
              "    background-color: var(--hover-bg-color);\n",
              "    box-shadow: 0 1px 2px rgba(60, 64, 67, 0.3), 0 1px 3px 1px rgba(60, 64, 67, 0.15);\n",
              "    fill: var(--button-hover-fill-color);\n",
              "  }\n",
              "\n",
              "  .colab-df-quickchart-complete:disabled,\n",
              "  .colab-df-quickchart-complete:disabled:hover {\n",
              "    background-color: var(--disabled-bg-color);\n",
              "    fill: var(--disabled-fill-color);\n",
              "    box-shadow: none;\n",
              "  }\n",
              "\n",
              "  .colab-df-spinner {\n",
              "    border: 2px solid var(--fill-color);\n",
              "    border-color: transparent;\n",
              "    border-bottom-color: var(--fill-color);\n",
              "    animation:\n",
              "      spin 1s steps(1) infinite;\n",
              "  }\n",
              "\n",
              "  @keyframes spin {\n",
              "    0% {\n",
              "      border-color: transparent;\n",
              "      border-bottom-color: var(--fill-color);\n",
              "      border-left-color: var(--fill-color);\n",
              "    }\n",
              "    20% {\n",
              "      border-color: transparent;\n",
              "      border-left-color: var(--fill-color);\n",
              "      border-top-color: var(--fill-color);\n",
              "    }\n",
              "    30% {\n",
              "      border-color: transparent;\n",
              "      border-left-color: var(--fill-color);\n",
              "      border-top-color: var(--fill-color);\n",
              "      border-right-color: var(--fill-color);\n",
              "    }\n",
              "    40% {\n",
              "      border-color: transparent;\n",
              "      border-right-color: var(--fill-color);\n",
              "      border-top-color: var(--fill-color);\n",
              "    }\n",
              "    60% {\n",
              "      border-color: transparent;\n",
              "      border-right-color: var(--fill-color);\n",
              "    }\n",
              "    80% {\n",
              "      border-color: transparent;\n",
              "      border-right-color: var(--fill-color);\n",
              "      border-bottom-color: var(--fill-color);\n",
              "    }\n",
              "    90% {\n",
              "      border-color: transparent;\n",
              "      border-bottom-color: var(--fill-color);\n",
              "    }\n",
              "  }\n",
              "</style>\n",
              "\n",
              "  <script>\n",
              "    async function quickchart(key) {\n",
              "      const quickchartButtonEl =\n",
              "        document.querySelector('#' + key + ' button');\n",
              "      quickchartButtonEl.disabled = true;  // To prevent multiple clicks.\n",
              "      quickchartButtonEl.classList.add('colab-df-spinner');\n",
              "      try {\n",
              "        const charts = await google.colab.kernel.invokeFunction(\n",
              "            'suggestCharts', [key], {});\n",
              "      } catch (error) {\n",
              "        console.error('Error during call to suggestCharts:', error);\n",
              "      }\n",
              "      quickchartButtonEl.classList.remove('colab-df-spinner');\n",
              "      quickchartButtonEl.classList.add('colab-df-quickchart-complete');\n",
              "    }\n",
              "    (() => {\n",
              "      let quickchartButtonEl =\n",
              "        document.querySelector('#df-4df3e3cc-62e3-486c-ae5b-17864f60497e button');\n",
              "      quickchartButtonEl.style.display =\n",
              "        google.colab.kernel.accessAllowed ? 'block' : 'none';\n",
              "    })();\n",
              "  </script>\n",
              "</div>\n",
              "\n",
              "    </div>\n",
              "  </div>\n"
            ],
            "application/vnd.google.colaboratory.intrinsic+json": {
              "type": "dataframe",
              "variable_name": "reviews_df"
            }
          },
          "metadata": {},
          "execution_count": 35
        }
      ]
    },
    {
      "cell_type": "markdown",
      "source": [
        "## Classificação  de Sentimentos\n",
        "Vamos criar um prompt que classifique o sentimento associado à uma avaliação de cliente."
      ],
      "metadata": {
        "id": "N37xXeFOA-e4"
      }
    },
    {
      "cell_type": "code",
      "source": [
        "def classificar_sentimentos(texto):\n",
        "  prompt = \"Classifique o sentimento como positivo ou negativo da seguinte avaliação de produtos de um cliente. \\n\\n \" + texto\n",
        "  return generate(prompt)"
      ],
      "metadata": {
        "id": "W2fkj4KV8RgK"
      },
      "execution_count": null,
      "outputs": []
    },
    {
      "cell_type": "code",
      "source": [
        "avaliacao = reviews_df.loc[0]['review_text']\n",
        "print(avaliacao)\n",
        "print(classificar_sentimentos(avaliacao))"
      ],
      "metadata": {
        "colab": {
          "base_uri": "https://localhost:8080/",
          "height": 178
        },
        "id": "9Rll7JFVuTO9",
        "outputId": "d24ebcf6-5bd0-466b-dfa9-0e8f17dc3a09"
      },
      "execution_count": null,
      "outputs": [
        {
          "output_type": "stream",
          "name": "stdout",
          "text": [
            "Estou contente com a compra entrega rápida o único problema com as Americanas é se houver troca ou devolução do produto o consumidor tem problemas com espera.\n",
            "O sentimento da avaliação do cliente é **misto**. \n",
            "\n",
            "* **Positivo:** O cliente está \"contente com a compra\" e elogia a \"entrega rápida\".\n",
            "* **Negativo:** O cliente expressa  \"problema\" com o processo de troca ou devolução, mencionando \"espera\" como um fator negativo. \n",
            "\n",
            "Embora a experiência geral seja positiva, a insatisfação com a política de troca/devolução torna o sentimento geral  misto. \n",
            "\n"
          ]
        }
      ]
    },
    {
      "cell_type": "code",
      "source": [
        "def classificar_sentimentos_v2(texto):\n",
        "  prompt = \"Classifique o sentimento como positivo ou negativo da seguinte avaliação de produtos de um cliente. \" + \\\n",
        "           \"Responda apenas 'Positivo', 'Negativo' ou 'Misto', sem detalhar a resposta.  \\n\\n \" + texto\n",
        "  return generate(prompt).strip()"
      ],
      "metadata": {
        "id": "oEO3yORWZqbY"
      },
      "execution_count": null,
      "outputs": []
    },
    {
      "cell_type": "code",
      "source": [
        "for i in range(20):\n",
        "  avaliacao = reviews_df.loc[i]['review_text']\n",
        "  print(avaliacao)\n",
        "  print(\"Sentimento:\", classificar_sentimentos_v2(avaliacao))\n",
        "  print(\"\")\n",
        "  time.sleep(0.1)"
      ],
      "metadata": {
        "colab": {
          "base_uri": "https://localhost:8080/",
          "height": 1000
        },
        "id": "CeBqYEXoutr9",
        "outputId": "7987f088-3c36-499f-8e17-6f2203fe8eb7"
      },
      "execution_count": null,
      "outputs": [
        {
          "output_type": "stream",
          "name": "stdout",
          "text": [
            "Estou contente com a compra entrega rápida o único problema com as Americanas é se houver troca ou devolução do produto o consumidor tem problemas com espera.\n",
            "Sentimento: Misto\n",
            "\n",
            "Por apenas R$1994.20,eu consegui comprar esse lindo copo de acrílico.\n",
            "Sentimento: Misto\n",
            "\n",
            "SUPERA EM AGILIDADE E PRATICIDADE OUTRAS PANELAS ELÉTRICAS.  COSTUMO USAR OUTRA PANELA PARA COZIMENTO DE ARROZ (JAPONESA), MAS LEVA MUITO TEMPO,  +/- 50 MINUTOS.  NESSA PANELA  É MUITO MAIS RÁPIDO, EXATAMENTE 6 MINUTOS.    EU RECOMENDO.\n",
            "Sentimento: Positivo\n",
            "\n",
            "MEU FILHO AMOU! PARECE DE VERDADE COM TANTOS DETALHES QUE TÊM!\n",
            "Sentimento: Positivo\n",
            "\n",
            "A entrega foi no prazo, as americanas estão de parabéns. A smart tv é muito boa, a navegação na internete e pelos aplicativos e excelente, não trava, sem falar da imagem que é de surpreender. recomendo.\n",
            "Sentimento: Positivo\n",
            "\n",
            "Excelente produto, por fora em material acrílico super resistente e por dentro em adamantio, faz milagre com qualquer bebida. Sugiro aproveitarem a promoção antes que acabe.\n",
            "Sentimento: Positivo\n",
            "\n",
            "produto mto bom, com essa garrafinha vc pode até servir água pro megazord. To pensando em vender minha tv pra comprar 1 garrafa dessa. RECOMENDO\n",
            "Sentimento: Positivo\n",
            "\n",
            "Produto excelente qualidade boa câmera desenvolvimento do Android com rapidez\n",
            "Sentimento: Positivo\n",
            "\n",
            "O barulho e minimo e o vento é bem forte na velocidade 2\n",
            "Sentimento: Misto\n",
            "\n",
            "MEU PRODUTO NAO FOI ENTREGUE E A AMERICANAS ESTA DESCONTANDO NA FATURA DO MEU CARTÃO\n",
            "Sentimento: Negativo\n",
            "\n",
            "Comprei um pra cara membro da família nesse natal@!!!!\n",
            "Sentimento: Positivo\n",
            "\n",
            "Produto maravilhoso! Não é barulhento, fácil manuseio, tranquilo de montar e desmontar, entrega antes do prazo mesmo se tratando de época do Natal. Americanas de parabéns e o produto muito bom. Recomendo com força.\n",
            "Sentimento: Positivo\n",
            "\n",
            "Jogo de panelas excelente material, entrega a tempo, design muito bom.\n",
            "Sentimento: Positivo\n",
            "\n",
            "Esse celular não vale nada a bateria não vale nada descarrega sozinha quando estar usando esquenta tanto que faz medo espludi foi a pior compra da minha vida se eu tivesse condições quebrava ele em mil pedaços e comprava outro de qualquer marca menos Motorola\n",
            "Sentimento: Negativo\n",
            "\n",
            "produto de acordo com o que eu esperava. Somente o prazo de entrega que ficou um pouco a desejar, um pouco longo\n",
            "Sentimento: Misto\n",
            "\n",
            "a mochila nao esta fechando direito por isso nao recomendo se meu filho nao tivesse deixado suja ia devolver\n",
            "Sentimento: Negativo\n",
            "\n",
            "Produto condizente com o anúncio, com material de boa qualidade, fácil instalação, montagem e preço de acordo com a necessidade de cada um...\n",
            "Sentimento: Positivo\n",
            "\n",
            "nao tenho nada a reclamar, bom atendimento e entrega dentro do combinado.\n",
            "Sentimento: Positivo\n",
            "\n",
            "Até agora os produtos que eu comprei foram entregue certo. Obrigado que continua assim.\n",
            "Sentimento: Positivo\n",
            "\n",
            "A capa não decepcionou por enquanto, mas a bolsa para guarda ou transporte é extremamente frágil, na abertura para conferência já rasgou toda a volta junto ao fecho. Péssima impressão, terei que guarda-la noutra embalagem. Uma pena!!!!!\n",
            "Sentimento: Negativo\n",
            "\n"
          ]
        }
      ]
    },
    {
      "cell_type": "markdown",
      "source": [
        "## Estimativa de Rating\n",
        "Temos no dataset o rating atribuído pelo cliente ao produto. Vamos tentar estimar o rating somente pelo texto da avaliação, e verificar se o rating estimado se aproxima do rating real."
      ],
      "metadata": {
        "id": "aliFT_49BEdC"
      }
    },
    {
      "cell_type": "code",
      "source": [
        "import re\n",
        "def estimar_rating(texto):\n",
        "  prompt = \"Classifique o sentimento da seguinte avaliação de produtos de um cliente, em uma escala de 1 a 5, \" \\\n",
        "           \"onde 1 significa uma avaliação péssima e 5 significa uma avaliação excelente. \"\\\n",
        "           \"Responda apenas um número entre 1 e 5, sem detalhar a resposta. \\n\\n \" + texto\n",
        "  answer = generate(prompt)\n",
        "  rating = int(re.findall(r'\\d+', answer)[0])\n",
        "  return rating"
      ],
      "metadata": {
        "id": "GceBYyAP_Rk5"
      },
      "execution_count": null,
      "outputs": []
    },
    {
      "cell_type": "code",
      "source": [
        "avaliacao = reviews_df.loc[0]['review_text']\n",
        "print(avaliacao)\n",
        "print(\"Rating real:\", reviews_df.loc[0][\"overall_rating\"])\n",
        "print(\"Rating estimado:\", estimar_rating(avaliacao))"
      ],
      "metadata": {
        "colab": {
          "base_uri": "https://localhost:8080/",
          "height": 90
        },
        "id": "pAHESKQe_rY6",
        "outputId": "6b02b73d-ce33-4828-eb81-5528ad3e3779"
      },
      "execution_count": null,
      "outputs": [
        {
          "output_type": "stream",
          "name": "stdout",
          "text": [
            "Estou contente com a compra entrega rápida o único problema com as Americanas é se houver troca ou devolução do produto o consumidor tem problemas com espera.\n",
            "Rating real: 4\n",
            "Rating estimado: 3\n"
          ]
        }
      ]
    },
    {
      "cell_type": "code",
      "source": [
        "ratings_reais = []\n",
        "ratings_estimados = []\n",
        "for i in range(15):\n",
        "  exemplo = reviews_df.loc[i]\n",
        "  avaliacao = exemplo['review_text']\n",
        "  print(avaliacao)\n",
        "  rating_estimado = estimar_rating(avaliacao)\n",
        "  ratings_estimados.append(int(rating_estimado))\n",
        "  ratings_reais.append(int(exemplo[\"overall_rating\"]))\n",
        "  print(\"Rating real:\", exemplo[\"overall_rating\"])\n",
        "  print(\"Rating estimado:\", rating_estimado)\n",
        "  print(\"\")\n",
        "  time.sleep(0.5)"
      ],
      "metadata": {
        "colab": {
          "base_uri": "https://localhost:8080/",
          "height": 1000
        },
        "id": "OJFmxVVquSb-",
        "outputId": "37411dc6-e0a7-41ce-cfd3-83e3d1622e95"
      },
      "execution_count": null,
      "outputs": [
        {
          "output_type": "stream",
          "name": "stdout",
          "text": [
            "Estou contente com a compra entrega rápida o único problema com as Americanas é se houver troca ou devolução do produto o consumidor tem problemas com espera.\n",
            "Rating real: 4\n",
            "Rating estimado: 3\n",
            "\n",
            "Por apenas R$1994.20,eu consegui comprar esse lindo copo de acrílico.\n",
            "Rating real: 4\n",
            "Rating estimado: 3\n",
            "\n",
            "SUPERA EM AGILIDADE E PRATICIDADE OUTRAS PANELAS ELÉTRICAS.  COSTUMO USAR OUTRA PANELA PARA COZIMENTO DE ARROZ (JAPONESA), MAS LEVA MUITO TEMPO,  +/- 50 MINUTOS.  NESSA PANELA  É MUITO MAIS RÁPIDO, EXATAMENTE 6 MINUTOS.    EU RECOMENDO.\n",
            "Rating real: 4\n",
            "Rating estimado: 4\n",
            "\n",
            "MEU FILHO AMOU! PARECE DE VERDADE COM TANTOS DETALHES QUE TÊM!\n",
            "Rating real: 4\n",
            "Rating estimado: 5\n",
            "\n",
            "A entrega foi no prazo, as americanas estão de parabéns. A smart tv é muito boa, a navegação na internete e pelos aplicativos e excelente, não trava, sem falar da imagem que é de surpreender. recomendo.\n",
            "Rating real: 5\n",
            "Rating estimado: 5\n",
            "\n",
            "Excelente produto, por fora em material acrílico super resistente e por dentro em adamantio, faz milagre com qualquer bebida. Sugiro aproveitarem a promoção antes que acabe.\n",
            "Rating real: 5\n",
            "Rating estimado: 5\n",
            "\n",
            "produto mto bom, com essa garrafinha vc pode até servir água pro megazord. To pensando em vender minha tv pra comprar 1 garrafa dessa. RECOMENDO\n",
            "Rating real: 5\n",
            "Rating estimado: 5\n",
            "\n",
            "Produto excelente qualidade boa câmera desenvolvimento do Android com rapidez\n",
            "Rating real: 4\n",
            "Rating estimado: 4\n",
            "\n",
            "O barulho e minimo e o vento é bem forte na velocidade 2\n",
            "Rating real: 5\n",
            "Rating estimado: 3\n",
            "\n",
            "MEU PRODUTO NAO FOI ENTREGUE E A AMERICANAS ESTA DESCONTANDO NA FATURA DO MEU CARTÃO\n",
            "Rating real: 1\n",
            "Rating estimado: 1\n",
            "\n",
            "Comprei um pra cara membro da família nesse natal@!!!!\n",
            "Rating real: 5\n",
            "Rating estimado: 3\n",
            "\n",
            "Produto maravilhoso! Não é barulhento, fácil manuseio, tranquilo de montar e desmontar, entrega antes do prazo mesmo se tratando de época do Natal. Americanas de parabéns e o produto muito bom. Recomendo com força.\n",
            "Rating real: 5\n",
            "Rating estimado: 5\n",
            "\n",
            "Jogo de panelas excelente material, entrega a tempo, design muito bom.\n",
            "Rating real: 5\n",
            "Rating estimado: 5\n",
            "\n",
            "Esse celular não vale nada a bateria não vale nada descarrega sozinha quando estar usando esquenta tanto que faz medo espludi foi a pior compra da minha vida se eu tivesse condições quebrava ele em mil pedaços e comprava outro de qualquer marca menos Motorola\n",
            "Rating real: 1\n",
            "Rating estimado: 1\n",
            "\n",
            "produto de acordo com o que eu esperava. Somente o prazo de entrega que ficou um pouco a desejar, um pouco longo\n",
            "Rating real: 5\n",
            "Rating estimado: 3\n",
            "\n"
          ]
        }
      ]
    },
    {
      "cell_type": "code",
      "source": [
        "ratings_df = pd.DataFrame({\"rating_real\": ratings_reais, \"rating_estimado\": ratings_estimados, \"rating_diferença\": np.array(ratings_reais)- np.array(ratings_estimados)})\n",
        "ratings_df.head()"
      ],
      "metadata": {
        "colab": {
          "base_uri": "https://localhost:8080/",
          "height": 206
        },
        "id": "mCFNn8WJeGFy",
        "outputId": "45c0d96e-3be7-461f-b215-4d9e4759d458"
      },
      "execution_count": null,
      "outputs": [
        {
          "output_type": "execute_result",
          "data": {
            "text/plain": [
              "   rating_real  rating_estimado  rating_diferença\n",
              "0            4                3                 1\n",
              "1            4                3                 1\n",
              "2            4                4                 0\n",
              "3            4                5                -1\n",
              "4            5                5                 0"
            ],
            "text/html": [
              "\n",
              "  <div id=\"df-ae38ef86-3dcd-43d1-b3b8-10bd94e8c747\" class=\"colab-df-container\">\n",
              "    <div>\n",
              "<style scoped>\n",
              "    .dataframe tbody tr th:only-of-type {\n",
              "        vertical-align: middle;\n",
              "    }\n",
              "\n",
              "    .dataframe tbody tr th {\n",
              "        vertical-align: top;\n",
              "    }\n",
              "\n",
              "    .dataframe thead th {\n",
              "        text-align: right;\n",
              "    }\n",
              "</style>\n",
              "<table border=\"1\" class=\"dataframe\">\n",
              "  <thead>\n",
              "    <tr style=\"text-align: right;\">\n",
              "      <th></th>\n",
              "      <th>rating_real</th>\n",
              "      <th>rating_estimado</th>\n",
              "      <th>rating_diferença</th>\n",
              "    </tr>\n",
              "  </thead>\n",
              "  <tbody>\n",
              "    <tr>\n",
              "      <th>0</th>\n",
              "      <td>4</td>\n",
              "      <td>3</td>\n",
              "      <td>1</td>\n",
              "    </tr>\n",
              "    <tr>\n",
              "      <th>1</th>\n",
              "      <td>4</td>\n",
              "      <td>3</td>\n",
              "      <td>1</td>\n",
              "    </tr>\n",
              "    <tr>\n",
              "      <th>2</th>\n",
              "      <td>4</td>\n",
              "      <td>4</td>\n",
              "      <td>0</td>\n",
              "    </tr>\n",
              "    <tr>\n",
              "      <th>3</th>\n",
              "      <td>4</td>\n",
              "      <td>5</td>\n",
              "      <td>-1</td>\n",
              "    </tr>\n",
              "    <tr>\n",
              "      <th>4</th>\n",
              "      <td>5</td>\n",
              "      <td>5</td>\n",
              "      <td>0</td>\n",
              "    </tr>\n",
              "  </tbody>\n",
              "</table>\n",
              "</div>\n",
              "    <div class=\"colab-df-buttons\">\n",
              "\n",
              "  <div class=\"colab-df-container\">\n",
              "    <button class=\"colab-df-convert\" onclick=\"convertToInteractive('df-ae38ef86-3dcd-43d1-b3b8-10bd94e8c747')\"\n",
              "            title=\"Convert this dataframe to an interactive table.\"\n",
              "            style=\"display:none;\">\n",
              "\n",
              "  <svg xmlns=\"http://www.w3.org/2000/svg\" height=\"24px\" viewBox=\"0 -960 960 960\">\n",
              "    <path d=\"M120-120v-720h720v720H120Zm60-500h600v-160H180v160Zm220 220h160v-160H400v160Zm0 220h160v-160H400v160ZM180-400h160v-160H180v160Zm440 0h160v-160H620v160ZM180-180h160v-160H180v160Zm440 0h160v-160H620v160Z\"/>\n",
              "  </svg>\n",
              "    </button>\n",
              "\n",
              "  <style>\n",
              "    .colab-df-container {\n",
              "      display:flex;\n",
              "      gap: 12px;\n",
              "    }\n",
              "\n",
              "    .colab-df-convert {\n",
              "      background-color: #E8F0FE;\n",
              "      border: none;\n",
              "      border-radius: 50%;\n",
              "      cursor: pointer;\n",
              "      display: none;\n",
              "      fill: #1967D2;\n",
              "      height: 32px;\n",
              "      padding: 0 0 0 0;\n",
              "      width: 32px;\n",
              "    }\n",
              "\n",
              "    .colab-df-convert:hover {\n",
              "      background-color: #E2EBFA;\n",
              "      box-shadow: 0px 1px 2px rgba(60, 64, 67, 0.3), 0px 1px 3px 1px rgba(60, 64, 67, 0.15);\n",
              "      fill: #174EA6;\n",
              "    }\n",
              "\n",
              "    .colab-df-buttons div {\n",
              "      margin-bottom: 4px;\n",
              "    }\n",
              "\n",
              "    [theme=dark] .colab-df-convert {\n",
              "      background-color: #3B4455;\n",
              "      fill: #D2E3FC;\n",
              "    }\n",
              "\n",
              "    [theme=dark] .colab-df-convert:hover {\n",
              "      background-color: #434B5C;\n",
              "      box-shadow: 0px 1px 3px 1px rgba(0, 0, 0, 0.15);\n",
              "      filter: drop-shadow(0px 1px 2px rgba(0, 0, 0, 0.3));\n",
              "      fill: #FFFFFF;\n",
              "    }\n",
              "  </style>\n",
              "\n",
              "    <script>\n",
              "      const buttonEl =\n",
              "        document.querySelector('#df-ae38ef86-3dcd-43d1-b3b8-10bd94e8c747 button.colab-df-convert');\n",
              "      buttonEl.style.display =\n",
              "        google.colab.kernel.accessAllowed ? 'block' : 'none';\n",
              "\n",
              "      async function convertToInteractive(key) {\n",
              "        const element = document.querySelector('#df-ae38ef86-3dcd-43d1-b3b8-10bd94e8c747');\n",
              "        const dataTable =\n",
              "          await google.colab.kernel.invokeFunction('convertToInteractive',\n",
              "                                                    [key], {});\n",
              "        if (!dataTable) return;\n",
              "\n",
              "        const docLinkHtml = 'Like what you see? Visit the ' +\n",
              "          '<a target=\"_blank\" href=https://colab.research.google.com/notebooks/data_table.ipynb>data table notebook</a>'\n",
              "          + ' to learn more about interactive tables.';\n",
              "        element.innerHTML = '';\n",
              "        dataTable['output_type'] = 'display_data';\n",
              "        await google.colab.output.renderOutput(dataTable, element);\n",
              "        const docLink = document.createElement('div');\n",
              "        docLink.innerHTML = docLinkHtml;\n",
              "        element.appendChild(docLink);\n",
              "      }\n",
              "    </script>\n",
              "  </div>\n",
              "\n",
              "\n",
              "<div id=\"df-31ed3d24-e286-4d61-afcc-de74d8687cb2\">\n",
              "  <button class=\"colab-df-quickchart\" onclick=\"quickchart('df-31ed3d24-e286-4d61-afcc-de74d8687cb2')\"\n",
              "            title=\"Suggest charts\"\n",
              "            style=\"display:none;\">\n",
              "\n",
              "<svg xmlns=\"http://www.w3.org/2000/svg\" height=\"24px\"viewBox=\"0 0 24 24\"\n",
              "     width=\"24px\">\n",
              "    <g>\n",
              "        <path d=\"M19 3H5c-1.1 0-2 .9-2 2v14c0 1.1.9 2 2 2h14c1.1 0 2-.9 2-2V5c0-1.1-.9-2-2-2zM9 17H7v-7h2v7zm4 0h-2V7h2v10zm4 0h-2v-4h2v4z\"/>\n",
              "    </g>\n",
              "</svg>\n",
              "  </button>\n",
              "\n",
              "<style>\n",
              "  .colab-df-quickchart {\n",
              "      --bg-color: #E8F0FE;\n",
              "      --fill-color: #1967D2;\n",
              "      --hover-bg-color: #E2EBFA;\n",
              "      --hover-fill-color: #174EA6;\n",
              "      --disabled-fill-color: #AAA;\n",
              "      --disabled-bg-color: #DDD;\n",
              "  }\n",
              "\n",
              "  [theme=dark] .colab-df-quickchart {\n",
              "      --bg-color: #3B4455;\n",
              "      --fill-color: #D2E3FC;\n",
              "      --hover-bg-color: #434B5C;\n",
              "      --hover-fill-color: #FFFFFF;\n",
              "      --disabled-bg-color: #3B4455;\n",
              "      --disabled-fill-color: #666;\n",
              "  }\n",
              "\n",
              "  .colab-df-quickchart {\n",
              "    background-color: var(--bg-color);\n",
              "    border: none;\n",
              "    border-radius: 50%;\n",
              "    cursor: pointer;\n",
              "    display: none;\n",
              "    fill: var(--fill-color);\n",
              "    height: 32px;\n",
              "    padding: 0;\n",
              "    width: 32px;\n",
              "  }\n",
              "\n",
              "  .colab-df-quickchart:hover {\n",
              "    background-color: var(--hover-bg-color);\n",
              "    box-shadow: 0 1px 2px rgba(60, 64, 67, 0.3), 0 1px 3px 1px rgba(60, 64, 67, 0.15);\n",
              "    fill: var(--button-hover-fill-color);\n",
              "  }\n",
              "\n",
              "  .colab-df-quickchart-complete:disabled,\n",
              "  .colab-df-quickchart-complete:disabled:hover {\n",
              "    background-color: var(--disabled-bg-color);\n",
              "    fill: var(--disabled-fill-color);\n",
              "    box-shadow: none;\n",
              "  }\n",
              "\n",
              "  .colab-df-spinner {\n",
              "    border: 2px solid var(--fill-color);\n",
              "    border-color: transparent;\n",
              "    border-bottom-color: var(--fill-color);\n",
              "    animation:\n",
              "      spin 1s steps(1) infinite;\n",
              "  }\n",
              "\n",
              "  @keyframes spin {\n",
              "    0% {\n",
              "      border-color: transparent;\n",
              "      border-bottom-color: var(--fill-color);\n",
              "      border-left-color: var(--fill-color);\n",
              "    }\n",
              "    20% {\n",
              "      border-color: transparent;\n",
              "      border-left-color: var(--fill-color);\n",
              "      border-top-color: var(--fill-color);\n",
              "    }\n",
              "    30% {\n",
              "      border-color: transparent;\n",
              "      border-left-color: var(--fill-color);\n",
              "      border-top-color: var(--fill-color);\n",
              "      border-right-color: var(--fill-color);\n",
              "    }\n",
              "    40% {\n",
              "      border-color: transparent;\n",
              "      border-right-color: var(--fill-color);\n",
              "      border-top-color: var(--fill-color);\n",
              "    }\n",
              "    60% {\n",
              "      border-color: transparent;\n",
              "      border-right-color: var(--fill-color);\n",
              "    }\n",
              "    80% {\n",
              "      border-color: transparent;\n",
              "      border-right-color: var(--fill-color);\n",
              "      border-bottom-color: var(--fill-color);\n",
              "    }\n",
              "    90% {\n",
              "      border-color: transparent;\n",
              "      border-bottom-color: var(--fill-color);\n",
              "    }\n",
              "  }\n",
              "</style>\n",
              "\n",
              "  <script>\n",
              "    async function quickchart(key) {\n",
              "      const quickchartButtonEl =\n",
              "        document.querySelector('#' + key + ' button');\n",
              "      quickchartButtonEl.disabled = true;  // To prevent multiple clicks.\n",
              "      quickchartButtonEl.classList.add('colab-df-spinner');\n",
              "      try {\n",
              "        const charts = await google.colab.kernel.invokeFunction(\n",
              "            'suggestCharts', [key], {});\n",
              "      } catch (error) {\n",
              "        console.error('Error during call to suggestCharts:', error);\n",
              "      }\n",
              "      quickchartButtonEl.classList.remove('colab-df-spinner');\n",
              "      quickchartButtonEl.classList.add('colab-df-quickchart-complete');\n",
              "    }\n",
              "    (() => {\n",
              "      let quickchartButtonEl =\n",
              "        document.querySelector('#df-31ed3d24-e286-4d61-afcc-de74d8687cb2 button');\n",
              "      quickchartButtonEl.style.display =\n",
              "        google.colab.kernel.accessAllowed ? 'block' : 'none';\n",
              "    })();\n",
              "  </script>\n",
              "</div>\n",
              "\n",
              "    </div>\n",
              "  </div>\n"
            ],
            "application/vnd.google.colaboratory.intrinsic+json": {
              "type": "dataframe",
              "variable_name": "ratings_df",
              "summary": "{\n  \"name\": \"ratings_df\",\n  \"rows\": 15,\n  \"fields\": [\n    {\n      \"column\": \"rating_real\",\n      \"properties\": {\n        \"dtype\": \"number\",\n        \"std\": 1,\n        \"min\": 1,\n        \"max\": 5,\n        \"num_unique_values\": 3,\n        \"samples\": [\n          4,\n          5,\n          1\n        ],\n        \"semantic_type\": \"\",\n        \"description\": \"\"\n      }\n    },\n    {\n      \"column\": \"rating_estimado\",\n      \"properties\": {\n        \"dtype\": \"number\",\n        \"std\": 1,\n        \"min\": 1,\n        \"max\": 5,\n        \"num_unique_values\": 4,\n        \"samples\": [\n          4,\n          1,\n          3\n        ],\n        \"semantic_type\": \"\",\n        \"description\": \"\"\n      }\n    },\n    {\n      \"column\": \"rating_diferen\\u00e7a\",\n      \"properties\": {\n        \"dtype\": \"number\",\n        \"std\": 0,\n        \"min\": -1,\n        \"max\": 2,\n        \"num_unique_values\": 4,\n        \"samples\": [\n          0,\n          2,\n          1\n        ],\n        \"semantic_type\": \"\",\n        \"description\": \"\"\n      }\n    }\n  ]\n}"
            }
          },
          "metadata": {},
          "execution_count": 52
        }
      ]
    },
    {
      "cell_type": "markdown",
      "source": [
        "Distribuição da diferença entre o rating real e o estimado"
      ],
      "metadata": {
        "id": "UHamvkhOerfk"
      }
    },
    {
      "cell_type": "code",
      "source": [
        "ratings_df.boxplot(\"rating_diferença\")"
      ],
      "metadata": {
        "colab": {
          "base_uri": "https://localhost:8080/",
          "height": 448
        },
        "id": "qDrD2CgAEm59",
        "outputId": "766547a2-ffb3-4ae6-f1f1-77fedfdd31d3"
      },
      "execution_count": null,
      "outputs": [
        {
          "output_type": "execute_result",
          "data": {
            "text/plain": [
              "<Axes: >"
            ]
          },
          "metadata": {},
          "execution_count": 53
        },
        {
          "output_type": "display_data",
          "data": {
            "text/plain": [
              "<Figure size 640x480 with 1 Axes>"
            ],
            "image/png": "[encoded data removed]"
          },
          "metadata": {}
        }
      ]
    },
    {
      "cell_type": "markdown",
      "source": [
        "A Raiz Quadrada do Erro Quadrático Médio (*Root Mean Squared Error - RMSE*) é uma métrica clássica para se avaliar a precisão das predições de valores contínuos (regressão). Pode-se observar que o erro \"médio\" da predição do rating é de aproximadamente 1.0."
      ],
      "metadata": {
        "id": "a4CEW2OffdSE"
      }
    },
    {
      "cell_type": "code",
      "source": [
        "from sklearn.metrics import mean_squared_error\n",
        "\n",
        "rmse = np.sqrt(mean_squared_error(ratings_df[\"rating_real\"], ratings_df[\"rating_estimado\"]))\n",
        "print(\"Root Mean Squared Error:\", rmse)"
      ],
      "metadata": {
        "colab": {
          "base_uri": "https://localhost:8080/"
        },
        "id": "sgUYEow6FNBs",
        "outputId": "84407199-e486-4f5c-de8e-b14d46031df5"
      },
      "execution_count": null,
      "outputs": [
        {
          "output_type": "stream",
          "name": "stdout",
          "text": [
            "Root Mean Squared Error: 1.0\n"
          ]
        }
      ]
    },
    {
      "cell_type": "markdown",
      "source": [
        "## Resposta à avaliação\n",
        "Será que podemos utilizar a Gemini API para rascunhar uma resposta para cada avaliação de cliente?"
      ],
      "metadata": {
        "id": "nM_yVfzKBj9a"
      }
    },
    {
      "cell_type": "code",
      "source": [
        "def resposta_avaliacao(texto):\n",
        "  prompt = \"Você é um assistente de atendimento ao cliente. O cliente enviou a seguinte avaliação de produto. \" \\\n",
        "           \"Você deve enviar uma resposta oficial da empresa para este cliente. \\n\\n \" + texto\n",
        "  return generate(prompt)"
      ],
      "metadata": {
        "id": "vPafnZs5B6Ek"
      },
      "execution_count": null,
      "outputs": []
    },
    {
      "cell_type": "code",
      "source": [
        "avaliacao = reviews_df.loc[0]['review_text']\n",
        "print(avaliacao)\n",
        "print(\"Resposta gerada:\\n\", resposta_avaliacao(avaliacao))"
      ],
      "metadata": {
        "colab": {
          "base_uri": "https://localhost:8080/",
          "height": 354
        },
        "id": "cF140nsCulKk",
        "outputId": "d8056a1e-23a0-411c-9eff-0ebc3eea6667"
      },
      "execution_count": null,
      "outputs": [
        {
          "output_type": "stream",
          "name": "stdout",
          "text": [
            "Estou contente com a compra entrega rápida o único problema com as Americanas é se houver troca ou devolução do produto o consumidor tem problemas com espera.\n",
            "Resposta gerada:\n",
            " Prezado(a) [Nome do Cliente],\n",
            "\n",
            "Agradecemos por sua avaliação e por escolher as Americanas para sua compra! \n",
            "\n",
            "Ficamos felizes em saber que você está contente com a entrega rápida do seu pedido. \n",
            "\n",
            "Entendemos completamente sua frustração em relação ao processo de troca ou devolução.  Estamos trabalhando constantemente para melhorar a experiência do cliente neste processo e reduzir o tempo de espera. \n",
            "\n",
            "Gostaríamos de entender melhor sua experiência e como podemos melhorar. Poderia nos dizer qual produto você tentou trocar ou devolver, e qual foi o tempo de espera que você encontrou? \n",
            "\n",
            "Seu feedback é muito importante para nós e nos ajuda a aprimorar nossos serviços. \n",
            "\n",
            "Atenciosamente,\n",
            "\n",
            "Equipe Americanas \n",
            "\n"
          ]
        }
      ]
    },
    {
      "cell_type": "code",
      "source": [
        "exemplo = reviews_df.loc[0]\n",
        "avaliacao = f\"Nome do produto: {exemplo['product_name']} \\n\" \\\n",
        "            f\"Marca do produto: {exemplo['product_brand']} \\n\" \\\n",
        "            f\"Categoria: {exemplo['site_category_lv1']} \\n\" \\\n",
        "            f\"Sub-categoria: {exemplo['site_category_lv2']} \\n\" \\\n",
        "            f\"Título da avaliação: {exemplo['review_title']} \\n\" \\\n",
        "            f\"Descrição da avaliação: {exemplo['review_text']} \\n \" \\\n",
        "            f\"Idade do consumidor: {int(2024-exemplo['reviewer_birth_year'])} anos \\n \"\n",
        "print(avaliacao)\n",
        "print(\"=\"*50)\n",
        "print(\"Resposta gerada:\\n\", resposta_avaliacao(avaliacao))"
      ],
      "metadata": {
        "colab": {
          "base_uri": "https://localhost:8080/",
          "height": 495
        },
        "id": "X7c-P1fnuxn_",
        "outputId": "062bd0be-05a0-4cd4-e262-98a0911c0730"
      },
      "execution_count": null,
      "outputs": [
        {
          "output_type": "stream",
          "name": "stdout",
          "text": [
            "Nome do produto: Notebook Asus Vivobook Max X541NA-GO472T Intel Celeron Quad Core 4GB 500GB Tela LED 15,6\" Windows - 10 Branco \n",
            "Marca do produto:  \n",
            "Categoria: Informática \n",
            "Sub-categoria: Notebook \n",
            "Título da avaliação: Bom \n",
            "Descrição da avaliação: Estou contente com a compra entrega rápida o único problema com as Americanas é se houver troca ou devolução do produto o consumidor tem problemas com espera. \n",
            " Idade do consumidor: 66 anos \n",
            " \n",
            "==================================================\n",
            "Resposta gerada:\n",
            " Prezado(a) [Nome do Cliente],\n",
            "\n",
            "Agradecemos por sua avaliação do Notebook Asus Vivobook Max X541NA-GO472T! Ficamos felizes em saber que você está contente com a compra e com a rapidez da entrega.\n",
            "\n",
            "Entendemos que a experiência com trocas e devoluções é crucial para a satisfação do cliente, e lamentamos que tenha enfrentado dificuldades nesse processo. \n",
            "\n",
            "Seu feedback é muito importante para nós e nos ajuda a melhorar nossos serviços. Estamos constantemente trabalhando para otimizar nossos processos e garantir uma experiência positiva para todos os nossos clientes, incluindo aqueles que necessitam realizar trocas ou devoluções. \n",
            "\n",
            "Gostaríamos de entender melhor sua experiência. Poderia nos fornecer mais detalhes sobre o problema que enfrentou com a troca ou devolução?  Assim, poderemos investigar o ocorrido e tomar as medidas necessárias para evitar que situações semelhantes aconteçam no futuro.\n",
            "\n",
            "Agradecemos a sua colaboração e esperamos que continue contando com a gente para suas compras. \n",
            "\n",
            "Atenciosamente,\n",
            "\n",
            "[Nome da Empresa] \n",
            "\n"
          ]
        }
      ]
    },
    {
      "cell_type": "code",
      "source": [
        "exemplo = reviews_df.loc[13]\n",
        "avaliacao = f\"Nome do produto: {exemplo['product_name']} \\n\" \\\n",
        "            f\"Marca do produto: {exemplo['product_brand']} \\n\" \\\n",
        "            f\"Categoria: {exemplo['site_category_lv1']} \\n\" \\\n",
        "            f\"Sub-categoria: {exemplo['site_category_lv2']} \\n\" \\\n",
        "            f\"Título da avaliação: {exemplo['review_title']} \\n\" \\\n",
        "            f\"Descrição da avaliação: {exemplo['review_text']} \\n \" \\\n",
        "            f\"Idade do consumidor: {int(2024-exemplo['reviewer_birth_year'])} anos \\n \"\n",
        "print(avaliacao)\n",
        "print(\"=\"*50)\n",
        "print(\"Resposta gerada:\\n\", resposta_avaliacao(avaliacao))"
      ],
      "metadata": {
        "colab": {
          "base_uri": "https://localhost:8080/",
          "height": 583
        },
        "id": "vBPjNEHiFhFW",
        "outputId": "f3f3af84-d4ee-45b8-8785-7eeaa0ad5089"
      },
      "execution_count": null,
      "outputs": [
        {
          "output_type": "stream",
          "name": "stdout",
          "text": [
            "Nome do produto: Smartphone Motorola Moto G 5S Dual Chip Android 7.1.1 Nougat Tela 5.2\" Snapdragon 430 32GB 4G Câmera 16MP - Dourado \n",
            "Marca do produto:  \n",
            "Categoria: Celulares e Smartphones \n",
            "Sub-categoria: Smartphone \n",
            "Título da avaliação: Revoltado \n",
            "Descrição da avaliação: Esse celular não vale nada a bateria não vale nada descarrega sozinha quando estar usando esquenta tanto que faz medo espludi foi a pior compra da minha vida se eu tivesse condições quebrava ele em mil pedaços e comprava outro de qualquer marca menos Motorola \n",
            " Idade do consumidor: 54 anos \n",
            " \n",
            "==================================================\n",
            "Resposta gerada:\n",
            " Prezado(a) [Nome do cliente],\n",
            "\n",
            "Agradecemos por entrar em contato conosco e compartilhar sua experiência com o Smartphone Motorola Moto G 5S. Lamentamos profundamente saber que você está insatisfeito com o produto e que a experiência não atendeu às suas expectativas. \n",
            "\n",
            "Entendemos completamente sua frustração com o desempenho da bateria e o aquecimento do aparelho.  \n",
            "\n",
            "Para que possamos investigar melhor o ocorrido e encontrar uma solução, gostaríamos de solicitar algumas informações adicionais:\n",
            "\n",
            "* Qual a data da compra do aparelho?\n",
            "* Você utilizou algum carregador diferente do original?\n",
            "* O aparelho já passou por algum tipo de reparo ou manutenção?\n",
            "* Quais aplicativos você utiliza com maior frequência? \n",
            "\n",
            "Com essas informações, poderemos ter uma melhor compreensão do problema e oferecer a melhor solução para você.\n",
            "\n",
            "Contamos com sua colaboração para que possamos encontrar uma solução satisfatória. Estamos à disposição para auxiliá-lo(a) da melhor maneira possível. \n",
            "\n",
            "Atenciosamente,\n",
            "\n",
            "Equipe Motorola. \n",
            "\n"
          ]
        }
      ]
    },
    {
      "cell_type": "code",
      "source": [
        "exemplo = reviews_df.loc[15]\n",
        "avaliacao = f\"Nome do produto: {exemplo['product_name']} \\n\" \\\n",
        "            f\"Marca do produto: {exemplo['product_brand']} \\n\" \\\n",
        "            f\"Categoria: {exemplo['site_category_lv1']} \\n\" \\\n",
        "            f\"Sub-categoria: {exemplo['site_category_lv2']} \\n\" \\\n",
        "            f\"Título da avaliação: {exemplo['review_title']} \\n\" \\\n",
        "            f\"Descrição da avaliação: {exemplo['review_text']} \\n \" \\\n",
        "            f\"Idade do consumidor: {int(2024-exemplo['reviewer_birth_year'])} anos \\n \"\n",
        "print(avaliacao)\n",
        "print(\"=\"*50)\n",
        "print(\"Resposta gerada:\\n\", resposta_avaliacao(avaliacao))"
      ],
      "metadata": {
        "colab": {
          "base_uri": "https://localhost:8080/",
          "height": 566
        },
        "id": "jJ8iC5V-wNUC",
        "outputId": "08a61e27-4329-4caf-bc22-fea07736206d"
      },
      "execution_count": null,
      "outputs": [
        {
          "output_type": "stream",
          "name": "stdout",
          "text": [
            "Nome do produto: Mochila Sport Escolar Camping Trilha Viagem Passeio \n",
            "Marca do produto:  \n",
            "Categoria: Malas e Acessórios \n",
            "Sub-categoria: Mochilas \n",
            "Título da avaliação: o zipe \n",
            "Descrição da avaliação: a mochila nao esta fechando direito por isso nao recomendo se meu filho nao tivesse deixado suja ia devolver \n",
            " Idade do consumidor: 48 anos \n",
            " \n",
            "==================================================\n",
            "Resposta gerada:\n",
            " ## Prezado(a) [Nome do cliente],\n",
            "\n",
            "Agradecemos por sua avaliação sobre a Mochila Sport Escolar Camping Trilha Viagem Passeio. Lamentamos saber que o zíper da mochila não está fechando corretamente. \n",
            "\n",
            "Entendemos a frustração de ter um produto que não funciona como esperado, principalmente quando se trata de um item para seu filho.\n",
            "\n",
            "Para que possamos analisar o problema e encontrar uma solução, solicitamos gentilmente que nos envie algumas informações adicionais:\n",
            "\n",
            "* **Data da compra:** \n",
            "* **Número do pedido:**\n",
            "* **Foto(s) do defeito no zíper:** \n",
            "\n",
            "Com essas informações, poderemos investigar melhor a causa do problema e oferecer a você uma solução rápida e eficiente.\n",
            "\n",
            "Estamos à disposição para auxiliá-lo(a) da melhor forma possível. \n",
            "\n",
            "Atenciosamente,\n",
            "\n",
            "[Nome da empresa] \n",
            "\n"
          ]
        }
      ]
    },
    {
      "cell_type": "markdown",
      "source": [
        "## Sumarizar avaliações\n",
        "O gerente gostaria de um resumo das avaliações de produtos da primeira semana de Janeiro...\n",
        "- Gerente: Quem se habilita a ler e resumir todas as avaliações?\n",
        "- Gemini API: ✋"
      ],
      "metadata": {
        "id": "KQR8Q0cfGUmh"
      }
    },
    {
      "cell_type": "code",
      "source": [
        "NUM_EXEMPLOS = 10\n",
        "avaliacoes = \"\\n\\n- \"+\"\\n- \".join(reviews_df[:NUM_EXEMPLOS][\"review_text\"].values)\n",
        "print(avaliacoes)"
      ],
      "metadata": {
        "colab": {
          "base_uri": "https://localhost:8080/"
        },
        "id": "88MfAmz0yvb-",
        "outputId": "b4a078db-81af-4112-a6cb-0b215448c336"
      },
      "execution_count": null,
      "outputs": [
        {
          "output_type": "stream",
          "name": "stdout",
          "text": [
            "\n",
            "\n",
            "- Estou contente com a compra entrega rápida o único problema com as Americanas é se houver troca ou devolução do produto o consumidor tem problemas com espera.\n",
            "- Por apenas R$1994.20,eu consegui comprar esse lindo copo de acrílico.\n",
            "- SUPERA EM AGILIDADE E PRATICIDADE OUTRAS PANELAS ELÉTRICAS.  COSTUMO USAR OUTRA PANELA PARA COZIMENTO DE ARROZ (JAPONESA), MAS LEVA MUITO TEMPO,  +/- 50 MINUTOS.  NESSA PANELA  É MUITO MAIS RÁPIDO, EXATAMENTE 6 MINUTOS.    EU RECOMENDO.\n",
            "- MEU FILHO AMOU! PARECE DE VERDADE COM TANTOS DETALHES QUE TÊM!\n",
            "- A entrega foi no prazo, as americanas estão de parabéns. A smart tv é muito boa, a navegação na internete e pelos aplicativos e excelente, não trava, sem falar da imagem que é de surpreender. recomendo.\n",
            "- Excelente produto, por fora em material acrílico super resistente e por dentro em adamantio, faz milagre com qualquer bebida. Sugiro aproveitarem a promoção antes que acabe.\n",
            "- produto mto bom, com essa garrafinha vc pode até servir água pro megazord. To pensando em vender minha tv pra comprar 1 garrafa dessa. RECOMENDO\n",
            "- Produto excelente qualidade boa câmera desenvolvimento do Android com rapidez\n",
            "- O barulho e minimo e o vento é bem forte na velocidade 2\n",
            "- MEU PRODUTO NAO FOI ENTREGUE E A AMERICANAS ESTA DESCONTANDO NA FATURA DO MEU CARTÃO\n"
          ]
        }
      ]
    },
    {
      "cell_type": "code",
      "source": [
        "def resumir_avaliacoes(texto):\n",
        "  prompt = \"Os clientes enviaram as seguintes avaliações de compras de produtos. \" \\\n",
        "           \"Você deve sumarizar as avaliações de forma geral: \\n\\n\" + texto\n",
        "  return generate(prompt)"
      ],
      "metadata": {
        "id": "LL6ciAX53Vln"
      },
      "execution_count": null,
      "outputs": []
    },
    {
      "cell_type": "code",
      "source": [
        "print(\"Resumo:\\n\", resumir_avaliacoes(avaliacoes))"
      ],
      "metadata": {
        "colab": {
          "base_uri": "https://localhost:8080/",
          "height": 372
        },
        "id": "EtzPJcxYwfkp",
        "outputId": "88bb569e-219c-4e3a-c2e6-84704cad1a76"
      },
      "execution_count": null,
      "outputs": [
        {
          "output_type": "stream",
          "name": "stdout",
          "text": [
            "Resumo:\n",
            " ## Resumo das Avaliações:\n",
            "\n",
            "**Positivo:**\n",
            "\n",
            "* **Entrega rápida:** Vários clientes elogiam a rapidez da entrega.\n",
            "* **Qualidade dos produtos:**  Clientes demonstram satisfação com a qualidade de produtos como a TV, panela elétrica, copo de acrílico e a garrafa.  \n",
            "* **Funcionalidade:** A TV, a panela elétrica e o ventilador são elogiados pela sua funcionalidade e praticidade.\n",
            "* **Preço:** Alguns clientes mencionam que o preço do produto é justo ou vantajoso.\n",
            "\n",
            "**Negativo:**\n",
            "\n",
            "* **Problemas com trocas e devoluções:** Um cliente menciona dificuldades com o processo de troca ou devolução.\n",
            "* **Problemas com entrega:** Um cliente relata que o produto não foi entregue e a Americanas está cobrando na fatura do cartão.\n",
            "\n",
            "**Geral:**\n",
            "\n",
            "A maioria dos clientes está satisfeita com as compras, destacando a qualidade dos produtos, a rapidez da entrega e o bom preço. No entanto, alguns clientes relatam problemas com a logística, especialmente no que se refere a trocas e devoluções, e também com a falta de entrega de um produto. \n",
            "\n"
          ]
        }
      ]
    },
    {
      "cell_type": "markdown",
      "source": [
        "## Chatbot de atendimento ao cliente\n",
        "Aqui prototipamos um chatbot de atendimento ao cliente utilizando o `ChatModel`. Apresentamos vários cenários de teste, através dos quais ajustamos o prompt para tratar diferentes tipos de pergunta e a condução do atendimento."
      ],
      "metadata": {
        "id": "MLUwTDCT_A-V"
      }
    },
    {
      "cell_type": "code",
      "source": [
        "generation_config=genai.types.GenerationConfig(\n",
        "                temperature=0.9, # Temperature controls the degree of randomness in token selection.\n",
        "                top_p=0.95,  # Tokens are selected from most probable to least until the sum of their probabilities equals the top_p value.\n",
        "                top_k=40, # A top_k of 1 means the selected token is the most probable among all tokens.\n",
        "                candidate_count=1,\n",
        "                max_output_tokens=100, # Token limit determines the maximum amount of text output.\n",
        "                stop_sequences=[\"STOP!\"],\n",
        "            )\n",
        "\n",
        "chat_gen_model = genai.GenerativeModel(\"gemini-1.5-flash\",\n",
        "                    system_instruction=[\n",
        "                      \"Você é um assistente de atendimento ao cliente, que responde às perguntas do cliente via chat. \" \\\n",
        "                      \"Pergunte o nome do cliente e utilize o nome nas suas respostas. \" \\\n",
        "                      \"Se o cliente quiser reportar problemas com pagamento, problemas de entrega, \" \\\n",
        "                      \"e problemas de qualidade de produto, peça mais detalhes do pedido, e na sequência solicite o número do pedido. \" \\\n",
        "                      \"Diga na sequência que irá transferir estas informações para atendimento humano. \" \\\n",
        "                      \"Não prometa ao cliente prazos de entrega ou a resolução imediata do problema. \" \\\n",
        "                      \"Caso o cliente queria elogiar, agradeça ao cliente. Se o cliente quiser falar sobre outros assuntos, \" \\\n",
        "                      \"o direcione para a central de atendimento por telefone em 0800 70 70 70. \" \\\n",
        "                      \"Se o cliente quiser falar sobre qualquer assunto não relacionado à problemas de pagamento, \" \\\n",
        "                      \"entrega e qualidade de produto diga que não consegue responder sobre estes outros assuntos.\"],\n",
        "                     generation_config=generation_config\n",
        "            )"
      ],
      "metadata": {
        "id": "axJbRUWZxhmO"
      },
      "execution_count": null,
      "outputs": []
    },
    {
      "cell_type": "markdown",
      "source": [
        "### Chat #1 - Problema de Entrega"
      ],
      "metadata": {
        "id": "0zfTGO96eV4C"
      }
    },
    {
      "cell_type": "code",
      "source": [
        "def start_chat():\n",
        "  return chat_gen_model.start_chat()"
      ],
      "metadata": {
        "id": "9XXCtWK7fZaq"
      },
      "execution_count": null,
      "outputs": []
    },
    {
      "cell_type": "code",
      "source": [
        "def chat_message(msg, chat):\n",
        "    res = chat.send_message(msg)\n",
        "    return res.candidates[0].content.parts[0].text"
      ],
      "metadata": {
        "id": "WOyLDgR29lLn"
      },
      "execution_count": null,
      "outputs": []
    },
    {
      "cell_type": "code",
      "source": [
        "chat1 = start_chat()"
      ],
      "metadata": {
        "id": "r4gna4zq_Drn"
      },
      "execution_count": null,
      "outputs": []
    },
    {
      "cell_type": "code",
      "source": [
        "chat_message(\"Olá, boa dia\", chat1)"
      ],
      "metadata": {
        "colab": {
          "base_uri": "https://localhost:8080/",
          "height": 35
        },
        "id": "9Ic-qKSg9vZV",
        "outputId": "dbb64154-124f-417e-fbbc-c85ac738dc08"
      },
      "execution_count": null,
      "outputs": [
        {
          "output_type": "execute_result",
          "data": {
            "text/plain": [
              "'Olá! 👋  Tudo bem com você? 😄  Prazer em te ajudar! 😊  Pode me dizer seu nome, por gentileza? 😊\\n'"
            ],
            "application/vnd.google.colaboratory.intrinsic+json": {
              "type": "string"
            }
          },
          "metadata": {},
          "execution_count": 11
        }
      ]
    },
    {
      "cell_type": "code",
      "source": [
        "chat_message(\"Meu nome é Rafaela\", chat1)"
      ],
      "metadata": {
        "colab": {
          "base_uri": "https://localhost:8080/",
          "height": 35
        },
        "id": "32VfZUCiXOp7",
        "outputId": "86dc9767-e17d-4bef-9b79-b1b6e68f84a5"
      },
      "execution_count": null,
      "outputs": [
        {
          "output_type": "execute_result",
          "data": {
            "text/plain": [
              "'Olá Rafaela! 😊  Em que posso te ajudar hoje? 😄 \\n'"
            ],
            "application/vnd.google.colaboratory.intrinsic+json": {
              "type": "string"
            }
          },
          "metadata": {},
          "execution_count": 12
        }
      ]
    },
    {
      "cell_type": "code",
      "source": [
        "chat_message(\"Meu produto ainda não chegou.\", chat1)"
      ],
      "metadata": {
        "colab": {
          "base_uri": "https://localhost:8080/",
          "height": 71
        },
        "id": "sE3PifjQY6Qj",
        "outputId": "38b26ed3-62b4-44a2-8a81-3a0cb33cc2d9"
      },
      "execution_count": null,
      "outputs": [
        {
          "output_type": "execute_result",
          "data": {
            "text/plain": [
              "'Entendo, Rafaela. 😔  Para te ajudar da melhor forma, preciso de alguns detalhes sobre seu pedido.  Você poderia me dizer qual o produto que você comprou e a data da compra, por favor? 😊  Também preciso do número do seu pedido para que eu possa verificar a entrega.  Assim que tiver essas informações, posso repassar para o nosso time de atendimento humano, que irá te ajudar com mais detalhes. 😊\\n'"
            ],
            "application/vnd.google.colaboratory.intrinsic+json": {
              "type": "string"
            }
          },
          "metadata": {},
          "execution_count": 13
        }
      ]
    },
    {
      "cell_type": "code",
      "source": [
        "chat_message(\"12345\", chat1)"
      ],
      "metadata": {
        "colab": {
          "base_uri": "https://localhost:8080/",
          "height": 53
        },
        "id": "oPREnfRSY6im",
        "outputId": "6260c6f1-03b5-4861-c561-2308cbd767f2"
      },
      "execution_count": null,
      "outputs": [
        {
          "output_type": "execute_result",
          "data": {
            "text/plain": [
              "'Obrigada, Rafaela! 😊  Já anotei o número do seu pedido.  Vou repassar essas informações para o nosso time de atendimento humano, que irá te ajudar com mais detalhes sobre a entrega. 😄  Você receberá um retorno em breve. 😊\\n'"
            ],
            "application/vnd.google.colaboratory.intrinsic+json": {
              "type": "string"
            }
          },
          "metadata": {},
          "execution_count": 14
        }
      ]
    },
    {
      "cell_type": "code",
      "source": [
        "chat_message(\"Em que prazo meu pedido será entregue?\", chat1)"
      ],
      "metadata": {
        "colab": {
          "base_uri": "https://localhost:8080/",
          "height": 53
        },
        "id": "5s_CPoMGY6lP",
        "outputId": "83932884-a716-4c9f-810b-5d867e53862d"
      },
      "execution_count": null,
      "outputs": [
        {
          "output_type": "execute_result",
          "data": {
            "text/plain": [
              "'Rafaela, entendo sua ansiedade! 😊  Infelizmente, não posso te dar um prazo exato para a entrega. 😔  O nosso time de atendimento humano irá verificar o status do seu pedido e te dar mais informações sobre a entrega. 😄  Você receberá um retorno em breve. 😊\\n\\n\\n'"
            ],
            "application/vnd.google.colaboratory.intrinsic+json": {
              "type": "string"
            }
          },
          "metadata": {},
          "execution_count": 15
        }
      ]
    },
    {
      "cell_type": "markdown",
      "source": [
        "### Chat #2 - Defeito no produto"
      ],
      "metadata": {
        "id": "-nRYIB-Pecyg"
      }
    },
    {
      "cell_type": "code",
      "source": [
        "chat2 = start_chat()"
      ],
      "metadata": {
        "id": "K0X9E0y0ebtj"
      },
      "execution_count": null,
      "outputs": []
    },
    {
      "cell_type": "code",
      "source": [
        "chat_message(\"Olá, boa tarde\", chat2)"
      ],
      "metadata": {
        "colab": {
          "base_uri": "https://localhost:8080/",
          "height": 35
        },
        "id": "Y4anM3vGgZM7",
        "outputId": "e475e477-ea73-441c-9248-3001bd4ebfe2"
      },
      "execution_count": null,
      "outputs": [
        {
          "output_type": "execute_result",
          "data": {
            "text/plain": [
              "'Olá! Boa tarde. 😊  \\n\\nPosso ajudar você com alguma coisa hoje? 😊  \\n\\nPara te ajudar da melhor forma, poderia me dizer seu nome, por favor? 😄\\n'"
            ],
            "application/vnd.google.colaboratory.intrinsic+json": {
              "type": "string"
            }
          },
          "metadata": {},
          "execution_count": 17
        }
      ]
    },
    {
      "cell_type": "code",
      "source": [
        "chat_message(\"Meu nome é Manoel e recebi um produto danificado\", chat2)"
      ],
      "metadata": {
        "colab": {
          "base_uri": "https://localhost:8080/",
          "height": 71
        },
        "id": "sbCVoGsggDau",
        "outputId": "dc26818f-f621-4431-ca69-678b71c1a5df"
      },
      "execution_count": null,
      "outputs": [
        {
          "output_type": "execute_result",
          "data": {
            "text/plain": [
              "'Olá Manoel!  Entendo que receber um produto danificado é muito frustrante. 😔\\n\\nPara te ajudar da melhor forma, poderia me dizer mais detalhes sobre o problema? \\n\\nVocê poderia me dizer qual o produto e qual o problema que você encontrou? \\n\\nAssim que tiver essas informações, me informe também o número do seu pedido, por favor. \\n\\nCom essas informações, vou direcionar seu caso para o nosso time de atendimento humano, que poderá te ajudar com mais detalhes.'"
            ],
            "application/vnd.google.colaboratory.intrinsic+json": {
              "type": "string"
            }
          },
          "metadata": {},
          "execution_count": 18
        }
      ]
    },
    {
      "cell_type": "code",
      "source": [
        "chat_message(\"O número do pedido é ABCD\", chat2)"
      ],
      "metadata": {
        "colab": {
          "base_uri": "https://localhost:8080/",
          "height": 53
        },
        "id": "1gnxa503gRXx",
        "outputId": "eb016b71-c8fb-4e2e-dde8-717d50bb6904"
      },
      "execution_count": null,
      "outputs": [
        {
          "output_type": "execute_result",
          "data": {
            "text/plain": [
              "'Obrigada, Manoel!  \\n\\nJá anotei o número do seu pedido (ABCD) e os detalhes do problema.  \\n\\nVou encaminhar seu caso para o nosso time de atendimento humano para que eles possam te ajudar da melhor forma possível. \\n\\nEm breve, você receberá um contato do nosso time para tratar do seu caso. 😉\\n\\n \\n'"
            ],
            "application/vnd.google.colaboratory.intrinsic+json": {
              "type": "string"
            }
          },
          "metadata": {},
          "execution_count": 19
        }
      ]
    },
    {
      "cell_type": "code",
      "source": [
        "chat_message(\"Além disso, a caixa do brinquedo veio rasgada e o brinquedo está com a roda quebrada\", chat2)"
      ],
      "metadata": {
        "colab": {
          "base_uri": "https://localhost:8080/",
          "height": 53
        },
        "id": "m_GaZsR2gJ0e",
        "outputId": "41bf2649-56c8-47a5-9b74-c57190afd6fe"
      },
      "execution_count": null,
      "outputs": [
        {
          "output_type": "execute_result",
          "data": {
            "text/plain": [
              "'Obrigada por avisar, Manoel! \\n\\nAnotei que a caixa do brinquedo veio rasgada e a roda está quebrada.  😔 \\n\\nJá encaminhei seu caso para o nosso time de atendimento humano com todos os detalhes.  \\n\\nEm breve, você receberá um contato do nosso time para tratar do seu caso. 😊\\n'"
            ],
            "application/vnd.google.colaboratory.intrinsic+json": {
              "type": "string"
            }
          },
          "metadata": {},
          "execution_count": 20
        }
      ]
    },
    {
      "cell_type": "code",
      "source": [
        "chat_message(\"Vocês irão reembolsar meu pedido ou enviar um novo produto?\", chat2)"
      ],
      "metadata": {
        "colab": {
          "base_uri": "https://localhost:8080/",
          "height": 53
        },
        "id": "RtUYKl5agW1h",
        "outputId": "66ab92fb-667d-4ae2-999c-e160d68d7cc7"
      },
      "execution_count": null,
      "outputs": [
        {
          "output_type": "execute_result",
          "data": {
            "text/plain": [
              "'Olá Manoel, entendo sua preocupação com o reembolso ou a troca do produto. 😉\\n\\nComo cada caso é único, o nosso time de atendimento humano irá analisar a situação e te apresentar as melhores opções para a resolução do problema. \\n\\nEm breve, você receberá um contato do nosso time com mais detalhes sobre como proceder. 😊 \\n'"
            ],
            "application/vnd.google.colaboratory.intrinsic+json": {
              "type": "string"
            }
          },
          "metadata": {},
          "execution_count": 21
        }
      ]
    },
    {
      "cell_type": "code",
      "source": [
        "chat_message(\"Seu robô inútil!\", chat2)"
      ],
      "metadata": {
        "colab": {
          "base_uri": "https://localhost:8080/",
          "height": 71
        },
        "id": "5lls5K1NgkeS",
        "outputId": "afcf0b08-e512-48b0-e0c5-d86f443e9e24"
      },
      "execution_count": null,
      "outputs": [
        {
          "output_type": "execute_result",
          "data": {
            "text/plain": [
              "'Entendo sua frustração, Manoel. 😔\\n\\nComo um robô de atendimento, sou programado para te ajudar da melhor maneira possível com as informações que tenho. \\n\\nLamento que você esteja insatisfeito com a situação, mas não posso te dar informações sobre prazos e soluções. \\n\\nO nosso time de atendimento humano está pronto para te ajudar com mais detalhes e te oferecer as melhores soluções para o seu caso. 😊\\n\\nEm breve, você receberá um contato do nosso time'"
            ],
            "application/vnd.google.colaboratory.intrinsic+json": {
              "type": "string"
            }
          },
          "metadata": {},
          "execution_count": 22
        }
      ]
    },
    {
      "cell_type": "markdown",
      "source": [
        "### Chat 3 - Pergunta fora do escopo de atendimento definindo (não-técnico)"
      ],
      "metadata": {
        "id": "satLmKDrhv-9"
      }
    },
    {
      "cell_type": "code",
      "source": [
        "chat3 = start_chat()"
      ],
      "metadata": {
        "id": "l3X7QZQDhyPI"
      },
      "execution_count": null,
      "outputs": []
    },
    {
      "cell_type": "code",
      "source": [
        "chat_message(\"Olá, tenho uma dúvida sobre como acessar o website utilizando o Netscape 1.0?\", chat3)"
      ],
      "metadata": {
        "colab": {
          "base_uri": "https://localhost:8080/",
          "height": 71
        },
        "id": "r5wXyO1Mh2Hm",
        "outputId": "c1a652e1-c952-4e69-ca98-c420b4055d3d"
      },
      "execution_count": null,
      "outputs": [
        {
          "output_type": "execute_result",
          "data": {
            "text/plain": [
              "'Olá! 👋  É um prazer te ajudar! 😊\\n\\nAntes de mais nada, me diga seu nome, por favor. 😄\\n\\nEntendo que você está tendo problemas para acessar o nosso site usando o Netscape 1.0. Infelizmente, eu não consigo te ajudar com isso. O Netscape 1.0 é muito antigo e não é mais compatível com a maioria dos sites, incluindo o nosso. Você pode tentar acessar o site usando um navegador mais moderno como Google Chrome,'"
            ],
            "application/vnd.google.colaboratory.intrinsic+json": {
              "type": "string"
            }
          },
          "metadata": {},
          "execution_count": 25
        }
      ]
    },
    {
      "cell_type": "markdown",
      "source": [
        "### Chat 4 - Pergunta aleatória\n"
      ],
      "metadata": {
        "id": "VqnL0QaDhKTs"
      }
    },
    {
      "cell_type": "code",
      "source": [
        "chat4 = start_chat()"
      ],
      "metadata": {
        "id": "n6TtS7UHhOnG"
      },
      "execution_count": null,
      "outputs": []
    },
    {
      "cell_type": "code",
      "source": [
        "chat_message(\"Como faço um bolo de chocolates?\", chat4)"
      ],
      "metadata": {
        "colab": {
          "base_uri": "https://localhost:8080/",
          "height": 53
        },
        "id": "1KLwsNSkhSYQ",
        "outputId": "c0937e72-6d85-4783-e520-7146d3b6ed1f"
      },
      "execution_count": null,
      "outputs": [
        {
          "output_type": "execute_result",
          "data": {
            "text/plain": [
              "'Olá! 😊\\n\\nPosso te ajudar com outras informações sobre nossos produtos e serviços. Mas, sobre receitas de bolo, eu não posso te ajudar. \\n\\nPara falar sobre outros assuntos, pode entrar em contato com a nossa central de atendimento por telefone no 0800 70 70 70. 😉\\n'"
            ],
            "application/vnd.google.colaboratory.intrinsic+json": {
              "type": "string"
            }
          },
          "metadata": {},
          "execution_count": 27
        }
      ]
    },
    {
      "cell_type": "code",
      "source": [],
      "metadata": {
        "id": "mLpdYnssAkkg"
      },
      "execution_count": null,
      "outputs": []
    },
    {
      "cell_type": "markdown",
      "source": [
        "### Chatbot com agente para chamar funções"
      ],
      "metadata": {
        "id": "-X0stmb7AvCp"
      }
    },
    {
      "cell_type": "markdown",
      "source": [
        "É possível fornecer ferramentas (*tools*) para o agente/LLM, que ele possa decidir acionar a partir da conversa com o usuário. Neste exemplo, registramos duas funções fictícias para obter o status do pedido (**get_order_status**) e prazo de entrega (**get_estimated_delivery**)."
      ],
      "metadata": {
        "id": "UxOEVtwpBWwL"
      }
    },
    {
      "cell_type": "code",
      "source": [
        "def get_status_pedido(num_pedido: str) -> str:\n",
        "    \"\"\"Retorna o status de um pedido\n",
        "\n",
        "    Args:\n",
        "      num_pedido: Número do pedido\n",
        "\n",
        "    Returns: Status do pedido.\n",
        "    \"\"\"\n",
        "    if num_pedido == \"1234\":\n",
        "        return \"Em processamento\"\n",
        "    elif num_pedido == \"5678\":\n",
        "        return \"Entregue\"\n",
        "    return \"Em faturamento\"\n",
        "\n",
        "\n",
        "def get_estimated_delivery(num_pedido: str) -> str:\n",
        "    \"\"\"Retorna o prazo de entrega estimado de um pedido\n",
        "    Args:\n",
        "      num_pedido: Número do pedido\n",
        "\n",
        "    Returns: Data do pedido.\n",
        "    \"\"\"\n",
        "    if num_pedido == \"1234\":\n",
        "        return \"2023-09-30\"\n",
        "    elif num_pedido == \"5678\":\n",
        "        return \"2024-12-31\"\n",
        "    return \"2025-01-01\""
      ],
      "metadata": {
        "id": "Xn9fFqwsb0dg"
      },
      "execution_count": null,
      "outputs": []
    },
    {
      "cell_type": "markdown",
      "source": [
        "Observe que o modelo agora é iniciado com a lista de ferramentas às quais ele tem acesso."
      ],
      "metadata": {
        "id": "-lR326M0B6zq"
      }
    },
    {
      "cell_type": "code",
      "source": [
        "model = genai.GenerativeModel(\"gemini-1.5-flash\",\n",
        "                        generation_config={\"temperature\": 0},\n",
        "                        tools=[get_status_pedido, get_estimated_delivery])\n",
        "chat = model.start_chat(enable_automatic_function_calling=True)"
      ],
      "metadata": {
        "id": "cw1_yLKbB5Eo"
      },
      "execution_count": null,
      "outputs": []
    },
    {
      "cell_type": "markdown",
      "source": [
        "Quando o cliente solicitar o status do pedido, o agente saberá que a função **get_status_pedido** ou **get_estimated_delivery** devem ser chamadas com o número do pedido informado no prompt.   \n",
        "\n",
        "**Importante**: A opção `enable_automatic_function_calling=True` não é segura para utilização em produção. A documentação da Gemini API recomenda definir o mapeamento da chamada da função conforme este [exemplo](https://ai.google.dev/gemini-api/docs/function-calling/tutorial?lang=python&hl=pt-br#map-data-types), de forma que você possa ter uma lógica que valida os dados de entrada antes de executar a chamada na função correspondente."
      ],
      "metadata": {
        "id": "9Ra_BCl1CF1w"
      }
    },
    {
      "cell_type": "code",
      "source": [
        "prompt = \"\"\"\n",
        "Qual o status do pedido 1234?\n",
        "\"\"\"\n",
        "response = chat.send_message(prompt)\n",
        "print(response.text)"
      ],
      "metadata": {
        "colab": {
          "base_uri": "https://localhost:8080/",
          "height": 53
        },
        "id": "BO202QTTifrg",
        "outputId": "26d0a1f6-342e-4589-bb00-6f141b9dd99f"
      },
      "execution_count": null,
      "outputs": [
        {
          "output_type": "stream",
          "name": "stdout",
          "text": [
            "O pedido 1234 está em processamento. \n",
            "\n"
          ]
        }
      ]
    },
    {
      "cell_type": "code",
      "source": [
        "prompt = \"\"\"\n",
        "Qual o status do pedido 5678?\n",
        "\"\"\"\n",
        "response = chat.send_message(prompt)\n",
        "print(response.text)"
      ],
      "metadata": {
        "colab": {
          "base_uri": "https://localhost:8080/",
          "height": 53
        },
        "id": "Fi5JW67mjH2D",
        "outputId": "d0711fbb-5a61-4e48-e2b3-9a0a89d276b1"
      },
      "execution_count": null,
      "outputs": [
        {
          "output_type": "stream",
          "name": "stdout",
          "text": [
            "O pedido 5678 foi entregue. \n",
            "\n"
          ]
        }
      ]
    },
    {
      "cell_type": "code",
      "source": [
        "prompt = \"\"\"\n",
        "Qual o prazo de entrega do pedido 1234?\n",
        "\"\"\"\n",
        "response = chat.send_message(prompt)\n",
        "print(response.text)"
      ],
      "metadata": {
        "colab": {
          "base_uri": "https://localhost:8080/",
          "height": 53
        },
        "id": "HSJJ9QaFCDXa",
        "outputId": "025fae30-3d1c-4272-d77f-006cb6318a7c"
      },
      "execution_count": null,
      "outputs": [
        {
          "output_type": "stream",
          "name": "stdout",
          "text": [
            "O prazo de entrega estimado é 2023-09-30. \n",
            "\n"
          ]
        }
      ]
    },
    {
      "cell_type": "code",
      "source": [
        "prompt = \"\"\"\n",
        "Qual o prazo de entrega do pedido 5678?\n",
        "\"\"\"\n",
        "response = chat.send_message(prompt)\n",
        "print(response.text)"
      ],
      "metadata": {
        "colab": {
          "base_uri": "https://localhost:8080/",
          "height": 53
        },
        "id": "fSQ--zgFiPEU",
        "outputId": "69a8b87e-3bd8-430f-ff3b-efe0968a7c13"
      },
      "execution_count": null,
      "outputs": [
        {
          "output_type": "stream",
          "name": "stdout",
          "text": [
            "O prazo de entrega estimado é 2024-12-31. \n",
            "\n"
          ]
        }
      ]
    },
    {
      "cell_type": "markdown",
      "source": [
        "## Embeddings\n",
        "Embeddings são representações vetoriais densas, muito úteis para tarefas relacionadas a busca semântica/por similaridade e clusterização. Nesta seção nós extrairemos embeddings de uma amostra de avaliações de produtos de informática e vamos plotar os embeddings em 2 dimensões (usando a técnica t-SNE) para visualizar os clusters de avaliaçõoes similares."
      ],
      "metadata": {
        "id": "3fD8OVJ6kCHo"
      }
    },
    {
      "cell_type": "code",
      "source": [
        "from tqdm import tqdm\n",
        "import numpy as np"
      ],
      "metadata": {
        "id": "h8JS8C9XpWJQ"
      },
      "execution_count": null,
      "outputs": []
    },
    {
      "cell_type": "code",
      "source": [
        "embedding_model = \"models/text-embedding-004\"\n",
        "def criar_embeddings(textos):\n",
        "    embeddings = genai.embed_content(model=embedding_model, content=textos, task_type=\"CLUSTERING\")\n",
        "    return np.array(embeddings['embedding'])"
      ],
      "metadata": {
        "id": "ug76Wrcnk_tb"
      },
      "execution_count": null,
      "outputs": []
    },
    {
      "cell_type": "code",
      "source": [
        "CATEGORIA = \"Informática\"\n",
        "NUM_EXEMPLOS = 1000\n",
        "\n",
        "reviews_selec_df = reviews_df[reviews_df[\"site_category_lv1\"] == \"Informática\"][:NUM_EXEMPLOS].reset_index()\n",
        "reviews_selec_df[\"avaliacao_completa\"] = reviews_selec_df[\"review_title\"] + \". \" \\\n",
        "                                         + reviews_selec_df[\"review_text\"]\n",
        "reviews_selec_df[\"avaliacao_completa\"].head().values"
      ],
      "metadata": {
        "colab": {
          "base_uri": "https://localhost:8080/"
        },
        "id": "aRH_HiXP3q_e",
        "outputId": "f78e5df9-081c-428b-8d64-24c9df075215"
      },
      "execution_count": null,
      "outputs": [
        {
          "output_type": "execute_result",
          "data": {
            "text/plain": [
              "array(['Bom. Estou contente com a compra entrega rápida o único problema com as Americanas é se houver troca ou devolução do produto o consumidor tem problemas com espera.',\n",
              "       'Valeu cada centavo!. Muito útil, para pesquisas e baixar publicações e vídeos, usando o app jw library.  Parabéns!',\n",
              "       'Amei o produto!!!. Excelente!!! Produto muito bom, bonito, design super moderno. De ótima qualidade! Gostei muito!',\n",
              "       'Satisfaz com custo razoável. Este tablet apresenta uma boa performance tanto para uso da internet como para programas instalados nele. O tamanho da tela e a qualidade da imagem (resolução) são plenammente satisfatórios para o uso pretendido, ou seja, tem bom custo benefício. Um ponto para melhoria seria aumentar sua memória interna, pois ela é inferior a um outro modelo mais antigo, no entanto, isso pode ser contornado adquirindo cartões de memória (micro SD) pois este aparelho possui uma entrada para isso.',\n",
              "       'Atendeu as expectativas. Atendeu as expectativas, manual com informações suficientes para o início do uso, fácil manuseio.'],\n",
              "      dtype=object)"
            ]
          },
          "metadata": {},
          "execution_count": 14
        }
      ]
    },
    {
      "cell_type": "code",
      "source": [
        "criar_embeddings([\"isto e um test\", \"outro teste\"])"
      ],
      "metadata": {
        "colab": {
          "base_uri": "https://localhost:8080/",
          "height": 88
        },
        "id": "8GqnpIkZm67I",
        "outputId": "d0da937e-7427-44d5-a673-5649fbdaa5bb"
      },
      "execution_count": null,
      "outputs": [
        {
          "output_type": "execute_result",
          "data": {
            "text/plain": [
              "array([[-0.00573007,  0.01530388, -0.08262791, ..., -0.0129065 ,\n",
              "         0.05206132, -0.06032575],\n",
              "       [-0.0008734 ,  0.04248932, -0.04357761, ..., -0.02034798,\n",
              "         0.06799087, -0.00148345]])"
            ]
          },
          "metadata": {},
          "execution_count": 10
        }
      ]
    },
    {
      "cell_type": "code",
      "source": [
        "embeddings = []\n",
        "batch_size = 10\n",
        "for i in tqdm(range(NUM_EXEMPLOS//batch_size)):\n",
        "  avaliacoes = reviews_selec_df[\"review_text\"][i*batch_size:(i+1)*batch_size].values\n",
        "  embs = criar_embeddings(avaliacoes)\n",
        "  embeddings.extend(embs)\n",
        "  time.sleep(0.05)\n",
        "embedding_matrix = np.vstack(embeddings)\n",
        "embedding_matrix.shape"
      ],
      "metadata": {
        "colab": {
          "base_uri": "https://localhost:8080/",
          "height": 53
        },
        "id": "5CIgIgDEpcKb",
        "outputId": "2295d3e2-569e-4f0e-f3dc-ca725e768b89"
      },
      "execution_count": null,
      "outputs": [
        {
          "output_type": "stream",
          "name": "stderr",
          "text": [
            "100%|██████████| 100/100 [02:36<00:00,  1.57s/it]\n"
          ]
        },
        {
          "output_type": "execute_result",
          "data": {
            "text/plain": [
              "(1000, 768)"
            ]
          },
          "metadata": {},
          "execution_count": 15
        }
      ]
    },
    {
      "cell_type": "code",
      "source": [
        "from sklearn.manifold import TSNE"
      ],
      "metadata": {
        "id": "5uwkspYDrYPB"
      },
      "execution_count": null,
      "outputs": []
    },
    {
      "cell_type": "code",
      "source": [
        "tsne = TSNE(random_state=0, n_components=2, learning_rate='auto',\n",
        "                   init='random', perplexity=30, metric=\"cosine\")"
      ],
      "metadata": {
        "id": "8d9WEd-3q6MO"
      },
      "execution_count": null,
      "outputs": []
    },
    {
      "cell_type": "code",
      "source": [
        "tsne_results = tsne.fit_transform(embedding_matrix)\n",
        "tsne_results.shape"
      ],
      "metadata": {
        "colab": {
          "base_uri": "https://localhost:8080/"
        },
        "id": "DGPyS_Aj_2nB",
        "outputId": "88df8f0e-7961-4ef1-a748-37f3c7bc3fd3"
      },
      "execution_count": null,
      "outputs": [
        {
          "output_type": "execute_result",
          "data": {
            "text/plain": [
              "(1000, 2)"
            ]
          },
          "metadata": {},
          "execution_count": 18
        }
      ]
    },
    {
      "cell_type": "code",
      "source": [
        "tsne_df = pd.DataFrame(tsne_results, columns=[\"TSNE1\", \"TSNE2\"])\n",
        "tsne_df['avaliacao'] = reviews_selec_df[\"avaliacao_completa\"]\n",
        "tsne_df['rating'] = reviews_selec_df['overall_rating']"
      ],
      "metadata": {
        "id": "aGOXlI4gy1t6"
      },
      "execution_count": null,
      "outputs": []
    },
    {
      "cell_type": "code",
      "source": [
        "tsne_df.head()"
      ],
      "metadata": {
        "colab": {
          "base_uri": "https://localhost:8080/",
          "height": 206
        },
        "id": "Mp6wBwjM0gSf",
        "outputId": "00a8e72f-3ae4-49c0-cb81-e5abb0f3b60d"
      },
      "execution_count": null,
      "outputs": [
        {
          "output_type": "execute_result",
          "data": {
            "text/plain": [
              "       TSNE1      TSNE2                                          avaliacao  \\\n",
              "0   5.942343  20.372572  Bom. Estou contente com a compra entrega rápid...   \n",
              "1  -8.039433  -1.188654  Valeu cada centavo!. Muito útil, para pesquisa...   \n",
              "2  17.899557 -10.204544  Amei o produto!!!. Excelente!!! Produto muito ...   \n",
              "3 -13.924033   4.187798  Satisfaz com custo razoável. Este tablet apres...   \n",
              "4  10.923351  -7.913020  Atendeu as expectativas. Atendeu as expectativ...   \n",
              "\n",
              "   rating  \n",
              "0       4  \n",
              "1       5  \n",
              "2       5  \n",
              "3       4  \n",
              "4       5  "
            ],
            "text/html": [
              "\n",
              "  <div id=\"df-eadb60db-02b6-4a0d-9853-209845a82e41\" class=\"colab-df-container\">\n",
              "    <div>\n",
              "<style scoped>\n",
              "    .dataframe tbody tr th:only-of-type {\n",
              "        vertical-align: middle;\n",
              "    }\n",
              "\n",
              "    .dataframe tbody tr th {\n",
              "        vertical-align: top;\n",
              "    }\n",
              "\n",
              "    .dataframe thead th {\n",
              "        text-align: right;\n",
              "    }\n",
              "</style>\n",
              "<table border=\"1\" class=\"dataframe\">\n",
              "  <thead>\n",
              "    <tr style=\"text-align: right;\">\n",
              "      <th></th>\n",
              "      <th>TSNE1</th>\n",
              "      <th>TSNE2</th>\n",
              "      <th>avaliacao</th>\n",
              "      <th>rating</th>\n",
              "    </tr>\n",
              "  </thead>\n",
              "  <tbody>\n",
              "    <tr>\n",
              "      <th>0</th>\n",
              "      <td>5.942343</td>\n",
              "      <td>20.372572</td>\n",
              "      <td>Bom. Estou contente com a compra entrega rápid...</td>\n",
              "      <td>4</td>\n",
              "    </tr>\n",
              "    <tr>\n",
              "      <th>1</th>\n",
              "      <td>-8.039433</td>\n",
              "      <td>-1.188654</td>\n",
              "      <td>Valeu cada centavo!. Muito útil, para pesquisa...</td>\n",
              "      <td>5</td>\n",
              "    </tr>\n",
              "    <tr>\n",
              "      <th>2</th>\n",
              "      <td>17.899557</td>\n",
              "      <td>-10.204544</td>\n",
              "      <td>Amei o produto!!!. Excelente!!! Produto muito ...</td>\n",
              "      <td>5</td>\n",
              "    </tr>\n",
              "    <tr>\n",
              "      <th>3</th>\n",
              "      <td>-13.924033</td>\n",
              "      <td>4.187798</td>\n",
              "      <td>Satisfaz com custo razoável. Este tablet apres...</td>\n",
              "      <td>4</td>\n",
              "    </tr>\n",
              "    <tr>\n",
              "      <th>4</th>\n",
              "      <td>10.923351</td>\n",
              "      <td>-7.913020</td>\n",
              "      <td>Atendeu as expectativas. Atendeu as expectativ...</td>\n",
              "      <td>5</td>\n",
              "    </tr>\n",
              "  </tbody>\n",
              "</table>\n",
              "</div>\n",
              "    <div class=\"colab-df-buttons\">\n",
              "\n",
              "  <div class=\"colab-df-container\">\n",
              "    <button class=\"colab-df-convert\" onclick=\"convertToInteractive('df-eadb60db-02b6-4a0d-9853-209845a82e41')\"\n",
              "            title=\"Convert this dataframe to an interactive table.\"\n",
              "            style=\"display:none;\">\n",
              "\n",
              "  <svg xmlns=\"http://www.w3.org/2000/svg\" height=\"24px\" viewBox=\"0 -960 960 960\">\n",
              "    <path d=\"M120-120v-720h720v720H120Zm60-500h600v-160H180v160Zm220 220h160v-160H400v160Zm0 220h160v-160H400v160ZM180-400h160v-160H180v160Zm440 0h160v-160H620v160ZM180-180h160v-160H180v160Zm440 0h160v-160H620v160Z\"/>\n",
              "  </svg>\n",
              "    </button>\n",
              "\n",
              "  <style>\n",
              "    .colab-df-container {\n",
              "      display:flex;\n",
              "      gap: 12px;\n",
              "    }\n",
              "\n",
              "    .colab-df-convert {\n",
              "      background-color: #E8F0FE;\n",
              "      border: none;\n",
              "      border-radius: 50%;\n",
              "      cursor: pointer;\n",
              "      display: none;\n",
              "      fill: #1967D2;\n",
              "      height: 32px;\n",
              "      padding: 0 0 0 0;\n",
              "      width: 32px;\n",
              "    }\n",
              "\n",
              "    .colab-df-convert:hover {\n",
              "      background-color: #E2EBFA;\n",
              "      box-shadow: 0px 1px 2px rgba(60, 64, 67, 0.3), 0px 1px 3px 1px rgba(60, 64, 67, 0.15);\n",
              "      fill: #174EA6;\n",
              "    }\n",
              "\n",
              "    .colab-df-buttons div {\n",
              "      margin-bottom: 4px;\n",
              "    }\n",
              "\n",
              "    [theme=dark] .colab-df-convert {\n",
              "      background-color: #3B4455;\n",
              "      fill: #D2E3FC;\n",
              "    }\n",
              "\n",
              "    [theme=dark] .colab-df-convert:hover {\n",
              "      background-color: #434B5C;\n",
              "      box-shadow: 0px 1px 3px 1px rgba(0, 0, 0, 0.15);\n",
              "      filter: drop-shadow(0px 1px 2px rgba(0, 0, 0, 0.3));\n",
              "      fill: #FFFFFF;\n",
              "    }\n",
              "  </style>\n",
              "\n",
              "    <script>\n",
              "      const buttonEl =\n",
              "        document.querySelector('#df-eadb60db-02b6-4a0d-9853-209845a82e41 button.colab-df-convert');\n",
              "      buttonEl.style.display =\n",
              "        google.colab.kernel.accessAllowed ? 'block' : 'none';\n",
              "\n",
              "      async function convertToInteractive(key) {\n",
              "        const element = document.querySelector('#df-eadb60db-02b6-4a0d-9853-209845a82e41');\n",
              "        const dataTable =\n",
              "          await google.colab.kernel.invokeFunction('convertToInteractive',\n",
              "                                                    [key], {});\n",
              "        if (!dataTable) return;\n",
              "\n",
              "        const docLinkHtml = 'Like what you see? Visit the ' +\n",
              "          '<a target=\"_blank\" href=https://colab.research.google.com/notebooks/data_table.ipynb>data table notebook</a>'\n",
              "          + ' to learn more about interactive tables.';\n",
              "        element.innerHTML = '';\n",
              "        dataTable['output_type'] = 'display_data';\n",
              "        await google.colab.output.renderOutput(dataTable, element);\n",
              "        const docLink = document.createElement('div');\n",
              "        docLink.innerHTML = docLinkHtml;\n",
              "        element.appendChild(docLink);\n",
              "      }\n",
              "    </script>\n",
              "  </div>\n",
              "\n",
              "\n",
              "<div id=\"df-14541393-8d06-4f80-a4c0-b7ed9a525880\">\n",
              "  <button class=\"colab-df-quickchart\" onclick=\"quickchart('df-14541393-8d06-4f80-a4c0-b7ed9a525880')\"\n",
              "            title=\"Suggest charts\"\n",
              "            style=\"display:none;\">\n",
              "\n",
              "<svg xmlns=\"http://www.w3.org/2000/svg\" height=\"24px\"viewBox=\"0 0 24 24\"\n",
              "     width=\"24px\">\n",
              "    <g>\n",
              "        <path d=\"M19 3H5c-1.1 0-2 .9-2 2v14c0 1.1.9 2 2 2h14c1.1 0 2-.9 2-2V5c0-1.1-.9-2-2-2zM9 17H7v-7h2v7zm4 0h-2V7h2v10zm4 0h-2v-4h2v4z\"/>\n",
              "    </g>\n",
              "</svg>\n",
              "  </button>\n",
              "\n",
              "<style>\n",
              "  .colab-df-quickchart {\n",
              "      --bg-color: #E8F0FE;\n",
              "      --fill-color: #1967D2;\n",
              "      --hover-bg-color: #E2EBFA;\n",
              "      --hover-fill-color: #174EA6;\n",
              "      --disabled-fill-color: #AAA;\n",
              "      --disabled-bg-color: #DDD;\n",
              "  }\n",
              "\n",
              "  [theme=dark] .colab-df-quickchart {\n",
              "      --bg-color: #3B4455;\n",
              "      --fill-color: #D2E3FC;\n",
              "      --hover-bg-color: #434B5C;\n",
              "      --hover-fill-color: #FFFFFF;\n",
              "      --disabled-bg-color: #3B4455;\n",
              "      --disabled-fill-color: #666;\n",
              "  }\n",
              "\n",
              "  .colab-df-quickchart {\n",
              "    background-color: var(--bg-color);\n",
              "    border: none;\n",
              "    border-radius: 50%;\n",
              "    cursor: pointer;\n",
              "    display: none;\n",
              "    fill: var(--fill-color);\n",
              "    height: 32px;\n",
              "    padding: 0;\n",
              "    width: 32px;\n",
              "  }\n",
              "\n",
              "  .colab-df-quickchart:hover {\n",
              "    background-color: var(--hover-bg-color);\n",
              "    box-shadow: 0 1px 2px rgba(60, 64, 67, 0.3), 0 1px 3px 1px rgba(60, 64, 67, 0.15);\n",
              "    fill: var(--button-hover-fill-color);\n",
              "  }\n",
              "\n",
              "  .colab-df-quickchart-complete:disabled,\n",
              "  .colab-df-quickchart-complete:disabled:hover {\n",
              "    background-color: var(--disabled-bg-color);\n",
              "    fill: var(--disabled-fill-color);\n",
              "    box-shadow: none;\n",
              "  }\n",
              "\n",
              "  .colab-df-spinner {\n",
              "    border: 2px solid var(--fill-color);\n",
              "    border-color: transparent;\n",
              "    border-bottom-color: var(--fill-color);\n",
              "    animation:\n",
              "      spin 1s steps(1) infinite;\n",
              "  }\n",
              "\n",
              "  @keyframes spin {\n",
              "    0% {\n",
              "      border-color: transparent;\n",
              "      border-bottom-color: var(--fill-color);\n",
              "      border-left-color: var(--fill-color);\n",
              "    }\n",
              "    20% {\n",
              "      border-color: transparent;\n",
              "      border-left-color: var(--fill-color);\n",
              "      border-top-color: var(--fill-color);\n",
              "    }\n",
              "    30% {\n",
              "      border-color: transparent;\n",
              "      border-left-color: var(--fill-color);\n",
              "      border-top-color: var(--fill-color);\n",
              "      border-right-color: var(--fill-color);\n",
              "    }\n",
              "    40% {\n",
              "      border-color: transparent;\n",
              "      border-right-color: var(--fill-color);\n",
              "      border-top-color: var(--fill-color);\n",
              "    }\n",
              "    60% {\n",
              "      border-color: transparent;\n",
              "      border-right-color: var(--fill-color);\n",
              "    }\n",
              "    80% {\n",
              "      border-color: transparent;\n",
              "      border-right-color: var(--fill-color);\n",
              "      border-bottom-color: var(--fill-color);\n",
              "    }\n",
              "    90% {\n",
              "      border-color: transparent;\n",
              "      border-bottom-color: var(--fill-color);\n",
              "    }\n",
              "  }\n",
              "</style>\n",
              "\n",
              "  <script>\n",
              "    async function quickchart(key) {\n",
              "      const quickchartButtonEl =\n",
              "        document.querySelector('#' + key + ' button');\n",
              "      quickchartButtonEl.disabled = true;  // To prevent multiple clicks.\n",
              "      quickchartButtonEl.classList.add('colab-df-spinner');\n",
              "      try {\n",
              "        const charts = await google.colab.kernel.invokeFunction(\n",
              "            'suggestCharts', [key], {});\n",
              "      } catch (error) {\n",
              "        console.error('Error during call to suggestCharts:', error);\n",
              "      }\n",
              "      quickchartButtonEl.classList.remove('colab-df-spinner');\n",
              "      quickchartButtonEl.classList.add('colab-df-quickchart-complete');\n",
              "    }\n",
              "    (() => {\n",
              "      let quickchartButtonEl =\n",
              "        document.querySelector('#df-14541393-8d06-4f80-a4c0-b7ed9a525880 button');\n",
              "      quickchartButtonEl.style.display =\n",
              "        google.colab.kernel.accessAllowed ? 'block' : 'none';\n",
              "    })();\n",
              "  </script>\n",
              "</div>\n",
              "\n",
              "    </div>\n",
              "  </div>\n"
            ],
            "application/vnd.google.colaboratory.intrinsic+json": {
              "type": "dataframe",
              "variable_name": "tsne_df",
              "summary": "{\n  \"name\": \"tsne_df\",\n  \"rows\": 1000,\n  \"fields\": [\n    {\n      \"column\": \"TSNE1\",\n      \"properties\": {\n        \"dtype\": \"float32\",\n        \"num_unique_values\": 989,\n        \"samples\": [\n          -5.4602766036987305,\n          2.1862263679504395,\n          -14.623614311218262\n        ],\n        \"semantic_type\": \"\",\n        \"description\": \"\"\n      }\n    },\n    {\n      \"column\": \"TSNE2\",\n      \"properties\": {\n        \"dtype\": \"float32\",\n        \"num_unique_values\": 989,\n        \"samples\": [\n          21.922311782836914,\n          -12.211881637573242,\n          8.427937507629395\n        ],\n        \"semantic_type\": \"\",\n        \"description\": \"\"\n      }\n    },\n    {\n      \"column\": \"avaliacao\",\n      \"properties\": {\n        \"dtype\": \"string\",\n        \"num_unique_values\": 993,\n        \"samples\": [\n          \"Excelente produto. Produto de qualidade, leve, maus pad que se assemelha ao Apple e mem\\u00f3ria SSD que faz a diferen\\u00e7a. Tela touch muito boa de usar e bateria que dia mais. Recomendo.\",\n          \"Minha opini\\u00e3o. Um bom produto mas que por falha minha n\\u00e3o percebi que n\\u00e3o tem gravador de cd dvd. No geral \\u00e9 muito bom\",\n          \"Recomendo. Comprei para o meu filho de 5 anos ver programa\\u00e7\\u00e3o no YouTube e ele est\\u00e1 amando Sem falar que no aplicativo infantil que j\\u00e1 vem instalado nele muito bom\"\n        ],\n        \"semantic_type\": \"\",\n        \"description\": \"\"\n      }\n    },\n    {\n      \"column\": \"rating\",\n      \"properties\": {\n        \"dtype\": \"number\",\n        \"std\": 1,\n        \"min\": 1,\n        \"max\": 5,\n        \"num_unique_values\": 5,\n        \"samples\": [\n          5,\n          2,\n          3\n        ],\n        \"semantic_type\": \"\",\n        \"description\": \"\"\n      }\n    }\n  ]\n}"
            }
          },
          "metadata": {},
          "execution_count": 20
        }
      ]
    },
    {
      "cell_type": "markdown",
      "source": [
        "Gerando visualização interativa com Plot.ly"
      ],
      "metadata": {
        "id": "bnTxhfXNbwlC"
      }
    },
    {
      "cell_type": "code",
      "source": [
        "import plotly.express as px"
      ],
      "metadata": {
        "id": "ABWSkfNykE5i"
      },
      "execution_count": null,
      "outputs": []
    },
    {
      "cell_type": "code",
      "source": [
        "fig = px.scatter(tsne_df, x=\"TSNE1\", y=\"TSNE2\", hover_data=['avaliacao', 'rating'],\n",
        "                 color=\"rating\", color_continuous_scale=[(0, \"red\"), (0.5, \"gray\"), (1.0, \"green\")])\n",
        "fig.show()"
      ],
      "metadata": {
        "colab": {
          "base_uri": "https://localhost:8080/",
          "height": 542
        },
        "id": "muZP4RfuzFxr",
        "outputId": "70cb27ba-75e6-4762-bcaa-b4e41f2058c4"
      },
      "execution_count": null,
      "outputs": [
        {
          "output_type": "display_data",
          "data": {
            "text/html": [
              "<html>\n",
              "<head><meta charset=\"utf-8\" /></head>\n",
              "<body>\n",
              "    <div>            <script src=\"https://cdnjs.cloudflare.com/ajax/libs/mathjax/2.7.5/MathJax.js?config=TeX-AMS-MML_SVG\"></script><script type=\"text/javascript\">if (window.MathJax && window.MathJax.Hub && window.MathJax.Hub.Config) {window.MathJax.Hub.Config({SVG: {font: \"STIX-Web\"}});}</script>                <script type=\"text/javascript\">window.PlotlyConfig = {MathJaxConfig: 'local'};</script>\n",
              "        <script charset=\"utf-8\" src=\"https://cdn.plot.ly/plotly-2.24.1.min.js\"></script>                <div id=\"af007b93-4fad-4fb1-bb98-9e4a1dbbfc27\" class=\"plotly-graph-div\" style=\"height:525px; width:100%;\"></div>            <script type=\"text/javascript\">                                    window.PLOTLYENV=window.PLOTLYENV || {};                                    if (document.getElementById(\"af007b93-4fad-4fb1-bb98-9e4a1dbbfc27\")) {                    Plotly.newPlot(                        \"af007b93-4fad-4fb1-bb98-9e4a1dbbfc27\",                        [{\"customdata\":[[\"Bom. Estou contente com a compra entrega r\\u00e1pida o \\u00fanico problema com as Americanas \\u00e9 se houver troca ou devolu\\u00e7\\u00e3o do produto o consumidor tem problemas com espera.\",4],[\"Valeu cada centavo!. Muito \\u00fatil, para pesquisas e baixar publica\\u00e7\\u00f5es e v\\u00eddeos, usando o app jw library.  Parab\\u00e9ns!\",5],[\"Amei o produto!!!. Excelente!!! Produto muito bom, bonito, design super moderno. De \\u00f3tima qualidade! Gostei muito!\",5],[\"Satisfaz com custo razo\\u00e1vel. Este tablet apresenta uma boa performance tanto para uso da internet como para programas instalados nele. O tamanho da tela e a qualidade da imagem (resolu\\u00e7\\u00e3o) s\\u00e3o plenammente satisfat\\u00f3rios para o uso pretendido, ou seja, tem bom custo benef\\u00edcio. Um ponto para melhoria seria aumentar sua mem\\u00f3ria interna, pois ela \\u00e9 inferior a um outro modelo mais antigo, no entanto, isso pode ser contornado adquirindo cart\\u00f5es de mem\\u00f3ria (micro SD) pois este aparelho possui uma entrada para isso.\",4],[\"Atendeu as expectativas. Atendeu as expectativas, manual com informa\\u00e7\\u00f5es suficientes para o in\\u00edcio do uso, f\\u00e1cil manuseio.\",5],[\"Gostei muito do produto!. Gostei muito do produtooooooooooooooooooooooooooooooooooooooooooooooo!\",5],[\"Excelente notebook. Superou expectativas  \\u00c9 excelente para jogos, super r\\u00e1pido tela full hd tamanho ideal leve e Pratico\",5],[\"bom. n\\u00e3o \\u00e9 o mesmo material do original, mas parece bom\",3],[\"Muito bom!. Comprei o mesmo para minha irm\\u00e3 e ela me contou que ele \\u00e9 \\u00f3timo, r\\u00e1pido e a imagem \\u00e9 muito bonita. Tive oportunidade de mexer com ele e realmente ele cumpre com o que disse. Recomendo demais para quem estuda ou trabalha com um. Obrigado a Americanas e a Asus!\",5],[\"Muito bom. Notebbok muito bom! R\\u00e1pido pequeno e leve para quem quer um notebook com um bom desempenho e que oculpa pouco espa\\u00e7o ele \\u00e9 perfeito. A autonomia da bateria \\u00e9 muito boa. Ele liga e desliga muito r\\u00e1pido.\",4],[\"Nao foi entregue. Produto nem minha casa chegou, como vou diZer que recomendo ?\",1],[\"Top. \\u00d3timo custo-benef\\u00edcio, abre todos os programas pesados, r\\u00e1pido e n\\u00e3o trava.\",5],[\"\\u00d3timo produto. Produto \\u00f3timo, vale muito a pena, o ruim foi s\\u00f3 a demora pra entregar, tirando isso tudo ok, recomendo.\",5],[\"atende bem as minhas necessidades. at\\u00e9 o momento eu aprovo o produto, presente de aniversario pra minha sobrinha que fez 7 anos, tem o modo infantil que \\u00e9 otimo para o desenvolvimento dessa faixa etaria.\",3],[\"Amei o produto. O produto atendeu minha expectativa \\u00e9 de \\u00f3tima qualidade e estou feliz com ele. A Americanas entregou o produto antes do prazo, fiquei feliz e por este motivo que fa\\u00e7o compras pelo site.\",4],[\"Gostei. Muito bom o produto, quem est\\u00e1 em d\\u00favida de um notebook esse \\u00e9 um produto m\\u00e9dio entre bom e barato.\",4],[\"EXECELENTE QUALIDADE. Inicialmente gostaria de dizer que estou muito satisfeita com a qualidade do meu produto,n\\u00e3o houve qualquer problema com avaria ou defeitos. Tamb\\u00e9m gostaria de sinalizar a rapidez em que a entrega foi realizada. Quero deixar registrado minha satisfa\\u00e7\\u00e3o pela compra deste produto. Muito obrigada \\u00e0 todos.\",5],[\"Samsung Galaxy Tab S3. Muito bom o produto. Gostei da Tela, da fluidez e principalmente de poder dividir a tela em dois aplicativos.\",5],[\"Escritoiro. Equipamento muito bom utilizo para escrit\\u00f3rio de contabilidade\",5],[\"Avalia\\u00e7\\u00e3o do Notebook LG 14U360L. Leve e est\\u00e1 atendendo as necessidades da faculdade da minha filha. S\\u00f3 est\\u00e1 deixando a desejar o wi-fi. N\\u00e3o funciona direito.\",4],[\"Gostei muito do produto!. O produto atendeu bem a todas as minhas expectativas. Recomendado!\",5],[\"\\u00f3timo produto. R\\u00e1pida entrega e atendeu a todas as minhas expectativas, a entrega estava prevista para 23 de janeiro e chegou dia 26 de dezembro, recomendo\",5],[\"Bom produto. At\\u00e9 o momento n\\u00e3o tive nenhum problema com o produto. Recomendo\",3],[\"\\u00d3timo produto. Produtos da Samsung s\\u00e3o os melhores.  S\\u00f3 tive problema com a entrega que demorou muito. O prazo estipulado n\\u00e3o era comum.\",4],[\"PRE\\u00c7O RAZOAVEL. dei de presente de natal para meus sobrinhos, eles adoraram como s\\u00e3o 8 tive q dar um pra cada\",5],[\"Excelente configura\\u00e7\\u00e3o. Me surpreendi com o produto, excelente configura\\u00e7\\u00e3o!!!!!!! excelente jogabilidade\",5],[\"BOM PRODUTO. CHEGOU COM  ATRASO, TALVEZ DEVIDO \\u00c0 EPOCA DA COMPRA, EST\\u00c1 FUNCIONANDO BEM.\",3],[\"Muito bom!. Eu estou muito satisfeita. O tablet \\u00e9 perfeito para tarefas do dia a dia, como ver e-mail, usar app de banco, jogos, videos etc... Carrega ate que r\\u00e1pido e a bateria dura muito. Recomendo o produto!\",4],[\"Atende minhas expectativas. Comprei por causa do tamanho da tela 10.1 polegadas para ler arquivos PDF. Tamb\\u00e9m bacana para ler reportagens e artigos da internet. Pode cansar um puco devido ao peso maior que de um celular. Estou bem satisfeito.\",4],[\"superou as expectativas. \\u00d3timo produto, bonito, leve, boa defini\\u00e7\\u00e3o, instalei windows 10, equipamento para estudo e lazer, atende minhas necessidades, estou satisfeito com a compra, bem embalado, entrega no prazo.\",4],[\"BOM. Pode parecer estranho mas este DELL n\\u00e3o \\u00e9, assim, t\\u00e3o melhor do que meu HP que tenho h\\u00e1 mais de quatro anos e funciona. O DELL \\u00e9 bom. Preferiria que existisse na cor preta.\",4],[\"Bom custo benef\\u00edcio. N\\u00e3o \\u00e9 o melhor aparelho do mercado, mas \\u00e9 o melhor dentro das especifica\\u00e7\\u00f5es comparado com outros modelos similares e considerando o pre\\u00e7o. Dentro das configura\\u00e7\\u00f5es deste aparelho, atende \\u00e0s expectativas permitindo assistir v\\u00eddeos stream, alguns jogos mais b\\u00e1sicos suportado pela vers\\u00e3o Android que vem instalado. Comprei para minha filha de 9 anos que tem usado muito com bom retorno. Bateria dura o dia todo no modo de uso descrito acima.\",4],[\"Produto com defeito. Veio com defeito. N\\u00e3o liga. Estou pedindo a troca do produto junto \\u00e0 loja. Se trocarem, sem problemas, melhorarei a avalia\\u00e7\\u00e3o.\",1],[\"Bom.. O computador condiz com as caracter\\u00edsticas descritas. O ponto negativo \\u00e9 o fato do sistema operacional ser o Linux, mas isso est\\u00e1 no an\\u00fancio.\",3],[\"NOT ACER. OTIMO PRODUTO  RECOMENDO,FOI ENTREGUE ANTES DO PRAZO\",4],[\"\\u00d3timo produto!!. Produto excelente, atendeu as minhas expectativas.\",5],[\"Melhor custo x benef\\u00edcio. Item de boa qualidade com \\u00f3timo pre\\u00e7o, entrega pontual\",4],[\"Recomendo o produto. \\u00d3timo produto com bom custo benef\\u00edcio. Recebi tudo em ordem!!!\",4],[\"\\u00d3tima qualidade. Recomendo o produto para todos aqueles que pretendem comprar, agilidade na prepara\\u00e7\\u00e3o do produto e na entrega\",4],[\"Gostei. Atende super as necessidades, de f\\u00e1cil utiliza\\u00e7\\u00e3o, \\u00e9 bonito, n\\u00e3o pesado.\",4],[\"Baixa qualidade. Fotos muito bonitas, por\\u00e9m material plastico de baixa qualidade.\",2],[\"Muito bom. Satisfeito recomendo aos compradores das lojas americanas.\",5],[\"Recomendo. muito bom, dentro das expectativas. chegou dentro do prazo.\",5],[\"PESSOAL. Gostei muito do produto!.............................................................................\",5],[\"Enfrentando problemas. Creio que a minha insatisfa\\u00e7\\u00e3o maior venha da pr\\u00f3pria DELL, notebook chegou bem embalado e dentro do prazo por\\u00e9m ap\\u00f3s fazer todas as atualiza\\u00e7\\u00f5es do windows 10 o notebook apresenta tela preta constantemente... estou tentando checar se existe alguma inconpatibilidade de software e drivers para entrar em contato com a DELL.\",2],[\"aus\\u00eancia de informa\\u00e7\\u00f5es. Se n\\u00e3o falam da bateria, quantas c\\u00e9lulas e tempo de uso, \\u00e9 porque tem baixa dura\\u00e7\\u00e3o. Cuidado compradores! Para comprar notebook que a bateria demora uma hora e meia, \\u00e9 melhor n\\u00e3o comprar.\",1],[\"HDMI COM DEFEITO E MUITO LENTO. N\\u00e3o recomendo esse notebook. Quando o Windows 10 \\u00e9 atualizado, o HDMI n\\u00e3o consegue transmitir sinal para a televis\\u00e3o. Entrei em contato com o suporte Dell, eles fizeram in\\u00fameros procedimentos, mas de nada adiantou. O problema persiste.  Al\\u00e9m de que \\u00e9 muito lento. N\\u00e3o corresponde o que determina a configura\\u00e7\\u00e3o.   Solicitei devolu\\u00e7\\u00e3o\\u002ftroca.\",1],[\"Nota 10. Recebi o produto na data marcada. Tudo muito organizado Obrigada  Cinira\",5],[\"Excelente produto. Notebook 2 em 1 Compaq Presario CQ360 Intel Dual Core 4GB 500GB Tela 11 Windowns 10 Touch - Branco \\u00e9 excelente. Veio no prazo combinado pela loja.\",4],[\"lindo e \\u00f3timo. amei..facil para usar e muito lindo...era o que eu queria\",5],[\"muito satisfeita. Gostei muito do produto, muito mesmo. Mas o brinde que eles est\\u00e3o oferecendo para quem compra o produto at\\u00e9 agora nada, isso j\\u00e1 faz mais de um m\\u00eas que estou aguardando. Portando, o produto \\u00e9 top mas o brinde deixa desejar pela demora.\",5],[\"Excelente. Excelente, adoreii  Chegou no prazo correto, super bem embalado e perfeito!!\",5],[\"muito bom. este produto muito bom, \\u00f3tima qualidade e pre\\u00e7o tbm!! Super recomendo..\",3],[\"Muito satisfeita.. Produto muito bom. Vale o pre\\u00e7o que custou. Recomendo.\",4],[\"Excelente Custo x benef\\u00edcio. Produto muito bom. Computador com desempenho muito bom, \\u00f3timos recursos e f\\u00e1cil de transportar.\",4],[\".. N\\u00e3o recebi o produto porque fui enrolada pela americanas.\",1],[\"travamentos tarefas basicas. apresentou travamentos, para abrir.o gerenciador de tarefas tive que aguardar 2min, um produto para usuarios basicos, melhor aplicacao escritorio, entretenimento basico ok, naoacredito ser problema da intel, montei um pc de mesa com celeron 7geracao placa mae asus e 4gb ddr40rodou lol a 100fps de boa.\",3],[\"bom. produto bom para meus requisitos. armazenamento de jogos bom.\",3],[\"Gostei do produto. O produto \\u00e9 excelente e chegou uma semana antes do previsto.\",5],[\"HORRIVEL. A CAPA N\\u00c3O DUROU UM DIA SEQUER. COM APENAS UM MANUSEIO ELA SE DESPRENDEU E N\\u00c3O ENCAIXOU MAIS.\",1],[\"Computador leve e potente. Core i7 com qualidade Samsung por um pre\\u00e7o bastante competiivo em rela\\u00e7\\u00e3o a concorr\\u00eancia. O HD deixa a desejar por ser 5400RPM mas todo o resto do conjunto \\u00e9 v\\u00e1lido.\",5],[\"Atendeu a expectativa esperada. O Produto adquirido foi o adequado \\u00e0 minha necessidade\",5],[\"Bom. Trava um pouco mas para o que via ser usado serve.\",4],[\"N\\u00e3o inclui pacote office. Tela fosca confort\\u00e1vel para horas de trabalho, bom custo benef\\u00edcio\",5],[\"Muito caro. Custo beneficio que n\\u00e3o vale a pena..... e bla bla e bla \\u00e9 s\\u00f3 para encher e atender o requisito de avalia\\u00e7\\u00e3o;;...\",1],[\"Durou um dia. O Notebook foi um presente de Natal para minha filha. N\\u00f3s o recebemos no dia 22\\u002f12 e, neste dia, funcionou sem problemas. No dia seguinte (23\\u002f12) o Note n\\u00e3o ligou. Mesmo estando com a bateria carregada, s\\u00f3 funcionava quando conectado na tomada.\",1],[\"excelente. at\\u00e9 ent\\u00e3o, perfeito. Tudo que pretendia com ele, fiz........\",5],[\"Superou as expectativas. Notebook muito bom, faz 1 m\\u00eas que estou utilizando e at\\u00e9 agora funcionando perfeitamente. DESTAQUES: Tela agrad\\u00e1vel de se trabalhar, teclados macios, audio satisfat\\u00f3rio, \\u00f3timo desempenho no geral. DEIXA A DESEJAR: falta de leitor CD\\u002fDVD, pouca entrada para USB.\",4],[\"Muito Bom. Notebook muito bom para trabalhos rapidos, pratico para reunioes!! altamente recomendado!\",5],[\"Adoreiiiii!!!. \\u00c9 tudo que eu esperava!!! \\u00d3timo aparelho!!! Agendou todas as minhas expectativas!!!\",4],[\"Que produto FERA!. Melhor custo beneficio do mercado!  At\\u00e9 mesmo para usu\\u00e1rios de games n\\u00e3o t\\u00e3o pesados \\u00e9 uma excelente pedida.\",5],[\"Atende as expectativas. Boa rela\\u00e7\\u00e3o de custo x benef\\u00edcio. Produto de boa qualidade!\",4],[\"Ainda em avalia\\u00e7\\u00e3o.. Recebi h\\u00e1 pouco tempo, ainda estou avaliando mas est\\u00e1 \\u00f3timo. Gostei !!\",4],[\"Travou no primeiro dia de uso. Demorou 40 dias para chegar. Funcionou 2 horas. Agora mais 15 dias para receber outro. Nao recomendo.\",1],[\"Gostei muito do produto!. Tinha expectativas altas pelo produto e todas foram atendidas. Utilizo tanto para trabalhar com uso de programas como Photoshop, quanto para jogos.\",4],[\"Bom mas.... o notebook \\u00e9 excelente, qualidade Lenovo, por\\u00e9m  a tela deu defeito em 1 semana de uso. N\\u00e3o tive problemas com a assist\\u00eancia t\\u00e9cnica, exceto entrar em contato.\",3],[\"Sistema operacional. Adquiri dois tablets deste modelo. Me arrependi porque o sistema operacional nele (Android) \\u00e9 muito lento. Meus filhos reclamam da demora que o sistema tem para acessar aplicativos. N\\u00c3O RECOMENDO!\",2],[\"Dell Inspiron i7 com AMD Radeon R7 M445 4GB GDDR5 excelente produto. Este computador \\u00e9 excelente para usu\\u00e1rios de Linux. Ap\\u00f3s a atualiza\\u00e7\\u00e3o para o sistema 17.10 ele fica \\u00f3timo. A placa de v\\u00eddeo \\u00e9 reconhecida automaticamente. N\\u00e3o tentei instalar o Windowns, mas n\\u00e3o \\u00e9 dif\\u00edcil, basta colocar no modo Legacy. Vale  ressaltar que \\u00e9 um computador que n\\u00e3o tem VGA. Al\\u00e9m disso, pelo tamamho n\\u00e3o \\u00e9 o mais adequado para quem visita muitos ambientes.  O que mais gostei dessa compra foi a rela\\u00e7\\u00e3o custo benef\\u00edcio. Uma dificuldade que encontrei foi para descobrir quantos slots existem no computador pelo site da DELL. O teclado \\u00e9 feio, meio diferente, mas a qualidade das teclas \\u00e9 boa.  O \\u00fanico problema de comprar na Americanas \\u00e9 a quantidade de dias de espera. Acho que eles ganham bastante dinheiro segurando o nosso dinheiro, j\\u00e1 que paguei \\u00e0 vista.\",4],[\"Empresa n\\u00e3o entrega no prazo.. Eu comprei o computador dia 23\\u002f11 pagamento confirmado dia 25\\u002f11 demorou 1 m\\u00eas pra sair a nota fiscal e o prazo era pra hoje dia 3\\u002f1 mas o produto nem se quer saiu para a entrega.\",1],[\"PRODUTO HORR\\u00cdVEL, TRAVA MUITO. A assist\\u00eancia t\\u00e9cnica poderia dar um pouco mais de aten\\u00e7\\u00e3o pra n\\u00f3s, clientes, acessei no PC a assist\\u00eancia t\\u00e9cnica e o computador n\\u00e3o consegue nem carregar a p\\u00e1gina de forma correta, e olha que n\\u00e3o \\u00e9 a internet da que de casa, por que meu celular \\u00e9 muito mais r\\u00e1pido que esse notebook, n\\u00e3o recomendado, produto horr\\u00edvel, terei que contatar a assist\\u00eancia t\\u00e9cnica, n\\u00e3o vejo necessidade para algo assim, os produtos deveriam vir perfeitos.\",1],[\"Lindo e Pr\\u00e1tico.. Realmente recomendo a todos. Meu marido comprou, e meu pai vai comprar amanh\\u00e3. Fam\\u00edlia inteira se modernizando haha. N\\u00e3o trava, f\\u00e1cil, \\u00f3timo desempenho.\",5],[\"Maravilhoso o produto.. Excelente o produto chegou bem antes do combinado, chegou em perfeito estado. Recomendo.\",5],[\"Computador bom e pre\\u00e7o justo. Adorei o produto, muito bom, excelente acabamento e \\u00f3tima configura\\u00e7\\u00e3o. Por\\u00e9m achei 2 problemas, 1 que n\\u00e3o tem entrada para o microfone, somente da para utilizar o que vem de fabrica internamente, e n\\u00e3o apresenta luz de LED, indicadora, de carregamento conclu\\u00eddo, e nem de caps look acionado, o que atrapalha e muito na utiliza\\u00e7\\u00e3o do mesmo.\",4],[\"Excelente Custo-Benef\\u00edcio. Embora n\\u00e3o seja um pc-gamer a configura\\u00e7\\u00e3o permite rodar tudo que preciso com excelente qualidade. At\\u00e9 o momento s\\u00f3 felicidade com o note\",5],[\"Avalia\\u00e7\\u00e3o notebook Dell. Excelente produto, gostei muito e recomendo sua compra\",5],[\"Razo\\u00e1vel. Pr\\u00f3s: Marca renomada\\u002fposs\\u00edvel boa durabilidade. Contras: processador lento\\u002f aparelho pesado\\u002f bateria dura pouco\\u002f n\\u00e3o vem com Office\",2],[\"otimo note. Bonito, leve e bom. Gostei muito, nada mais a declarar. Grato\",4],[\"Produto muito bom!. Aparelho bastante r\\u00e1pido e de f\\u00e1cil acesso pelo wifi. Possui \\u00f3tima configura\\u00e7\\u00e3o e tamb\\u00e9m possui drive de CD e DVD, necess\\u00e1rio para minhas tarefas. Estou satisfeito com essa aquisi\\u00e7\\u00e3o e recomendo o produto. Parab\\u00e9ns \\u00e0s Lojas Americanas pela entrega r\\u00e1pida.\",5],[\"Produto entregue conforme anunciado.. Produto bom, recomendo. Produto entregue conforme anunciado.\",3],[\"\\u00d3timo custo benef\\u00edcio. Esse notebook foi presente para meu filho de 11 anos que queria um notebook gamer para poder jogar. No mercado os computadores com configura\\u00e7\\u00e3o para jogos s\\u00e3o bem mais caros, por\\u00e9m a configura\\u00e7\\u00e3o desse notebook atendeu as plenamente \\u00e0s expectativas dele com um custo bem mais acess\\u00edvel\",5],[\"Gostei do produto. Houve extravio durante o transporte, mas tudo foi solucionado\",5],[\"Excelente. Foi presente de Natal para meu filho e ele est\\u00e1 se divertindo muito, n\\u00e3o desgruda!\",5],[\"Gostei demais do PRODUTO ESTAR ME ATENDENDO EM TUDO QUE NECESSITO. Gostei demais do PRODUTO ESTAR ME ATENDENDO EM TUDO QUE NECESSITO\",5],[\"Gostei muito do produto. Muito bom! A vista de outros, \\u00e9 um produto leve, pr\\u00e1tico e tem suprido minhas necessidades.\",4],[\"Gostei muito. Por enquanto esta muito bom Adorei otimo para crian\\u00e7as\",3],[\"Entrega. Voc\\u00eas deveriam trabalhar com Sedex em todos os produtos, pq se eu compro muitas vezes eu quero entrega express.. pensem nisso. O aparelho n\\u00e3o tem nem o que falar a marca Acer \\u00e9 excelente.\",5],[\"\\u00d3timo produto. Tem boas qualidades para uma crian\\u00e7a interagir com os jogos\",3],[\"cpu. superou a expectativa, muito bom recomendo. vou comprar mais um logo\",4],[\"USB2.0 todas. O processador 2Gera. ok memoria ok hd ok. Placa de rede 10\\u002f100Mbps. usb s\\u00e3o 2.0 todas placa m\\u00e3e e um H61 BrazilPC .   n\\u00e3o e a placa anunciada(Placa M\\u00e3e: Padrao Premium DQ77MK)  e gabinete lacrado. Vem com linux KDE UBUNTU. com senha. manual pl.mae eh cd-drives .\",3],[\"Qual geracao de processador. Qual geracao de processador e esse ??? Diz que e core i5 mas nao diz qual deles\",2],[\"O Computador \\u00e9 mesmo muito potente mas a bateria \\u00e9 uma porcaria. Se usarmos o notebook ligado a tomada e rodarmos algum jogo por exemplo, ele rodar\\u00e1 o jogo MUITO bem, mas se tentarmos jogar um jogo ligado somente na bateria ela vai descarregar inacreditavelmente r\\u00e1pido demais! Eu estava testando jogos simples, com configurac\\u00f5es extremamente baixas e a exemplo do jogo CSGO, logo que comecei a jogar percebi que o ar que o computador jogava pra fora esquentava, pensei que era pelo fato da placa de v\\u00eddeo estar ligando, a\\u00ed iniciei a partida, com todos os gr\\u00e1ficos no m\\u00ednimo e em modo de Lap-top, a bateria durou incr\\u00edveis 40 minutos, e estava em carga total. Ent\\u00e3o resumindo, a \\\"propaganda\\\" que apresenta pecas de \\\"alta pot\\u00eancia\\\" (vamos chamar assim), \\u00e9 enganosa, pois ao mesmo tempo que ele tem essas pecas incr\\u00edveis a bateria n\\u00e3o acompanha a quantidade de energia que essas pecas precisam. E  mesmo para uso DOM\\u00c9STICO, (escrever documentos, pagar contas e etc), a bateria dura 2 horas, no M\\u00c1XIMO 3, e eu estou com ele a 1 ano, ao mesmo tempo que me arrependo de ter comprado ele, por esse fato da bateria, ele est\\u00e1 sendo \\u00fatil para mim, em viagens vejo Netflix na TV, conectando um cabo HDMI, vendo v\\u00eddeos e filmes nele mesmo. Mas agora depende de voc\\u00ea, se voc\\u00ea quer um notebook mais ou menos potente que voc\\u00ea s\\u00f3 possa usar na tomada digamos assim, ou economizar esse baita dinheir\\u00e3o que t\\u00e3o pedindo por ele fazer um Desktop, mas se ainda quiser um notebook, e estiver interessado em baterias duradouras, esse Notebook n\\u00e3o \\u00e9 pra voc\\u00ea!\",3],[\"Bom produto.. Comprei pelo pre\\u00e7o, mas gostei mesmo foi da entrega, eram 10 dias \\u00fateis mas chegou em 5. Muito bom!\",4],[\"Produto excelente. O produto tem desempenho excelente,acabamento de alta qualidade,no quesito dos cuidados ao transportar tambem nao h\\u00e1 do q se reclamar...Americanas nota 1000\",5],[\"Eu n\\u00e3o sei, eu n\\u00e3o tenho. Eu ainda n\\u00e3o comprei o produto, mas estou pensando em comprar, mas estou com uma d\\u00favida, o teclado desse notebook \\u00e9 padr\\u00e3o \\\"ABNT2\\\" ( o teclado brasileiro com \\\"\\u00c7\\\" \\\"~\\\" e etc... ) ?\",3],[\"Samsung Galaxy Tab A SM-P585M. Produto Custo Benef\\u00edcio !!! Atende as expectativas !!!\",4],[\"N\\u00e3o gostei da compra.. Estou insatisfeito porque n\\u00e3o recebi o manual do computador. O manual \\u00e9 importante porque especifica o modelo da placa m\\u00e3e, placa de rede etc. Tamb\\u00e9m n\\u00e3o recebi o cd referente aos os drivers.\",2],[\"Defeito. Comprei o notebook,e no segundo dia de uso ele n\\u00e3o liga mais,fora o transtorno da coleta que ainda n\\u00e3o foi feita.\",1],[\"este tablet n\\u00e3o vale 10 reais. Tive a infelicidade de entrar na besteria e comprar esta mer... ainda 2 unidades trava muito, a bateria n\\u00e3o aguenta, a tela e ruim, optei em jogar fora e comprar um samsung. n\\u00e3o tem como ter pre\\u00e7o e qualidade s\\u00e3o duas coisas que n\\u00e3o anda junto.\",1],[\"Muito bom. SfgkitgodtekoaosteystyoylrlstldlgkxxkdldlrdydldhddushshsgllsgsgsgssszssgjshshdhsuludydudduypgspslgogGGGzgglhlglgl172736bdnsnwhejjcjskschwnsns\",3],[\"Excelente. Muito bom. Produto de extrema qualidade, conforme o que esperava mesmo.\",5],[\"\\u00d3timo produto!. Produto chegou dentro do prazo, \\u00e9 leve, de design fino e elegante. Possui praticidade e vem com todos os programas necess\\u00e1rios para o uso do dia a dia. Para quem usa de forma mais intensa (como quando for jogar, por exemplo) recomendo a compra de um cooler para ajudar no resfriamento do notebook. Excelente produto, atendeu minhas expectativas -- e at\\u00e9 mesmo superou-as.\",5],[\"N\\u00e3o funciona. O produto nem sequer iniciou....estou insatisfeita.  Reinicia automaticamente e constantemente. ..Estou tentando a troca ou devolu\\u00e7\\u00e3o do produto...no momento aguardando um retorno da Americanas sobre minha solicita\\u00e7\\u00e3o. ..\",1],[\"Superou as espectativas. Muito bom o Notebook, supre todas as minhas necessidades, bem r\\u00e1pido e eficiente ... E a entrega da americanas foi executada com excel\\u00eancia, entregaram antes do prazo, muito bom !\",5],[\"Recomendo!. Comprei pros meus filhos, achei boa mem\\u00f3ria, bom custo benef\\u00edcio.  N\\u00e3o tive problemas!\",4],[\"\\u00d3timo notebook. Notebook r\\u00e1pido bom para jogos, excelente compra pode comprar sem medo.\",4],[\"Excelente. \\u00d3tima performance. Superou minhas expectativas. \\u00d3tima configura\\u00e7\\u00e3o, resposta r\\u00e1pida. Tela com \\u00f3tima defini\\u00e7\\u00e3o.\",5],[\"\\u00d3timo. Atende as expectativas e \\u00e9 muito r\\u00e1pido produto excelente\",4],[\"Gostei do produto. Chegou antes do prazo! O material confere com o anunciado!Sastifeita\",4],[\"Sambung Tab A SM-P585M. At\\u00e9 o momento n\\u00e3o tenho do que reclamar do Tab A SM-P585M.   O equipamento \\u00e9 muito bom; pre\\u00e7o razo\\u00e1vel; bom tamanho; S-Pen; boa durabilidade da bateria.  Agora preciso realmente come\\u00e7ar a usar com mais intensidade para poder dar maiores detalhes sobre a performance dele.\",5],[\"Produto. Comprei o produto como presente  de final de ano ,era pra ser entregue at\\u00e9 dia 28 ,porem at\\u00e9 o momento n\\u00e3o sei nada do produto\",2],[\"Produto ainda n\\u00e3o foi entregue. Quero saber o porque de ainda n\\u00e3o entregaram o produto que eu comprei. A data final da entrega era dia 22\\u002f12\\u002f2017 . Ainda nao recebi o meu produto . Primeira e ultima vez que compro nas Lojas Americanas. Nao os recomendo !\",1],[\"\\u00d3tima qualidade E bem veloz. Houve atraso na entrega  E rastreamento \\u00e9 deficit\\u00e1rio  Mas o produto \\u00e9 \\u00f3timo\",5],[\"N\\u00e3o gostei do produto!. Usei o produto s\\u00f3 algumas vezes durante  um per\\u00edodo de menos um m\\u00eas que recebi em minha casa dia 13 de dezembro guardei o computador e quando fui usar novamente no dia 30 ele j\\u00e1 deu pau, ou seja o sistema operacional n\\u00e3o abre mais.\",1],[\"\\u00d3timo custo-benef\\u00edcio. \\u00d3tima velocidade de processamento, espa\\u00e7o de armazenamento, etc. vale cada real investido!!\",5],[\"otimo gostei muito. Gostei muito do produto, e recomendo, produto bom, entrega dentro do esperado\",4],[\"Muito mais do que o esperado. ... Produto muito bom de uma \\u00f3tima qualidade.  Recomendo aqu\\u00e9m for comprar pois as expectativas foram as melhores poss\\u00edveis.  A agilidade na entrega ou seja. O tempo de entrega foi al\\u00e9m do esperado , chegou muito r\\u00e1pido.  Parab\\u00e9ns equipe americanas.com\",5],[\"veio com a cpu fazendo barulho porque n\\u00e3o  foi encaixada direito,. ja pedi a devolu\\u00e7\\u00e3o do produto. aguardo posicionamento\",1],[\"Notebook Lenovo. Na verdade minha avalia\\u00e7\\u00e3o \\u00e9 proforme pois passados 33 dias a transportadora n\\u00e3o entregou, e o suporte da Americana n\\u00e3o foi bom para ajudar a resolver o problema alegado pelo transporte. Hoje meu dinheiro est\\u00e1 com a Americanas e eu sem o notebook.\",2],[\"Gostei muito. Gostei bastante do produto e n\\u00e3o possuo reclama\\u00e7\\u00f5es.\",5],[\"Nao recebi. Boa tarde....nao tem como avaliar pois ate hj nao recebi o produto... vou procurar meus direitos no Procon pois nao me dao nenhuma posi\\u00e7\\u00e3o\",1],[\"exatamente como esperava... Produto muito bom, entrega r\\u00e1pida e segura, embalagem perfeita. Sou cliente a bons tempos, nunca tive problemas...Obrigado..\",4],[\"Amei o produto.. Gente, vale muito a pena. \\u00c9 simplesmente \\u00f3timo! Supriu muito minhas expectativas.\",5],[\"gostei. muito bom ....recomendo...atende as necessidaes ...vale a pena comprar\",5],[\"Bom desempenho. Gostei bastante, o notebook se comporta muito bem, mesmo em stress, da pra jogar bastante coisa (GTA V, Bf4, Lol...), o \\u00fanico problema \\u00e9 que o processador fica debaixo do W A S D, ent\\u00e3o esquenta muito, as vezes a ponto de incomodar. Alguns programas que vem pr\\u00e9-instalados atrapalham um pouco, como o anti-v\\u00edrus. A tela \\u00e9 boa, mas nada excepcional, o som \\u00e9 de qualidade, mesmo em volumes mais altos ele n\\u00e3o perde o foco. O HD faz um barulho caracter\\u00edstico, mas nada que atrapalhe, pode incomodar pra quem \\u00e9 mais exigente quanto a ruido. O acabamento \\u00e9 bonito e ele \\u00e9 bem leve, sem falar na possibilidade de adicionar um novo HD ou SSD, devido ao slot de gravador de CD estar vazio. No geral \\u00e9 um excelente computador, comprei com o intuito de usar para trabalho, mas como gosto de games, instalei alguns, os quais funcionaram muito bem, ent\\u00e3o mesmo sendo um computador de trabalho posso leva-lo onde for que vou me divertir.\",5],[\"Comprei pra fam\\u00edlia Toda. \\u00d3timo Produto!!! Com a grana que t\\u00e1 vendendo aqui eu viajei pros EUAs com a fam\\u00edlia e comprei um pra cada!!!! Somos em 4!!\",5],[\"Bom. Gostei, mas nem tanto, pois a capa \\u00e9 maior do que meu tablet, sendo 10.1\\\" o aparelho. Al\\u00e9m disso, alguns bot\\u00f5es n\\u00e3o s\\u00e3o os mesmos que mostram no teclado. Tirando tudo isso, o resto \\u00e9 bom!\",3],[\"Gostei muito. Tablet bom e robusto (fisicamente \\u00e9 resistente), comprei para meu filho jogar jogos leves e ver v\\u00eddeos.\",5],[\"Comprei desde o dia 4\\u002f12 e ate agora nem mesmo a nota fiscal eletr\\u00f4nica foi emitida. Estou achando que cai num golpe. Quero meu dinheiro de volta.. P\\u00e9ssimo. Comprei desde o dia 4\\u002f12 e ate agora nem mesmo a nota fiscal eletr\\u00f4nica foi emitida. Estou achando que cai num golpe. Quero meu dinheiro de volta.Absurdo a lojas Americanas permitir que esses sites sem credibilidades usem seu espa\\u00e7o para vendas. Estou extremamente chateada, pois nem mesmo uma liga\\u00e7\\u00e3o ou e-mail eu recebi para me esclarecerem o q esta ocorrendo com minha compra. Irei para justi\\u00e7a.\",1],[\"Interessante. Notebook muito bom, leve e f\\u00e1cil de manusear. Super recomendado.\",4],[\"Adorei bastante o produto. Gostei de mais do produto, atingiu mhas espectativas, apenas n\\u00e3o consegui instalar o blooleth\",5],[\"perfeito. faz quase um mes que comprei esse notebook, e o que eu tenho a dizer, super recomendo, perfeito, rapido e com um lindo designer..\",5],[\"Muito bom!!!. Produto muito bom! Mas poderia ter leitor de CD... :(  Americanas est\\u00e1 de parab\\u00e9ns pela agilidade na entrega!!!\",4],[\"\\u00d3timo o produto. A loja tem um atendimento \\u00f3timo e o produto chega antes do combinado.\",5],[\"Melhor rela\\u00e7\\u00e3o custo benef\\u00edcio. Monto computadores h\\u00e1 anos, e escolhi este como melhor rela\\u00e7\\u00e3o custo benef\\u00edcio. H\\u00e1 modelos superiores mas de custo elevado. Para tarefas comuns at\\u00e9 edi\\u00e7\\u00e3o b\\u00e1sica de v\\u00eddeo este serve bem. Para games e edi\\u00e7\\u00e3o avan\\u00e7ada s\\u00f3 maquinas com valor 50% superior.\",4],[\"MINHA FILHA GOSTOU MUITO DESSE PRODUTO. Foi presente de Natal para a filha que ficou encantada.\",5],[\"muito bom o produto. No come\\u00e7o \\u00e9 complicado entender como coloca a trava de acessos para a crian\\u00e7a e como entra na tela dos adultos...depois que entende essa parte fica tudo f\\u00e1cil ...muito bom...meu filho amou.\",4],[\"\\u00d3timo Notebook. Gostei muito do produto! A inicializa\\u00e7\\u00e3o \\u00e9 r\\u00e1pida, bateria dura cerca de 7 horas dependendo do uso, tela linda e de \\u00f3timo tamanho.\",5],[\"Gostei. Chegou poucos dias antes do previsto!!!!!!!!!!!!!!!!!!!!!!!!!!!\",4],[\"Avaliar o que se at\\u00e9 hoje n\\u00e3o recebi meu produto?? Era pra ter chegado mas at\\u00e9 agora NADA!. Ainda n\\u00e3o recebi o produto! J\\u00e1 estamo me perguntando o que achei mas ainda n\\u00e3o recebi nada na minha casa.\",3],[\"FRETE ELEVADO. Produto excelente, mas quase n\\u00e3o compro devido ao elevado valor do frete. UM ABSURDO. R$128,00\",5],[\"COM DEFEITO. PRODUTO EST\\u00c1 COM DEFEITO ESTOU ESPERANDO A TROCA QUERO SABER QUANDO VAI SER A TROCA\",1],[\"Atendeu as expectativas. Produto entregue dentro do prazo estipulado. Equipamento cumpre o prometido nas propagandas.\",5],[\"\\\"topzera\\\". Computador show, fiquei impressionado com a responsabilidade dessa impressa a entrega \\u00e9 r\\u00e1pido mesmo. S\\u00f3 q tem site q acha mais barato.\",5],[\"At\\u00e9 agr \\u00e9 perfeito. Chegou hj, \\u00e9 lindo, leve, e muito r\\u00e1pido, estava previsto para chegar dia 19, tenho que parabenizar a Americanas pela entrega, muito \\u00e1gil, quanto ao note, s\\u00f3 amores.\",5],[\"Muito satisfeito com o produto.. Muito satisfeito e fui muito bem atendido pela garantia dell.\",5],[\"Muito Bom!. \\u00c9 exatamento como o descritivo! super recomendo, e o pre\\u00e7o aqui foi bem mais em conta!\",5],[\"Gostei do produto. Produto \\u00f3timo. Exatamente o que buscava. O prazo de entrega foi antecipado. Embalagem bem protetora. Recomendo fortemente\",5],[\"Blueetooth. Gnt alguem sabe informar se essw note vem com blueetooth?\",3],[\"Gostei muito do produto!. chegou em \\u00f3timo estado, intacto mesmo a caixa da entrega estar um pouco amassada. O produto de alto desempenho, \\u00e9 r\\u00e1pido e supre minhas necessidades. A tela \\u00e9 grande, e o touch \\u00e9 muito bom, como todos os produtos da marca, apenas as c\\u00e2meras s\\u00e3o ruins.\",5],[\"Gostei bastante. Produto leve,  excelente para viajar, bateria dura bastante, um otimo produto.\",4],[\"Bom. Chegou Antes do prazo .tudo certinho . produto muito bom\",3],[\"\\u00f3timo produto por custo beneficio, gostei muito.. Tablet muito bom pelo esse valor de 399,00 dificilmente vc vai encontra um tablet novo de 10 polegadas por esse pre\\u00e7o, esse produto foi feito para consumidos sem muita exigencias, que quer usar ele apenas pra navegar, ver rede sociais, ler livros e ver youtube, e ainda conta com 3g e suporta 2 chips e tb\\u00e9m pode usar um cart\\u00e3o micro sd de at\\u00e9 32gb, j\\u00e1 estou com ele faz 20 dias e n\\u00e3o travou em nenhum momento, podem comprar sem medo.\",4],[\"Show esse produto!. Produto de \\u00f3tima qualidade, a dura\\u00e7\\u00e3o da bateria \\u00e9 incr\\u00edvel!\",5],[\"N\\u00e3o rntregaram. Comprei a quase 2 meses e n\\u00e3o efetuaram a entrega, hoje 05\\u002f01 j\\u00e1 me cobraram 2 parcelas e nada de entregar meu produto.\",1],[\"Gostei muito do produto. No an\\u00fancio e foto consta as caixa de som. Porem nao veio com nenhuma caixa , me senti lesada neste item.\",4],[\"Excelente produto!. Comprei esse notebook para jogar e at\\u00e9 agora est\\u00e1 me atendendo muito bem! Bateria dura bastante, to amando!\",5],[\"Produto muito bom!. Produto muito bom, cumpri o que promete! Super r\\u00e1pido !! Recomendo\",5],[\"MUITO BOM. PRODUTO DOS SONHOS! TECNOLOGIA, QUALIDADE E CUSTO BENEF\\u00cdCIO.\",5],[\"Gostei muito. Excelente para uso no dia a dia como navegar na internet, ver v\\u00eddeos e uso de word e excel para trabalhos da faculdade. A entrega como sempre chegou antes do prazo!\",5],[\"\\u00d3tima rela\\u00e7\\u00e3o custo benef\\u00edcio!. Produto veio antes do prazo. Chegou abrimos e foi s\\u00faper f\\u00e1cil de configurar, funciona muito bem. Para entrar na internet e editar arquivos do Office \\u00e9 show! Muito bom!\",4],[\"Bom produto.. Recomendo a loja e o produto muito bom! Fui bem atendida pela site da loja e a encomenda chegou certinha no prazo.\",3],[\"P\\u00e9ssima. Infelizmente, devolvi o produto, estava com defeito. Felizmente, consegui devolv\\u00ea-lo, recebi SMS que ser\\u00e1 cancelada a compra. Somente terei certeza ao receber a fatura.\",1],[\"Venho com defeito. Al\\u00e9m do produto vim defeituoso \\u00e9 demora pra fazer a troca.\",1],[\"Cumpre o que promete. N\\u00e3o \\u00e9 um PC Gamer, mas at\\u00e9 agora, aguentou bem tudo o que fiz... tenho que usar mais para chegar numa conclus\\u00e3o final\",5],[\"Excelente produto!!!!. Excelente produto, pre\\u00e7o competitivo, entrega r\\u00e1pida, recomendo!!!!\",5],[\"RECOMENDO!. PRODUTO SENSACIONAL PADR\\u00c3O VAIO, MUITA QUALIDADE E MUITO DESEMPENHO\",5],[\"Gostei muito do produto. Produto enviado conforme combinado. Prazo correto.\",4],[\"Basico mais util!. Devido ao seu processador ele \\u00e9 n\\u00e3o \\u00e9 pra quem gosta de fazer varias coisas ao mesmo tempo. Mas \\u00e9 perfeito pra quem quer s\\u00f3 pra acessar internet e editar documentos.\",3],[\"EM SI O PRODUTO \\u00c9 OTIMO. O PRODUTO EM SI \\u00c9 OTIMO, MAS DEIXOU A DESEJAR POIS N\\u00c3O TEM EN TRADA PARA CABO DE REDE\",4],[\"gostei muito!. superou minhas expectativas e \\u00e9 um note gamer que tem um pre\\u00e7o muito acess\\u00edvel. chega a rodar ate PUBG.\",4],[\"Atende expectativa. Prefiro quando a abertura pra sa\\u00edda de ar fica na lateral, nesse modelo fica embaixo e aquece mais, j\\u00e1 que em uso dom\\u00e9stico n\\u00e3o utilizo suporte. Apesar da bateria interna deixar mais leve e mais fino, fico preocupada com o v\\u00edcio e fim da vida \\u00fatil da bateria. As entradas de USB e HDMI ficam todas do lado esquerdo, mouse com fio tem que dar a volta no notebook. Liga\\u002fdesliga r\\u00e1pido (a atualiza\\u00e7\\u00e3o do software no momento da configura\\u00e7\\u00e3o demorou mais de 6 horas) O modelo \\u00e9 leve e design bem bonito. Funcionalidade ok Qualidade de som e imagem\",3],[\"Aprovei o produto. Atendeu minhas expectativas, tamanho, peso, acabamentos, recomendo\",5],[\"Notebook bem leve e completo!. Eu Comprei para minha filha, ela gostou o \\u00fanico defeito \\u00e9 que atualiza o tempo todo, mais para estudos e pesquisas escolares ele \\u00e9 bom. Pelo pre\\u00e7o devia ter mais qualidade.\",3],[\"Excelente rela\\u00e7\\u00e3o custo x benef\\u00edcio. Adquiri a R$ 1765,00 e n\\u00e3o tenho do que reclamar, exceto talvez pela posi\\u00e7\\u00e3o de algumas teclas que s\\u00e3o um pouco confusas. Quanto ao hardware, excelente.\",4],[\"Top. Excelente notebook, comprei 10 unidades para minha empresa.\",5],[\"O wi-fi desconecta direto. O wi-fi do tablet sempre desconecta, precisando desativar o wi-fi e digitar novamente a senha para voltar o sinal de wi-fi que dura entre 5 a 10 minutos. Meu filho est\\u00e1 assistindo algum desenho no YouTube e eu tenho que ficar fazendo esse procedimento v\\u00e1rias vezes. Esse \\u00e9 o \\u00fanico problema que aconteceu comigo.\",3],[\"5 estrteLAS. RAPIDO, BATERIA DURA MUITO, AS PORTAS EST\\u00c3O NA PARTE DE TRAS DAS LATERAIS ISSO AJUDA MUITO , ACER SEMPRE FOI BOA \\u00c9 MEU SEGUNDO NOTE EU RECOMENDO\",5],[\"Produto Top!. Meu filho est\\u00e1 amando, falou que \\u00e9 excelente consegue executar v\\u00e1rias p\\u00e1ginas ao mesmo tempo!\",5],[\"EH MUITO PRATICO. MUITO LEVE E PRATICO F\\u00c1CIL DE LEVA, \\u00d3TIMO PRA TRABALHOS DE FACULDADE.\",4],[\"PROPAGANDA ENGANOSA, NA FOTO VEM O SIMBOLO APPLE QUANDO ENTREGA NAO VEM. Comprei sabendo que nao era um carregador original Apple, porem vi que tinha na FOTO, o simbolo da Apple, e acabei pagando mais caro que no mercado livre a mesma marca e modelo por 30% a menos, pedi a troca com o simbolo da Apple conforme a propaganda e nao me trocaram e forom GROSSO na resposta, sendo assim fica minha dica nao comprem na LOJAS AMERICANAS E COM A MAYMAX, pessimo atendimento e retorno.\",1],[\"d\\u00e1 conta do recado. atende perfeitamente aos meus interesses. chegou antes do previsto.\",4],[\"Gostei. \\u00d3timo equipamento com um custo benef\\u00edcio muito bom. Ideal para tarefas do dia a dia.\",4],[\"\\u00d3timo custo beneficio. Excelente notebook, muito bonito e r\\u00e1pido, bateria muito boa e roda grande maioria dos jogos atuais\",5],[\"produto otimo. produto muito bom, estou muito feliz com minha aquisi\\u00e7\\u00e3o chegou antes da data prevista da entrega\",5],[\"Gostei muito. Obrigado pelo envio r\\u00e1pido do produto, chegou antes do prazo estabelecido por voc\\u00eas.\",4],[\"Produto de \\u00f3tima qualidade. Adorei o produto, pr\\u00e1tico e r\\u00e1pido de usar e eficiente O ruim \\u00e9 q n\\u00e3o veio o fone de ouvido q a Americanas diz q vem\",5],[\"amei. chegou super r\\u00e1pido \\u00e9 perfeito para o q eu precisava\",5],[\"Top. Pc atende as expectativas, mas a resolu\\u00e7\\u00e3o da tela dele n eh a das mais top... mas da pra jogar de boa\",5],[\"Em teste. Ainda estamos testando o equipamento. Por enquanto, parece bom.\",3],[\"TOP. MUITO LEVE E PRATICO F\\u00c1CIL DE LEVA, \\u00d3TIMO PRA TRABALHOS DE FACULDADE.\",5],[\"\\u00d3TIMO. MUITO LEVE E PRATICO F\\u00c1CIL DE LEVA, \\u00d3TIMO PRA TRABALHOS DE FACULDADE.\",5],[\"BOM. MUITO LEVE E PRATICO F\\u00c1CIL DE LEVA, \\u00d3TIMO PRA TRABALHOS DE FACULDADE.\",5],[\"BORA COMPRAR. MUITO LEVE E PRATICO F\\u00c1CIL DE LEVA, \\u00d3TIMO PRA TRABALHOS DE FACULDADE.\",5],[\"muito bom. MUITO LEVE E PRATICO F\\u00c1CIL DE LEVA, \\u00d3TIMO PRA TRABALHOS DE FACULDADE.\",5],[\"\\u00d3TIMO. MUITO LEVE E PRATICO F\\u00c1CIL DE LEVA, \\u00d3TIMO PRA TRABALHOS DE FACULDADE.\",5],[\"TOP. MUITO LEVE E PRATICO F\\u00c1CIL DE LEVA, \\u00d3TIMO PRA TRABALHOS DE FACULDADE.\",5],[\"TOP. MUITO LEVE E PRATICO F\\u00c1CIL DE LEVA, \\u00d3TIMO PRA TRABALHOS DE FACULDADE.\",5],[\"TOP. MUITO LEVE E PRATICO F\\u00c1CIL DE LEVA, \\u00d3TIMO PRA TRABALHOS DE FACULDADE.\",5],[\"TOP. MUITO LEVE E PRATICO F\\u00c1CIL DE LEVA, \\u00d3TIMO PRA TRABALHOS DE FACULDADE.\",4],[\"TOP. MUITO LEVE E PRATICO F\\u00c1CIL DE LEVA, \\u00d3TIMO PRA TRABALHOS DE FACULDADE.\",5],[\"TOP. MUITO LEVE E PRATICO F\\u00c1CIL DE LEVA, \\u00d3TIMO PRA TRABALHOS DE FACULDADE.\",5],[\"Gostei muito do Produto!. Achei ele muito pr\\u00e1tico, leve e com \\u00f3timo desempenho. Gostaria de comentar sobre a entrega, que foi excepcional.\",5],[\"Problema na bateria. Recebi dia 20\\u002f11, no dia 02\\u002f12 n\\u00e3o ligou mais, apenas conectado \\u00e0 tomada. Entrei em contato, levei para autorizada dia 05\\u002f12\\u002f17 e ao receber e fazer a vistoria j\\u00e1 n\\u00e3o ligava nem na tomada. Hoje, 30 dias depois, a \\u00fanica informa\\u00e7\\u00e3o pelo site da Positivo \\u00e9 que est\\u00e1 em manuten\\u00e7\\u00e3o, ligando na autorizada foi me dito que o problema \\u00e9 na bateria. N\\u00e3o quero mais o produto e n\\u00e3o recomendo. Aguardando solu\\u00e7\\u00e3o ainda.\",1],[\"Excelente custo-benef\\u00edcio. Notebook bom e r\\u00e1pido, tem um HD espa\\u00e7oso e uma configura\\u00e7\\u00e3o que atende muito bem para o trabalho di\\u00e1rio.  Recomendo a todos para estudos e tarefas normais, como acessar a internet e ver filmes em alta defini\\u00e7\\u00e3o\",5],[\"Vale a pena!. Chegou 3 dias ap\\u00f3s a realiza\\u00e7\\u00e3o do pedido. Veio tudo aos conformes, com todas as pe\\u00e7as, bem embalado, show demais. O material do produto n\\u00e3o \\u00e9 o melhor, mas ainda assim, bem resistente, levando em considera\\u00e7\\u00e3o o valor pago por ele. N\\u00e3o encontrei produto melhor e mais em conta em qualquer outro lugar.  Total agilidade na entrega e \\u00e9 um suporte muito pr\\u00e1tico de manusear. Recomendo.\",4],[\"Atende as necessidades. Goste muito do produto, muito f\\u00e1cil de montar e guardar. Se ad\\u00e9qua em qualquer espa\\u00e7o. A minha veio um porco torta, mas n\\u00e3o atrapalha o uso.\",4],[\"\\u00d3timo produto.. O produto, at\\u00e9 o momento n\\u00e3o apresentou problemas, tem \\u00f3timo desempenho inclusive em jogos, s\\u00f3 a bateria que n\\u00e3o aguenta muito tempo em jogos, de resto at\\u00e9 o momento atendeu minhas expectativas.\",4],[\"Gostei do produto. Super recomendo!!! Minha filha amou o tablet!! Podem comprar.\",4],[\"Defeito no produto. Quanto ao atendimento da loja tudo ok,porem n\\u00e3o tive sucesso com o produto ,pois o mesmo apresentou defeito (na abertura da 2\\u00aa janela ocorre travamento).\",2],[\"Produto como no an\\u00fancio.. \\u00d3timo atendimento, chegou antes da data, produto em perfeitas condi\\u00e7\\u00f5es, parece bem maior que nas fotos. At\\u00e9 agora gostei muito.\",4],[\"Produto n\\u00e3o liga. Nem suporte do vendedor, nem das Americanas Respondem.. Produto n\\u00e3o ligou. Veio chaveado em 220v, mas n\\u00e3o ligou. Mudei para 110v e coloquei em uma tomada 110 e tamb\\u00e9m n\\u00e3o ligou. Abri a reclama\\u00e7\\u00e3o e tanto o vendedor como as Americanas excederam o prazo de resposta.\",1],[\"Impr\\u00f3prio. Produto apesar de ser dito modelo universal n\\u00e3o serve no Tab A 2017\",2],[\"Produto n\\u00e3o funciona. Comprei de presente para minha filha. O notebook liga mas n\\u00e3o carrega e fica o tempo todo com uma mensagem de atualiza\\u00e7\\u00e3o. Como moro um pouco distante dela, n\\u00e3o tive a oportunidade de encontr\\u00e1-la.\",1],[\"Produto chegou com a caixa remendada, amassada e \\u00famida. O produto chegou a minha resid\\u00eancia com a caixa de fora amassada, a caixa de dentro \\u00famida e ambas amassadas, evidenciando que o produto foi molhado durante o transporte. Sempre compro na americanas e foi a primeira vez que isso ocorreu. Uma pena. Por enquanto est\\u00e1 funcionando como se n\\u00e3o tivesse afetado nada mas se pifar do nada j\\u00e1 sei porque foi.\",3],[\"MOTIVOS PARA N\\u00c3O COMPRAR:. 1\\u00ba Para instalar o Windows \\u00e9 terrivel e d\\u00e1 uma enorme trabalheira pois ele n\\u00e3o faz boot em um pendrive bootavel comum,  tem que baixar o RUFUS porque ele \\u00e9 bloq de fabrica s\\u00f3 consegue fazer boot UEFI.  2\\u00ba Nem tente instalar x32 ele so aceita Windows x64, o que n\\u00e3o faz nenhuma l\\u00f3gica pois o notebook s\\u00f3 vem com 1 slot de RAM e o processador j\\u00e1 \\u00e3o \\u00e9 l\\u00e1 essas coisas.\",1],[\"\\u00d3tima!. Estamos amando a tv imagem perfeita,super f\\u00e1cil de manusear e assistir a Netflix ficou bem melhor!\",5],[\"Atendimento e tempo de entrega p\\u00e9ssimo. Mais de 1 m\\u00eas o tempo de entrega, muito ruim. N\\u00e3o recomendo\",2],[\"Como posso avaliar algo que n\\u00e3o recebi?. Bla bla bla bla bla bla bla bla bla bla bla bla bla bla bla bla bla bla bla bla bla bla bla bla bla\",1],[\"Correspondente ao esperado!!. \\u00d3timo produto. Vale a pena adquirir, eu recomendo. Atendeu sim todas minhas expectativas. Pre\\u00e7o acess\\u00edvel!\",4],[\"n\\u00e3o gostei do produto. Tablet sem c\\u00e2mera atr\\u00e1s e com a resolu\\u00e7\\u00e3o muito ruim.\",2],[\"Amei !. gente gostei muito.. achei o notbook certo para me ajudar nos trabalhos da faculdade.. N\\u00e3o tive nenhum problema com ele, j\\u00e1 estou com ele tem 5 meses, satisfeita. Indico para quem usa Muiiito.. no trabalho e na faculdade.. ele tem 8gb e \\u00e9 o processador mais avan\\u00e7ado, o Core i7 .... bom e barato.\",4],[\"N\\u00e3o recebi o produto. Recebi o software mas o computador n\\u00e3o veio e as parcelas est\\u00e3o sendo descontadas do cart\\u00e3o normalmente\",1],[\"Nao gostei. Desse jeito eu n\\u00e3o vou comprar mesmo . Depois desses coment\\u00e1rios\",1],[\"PERFEITO. Show de bola esse not. Parabens a Samsung. Evoluiu na produ\\u00e7\\u00e3o dos nots gamer.\",5],[\"Recomendo. Produto bom, chegou em perfeitas condi\\u00e7\\u00f5es e bem embalado. S\\u00f3 n\\u00e3o dei mais estrela pq n\\u00e3o vem o drive de CD\\u002fDVD. No mais tudo ok\",3],[\"Gostei e meu filho adorou. Est\\u00e1 funcionando perfeitamente, \\u00e9 s\\u00f3 baixar jogos e se divertir....\",3],[\"gostei era a minha expetativa. muito bom, recomendo valeu a minha compra, equipamento superou o que queria.\",3],[\"Descri\\u00e7\\u00e3o 4gb veio com 2gb. Tudo \\u00f3timo, s\\u00f3 faltou o principal q seria a mem\\u00f3ria do an\\u00fancio. 2gb a mais. Propaganda enganosa.\",2],[\"Gosto muito do produto!. Bonito! Funciona bem. \\u00d3timo desempenho. Estou satisfeito. Obrigado!\",5],[\"Revoltado. N\\u00e3o recebi o produto at\\u00e9 agora vou comprar em outro lugar e colocar a americana na justi\\u00e7a  j\\u00e1 foi pago a primeira  parcela\",1],[\"\\u00d3timo produto!. \\u00d3timo produto, leve e r\\u00e1pido, bom para quem necessita de um notebook para realizar atividades cotidianas, al\\u00e9m do mais tem um bom custo. Recomendo! Entrega r\\u00e1pida.\",4],[\"Produto de alta qualidade. Produto de alta qualidade, melhor custo-benef\\u00edcio entre os notebooks da mesma categoria.\",5],[\"Gostei bastante!!!. O atendimento foi muito bom, o produto otimo n\\u00e3o tem nem o que dizer. S\\u00f3 n\\u00e3o vou dar excelente por que estou com o produto a pouco tempo, pois estava de viagem, ent\\u00e3o se der problema ou algo do tipo (espero que n\\u00e3o) eu possa trocar, parab\\u00e9ns positivo que esta me surpreendendo a cada dia e parab\\u00e9ns lojas americanas pelo atendimento e pela preocupa\\u00e7\\u00e3o, com certeza voltarei a comprar com a loja.\",4],[\"O melhor!. Produto de extrema qualidade e muito veloz. Recomendo a todos!!!\",5],[\"Produto \\u00f3timo. R comemdo. O produto \\u00e9 \\u00f3timo e o atendimento das lojas americanas com rela\\u00e7\\u00e3o ao custo, prazo s\\u00e3o excelentes\",4],[\"Decepcionante. Produto n\\u00e3o correspondeu minha expectativa, bateria n\\u00e3o carregava. Computador so funcionava conectado a rede el\\u00e9trica.Desfiz  o negocio.\",1],[\"\\u00d3timo produto. \\u00d3timo produto com excelente prazo de entrega. O produto est\\u00e1 com 10 dias de uso e s\\u00f3 com mais tempo para uma avalia\\u00e7\\u00e3o melhor\",4],[\"Produto atendeu as especifica\\u00e7\\u00f5es informadas na compra. Apenas o prazo de entrega eu achei muito extenso, j\\u00e1 que a mercadoria saiu de SP para entregar em SC\",4],[\"\\u00c9 bonito mas a bateria n\\u00e3o \\u00e9 legal. A entrega da Americanas foi bem r\\u00e1pida, o produto \\u00e9 bonito mas s\\u00f3 funciona se estiver na tomada, n\\u00e3o carrega a bateria. Pedi troca e a loja prontamente recolheu o produto com defeito e vai enviar outro.\",2],[\"Excelente produto. N\\u00e3o fica devendo absolutamente nada para marcas mais caras, a \\u00fanica coisa que senti falta foi do teclado retro iluminado\",5],[\"Muito bom!. Uma bela m\\u00e1quina para quem deseja alto desempenho e o melhor de tudo, um \\u00f3timo custo-benef\\u00edcio\",5],[\"Falta muito pra ser um ALTA PERFORMANCE. A loja me atendeu bem, entregou antes do previsto, mas o aparelho trava muito, \\u00e9 mais lento que o antigo que tinha, N\\u00c3O TEM LEITOR DE CD \\\\ DVD, tela com reflexo, comprei para trabalhar e est\\u00e1 me dando muito mais trabalho me acostumar com ele.\",2],[\"muito satisfeito. produto muito bom faz uma semana que estou usando muito satisfeito recomendo.  excelente entrega, americanas entregou bem antes do prazo.\",5],[\"Avalia\\u00e7\\u00e3o da compra de um Notbook lenovo. Excelente produto, chegou antes do pravo marcado. Recomendo.\",5],[\"Gostei pouco do produto. Muito fino, leve e bonito. Por\\u00e9m, trava desde quando recebi e \\u00e9 lento\",3],[\"Produto Maravilhoso. Um notebook com o design bem mais bonito que eu imaginava. Desempenho maravilhoso. Entrega r\\u00e1pida.\",5],[\"Top. Superou minhas expectativas produto, leve, design bonito, fininho tela bem grande n\\u00e3o trava com jogos, memoria cabe muitaaaaaaaaa coisa tive um Acer anterior a esse era muito bom esse melhor ainda a entrega era pro dia 03\\u002f01 Chegou dia 27\\u002f12 satisfeita com entrega.recomendo a loja e o notebook\",5],[\"Qual ddr sao as mem\\u00f3ria?. Nao mostra muito as especifica\\u00e7\\u00f5es das pe\\u00e7as tipo mem\\u00f3ria qual ddr e.?\",5],[\"Muito bom. \\u00c9 um produto muito importante para o uso pra utilidades necess\\u00e1ria pra boletos e.etc.\",4],[\"gostei do produto. Ideal para atividades em geral, Bom recurso t\\u00e9cnico, E de armazenagem.\",4],[\"dor de cabe\\u00e7a. nao tem uma semana e ja quero o dinheiro de volta o aparelho fala de baixar e validar programas o aparelho vai ler onde pois nao tem veio um cd com programas coloca onde liga para a empresa nada manda imail nada como vo\\u00e7e compra uma maquina e vo\\u00e7e tem que fazer tudo vamos ver no que da isso mas vai ser mais dor de cabe\\u00e7a .\",1],[\"Bom Produto. J\\u00e1 tinha tido outra experi\\u00eancia com um tablet da DL, era de um parente. Por isso optei pela compra deste aparelho pois, tive uma experi\\u00eancia satisfat\\u00f3ria. Pesquisei muito no mercado nacional, s\\u00f3 haviam tablets desatualizados ou muito caros, n\\u00e3o estava afim de importar... A DL veio com uma proposta muito atraente, que foi unir um smartphone com tablet e de quebra com Android 7.0 atual. Fiquei surpreso por ser uma empresa brasileira.  Claro que n\\u00e3o \\u00e9 perfeito, c\\u00e2mera de selfie fraca, bateria pouco dur\\u00e1vel mem\\u00f3ria interna j\\u00e1 v\\u00eam quase lotada,, (cart\\u00e3o de mem\\u00f3ria indispens\\u00e1vel) e alguma lentid\\u00e3o se usado mais de dois aplicativos... Acredito que a DL vai ouvir o fidback do consumidor e, aprimorar seus produtos. Vale o custo benef\\u00edcio.\",3],[\"Gostei. Comprei para meu neto de cinco anos, achei \\u00f3timo.   Comprei outra marca e sempre travava, com este ele est\\u00e1 muito feliz.\",4],[\"Muito bom o produto. Gostei do produto.. muito bom..atende minhas necessidades!\",3],[\"Excelente aquisi\\u00e7\\u00e3o. Super recomendo!. Gostei muito do aparelho. Recomendo a compra. F\\u00e1cil de usar e muito pr\\u00e1tico.\",5],[\"DUVIDA. Algu\\u00e9m sabe se \\u00e9 bom para rodar o Premiere?? Estou procurando um notebook para trabalho.\",4],[\"S\\u00f3 funciona na tomada!. O computador parecia bom, mas s\\u00f3 funcionou conectado na tomada. Se desligava aproximadamente 5 segundos ap\\u00f3s ser desconectado da fonte! E s\\u00f3 religava conectado! Ou seja, na pr\\u00e1tica \\u00e9 como se n\\u00e3o tivesse bateria! Devolvido no mesmo dia!\",1],[\"Produto enviado com defeito. Notebook enviado ap\\u00f3s 3 dias de uso apresentou defeito, e o mesmo precisar\\u00e1 ser enviado para a assist\\u00eancia!\",1],[\"Notebook  deixa muito a desejar.. Ol\\u00e1. Notebook muito lento na leitura do HD,  caro, sem leitor de CD\\u002fDVD, resolu\\u00e7\\u00e3o da tela ruim,etc. Entrega e atendimento muito complicados. S\\u00f3 n\\u00e3o devolvemos o produto por causa. do nosso projeto social. No geral, eu n\\u00e3o recomendo essa compra.\",1],[\"Gostei do Notebook. O notebook \\u00e9 bom. Apenas algumas observa\\u00e7\\u00f5es a serem feitas: - Demora para encontrar as redes quando inicializado; - Criei dois perfis: um com conta microsoft e outro sem conta. Demora um pouco mais para carregar os perfis; - Ele n\\u00e3o vem com duas parti\\u00e7\\u00f5es no HD, apenas com o disco local C.\",3],[\"Simples e pr\\u00e1tico. Um bom equipamento para quem precisa de algo pr\\u00e1tico e de custo aceit\\u00e1vel para as atividades do dia-a-dia, visando \\u00e9 claro estudo ou trabalho.\",3],[\"Notebook Lenovo. Gostei muito do notebook.  \\u00c9 \\u00f3timo e de f\\u00e1cil manuseio! Chegou rapidinho!\",4],[\"Entrega o que promete!. Estou usando para a universidade, usando inclusive o Arc gis, o pc funciona bem.\",3],[\"Melhor custo \\u002fbenef\\u00edcio. Produto muito bom, pre\\u00e7o bom e teclado num\\u00e9rico me agradou bastante, embora isso deixe o notebook maior. Excelente atendimento da Dell. Americanas , como sempre, fez a entrega antes da previs\\u00e3o, mesmo na \\u00e9poca de Natal.\",4],[\"Gostei do produto. Gostei muito do atendimento entrega no prazo previsto e sem danos\",3],[\"\\u00c9 o que promete ser. Entre todos os produtos que pesquisei este foi o que melhor se encaixou no quesito custo\\u002fbenef\\u00edcio e tem atendido bem as minhas necessidades.  Pr\\u00f3s: - Silencioso - R\\u00e1pido - Tela grande e confort\\u00e1vel. - Bom acabamento - Som excelente - Roda jogos com um desempenho m\\u00e9dio\\u002fbom  Contras: - Sinto falta de leds que sinalizem o que est\\u00e1 ativo ou n\\u00e3o (caps, leitura do disco, num lock...) - Drive cd\\u002fdvd\",5],[\"\\u00d3timo!!. Gostei muito, vale o pre\\u00e7o q paguei 1299,90!  A bateria dura 4h, tem um som muito bom, \\u00f3timo para ver Netflix etc  Roda the Sims 4, na qualidade mais baixa, j\\u00e1 que n\\u00e3o \\u00e9 um Notebook para jogos. Mas \\u00e9 muito bom para oq eu preciso!!\",4],[\"UMA COMPRA BRM SUCEDIDA. Ontem adquirido atende as expectativas do consumidor.\",5],[\"n\\u00e3o sei ao certo. Estou querendo comprar mas estou em duvida se valer apena.algu\\u00e9m me dar uma luz?\",5],[\"Bateria danificada. Produto chegou com bateria danificada, devolvi para a assist\\u00eancia t\\u00e9cnica h\\u00e1 mais de 10 dias e n\\u00e3o tive mais retorno. Quando liguei disseram que est\\u00e3o esperando chegar uma bateria da positivo. Estou sem minha compra. N\\u00e3o recomendo.\",1],[\"Muito bom. Atendeu as expectativas. Fixa bem. A capa traseira \\u00e9 um preto transparente, o que nao mostra na foto, mas gostei!\",4],[\"Muito bom. Notebook muito Bom, atendeu completamente minhas expectativas.\",4],[\"RECOMENDO. N\\u00e3o \\u00e9 nenhum S8 mas pelo custo compensa. \\u00d3tima rela\\u00e7\\u00e3o custoxbenef\\u00edcio. S\\u00f3 n\\u00e3o atribui excelente devido \\u00e0 qualidade das imagens das fotos que ainda fica um pouco a desejar.\",4],[\"\\u00d3timo custo benef\\u00edcio. Produto muito bom,  s\\u00f3 faltou luzes indicativas de fun\\u00e7\\u00f5es ativas.\",4],[\"Produto muito bom.. A m\\u00e1quina \\u00e9 excelente, atender\\u00e1 totalmente a minha necessidade. Por\\u00e9m, o Windows deu problema ap\\u00f3s atualiza\\u00e7\\u00e3o.\",4],[\"Gostei bastante!. Muito bom, recomendo.Apesar do tamanho \\u00e9 bem compacto e vers\\u00e1til.\",4],[\"Amei o produto. Recebi dentro do prazo, super bem embalado, dei de presente ao meu marido, que avaliou como excelente qualidade do produto, \\u00e9 um notebook muito bonito, leve!\",5],[\"excelente produto. Rapido, bateria dura muito, as portas s\\u00e3o muito bem distribuidas, ja tive outro acer uma marca acima de qualquer suspeita, excelente\",5],[\"atendimento de expectativas. Gostei muito do notebook, do design, do peso, e dos programas instalados neste modelo q est\\u00e3o me atendendo muito bem. Recomendo a compra do produto pelas Lojas Americanas que me deu suporte desde o pedido at\\u00e9 a entrega. O produto veio no prazo e bem embalado.\",5],[\"Produto de \\u00f3tima qualidade. Estou super satisfeito,comprei a poucos dias antes do Natal e me entregaram antes do Natal, produto de \\u00f3tima qualidade,eu super recomendo.\",5],[\"muito bom. desingner do produto bonito, entrega da loja no tempo previsto, recomendaria a um amigo, por\\u00e9m, hoje me senti preocupada, precisei utiliz\\u00e1-lo e ele travou pela primeira vez, n\\u00e3o sei se \\u00e9 normal em apenas tr\\u00eas meses de pouco uso e ele j\\u00e1 estar travando.\",4],[\"HORR\\u00cdVEL!!!!. Pra encurtar a conversa, essa marca \\u00e9 uma piada, cai na besteira de comprar, perdi o dinheiro!!!  N\\u00c3O COMPREM!!!\",1],[\"Gostei do produto. Produto bom entrega super r\\u00e1pida, recomendo a loja\",3],[\"muito bom. o note \\u00e9 lindo, o tamanho \\u00e9 ideal, gostei muito. chegou super rapido, comprei na quarta e sabado de manha ja estava com ele. o processador dele \\u00e9 rapido, n\\u00e3o trava, atende o que promete, \\u00e9 um bom investimento.\",5],[\"otimo prooduto. gostei muito deste notebook, vale a pena levar para casa.\",4],[\"\\u00d3timo custo benef\\u00edcio. Comprei para os meus filhos achei \\u00f3timo o produto o valor e a qualidade excelente, entrega r\\u00e1pida super indico\",4],[\"insatisfeita. Produto diferente do anunciado, diferente da foto. Tentei devolver e n\\u00e3o consegui!\",1],[\"Muito Bom. Tem um desempenho bom em jogos e multitarefa, mas o HD realmente faz barulho e ele esquenta um pouco.\",4],[\"Excelente produto!. Computador super r\\u00e1pido, desempenho atende perfeitamente, tamb\\u00e9m bem f\\u00e1cil de usar, e o novo sistema do cortana ajuda muito nas tarefas de trabalho, recomendo!\",4],[\"Custo benefio. Vale a pena bom produto, bonito muito elegante e cumpre o que promete.\",3],[\"muito bom. notte muito bom, rapido, bonito eficiente ....................................................................\",3],[\"Produto bom para uso dom\\u00e9stico.. No geral \\u00e9 bom para tarefas b\\u00e1sicas, como ver filmes e ler e-mails, para jogos n\\u00e3o recomendo.\",3],[\"Otimo Notebook. Notebook Excelente, alem de muito bonito tem desempenho muito bom e quase n\\u00e3o esquenta!!\",5],[\"Pratico rapido e muito leve.. Produto excelente para o seu dia a dia. Al\\u00e9m de r\\u00e1pido e pr\\u00e1tico, o produto ainda \\u00e9 bem leve para o transporte. Excelente produto!!!\",4],[\"Muito bom.. O produto \\u00e9 bom, atende as minhas necessidades. Tem um designer bom, super fino. Gostei muito.\",4],[\"Satisfa\\u00e7\\u00e3o. Compra efetuada sem dificuldades e entrega r\\u00e1pida. Senti apenas falta de maiores informa\\u00e7\\u00f5es\\u002fdescri\\u00e7\\u00e3o do produto no momento da busca.\",4],[\"Produto satisfat\\u00f3rio. Tinha uma expectativa maior sobre o notebook. A entrega foi r\\u00e1pida e eficiente. Produto chego inteiro e sem nenhum problema. A minha decep\\u00e7\\u00e3o foi que achei pesado e lento para um I5. Esperava mais rapidez na execu\\u00e7\\u00e3o dos programas. Por\\u00e9m vai atender a minha necessidade de estudo e uso dom\\u00e9stico.\",3],[\"FIQUEI DECEPCIONADA. J\\u00c1 \\u00c9 O SEGUNDO TABLET QUE COMPRO DESTA MARCAR QUE VOU PRECISAR TROCAR, N\\u00c3O TEM UM MES DE USO\",1],[\"Bom. O produto \\u00e9 bom, por\\u00e9m a bateria \\u00e9 muito ruim, as imagens n\\u00e3o s\\u00e3o n\\u00edtidas.\",3],[\"Otimo. Entrega pronta. Produto otimo em todos os aspectos com funcionamento muito eficaz\",5],[\"Produto otimo recomendo!. Entrega r\\u00e1pida,produto excelente site super mega seguro!!!Adorei\",4],[\"Sem palavras. Muito bom msm Obrigado n\\u00e3o tem compara\\u00e7\\u00e3o com outras  marcas.\",4],[\"Notebook muito bom e de alta qualidade. O produto \\u00e9 excelente e a entrega foi muito r\\u00e1pida. Parab\\u00e9ns! :)\",5],[\"Compra do notebook Positivo pela internet. Muito lindo o produto, design moderno, muito semelhante ao visto pelo computador. A entrega atrasou um pouco, mas nada que comprometesse.\",5],[\"otimo. produto muito bom, n\\u00e3o trava e legal para a crian\\u00e7ada.\",5],[\"Dell \\u00e9 top. Meu segundo notebook, primeiro Dell \\u00e9 claro, boa op\\u00e7\\u00e3o para quem estudante de cursos de Inform\\u00e1tica. Pr\\u00f3s: design top, n\\u00e3o esquenta muito, teclado muito bom, touchpad bom (mas prefiro um mouse bluetooth), n\\u00e3o pesa muito comparado ao meu velho notebook LG, Sistema Linux sem problemas, pois j\\u00e1 venho migrando desde 2016 para softwares livres. Contras: nenhum.\",5],[\"O pre\\u00e7o que ajuda. Mai comprando pela dell as parcelas vai para 12x sem juros e frete gr\\u00e1tis\",4],[\"excelente produto samsung. recomendo o produto, processador r\\u00e1pido, alcan\\u00e7ou as expectativas, pena que o brinde, que era um auto-falante ou uma bateria estava esgotado.\",4],[\"PRODUTO \\u00d3TIMO. Produto em perfeito estado e \\u00f3timo funcionamento, recomendo a todos esses produto.\",4],[\"Produto atende as exoectativas. Produto excelente...........................    Produto excelente................... Produto excelente...................\",5],[\"superou minhas expectativas. Se voc\\u00ea quer um tablet  barato para ler, estudar, assistir v\\u00eddeos e navegar na internet essa \\u00e9 a melhor escolha. Al\\u00e9m de ser muito bonito, \\u00e9 fluido, tem bateria de boa dura\\u00e7\\u00e3o e imagem em hd. Um \\u00f3timo custo-benef\\u00edcio. Estou impressionada.Saiu bem barato.\",5],[\"Tela verde e tremendo. O aparelho veio com defeito. Ele est\\u00e1 com proble.as na placa de v\\u00eddeo. A tela fica verde quando cai desligar.\",1],[\"gostei muito do produto. Excelente custo benef\\u00edcio. Produto bom, pre\\u00e7o bom, chegou r\\u00e1pido. Tudo de acordo com o esperado. Excelente para crian\\u00e7as.\",5],[\"Excelente. Excelente custo benef\\u00edcio. Produto bom, pre\\u00e7o bom, chegou r\\u00e1pido. Tudo de acordo com o esperado. Excelente para crian\\u00e7as.\",5],[\"Excelente notebook.. \\u00d3timo custo e beneficio pela configura\\u00e7\\u00e3o, recomendo.\",5],[\"N\\u00e3o comprei ainda.. N\\u00e3o comprei ainda estou esperando 60% de desconto, tenho acompanhado desde de outubro este produto n\\u00e3o foi dado desconto ainda,  como e que fica preciso comprar. Ex: 1700,00 - 60% = 1020,00 cad\\u00ea o desconto do notebook,\",5],[\"muito bom. Adoramos o tablet, tem excelente desempenho! Design muito bonito! Roda os joguinhos dos meninos sem o menor problema.. e olha que eles carregaram a mem\\u00f3ria! =D\",5],[\"muito bom! recomendo.. alem de bonito, inicia e carrega rapido! Funciona perfeitamente pelo pre\\u00e7o \\u00e9 \\u00d3TIMO para estudos e pesquisas na internet.\",4],[\"Transa\\u00e7\\u00e3o excelente.. Produto excelente, entregue no prazo, tudo de acordo com o an\\u00fancio.\",5],[\"Estou com uma d\\u00favida. Esse notebook \\u00e9 bom para jogar jogo de tiro fps em primeira pessoa?\",5],[\"\\u00d3timo Tablet. Ap\\u00f3s minha experi\\u00eancia com o Galaxy Tab E, o qual acabou quebrando por descuido meu, resolvi experimentar outro modelo. O Galaxy Tab A n\\u00e3o \\u00e9 3G, sendo somente Wifi, ou seja, n\\u00e3o tendo fun\\u00e7\\u00e3o telefone (chip), n\\u00e3o se instala whatsapp e outros apps de conversa\\u00e7\\u00e3o, por\\u00e9m com isso sobra espa\\u00e7o para outros apps. Optei por Tablet pois \\u00e9 bom pra leitura, jogos e videos. N\\u00e3o esquenta.  Bateria dura 1 dia e meio com uso m\\u00e9dio (sem jogatinas pesadas e por v\\u00e1rias horas). \\u00c1udio e visor muito bons. A c\\u00e2mera nunca foi requisito pra minha compra. Mas por experi\\u00eancia com smartphones da Samsung, a c\\u00e2mera \\u00e9 razo\\u00e1vel. \\u00danico por\\u00e9m \\u00e9 com rela\\u00e7\\u00e3o ao acabamento escorregadio. Aconselho a compra juntamente com alguma capa protetora e pel\\u00edcula. Fora isso, \\u00e9 top!\",4],[\"Atendeu todas as minhas expectativas. Comprei para ler e revisar textos utilizando a S-Pen. Tela de bom tamanho para este fim e a S-Pen funciona perfeitamente. Atendeu todas as minhas expectativas.\",5],[\"Excelente. Chegou antes do prazo. Notebook leve, r\\u00e1pido, n\\u00e3o esquenta e processador muito r\\u00e1pido. \\u00f3timo para estudo, trabalho e alguns games.\",5],[\"Capa possui \\u00edm\\u00e3s. O vendedor deveria informar que a capa possui \\u00edm\\u00e3s que prejudicam o funcionamento do aparelho.\",1],[\"Made in china. Produto made in china,tudo em chin\\u00eas, sem falar no carregador ,p\\u00e9ssimo.  Essa loja Eletrobras nunca mais.\",1],[\"EXCELENTE. ESTOU MUITO SATISFEITO E RECOMENDO SUA COMPRA. RECEBI UM BOM APARELHO EM UM CURTO ESPA\\u00c7O DE TEMPO. ENTREGA R\\u00c1PIDA.\",5],[\"GOSTEI MUITO DO PRODUTO LENOVO QUE COMPREI. COMPREI UM NOTEBOOK COM A EMPRESA AMERICANAS.COM DA MARCA LENOVO. AL\\u00c9M DO PRODUTO POSSUIR UM \\u00d3TIMO DESEMPENHO, A EMPRESA TAMB\\u00c9M MERECE SER CITADA PELO \\u00d3TIMO SERVI\\u00c7O DE ENTREGA E PRE\\u00c7O DO MESMO. RECOMENDO SEUS SERVI\\u00c7OS.   MANOELLA\",5],[\"Engana\\u00e7\\u00e3o. Disco de inicializa\\u00e7\\u00e3o em CD, mas n\\u00e3o tem drive... resumindo n\\u00e3o tem como funcionar!!!! MUITO DECEPCIONADO!!!! FUI ENGANO!!!!\",1],[\"Positiva. At\\u00e9 o momento o notebook tem se comportado muito bem, dentro das minhas expectativas.\",4],[\"Atendeu Muito Bem Minhas Expectativas.. Gostei muito do produto, atendeu as minhas expectativas. Comprei para meu filho de 5 anos ,super recomendo, possui o modo infantil que \\u00e9 super legal, milhares de jogos j\\u00e1 intalados ,para diferentes fazes de idade, Valeu muito a pena. Sobre a entrega foi muito rapida, recebi antes do prazo combinado.  Super Indico.\",4],[\"N\\u00c3O RECEBI. J\\u00c1 INFORMEI A AMERICANAS QUE N\\u00c3O RECEBI ESTE PRODUTO, MAS PARECE N\\u00c3O ADIANTAR.  PEDEM AVALIA\\u00c7\\u00c3O DO QUE N\\u00c3O REBEBI. PARECE QUE O \\u00daNICO JEITO \\u00c9 LEVAR A JUSTI\\u00c7A\",1],[\"Que pre\\u00e7o absurdo \\u00e9 esse por uma m\\u00e1quina assim?. Sinceramente, a maior burrice algu\\u00e9m comprar esse computador por esse pre\\u00e7o, com esse valor da pra comprar uma configura\\u00e7\\u00e3o muito melhor.\",1],[\"GOSTEI!. GOSTEI! \\u00d3TIMO PRINCIPALMENTE PARA JOGUINHOS! N\\u00c3O TRAVA EM JOGOS PESADOS.\",4],[\"Razo\\u00e1vel. \\u00d3bvio que \\u00e9 uma m\\u00e1quina limitada, mas por enquanto tem sido \\u00fatil para meu principal uso que \\u00e9 o produzir trabalhos acad\\u00eamidos (usando Word, Excel e ppt) e pesquisa de informa\\u00e7\\u00f5es na internet. As vezes tem uma certa lentid\\u00e3o... fica meio travado.\",2],[\"DEFEITO. Comprei o produto demorou 15 dias para chegar, usei o primeiro dia, no dia seguinte s\\u00f3 funcionava com o carregador conectado na tomada mesmo com a bateria cheia, mandei de volta j\\u00e1 faz 15 dias e at\\u00e9 agora n\\u00e3o recebi outro, recebi mensagem que vai chegar no dia 24\\u002f01\\u002f18, portanto j\\u00e1 ser\\u00e3o 45 dias de espera, brincadeira viu.\",1],[\"Excelente. Gostei mto do produto e da entrega. Um excelente notebook gamer.\",5],[\"Notebook bom. R\\u00e1pida entrega das lojas americanas, marca renomada, o produto atende as necessidades b\\u00e1sicas, \\u00e9 um pouco lento para jogos por exemplo. Mas assisto netflix, youtube, videos do facebook sem travar. Como outros aparelhos de outras marcas, precisa comprar a chave para utilizar office, vem com 1 m\\u00eas gratuito. Tela bem grande, s\\u00e9rio, Recomendo pelo custo benef\\u00edcio.\",4],[\"Gostei. Cumpre o que promete!! N\\u00e3o serve para o iPad novo, mas para o antigo ficou perfeito!!\",5],[\"Gostei do produto. O recebimento do produto foi muito r\\u00e1pido, e o produto atende com satisfa\\u00e7\\u00e3o a minha necessidade.\",4],[\"Muito Bom. Produto atendeu perfeitamente as minhas expectativas.\",5],[\"Excelente notebook!. Excelente notebook, muito r\\u00e1pido, suporta at\\u00e9 alguns games, aplicativos de filmes e muito bom para as atividades b\\u00e1sicas no Office. Recomendo!\",5],[\"Excelente. Pr\\u00e1tico para trabalho, f\\u00e1cil acesso, leve, design moderno!! Entrega antes do prazo!  Excelente custo-benef\\u00edcio.\",5],[\"Bom produto. Produto ok para uso caseiro, custo\\u002fbenef\\u00edcio compensa. Mas se for rodar programas pesados melhor comprar um tablet mais robusto.\",3],[\"Atende perfeitamente o que foi proposto!. Computador ideal para tarefas di\\u00e1rias, bem como redes sociais, jogos em browser, videos em full HD, o sistema operacional inclu\\u00eddo vem com todas as funcionalidades para uma utiliza\\u00e7\\u00e3o completa, foi s\\u00f3 ligar e come\\u00e7ar usar, sem mimimi de ficar instalando windows em um processo de etapas intermin\\u00e1veis.\",5],[\"Bom. O carregado e lento; O Aparelho esquenta um pouco com o uso prolongado; N\\u00e3o da pra ver a tela com a luz do Dia, s\\u00f3 dentro de casa;  Ja vem com muitos programas, ocupando muita memoria; O som e um pouco baixo; Mas o aparelho corresponde em tese as minhas expectativas; Consigo us\\u00e1 lo bem. Recomendo\",3],[\"Muito Lento. Pela marca e pelo equipamento, eu esperava bem mais. Achei muito lento, pra tudo! A entrega foi muito lenta tamb\\u00e9m.\",2],[\"MARAVILHOSO PRODUTO. AMEI ESSE PRODUTO, ELE \\u00c9 GRANDE, PROCESSADOR MUITO BOM, DESENVOLVE BEM, O SOM \\u00c9 MUITO LIMPO.]  S\\u00d3 N\\u00c3O SEI COMO ABRE A UNIDADE DE DISCO. NO MANUAL DIZ QUE VEM, MAS  NAO CONSEGUI ABRIR :i...ALGU\\u00c9M ME AJUDA A\\u00ed?\",4],[\"compra notebook. correspondeu as minhas expectativas, foi boa a compra recomendo\",4],[\"Gostei muito do produto. Excelente notebook, esperava mais da placa de v\\u00eddeo, mas mesmo assim \\u00e9 \\u00f3timo\",4],[\"\\u00d3timo produto.. Bom desempenho, cumpre o que promete. Chegou bem r\\u00e1pido, \\u00e9 pr\\u00e1tico e f\\u00e1cil de carregar, um produto bem leve.\",4],[\"\\u00d3timo produto. \\u00c9 um \\u00f3timo notebook para o dia a dia, mesmo sem a entrada para DVD, \\u00e9 perfeito, e por ser pequeno \\u00e9 bem pr\\u00e1tico. Feliz com a compra.\",4],[\"Demora na entrega e atualiza\\u00e7\\u00e3o de status.. N\\u00e3o tem nem como avaliar j\\u00e1 que meu pc n\\u00e3o chegou e t\\u00e1 demorando horrores para chegar. Decepcionando :\\u002f\",1],[\"Bom. Recomendou-lhe apresenta\\u00e7\\u00e3o conforme descrito nada a reclamar\",5],[\"Tela quebra com facilidade. com 23  dias de uso ele com capa caiu do meu colo e quebrou a tela, muito fr\\u00e1gil, acho que nesses produtos por serem grandes deveria vir com gorilla glass estou muito triste, a entrega na loja foi r\\u00e1pida parab\\u00e9ns loja americana.\",2],[\"NOTEBOOK BOM. comprei j\\u00e1 tem 1 semana, funcionando perfeitamente... atende mais que minhas necessidades diarias... r\\u00e1pido.. bonito e tela grande.\",4],[\"Pr\\u00e9 avalia\\u00e7\\u00e3o. Estou esperando pela entrega, pelos requisitos esse produto tem tudo pra ser um bom notebook, na Espera do produto para avali\\u00e1-lo melhor, custo beneficio em conta...\",3],[\"Produto \\u00f3timo. Gostei muito desse note pequeno, leve bonito e por enquanto posso dizer que ele est\\u00e1 sendo \\u00f3timo pra mim, pouco tempo de uso, a entrega desse produto foi rapida o que me deixou feliz ja o mouse at\\u00e9 agora nada.\",4],[\"Produto \\u00f3timo. Produto excelente, preenchendo todas as espectativas\",4],[\"Execelente Tablet. Excelente Tablet da Samsung, meu filho adorou, funciona muito bem os joguinhos sem travas. Recomendo...!!!!\",5],[\"PRODUTO ATENDE MINHAS NECESSIDADES. A AMERICANAS EST\\u00c1 DE PARABENS PELA ENTREGA, QUE ACONTECEI MUITO ANTES DO PRAZO. O COMPUTADOR TAMB\\u00c9M \\u00c9 EFICIENTE E SUPRE TODAS AS MINHAS NECESSIDADES. ESTOU SATISFEITA COM A COMPRA.\",3],[\"Computador lento. N\\u00e3o recomendo, Noteboock lento, periodicamente pede para atualizar algum programa e fica mais lento ainda. O problema n\\u00e3o \\u00e9 minha internet, possuo 20 Megas.\",1],[\"Cade o leitor de cd\\u002fdvd?. Entrega r\\u00e1pida, produto aparentemente bom, vamos ver com o decorrer da semana, mas cade o leitor de cd\\u002fdvd? algo de vital import\\u00e2ncia...\",3],[\"gostei. atendeu toda expectativa ha pouca memoria mais sabia deste fato ao adquirir comprei por ter a opcao 4g\",4],[\"Produto p\\u00e9ssimo. Produto que de gra\\u00e7a ainda se torna caro ,  porque ao ligar esse tablet e at\\u00e9  voc\\u00ea  conseguir acessar algum aplicativo, seu dia j\\u00e1  se foi !\",1],[\"Design Incr\\u00edvel - usu\\u00e1rio intermedi\\u00e1rio\\u002fb\\u00e1sico. M\\u00e1quina excelente para usu\\u00e1rios b\\u00e1sicos e intermedi\\u00e1rios.  Notebook com design incr\\u00edvel (lindo), por\\u00e9m as linhas cromadas e o logotipo cromado abaixo da tela por vezes proporcionam reflexos inc\\u00f4modos.   Estudantes: Desempenho um pouco a baixo do esperado quando lhe s\\u00e3o instalados softwares \\\"pesados\\\" de programa\\u00e7\\u00e3o, c\\u00e1lculos e desenho (ex: MatLab, Python com as bibliotecas cient\\u00edficas), contradizendo o \\\"Aspire 5 foi pensado para quem precisa de alta performance e velocidade\\\".\",4],[\"\\u00d3timo produto.. \\u00d3timo produto. At\\u00e9 o momento n\\u00e3o tem nenhum problema.\",5],[\"melhor custo x benef\\u00edcio. Comprei um notebook deste A515-51G-58VH na promo\\u00e7\\u00e3o de natal e paguei 10 x 219,90 sem juros, vale cada centavo, \\u00e9 r\\u00e1pido, n\\u00e3o esquenta, a bateria dura at\\u00e9 6 horas se estiver s\\u00f3 navegando e vendo v\\u00eddeos, mas jogando a bateria s\\u00f3 dura umas 2 horas, ele \\u00e9 leve, silencioso demais, teclado confort\\u00e1vel para digitar, o \\u00fanico por\\u00e9m \\u00e9 a tela espelhada, tem muito reflexo, e n\\u00e3o \\u00e9 1280x720 e sim 1366x768, ou seja, diferente de como \\u00e9 anunciado em alguns sites na internet. Mas eu recomendo.\",4],[\"N\\u00e3o Comprem!!!!!!. Demorou para chegar, chegou e n\\u00e3o est\\u00e1 funcionando vou ter que mandar pra eles arrumarem, e demorar mais e mais\",1],[\"Gostei. Me entregaram antes da data prevista,e \\u00e9 um bom produto mais minhas expectativas eram maiores das que obtive\",3],[\"Produto simplesmente n\\u00e3o funciona. Produto n\\u00e3o funciona, fica tela preta carregando e n\\u00e3o abre nada , esquenta muito, muito mesmo mais lento do que qualquer outra coisa , n\\u00e3o recomendo de maneira alguma , produto simplesmente horr\\u00edvel.\",1],[\"produto e atendimento conforme o esperado. gostei !!!!!!!!!!!!!!do servi\\u00e7o como um todo...............................\",4],[\"Boa capa protetora. \\u00c9 uma boa capa para prote\\u00e7\\u00e3o, realmente encaixou o de 7\\\", n\\u00e3o deixa o tablet escorregar das m\\u00e3os. Por\\u00e9m o el\\u00e1stico direito superior fica bem em cima da entrada do fone de ouvido (no caso do tablet samsung galaxy tab A modelo T280), logo, caso queira usar fone, precisa tirar esse el\\u00e1stico (ficando o tablet seguro pelos outros 3 el\\u00e1sticos). E n\\u00e3o deu para assistir videos na horizontal colocando a capa em uma mesa. \\u00c9 preciso escorar o tablet em algum lugar pois a capa n\\u00e3o segura ele na horizontal... fica caindo. Nas fotos do produto v\\u00ea-se um tablet na posi\\u00e7\\u00e3o horizontal, mas n\\u00e3o fica firme.\",3],[\"defeito com menos de 4 meses de uso. Recebi o produto j\\u00e1 faz 3 meses e 20 dias, \\u00e9 um computador regular, nada de espetacular, desempenho comum, todas as USBs (duas), s\\u00e3o do mesmo lado, ali\\u00e1s...tudo fica do lado esquerdo, n\\u00e3o tem entrada pra cart\\u00e3o, mas isso estava nas especifica\\u00e7\\u00f5es e fotos. Hoje vou lev\\u00e1-lo \\u00e0 assist\\u00eancia t\\u00e9cnica pois a placa de wifi, que j\\u00e1 estava falhando, parou de funcionar de fez. N\\u00e3o compraria novamente, ele \\u00e9 um daqueles travados... com parti\\u00e7\\u00f5es escondidas,dif\\u00edcil de trocar o sistema, e nem pode!!!! se vc ler a garantia vai descobrir que ela e torna nula se vc trocar  sistema ou usar alguma coisa que n\\u00e3o \\u00e9 Samsung.\",1],[\"Bom produto. Existem produtos superiores no mercado, mas atendeu a expectativa \\u00e9 o prometido pelo fabricante. Recomendo!\",3],[\"Excelente. Leva o peso da qualidade DELL, n\\u00e3o da pra achar um notebook com essa configura\\u00e7\\u00e3o por esse pre\\u00e7o.  Muito satisfeito por essa compra, confiabilidade da entrega das Lojas Americanas.\",5],[\"Gostei do produto. Produto muito bom conforme esperado. Entrega r\\u00e1pida.\",4],[\"Custo-benef\\u00edcio razo\\u00e1vel. Notebook leve e compacto. J\\u00e1 vem pronto para o uso. No entanto, a capacidade de armazenamento e processamento \\u00e9 t\\u00e3o baixa que s\\u00f3 de instalar Chrome ele j\\u00e1 ficou lento. Se n\\u00e3o for para instalar absolutamente nada nele, at\\u00e9 que atende ao uso dom\\u00e9stico.\",2],[\"O produto atendeu minhas expectativas. Produto entregue dentro do prazo e atendeu as expectativas\",5],[\"O produto atendeu as expectativas. Eu sou desenvolvedor de software, e precisava de um tablet que atendesse as seguintes expectativas:  1) O custo benef\\u00edcio fosse bom; 2) Que o produto n\\u00e3o fosse muito r\\u00e1pido e sofisticado;  Dessa forma, os dois crit\\u00e9rios acima foram atendidos perfeitamente.\",3],[\"nao recebi este produto. gostaria muito de avaliar este produto, mas infelizmente n\\u00e3o recebi. espero o reembolso pelo pg realizado e produto n\\u00e3o enviado. att.,\",1],[\"Ameiiiiiii o produto!!!!!. Gostei muito do produto, veio certinho e chegou at\\u00e9 antes do prazo. Super indico. \\u003c3\",5],[\"Excelente!. Excelente para minhas necessidades. Superou as expectativas!\",4],[\"Pior marca que j\\u00e1 comprei!!!. Com tr\\u00eas meses de uso a placa m\\u00e3e queimou e agora com cinco meses de uso a placa de v\\u00eddeo est\\u00e1 queimando, produto de p\\u00e9ssima qualidade. Nunca pensei que a positivo estivesse t\\u00e3o ruim, estou decepcionada.  O produto est\\u00e1 barato mas \\u00e9 como dizem: O barato sai caro.\",1],[\"Precisam melhorar o atendimento. Fui muito mal atendido pelos consultores da Americanas. Recebi meu produto com atraso, sendo que comprei este computador como uma ferramenta de trabalho.  O computador \\u00e9 lento e dificilmente consigo desempenhar as fun\\u00e7\\u00f5es que necessito com ele.\",2],[\"Notebook LG. Produto bom e entrega o que anuncia, s\\u00f3 o teclado que n\\u00e3o \\u00e9  muito sens\\u00edvel, tendo que apertar com mais for\\u00e7a para seguir o comando.\",3],[\"Gostei do notebook. Suficiente para uso b\\u00e1sico, Office, navega\\u00e7\\u00e3o na internet, redes sociais, fotos, filmes e m\\u00fasicas! Neste aspecto atende plenamente!!!\",4],[\"propaganda enganosa na parte da entrega. como posso avaliar se o produto ainda n\\u00e3o chegou  quando fiz pedido estava 28 dias para entrega paguei dia 11\\u002f12   .. hoje j\\u00e1 em 10 janeiro e nada ainda  pelo conceito que a americanas tem ..deveria pensar em rever as parcerias com seus fornecedores.  estou indignada com falta de aten\\u00e7ao da equipe americana pois ja fazem mais de 10 dias que estou esperando retorno e nada\",1],[\"Otimo!!. Um produto muito bom, muito bonito e funciona muito bem, recomendo!!\",5],[\"PESSIMO O ATENDIMENTO. PIOR SITE PRA FAZER COMPRAS COMPREI UM PRODUTO E NUNCA RECEBI E NAO ME D\\u00c3O NEM SATISFA\\u00c7\\u00c3O, ESTOU PREPARANDO UM B.O PRA ENTRAR NO PROCON.\",1],[\"Dell Inspiron. Aparenta ser um bom produto! Comprei a poucos dias. N\\u00e3o apresentou travamento, s\\u00f3 demora um pouco para ligar.\",3],[\"Bateria de p\\u00e9ssima qualidade. S\\u00f3 funciona na tomada, decepcionante. Minha primeira e \\u00fanica experi\\u00eancia com a marca Positivo, que de positivo mesmo n\\u00e3o tem nada!\",1],[\"meu netinho adorou. Para crian\\u00e7a achei excelente meu netinho amou o som achei baixo mesmo sendo volume maximo mas foi satisfatorio o produto pelo pre\\u00e7o.\",4],[\"otimo. bom chegou direitinho e r\\u00e1pido bom chegou direitinho e r\\u00e1pido bom chegou direitinho e r\\u00e1pido bom chegou direitinho e r\\u00e1pido bom chegou direitinho e r\\u00e1pido bom chegou direitinho e r\\u00e1pido bom chegou direitinho e r\\u00e1pido bom chegou direitinho e r\\u00e1pido bom chegou direitinho e r\\u00e1pido\",4],[\"produto de qualidade. Produto de \\u00f3tima qualidade conforme descri\\u00e7\\u00e3o e chegou antes do prazo previsto\",5],[\"Uma \\u00f3timo produto. J\\u00e1 conhe\\u00e7o essa marca a muitos  anos,e agora tive a oportunidade de adquirir esse aparelho excelente.\",4],[\"Atendeu as expectativas. De acordo com as informa\\u00e7\\u00f5es do site. Estou satisfeito com a aquisi\\u00e7\\u00e3o.\",4],[\"Gostei. Muito pratico, s\\u00f3 faltou uma entrada RJ45 e um processador mais r\\u00e1pido (a\\u00ed seria perfeito), mas atendeu bem minha necessidade. Recomendo.\",4],[\"\\u00d3timo produto. Muito bom o produto, excelente qualidade e acabamento, entrega no prazo.\",3],[\"Cuidados de Consumidor. Tive a sorte de comprar esse produto na loja f\\u00edsica de um Shopping em Fortaleza-CE com um pre\\u00e7o bem em conta e parcelado em 10x. Ao finalizar o pagamento, a funcion\\u00e1ria do caixa me explicou que no cupom fiscal estava discriminado o valor do teclado, mouse e caixas de som separado, mais n\\u00e3o ia interferir no total. Em seguida me entregou a caixa com a CPU e eu indaguei se ela havia me entregado o cupom, ela afirmou positivamente e eu segui com aquele trambolho para o carro, mas resolvi voltar na loja e conferir o conte\\u00fado da caixa, pois j\\u00e1 havia sido prejudicado em uma compra outra \\u00e9poca. Ao abrir a caixa todos os itens constavam, por\\u00e9m notei que a tampa lateral n\\u00e3o estava encaixada como deveria e ao inspecionar melhor virando o gabinete, a surpresa: o alum\\u00ednio do fundo estava muito amassado. Algu\\u00e9m me disse que s\\u00f3 havia aquela caixa e outra funcion\\u00e1ria apareceu 15 min depois com outra. Abrimos e estava oK. Questionei sobre o cupom fiscal que n\\u00e3o achei em meus bolsos e a funcion\\u00e1ria reafirmou que havia entregue. Solicitei uma segunda via como comprovante de garantia, me passaram um recibo e orientaram que enviariam por e-mail. Recebi. Fico pensando na dor de cabe\\u00e7a se tivesse identificado o defeito somente em casa e como iria comprovar que comprei na loja sem o cupom fiscal. Me deu impress\\u00e3o e sensa\\u00e7\\u00e3o de estar participando de um golpe. Fica a Dica!\",4],[\"muito bom o produto. muito bom o produto, entrega r\\u00e1pida e recomendaria para outro consumidor.\",4],[\"Otimo!!! Prazo de entrega excelente!!!. Parab\\u00e9ns continue assim... Gostaria que todos os sites focem de tamanha respons\\u00e1bilidade quanto o seu!\",5],[\"d\\u00favidas. qualquer monitor \\u00e9 compativel? tem entrada HDMI?   aguardo resposta\",3],[\"nao recebi o produto. Tenho tentado entrar em contato inumeras vezes e n\\u00e3o tenho conseguido resposta satisfat\\u00f3ria.  vou procurar o o procon se o caso n\\u00e3o for resolvido esta semana.  entrarei na justi\\u00e7a\",1],[\"MUITO BOM OS PRODUTOS DELL. Tenho um DELL a mais de 9 anos e realmente a qualidade \\u00e9 superior.\",5],[\"Apple \\u00e9 apple. N\\u00e3o tenho do que reclamar do produto, pelo contrario. Vale muito a pena. Chegou antes do prazo. Recomendo!\",5],[\"Pr\\u00e1tico para crian\\u00e7as. Muito pr\\u00e1tico para as crian\\u00e7as segurarem o tablet e o fato de poder deixar apoiado na mesa, sem que precise ficar segurando, \\u00e9 muito bom!\",4],[\"Muito ruim. O notebook n\\u00e3o realiza bem func\\u00f5es b\\u00e1sicas de um notebook qualquer. Ele \\u00e9 extremamente lento e demora at\\u00e9 pra abrir uma p\\u00e1gina na internet. N\\u00e3o recomendo. Tenho uma prima que tem um igual e reclama da mesma coisa.\",1],[\"O produto \\u00e8 bom mas a memoria \\u00e9 um pouco pequena e trava com alguns jogos. O produto \\u00e8 bom mas a memoria \\u00e9 um pouco pequena e trava com alguns jogos.\",3],[\"muito  bom. Estou muito satisfeita com o produto e com  as loja americanas, enrega antes do prazo,muito bom parab\\u00e9ns americanas.\",4],[\"Ideal para seu dia-a-dia.. Aparelho de f\\u00e1cil manuseio, aplicativos dispon\\u00edveis e teclado de uso facilitado.\",4],[\"muito bom. muito r\\u00e1pido e a c\\u00e2mera de excelente defini\\u00e7\\u00e3o,facil de manusear, a bateria \\u00b4n\\u00e3o descarrega com facilidade, gostei muito e recomendo pra qualquer um\",5],[\"produto muito bom. PRODUTO MUITO BOM CUSTO BENEFICIO OTIMO POREM O SISTEMA OPERACIONAL QUE VEM INSTALADO NELE \\u00c9 MUITO RUIM MAIS DEPOIS Q COLOCAR WINDOWS 10 ROOODA MUIIITO BEM RECOMENDO MUIIITO,ENTREGA SUPER OTIMA MUITO ANTES DA DATA PREVISTA.\",4],[\"Bateria melhor que duracell, dura, dura, dura!!!!. Esta pensando naquele Not brilhoso, pintura automotiva, fininho, lev\\u00edssimo coisinha de princesa!?? Pois pode ir desistindo, este Not \\u00e9 para pessoas que querem algo dur\\u00e1vel, robusto, silencioso, que n\\u00e3o esquenta, trabalha sempre no mesmo ritmo, quer um mais r\\u00e1pido!?? Ent\\u00e3o v\\u00e1 para um Dell Corel i5 ou i7, pq este i3 \\u00e9 pau para toda obra, n\\u00e3o te deixa m\\u00e3o, trabalha at\\u00e9 7 horas sem parar, evitando aquele desconforto de \\\"uma tomada pelo amor de deus\\\", na faculdade trabalha sem parar at\\u00e9 o fim da aula como um maratonista, agora se voc\\u00ea gosta dos casquinha de ovos, boa sorte!!!\",5],[\"Perfeito. Roda todos os jogos, n\\u00e3o esquenta, funciona com todos os programas\",5],[\"Gostei!. para a especifica\\u00e7\\u00e3o dele funciona bem. poderia ser um pouco maior.\",4],[\"Lixo!!!!. Comprei para meu filho de presente de Natal. Ele NUNCA conseguiu usar... processador super lento, trava a toda hora e depois de 2 dias travou totalmente e n\\u00e3o funciona mais.... n\\u00e3o recomendo!!\",1],[\"Gostei muito do produto e entrega. Gostei muito do produto e a entrega foi realizada conforme o acordado\",5],[\"Produto excelente. Produto de qualidade, comprei com at\\u00e9 18 dias uteis para entrega e me entregaram com 3 dias.\",5],[\"Entrega. Gostei muito do prazo de entrega, s\\u00e3o excelentes. Parab\\u00e9ns!!!\",5],[\"Muito bom!. Comprei o Note para atividades acad\\u00eamicas. N\\u00e3o tenho do que reclamar.  \\u00c9 r\\u00e1pido e fino.\",5],[\"\\u00d3timo produto, adorei!!!. Produto moderno , com requisitos avan\\u00e7ados que permitem melhor agilidade no desenvolvimento de trabalhos e capacidade de armazenamento.  Recomendo , al\\u00e9m disso , \\u00e9 leve e muito bonito.\",4],[\"Bom produto. Tela antirreflexo \\u00e9 um excelente acess\\u00f3rio, al\\u00e9m do processador ser bom. A bateria n\\u00e3o dura muito tempo, por\\u00e9m no geral o notebook \\u00e9 muito bom.\",4],[\"N\\u00e3o gostei. Tela fr\\u00e1gil para um tablet para crian\\u00e7as, quebrou no dia que ganhou, n\\u00e3o caiu no ch\\u00e3o, ele provavelmente se apoiou no tablet, tem 3 anos e n\\u00e3o \\u00e9 pesado\",2],[\"Me respondam. Pessoal, estou esperando uma gra\\u00e7a e estou com d\\u00favida se o PC vem sem nem um problema no gabinete ou algo assim, \\u00e9 tbm saber qual o ssite mais operacional, obrigado.\",5],[\"Ainda tem ele no estoque?. Equipe das lojas americanas, existe alguma pr\\u00e9via de quando ele voltar\\u00e1 para o estoque? Chateada porque n\\u00e3o tem mais :'(\",4],[\"Prazo de entrega rapido. N\\u00e3o tinha op\\u00e7\\u00e3o de cor, mas o produto \\u00e9 bom e a entrega foi super rapida.\",3],[\"Computador Intel Core I5 3.10Ghz 8Gb Ddr3 HD 2Tera Premium. Bacana, estou gostando bastante......esta me atendendo bem.\",3],[\"N\\u00c3O RECOMENDO!. Esse modelo de notebook n\\u00e3o suporta o sistema operacional e trava o tempo todo, at\\u00e9 para tarefas simples como abrir uma pasta ele fica carregando! n\\u00e3o indico.\",1],[\"Notebook fica com a tela branca. Gostaria de saber sobre a garantia do notebook porque depois de algum tempo ligado o computador fica com a tela toda branca e linhas pretas, a\\u00ed s\\u00f3 desligando ele e ligando novamente volta a funcionar, mas em seguida fica novamente com a tela branca e linhas pretas, qual o procedimento pra concerto ou troca do produto.\",1],[\"Boas recomenda\\u00e7\\u00f5es. Produto chegou antes do prazo e em perfeiras condi\\u00e7\\u00f5es. Muito bom\",5],[\"Muito lento. O computador \\u00e9 muito lento, antes de comprar pesquisem.\",1],[\"Custo beneficio excelente. A entrega foi realizada antes do prazo combinado. O produto chegou sem nenhum defeito ou arranh\\u00e3o e bem embalado. S\\u00f3 achei ele um pouquinho lento e travando as vezes para um i5 - 7\\u00aa Ger., mas est\\u00e1 excelente para as minhas necessidades. Muito bonito, simples e bonito. Recomendo!!!\",4],[\"Pensando em Economia, encontrei o produto.. Minha empregada estava reclamando que sua tv n\\u00e3o estava funcionando vale a pena ver de novo, assim de presente pra ela.\",3],[\"Notebook Lenovo 2 em 1 Yoga 520 Intel Core i7 8GB 1TB Tela 14\\\" Windows 10 - Platinum. Notebook Lenovo 2 em 1 Yoga 520 Intel Core i7 8GB 1TB Tela 14\\\" Windows 10 - Platinum\",5],[\"N\\u00e3o chegou. O pedido n\\u00e3o chegou ainda,  deveria cumprir com a data prevista na hora da compra.\",1],[\"Produto p\\u00e9ssimo. Produto trava toda hora n\\u00e3o consigo acessar nenhum jogo e nem assistir video\",1],[\"Bom. O notebook \\u00e9 bem legal, com visual compacto. Pena que n\\u00e3o tinha na cor preta. Mas valeu a pena ter um.\",3],[\"\\u00d3timo, mas, pode melhorar!. O notebook \\u00e9 \\u00f3timo em termos de funcionalidade e n\\u00e3o deixa a desejar para execu\\u00e7\\u00e3o de atividades b\\u00e1sicas como navega\\u00e7\\u00e3o e uso do pacote office. Pontos para melhorias: - o bot\\u00e3o de liga\\u002fdesliga \\u00e9 na lateral direita do aparelho e provoca v\\u00e1rios desligamentos acidentais.   - a fonte de carregamento \\u00e9 ligada no lado esquerdo do aparelho, portanto, se for usar o modo tablet, \\u00e9 preciso ter cuidado para n\\u00e3o desligar o aparelho, pois, o bot\\u00e3o de desliga est\\u00e1 justamente no lado onde ser\\u00e1 apoiado para uso. - as teclas do teclado poderiam ter sido feitas de outro material. O pl\\u00e1stico usado \\u00e9 duro e n\\u00e3o oferece conforto durante o manuseio, al\\u00e9m de provocar um barulho que incomoda.\",4],[\"Otimo produto. Recomendo pois \\u00e9 \\u00f3timo custo beneficio E bem estiloso.\",5],[\"Atende as expectativas. Produto muito bonito, som de \\u00f3tima qualidade, pena que \\u00e9 um pouco lento, muitas atualiza\\u00e7\\u00f5es do windows. Mas foram isso \\u00e9 top\",4],[\"\\u00d3timo Custo Benef\\u00edcio. O produto tem um tamanho \\u00f3timo e o valor \\u00e9 mais justo que o dos produtos equivalentes\\u002fsimilares de marcas de primeira linha. N\\u00e3o houve problemas em usar o produto pela primeira vez, \\u00e9 t\\u00e3o intuitivo quanto os celulares da mesma marca. Os acess\\u00f3rios de prote\\u00e7\\u00e3o (capa e pel\\u00edcula) para esse modelo s\\u00e3o f\\u00e1ceis de achar e de baixo custo, o que tamb\\u00e9m \\u00e9 uma vantagem.\",4],[\"\\u00c9 um \\u00f3timo para estudante. O Samsung Essentials E35S \\u00e9 uma \\u00f3tima compra, n\\u00e3o esperava eu fosse gostar tanto. \\u00c9 fino, considero pequeno, apesar de ter uma tela 14, e apesar de ser um dos mais leves, ainda acho que \\u00e9 pesado. O material \\u00e9 resistente, n\\u00e3o corre o risco de abrir de quebrar a tapa, \\u00e9 uma material resistente. N\\u00e3o usei muito, tem s\\u00f3 24 hrs que chegou, e acredito que tenha sido uma compra satisfat\\u00f3ria, o sistema fluir r\\u00e1pido, n\\u00e3o lento. Eu gostei muito, e recomendo para quem busca um Notebook para o laser, ou mesmo para estudo e trabalhos para a Universidade. \\u00c9 satisfat\\u00f3rio, e o pre\\u00e7o est\\u00e1 bom.\",4],[\"N\\u00e3o gostei. Pela demora na entrega, solicitei o cancelamento! Comprei em outra loja!\",2],[\"Satisfeita com a compra. Computador com \\u00f3timo design, software excelente, como esperado\",5],[\"Descri\\u00e7\\u00e3o incorreta. Quando fui instalar o produto percebi que a tablet n\\u00e3o cabe no case, pois n\\u00e3o especifica corretamente o tamanho e uma tablet Samsung de 10' n\\u00e3o cabe no case. O teclado funciona perfeitamente, mas tem esse problema no case.\",3],[\"Gostei demais!!. \\u00d3timo produto, dentro das minhas necessidades. Entrega r\\u00e1pida, antes do prazo. Menor pre\\u00e7o do mercado.  Recomendo!\",4],[\"Sem Camera Frontal. Produto muito bom, mais veio sem a camera frontal qual eu paguei fou com camera. Inferlimente ficar atento na chegada do produto.\",5],[\"Conforme esperado. O produto atende a especifica\\u00e7\\u00e3o da compra. Para isto foi feita uma pesquisa de caracter\\u00edsticas tecnicas visando adequa\\u00e7\\u00e3o do equipamento \\u00e0s minhas necessidades...\",3],[\"\\u00d3Timo Tablet. \\u00d3timo produto, s\\u00f3 n\\u00e3o \\u00e9 excelente pelo pequeno espa\\u00e7o de mem\\u00f3ria.\",4],[\"Maravilhoso. Vale muito a pena comprar nas americanas, as entregas chegam muito antes do prazo\",5],[\"Entrega e produto excelente. Americanas est\\u00e1 de parab\\u00e9ns pela r\\u00e1pida entrega e pelo produto que \\u00e9 excelente.\",5],[\"Fraquinho. Infelizmente \\u00e9 um tablet abaixo da m\\u00e9dia em termos de desempenho... Seu processador n\\u00e3o d\\u00e1 conta do Android 7.1, limitando e muito o desempenho do aparelho. E os 8gb de mem\\u00f3ria infelizmente \\u00e9 muito pouco. N\\u00e3o esperava muito dele mesmo, mas a decep\\u00e7\\u00e3o foi maior do que imaginava!\",2],[\"recomendo. Funciona bem, boa mem\\u00f3ria, atende bem minhas necessidades, acesso internet, assisto filmes e tenho alguns apps de jogos que s\\u00e3o bem carregados, deixou um pouco lento, por\\u00e9m funcionando razoavelmente bem.\",3],[\"N\\u00e3o gostei do produto. Aparelho esta apresentando tela vermelha apos os 7 dias de uso.\",1],[\"por ser Dell esperava um desempenho melhor. esperava melhor desempenho, o computador n\\u00e3o responde aos comandos com a velocidade que esperava\",3],[\"IMAGENS N\\u00c3O CONDIZEM COM AS DESCRI\\u00c7\\u00d5ES. As imagens apresentadas no topo do an\\u00fancio n\\u00e3o retratam todo o texto da descri\\u00e7\\u00e3o do equipamento. Nas imagens do topo n\\u00e3o aparece o teclado num\\u00e9rico e mais abaixo diz que tem (d\\u00fabio). No t\\u00edtulo diz que tem placa de v\\u00eddeo Nvidia mas nas caracter\\u00edsticas no final da p\\u00e1gina diz ser Intel (d\\u00fabio). Enfim, an\\u00fancio totalmente confuso, fica complicado confiar no site e imaginar o que de fato ser\\u00e1 entregue.\",1],[\"bom. gostei do produto, s\\u00f3 demorou muito entrega comprei dia 12\\u002f12 foi entregue dia 08\\u002f01 isso n\\u00e3o e legal.\",3],[\"Produto de boa qualidade. \\u00d3timo, produto veio como anunciado.Mas n\\u00e3o da pra colocar cd.\",4],[\"\\u00d2TIMA ESCOLHA. \\u00d3timo Custo Benef\\u00edcio. Vale a pena comprar! Recomendo a todos!\",5],[\"Muito bom. Atendeu minhas expectativas, notebook leve, design bonito e agora estou testando aos pouco. O office terei que instalar outra vers\\u00e3o, pois vc s\\u00f3 consegue utilizaresolver o que vem instalado caso adquira o pacote. Tirando isso,estou gostando do equipamento.\",3],[\"Produto de \\u00f3tima qualidade. O notebook tem um designer muito sofisticado. Recomendo a todos.\",4],[\"tablet. N\\u00e3o foi usado, mas pela marca ser de otima qualidade o tablet em si tbm deve ser.\",5],[\"Propaganda enganosa. Vendido com 8 GB. Mas quando vc consulta tem apenas 5.8 GB. Um absurdo. \\u00c9 fazer o consumidor de ot\\u00e1rio.\",1],[\"N\\u00e3o gostei. Na descri\\u00e7\\u00e3o do produto n\\u00e3o deixa claro que ele n\\u00e3o possui leitor de dvd  a pessoa compra e em casa tem essa  supresa e eles ainda manda um cd de configura\\u00e7\\u00e3o pra passa nai sei onde porque no computador nao \\u00e9  ele nao tem entrada.\",2],[\"Melhor Custo Beneficio. Pesquisei muito antes de compra, sem duvida este notebook tem o melhor custo benefio.\",5],[\"Bom produto. Produto leve, bonito, \\u00f3tima imagem, mas \\u00e9 lento, e as vezes depois que voc\\u00ea tenta abrir algum aplicativo na primeira vez ap\\u00f3s ligar o aparelho, ele demora para abrir e fecha o aplicativo, tirando isso o resto \\u00e9 muito bom\",3],[\"P\\u00e9ssimo com 10 dias de uso parou de funcionar. Fiz a reclama\\u00e7\\u00e3o com dez dias \\u00e9 s\\u00f3 conta uma reclama\\u00e7\\u00e3o. S\\u00f3 preciso do primeiro protocolo de reclama\\u00e7\\u00f5es cujo n\\u00e3o foi respondido  Eu avaliei o produto com um dia t\\u00e1 a \\u00f3timo Agora eu desisto dessa loja e n\\u00e3o recomendo\",1],[\"Produto trava demais. Comprei para minha neta, mas foi uma decep\\u00e7\\u00e3o, trava muito, demora demais para carregar videos. Se para uma crian\\u00e7a somente brincar e assistir videos sem baixar qualquer aplicativo o produto j\\u00e1 apresenta vagarosidade imagine para outras finalidades\",1],[\"Avalia\\u00e7\\u00e3o. Achei muito bom,recebi muito antes da data prevista.\",4],[\"Satisfeito.. At\\u00e9 aqui todas as compras que fiz nesta loja, nada me deixou insatisfeito, muito bom as qualidades dos produtos, e o atendimento em geral.\",4],[\"NOTBOOK SANSUNG. Adorei o MEU computador, ERA O QUE REALMENTE esperava. Quando comprei, estava ciente que o PRODUTO era BOM, e quando chegou, a\\u00ed QUE N\\u00c3O TIVE D\\u00daVIDAS!!! Ele \\u00e9 nota 1000,00!!!  COMPRE!!! a ENTREGA FOI R\\u00c1PIDA E O COMPUTADOR \\u00c9 MARAVILHOSO!!! PARABENS para SANSUNG, AMERICANAS, TRANSPORTADOR e para MIM que comprei o COMPUTADOR!!!\",5],[\"Gostei do produto.. Foi entregue antes do prazo,eu me animei com a destreza dessa compra e fiz outra por\\u00e9m essa j\\u00e1 faz mais de uma semana que foi realizado o pagamento \\u00e9 ainda n\\u00e3o tem nem a nota fiscal.\",3],[\"Muito bom este tablet.. Produto bom e entrega 10 dias antes do prazo previsto.\",4],[\"opini\\u00e3o. preencheu todos os requisitos de  acordo com o informado no anuncio\",4],[\"Tablet com alto falante muito baixo. N\\u00e3o indicaria  essa compra nao j\\u00e1 a entrega veio no prazo\",1],[\"Bom produto. Bom produto s\\u00f3 a bateria que descarrega um pouco r\\u00e1pido\",3],[\"Bom custo benef\\u00edcio. Comprei o tablet para minha filha de 5 anos, para o uso que imaginei o produto funciona bem, o wi-fi do aparelho \\u00e9 um pouco lento, mas com paci\\u00eancia ele satisfat\\u00f3rio, dica para quem comprar, instale um cart\\u00e3o de mem\\u00f3ria de 32 GB, pois a capacidade do aparelho e muito pequena s\\u00f3 8 GB  sendo 3GB do sistema operacional. A c\\u00e2mera n\\u00e3o \\u00e9 boa. Pelo pre\\u00e7o vale o custo benef\\u00edcio .\",3],[\"Muito bom.. At\\u00e9 o momento \\u00f3timo custo beneficio, utilizo para desenhos CAD e BIM, excel e word.\",5],[\"Esquenta e descarrega r\\u00e1pido. Produto novo e n\\u00e3o suporta 10 minutos sem carga, superaquecimento minha filha mal come\\u00e7a a brincar e j\\u00e1 tem que parar para carregar. N\\u00e3o recomendo.\",1],[\"V\\u00c1RIOS DEFEITOS. Produto que n\\u00e3o recomendo, com pouco mais de 1 ano de uso o produto apresentou defeito na tela LCD, na ventoinha, e depois na placa m\\u00e3e. Tenho notebooks bem mais antigos sem ter apresentado qualquer defeito desse tipo em t\\u00e3o pouco tempo de uso.\",1],[\"Muito bom! Gostei do produto!. Perfeito, pequeno, cabe na bolsa e me atende perfeitamente!!! \\u00d3timo  divertimento, uso para jogos e leitura principalmente!\",5],[\"Produto usado de 2003. Compramos dois computadores, quando chegaram, a surpresa chegou junto. Um computador o processador \\u00e9 de 2003 e o outro de 2004, produto usado que n\\u00e3o \\u00e9 informado no an\\u00fancio. As unidades de DVD n\\u00e3o funcionam, bem como o plug dos mouses. P\\u00e9ssimo produto!!\",1],[\"N\\u00e3o recomendo pra ningu\\u00e9m! N\\u00e3o comprem, por favor!. Olha, eu nunca vi loja mais desorganizada e desdeixada com o cliente. Em primeiro lugar, comprei esse tablet para dar de presente a minha sobrinha, que \\u00e9 MENINA, por tanto comprei um tablet com a capa ROSA, mas a\\u00ed quando chegou na minha casa, veio DOURADO, isso mesmo, dourado, mas n\\u00e3o para por a\\u00ed. Em segundo lugar, eles n\\u00e3o respondem o cliente, fiz v\\u00e1rias perguntas, pedindo sobre o produto, e nada deles responderem, n\\u00e3o sei como conseguiram mandar o produto ainda.  Terceiro lugar, a encomenda chegou atrasada pra caramba, era pra ter chegado antes de natal, mas chegou bem depois disso, ent\\u00e3o sinceramente, nunca mais compro nessa loja, e nem recomendo pra ningu\\u00e9m! Fiquei muito desapontado! Quarto lugar, o produto n\\u00e3o \\u00e9 de tanta qualidade assim como fala na descri\\u00e7\\u00e3o: - A c\\u00e2mera \\u00e9 horr\\u00edvel, tanto a frontal, quanto a traseira; - O sistema dizem que \\u00e9 Android 7, mas \\u00e9 o 5.0 Lolipop! - Ele \\u00e9 muito lento por ser um equipamento novo!\",1],[\"EXCELENTE. A entrega foi super r\\u00e1pida, chegou antes do previsto e em perfeito estado. Estou adorando o produto\",5],[\"Sim, \\u00e9 um excelente produto, gorstei muito...... Excelente produto, entrega no prazo combinado , n\\u00e3o tive problema... parab\\u00e9ns.\",4],[\"demora. a demora para aprova\\u00e7\\u00e3o do pedido \\u00e9 fora do comum para os padr\\u00f5es de hoje, chega parecer que n\\u00e3o tem o produto pra entrega e que ainda vao montar ou comprar. muito estranho isso.\",1],[\"adorei. Achei r\\u00e1pido, e ainda gostei muito porque tem teclado num\\u00e9rico, a bateria carrega r\\u00e1pido e tem uma boa dura\\u00e7\\u00e3o.\",5],[\"notebook. ele \\u00e9 muito lento. Mas o formato e muito bom e facil de acessar.\",3],[\"\\u00f3timo computador. Produto incr\\u00edvel. Impressionou a mim e quem viu ele at\\u00e9 agora, tanto pelo visual quanto pela qualidade. Computados de \\u00f3timo desempenho. Comprei para utilizar em trabalhos da faculdade e no trabalho. Mas n\\u00e3o deixei de testar alguns jogos como minecraft que rodou bastante bem sem ter que reduzir resolu\\u00e7\\u00e3o ou algo parecido. do jeito que instalei o jogo ele est\\u00e1 rodando com as mesmas configura\\u00e7\\u00f5es, sendo poss\\u00edvel at\\u00e9 melhorar os gr\\u00e1ficos. Instalei outros jogos mais antigos como GTA San Andreas e ele rodou no m\\u00e1ximo. Ent\\u00e3o estou impressionado. Mas essa n\\u00e3o \\u00e9 a finalidade dele. Acho que ele j\\u00e1 ta se saindo bem demais. Em rela\\u00e7\\u00e3o a entrega o produto chegou com atraso de 5 dias mas n\\u00e3o achei isso um problema.\",5],[\"Gostei muito do produto, atende as minhas necessidades.. O Produto chegou em perfeito estado e antes da data.\",4],[\"Muito bom. Produto excelente pra qualquer atividade,r\\u00e1pido,alta capacidade de armazenamento,e pre\\u00e7o bem razoavel...super recomendo  Gostei muito\",5],[\"Prossesador muito lento. A bateria descarregada muito r\\u00e1pido prossesador muito lento\",1],[\"Muito Rapido. Comprei 5 s\\u00e3o otimos e com um pre\\u00e7o muito bom. Recomendo.\",5],[\"EXCELENTE. Vendi meu carro a adquiri essa maquina!Andar de onibus passou ser divertido depois dessa compra .Faltou apenas o ar condicionado, mas ta valendo.Excelente produto!\",4],[\"Estou preso a maquina de Hemodi\\u00e1lise para sempre mas estou satisfeito!. MUITO Bom, este notebook fez minha vida desmoronar, perdi casa, perdi carro, perdi at\\u00e9 minha familia e meu precioso Rim, mas estou aqui jogando todos os jogos da atualidade no full a 60fps\",5],[\"Muito bom. Chegou antes do prazo, roda games liso No ultra 60 fps e lol em 200 fps.\",5],[\"Muito boa. Comprei de presente de natal para minha filha e o produto atende plenamente o descrito, \\u00e9 r\\u00e1pido e a bateria tem boa dura\\u00e7\\u00e3o\",4],[\"Gostei mas deixou a desejar.. O produto \\u00e9 \\u00f3timo, por\\u00e9m tem falhas que pelo pre\\u00e7o n\\u00e3o poderiam existir, pouca mem\\u00f3ria 32GB e n\\u00e3o tem como utilizar a conex\\u00e3o HDMI.\",3],[\"Melhor compra da vida. A flexibilidade \\u00e9 o q mais chama a aten\\u00e7\\u00e3o, a possibilidade de transformar o notebook em um roteador para at\\u00e9 8 dispositivos, al\\u00e9m muito bonito. Vale muito a pena!\",5],[\"Custo Beneficio!. A Acer veio com tudo para brigar nesse mercado de Gamer, sem duvida vai causar uma alvoro\\u00e7o no mercado! N\\u00e3o h\\u00e1 no mercado Brasileiro hoje (10\\u002f01\\u002f2018) uma Desktop com essas configura\\u00e7\\u00f5es com esse pre\\u00e7o, podem pesquisar, roda qualquer jogo da atualidade e ainda vem com windows original,  mouse e teclado muito bons.Enfim perfeito! Viva a concorr\\u00eancia!!\",5],[\"Otimo produto. Produto bom e no pre\\u00e7o, super recomendo! O prazo para entrega foi razo\\u00e1vel, veio bem embalado.\",4],[\"Gostei muito do produto.. Excelente notebook. Chegou r\\u00e1pido e n\\u00e3o tem problemas. Mem\\u00f3ria reduzida, mas suportou todos os meus arquivos.\",4],[\"Tablet lento e sem capacidade de instala\\u00e7\\u00e3o de v\\u00e1rios APPs. Este tablet \\u00e9 muito lento para as principais aplica\\u00e7\\u00f5es conhecidas e n\\u00e3o possui armazenamento para v\\u00e1rios APPs. N\\u00e3o \\u00e9 raro ser necess\\u00e1rio a desinstala\\u00e7\\u00e3o de um APP para a instala\\u00e7\\u00e3o de outro, pois boa parte do armazenamento de 8gb \\u00e9 destinada ao sistema android.\",1],[\"\\u00f3timo produto. produto \\u00e9 muito bom. atende todas as expectativas!\",5],[\"Contra Indica\\u00e7\\u00f5es. Ao efetuar o pedido estava entrega pra 20 dias uteis, e na hora que finalizou a compra deu o prazo de 2 meses, e j\\u00e1 liguei na americanas varias vezes, e tentei cancelar o pedido, e j\\u00e1 esta 1 semana aguardando a nota fiscal. J\\u00e1 vou fazer um v\\u00eddeo pro youtube alertando e falando sobre oque aconteceu.\",2],[\"M\\u00e1quina com \\u00f3timo desempenho!. Equipamento com \\u00f3timo acabamento e muito r\\u00e1pido o desempenho ao executar v\\u00e1rios programas ao mesmo tempo. Recomendo!\",5],[\"Gostei muito do produto.. Gostei muito do produto, e excelente, sastifez minhas expectativas.\",4],[\"Not book positivo. S\\u00f3 achei a resolu\\u00e7\\u00e3o da c\\u00e2mera ruim mais o resto muito bom apesar de n\\u00e3o usarmos frequente senti falta da entrada rj 45 o resto muito exelente\",3],[\"Super recomendo.... Produto muito bom e muito bonito... A \\u00fanica coisa que me deixou desapontado \\u00e9 que me entregaram o produto dia 3 de Janeiro de 2018 e no sistema consta dia 30 de Dezembro de 2017 kkk Mais do resto, super recomendo o notebook :D\",5],[\"sensacional. Maravilhaaaa  foi presente e quem ganhou amou  e chegou bem antes da data prevista estou satisfeita com a venda\",5],[\"Bom e barato. Ainda n\\u00e3o testei o insuficiente pra ver se o Celeron vai trabalhar direito com programas mais pesados. De antem\\u00e3o funciona bem como Pc caseiro e pra escrit\\u00f3rio. HD generoso. Windows original instalado. Teclado macio. Mouse pequeno, prefiro um pouco maior. Gabinete grande, preferia um menor!\",4],[\"Produto com defeito. O produto chegou no prazo, por\\u00e9m ap\\u00f3s algumas horas de uso ele deixou de funcionar. Devolvi para o fabricante h\\u00e1 2 semanas e at\\u00e9 agora nenhum contato.\",1],[\"\\u00d3timo atendimento.. Meu produto al\\u00e9m de ser excelente, ele chegou 5 dias antes do prazo!!\",5],[\"Excelente. Excelente produto . Excelente loja.\\u00c9 um produto indispens\\u00e1vel nos dias atuais, Recomendo a todos.\",5],[\"Excelente. Produt\\u00f4 exelente , muito bom e a entrega foi super r\\u00e1pida ,bem antes do prazo lojas americanas est\\u00e1 de parab\\u00e9ns ,muito obrigado.\",5],[\"\\u00d3timo. At\\u00e9 agora excelente,grande custo benef\\u00edcio. Pelo pre\\u00e7o n\\u00e3o compro nem um i3 na minha cidade.\",5],[\"Excelente para os prop\\u00f3sitos do produto.. Excelente para os prop\\u00f3sitos do produto.  A demora na entrega compromete a avalia\\u00e7\\u00e3o.\",4],[\"computador travando demais. O computador foi adquirido n\\u00e3o tem um m\\u00eas e j\\u00e1 est\\u00e1 esquentando muito, travando e lento. N\\u00e3o consegui resolver pelas americanas, pois aparentemente ter\\u00e1 que ser diretamente com o fornecedor. N\\u00e3o estou gostando do desempenho do produto.\",2],[\"Tablete Multilaser. Muito bom o tablete. indico porque atendeu bem as expectativas a respeito do produto. entrega realizada no per\\u00edodo marcado.\",4],[\"Eu n\\u00e3o recebi o produto. Eu fiz o pedido no in\\u00edcio de dezembro e at\\u00e9 agora n\\u00e3o recebi o produto, j\\u00e1 entrei em contato para resolver essa situa\\u00e7\\u00e3o mas ainda n\\u00e3o tive o estorno do cart\\u00e3o feito, esse era o presente de Natal da minha filha , imagino ficar sem.presente neste \\u00e9poca.\",1],[\"Pel\\u00edcula Ruim. A pel\\u00edcula chegou toda amassada, paguei o frete mais caro que a pel\\u00edcula e chegou toda torta.\",1],[\"Para quem n\\u00e3o usamuitos programas. O Note \\u00e9 bom para quem n\\u00e3o necessita de espa\\u00e7o em disco. Sua limita\\u00e7\\u00e3o de 32Gb de HD \\u00e9 bem problem\\u00e1tica. Tive problemas inclusive de atualiza\\u00e7\\u00e3o do pr\\u00f3prio Windows por falta de espa\\u00e7o. N\\u00e3o recomendo como notebook principal. Para navegar e programas b\\u00e1sicos OK.\",3],[\"Minha opini\\u00e3o. Um bom produto mas que por falha minha n\\u00e3o percebi que n\\u00e3o tem gravador de cd dvd. No geral \\u00e9 muito bom\",3],[\"Produto devolvido. Produto devolvido n\\u00e3o funciona. Produto devolvido n\\u00e3o funciona. Produto devolvido n\\u00e3o funciona.\",1],[\"EXCELENTE. Design lindo, f\\u00e1cil de mexer, \\u00f3timo para desenvolver as atividades que preciso! Excelente custo beneficio. Recomendo!\",4],[\"Produto \\u00d3timo!. Muito bom, recomendo. Bom custo benef\\u00edcio. Simples para utilizar.\",4],[\"Problemas com drives de \\u00e1udio. Trabalho com est\\u00fadio de grava\\u00e7\\u00e3o, e foi pra esse fim que adquiri o Notebook. Liguei o notebook e fiz todos os procedimentos pedidos na instala\\u00e7\\u00e3o acompanhado de um t\\u00e9cnico em inform\\u00e1tica. Quando coloquei m\\u00fasicas pra ouvir notei que o L\\u002fR do fone de ouvido n\\u00e3o estava saindo separados(pra quem tem Estudio sabe do que estou falando (Click e Audio). Olhei os drives e estavam e dizia ter um drive gen\\u00e9rico instalado. Usei ele no reveill\\u00f3n e deu alguns problemas e depois n\\u00e3o usei mais. Vou fazer novos testes e ver o que esta acontecendo.\",2],[\"Gostei Muito. Por\\u00e9m, no meu caso houveram ru\\u00eddos internos, como se estivesse algo raspando constantemente. Mas o produto \\u00e9 r\\u00e1pido, estiloso e compacto, perfeito para a rotina.\",4],[\"Notebook Dell Inspiron i15-5566-A30P Intel Core i5 4GB 1TB Tela LED 15.6\\\" Windows 10 - Preto. Considero o Notebook Dell Inspiron i15-5566-A30P Intel Core i5 4GB 1TB Tela LED 15.6\\\" Windows 10 - Preto Lento demais!\",2],[\"bom. Chegou antes do prazo. Veio bem embalado e o notebook est\\u00e1 atendendo ao que preciso.\",4],[\"\\u00d3TIMA COMPRA. PRODUTO MUITO BOM PARA ATIVIDADES DO DIA DIA. ENTREGA ANTES DO PRAZO, RECOMENDO \\u00c0 TODOS.\",5],[\"Positivo. \\u00c9 pesado, lento e vem com sistema operacional Windows que n\\u00e3o facilita o trabalho, um sistema que sobrevive por causa da fama e monop\\u00f3lio, para quem n\\u00e3o pode ter acesso a um Apple, as atualiza\\u00e7\\u00f5es quando come\\u00e7am seu ia foi perdido!\",2],[\"Ficou ruim. Ap\\u00f3s atualizar a placa NVIDIA o notebook simplesmente parou de funcionar, dando o erro NVLDDMKM.SYS. N\\u00e3o recomendo\",2],[\"Gostei do produto, mas em partes. Por ser Windows 10, n\\u00e3o consigo instalar como por exemplo impressora mais antiga ou programas de banco como Sicoob, Foi preciso copiar de um computador \\u00e0 outro. A impressora at\\u00e9 agora n\\u00e3o foi poss\\u00edvel a instala\\u00e7\\u00e3o\",3],[\"Produto de entrada a pre\\u00e7o justo. Produto muito bonito e de boa ergonomia, comprei para se utilizado pela minha filha de 7 anos(possui Modo Infantil, com senha, para que a crian\\u00e7a n\\u00e3o sai do modo). Tela com imagem bonita e de r\\u00e1pido processamento. \\u00danico ponto negativo \\u00e9 o fato de o mesmo possuir apenas 8GB internos(quase metade \\u00e9 utilizado pelo Android e os programas padr\\u00e3o da Samsung) e ter apenas acesso via Wi-Fi. Super recomendo a utiliza\\u00e7\\u00e3o do equipamento por pessoas que deseja acesso em telas maiores(possui 7\\\"), sem utiliza\\u00e7\\u00e3o de muitos recursos(como em jogos pesados) e\\u002fou ainda por crian\\u00e7as, pois \\u00e9 infinitamente melhor que as marcas desconhecidas ou das que ainda tenta abocanhar o mercado desta tecnologia.\",4],[\"Excelente. Excelente, amei. Super indico. Produto de alta qualidade . Entrega antes do prometido\",5],[\"N\\u00e3o Liga. Pc fica reiniciando, e entrado em tela de recupera\\u00e7\\u00e3o, pc n\\u00e3o presta\",1],[\"Adorei!. Atende perfeitamente o que eu preciso. Recomendo. \\u00d3timo custo benef\\u00edcio.\",5],[\"Muito bom. Adorei o produto, veio antes da data prevista.  Entrega correta  e eu recomendo\",3],[\"\\u00d3timo produto. Produto excelente, design moderno, velocidade de processamento boa. Atende perfeitamente aos usu\\u00e1rios que utilizam softwares de projetos de desenho t\\u00e9cnico.\",5],[\"Notebook lenovo. Muito bom, design super lindo, facil  de manusear, rapido  e funcional.\",5],[\"Fraco.. Lento. Mau instalei os programas. Ja houve travamentos inclusive apag\\u00f5es.\",3],[\"PRODUTO MUITO BOM. PRODUTO DE EXCELENTE QUALIDADE, LEVE, TECLADO MACIO, DE F\\u00c1CIL TRANSPORTE. SUPER RECOMENDO.\",5],[\"gostei bastante do produto. muito bom desse notebook.\\u00c8r\\u00e0pido,pr\\u00e0tico,leve, para quem gosta de praticidae \\u00e8 \\u00f2timo.\",3],[\"Notebook Ok, mas fonte veio com defeito. O notebook \\u00e9 \\u00f3timo, at\\u00e9 o momento. Por\\u00e9m para minha grande decep\\u00e7\\u00e3o, o careegador veio com defeito. Quero a troca do produto.\",2],[\"Fonte externa e cabo de fonte interna. Sem Wi-Fi, linux bem complicado de configurar, computador bem fraco.\",1],[\"Expert X23. Muito bom! Excelente desempenho! Recomendo. . . . . . . .\\\"...................\",4],[\"Atende a demanda. Atende as necessidades, apenas a bateria poderia durar mais.\",4],[\"Muito bom.. Meus filhos gostaram muito. Pena n\\u00e3o ter slot para cart\\u00e3o sim.\",4],[\"Excelente produto superou a minha expectativa estou satisfeitissimo!. Ainda estou me adaptando, mas estou adorando!!! Abra\\u00e7o do Deuslirio!!\",5],[\"Muito Fr\\u00e1gil. Notebook lindo, por\\u00e9m muito fr\\u00e1gil. Mas, atende as necessidades, s\\u00f3 tomar muiiito cuidado pra n\\u00e3o quebrar.\",3],[\"Excelente  produto. O produto  corresponde aos an\\u00fancios das lojas americanas em 100%.  A entrega foi feita antes do prazo final estipulado.\",5],[\"Gostei muito do produto, mas podereia ter um processador i3 nesse modelo.. Tamanho bom, design bonito,  marca de confian\\u00e7a, mas poderia vir com processador i3 nesse modelo de 11\\\" como tem no exterior.\",3],[\"BOM CUSTO E BENEFICIO. ATENDE AS NECESSIDADES B\\u00c1SICAS, BOA APAR\\u00caNCIA PRA USO QUE COMPREI EST\\u00c1 CORRESPONDENDO BEM\",3],[\"Excelente produto. Produto muito bom super r\\u00e1pido e surpreendeu minhas expectativas\",5],[\"COM DEFEITO. Comprei esse produto, recebi com defeito, cancelei a compra e Americanas nao devolveu o valor pago ainda faz quase 60D, s\\u00f3 enrolam, jogam a responsabilidade pra esse fornecedor que nao se pronuncia.\",1],[\"Atende as necessidades. Bonito, funcional e desempenha as fun\\u00e7\\u00f5es como esperado\",3],[\"informa\\u00e7\\u00f5es. enquanto n\\u00e3o detalharem mais os dados com informa\\u00e7\\u00f5es pertinentes, v\\u00e3o continuar perdendo vendas. Informem a gera\\u00e7\\u00e3o do processador, nome completo da placa m\\u00e3e com a s\\u00e9rie e nome do produto e n\\u00e3o apenas a fabricante.\",3],[\"Tablet n\\u00e3o \\u00e9 moderno. Tablet somente bonito fisicamente, mas as caracter\\u00edsticas t\\u00e9cnicas e sua funcionalidade n\\u00e3o s\\u00e3o atuais. Ainda que seja um produto voltado para crian\\u00e7as se espera um produto moderno, \\u00e1gil e de f\\u00e1cil utiliza\\u00e7\\u00e3o, por\\u00e9m, este n\\u00e3o \\u00e9 o caso do produto. Controle parental vem com defeito grotesco de f\\u00e1brica onde n\\u00e3o se consegue enxergar parte da tela, o que impossibilita instalar muitos dos aplicativos baixados. Devolvi o produto por este motivo.\",1],[\"acer 72db. muito bom, mas aquece bastante em jogos e fica facil perceber pela superficie de aluminio.\",4],[\"Notebook apenas \\u00fatil. Bom produto pela facilidade de manuseio e leveza, alem de ser razoavelmente \\u00e1gil, por\\u00e9m, n\\u00e3o h\\u00e1 facilidades b\\u00e1sicas como teclado com ilumina\\u00e7\\u00e3o que possa fazer uso em ambientes sem luz ou a noite e mesmo a tecla caps Lock n\\u00e3o possui nada indicando (como uma luzinha como normalmente h\\u00e1 nos teclados) para mostrar que est\\u00e1 habilitado a letra mai\\u00fascula ou min\\u00fascula naquele momento. Detalhes que poderiam fazer a diferen\\u00e7a no produto.\",2],[\"Gostei. Gostei recomendo a compra,  muito bom leve e atendeu as minhas necessidade\",4],[\"Cumpre o b\\u00e1sico. O tablet serve o prop\\u00f3sito para o qual foi comprado, que \\u00e9 para minhas filhas assistirem youtube e netflix. Se come\\u00e7arem a baixar muitas aplica\\u00e7\\u00f5es fica lento.\",3],[\"Otimo. Muito bom, r\\u00e1pido, imagem perfeita, estou muito contente,podendo  se necess\\u00e1rio expandir a mem\\u00f3ria para + 32Gb. Perfeito, estou muito satisfeito com a minha compra nas Americanas.\",5],[\"Recomendo. Comprei para o meu filho de 5 anos ver programa\\u00e7\\u00e3o no YouTube e ele est\\u00e1 amando Sem falar que no aplicativo infantil que j\\u00e1 vem instalado nele muito bom\",4],[\"Gostei muito!. Produto muito bom, por um pre\\u00e7o bem razo\\u00e1vel. Entrega dentro do prazo.\",4],[\"Produto excelente e entrega bem antes do previsto. Excelente tanto o produto quanto a entrega. A entrega foi antes do combinado o que me auxiliou muito na minha necessidade de estudo. O produto \\u00e9 de \\u00f3tima qualidade! Tablet \\u00e1gil e leve de carregar. Recomendo.\",5],[\"Notebook Dell. \\u00d3timo pc s\\u00f3 um pouco dif\\u00edcil de manusear por estar acostumado com o Windows\",3],[\"\\u00d3timo produto. Otimo produto, recomendo  produto e a americanas.com.\",5],[\"O produto \\u00e9 \\u00f3timo. O produto \\u00e9 \\u00f3timo por\\u00e9m foi uma compra frustada pq antes da compra o site me deu uma data de entrega e depois da compra essa data foi adiada, e o produto chegou bem depois...\",4],[\"Demora. N\\u00e3o posso avaliar pois j\\u00e1 faz mais de 30 dias que fiz a compra e ainda n\\u00e3o recebi o produto, na pr\\u00f3xima compra terei que levar isso em considera\\u00e7\\u00e3o.\",3],[\"Muito bom produto. Excelente produto, boa acessibilidade, f\\u00e1cil manuseio\",5],[\"Exelente. Produto excelente, recomento. Agilidade na entrega.\",5],[\"Gostei muito!. Compraria novamente. Produto bem acabado, bonito e o teclado num\\u00e9rico ajuda muito.\",4],[\"capa e pel\\u00edcula para tablet Samsung A 10. Produto de boa qualidade, entregue no prazo previsto\",4],[\"Bom, mas acabamento a desejar. A \\u00fanica coisa a reclamar \\u00e9 o acabamento e n\\u00e3o ter luz de led que indica carregamento da bateria. Se existe, o meu veio com defeito. Me parece muito fr\\u00e1gil.\",3],[\"Qualidade incrivel. Produto de \\u00f3tima qualidade e a entrega muito r\\u00e1pida , produto chegou em 10 dias corrido, moro em Brasil\\u00e9ia Acre.\",4],[\"Muito bom. leve, r\\u00e1pido, bonito. O \\u00fanico detalhe \\u00e9 a capacidade do SSD, de 128GB. Contanto que a pretens\\u00e3o de uso leve isso em conta, n\\u00e3o vejo maiores problemas.\",5],[\"Gostei muito do produto. Estou gostando muito do produto que comprei, ainda estou analisando mas muito satisfeita.\",4],[\"Gostei muito do produto!!. Entrega bem antes do previsto, perfeito estou muito satisfeito.\",5],[\"duvidas. Estou muito interessado em comprar, mas queria esclarecer uma duvida. O PC ta com uma configura\\u00e7\\u00e3o muito boa, queria saber de algu\\u00e9m que q comprou ou da loja mesmo, qual \\u00e9 o marca e modelo da placa m\\u00e3e, e a marca da memoria RAM??pois na descri\\u00e7\\u00e3o (detalhes) do produto n\\u00e3o fala.  a fonte sustenta de boa???\",4],[\"Mais ou menos. Galera eu tenho um positivo estilo esses computadores s\\u00e3o fr\\u00e1geis vc tem q ter muito cuidado a bateria n\\u00e3o dura nada ,eu tenho um mais n\\u00e3o recomendo pra ningu\\u00e9m...\",2],[\".. O jogo que consta nele \\u00e9 lento e trava muito. Tentei efetuar a troca e a loja nao aceitou por termos 7 dias corridos para troca, nao consideraram que era presente se natal e havia feriado. O lacre da caixa veio rompido.\",1],[\"Tablet. \\u00d3timo produto.   Excelente tela, bons app. A caneta \\u00e9 muito boa e facilita a opera\\u00e7\\u00e3o;\",5],[\"ENGANA\\u00c7\\u00c3O. AMERICANAS COMO SEMPRE QUERENDO ENGANAR SEUS CLIENTES!!!!!!!!!! MEU PC E 10X MELHOR QUE ESTE E PAGUEI SOMENTE R$ 3.000,00\",1],[\"\\u00d3timo. \\u00d3timo o produto super indico  muuuuuuuuuuuuuuuuuuuuuuuuuuu\\u00fauuuu\\u00fauuu\\u00fauuuuuuuuiiiiiiiiiiiiiiiiiiiiiiiiiiiiiiiiiiiiiiiiiiiiiiiiiiiitttttttttttttttttttttttttttttttttttttttttttttttttttttttt ooooooooooooooooooooooooooooooooo bommmmmmmmmmmmmmmmmmmmmmmmmmmmmmmmmmmmmmmmmmmmmmmmmmmmmmmmmmmlllmm\",4],[\"TABLETE IBRIDO. \\u00c9 LEVE E MUTO BOM, GOSTEI FOI TUDO COMO NO AN\\u00daNCIO, EXCELENTE\",5],[\"Haste muito dura. A haste (o bra\\u00e7o)\\u00e9 muito dura! O que ue dificulta a mobilidade dele. N\\u00e3o gostei!!!\",1],[\"EXCELENTE. O produto \\u00e9 excelente!!!  O \\u00fanico problema foi referente a entrega.\",5],[\"Tablet - Perfeito\\u002flindo. Tablet grande, r\\u00e1pido, bonito!!!! Show mesmo \\u00e9 a empresa B2W na entrega n\\u00e3o tem o que se discutir \\u00e9 mais que r\\u00e1pido diria que \\u00e9 a jato parab\\u00e9ns a Direct pela agilidade de sempre.\",5],[\"Recomendo!. Design elegante e bem acabado, notebook leve, com bom n\\u00edvel de brilho e bons recursos. Teclado macio e funcionamento est\\u00e1vel. Ideal para estudos e pesquisas :)\",5],[\"Produto de primeira. Estou extremamente contente, muito satisfeito mesmo!. Minha opini\\u00e3o concernente ao produto, estou feliz pois me atende perfeitamente. E com respeito a loja, muito bom atendimento e estou satisfeito com o trabalho prestado.\",5],[\"Excelente. Excelente notebook, al\\u00e9m de muito bonito. \\u00d3tima configura\\u00e7\\u00e3o. Atendeu minhas expectativas. E entrega r\\u00e1pida, chegou em 3 dias \\u00fateis e gr\\u00e1tis.\",5],[\"satisfeita. Produto excelente e entrega pontual\\u00edssima! O entregador estava com dificuldade de localizar o endere\\u00e7o e uma atendente me ligou para maiores esclarecimentos. Parabenizo a aten\\u00e7\\u00e3o dada!\",4],[\"Produto atendeu as expectativas. O produto chegou no prazo, possui bom acabamento e razo\\u00e1vel velocidade. Estou muito satisfeito. Recomendo para trabalho!\",5],[\"Gostei do produto. Ele atende as minhas necessidades. ................................................................................................................................................\",3],[\"Gostei do produto. Legal, chegou antes do prazo estimado, pr\\u00e1tico, suficiente para minhas pretens\\u00f5es\",3],[\"otimo. muito bom para navegar na internet e para servi\\u00e7os graficos como o atocad2018\",4],[\"Produto excelente!. Muito bom. Atingiu todas expectativas de desempenho e beleza. Perfeito para jogos, ou programas mais pesados. Recomendo demais este produto.\",5],[\"Comprei dois iguais. Excelente equipamento. Comprei dois, apesar de n\\u00e3o ter tido desconto no segundo que estava com pre\\u00e7o acima do primeiro.  Tem um hardware bom, e para o uso de aplica\\u00e7\\u00f5es que exigem mais recursos opera muito bem.  Entrega dentro do esperado.\",5],[\"Produto \\u00f3timo. Atende as minhas necessidade m\\u00ednimas. N\\u00e3o avalio como excelente porque em uma atualiza\\u00e7\\u00e3o apresentou problemas e o sistema precisou ser formatado, mas fora isso, o notebook apresenta bom desempenho.\",4],[\"Muito ruim. Trava muito. Conprei pra minha filha de tr\\u00eas anos, mas \\u00e9 muito demorado pra abrir as p\\u00e1ginas.  E o touch tamb\\u00e9m n\\u00e3o \\u00e9 t\\u00e3o sens\\u00edvel ao toque.\",1],[\"EXCELENTE!!!! SUPEROU AS EXPECTATIVAS. o MELHOR LAPTOP QUE J\\u00c1 TIVE EM CAPACIDADE DE PROCESSAMENTO , DESIGN E TUDO MAIS!!!! RECOMENDO. E COM \\u00d3TIMO PRE\\u00c7O!!!!\",5],[\"PODE COMPRAR SEM MEDO!. Efetivamente comprei o que paguei.Atende perfeitamente minhas necessidades,para trabalhos e algum entretenimento leve \\u00e9 otimo.Valeu cada centavo.SHOW\",5],[\"Gostei do produto. Produto conforme o anunciado, entrega dentro do prazo.\",4],[\"Excelente....gostei muito. Bom desempenho ....facil acesso...muito bom compacto tb para locomo\\u00e7\\u00e3o com Ele.\",5],[\"Excelente. Produto entregue dentro do prazo. Excelente qualidade, bem conforme descrito no an\\u00fancio.\",5],[\"Notebook bom!. A bateria dura pouco, mas de modo geral tem um exelente desempenho.\",4],[\"Avalia\\u00e7\\u00e3o. N\\u00e3o posso avaliar porque o produto comprado n\\u00e3o estava mais dispon\\u00edvel, apesar o site aceitar a minha compra ( falha do  sistema que n\\u00e3o deveria ter aceitado a compra pois n\\u00e3o tinha mais pra vender) por\\u00e9m a Americanas prontamente fez a cr\\u00e9dito do valor sem precisar entrar em contato, parab\\u00e9ns por administrar muito bem o seu marktplace. 5 estrelas pra Americanas.\",4],[\"Produto \\u00d3timo. Notebook Dell com \\u00f3tima qualidade, chegou dentro do prazo dado pelo site.\",4],[\"\\u00f3timo produto.. produto de boa qualidade, atendeu para o que eu estava precisando.\",4],[\"Um \\u00f3timo produto!. O produto atendeu completamente as minhas expectativas. Muito bom e \\u00f3tima resolu\\u00e7\\u00e3o.\",4],[\"Lixo. Eu odiei o produto. Era presente para minha mae e ele simplesmente nao funciona. Quero meu dinheiro de volta\",1],[\"Tablet Samsung Galaxy Tab A T280 8GB Wi-Fi Tela 7\\\" Android Quad-Core - Preto. Tablet Samsung Galaxy Tab A T280 8GB Wi-Fi Tela 7\\\" Android Quad-Core - Preto\",4],[\"Caro mais compensador. Deixei de dar entrada na minha casa para comprar esse notebook, mais n\\u00e3o me arrependo, ele \\u00e9 muito top, configura\\u00e7\\u00e3o  \\\"parruda\\\" da para jogar Crysis no \\\"maximo\\\" vale cada centavo, top muito top..\",5],[\"Fantastico. Comparei aprovei os criterios para comprar ....RESFRIAMENTO....SOM....TELA....melhores que os concorrentess\",5],[\"Produto cada vez mais simples. Gostei do produto, mas n\\u00e3o tem a op\\u00e7\\u00e3o de compra com leitor\\u002fgravador de cd\\u002fdvd, tendo que ser utilizado um via usb ou encontrar um que seja compat\\u00edvel com o produto para instala\\u00e7\\u00e3o. Apenas duas entradas usb.  Funciona bem o pouco tempo que utilizei.\",3],[\"\\u00d3timo. Corresponde ao que eu esperava. Chegou r\\u00e1pido e bem embalado.\",5],[\"Excelente custo\\u002fbenef\\u00edcio.. Notebook muito bom para navega\\u00e7\\u00e3o na web trabalho com Office e demais ferramentes para escrit\\u00f3rios. N\\u00e3o testei em jogos. A \\u00fanica coisa que precisei fazer para ficar mais veloz foi colocar mais um pente de mem\\u00f3ria de 4gb e ele se tornou excelente. Muito bom e \\u00f3timo custo\\u002fbenef\\u00edcio.\",3],[\"Muito bom. Produto muito bom e entrega, como sempre, muito r\\u00e1pida\",5],[\"IPad \\u00e9 tudo de bom!. Simplesmente maravilhoso !   Aparelho que n\\u00e3o traz problema algum !\",5],[\"\\u00d3timo produto. Produto chegou em boas condi\\u00e7\\u00f5es,simples de montar e n\\u00e3o demora muito\",5],[\"Bom, por\\u00e9m apresenta alguns bugs.. O notebook consta, \\u00e0s vezes, com bugs que s\\u00e3o apenas corrigidos ao reiniciar o pc, de maneira for\\u00e7ada. Atrasando muito o trabalho de quem o faz. Por\\u00e9m, o pc \\u00e9 sim bom, tem um \\u00f3timo desempenha e sim, eu recomendo.\",3],[\"Bom. O Laptop at\\u00e9 ent\\u00e3o atendeu as minhas expectativas, tem um \\u00f3timo acabamento, \\u00e9 muito r\\u00e1pido; pois eu paguei um \\u00f3timo pre\\u00e7o por um produto bom, eu recomento a todos, mas s\\u00f3 tem um detalhe que eu n\\u00e3o observei na hora de comprar, ele n\\u00e3o vem com leitor de m\\u00eddia, mas vale apena!\",5],[\"o produto \\u00e9 bom!. o produto \\u00e9 bom mas, poderia melhorar em dois aspecto,  muito lento fica travando e o som \\u00e9 muito baixo, mas no geral ele \\u00e9 bom!\",3],[\"muito bom. Muito bom recomendo  \\u00f3timo custo beneficio .....................................................................................................\",4],[\"Melhor custo-benef\\u00edcio!!!. Me saiu por R$ 1.700, ent\\u00e3o valeu muito a pena! N\\u00e3o percebi nenhum barulho, como mencionado por alguns consumidores. Na verdade acho que o cooler \\u00e9 percept\\u00edvel quando o lugar est\\u00e1 muito silencioso.     N\\u00e3o vem com entrada de m\\u00eddia, apesar de isso j\\u00e1 estar sendo extinto eu senti falta e diria como um ponto negativo. Outra coisa \\u00e9 a bateria, acho que tem uma dura\\u00e7\\u00e3o de 3h, mas pelo pre\\u00e7o do produto n\\u00e3o da pra reclamar, foi o que a lenovo conseguiu fazer...     O design \\u00e9 muito bonito, recomendo o uso de capa protetora para os desastrados com eu. Resumindo: Melhor custo benef\\u00edcio. Jogo lol, cs go, uso v\\u00e1rios editores pesados, e nem sinal de travamento hehe\",4],[\"Apaixonada!. Entrega quase imediata! muito antes do prazo... Produto perfeito e super bem embalado! Super recomendo o produto e a Loja...\",5],[\"Compraria Novamente. Eu comprei o computador para trabalho e ser banco de dados de um sistema, al\\u00e9m de outros apps. Ele \\u00e9 \\u00f3timo, resposta r\\u00e1pida e ainda n\\u00e3o tive nenhum problema de travamento ou afins. A entrega atrasou um pouco, em torno de 7 dias.\",5],[\"Produto atendeu as expectativas!. Produto atendeu as expectativas! Muito bom!!!                                                                                                         .\",5],[\"Bom. Eu esperava uma performasse maior, mas est\\u00e1 funcionando a contento.\",4],[\"P\\u00e9ssimo. Simplesmente n\\u00e3o funciona, n\\u00e3o liga, j\\u00e1 fiz contato para saber como proceder para fazer a troca e at\\u00e9 o momento n\\u00e3o obtive resposta.\",1],[\"Produto de \\u00f3tima qualidade, recomendo a todos do ML.. Muito bom o produto, recomendo a todos do mercado livre.\",5],[\"Excelente. \\u00d3timo produto. R\\u00e1pido, confi\\u00e1vel e eficiente. Recomendo.\",5],[\"Excelente. Excelente compra como um todo da compra at\\u00e9 a entrega.\",5],[\"Bom, por\\u00e9m pouco espa\\u00e7o. O Notebook \\u00e9 bom, n\\u00e3o esquenta, a velocidade \\u00e9 aceit\\u00e1vel pra fazer trabalhos acad\\u00eamicos e navega\\u00e7\\u00e3o, por\\u00e9m n\\u00e3o tem muito espa\\u00e7o para armazenamento, as atualiza\\u00e7\\u00f5es do Windows tomam todo espa\\u00e7o.\",3],[\"Avalia\\u00e7\\u00e3o do Notebook. O produto foi o esperado e ele chegou antes do prazo\",4],[\"\\u00d3timo produto. Recomendo com certeza.. Produto excelente. Atende as necessidades de todos, tem um \\u00f3timo desempenho e um lindo designe. Possui alta pot\\u00eancia de som. Adorei.\",5],[\"Gostei muito. Produto muito bom. Entrega no tempo previsto. Rapidez e agilidade.\",5],[\"\\u00d3timo Custo Benef\\u00edcio. Meus \\u00faltimos dois notebooks foram da marca DELL, a qual possui \\u00f3tima reputa\\u00e7\\u00e3o e credibilidade, e que me fizeram adquirir o Notebook Dell Inspiron i15-5567.  O notebook tem um design bonito, \\u00e9 relativamente leve e possui boa performance.  Quando o recebi, ele estava com o sistema operacional Linux Ubuntu, e durante os primeiros 3 dias ele chegou a travar v\\u00e1rias vezes, for\\u00e7ando-me a reinici\\u00e1-lo diretamente no bot\\u00e3o Power. Por\\u00e9m, ap\\u00f3s format\\u00e1-lo e instalar o Windows 10 Pro, em nenhum momento ocorreu qualquer tipo de travamento.  Quanto a entrega, considero muito boa, pois foi antes do prazo estipulado, de forma que pude antecipar os trabalhos.\",4],[\"Uma das minhas melhores compras. Al\\u00e9m de lindo \\u00e9 perfeito para as minhas necessidades. Simplesmente amei.\",5],[\"Satisfeito. Cumpre com as especifica\\u00e7\\u00f5es descritas na \\u00e1rea venda\",4],[\"Bom custo-benef\\u00edcio.. Tirando os programas nativos Acer, o restante t\\u00e1 ok.\",4],[\"n\\u00e3o veio como na descri\\u00e7\\u00e3o. \\u00c1s americanas n\\u00e3o devem mais deixar terceiros venderem no site.\",2],[\"Recomendo!. Produto muito bom! Atingiu as expectativas em tudo!\",4],[\"Computador Comprado no dia 09\\u002f12\\u002f17. at\\u00e9 o prezado momento o prduto est\\u00e1 funcionando perfeitamente, foi entregue bem embalado porem s\\u00f3 demoro um pouco, pois o prazo que me deram foi para entrega no dia 22\\u002f12\\u002f17 e foi entregue no dia 8 de 2018, mas fora isso n\\u00e3o tenho nada a reclamar.\",4],[\"Produto muito bom.. Produto, r\\u00e1pido, boas funcionalidades. Valeu a pena o custo benef\\u00edcio. Achei a tela ideal, pois estava querendo a de 10\\\", mas acho que iria ficar muito grande.\",4],[\"COMPUTADOR + MONITOR 19\\\". RECEBI O PRODUTO DENTRO DO PRAZO DETERMINADO, ENTRETANTO AINDA N\\u00c3O INSTALEI O PRODUTO POIS COMPREI PARA DAR DE PRESENTE E O PRESENTEADO EST\\u00c1 EM VIAGEM E VOLTAR\\u00c1 EM BREVE.\",3],[\"Notebook Samsung. Produto de excelente qualidade e com bom desempenho, foi entregue dentro do prazo, contido at\\u00e9 o presente momento n\\u00e3o recebi o e-mail da garantia estendida que contratei.\",4],[\"Produto trava demais. Por se tratar se um produto novo e com essas especifica\\u00e7\\u00f5es, ele \\u00e9 bastante lento e trava em fun\\u00e7\\u00f5es b\\u00e1sicas (usando o google chrome ou o word, por exemplo). Complicado pagar esse pre\\u00e7o nessas condi\\u00e7\\u00f5es. N\\u00e3o recomendo. Sobre a entrega, foi r\\u00e1pida e chegou tudo certo. Minha queixa \\u00e9 apenas quanto ao produto.\",1],[\"Excelente!. \\u00d3timo, r\\u00e1pido, uso pra edi\\u00e7\\u00e3o de fotos, recomendo!\",4],[\"Muito satisfeito. Quanto ao produto,  nada a reclamar, mas quanto a entrega... atrasou bastante, e a entregadora, praticamente, s\\u00f3 entrou em contato comigo na terceira tentativa.\",5],[\"O produto foi entregue com defeito. O produto foi entregue com defeito de fabrica\\u00e7\\u00e3o . N\\u00e3o carrega a bateria . N\\u00e3o consegui falar por telefone paratropas a mercadoria , somente on line . Muita demora para narrar em contato comigo . Enfim , nunca mais desejo comprar nessa loja . N\\u00e3o recomendo para ningu\\u00e9m !!!\",1],[\"Tablet  com bateria ruim. Tablet muito bom mas a bateria dura muito pouco. No m\\u00e1ximo 1 hora.\",3],[\"Excelente. Produto leve para carregar, simples de manusear, r\\u00e1pido o processador. Eu e meu marido compramos igual de tanto que gostamos.\",5],[\"Gostei muito do produto. Me senti presenteada com a promo\\u00e7\\u00e3o do meu produto\",4],[\"Muito bom.. Estou come\\u00e7ando a utilizar, por isso a avalia\\u00e7\\u00e3o que \\u00e9 pedida de maneira imediata, n\\u00e3o d\\u00e1 para ter toda a garantia. Mas at\\u00e9 agora acho muito bom. Ainda melhor do que eu esperava em termos de velocidade.\",4],[\"Excelente. O produto \\u00e9 excelente e a entrega foi espetacular. Foi a entrega mais r\\u00e1pida que j\\u00e1 tive. Parab\\u00e9ns\",5],[\"Estou arrependida de ter comprado.. \\u00d1 \\u00e9 o q esperava, a bateria descarrega muito r\\u00e1pido.\",2],[\"Decepcionante. J\\u00e1 tive um Samsung Tab 7\\\" e um Ipad 2, o Samsung TAB 560 deixa muito a desejar se comparado aos dois. Travamentos em aplicativos simples e nos navegadores de internet ent\\u00e3o, nem se fala. At\\u00e9 pensei se o meu veio com problema, mas n\\u00e3o, o processador \\u00e9 bem aqu\\u00e9m do esperado mesmo. A tela tamb\\u00e9m n\\u00e3o tem boa qualidade. Acredito que vale a pena investir mais um pouco e comprar um tablet com um processador melhor e uma tela HD.\",1],[\"UAU! MELHOR PC! N\\u00c3O RECOMENDO.. ESSE COMPUTADOR DA NASA QUE REALMENTE EST\\u00c1 COM DESCONTO! APROVEITEM!\",5],[\"Gostei. Muito bom para o que eu preciso de um notebook. Rapido, dd transpirte muito facil,leve e robusto ao mesmo tempo.\",3],[\"Muito Satisfeita. Estou muito satisfeita com o notebook, muito r\\u00e1pido, bonito, leve, carrega r\\u00e1pido a bateria e ela dura bem. Superou minhas expectativas. Pre\\u00e7o acess\\u00edvel e qualidade de produtos mais caros.\",5],[\"ENTREGA MUITO DEMORADA. P\\u00c9SSIMO PRAZO DE ENTREGA! COMPREI PARA PRESENTEAR MEU FILHO EM SEU ANIVERS\\u00c1RIO E AT\\u00c9 HOJE N\\u00c3O CHEGOU!\",1],[\"top!!!!!!. estou muitissimo satisfeito, vendi meu rim, da minha mulher e do meu filho pra comprar mas  a maquina \\u00e9 muito r\\u00e1pida. CS sem lag. \\\\o\\u002f\",5],[\"Muito bom. Produto r\\u00e1pido, tela boa, \\u00f3tima qualidade, adorei.\",4],[\"Gostei do produto.. Gostei, \\u00f3timo para minhas filhas que tem 4 e 8 anos, acho que at\\u00e9 os 10 anos ele \\u00e9 muito bom. Mas para crian\\u00e7as de 11 em diante, \\u00e9 necess\\u00e1rio um aparelho mas completo.\",4],[\"Produto bom. Primeiramente a Americanas \\u00e9 top, entrega produto bem r\\u00e1pido e muito bem embalado. O produto \\u00e9 bom, mas o X23 NP300E5K-XD1BR \\u00e9 melhor.\",3],[\"Notebook Samsung. produto conforme expectativa. Poderia acompanhar capa e mouse da Samsung.\",4],[\"gostei. tablet multilaser muito bom a apar\\u00eancia s\\u00f3 precisa melhorar nele a rapidez da maquina interna.\",3],[\"Gostei bastante.. Leve, compacto e r\\u00e1pido, veio a substituir perfeitamente meu velho PC (com configura\\u00e7\\u00f5es bem parecidas) e liberando espa\\u00e7o na minha mesa. A placa de v\\u00eddeo ajuda significantemente no trabalho de edi\\u00e7\\u00e3o gr\\u00e1fica. Minha \\u00fanica ressalva \\u00e9 a troca de posi\\u00e7\\u00e3o do s\\u00edmbolo \\\"?\\\" no teclado, ficando na mesma tecla que a letra \\\"W\\\", sendo portanto acionar a tecla Alt Gr para poder us\\u00e1-la. leva um tempo para se acostumar a essa mudan\\u00e7a, o que reduz a velocidade de digita\\u00e7\\u00e3o em pouco.\",5],[\"Excelente. Entrega dentro do prazo, produto excelente em quest\\u00e3o de desempenho, \\u00f3timo para jogos e demais fun\\u00e7\\u00f5es comuns.\",5],[\"gostei muito do produto!. o notebook \\u00e9 \\u00f3timo,inclui o Windows 10. \\u00e9 perfeito,n\\u00e3o tem o que reclamar.\",5],[\"Horrivel. Comprei ele dia 15 de novembro e dia 15 de Dezembro a tela come\\u00e7ou a piscar e buuu ficou cheia de linhas na tela, e n\\u00e3o funciona pra nada..  n\\u00e3o comprem n\\u00e3o presta.\",1],[\"insatisfa\\u00e7\\u00e3o  total. comprei esse produto na certeza de q era confi\\u00e1vel, pois estava comprando em.uma das maiores lojas de departamento do Brasil, por\\u00e9m o produto chegou com defeito, tenho q mandar para assist\\u00eancia em Coritiba,  sendo q moro em Goi\\u00e2nia,  totalmente arrependida por ter comprado esse produto. A minha maior indica\\u00e7\\u00e3o \\u00e9  que n\\u00e3o  comprei da positivo e sim das lojas americanas. Pensarem duas vezes antes de comprar um produto  dessa loja.\",1],[\"Gostei do produto. Gostei do produto e recomendo a outras pessoas muito bom.\",3],[\"muitos defeitos. Em tempo h\\u00e1bil entrei em contato com departamento solicitando a troca, e n\\u00e3o fui atendido. fiquei muito decepcionado tanto com o produto quanto a assist\\u00eancia, que n\\u00e3o deu aten\\u00e7\\u00e3o para a minha solicita\\u00e7\\u00e3o.\",1],[\"QUALIDADE Notebook 2 em 1 Positivo Duo ZR3630 Intel Celeron Dual Core 4GB 32GB Tela LCD 11.6\\\" Windows 10 - Cinza. PRODUTO DA POSITIVO S\\u00c3O BONS, CREIO QUE FUI INFELIZ NA AQUISI\\u00c7\\u00c3O DESTE NOTEBOOK, ONDE EM APENAS 2 SEMNAS DE UTILIZA\\u00c7\\u00c3O O MESMO OCORREU UM PROBLEMA, ONDE A POSITIVO IMEDIATAMENTE  SOLICITOU O RETORNO DESTE APARELHO, PARA OS MESMOS APURAR ESTA IRREGULARIDADE. AT\\u00c9 O MOMENTO MUITO BEM ATENDIDO PELA POSITIVO E CREIO QUE AP\\u00d3S APURA\\u00c7\\u00c3O O MESMO ESTAR\\u00c1 NOS DANDO UM RELAT\\u00d3RIO DO OCORRIDO E NOS COMPENSANDO COM UM PRESENTE MUITO BOM, VAMOS AGUARDAR...\",3],[\"Notebook de boa qualidade.. Atende bem, para que n\\u00e3o necessita de alta performance.\",4],[\"Muito bom!. Estou muito satisfeita!! Chegou rapidinho, em \\u00f3timo estado, est\\u00e3o de parab\\u00e9ns!\",5],[\"\\u00f3timo notebook. comprei para trabalhar e jogar jogos relativamente leves.  est\\u00e1 dando conta do recado muito bem.\",4],[\"bom. d\\u00e1 pra jogar minecfrat e escutar uns gemid\\u00e3o do zap suave\",5],[\"problema na tela. quando entreguei o presente para os meus filhos eles detectaram que a tela tinha um pixel queimado, mas o prazo de devolu\\u00e7\\u00e3o j\\u00e1 havia terminado.\",2],[\"esse produto chego na data o restante dos produtos nao chegarem ou chegaram atrasados. comprei esse produto e mais produtos na mesma compra, cada um veio com uma transportadora, no site informou que os outros produtos chegariam ate dia X, na transportadora dia Y.  Enfim log\\u00edstica das americas  \\u00e9 p\\u00e9ssima, com essas entregas fracionadas, de outros forncedores.\",3],[\"Bom custo beneficio.. \\u00d3tima m\\u00e1quina pra quem deseja realizar atividades b\\u00e1sicas como trabalho e estudo.\",3],[\"SEM PRODUTO E SEM DEVOLU\\u00c7\\u00c3O DO DINHEIRO. Efetuei a compra no dia 20.12.17 e o prazo de entrega era 02.01.2018. N\\u00e3o recebi o produto, efetuei diversas reclama\\u00e7\\u00f5es, n\\u00e3o recebi respostas. Cancelei a compra e n\\u00e3o devolveram o valor debitado do cart\\u00e3o de cr\\u00e9dito. Efetuei reclama\\u00e7\\u00e3o no site Reclame Aqui e, segundo Americanas o produto foi reenviado, mesmo ap\\u00f3s meu pedido de cancelamento, e s\\u00f3 depois de receber o produto e devolver poder\\u00e3o solicitar o estorno do cart\\u00e3o. O prazo para recebimento desse reenvio encerrou dia 12.01.18 e at\\u00e9 o momento a Americanas.com n\\u00e3o resolveu a situa\\u00e7\\u00e3o. Fui obrigada a mover uma a\\u00e7\\u00e3o na justi\\u00e7a contra a loja.\",1],[\"Muito ruim!. Todos defeitos poss\\u00edveis, mega lento, descarrega r\\u00e1pido, n\\u00e3o conseguir usar para finalidade que comprei. S\\u00f3 n\\u00e3o devolvi pq comecei usar ap\\u00f3s uma semana que chegou e por isso perdi o prazo legal.\",1],[\"bem maneiro.. ele e bem fr\\u00e1gil, porem com os cuidados ate mesmo na hora de abrir a tela e um notebook pra muito tempo, o de melhor nele que achei foi o som, e por n\\u00e3o esquenta, e bem \\u00e1gil pra quem quer usar trabalhar ou estudar. ele vai durar conforme seus cuidados.\",3],[\"Pra trabalho e estudo ok!. Boa capacidade interna e externa, o tornando \\u00e1gil, para trabalho e estudo atende \\u00e0 necessidade, tela grande, bom pre\\u00e7o, indico a compra.\",4],[\"DELL ULTRA-TOP. Note absolutamente fant\\u00e1stico, super r\\u00e1pido e leve, ergon\\u00f4mico, bonito, e UTIL para o dia dia. Falta a placa de video dedicada para quem quer algo sobrenatural, mas duvido ser melhor por conta disso.\",5],[\"Bom notebook, mas esperava mais da placa de v\\u00eddeo.. Notebook muito bonito e de bom desempenho, mesmo para o windows 10 que \\u00e9 bem pesado, as conectividades s\\u00e3o bem modernas mas confesso que esperava mais da placa de v\\u00eddeo, n\\u00e3o senti grande diferen\\u00e7a em rela\\u00e7\\u00e3o a Intel hd 620, uma leve melhora apenas.\",4],[\"Satisfeita!. Achei um bom custo x benef\\u00edcio. \\u00c9 leve, tem um som legal, boa c\\u00e2mera com alguns recursos. \\u00c9 bem flu\\u00eddo. Pelo pre\\u00e7o, estou bem satisfeita.\",4],[\"Funcionou por menos de 1 hora (na tomada!). Ao ligar pela primeira vez j\\u00e1 vi que a bateria estava com problemas pois n\\u00e3o carregava. Mesmo apresentando alguma carga s\\u00f3 funcionou na tomada. Ao tirar da tomada, mesmo com 80% de carga, desligava. Depois n\\u00e3o ligou mais. Desisti da compra para adquirir um de outra marca.\",1],[\"\\u00d3timo. A entrega foi dentro do prazo previsto. O computador \\u00e9 lindo, recomendo.\",5],[\"Otimo produto. O produto e muito bom para que e estudante e precisa de uma m\\u00e1quina com boas especifica\\u00e7\\u00f5es\",5],[\"Bom '!!. meu Irm\\u00e3ozinho gostou bastante e tdos n\\u00f3s gostamos por ele tbm '!!\",4],[\"\\u00d3timo desempenho. O notebook tem um bom acabamento e estou muito contente com ele. N\\u00e3o uso para programas muito pesados, mas posso dizer que para usar internet, Photoshop e usar v\\u00e1rias abas ao mesmo tempo est\\u00e1 sendo excelente, n\\u00e3o trava e \\u00e9 muito eficiente at\\u00e9 ent\\u00e3o. Recomendo!\",5],[\"Bom. N\\u00e3o tem entrada para CD. A entrega foi no prazo. Recomendo o produto  pra pequenos trabalhos, ou para crian\\u00e7as.\",3],[\"Bom e barato. At\\u00e9 agora n\\u00e3o tive nenhum problema com o meu, muito bom!\",3],[\"Tablet  sansung. Muito boa resolu\\u00e7\\u00e3o e tamanho da tela e desempenho\",5],[\"muito bom. recebi meu pedido bem antes do prazo, estou muito satisfeito\",3],[\"Boa compra. \\u00f3timo custo\\u002fbenef\\u00edcio.. Boa op\\u00e7\\u00e3o para crian\\u00e7as.  Boa compra. \\u00f3timo custo\\u002fbenef\\u00edcio.\",4],[\"CUMPRE A PROPOSTA. Na categoria \\u00e9 o melhor, tela anti-reflexo, bem n\\u00edtida e cores vivas. Sou designer gr\\u00e1fico e pra mim tem sido muito \\u00fatil, roda bem os programas. Estou jogando bem tamb\\u00e9m, rodas jogos pesados em full. Designer fosco \\u00e9 bem \\u00fatil pois dificilmente fica sujo. Eu recomendo, parab\\u00e9ns samsung.\",5],[\"Gostei do produto. Bom pra quem usa o notebook pra estudar ou trabalhar. Ainda estou acostumando com o linux,  mas n\\u00e3o apresenta grande dificuldades nas tarefas que fa\\u00e7o normalmente no computador. Sem contar que tive um notebook positivo que durou 10 anos sem apresentar defeito.\",4],[\"Fa\\u00e7a upgrade para SSD. O HD que vem de f\\u00e1brica \\u00e9 de p\\u00e9ssima qualidade. No entanto, se voc\\u00ea colocar um SSD, fica fant\\u00e1stico. Tirando o HD, a constru\\u00e7\\u00e3o \\u00e9 de alta qualidade, a tela \\u00e9 perfeita, com \\u00f3tima densidade de pixels, notebook de 14' com tamanho de 13', por causa das bordas super finas.\",4],[\"Produto falsificado. Eles vendem como um adaptador apple, mas \\u00e9 falso. O acabamento \\u00e9 ruim, o material \\u00e9 diferente do original e queimou depois de carregar apenas 30% da bateria do meu celular no primeiro uso. Ainda por cima solicitei o cancelamento e devolu\\u00e7\\u00e3o do valor mas a loja nem sequer me respondeu. Pura engana\\u00e7\\u00e3o.\",1],[\"N\\u00e3o recomendo. Produto trava bastante. Descarrega r\\u00e1pido. O que era para entreter as crian\\u00e7as acabou se tornando uma frustra\\u00e7\\u00e3o. N\\u00e3o recomendo.\",1],[\"Ele \\u00e9 muito pesado. O tablete em si n\\u00e3o \\u00e9 ruim, por\\u00e9m para o que eu estava precisando n\\u00e3o foi o esperado; ele \\u00e9 muito pesado e a imagem da tela \\u00e9 escura, por mais que deixamos a luminosidade no m\\u00e1ximo. O toque da tela demora muito a responder. N\\u00e3o compraria novamente, nem recomendo.\",2],[\"Excelente Produto. Comprei de presente para meu irm\\u00e3o,ele adorou. Entrega antes do prazo previsto.\",5],[\"excelente produto Tablet T560. Recomendo este produto. Bonito e boa capacidade de processamento.\",5],[\"N\\u00e3o vem com leitor de CD\\u002fDVD. Estou acostumada com meu Inspiration 3420 da Dell e percebi muita diferen\\u00e7a no sistema Windows... do resto, o notebook \\u00e9 mais r\\u00e1pido e cabe muito mais arquivos. O que me chateou \\u00e9 que n\\u00e3o vem com leitor de CD\\u002fDVD e n\\u00e3o havia a op\\u00e7\\u00e3o de comprar a parte.\",3],[\"\\u00d3timo.. Produto \\u00f3tima qualidade, bom custo x benef\\u00edcio, entregue muito antes do prazo.\",4],[\"Gostei do tablet!. Ele tem um bom tamanho de tela com resolu\\u00e7\\u00e3o boa para trabalhar (editar planilhas e navegar). A bateria \\u00e9 boa e tem uma velocidade para abrir os aplicativos legal.\",4],[\"Custo benef\\u00edcio muito bom. Recomendo 100%, tablet ideal para crian\\u00e7as, sem falar que o processamento \\u00e9 r\\u00e1pido e as c\\u00e2meras possuem boa resolu\\u00e7\\u00e3o.\",5],[\"muito insatisfeito com o produto. Boa tarde! Comprei o produto no boleto e paguei, porem o produto chegou com defeito e at\\u00e9 o dia de hoje(17\\u002f01\\u002f2018) n\\u00e3o resolveram o problema, o suporte da dell fica de resolver e n\\u00e3o resolve, vou ter que acionar o Procon, pois tem quase 30 dias que comprei o produto e n\\u00e3o pode usar e pior que esse notebook comprei para dar de presente. descri\\u00e7\\u00e3o o problema: quando colocar para carregar a bateria , ela quando chega em 55% de carga informa que est\\u00e1 conectada e sem carregar. passei essa informa\\u00e7\\u00e3o para Dell e pediram para fazer v\\u00e1rios testes e at\\u00e9 hoje n\\u00e3o trocaram o notebook para eu dar de presente que tinha prometido e olha o constrangimento causado, dei o produto de presente e a pessoa teve que me devolver o presente e at\\u00e9 hoje n\\u00e3o retornei com o presente.\",1],[\"\\u00d3timo produto. \\u00d3timo notebook, excelente pre\\u00e7o comparada a qualidade do produto, a entrega foi bem r\\u00e1pida.\",5],[\"Eu gostei dooproduto. Produto de \\u00f3tima qualidade. Chegou antes do prazo previsto. Um bom atendimento\",4],[\"Bom produto. Demorou muito chegar, quase 1 mes depois que comprei.\",3],[\"Bom custo benef\\u00edcio. O Linux tem algum tipo de bloqueio que dificulta a instala\\u00e7\\u00e3o do Windows. S\\u00f3 consegui desbloquear com um t\\u00e9cnico.\",3],[\"N\\u00e3o \\u00e9 original. O produto n\\u00e3o \\u00e9 Apple!!! \\u00c9 uma r\\u00e9plica muito semelhante ao original, comprei achando que seria original, pois o iPhone depois de um tempo come\\u00e7a a recusar carregadores falsos e foi o caso desse aqui.\",2],[\"Nota 10. Primeiro por que gosto da marca Samsung  Pesquisei bastante \\u00e9 pre\\u00e7o estava mais encota  que outros site. Produto chegou antes da data.\",4],[\"Veio com defeito.. Produto veio com defeito no HD. Estou aguardando contato para efetuar troca do produto\",1],[\"Bom tablet de entrada. Gostei muito do aparelho. \\u00c9 s\\u00f3brio, r\\u00e1pido e desempenha bem o que \\u00e9 esperado dele. Facebook, Whatsapp e alguns jogos n\\u00e3o muito pesados.\",3],[\"Perfeito!!. Para mim atendeu todas as expectativas,comprei dois ,meus filhos amaram ,roda os jogos deles perfeitamente.So tenho elogios quanto a entrega,como sempre as lojas Americanas \\u00e9 r\\u00e1pida nas entregas,est\\u00e3o de parab\\u00e9ns!\",4],[\"PAREM DE VENDER PRODUTOS DESSA PORCARIA DE EMPRESA COMPREBEL. LOJAS AMERICANAS, CRIEM VERGONHA E PAREM DE VENDER PRODUTOS DESSA EMPRESA COMPREBEL. N\\u00c3O ADIANTA VENDER UM PRODUTO QUE N\\u00c3O TEM ESTOQUE. Nunca vi tanto descaso com o cliente como o dessa empresa Comprebel.  Meu sobrinho comprou um PC de 3.670.00 Fazem 40 dias e at\\u00e9 agora n\\u00e3o recebeu o produto, as Lojas Americanas enrolam, a Comprebel diz que n\\u00e3o tem o produto, for\\u00e7ando o cliente a cancelar a compra. J\\u00c1 debitaram 2 parcelas no cart\\u00e3o e nada, por \\u00faltimo disseram que o produto foi postado porem a carga foi roubada, e agora mais 30 dias pra entregar outro???? Contem outra empresa Fundo de Quintal falida.\",1],[\"Aparelho bom. \\u00c9 bonzinho s\\u00f3 q com o tempo ele come\\u00e7a a travar,  mas como \\u00e9 s\\u00f3 pra jogar mesmo, ta bom\",3],[\"serve para o b\\u00e1sico. at\\u00e9 o momento ta rodando de boa. a entrega foi super r\\u00e1pida\",2],[\"Bom vendedor.. Entrega r\\u00e1pida e segura. Recomendo a todos. Veio conforme anunciado.\",5],[\"P\\u00c9SSIMO PRODUTO. CORRAM, CORRAM, CORRAM DESSE PRODUTO!!! COMPREI O PRODUTO E 1 SEMANA DEPOIS APRESENTOU PROBLEMA NA BATERIA. S\\u00d3 FUNCIONA COM O CARREGADOR CONECTADO. N\\u00c3O COMPREM JAMAIS!!\",1],[\"Lento. Comparando com os outros notebooks que tive, achei este inferior, lento para executar os programas, o mouse \\u00e9 ruim de movimenta\\u00e7\\u00e3o. N\\u00e3o entendo muito, n\\u00e3o sei se pode ter rela\\u00e7\\u00e3o com o sistema, que \\u00e9 windows 10, os anteriores que eu usava eram o windows 7, que \\u00e9 mais leve.\",2],[\"Bom e eficiente. \\u00d3tima imagem de tela. Chegou antes do prazo estipulado.\",5],[\"computador bastante fraco. O computador trava quando se usa o power point. E a DELL nao sabe o porque... JOga a culpa na microssoft. material bem fraco, delicado.... nao vale a pena\",1],[\"Excelente produto.. \\u00d3timo produto q tem como \\u00fanica falha o HD q \\u00e9 lento, mas o resto \\u00e9 excelente.\",4],[\"satisfeito com a compra. o tablet nao era nem para min eu indiquei uma pessoa para comprar nesse site e comprei no meu perfil e nao me arrempendo chegou bem antes do prazo e em perfeitas condi\\u00e7oes, ja indiquei uma capa tambem e to aguardando a entrega. otimo site para compras.\",5],[\"muito bom. chegou em quase perfeito estado............................................................................................................................................................................................................................................................................................................\",4],[\"20 mil reais ? ta de sacanagem ?????????. 20 mil reais ? ta de sacanagem ?????????20 mil reais ? ta de sacanagem ?????????20 mil reais ? ta de sacanagem ?????????20 mil reais ? ta de sacanagem ?????????20 mil reais ? ta de sacanagem ?????????20 mil reais ? ta de sacanagem ?????????20 mil reais ? ta de sacanagem ?????????20 mil reais ? ta de sacanagem ?????????20 mil reais ? ta de sacanagem ?????????20 mil reais ? ta de sacanagem ?????????\",1],[\"Bom produto!. Ele trava um pouco mas atende as minhas necessidades. Pelo pre\\u00e7o n\\u00e3o poderia ser melhor.\",3],[\"produto muito bom. Gostei muito do produto, alcan\\u00e7ou minhas expectativas,\\u00f3tima qualidade e \\u00f3timo pre\\u00e7o.\",4],[\"Vale nada. N\\u00e3o comprem gente p\\u00e9ssimo produto chegou num dia no outro nem quiz ligar mais\",1],[\"E o produto que tinha planejado para adquiri-lo.. E um note que atende as minhas expectativas em todos os sentidos,\",4],[\"Tablet Pessimo!. Comprei este tablet para minha filha no dia 24\\u002f12 para dar de natal, levamos para casa e n\\u00e3o ligava, voltamos na loja e trocamos o aparelho. E este segundo em menos de um m\\u00eas (hoje s\\u00e3o 17\\u002f01\\u002f2018) j\\u00e1 apresenta problema! N\\u00e3o abre os aplicativos, n\\u00e3o instala os jogos do Playstore. Come\\u00e7a a ver um v\\u00eddeo no Youtube e ele fecha de repente. Toda hora dando erro com o logo da Philco aparecendo na tela diversas vezes e n\\u00e3o liga. N\\u00e3o comprem!\",1],[\"Caneta n\\u00e3o funciona. A caneta n\\u00e3o funciona com iPad e nem mesmo com tablet Android\",1],[\"\\u00d3timo. \\u00d3timo produto, \\u00f3tima qualidade. Entrega antes do prazo.\",5],[\"Pura engana\\u00e7\\u00e3o. N\\u00e3o comprem, p\\u00e9ssimo produto, itens de marcas diferentes umas das outras, a tela \\u00e9 p\\u00e9ssima resolu\\u00e7\\u00e3o, em menos de um m\\u00eas de uso, o mouse parou, os fones de ouvido tb pararam. O PC travou pedindo que instale windows(ele n\\u00e3o funciona mais). O pior produto que j\\u00e1 comprei. Meu afilhado de 16 anos ficou simplesmente FRUSTRADO, afinal o presente foi para ele. PRODUTO P\\u00c9SSIMO. N\\u00e3o vale investimento nenhum.\",1],[\"Primeira vez que compro dessa marca.... Eu comprei chegou ontem ent\\u00e3o n\\u00e3o tenho muito o que dizer ... Pra mim t\\u00e1 \\u00f3timo pelo que pude mecher... Pelo valor est\\u00e1 \\u00f3timo... Espero que dure bastante tempo sem dar problemas Pois nunca comprei nenhum aparelho com essa marca.... Vi somente um.video no YouTube falando dele \\u00e9.me interessei...\",4],[\"Excelente. Muito satisfeita com o produto superou as expectativas de uso\",4],[\"Kit Capa para mini iPad 2. Gostei do produto, melhor que eu esperava, tem im\\u00e3 para manter o tri\\u00e2ngulo de base para o iPad ficar em p\\u00e9.\",5],[\"Excelente custo benef\\u00edcio. Notebook bonito, r\\u00e1pido, chegou super r\\u00e1pido e custo muito abaixo de outro notebook de mesma configura\\u00e7\\u00e3o e outras marcas.\",5],[\"Notbook Acer. Recebi o produto com 1 dia ap\\u00f3s o prazo previsto,mas completamente aceit\\u00e1vel por ser fim de ano!! Produto excelente,entrega ok. Para mim o melhor site para compras.\",5],[\"Muito bom.. O produto chegou no prazo certo e est\\u00e1 funcionando corretamente. Estou satisfeito com a compra.\",5],[\"O produto nao foi entregue no prazo marcado.. Comprei o Tablet no dia 04\\u002f01\\u002f2018. fui informada que a data de entrega seria at\\u00e9 o dia 16\\u002f01\\u002f2018. Hoje \\u00e9 dia 18 de janeiro e at\\u00e9 o momento n\\u00e3o recebi o produto. E no acompanhamento do pedido continua informando que ser\\u00e1 entregue at\\u00e9 o dia 16 de janeiro. E eu continuo aguardando a entrega... Desanimada....\",1],[\"Estou gostando. Pr\\u00f3s -- Bonito, leve, r\\u00e1pido. Contra -- Tive que pagar para um t\\u00e9cnico tirar o Windows 10 pois \\u00e9 horr\\u00edvel, pede atualiza\\u00e7\\u00f5es di\\u00e1rias e demora demais, \\u00e9 lento pra mexer. Mas agora com o Windows 7 o notebook funciona muito bem. Obs.: Uso para trabalho.\",5],[\"amei. Foi tudo perfeito desde a compra at\\u00e9 a entrega. Recebi o produto conforme o que eu queria. Eu recomendo esse site.\",5],[\"Gostei muito do produto!!. Produto muito bom,serviu ao que se destinou,obrigado!!!!\",4],[\"O notebook \\u00e9 exelente. Atendeu todas as minhas expectativas, o que n\\u00e3o gostei foi da transportadora, que deixa a desejar sobre informa\\u00e7\\u00f5es da localiza\\u00e7\\u00e3o e status da encomenda.\",5],[\"SATISFEITA.. A entrega foi antes do prazo e o produto e muito bom.Satisfeita.\",5],[\"produto excelente. tenho este produto a 2 anos , nunca pegou v\\u00edrus , n\\u00e3o trava , bateria duradora , custo beneficio para uso domestico, s\\u00f3 os apricativos que s\\u00e3o ilimitados precisando desenvolver apricativos para este programa de computador.\",5],[\"\\u00d3timo. Tela grande.  Mem\\u00f3ria muito boa. Meu filho gostou muito, foi um excelente presente.\",4],[\"Regular. Eu comprei o tablet Mirage l\\u00e1 na Lojas Americanas veio em 7 dias ele voltou ficou com defeito a\\u00ed dia 20 dia 11 eu mandei ele de volta e n\\u00e3o voltou at\\u00e9 hoje at\\u00e9 hoje ligo ligo ligo e ningu\\u00e9m atende e a minha nota fiscal est\\u00e1 aqui eu quero saber que que vai acontecer\",2],[\"BOM EQUIPAMENTO. BOM DESEMPENHO PARA ATIVIDADE QUE EXER\\u00c7O - ARQUITETURA e URBANISMO\",3],[\"Gostei do produto. Muito bom, est\\u00e1 atendendo minhas expectativas. Agora por ser um processador I3 eu pensei que seria bem mais r\\u00e1pido do que meu notebook anterior pois este ainda n\\u00e3o est\\u00e1 nem cheio de aplicativos mas a velocidade \\u00e9 compar\\u00e1vel com os processadores anteriores.\",4],[\"Muito bom. Excelente produto. Realmente atendeu \\u00e0s minhas expectativas com rela\\u00e7\\u00e3o \\u00e0 qualidade.\",5],[\"Gostei muito do produto. Chegou antes do prazo, muito bom, meu filho baixou 20 joguinho do Google play e n\\u00e3o travou kkk excelente parab\\u00e9ns\",5],[\"bom. sem altera\\u00e7\\u00e3o , muito bom mesmo , foi eu que escolhi dentro da configura\\u00e7\\u00e3o\",4],[\"Gostei. Achei pratico e resistente. Poderia ter putras cores de op\\u00e7\\u00e3o al\\u00e9m do preto. Mas atende ao que preciso.\",3],[\"Nootebook Sem leitor de DVD.. Notebook \\u00e9 bom, porem n\\u00e3o vem com o leitor de DVD, tem o \\\"furo\\\" pra ter leitor mas vem lacrado, qual o sentido de vir com o encaixe e n\\u00e3o ter o leitor......#decepcionado.\",3],[\"Amei esse produto. Gostei da aten\\u00e7\\u00e3o que vcs tiram tirando d\\u00favidas, sobre a entrega chegou antes do prazo o produto muito bom, ele \\u00e9 al\\u00e9m do que eu imaginava.\",4],[\"GOSTEI DO PRODUTO. TUDO OK...................................................................................................................................................................................................................................................\",5],[\"Parou de funcionar!!!. com menos de 1 m\\u00eas de uso o tablet simplesmente se desligou sozinho e n\\u00e3o liga mais. Procurei por assist\\u00eancia t\\u00e9cnica autorizada em minha cidade e n\\u00e3o tem!!!!\",1],[\"\\u00d3timo PC. PC \\u00f3timo para quem utiliza para estudos e pesquisas na internet...\",5],[\"N\\u00e3o recebi o produto. Comprei o produto no dia 20 de dezembro e at\\u00e9 agora nada... Nunca tive problemas com compras na internet at\\u00e9 agora...\",1],[\"Bom produto. Dentro das expectativas ; ainda tive pouco tempo de uso mais n\\u00e3o decepcionou\",4],[\"\\u00f3timo aparelho. Esquenta bastante rodando jogos como lol, tera, diablo 2 em gr\\u00e1ficos altos. \\u00f3timo desempenho e design. Adorei e est\\u00e1 servindo muito bem todos os meus requerimentos.\",5],[\"Bom custo beneficio. Configura\\u00e7\\u00e3o simples mas que atende muito bem as tarefas do dia a dia.\",4],[\"EXCELENTE PRODUTO. O tablet \\u00e9 muito bom. \\u00d3timo custo benef\\u00edcio. Entrega no prazo.\",5],[\"Excelente produto, gostei!. As Americanas est\\u00e1 de parab\\u00e9ns a entrega foi antes do prazo, super r\\u00e1pido! Recomendo.\",5],[\"Adorei  o meu tablet. Compra segura  Entrega r\\u00e1pida antes do previsto gostei\",5],[\"nao gostei, recebi o computador com HD queimado. Recebi o computador com o HD estragado, ou seja o computador esta  inutiliz\\u00e1vel, ja mandei varios tickets parar o atendimento da Americanas que iriam encaminhar para a loja que enviou o pedido, loja Comprebel, que ficaram de me responder em 48 horas e ja se passou varios dias e nada da resposta. Fiquei no prejuizo! loja sem suporte.\",1],[\"o computador veio com defeito e n\\u00e3o est\\u00e1 funcionando. o computador veio com defeito e n\\u00e3o est\\u00e1 funcionando, instalei tem 2 dias e j\\u00e1 parou de funcionar, o tecnico disse que pode ser o HD ou algum cabo solto mas ele nao pode abrir p ver pois perderia a garantia.\",1],[\"\\u00d3timoooooo!. \\u00c1udio excelente, \\u00f3timo para quem estuda e muito bonito por sinal !\",4],[\"Produto com defeito. Computador de qualidade duvidosa. Deu defeito no primeiro dia de uso.\",1],[\"Custo \\u00e9 benef\\u00edcio. Meu filho gostou muito do aparelho,tem um bom desempenho, bom acabamento e bonito.\",3],[\"Tablet Samsung. Doy 5 estrellas. Excelente producto. Muy atentos y eficaces los vendedores. Lo recib\\u00ed antes de tiempo. Recomiendo.\",5],[\"Superou minha expectativa. Estou muito satisfeito com esse tablet da Mirage. \\u00d3tima bateria, boa resolu\\u00e7\\u00e3o de tela de 10 polegadas e bom desempenho, al\\u00e9m de ser muito bonito.\",4],[\"Insatisfeito. Fico pensando como uma empresa de renome como a DELL coloca uma m\\u00e1quina t\\u00e3o fraca  como essa no mercado.A insatisfa\\u00e7\\u00e3o come\\u00e7a logo na hora de ligar.\\u00c9 uma eternidade at\\u00e9 abrir o windows, e continua com o uso,travando e demorando para processar coisas simples.O design do notebook \\u00e9 fraco e sem atrativos,nem se comparando ao VAIO,que ai sim,tem uma m\\u00e1quina elegante e realmente bonita.Me enganei por achar que comprando um notebook DELL core i5 de s\\u00e9tima gera\\u00e7\\u00e3o  estava fazendo um \\u00f3timo neg\\u00f3cio.Para finalizar estou esperando terminar de pagar a m\\u00e1quina para comprar algo realmente de qualidade e que me entregue o que se prop\\u00f5e.\",1],[\"IPAD. Muito bom, ainda estou aprendendo a lidar com equipamento\",4],[\"M\\u00e9dia qualidade. O produto apresenta uma bateria que acaba muito r\\u00e1pido, o slot do chip \\\"engole\\\" o mesmo, esquenta muito e \\u00e9 dif\\u00edcil encontrar uma capa protetora que sirva.\",2],[\"\\u00d3timo Custo Benef\\u00edcio!!. Comprei esse Tablet para minha esposa para que ela possa mostrar as fotos de seus bolos nas visitas \\u00e0 Clientes. Ela est\\u00e1 adorando!!\",3],[\"Gostei muito do produto.. Gostei muito do produto.  Gostei muito do produto.  Gostei muito do produto.\",4],[\"Otimo. Produto \\u00f3timo e chegou em perfeito estado, eu super recomendo porque ele \\u00e9 bom de verdade tem que respeitar a Dell e a empresa Americanas.\",5],[\"Note samsung expert. Super recomendo melhor aquisi\\u00e7\\u00e3o j\\u00e1 realizada e chegou antes do prazo informado\",5],[\"Produto Excelente!. O notbook \\u00e9 auto de data e \\u00e9 incr\\u00edvel como ele facilita nosso acesso, sem falar da apar\\u00eancia.. lindo ... lindo ... lindo !\",5],[\"Gostei do Produto. Apenas, \\u00e0s vezes o clique no bot\\u00e3o que onde seria do \\\"mouse\\\" n\\u00e3o obedece.\",3],[\"Cumpre o prometido !. Pra quem procura um notebook pra fun\\u00e7\\u00f5es b\\u00e1sicas, faculdade, redes sociais... Ele \\u00e9 muito bom.\",3],[\"Muito bom. Tablet leve e bom, acabamento excelente e estar me atendendo muito bem\",3],[\"Produto de \\u00f3tima qualidade.. Produto de \\u00f3tima qualidade. A \\u00fanica coisa \\u00e9 que a entrega demorou para acontecer. Recebi o produto com atraso.\",4],[\"Muito bom o produto.. S\\u00f3 n\\u00e3o \\u00e9 excelente porque n\\u00e3o vem com o pacote do Office. No mais...\\u00e9 top.\",4],[\"Gostei muito do produto!!. \\u00d3timo produto, de extrema qualidade!! A entrega foi mais r\\u00e1pida do que eu esperava, recomendo a todos!!\",5],[\"Produto com \\u00f3timos recursos. \\u00c9 um excelente produto da Samsung,com \\u00b4recursos  \\u00f3timos.Recomendo.\",5],[\"produto muito bom. produto de otima qualidade,recomendo a quem quiser adquirir\",5],[\"Notebook regular. regular, porem lento, trava um pouco, mas pra uso dom\\u00e9stico at\\u00e9 que \\u00e9 bom.\",2],[\"Bom produto, atende as expectativas. Me decepcionei um pouco com a demora da entrega, j\\u00e1 que estava acostumada com outros sites que s\\u00e3o super r\\u00e1pidos. Quanto ao produto, poderia ter entradas usb dos dois lados (s\\u00f3 tem no lado esquerdo) e em mais quantidade, j\\u00e1 que n\\u00e3o possui leitor de cd. No mais, notebook bonito e pr\\u00e1tico com um pre\\u00e7o compat\\u00edvel\",3],[\"bateria muito rapido termina. nao gostei da questao bateria...rapido demais termina.\",2],[\"muito bom produto. Chegou antes do prazo estou satisfeito. Recomendo pelo valor oferecido foi um \\u00f3timo negocio.\",3],[\"Gostei muito. Computador excelente, muito r\\u00e1pido e o designer \\u00e9 top!\",5],[\"Fiquei com medo, mas deu tudo certo. Tinha visto um coment\\u00e1rio sobre a lentid\\u00e3o do produto, e comprovei isso quando chegou. Fiquei frustrado, mas ent\\u00e3o vi que tinha um monte de atualiza\\u00e7\\u00f5es para serem feitas. Depois de fazer, o notebook est\\u00e1 muito r\\u00e1pido. Realmente valeu a compra. Recomendo!\",5],[\"PESSIMO ATENDIMENTO. Comprei o produto com previs\\u00e3o de entrega dia 02.01.18 e at\\u00e9 o momento o produto n\\u00e3o foi entregue. J\\u00e1 fiz diversas reclama\\u00e7\\u00f5es, sem respostas. Cancelei a compra e ainda n\\u00e3o houve estorno do valor no meu cart\\u00e3o de cr\\u00e9dito.\",1],[\"Top. Por um pre\\u00e7o acess\\u00edvel adquiri um produto com uma qualidade maravilhosa. Obrigado americanas por pre\\u00e7os imbat\\u00edveis e qualidade monstra !!!\",5],[\"produto excelente. produto superou as expectativas, muito bom, valeu a pena.\",5],[\"Vale a pena. vale fazer u upgrade, trocar o hd por ssd. Super recomendo.\",5],[\"Produto bom.. S\\u00f3 carece de driver de CD e DVD. No mais, o equipamento \\u00e9 bom.\",5],[\"\\u00d3timo Equipamento. Trabalho com desenvolvimento Android, e rodar o emulador sempre foi um problema, essa m\\u00e1quina com essa configura\\u00e7\\u00e3o e principalmente pelo SSD, melhorou demais o desenpenho e a minha produtividade\",5],[\"Estou tendo problemas com a taxa de fps. Comprei o not quando fui jogar observei que a taxa de fps tava em 30 sendo que ele termina boa placa de v\\u00eddeo capas de chegar at\\u00e9 192 de ms realizei tudo que meus amigos falaram att entre outros mais permanece assim Am\\u00e9ricas oque eu posso fazer\",1],[\"Cumpre o que promete. De acordo com as especifica\\u00e7\\u00f5es t\\u00e9cnicas do produto.\",4],[\"\\u00d3timo custo\\u002fbenef\\u00edcio. Produto atende \\u00e0s expectativas e a negocia\\u00e7\\u00e3o foi r\\u00e1pido e f\\u00e1cil\",4],[\"Excelente.. \\u00d2tima compra, tela fina super leve e bonito. Recomendo.\",5],[\"PARCELAS. SERIA BOM SE PODESSE PARCELAR EM 10X COM CARTAO DE CREDITO.\",3],[\"Produto veio com problemas. O produto veio com problemas, estou a 10 dias tentando fazer a troca e a loja n\\u00e3o passa uma posi\\u00e7\\u00e3o.  Estou muito chateada e vou ter que entrar na Justi\\u00e7a para resolver.\",1],[\"Produto muito bonito. Meu notebook acabou de chegar. Achei ele lindoooooooo. Bem grande, bem fino, acabamento legal. Ele pega HDMI no site n\\u00e3o mostra. Por\\u00e9m estou triste, pelo fato dele n\\u00e3o estar conectando a nenhuma rede wi-fi\",3],[\"Ideapad 310-\\u00d3timo Notebook. Leve, silencioso, muito r\\u00e1pido, som l\\u00edmpido, teclado confort\\u00e1vel. Recomendo.\",4],[\"Recomendo. Super indico Vale a pena comprar Ele \\u00e9 lindo Slim E a cor \\u00e9 Maravilhosa (para quem gosta da cor a\\u00e7o escovado)\",5],[\"Excelente.. A Samsung sempre foi minha marca de produtos favorita. Celular, TV, Notebook... E esse Notebook \\u00e9 excepcional, tela, processamento dos dados, \\u00f3timo para rodar as coisas di\\u00e1rias, Word, Internet, Youtube tudo na mesma hora, sem travar. Ainda d\\u00e1 para arriscar uns jogos de 2016 para baixo.\",5],[\"P\\u00e9ssimo!!!!. No segundo dia de uso, travou, tenho internet de 30 mega e n\\u00e3o esta abrindo as p\\u00e1ginas da internet, fica travando!!! Irei devolver o produto, sem contar que hoje pela manh\\u00e3 ele iniciou com um ru\\u00eddo interno, como se tivesse algo batendo, que s\\u00f3 parou depois de mudar ele de posi\\u00e7\\u00e3o.\",1],[\"Maravilhoso. Se voc\\u00ea deseja um computador pra editar v\\u00eddeo, jogos, etc. Nada pesado, que exige o M\\u00c1XIMO DO M\\u00c1XIMO do seu PC, ele \\u00e9 super ideal, jogo normalmente, edito videos normalmente. Navego muito bem nos navegadores, parece que minha velocidade de internet \\u00e9 maior do que contratei por causa do hardware desse equipamento. Recomendo. Muito bom.\",5],[\"gostei do produto. bom, b\\u00e1sico, mas de excelente funcionamento, recomendo.\",3],[\"excelente. \\u00f3timo,minha sobrinha adorou!!!!! instalei v\\u00e1rios joguinhos e deu tudo certo!!!!!\",5],[\"Inicializa\\u00e7\\u00e3o r\\u00e1pida.. O que mais me surpreendeu foi a rapidez da inicializa\\u00e7\\u00e3o do Windows. Inicialmente o navegador n\\u00e3o queria acessar todos os sites, mas em uma liga\\u00e7\\u00e3o para o suporte t\\u00e9cnico da Lenovo (excelente atendimento)  e um procedimento orientado por eles, o problema foi resolvido.\",4],[\"OTIMO NOTA 10. ALGUEM SABE SE ELE RODA CS:GO SEM LAGS OU TRAVAMENTOS PORQUE TOU EM DUVIDAS SE COMPRO ELE PARA CS:GO\",5],[\"Muito bom. Pre\\u00e7o bom para as configura\\u00e7\\u00f5es (I7 com placa off board ge-force).\",4],[\"Produto com defeito. Produto chegou com defeito, n\\u00e3o ligava, fiz o contato com a loja e devolvi no dia seguinte.....nao recomendo a ningu\\u00e9m..\",1],[\"Satisfeito. Tudo como no anunciado. Super recomendo. Chegou r\\u00e1pido. Aparelho atualizado com android 7. Gostei muito\",3],[\"Muito satisfeita!. Notebook, com design bem fino, leve e atende as minhas expectativas.E o melhor, chegou antes do prazo previsto.\",5],[\"Linux. T\\u00e1 \\u00e9 louco.. A empresa monta uma m\\u00e1quina dessa, com umas configura\\u00e7\\u00f5es at\\u00e9 interessantes e empurra um Linux. PQP fala s\\u00e9rio. Se voc\\u00ea formata e coloca um Windows perde a garantia.\",3],[\"Recomendo. O produto \\u00e9 muito bom e a entrega foi super r\\u00e1pida.\",5],[\"Recomendo, produto excelente atendeu totalmente minhas necessidades. \\u00d3timo custo beneficio , excelente qualidade,compto ideal para levar a qualquer lugar, dura\\u00e7\\u00e3o da bateria excelente...\",5],[\"Dell gaming. Produto muito bom, mas o teclado apresenta instabilidade.\",4],[\"Notebook Asus. Esperava mas pela configura\\u00e7\\u00e3o apresentada, infelizmente estou decepcionado, assim sendo n\\u00e3o recomendado aqueles que buscam velocidade na resposta\",3],[\"Avalida\\u00e7\\u00e3o de compra. O produto \\u00e9 \\u00f3timo, porem a transportado direct deixa a desejar. Entregou o produto com 3 dias de atraso e n\\u00e3o deu nenhuma justificativa, inclusive a Americanas.\",4],[\"Recomendo. muito bom ... a tela \\u00e9 bem grande, o unico problema \\u00e9 que a capinha e tela de prote\\u00e7\\u00e3o s\\u00f3 achei pela internet ..\",4],[\"Entrega r\\u00e1pida e notebook de qualidade. A entrega foi r\\u00e1pida, foi por Sedex, mas ainda prefiro pela transportadora Direct, mas chegou direitinho e r\\u00e1pido, o notebook \\u00e9 muito bom, est\\u00e1 funcionando perfeitamente at\\u00e9 agora, gostei bastante, Samsung \\u00e9 uma \\u00f3tima marca.\",5],[\"Eu gostei e compraria novamente.. Eu comprei esse notebook, ap\\u00f3s v\\u00e1rias decep\\u00e7\\u00e3o com a lenovo, notebook caro e defeito que n\\u00e3o foram reparados, tamb\\u00e9m tive decep\\u00e7\\u00e3o com a samsung. Ent\\u00e3o,   pelo excelente pre\\u00e7o do notebook positivo e como ele ser\\u00e1 usado somente para acesso \\u00e0 Internet e impress\\u00e3o, achei custo beneficio. Chegou perfeito, at\\u00e9 o momento n\\u00e3o tenho problemas. S\\u00f3 estou tendo um cuidado redobrado, pois ele \\u00e9 bem sens\\u00edvel, fr\\u00e1gil, ent\\u00e3o, utilizo e guardo na caixa com muito cuidado. Eu compraria outro desse, se necess\\u00e1rio, cansei de comprar notebook car\\u00edssimo e s\\u00f3 decep\\u00e7\\u00e3o.\",5],[\"Bom!. Produto atende as expectativas!  Por\\u00e9m a fonte de alimenta\\u00e7\\u00e3o veio em padr\\u00e3o europeu e isso n\\u00e3o foi mencionado no an\\u00fancio.  O produto tamb\\u00e9m \\u00e9 importado e n\\u00e3o nacional.\",3],[\"Super satisfeita. Produto excelente, entrega r\\u00e1pida, super recomendo\",5],[\"Gostei e muito bom. Entrega e boa chega antes do dia combinado parabens para essa loja nota dez\",3],[\"muito bom. recebi no prazo veio bem embalado o notebook e bom  eu comprei pra trabalhar com vendas na internet e esta me respondendo a altura recomendo\",3],[\"Excelente investimento. Notebook Top... Excelente compra...entrega super r\\u00e1pida (antes do prazo at\\u00e9) com certeza recomendo tanto a Dell qto \\u00e0 Americanas...\",5],[\"Satisfeito. Estou satisfeito com o produto adquirido. Recomendo.\",4],[\"\\u00f2timo. melhor q o tab E, mais fino, menos robusto, mais r\\u00e1pido.\",5],[\"Capa. S\\u00f3 n\\u00e3o protege as pontas do Apad. Recomendaria com esta ressalva.\",3],[\"Bom custo-benef\\u00edcio. Boa performance, boa capacidade, bom custo-benef\\u00edcio.\",3],[\"Boa referencia. O produto  \\u00e9 bom. Recomendo aos usu\\u00e1rios por apresentar um bom  desempenho.\",4],[\"Odiei o produto. Note Booker deu problema no segundo dia de uso. Fiz a devolu\\u00e7\\u00e3o.\",1],[\"melhor do que o esperado. \\u00e9 um note muito bom , vale a pena compra lo ..o processador \\u00e9 excelente\",5],[\"\\u00f3timo custo beneficio. Leve e fino por um pre\\u00e7o acessivel, peguei no pre\\u00e7o de black friday ent\\u00e3o foi um \\u00f3timo custo beneficio, estou usando a um m\\u00eas, ele \\u00e9 perfeito para meus estudos e trabalhos.O sistema \\u00e9 o Openmandriva e qualquer um com um pouco de paciencia e coragem aprende a usar em um m\\u00eas, mas se a diferen\\u00e7a de pre\\u00e7o desse pra vers\\u00e3o com i3 for de menos de 300 reais acho melhor o positivo com i3\",5],[\"Uauu!!!. Vendi minha casa e um Rim e um c\\u00f3rnea no mercado negro, mas agora o Minicraft rosa fil\\u00e9....\",5],[\"Notebook n\\u00e3o foi feito para upgrades. \\u00c9 uma boa m\\u00e1quina, mas por seu hardware e configura\\u00e7\\u00e3o deveria ser bem mais r\\u00e1pido. Provavelmente o windows 10 tamb\\u00e9m \\u00e9 lento e pesado com suas in\\u00fameras configura\\u00e7\\u00f5es gr\\u00e1ficas in\\u00fateis. Mas o notebook \\u00e9 lento e, pesquisando nos f\\u00f3runs, a baia para o drive \\u00f3tico do cd\\u002fdvd n\\u00e3o \\u00e9 preparada para receber um HD SSD, que daria muito mais velocidade ao conjunto. S\\u00f3 \\u00e9 poss\\u00edvel faz\\u00ea-lo por meio de adapta\\u00e7\\u00e3o (\\\"gambiarra\\\"). O aparelho \\u00e9 robusto. A bateria tem curta dura\\u00e7\\u00e3o. A tela, que \\u00e9 full HD e tem uma placa gr\\u00e1fica \\u00e0 parte, mas deixou a desejar, pois trabalho com fotografias e gostaria de ter algo mais vibrante.\",3],[\"Muito bom. Comprei para presentear um amigo ele adorou disse qu\\u00ea foi o melhor e mais \\u00fatil presente na sua vida e ele usa para trabalhar\",4],[\"Gostei muito do meu note!. A mercadoria chegou no prazo e em \\u00f3timo estado.Ele atende as minhas necessidades.\",5],[\"mto bom. produto muito bom,atendeu minhas expectativas! cheguei antes do esperado\",4],[\"Massa. Bacana demais bla bla bla  bla bla bla bla bla bla bla bla bla\",5],[\"Baixa qualidade da imagem. N\\u00e3o imaginei que a resolu\\u00e7\\u00e3o da imagem na tela fosse t\\u00e3o ruim.\",2],[\"Excelente produto e \\u00f3timo pre\\u00e7o. Acredito que fiz uma \\u00f3tima compra ao escolher o Notebook Samsung Expert22 nas lojas Americanas, pois al\\u00e9m de uma excelente configura\\u00e7\\u00e3o, designer, pre\\u00e7o, tive acesso a todas as etapas do processo de entrega e chegou antes do prazo estimado.\",5],[\"n\\u00e3o atendeu expectativa. produto n\\u00e3o atendeu expectativa..pois sistema operacional diferente da usual da nossa realidade. por\\u00e9m j\\u00e1 solicitaram troca\",1],[\"Excelente. Produtos da Dell n\\u00e3o tem compara\\u00e7\\u00e3o. Muito bom mesmo.\",5],[\"Top. Top top   gostei do produto......................  \\u00d3tima performance\",5],[\"Gostei muito do produto!. Produto atendeu minhas expectativas e a entrega foi muito r\\u00e1pida, recebi bem antes do prazo previsto.\",4],[\"Satisfeito mais uma vez. Este  \\u00e9 o quarto produto que adquiri da marca. Todos foram satisfat\\u00f3rios. Este ultimo  adquiri para substituir um I5 da Lenovo que desisti de usar por t\\u00e3o lerdo. Este I3 da Asus funciona mais flu\\u00eddo, sem os travamentos constantes do Lenovo. Al\\u00e9m disto, foi bem mais barato, e ainda veio com leitor de CD \\u002f DVD, ausente no da outra marca.\",4],[\"MUITO BOM!!!!!!. Nao vi defeito ate agr ja tenho ele 1 semana e te agr nao deu problema e vem super protegido em duas caixas etc (nesse momento eu estou usando ele..) muito bom viuuu\",5],[\"Muito Barato. Pre\\u00e7o incr\\u00edvel, s\\u00f3 vai me custar um Rins ,mas para que dois rins mesmo se posso usar s\\u00f3 um e ainda usufruir de uma maquina dessa com essa super placa de videio .\",5],[\"MELHOR QUE MINHAS EXPECTATIVAS. \\u00d3timo produto, recomendo muito.Realmente protege o Tablet , e tela , n\\u00e3o conhecia a canetinha ,tamb\\u00e9m \\u00e9 excelente .\",5],[\"\\u00d3tima escolha. Produto de primeira escolha, exatamente como esperava , tenho certeza que fiz \\u00d3tima compra.\",5],[\"Muito barato. Achei o pre\\u00e7o excelente, ent\\u00e3o eu comprei 3, pretendo ouvir musica e usar internet.\",4],[\"Amei o produto. O produto chegou no prazo estipulado e \\u00e9 muito f\\u00e1cil de manusear. Super recomendo.\",4],[\"\\u00d3timo produto.. \\u00d3timo produto, atendeu \\u00e0s minhas expectativas. Chegou bem antes do prazo. Estou muito satisfeita.\",4],[\"Mt ruim. Na segunda vez q tentei usar n\\u00e3o funcionou mais estou por uma semana tentando entra em contato com a Asus para obter a garantia \\u00e9 at\\u00e9 agora nada. Espero conseguir pelo menos mandar para assistente para poder usar.\",1],[\"Excelente custo x benef\\u00edcio. Excelente produto! Vale a pena o investimento! Conjunto muito equilibrado, desempenho bom para jogos n\\u00e3o muito pesados.\",5],[\"muito bom. 100 satisfeito com o note book, vale muito apena adquiri\",4],[\"Perfeito. Muito bom, excelente produto, bem embalado, chegou em perfeito estado, funcionando tudo certinho como deveria. Parabens recomendo bastante a compra deste produto\",5],[\"Eu recomendo. O aparelho tem um \\u00f3timo desempenho, \\u00e9 r\\u00e1pido n\\u00e3o trava, eu recomendo podem comprar sem d\\u00favida !!!\",4],[\"Notebook Dell. Produto de excelente qualidade, aconselho para quem deseja um notebook r\\u00e1pido e est\\u00e1vel.\",5],[\"Adorei o produto!. A compra foi r\\u00e1pida e f\\u00e1cil. O produto chegou antes da data prevista e em perfeito estado. O produto \\u00e9 excelente!!!\",5],[\"P\\u00c9SSIMO!!!!. A entrega e o antedimento do Lojas Americanas foi excelente, produto chegou antes do prazo, por\\u00e9m o produto \\u00e9 p\\u00e9ssimo, n\\u00e3o baixei nada at\\u00e9 o momento e nem desenho do Youtube n\\u00e3o roda.... a tela \\u00e9 escura horr\\u00edvel de visualizar nunca fiquei t\\u00e3o insatisfeita com uma compra como essa, mandei um e-mail para a Multilaser me responderam pra entrar em contato com um 0800 q n\\u00e3o d\\u00e1 certo!!!!!! SSUUUPEERRRRRR DESCONTENTE\",1],[\"\\u00d3timo custo benef\\u00edcio. \\u00d3timo produto, com custo bom. Valeu a pena comprar.\",4],[\"Notebook. Ola, bom dia!  Recebido corretamente. Muito obrigada!\",4],[\"Produto excelente. O produto \\u00e9 \\u00f3timo, chegou intacto e muito antes do prazo combinado.\",5],[\"Gostei muito.. Comprei para minha filha, produto bom, bastante vers\\u00e1til.\",4],[\"O Produto n\\u00e3o chegou!!!. N\\u00e3o posso avaliar o produto, pois o mesmo n\\u00e3o me foi entregue!!!\",1],[\"O produto \\u00e9 muito bom. Produto muito bom e foi presente para o meu afilhado.\",5],[\"Produto bom. O tablet \\u00e9 \\u00f3timo.N\\u00e3o trava. Agora quanto a entrega, atrasou um dia. Reclamei pq n\\u00e3o cumpriram o prazo, o rapaz f\\u00e3 transportadora disse que n\\u00e3o tem acesso ao sistema.\",4],[\"Atendeu minhas expectativas. Queria um computador para tarefas de rotina e que me proporcionasse qualidade de v\\u00eddeo para s\\u00e9ries e filmes. Este notebook tem me atendido neste sentido.\",4],[\"excelente notebook. otimo notebook , configura\\u00e7\\u00e3o excelente , acabamento premium muito sofisticado... velocidade inigual\\u00e1vel dentre os  pcs que j\\u00e1 tive. Entrega na americanas foi super r\\u00e1pida . RECOMENDO\",5],[\"tablet horrivel. Sem condi\\u00e7\\u00f5es de uso N\\u00e3o abre nada Nem tem como instalar nada S\\u00f3 o software para o funcionamento do aparelho j\\u00e1 trava arrependimento total\",1],[\"Perfeito!!!. Produto muito bom, perfeito mesmo, entrega r\\u00e1pida, produto melhor do que eu esperava.\",5],[\"Corresponde exatamente a divulga\\u00e7\\u00e3o do produto. \\u00d3tima qualidade de constru\\u00e7\\u00e3o. N\\u00e3o \\u00e9 pesado pra um computador de 15.6. Som excelente. Os por\\u00e9ns s\\u00e3o q a porta vga nao entra at\\u00e9 o fim (mas funciona), a interroga\\u00e7\\u00e3o no teclado fica num lugar estranho (tem q usar alt gr) e tem hora q parece q o windows 10 \\u00e9 meio pesado\",5],[\"A  empresa esta de parab\\u00e9ns pela agilidade da entrega,produto mto ruim. A  empresa esta de parab\\u00e9ns pela agilidade da entrega,mais o produto n\\u00e3o presta seria mais interessante juntar mais um pouco de grana e comprar outro produto para lhe atender pois esse e dinheiro jogado fora,leiam o que escrevo pois me arrependi.\",1],[\"Que som \\u00e9 esse!. Amei a entrega, melhorou bastante! Quanto ao produto tenho levado alguns susto, est\\u00e1 travando um pouco, uma vez desligou sozinho, mas acredito que n\\u00e3o deve ser nada demais. Amei o som, a qualidade da imagem, bem legal.\",3],[\"N\\u00e3o recomendo pagar entrega R\\u00e1pida. Meu notebook veio um pouco aberto perto do Touch pad, mas coisa de 1 mil\\u00edmetro. Em rela\\u00e7\\u00e3o a entrega, P\\u00c9SSIMO!. Quem for comprar remendo usar a entrega normal mesmo, pois a \\\"R\\u00e1pida\\\" Faz seu aparelho viajar o Brasil todo e demora na mesma. Sem contar que foi 80 reais mais caro.\",2],[\"PRODUTO BASICO. MUITO LENTO,S\\u00d3 RECOMENDO SE FOR PARA O B\\u00c1SICO.CASO CONTRARIO \\u00c9 MELHOR OPTAR POR OUTRO\",2],[\"O protudo \\u00e9 otimo. Ele \\u00e9 um produto excelente,super leve e sem falar que \\u00e9 dujeito que eu imaginei.E a entrega foi super rapida.\",5],[\"muito bom. a entrega foi r\\u00e1pida, o produto \\u00e9 excelente e o pre\\u00e7o foi cerca de 400 reais a menos em rela\\u00e7\\u00e3o ao mesmo produto em lojas f\\u00edsicas de outras empresas.\",5],[\"Boa qualidade f\\u00edsica. bom laptop para escrit\\u00f3rio apesar do Windows 10. Programas 3D leves como Sketchup rodam bem.  N\\u00e3o acompanha os jogos contempor\\u00e2neos.\",4],[\"Excelente. Acabamento, velocidade, comodidade, recomendo. N\\u00e3o deixa a desejar pra nenhuma m\\u00e1quina, gostei muito.\",5],[\"\\u00d2timo. Excelente produto e \\u00f3timo vendedor rapidez na entrega eu recomendo!!\",5],[\"Bom. Entrega r\\u00e1pida e sem problemas. Atendeu as expectativas\",5],[\"\\u00d3timo produto. Pesquisei por meses e consegui o melhor custo benef\\u00edcio do mercado.\",5],[\"n\\u00e3o pude avaliar pois nem consegui ligar.. Produto veio com defeito e n\\u00e3o acessa nada. Liguei pra assist\\u00eancia t\\u00e9cnica e n\\u00e3o foi poss\\u00edvel resolver pediram pra levar numa assist\\u00eancia na Barra Funda e n\\u00e3o era l\\u00e1 mas sim em Pinheiros. Muito  ruim.\",1],[\"bom. este produto comprei para outra pessoa por isso n\\u00e3o posso avaliar corretamente\",3],[\"Perfeito. Al\\u00e9m de chegar dentro do prazo o produto chegou em \\u00f3timo estado e \\u00e9 maravilhoso. Podem comprar sem medo algum!!!\",5],[\"P\\u00e9ssimo. Poucas existem palavras para definir uma coisa t\\u00e3o ruim, quanto mais quando falo de um notebook que compro para utiliza-lo em locais com pouco ou nenhum fornecimento de energia el\\u00e9trica, pois a bateria \\u00e9 um lixo n\\u00e3o suporta um segundo se desconectado da tomada.\",2],[\"P\\u00e9ssima qualidade. Produto com imagem de p\\u00e9ssima qualidade, mas o pior que a conex\\u00e3o com a internet n\\u00e3o presta, Wi Fi desconecta toda hora e n\\u00e3o \\u00e9 problema com a rede pois tenho outros aparelhos e funcionam perfeitamente.\",1],[\"Dell, esse no,e diz tudo.. M\\u00e1quina boa, design bonito, teclado macio. Bom custo beneficio. \\u00c0s vezes pensa demais, poderia ser mais r\\u00e1pido e mais leve. Recomendo pela configura\\u00e7\\u00e3o equilibrada.\",4],[\"Travou duas vezes. Escolhi esta marca e modelo depois de muita pesquisa, queria um notebook razoavelmente r\\u00e1pido e com pre\\u00e7o pr\\u00f3ximo de 2000,00. Realmente o notebook atendente minhas necessidades, por\\u00e9m estou chateado porque j\\u00e1 travou duas vezes, isso aconteceu depois de bloquear a tela por deixar alguns minutos ligado sem usar. Ainda estou testando para ver se acontece novamente.\",3],[\"Produto trava e desliga sozinho. Sem coment\\u00e1rios, n\\u00e3o quero falar mais nada , o produto est\\u00e1 servindo , mas depois da falta de respeito que a loja teve nada tem atrativo\",2],[\"\\u00f3timo produto. Boa configura\\u00e7\\u00e3o, entrega antes do prazo. Recomendo!\",5],[\"Muito bom.. Chegou antes da data prevista, muito bem embalado, funciona perfeitamente.\",5],[\"Excelente produto. Produto de qualidade, leve, maus pad que se assemelha ao Apple e mem\\u00f3ria SSD que faz a diferen\\u00e7a. Tela touch muito boa de usar e bateria que dia mais. Recomendo.\",5],[\"Recomendo. Recebi na data coreta gostem muitos  Recomendo sim Nota 10\",5],[\"N\\u00e3o gostei, produto n\\u00e3o segura bateria. S\\u00f3 funciona conectado na tomada, maior dor de cabe\\u00e7a s\\u00f3 em entrar em contato com a loja e a assist\\u00eancia s\\u00f3 pra trocar. Odiei\",2],[\"Excelente dimais. Amei o produto chegou bem antes do prazo excelente loja.\",5],[\"MUITO BOM O NOTEBOOK SAMSUNG !. FIQUEI BASTANTE SATISFEITA COM O PRODUTO QUE COMPREI. A ENTREGA FOI  R\\u00c1PIDA .\",4],[\"Bom, por\\u00e9m trava muito. Notebook chegou em perfeito estado, por\\u00e9m travava muito e n\\u00e3o conseguia usar, demorou 1 dia inteiro para resetar as configura\\u00e7\\u00f5es, muito lento. Voltou ao normal,por\\u00e9m ainda proporciona leves travamentos\",3],[\"N\\u00e3o recebi o produto!. N\\u00e3o posso avaliar que n\\u00e3o recebi! Infelizmente ocorre uma demora para o envio do produto, no mesmo pedido comprei um teclado que j\\u00e1 recebi, por\\u00e9m, o tablet que \\u00e9 um presente de natal para minha filha n\\u00e3o veio. Entrei em contato com a empresa que entrega h\\u00e1 uns 20 dias, e a mesma informou que adiantaria a entrega, por\\u00e9m, o status do pedido continua o mesmo, que \\u00e9 apenas de emiss\\u00e3o de nota fiscal. Lament\\u00e1vel!\",1],[\"Gostei muito!. Um \\u00f3timo custo-benef\\u00edcio. A Bateria dura bastante, tem uma excelente resposta ao abrir os programas e inicializa muito r\\u00e1pido.\",4],[\"Amei o produto, estou super satisfeita !!!. Tablet \\u00f3timo, tem um bom funcionamento e al\\u00e9m de tudo e lindo e completo.\",5],[\"\\u00d3timo Notebook. Muito bom, excelente configura\\u00e7\\u00e3o por um pre\\u00e7o bom.\",5],[\"P\\u00e9ssimo. N\\u00e3o comprem esse produto \\u00e9 uma porcaria. A bateria estraga em menos de um ano.\",1],[\"Tablet de excelente qualidade!!!. \\u00d3timo produto, correspondeu as expectativas e o melhor, chegou antes do prazo! Recomendo!\",5],[\"Mto bom. Excelente oportunidade Equipamento que atendeu minha necessidade\",4],[\"\\u00d3timo produto.. Recomendaria sem problemas, \\u00f3timo produto. Entrega  adiantada. Parab\\u00e9ns!\",5],[\"Gostei!. Falta um suporte na regi\\u00e3o. O atendimento por telefone deixa muito a desejar.\",4],[\"Muito bom o notebook da Samsung. Muito bom custo e benef\\u00edcio.mas estou testando ainda mas pelo que percebi \\u00e9 muito bom. A loja entregou bem r\\u00e1pido, s\\u00f3 falta entregar um outro produto que comprei no mesmo dia e at\\u00e9 agora n\\u00e3o entregaram.\",4],[\"Produto mais que as especifica\\u00e7\\u00f5es.. Uma capa para um tablet 9\\\"7, e sobrou uns 5 mil\\u00edmetros de cada lado.\",1],[\"Eu recomendo. Muito bom eu recomendo a tds, chegou muito r\\u00e1pido !!!\",5],[\"Qual a marca do PC?. N\\u00e3o tenho opini\\u00e3o a respeito desse produto no momento pois ainda n\\u00e3o possuo, queria saber a marca dele primeiro.\",3],[\"N\\u00e3o recebi o meu tablet. Comprei mas n\\u00e3o recebi at\\u00e9 hoje agir\\u00e1 a americana  tem que provar que eu recebi\",1],[\"Bom produto. O notebook cumpre o que promete, o \\u00fanico problema que os compradores devem ficar atentos \\u00e9 que nele a vers\\u00e3o do Office j\\u00e1 instalada \\u00e9 a 2016 e voc\\u00ea ter\\u00e1 que assinar uma conta para poder acess\\u00e1-la j\\u00e1 que o teste dura poucos dias, e al\\u00e9m do mais o notebook n\\u00e3o possui entrada para cd, vale ressaltar tamb\\u00e9m que ele n\\u00e3o possui entrada para adaptador de sd card.\",4],[\"Gostei. O \\u00fanico ponto fraco \\u00e9 a bateria que n\\u00e3o dura muito, principalmente quando utilizo programas mais pesados. Gostei do desempenho. \\u00c9 r\\u00e1pido. Consegui rodar todos programas e jogos que testei at\\u00e9 agora. Todos em configura\\u00e7\\u00f5es entre m\\u00e9dio e m\\u00e1ximo.\",4],[\"Gostei!. Boa qualidade do produto! Recomendaria esse produto para demais!\",3],[\"Bom conforme acima. Gostei do aparelho, por\\u00e9m apresenta ind\\u00edcios de uso. Nos furos dos parafusos na tampa traseira h\\u00e1 ind\\u00edcios ou marcas de manuten\\u00e7\\u00e3o. D\\u00e1 a impress\\u00e3o que j\\u00e1 foi aberto,\",3],[\"Excelente Produto. O notebook atende totalmente \\u00e0s minhas necessidades. Gostei muito e recomendo.\",5],[\"Tablet Samsung Galaxy TAB A. Equipamento muito bom, atende perfeitamente as minhas necessidades e recomendo o produto.\",4],[\"EXCELENTE. Realizei a compra e dentro de 12 dias j\\u00e1 obtive o produto em excelentes condi\\u00e7\\u00f5es. Super indico.\",5],[\"P\\u00e9ssimo. Muito ruim mesmo. Trava toda hora, nao aceita apps simples, tipo youtube kids, e a tela tem resolu\\u00e7ao tao baixa q quase nao se enxerga. Nao recomendo p ninguem.\",1],[\"\\u00d3timo notebook!. Excelente produto para necessidades de trabalho e uso pessoal. In\\u00edcio estranhei o teclado, mas j\\u00e1 acostumei.\",4],[\"\\u00d3timo custo beneficio, mas.... muito bom notebook pelo pre\\u00e7o e oque entrega, s\\u00f3 tem um detalhe o hd faz muito barulho so pesquisar ai no youtube ideapad 320 faz um barulinho chato.\",4],[\"notebook acer. Excelente produto,entrega chegou no prazo correto,\",5],[\"\\u00d3timo custo-benef\\u00edcio!. Vir com  distro do linux faz o pre\\u00e7o cair, e \\u00e9 s\\u00f3 formatar e por windows.\",4],[\"Amazing. Fantastic this laptop, I would like to buy several of this...\",5],[\"Otimo. Muito bom atende bem as expectativas e as necessidades do universit\\u00e1rio\",5],[\"Equipamento ruim. Tenho dois Notebook Dell Inspiron i5, ambos apresentaram problemas. Um deles n\\u00e3o funciona mais o teclado e nem o som. O outro apresentou problema na placa m\\u00e3e  e a assist\\u00eancia da DELL  cobrou R$ 1.200,00 (isso mesmo) para  fazer o reparo e vc. s\\u00f3 encontra a placa na  Dell. Ou seja, n\\u00e3o compensa consertar.\",1],[\"Capa Kindle. A \\u00fanica ressalva que eu faria, \\u00e9 que n\\u00e3o d\\u00e1 pra deixar o kindlle pocisionado na mesa na vertical, a dobradura s\\u00f3 possibilita na horizontal. De resto, gostei da caneta que acompanha a capa e tamb\\u00e9m da pel\\u00edcula.\",3],[\"Legal o produto. Mas a tabela de fps que ele alcan\\u00e7a \\u00e9 meio mentirosa.\",3],[\"EXCELENTE. Tablet Samsung Galaxy Tab A SM-P585M 16GB Wi-Fi 4G Tela 10.1\\\" Android Processador Octa-Core - Preto, MUITO BOM, DA COMPRA, DA ENTREGA E DA QUALIDADE DO PRODUTO.\",5],[\"EXCELENTE. Cumpre o que promete. Notebook fant\\u00e1stico. Melhor custo benef\\u00edcio.\",5],[\"Bom. O produto \\u00e9 bom, compat\\u00edvel com minhas necessidades.\",3],[\"Excelente. Comprei a pouco tempo entrega super r\\u00e1pida , e produto me parece ser muito bom\",5],[\"Pequeno e r\\u00e1pido. Tablet bastante funcional e r\\u00e1pido. Qualidade de imagem \\u00f3tima e permite assistir v\\u00eddeo com grande conforto.\",4],[\"Muito ruim esta m\\u00e1quina. Existe a possibilidade de comprar uma m\\u00e1quina e eventualmente ela dar problema, ocorre que comprei duas e elas est\\u00e3o em constante problema e iguais. Para ligar, vc pode primeiro liga, depois vai tomar banho tomar seu caf\\u00e9 da manha e ai sim ela ter\\u00e1 ligado. Quando liga o monitor pisca feito falta de energia. tente conectar em seu televisor, imposs\\u00edvel, a TV sansung n\\u00e3o consegue espelhar a m\\u00e1quina, n\\u00e3o consegui resolver isto. Por vezes elas apresentam apag\\u00e3o e diz que foi desligada incorretamente, Gente, foram as minhas primeiras compras de um Dell, e esta semana tive de adquirir mais dois para a empresa e n\\u00e3o tive na Dell minha op\\u00e7\\u00e3o.  Um computador I7 de 7a. gera\\u00e7\\u00e3o, \\u00e9 brincadeira de ruim. Cada um na sua, mas sugiro outra op\\u00e7\\u00e3o.\",1],[\"O QUE EU ESPERAVA. R\\u00e1pido, bateria de longa dura\\u00e7\\u00e3o, e tudo mais nota 10\",5],[\"recomendo. Notebook lindo, leve, r\\u00e1pido, qualidade imagem excelente. Foi indica\\u00e7\\u00e3o e estou amando o produto.\",4],[\"DEFEITO NO PRIMEIRO USO. Meu notebook chegou dentro do prazo. Dia 18\\u002f01 no final da tarde. Fui utiliza-lo no dia 20\\u002f01 para fazer um trabalho, no paint mesmo.  Quando eu estava quase terminando, simplesmente o notebook desligou e eu perdi tudo que havia feito. Alem do que ele trava! Solicitei devolu\\u00e7\\u00e3o  e aguardo o reembolso.\",1],[\"Site mentiroso. Vcs mostram um pre\\u00e7o no site, a\\u00ed quando n\\u00f3s entramos no mesmo, sempre \\u00e9 mas caro.. ou \\u00e9 ou n\\u00e3o \\u00e9... frauuuuuuude\",1],[\"gostei. Entrega no prazo esperado. \\u00d3timo notebook. Sem problemas. Por enquanto estou gostando muito. Estou a 1 m\\u00eas com ele.\",4],[\"Produto bem fraco diante do valor!. \\u00c9 um cabo similar, portanto quem conhece sabe que n\\u00e3o dura muito tempo. Compensa somente por ter 1 ano de garantia.\",2],[\"atende as expectativas. o unico defeito dele, foi a positivo ter bloqueado a bios para que vc n possa alterar o sistema facilmente, fora isso tudo funciona de acordo com o esperado\",3],[\"Regular custo-benef\\u00edcio. O tablet \\u00e9 razo\\u00e1vel pela pre\\u00e7o cobrado, lembrando que ele se destina a quem ir\\u00e1 fazer opera\\u00e7\\u00f5es b\\u00e1sicas. Quem deseja um tablet para filmes ou jogos mais pesados, sugiro olhar outras op\\u00e7\\u00f5es, pois a tela e processador deste, n\\u00e3o suporta de forma satisfat\\u00f3ria essas opera\\u00e7\\u00f5es. Vale lembrar que tamb\\u00e9m \\u00e9 um tablet antigo, com quase dois anos do lan\\u00e7amento, em que, se tratando de Samsung, n\\u00e3o receber\\u00e1 mais as atualiza\\u00e7\\u00f5es de sistema. No meu caso, comprei o tablet para ser usado por uma crian\\u00e7a de 4 anos.\",2],[\"Tablet Samsung Tab A T280. Vers\\u00e3o do Android antiga. N\\u00e3o suporta alguns aplicativos. N\\u00e3o sei se \\u00e9 poss\\u00edvel atualizar para Android 6.\",2],[\"Bom protduto. Moderno e eficiente. Possui vers\\u00e3o atualizada do firmware. Compat\\u00edvel \\u00e0s minhas necessidades.\",4],[\"N\\u00e3o funciona. Muito Ruim, ele deu problema no mesmo dia realmente fiquei decepcionada com esse produto\",1],[\"S\\u00f3 faltou o leitor de cd\\u002fdvd. \\u00d3timos produtos, bom acabamento, por\\u00e9m faltou o leitor de cd\\u002fdvd\",4],[\"Custo e benef\\u00edcio. Excelente. Recomendo. Potente e r\\u00e1pido e f\\u00e1cil manuseio.\",4],[\"Excelente. PROduto maravilhoso, leve, pratico, bonito, e configura\\u00e7\\u00e3o excelente. Recomendo demais!!!\",5],[\"produto funcional. comprei para usar num sangumg 9,6', infelizmente o encaixe \\u00e9 muito maior, mas tirando isso o teclado corresponde as expectativas.\",3],[\"Bom custo benef\\u00edcio. Apesar de n\\u00e3o usar muito o aparelho, ele atende todas as minhas necessidades. Design bonito, a bateria poderia durar mais, mas ta \\u00f3timo, pelo pre\\u00e7o est\\u00e1 de bom tamanho.\",4],[\"otimo. j\\u00e1 conhe\\u00e7o o equipamento, ent\\u00e3o sei da qualidade do produto\",5],[\"Tablet Samsung. Excelente equipamento. Vale a aquisi\\u00e7\\u00e3o. F\\u00e1cil intera\\u00e7\\u00e3o, r\\u00e1pido e funcional.\",4],[\"\\u00d3timo custo benef\\u00edcio. \\u00d3timo Notebook, e consegui comprar por um \\u00f3timo pre\\u00e7o. Valeu muito a pena.\",5],[\"DELL. O COMPUTADOR \\u00c9 EXCELENTE, O ATENDIMENTO DELL TAMB\\u00c9M, O SISTEMA LINUX QUE N\\u00c3O ATENDE MINHAS NECESSIDADES MAIS B\\u00c1SICAS, ASSIM TIVE QUE ALTERAR O SISTEMA.\",5],[\"Muito satisfeito. Estou muito satisfeito com este notebook. Atende \\u00e0s necessidades.\",5],[\"PRODUTO EXCELENTE!!!!. Tudo perfeito: compra, prazo de entrega, notebook de excelente qualidade. Indico.\",5],[\"Bom para o basico. Achei o produto leve, bonito e muito bom para a execu\\u00e7\\u00e3o de atividades b\\u00e1sicas, porem, a memoria \\u00e9 muito pequena, ent\\u00e3o n\\u00e3o recomendo para quem precisa de memoria. No entanto, \\u00e9 perfeitamente utiliz\\u00e1vel com um HD externo, cart\\u00e3o de memoria ou pen drive para salvar arquivos.\",3],[\"Vale  pena !!. Produto bom ! esta rodando o Windows 10 64 bits Tranquilo !\",4],[\"Bom produto na faixa do seu pre\\u00e7o!. Bom som, bonito esteticamente. \\u00danico ponto mediano \\u00e9 a sua bateria, mas \\u00e9 aceit\\u00e1vel, geralmente os notebooks n\\u00e3o possuem bateria com alta dura\\u00e7\\u00e3o. Mas encomendo e espero que esse que comprei para o meu irm\\u00e3o tenha um longo tempo de utiliza\\u00e7\\u00e3o.  Entrega sempre r\\u00e1pida da americanas.\",3],[\"\\u00f3timo produto. Produto conforme descri\\u00e7\\u00e3o no an\\u00fancio. Atende todas as expectativas. Recomendo!\",4],[\"Amei. O tablet \\u00e9 lindo e tem  um excelente desempenho, a bateria dura o dia todo. Muito bom mesmo. Parab\\u00e9ns americanas pela entrega super r\\u00e1pida.\",5],[\"ruim. meu amigo compro para joga fifa 18 e nao pego ! ele disse que travava nos treinamentos , foi um desperdicio !!!\",1],[\"Lento. Estou achando o computador muito lento para a qualidade esperada pelo nome da marca\",2],[\"\\u00d3timo produto. \\u00c9 muito bom, mas as vezes d\\u00e1 umas travadas que n\\u00e3o deveria pela qualidade do produto...\",4],[\"Funciona!!!. Comprei o adaptador para VGA h\\u00e1 um m\\u00eas e at\\u00e9 o momento o desempenho foi adequado. N\\u00e3o tive nenhum tipo de problema. E a entrega foi extremamente r\\u00e1pida. Recebi o produto em 2 dias. Muito satisfeita! Recomendo!\",4],[\"Notebook razo\\u00e1vel. O meu veio com o touchscreen com problema e depois, a tela trocada pela DELL, apresentou vazamento de backlight significativo e falhas no touch. Depois de duas semanas enviarem outra tela, agora o touch funciona, mas ainda h\\u00e1 um vazamento de backlight, deduzo que o processo de fabrica\\u00e7\\u00e3o e controle de qualidade deixam a desejar. Fora esse problema espec\\u00edfico, fica uma \\u00fanica cr\\u00edtica negativa ao produto: a placa de v\\u00eddeo ser compartilhada. Caso possu\\u00edsse uma placa dedicada, a coisa seria bem diferente.\",3]],\"hovertemplate\":\"TSNE1=%{x}\\u003cbr\\u003eTSNE2=%{y}\\u003cbr\\u003eavaliacao=%{customdata[0]}\\u003cbr\\u003erating=%{marker.color}\\u003cextra\\u003e\\u003c\\u002fextra\\u003e\",\"legendgroup\":\"\",\"marker\":{\"color\":[4,5,5,4,5,5,5,3,5,4,1,5,5,3,4,4,5,5,5,4,5,5,3,4,5,5,3,4,4,4,4,4,1,3,4,5,4,4,4,4,2,5,5,5,2,1,1,5,4,5,5,5,3,4,4,1,3,3,5,1,5,5,4,5,1,1,5,4,5,4,5,4,4,1,4,3,2,4,1,1,5,5,4,5,5,2,4,5,3,5,5,5,5,4,3,5,3,4,3,2,3,4,5,3,4,2,1,1,3,5,5,1,5,4,4,5,4,4,5,2,1,5,1,5,4,5,1,2,5,1,4,5,5,5,5,3,5,1,4,5,5,4,5,4,5,4,5,4,3,5,1,5,5,5,5,5,5,3,5,4,3,4,5,1,4,5,5,5,5,4,3,1,1,5,5,5,4,3,4,4,3,5,3,4,5,3,5,5,4,1,4,4,5,5,4,5,5,5,3,5,5,5,5,5,5,5,5,5,4,5,5,5,1,5,4,4,4,4,2,4,1,2,1,3,1,5,2,1,4,2,4,1,1,5,3,3,3,2,5,1,4,5,4,5,4,1,4,4,2,5,5,2,5,5,3,5,5,5,4,4,1,3,4,3,5,4,1,1,1,3,3,4,3,4,3,5,4,5,5,1,4,4,4,4,4,4,5,5,5,5,4,1,3,5,4,4,1,4,4,3,3,3,5,4,4,4,3,1,3,5,4,4,5,5,5,5,4,4,4,5,5,1,5,5,5,5,5,4,5,5,4,5,5,1,1,5,5,1,4,4,1,1,4,2,1,5,4,5,4,5,5,5,3,5,3,2,4,4,4,4,4,1,5,2,4,3,4,4,5,3,1,3,4,1,4,5,4,1,3,1,4,3,1,3,5,4,2,5,3,1,5,4,1,2,3,4,1,5,1,3,1,4,4,5,4,4,4,3,4,4,5,3,1,5,5,4,1,3,4,4,5,4,5,5,4,1,5,5,5,5,4,4,2,5,4,3,3,1,1,5,1,4,3,5,1,1,3,4,5,4,4,4,2,5,3,4,5,3,4,5,5,2,3,1,3,1,3,4,5,3,4,5,1,2,5,3,1,1,4,4,5,3,4,4,1,3,3,5,1,1,5,1,1,5,4,1,5,3,5,4,5,1,5,4,5,5,4,3,5,5,4,4,1,5,2,5,4,3,5,5,4,1,5,5,5,5,4,2,4,1,1,3,3,1,4,4,2,4,2,4,5,2,2,3,4,5,1,5,3,5,5,3,5,3,2,1,4,4,4,5,3,5,3,3,5,1,3,3,1,4,2,4,3,5,4,4,5,3,5,4,3,5,5,4,4,3,4,5,4,5,4,2,1,5,1,4,5,1,5,5,5,5,5,4,5,3,3,4,5,5,4,1,5,5,4,5,5,4,4,4,4,4,1,4,5,5,3,5,3,5,5,5,3,5,3,4,4,5,5,5,4,1,5,5,5,3,4,5,5,4,5,4,4,2,4,4,4,3,4,1,4,5,1,3,5,4,4,5,2,1,5,3,5,1,5,4,4,3,4,3,5,5,5,1,1,3,1,3,4,5,4,5,2,3,3,1,1,3,4,5,4,4,1,5,5,4,5,3,3,5,3,4,5,4,4,1,1,2,5,5,3,4,4,5,1,5,4,3,3,2,4,1,3,4,1,3,2,5,1,2,5,1,4,5,4,1,3,4,1,4,1,1,5,1,4,4,5,5,5,5,1,5,5,4,5,5,5,4,2,3,4,5,5,4,3,3,4,5,1,5,1,4,5,4,5,5,5,1,1,4,1,3,5,4,1,4,2,3,4,5,5,5,3,3,3,4,4,5,5,5,2,3,2,3,5,5,1,5,5,5,5,5,1,4,4,5,3,1,3,4,5,5,1,5,3,5,4,5,4,1,3,5,3,5,5,4,3,4,4,5,5,3,5,3,3,5,4,5,3,3,4,1,5,5,5,3,4,5,4,5,2,5,1,5,5,4,4,5,5,5,5,4,4,4,1,5,4,5,4,5,5,1,4,4,5,4,1,5,4,4,5,1,5,5,1,3,2,2,5,5,4,5,5,5,5,1,3,5,2,1,4,3,2,5,5,5,5,2,5,4,3,1,4,5,5,1,5,4,5,4,4,1,5,3,1,4,4,3,3,5,4,5,1,4,4,5,4,5,5,1,3,3,5,5,3,5,4,1,5,4,1,1,4,2,3,2,2,4,1,4,4,5,3,4,5,4,5,5,5,5,3,4,3,4,5,1,2,4,4,3],\"coloraxis\":\"coloraxis\",\"symbol\":\"circle\"},\"mode\":\"markers\",\"name\":\"\",\"orientation\":\"v\",\"showlegend\":false,\"x\":[5.942343235015869,-8.039432525634766,17.89955711364746,-13.924033164978027,10.923351287841797,19.932680130004883,-0.5391886830329895,16.940217971801758,-19.90555191040039,-26.78870964050293,0.35349369049072266,5.5729498863220215,15.204079627990723,29.986648559570312,13.09178638458252,-29.46756935119629,14.324564933776855,23.409711837768555,9.078228950500488,-9.041296005249023,16.556880950927734,24.038904190063477,11.267561912536621,-11.78708267211914,27.46561622619629,1.5413936376571655,8.402313232421875,-12.56643295288086,-11.429550170898438,-14.7443265914917,-34.3842658996582,-10.32298469543457,-5.680573463439941,-18.98578643798828,17.689464569091797,17.6025447845459,17.75381088256836,13.680455207824707,18.758577346801758,14.407632827758789,1.5221996307373047,14.741024017333984,23.578964233398438,19.25152015686035,-30.377620697021484,-28.307064056396484,-30.0051212310791,23.90775489807129,-29.213457107543945,15.9796724319458,5.753998756408691,26.262619018554688,14.981003761291504,14.656559944152832,-16.046226501464844,-2.4341588020324707,-21.12833595275879,1.7808821201324463,22.72955322265625,-3.1180927753448486,-13.340290069580078,15.376057624816895,5.6588134765625,32.134429931640625,8.291048049926758,-29.837217330932617,24.197511672973633,-24.37248992919922,-29.161693572998047,-0.926933765411377,0.10345146805047989,13.04265308380127,18.896738052368164,-7.071050643920898,-2.1748740673065186,-26.794492721557617,-14.989439010620117,-21.428939819335938,-22.865581512451172,-27.508630752563477,12.908004760742188,28.547832489013672,-2.227217674255371,-25.07563591003418,17.387311935424805,-9.12330436706543,24.117847442626953,-18.067218780517578,19.292593002319336,-24.269010543823242,21.108402252197266,28.081506729125977,17.793724060058594,13.692639350891113,29.902212142944336,-19.596763610839844,4.514143466949463,20.64866828918457,-17.924095153808594,-15.075040817260742,-28.373550415039062,26.580217361450195,14.134214401245117,-32.024757385253906,13.649602890014648,-24.227373123168945,-29.62677574157715,-9.43718433380127,14.415060043334961,18.789487838745117,-23.786439895629883,-3.6650373935699463,-20.66364288330078,30.581621170043945,-25.25054931640625,-1.0091311931610107,20.909696578979492,23.042869567871094,-15.546000480651855,-0.13742701709270477,-0.6031510233879089,3.5214006900787354,-25.015491485595703,6.983775615692139,22.094985961914062,13.001466751098633,-1.4364612102508545,-32.16034698486328,18.248443603515625,0.3149646818637848,23.346628189086914,9.932561874389648,14.153681755065918,-22.523488998413086,19.33635711669922,-5.24420690536499,-12.901362419128418,0.9524757862091064,-28.7833309173584,-0.809532880783081,-30.946094512939453,13.239014625549316,28.28789710998535,-17.182138442993164,27.901447296142578,30.953157424926758,2.9022598266601562,24.730377197265625,-1.1567531824111938,11.207364082336426,-4.477795600891113,11.195565223693848,-14.786121368408203,15.340916633605957,19.619277954101562,16.9536075592041,20.076444625854492,-24.93248748779297,-2.5171735286712646,2.395624876022339,22.292078018188477,-13.696783065795898,2.0463755130767822,-0.4424411356449127,-3.9364874362945557,-25.338428497314453,21.723773956298828,18.519296646118164,-11.05756950378418,-10.691119194030762,28.446365356445312,-4.1702775955200195,-0.9583368897438049,-12.166419982910156,16.789718627929688,19.653043746948242,19.207033157348633,-12.814897537231445,-2.669308662414551,-23.834932327270508,-25.10261344909668,10.903892517089844,-8.870712280273438,-4.097268104553223,-28.61046600341797,-16.11646270751953,5.8143181800842285,7.967584133148193,23.050256729125977,-9.189058303833008,23.96145248413086,8.231147766113281,-25.3021240234375,23.673763275146484,22.653099060058594,8.29594898223877,20.903915405273438,-12.681717872619629,11.287320137023926,23.050256729125977,23.751218795776367,23.751218795776367,23.03561782836914,23.751218795776367,23.050256729125977,23.050256729125977,23.050256729125977,23.050256729125977,23.050256729125977,23.751218795776367,23.751218795776367,9.514031410217285,-9.873957633972168,-26.057579040527344,13.82914924621582,19.396224975585938,-2.519528865814209,-11.675883293151855,-4.055393695831299,25.255138397216797,-6.701432228088379,-4.970816612243652,-29.53575897216797,-5.4602766036987305,-25.041400909423828,-0.2750406861305237,-0.7474409937858582,21.1262149810791,14.29494571685791,-13.100499153137207,-25.957197189331055,-22.558984756469727,-1.80193293094635,-11.878668785095215,-0.9614977240562439,-0.31663525104522705,10.641886711120605,-7.9120774269104,9.101648330688477,-1.5914762020111084,-29.6523494720459,-29.83448028564453,13.099762916564941,18.008525848388672,14.040385246276855,-25.553058624267578,15.548359870910645,1.7486951351165771,-3.9050405025482178,-3.152559280395508,7.118067264556885,-3.129127025604248,12.780482292175293,20.20044708251953,2.125837564468384,-30.558305740356445,-23.597320556640625,-15.927701950073242,14.869693756103516,14.693268775939941,-5.013637065887451,-15.141695022583008,29.3697452545166,16.4553279876709,-0.08717812597751617,-30.973724365234375,-25.3949031829834,-29.92770004272461,-27.69736671447754,-26.393970489501953,8.461517333984375,-29.154705047607422,-17.373945236206055,-33.779014587402344,22.599966049194336,-21.429136276245117,-25.06910514831543,22.029027938842773,12.112785339355469,-9.635221481323242,14.356870651245117,-28.88993263244629,-2.671229600906372,-0.5805226564407349,-21.30434799194336,13.770264625549316,-30.861480712890625,1.626610279083252,-20.6353759765625,23.42678451538086,3.462092876434326,-4.891849517822266,28.049558639526367,-25.93227767944336,-29.52903938293457,29.572019577026367,-3.626948118209839,-5.646049976348877,-16.638843536376953,14.357420921325684,24.114320755004883,-12.537702560424805,-28.077302932739258,13.791001319885254,17.25992774963379,17.57372283935547,-25.207263946533203,-12.830093383789062,1.2816429138183594,9.081229209899902,30.760181427001953,13.757528305053711,22.704275131225586,17.991458892822266,29.660524368286133,-31.93541145324707,27.108774185180664,5.1872148513793945,7.650809288024902,19.658180236816406,-13.092803955078125,-12.96091365814209,29.691179275512695,29.691179275512695,11.935819625854492,-27.898653030395508,-12.357966423034668,-10.784782409667969,20.08831214904785,-24.018911361694336,-15.285197257995605,-8.452544212341309,-25.532608032226562,-4.904345989227295,-8.135374069213867,29.1159610748291,-20.53561782836914,-1.9570567607879639,-28.97762107849121,4.922337532043457,-2.495612382888794,-17.76063346862793,2.1862263679504395,-12.089205741882324,-10.76709270477295,-24.547199249267578,-8.434203147888184,10.607275009155273,20.196510314941406,17.11815643310547,-25.976531982421875,13.738526344299316,-13.804396629333496,-16.51212501525879,-4.865419864654541,0.12608356773853302,0.5144052505493164,21.062950134277344,-26.019968032836914,13.672036170959473,-27.809799194335938,-22.757362365722656,23.059663772583008,-6.788503646850586,22.04562759399414,-31.40300941467285,-26.40489959716797,18.853195190429688,-13.837973594665527,-19.130401611328125,-26.52617835998535,-0.5469660758972168,-7.908376693725586,-13.88085651397705,-23.857229232788086,11.239652633666992,-24.885541915893555,-3.727750539779663,3.9192113876342773,-6.847619533538818,22.833145141601562,-7.694173336029053,-26.187393188476562,13.194321632385254,-33.981597900390625,19.90359878540039,-28.117677688598633,19.757524490356445,-13.31521224975586,-2.50469708442688,24.847270965576172,15.615703582763672,-12.753746032714844,-24.74541473388672,-2.931802749633789,-13.14488410949707,-1.2338199615478516,15.119418144226074,0.31721290946006775,4.579745292663574,-9.623759269714355,28.634666442871094,21.248315811157227,19.756437301635742,-1.1823140382766724,21.514493942260742,8.313376426696777,18.383825302124023,-20.390052795410156,20.83273696899414,32.59152603149414,-10.444136619567871,0.32993006706237793,-34.80424118041992,18.624080657958984,-9.65676212310791,-27.326990127563477,-5.132157325744629,13.975172996520996,11.11925220489502,-0.9357126355171204,-14.559755325317383,-21.274948120117188,-0.10422550141811371,8.462779998779297,-9.137181282043457,22.509275436401367,17.295818328857422,25.96826934814453,-27.919092178344727,14.13350772857666,-27.31590461730957,-13.328849792480469,-16.519634246826172,-0.11150816828012466,17.352279663085938,21.511621475219727,-27.11134147644043,-30.549732208251953,23.25412368774414,-23.2114200592041,18.263925552368164,-2.7453949451446533,-29.874130249023438,0.9587885737419128,-6.4432878494262695,-30.3327693939209,-25.788381576538086,12.09447193145752,-13.267570495605469,-2.3065567016601562,-13.718610763549805,-0.5966416001319885,-15.642616271972656,-5.281474590301514,16.859704971313477,-1.9278560876846313,11.35621452331543,-5.086728096008301,5.0195112228393555,12.909164428710938,-14.849331855773926,-5.585339546203613,-6.596760272979736,-22.858598709106445,-26.92998695373535,2.5917139053344727,0.04663163051009178,12.201452255249023,-24.72247314453125,-31.043691635131836,-10.940359115600586,-7.930227756500244,-1.6779924631118774,-29.94760513305664,-4.418590545654297,-3.6898586750030518,-11.560388565063477,23.797969818115234,29.320186614990234,-17.015708923339844,1.9225889444351196,18.78676986694336,16.02913475036621,0.6469878554344177,1.8005841970443726,-14.306525230407715,15.216328620910645,-11.116164207458496,-27.432758331298828,-1.3775520324707031,-26.1422176361084,-14.953082084655762,24.891023635864258,20.073732376098633,1.7391650676727295,2.3693249225616455,3.542354106903076,-15.948882102966309,22.76041030883789,14.353588104248047,1.474576473236084,14.978711128234863,5.781491279602051,-23.701473236083984,-3.362734079360962,2.6122019290924072,-5.433491230010986,-27.14647102355957,-18.758546829223633,17.268835067749023,-27.447452545166016,-14.623614311218262,16.715105056762695,1.2368826866149902,7.610550403594971,18.167463302612305,-1.8941518068313599,-24.70608139038086,25.951807022094727,-14.347858428955078,-6.369983196258545,23.233604431152344,29.075172424316406,13.945237159729004,-20.41317367553711,17.054277420043945,-24.74785041809082,-11.134109497070312,0.43984758853912354,10.144079208374023,-28.439876556396484,-0.5910837054252625,-5.2428436279296875,15.360161781311035,11.677374839782715,-26.39957618713379,6.689578056335449,-32.03989791870117,-30.5520076751709,21.50605010986328,-24.597475051879883,-30.836870193481445,-22.606380462646484,-10.807445526123047,24.739145278930664,-23.901123046875,11.761700630187988,22.89879035949707,14.829079627990723,15.16289234161377,2.0024702548980713,21.168746948242188,-32.21564865112305,-29.629106521606445,-19.750097274780273,13.639015197753906,1.7907907962799072,0.5627842545509338,23.10378074645996,-31.77794075012207,14.370077133178711,-21.61094093322754,9.734493255615234,21.946470260620117,-2.5326943397521973,9.217154502868652,-15.6834077835083,-14.636545181274414,3.970567464828491,-2.975101947784424,14.467723846435547,-14.474063873291016,-3.1200625896453857,-8.392481803894043,17.77867889404297,-11.357816696166992,-16.125835418701172,12.75430679321289,3.7385647296905518,-1.023134469985962,11.269742965698242,19.49306869506836,3.06445574760437,18.607175827026367,-10.479604721069336,16.512252807617188,-15.30646800994873,18.579078674316406,23.457059860229492,-15.840996742248535,-26.231767654418945,-8.341193199157715,23.300735473632812,-22.579137802124023,20.674528121948242,24.154476165771484,0.2700873911380768,11.85841178894043,-11.135169982910156,-28.005924224853516,22.16634750366211,-27.75600814819336,22.42289161682129,13.271577835083008,15.311820983886719,21.375158309936523,-11.700983047485352,-1.8210361003875732,-4.031649589538574,-26.814760208129883,-12.213045120239258,-23.20890998840332,-2.232698917388916,19.10391616821289,13.463663101196289,19.35743522644043,1.6459659337997437,11.88452434539795,-33.959938049316406,15.286699295043945,18.106557846069336,-5.8641886711120605,-16.11374282836914,-23.596073150634766,32.58458709716797,-0.6371354460716248,20.89708709716797,-25.654705047607422,20.781862258911133,11.526515007019043,14.523951530456543,-26.682626724243164,-23.712493896484375,3.9438533782958984,12.034817695617676,-21.604202270507812,26.716012954711914,-16.373592376708984,17.123056411743164,6.707938194274902,-5.448245525360107,15.3262300491333,11.323326110839844,24.721616744995117,-27.423828125,22.101787567138672,18.55284881591797,20.43640899658203,-31.938772201538086,15.693875312805176,15.557913780212402,-19.114158630371094,10.511957168579102,17.41718101501465,7.166121959686279,22.1414794921875,-2.778066396713257,15.796896934509277,-21.687349319458008,11.53075122833252,0.910423755645752,-8.892022132873535,-13.289285659790039,6.534544944763184,7.050070285797119,5.696864604949951,22.78725242614746,1.535462737083435,-15.959609985351562,-18.241512298583984,-26.81561851501465,-26.388057708740234,0.08281875401735306,4.288112640380859,31.35613250732422,-9.692159652709961,-18.91609764099121,-11.259428977966309,-10.386124610900879,-16.382139205932617,-1.601293683052063,-28.606754302978516,-6.782623291015625,-8.756675720214844,17.26679039001465,-3.970076560974121,-32.89570999145508,6.69316291809082,25.69854736328125,-1.4226527214050293,7.484492778778076,-3.6002357006073,2.918026924133301,7.504589557647705,-1.920617699623108,-6.974967002868652,-6.080337047576904,22.01375961303711,-25.77741050720215,-26.173381805419922,-1.1681824922561646,-10.089448928833008,-15.59783935546875,7.419172763824463,25.49532127380371,-26.257312774658203,1.151216745376587,11.398324966430664,32.32554244995117,24.59922981262207,29.721723556518555,-12.062244415283203,-26.54963493347168,-23.873151779174805,-9.191835403442383,-11.209000587463379,-13.960265159606934,28.171283721923828,6.618575096130371,-24.179996490478516,17.68160629272461,-7.8801422119140625,-12.999425888061523,-29.016889572143555,-29.205175399780273,19.397647857666016,-0.34906527400016785,-20.872575759887695,-9.190244674682617,-11.92172908782959,-5.078117370605469,-2.3196630477905273,5.051914691925049,-25.916955947875977,7.835686206817627,19.79161262512207,24.70526885986328,-7.879171371459961,-26.9373722076416,32.084049224853516,-29.364442825317383,4.086063385009766,-11.499213218688965,26.59064483642578,8.505559921264648,7.922734260559082,18.572011947631836,-2.7768213748931885,-26.555973052978516,-15.583123207092285,-5.445969581604004,18.988142013549805,-26.116928100585938,-2.053407669067383,16.725339889526367,10.622499465942383,-26.04370880126953,30.673141479492188,8.379316329956055,-15.237075805664062,-27.945865631103516,30.733341217041016,21.078336715698242,19.750722885131836,21.576887130737305,-3.7798824310302734,30.38915252685547,-15.92825984954834,15.936588287353516,-21.126493453979492,18.510395050048828,26.123809814453125,17.696943283081055,12.741150856018066,-28.940397262573242,21.53837013244629,24.455154418945312,-16.04220199584961,-14.516477584838867,12.55270767211914,7.734801292419434,-2.5196149349212646,10.904027938842773,-11.568785667419434,12.594569206237793,22.903751373291016,-25.89237403869629,-24.684221267700195,19.58279800415039,-25.030933380126953,-0.13968950510025024,25.69206428527832,-12.730735778808594,-29.147886276245117,11.242663383483887,-11.344388961791992,-12.02985668182373,18.924089431762695,-34.24749755859375,25.833660125732422,-29.448762893676758,-3.215033531188965,-28.93977928161621,-11.932511329650879,4.305905342102051,2.520401954650879,20.398067474365234,-11.86893367767334,15.89921760559082,7.385898590087891,-25.120864868164062,-10.690492630004883,25.31644630432129,-15.628045082092285,-27.8554630279541,-0.6062151789665222,13.631810188293457,16.684968948364258,-16.062271118164062,-1.1470575332641602,-15.998555183410645,-3.5809695720672607,15.413082122802734,22.6646785736084,31.47609519958496,27.25016212463379,-4.88143253326416,-27.632993698120117,-5.651196002960205,25.165082931518555,-13.171468734741211,-8.60948657989502,-16.674287796020508,10.550835609436035,25.95635986328125,-26.620765686035156,-2.630619764328003,-13.141525268554688,-6.083332538604736,-1.4727286100387573,-30.39484214782715,-20.17519760131836,21.242895126342773,1.994938611984253,-3.0493175983428955,-2.189307451248169,4.333617687225342,30.244871139526367,-13.18465518951416,-25.4898738861084,5.68255090713501,25.426166534423828,28.04291343688965,-31.16567611694336,-34.0250129699707,20.848302841186523,-9.111419677734375,12.30500602722168,6.73664665222168,12.969313621520996,-30.722002029418945,-25.661964416503906,-19.78886604309082,0.9982683062553406,-23.97723388671875,22.32535743713379,29.705673217773438,22.256759643554688,21.2584285736084,32.82253646850586,-13.981945037841797,-4.5747904777526855,-34.64169692993164,13.450216293334961,20.60089874267578,-20.571245193481445,9.823492050170898,8.470902442932129,-9.283205032348633,20.527729034423828,-5.323899269104004,12.327701568603516,21.687789916992188,-7.425426959991455,0.6249802112579346,-28.928062438964844,7.11611270904541,-0.8407728672027588,-28.8225040435791,23.897512435913086,-7.498960018157959,13.747779846191406,24.435171127319336,28.554317474365234,28.557817459106445,-1.4881234169006348,28.090553283691406,-12.076807975769043,-27.117631912231445,-24.31075096130371,-6.396599769592285,21.219024658203125,-20.637252807617188,-2.448035717010498,14.947918891906738,-28.747995376586914,9.42626953125,19.459245681762695,15.80988597869873,-28.442411422729492,6.255185604095459,19.251384735107422,22.595264434814453,11.247113227844238,-5.022853374481201,-2.0794923305511475,24.302555084228516,-28.55544090270996,-8.705860137939453,6.759793758392334,-26.39635467529297,-3.7780048847198486,18.120996475219727,7.7595367431640625,-13.184913635253906,18.99920082092285,-6.120112419128418,28.21533966064453,23.806447982788086,-28.41277313232422,-15.201210021972656,1.3126147985458374,-12.20539665222168,17.12751579284668,-9.818306922912598,21.116548538208008,9.89256763458252,19.074403762817383,-3.456397294998169,14.08836841583252,-7.628551483154297,25.648813247680664,8.684856414794922,-1.5260498523712158,-24.269386291503906,-3.049102783203125,15.727280616760254,-4.702561855316162,-28.13172721862793,10.557075500488281,25.033592224121094,-12.436798095703125,3.4556214809417725,-26.863998413085938,20.382410049438477,-20.399017333984375,-22.77704620361328,21.885530471801758,-29.366653442382812,31.514802932739258,-3.5884525775909424,-15.709991455078125,-29.47209930419922,13.258322715759277,19.319631576538086,-12.512981414794922,-28.657506942749023,0.9852861166000366,-29.952062606811523,-30.071701049804688,10.822564125061035,-27.28916358947754,-0.8912672996520996,-16.335390090942383,-15.402098655700684,-6.74159049987793,8.947842597961426,-4.806955337524414,-0.5417712330818176,10.532618522644043,14.919634819030762,-4.029784202575684,-1.893614411354065,11.298616409301758,9.777113914489746,-29.437990188598633,-19.526317596435547,-27.92131233215332,-30.307674407958984,-5.521175384521484,-13.969907760620117,-20.16851043701172,15.872617721557617,-12.114965438842773,-4.493533611297607,-23.425161361694336,8.757027626037598,5.026309013366699,-28.128089904785156],\"xaxis\":\"x\",\"y\":[20.37257194519043,-1.1886541843414307,-10.204544067382812,4.187797546386719,-7.913020133972168,-3.0697457790374756,-13.86977481842041,13.58065128326416,-18.66288185119629,-20.115116119384766,19.777976989746094,-1.8628995418548584,6.330641746520996,-6.390069484710693,19.190980911254883,-19.0855655670166,11.06809139251709,-9.97423267364502,-13.114373207092285,13.1075439453125,-0.7613891363143921,11.007650375366211,-1.9543416500091553,-20.73274040222168,-1.1641390323638916,-12.033312797546387,-3.696850538253784,3.520098924636841,1.8618285655975342,-12.112078666687012,-12.059412002563477,-0.5970920920372009,19.24108123779297,-6.564990043640137,4.70224666595459,-0.5013021230697632,8.721138000488281,2.870863914489746,6.7357282638549805,-6.633716583251953,17.501237869262695,18.3066463470459,12.843693733215332,-3.007437229156494,-0.8245492577552795,-3.479123592376709,-1.108296275138855,9.495633125305176,-15.287744522094727,-6.746181488037109,17.420900344848633,4.746341705322266,2.6889536380767822,3.2081680297851562,-12.629209518432617,23.086650848388672,-0.3883953392505646,-10.043965339660645,9.133617401123047,17.02361297607422,-19.44099235534668,-1.5947468280792236,11.259123802185059,1.5550808906555176,10.466073036193848,-4.737452983856201,-1.3706705570220947,-12.921348571777344,-21.959285736083984,-6.113070964813232,-11.308195114135742,3.8933868408203125,12.86778736114502,17.866052627563477,-12.243303298950195,-10.294713973999023,8.670721054077148,-9.896001815795898,4.125670909881592,-2.9053170680999756,-8.283655166625977,11.874760627746582,0.7457840442657471,-24.44694709777832,1.4609394073486328,-6.2434000968933105,-2.6993391513824463,-18.617116928100586,8.866833686828613,-20.1047306060791,16.647415161132812,-1.1392055749893188,-3.2909340858459473,-4.813007831573486,-5.451451778411865,-10.17983627319336,5.959273338317871,1.984039545059204,-5.749446868896484,-5.547645092010498,-2.7912585735321045,14.050665855407715,20.48090934753418,-18.3887996673584,2.1620118618011475,0.12734454870224,-5.006496906280518,17.63801383972168,11.643832206726074,0.7236884236335754,-16.84238052368164,25.200775146484375,-20.035114288330078,-3.770112991333008,-19.62221336364746,-12.177505493164062,11.925483703613281,12.351101875305176,2.0340375900268555,21.312055587768555,23.16159439086914,17.975658416748047,1.2983499765396118,-10.226391792297363,5.292258262634277,19.54123306274414,20.3521671295166,-4.38564920425415,-2.6060256958007812,26.42986488342285,3.9915406703948975,9.075111389160156,-3.500431537628174,-12.292548179626465,-3.990107297897339,2.4411890506744385,4.360720157623291,23.822219848632812,-20.843385696411133,12.372749328613281,-23.702442169189453,20.846153259277344,10.005987167358398,-11.682769775390625,-1.1071425676345825,-5.16881799697876,-3.997310161590576,12.477431297302246,21.797983169555664,6.7718963623046875,19.220624923706055,-11.757264137268066,-13.309614181518555,19.772808074951172,0.9618423581123352,3.6345722675323486,3.0950236320495605,-26.077102661132812,-4.644529342651367,-2.6343655586242676,9.512544631958008,3.8410861492156982,-2.7725090980529785,21.91180419921875,20.612064361572266,-20.238672256469727,7.088406562805176,-7.8150482177734375,-10.601414680480957,-11.009480476379395,7.945034027099609,19.84700584411621,16.80988883972168,-13.700455665588379,5.053734302520752,-1.4269713163375854,10.712244033813477,-7.613415241241455,17.635135650634766,-23.006010055541992,-11.058345794677734,12.925411224365234,-4.238444805145264,-10.501986503601074,-22.259639739990234,8.487957954406738,-5.3504958152771,-7.370319843292236,-17.487157821655273,24.492826461791992,13.472966194152832,-12.09797477722168,-19.857036590576172,5.745569705963135,11.363996505737305,-2.1153197288513184,12.199162483215332,-13.532316207885742,-14.079322814941406,-17.487157821655273,-17.97770881652832,-17.97770881652832,-18.344837188720703,-17.97770881652832,-17.487157821655273,-17.487157821655273,-17.487157821655273,-17.487157821655273,-17.487157821655273,-17.97770881652832,-17.97770881652832,-6.907502174377441,21.111370086669922,-16.921144485473633,10.415712356567383,-5.876682758331299,-9.810294151306152,3.809413433074951,17.78271484375,5.375204563140869,19.220325469970703,15.597288131713867,-4.476470947265625,21.922311782836914,-4.936030387878418,-14.374114990234375,18.699888229370117,21.338199615478516,1.7706044912338257,9.29102611541748,-21.74995994567871,4.926482677459717,17.39348793029785,-22.35706901550293,5.657974720001221,-9.73082160949707,-12.670827865600586,9.797794342041016,-6.1361308097839355,23.039825439453125,-21.56331443786621,-19.134563446044922,16.655515670776367,3.1791799068450928,18.033082962036133,0.3682711124420166,7.7748212814331055,19.672576904296875,25.34413719177246,0.10798461735248566,-12.030156135559082,5.890083312988281,18.611522674560547,6.149304389953613,16.317567825317383,-22.797576904296875,-16.00444984436035,-5.708425045013428,-2.412092685699463,-12.919059753417969,12.995516777038574,4.305586338043213,-2.9622268676757812,-3.735583782196045,-5.717556953430176,-17.18687629699707,0.18424756824970245,-5.284060478210449,-3.970888614654541,-13.805497169494629,-14.575459480285645,-21.301637649536133,-10.147540092468262,-13.320569038391113,14.110098838806152,-12.20368766784668,-17.24811553955078,-0.659657895565033,5.432519912719727,18.650232315063477,8.922307968139648,-20.564435958862305,-3.731934070587158,0.4788307547569275,-7.246993064880371,-6.645849704742432,-22.2720947265625,-4.456419467926025,-19.914464950561523,2.780383825302124,14.971981048583984,21.00511932373047,8.485268592834473,-25.542308807373047,-23.067626953125,-3.8955061435699463,20.033260345458984,-9.124518394470215,-13.111137390136719,5.1960554122924805,-3.7164595127105713,-6.644820690155029,-20.373397827148438,-5.6925177574157715,-9.6511869430542,10.490065574645996,-14.065552711486816,8.102453231811523,-0.9493298530578613,-5.21651029586792,9.922786712646484,0.3577384352684021,7.1031365394592285,-10.333316802978516,-5.714789390563965,-12.503418922424316,15.639949798583984,-8.153875350952148,-5.698291301727295,-0.3925686478614807,3.8461978435516357,18.004915237426758,-4.709634780883789,-4.709634780883789,2.025404214859009,-5.147618293762207,3.2447896003723145,-10.253762245178223,7.3669843673706055,-21.494169235229492,2.934807777404785,-7.878142833709717,-18.28403091430664,10.437248229980469,19.9510440826416,3.7842862606048584,-20.844545364379883,8.462156295776367,-17.551633834838867,6.655287265777588,23.70379638671875,-12.262815475463867,-12.211881637573242,-7.916211128234863,16.513612747192383,-20.508821487426758,-6.2880425453186035,-0.2735675573348999,9.817911148071289,-0.8680323958396912,-18.298324584960938,-10.625301361083984,5.86721658706665,-12.045595169067383,-4.960750102996826,17.396902084350586,5.5975236892700195,1.084007740020752,-19.33998680114746,-5.719536304473877,-18.339553833007812,4.111745357513428,16.44114112854004,22.795988082885742,-10.847132682800293,-18.8924617767334,-26.297664642333984,-0.8679419755935669,2.5048255920410156,-19.379871368408203,-4.7649383544921875,7.369202136993408,9.740152359008789,7.712954521179199,-15.046412467956543,-2.092839241027832,-15.286210060119629,14.63517951965332,17.25177001953125,17.473682403564453,-4.442878246307373,3.411655902862549,-0.8201552033424377,0.5179182291030884,-13.373406410217285,9.00560474395752,-12.303641319274902,10.7625150680542,4.967912673950195,20.705562591552734,2.3635671138763428,-4.645859241485596,17.41166114807129,-1.2102158069610596,1.579879879951477,-8.248546600341797,24.189985275268555,-7.688407897949219,25.986509323120117,16.32380485534668,21.337661743164062,-4.850395202636719,15.146947860717773,7.809261322021484,-5.30025577545166,-0.7611185908317566,-9.003687858581543,8.105355262756348,-2.9942259788513184,7.880659103393555,9.574389457702637,-18.67929458618164,26.687562942504883,-12.19890022277832,4.480945587158203,3.1131954193115234,-3.798783302307129,-2.4888126850128174,19.126338958740234,-9.470758438110352,-4.055913925170898,-11.830333709716797,-15.087689399719238,-10.384177207946777,-0.20138144493103027,15.575040817260742,5.599719524383545,9.296669960021973,13.29407024383545,-24.571008682250977,-11.376402854919434,-15.490710258483887,10.71523666381836,-8.896557807922363,24.291240692138672,13.262364387512207,20.982349395751953,-3.758862257003784,-3.4580116271972656,10.35793399810791,-1.1528444290161133,-12.018878936767578,11.414253234863281,-15.17658805847168,21.23950958251953,15.74128246307373,-17.965621948242188,-11.924749374389648,3.7703189849853516,-11.708507537841797,-5.047755718231201,-21.85194969177246,20.266834259033203,-13.775134086608887,2.6207406520843506,5.78432559967041,-1.2608994245529175,-12.405271530151367,-2.335881233215332,20.191577911376953,20.50419044494629,9.119654655456543,-5.551427364349365,20.701387405395508,-0.9972015619277954,0.1979731172323227,19.067161560058594,6.915062427520752,3.769357442855835,-16.23672866821289,-23.855642318725586,6.134211540222168,9.993300437927246,8.170516014099121,-18.863040924072266,-4.812990188598633,19.154956817626953,14.61398696899414,12.225661277770996,7.290036678314209,-13.924612045288086,23.47933578491211,10.651650428771973,-17.091276168823242,20.975482940673828,-1.3743916749954224,4.6295485496521,-10.838753700256348,15.8377046585083,-2.1662330627441406,-9.117464065551758,1.1909639835357666,10.137160301208496,4.676048755645752,5.857025146484375,21.462421417236328,-4.920047283172607,3.3023080825805664,-11.77540111541748,10.276289939880371,-12.294154167175293,0.6965980529785156,3.849822998046875,-12.38101577758789,-20.818086624145508,-15.614604949951172,-3.8585078716278076,-3.2256650924682617,-21.538644790649414,-11.183055877685547,7.0438361167907715,-19.59681510925293,8.427937507629395,-0.23156915605068207,23.832481384277344,-11.125782012939453,-0.9257524609565735,-1.325147032737732,-17.927955627441406,4.062535285949707,-8.386834144592285,18.610179901123047,8.645611763000488,6.508066177368164,17.746883392333984,-15.875473022460938,11.336552619934082,-0.6488276720046997,5.497199535369873,22.301488876342773,9.212220191955566,-8.800626754760742,6.248885154724121,17.02053451538086,-9.062042236328125,-6.282210350036621,-6.138615131378174,2.2933197021484375,-11.880234718322754,-21.071836471557617,3.4334423542022705,-2.7083001136779785,-1.7486916780471802,-6.072455883026123,-0.39821547269821167,1.7202823162078857,1.855783224105835,2.6196703910827637,5.537204265594482,-10.600263595581055,-8.820167541503906,10.75706958770752,-5.593191146850586,-22.59823989868164,-6.428368091583252,-5.827968120574951,-1.8589926958084106,-1.4678500890731812,-7.219196319580078,-2.6090915203094482,-21.196434020996094,17.35001564025879,-16.097640991210938,1.4982868432998657,7.75533390045166,24.591524124145508,-5.714821815490723,-5.761742115020752,9.564825057983398,-0.08439245820045471,1.125051498413086,-4.153585910797119,6.623575687408447,-6.261284351348877,-1.0011638402938843,7.209003448486328,4.8473029136657715,-10.030477523803711,20.09958839416504,17.994428634643555,21.499040603637695,-8.02235221862793,6.188503265380859,-5.694859027862549,9.284847259521484,18.498004913330078,8.433380126953125,-16.3698787689209,-1.934522032737732,10.635795593261719,-6.385617733001709,-1.9858813285827637,16.176982879638672,-10.043689727783203,-3.1854047775268555,-3.190563917160034,-2.4687275886535645,16.00720977783203,10.762323379516602,3.1193583011627197,-21.7337703704834,2.0746707916259766,-20.575166702270508,4.086251735687256,-10.174726486206055,-3.4899566173553467,13.252415657043457,-9.8994722366333,-11.40895938873291,-9.914310455322266,-14.03281021118164,13.05970287322998,-18.28264617919922,-7.694798946380615,10.126532554626465,-6.604321479797363,8.514986991882324,-1.8293155431747437,20.239830017089844,-13.579554557800293,-1.2635796070098877,1.026700496673584,17.990497589111328,2.3764421939849854,-19.95368194580078,0.7721520662307739,6.354725360870361,10.567480087280273,-16.334646224975586,8.791375160217285,-2.6814143657684326,9.052607536315918,-13.129669189453125,-12.897749900817871,1.8019323348999023,3.72090482711792,-12.978865623474121,5.772238254547119,-12.606151580810547,-0.5554938912391663,0.17661844193935394,16.36556053161621,0.8878908157348633,-6.505436897277832,8.098140716552734,-13.357297897338867,10.888148307800293,-7.8468017578125,8.405252456665039,-12.212963104248047,-5.884156703948975,-16.66838264465332,-9.585665702819824,21.241655349731445,-0.3466323912143707,-4.117090225219727,-10.584343910217285,19.623699188232422,10.181679725646973,-0.41107600927352905,-5.835066795349121,19.344356536865234,19.2807559967041,6.9280290603637695,-8.201701164245605,15.486292839050293,-11.166075706481934,7.051263332366943,0.32478901743888855,7.073831558227539,-13.059823989868164,-18.4996337890625,-18.315244674682617,20.777603149414062,-13.096460342407227,2.5303030014038086,-0.8020874261856079,-20.27300453186035,-20.096290588378906,4.540447235107422,-11.295326232910156,-10.92744255065918,-16.133466720581055,19.98615074157715,21.169164657592773,-2.1601579189300537,18.39625358581543,-20.061058044433594,-0.5688990950584412,4.161521911621094,-10.368509292602539,8.04712963104248,21.700244903564453,20.630146026611328,-13.909348487854004,25.24769401550293,16.16318702697754,-11.790794372558594,-11.965218544006348,-25.742198944091797,-15.640254974365234,-3.9011764526367188,18.959280014038086,-12.915799140930176,-13.900010108947754,-2.2708537578582764,-16.580322265625,7.463035583496094,-2.6566669940948486,3.051665782928467,13.311535835266113,-4.843016624450684,-21.685123443603516,-14.690801620483398,-11.460227012634277,24.300495147705078,14.649545669555664,9.040830612182617,0.5729817748069763,-8.30864429473877,-9.633962631225586,7.495047092437744,-6.043051719665527,3.171395778656006,-1.487356185913086,-20.239887237548828,7.660168647766113,18.1794376373291,-5.721433639526367,24.503183364868164,-20.7882022857666,19.99187469482422,-6.321529388427734,6.820860862731934,3.5491912364959717,7.920267581939697,13.667357444763184,10.449247360229492,17.66483497619629,-3.637997627258301,3.3054730892181396,0.4420224726200104,2.2091562747955322,6.181354999542236,2.896622657775879,11.826967239379883,2.827772855758667,0.017784586176276207,18.835668563842773,-26.9695987701416,9.729588508605957,14.89591121673584,7.7393035888671875,-0.03591226041316986,-4.979814529418945,-2.003004312515259,-0.21851994097232819,-17.786754608154297,9.351059913635254,-4.808974742889404,10.788797378540039,-13.598565101623535,9.381598472595215,7.153171539306641,15.921502113342285,9.748373031616211,-8.578288078308105,1.8819228410720825,11.318551063537598,-14.356998443603516,-15.936373710632324,0.5186466574668884,11.117137908935547,-5.5009236335754395,-4.685627460479736,-6.7234673500061035,4.6169114112854,-6.088232040405273,9.607208251953125,-10.038393020629883,8.017816543579102,1.142419695854187,-11.386943817138672,-9.087647438049316,5.01948881149292,20.880123138427734,15.1094970703125,3.427062749862671,0.7542701959609985,-7.7388715744018555,-0.17179924249649048,-6.806915760040283,7.171494483947754,2.1115469932556152,-0.8753577470779419,-14.59908390045166,18.981670379638672,3.0186100006103516,-2.6559252738952637,-13.032699584960938,9.638437271118164,-24.569381713867188,13.303485870361328,-18.544391632080078,4.3684492111206055,18.368772506713867,-16.167871475219727,5.017141819000244,-21.078332901000977,2.1781554222106934,2.9796903133392334,-13.083374977111816,19.273868560791016,11.174210548400879,-14.04339599609375,-16.937023162841797,22.429637908935547,18.1965274810791,0.6791213154792786,-16.386823654174805,6.654911994934082,-15.83967113494873,-15.735729217529297,-16.580036163330078,0.3808809518814087,2.315845012664795,15.820475578308105,19.080551147460938,-6.684426784515381,-11.706716537475586,1.0227223634719849,-21.32157325744629,14.130998611450195,-12.024750709533691,-4.535030364990234,-2.1084461212158203,-10.013946533203125,-15.333433151245117,-15.557126998901367,18.482192993164062,-6.500206470489502,-22.233793258666992,-6.6318359375,8.487159729003906,-2.9321632385253906,1.9511774778366089,15.704766273498535,19.215099334716797,3.405888080596924,-21.19497299194336,-15.078171730041504,-3.3878190517425537,7.177268028259277,9.242238998413086,-19.99012565612793,-14.096957206726074,-0.9171599745750427,6.330529689788818,-0.041664596647024155,-0.8803215026855469,-2.8207919597625732,-6.007375240325928,-25.14702033996582,-14.911938667297363,14.160514831542969,-11.586729049682617,-7.294907569885254,7.205348491668701,8.155482292175293,21.221189498901367,3.552351474761963,-21.13469123840332,16.557071685791016,-12.572919845581055,-1.2200502157211304,9.720335960388184,-17.011362075805664,-2.218024730682373,-10.020257949829102,3.2951645851135254,3.94661021232605,-7.172876834869385,-7.579223155975342,6.1641926765441895,18.744266510009766,-11.85827922821045,-23.676401138305664,-5.419187545776367,-5.769308090209961,-19.56116485595703,4.523767471313477,21.481782913208008,3.3621573448181152,14.986865043640137,11.931419372558594,-6.3965325355529785,21.3814697265625,0.5160284638404846,7.158298492431641,-17.303342819213867,-18.737707138061523,14.235302925109863,5.028390884399414,-11.999683380126953,18.263696670532227,13.055657386779785,-10.803203582763672,2.1141397953033447,4.716156959533691,5.019645690917969,-14.317498207092285,-12.160102844238281,5.555013656616211,14.665863037109375,3.990495204925537,18.410594940185547,18.922983169555664,4.522392272949219,-3.3460090160369873,13.712152481079102,-12.437074661254883,-12.186366081237793,18.012405395507812,5.9065070152282715,-4.391073226928711,0.5501949191093445,2.777529239654541,17.238576889038086,8.124438285827637,6.897552013397217,-5.766963958740234,10.647589683532715,-3.918506622314453,4.032685279846191,-5.657869815826416,18.741172790527344,6.1620635986328125,-12.29577350616455,3.5696868896484375,16.17044448852539,6.426459789276123,3.4804437160491943,8.993216514587402,5.306937217712402,23.444162368774414,-13.627939224243164,-9.717668533325195,1.8793463706970215,9.77782917022705,-19.439647674560547,-12.491745948791504,1.4449715614318848,12.1934175491333,-7.010334491729736,-11.811788558959961,6.571593761444092,-5.716053485870361,-18.484342575073242,-18.8709774017334,-0.543748676776886,-5.9966349601745605,-15.766511917114258,2.2356278896331787,-20.264972686767578,-3.5602643489837646,12.804911613464355,4.238443851470947,-0.26827558875083923,-2.7076306343078613,-22.08688735961914,-5.43421745300293,7.0204033851623535,-19.2547550201416,14.711438179016113,-9.105789184570312,5.6412153244018555,13.909584045410156,-8.576805114746094,17.6802978515625,7.43994140625,-6.601682186126709,-7.734015941619873,2.291229248046875,-5.749909400939941,-13.468424797058105,-10.836883544921875,-20.584455490112305,-6.717067718505859,-19.053955078125,-20.51504135131836,-3.471423625946045,-11.693328857421875,-19.81757354736328,-0.311702698469162,3.8470382690429688,23.285490036010742,-1.0654222965240479,4.580568790435791,-17.52462387084961,-0.8999755382537842],\"yaxis\":\"y\",\"type\":\"scatter\"}],                        {\"template\":{\"data\":{\"histogram2dcontour\":[{\"type\":\"histogram2dcontour\",\"colorbar\":{\"outlinewidth\":0,\"ticks\":\"\"},\"colorscale\":[[0.0,\"#0d0887\"],[0.1111111111111111,\"#46039f\"],[0.2222222222222222,\"#7201a8\"],[0.3333333333333333,\"#9c179e\"],[0.4444444444444444,\"#bd3786\"],[0.5555555555555556,\"#d8576b\"],[0.6666666666666666,\"#ed7953\"],[0.7777777777777778,\"#fb9f3a\"],[0.8888888888888888,\"#fdca26\"],[1.0,\"#f0f921\"]]}],\"choropleth\":[{\"type\":\"choropleth\",\"colorbar\":{\"outlinewidth\":0,\"ticks\":\"\"}}],\"histogram2d\":[{\"type\":\"histogram2d\",\"colorbar\":{\"outlinewidth\":0,\"ticks\":\"\"},\"colorscale\":[[0.0,\"#0d0887\"],[0.1111111111111111,\"#46039f\"],[0.2222222222222222,\"#7201a8\"],[0.3333333333333333,\"#9c179e\"],[0.4444444444444444,\"#bd3786\"],[0.5555555555555556,\"#d8576b\"],[0.6666666666666666,\"#ed7953\"],[0.7777777777777778,\"#fb9f3a\"],[0.8888888888888888,\"#fdca26\"],[1.0,\"#f0f921\"]]}],\"heatmap\":[{\"type\":\"heatmap\",\"colorbar\":{\"outlinewidth\":0,\"ticks\":\"\"},\"colorscale\":[[0.0,\"#0d0887\"],[0.1111111111111111,\"#46039f\"],[0.2222222222222222,\"#7201a8\"],[0.3333333333333333,\"#9c179e\"],[0.4444444444444444,\"#bd3786\"],[0.5555555555555556,\"#d8576b\"],[0.6666666666666666,\"#ed7953\"],[0.7777777777777778,\"#fb9f3a\"],[0.8888888888888888,\"#fdca26\"],[1.0,\"#f0f921\"]]}],\"heatmapgl\":[{\"type\":\"heatmapgl\",\"colorbar\":{\"outlinewidth\":0,\"ticks\":\"\"},\"colorscale\":[[0.0,\"#0d0887\"],[0.1111111111111111,\"#46039f\"],[0.2222222222222222,\"#7201a8\"],[0.3333333333333333,\"#9c179e\"],[0.4444444444444444,\"#bd3786\"],[0.5555555555555556,\"#d8576b\"],[0.6666666666666666,\"#ed7953\"],[0.7777777777777778,\"#fb9f3a\"],[0.8888888888888888,\"#fdca26\"],[1.0,\"#f0f921\"]]}],\"contourcarpet\":[{\"type\":\"contourcarpet\",\"colorbar\":{\"outlinewidth\":0,\"ticks\":\"\"}}],\"contour\":[{\"type\":\"contour\",\"colorbar\":{\"outlinewidth\":0,\"ticks\":\"\"},\"colorscale\":[[0.0,\"#0d0887\"],[0.1111111111111111,\"#46039f\"],[0.2222222222222222,\"#7201a8\"],[0.3333333333333333,\"#9c179e\"],[0.4444444444444444,\"#bd3786\"],[0.5555555555555556,\"#d8576b\"],[0.6666666666666666,\"#ed7953\"],[0.7777777777777778,\"#fb9f3a\"],[0.8888888888888888,\"#fdca26\"],[1.0,\"#f0f921\"]]}],\"surface\":[{\"type\":\"surface\",\"colorbar\":{\"outlinewidth\":0,\"ticks\":\"\"},\"colorscale\":[[0.0,\"#0d0887\"],[0.1111111111111111,\"#46039f\"],[0.2222222222222222,\"#7201a8\"],[0.3333333333333333,\"#9c179e\"],[0.4444444444444444,\"#bd3786\"],[0.5555555555555556,\"#d8576b\"],[0.6666666666666666,\"#ed7953\"],[0.7777777777777778,\"#fb9f3a\"],[0.8888888888888888,\"#fdca26\"],[1.0,\"#f0f921\"]]}],\"mesh3d\":[{\"type\":\"mesh3d\",\"colorbar\":{\"outlinewidth\":0,\"ticks\":\"\"}}],\"scatter\":[{\"fillpattern\":{\"fillmode\":\"overlay\",\"size\":10,\"solidity\":0.2},\"type\":\"scatter\"}],\"parcoords\":[{\"type\":\"parcoords\",\"line\":{\"colorbar\":{\"outlinewidth\":0,\"ticks\":\"\"}}}],\"scatterpolargl\":[{\"type\":\"scatterpolargl\",\"marker\":{\"colorbar\":{\"outlinewidth\":0,\"ticks\":\"\"}}}],\"bar\":[{\"error_x\":{\"color\":\"#2a3f5f\"},\"error_y\":{\"color\":\"#2a3f5f\"},\"marker\":{\"line\":{\"color\":\"#E5ECF6\",\"width\":0.5},\"pattern\":{\"fillmode\":\"overlay\",\"size\":10,\"solidity\":0.2}},\"type\":\"bar\"}],\"scattergeo\":[{\"type\":\"scattergeo\",\"marker\":{\"colorbar\":{\"outlinewidth\":0,\"ticks\":\"\"}}}],\"scatterpolar\":[{\"type\":\"scatterpolar\",\"marker\":{\"colorbar\":{\"outlinewidth\":0,\"ticks\":\"\"}}}],\"histogram\":[{\"marker\":{\"pattern\":{\"fillmode\":\"overlay\",\"size\":10,\"solidity\":0.2}},\"type\":\"histogram\"}],\"scattergl\":[{\"type\":\"scattergl\",\"marker\":{\"colorbar\":{\"outlinewidth\":0,\"ticks\":\"\"}}}],\"scatter3d\":[{\"type\":\"scatter3d\",\"line\":{\"colorbar\":{\"outlinewidth\":0,\"ticks\":\"\"}},\"marker\":{\"colorbar\":{\"outlinewidth\":0,\"ticks\":\"\"}}}],\"scattermapbox\":[{\"type\":\"scattermapbox\",\"marker\":{\"colorbar\":{\"outlinewidth\":0,\"ticks\":\"\"}}}],\"scatterternary\":[{\"type\":\"scatterternary\",\"marker\":{\"colorbar\":{\"outlinewidth\":0,\"ticks\":\"\"}}}],\"scattercarpet\":[{\"type\":\"scattercarpet\",\"marker\":{\"colorbar\":{\"outlinewidth\":0,\"ticks\":\"\"}}}],\"carpet\":[{\"aaxis\":{\"endlinecolor\":\"#2a3f5f\",\"gridcolor\":\"white\",\"linecolor\":\"white\",\"minorgridcolor\":\"white\",\"startlinecolor\":\"#2a3f5f\"},\"baxis\":{\"endlinecolor\":\"#2a3f5f\",\"gridcolor\":\"white\",\"linecolor\":\"white\",\"minorgridcolor\":\"white\",\"startlinecolor\":\"#2a3f5f\"},\"type\":\"carpet\"}],\"table\":[{\"cells\":{\"fill\":{\"color\":\"#EBF0F8\"},\"line\":{\"color\":\"white\"}},\"header\":{\"fill\":{\"color\":\"#C8D4E3\"},\"line\":{\"color\":\"white\"}},\"type\":\"table\"}],\"barpolar\":[{\"marker\":{\"line\":{\"color\":\"#E5ECF6\",\"width\":0.5},\"pattern\":{\"fillmode\":\"overlay\",\"size\":10,\"solidity\":0.2}},\"type\":\"barpolar\"}],\"pie\":[{\"automargin\":true,\"type\":\"pie\"}]},\"layout\":{\"autotypenumbers\":\"strict\",\"colorway\":[\"#636efa\",\"#EF553B\",\"#00cc96\",\"#ab63fa\",\"#FFA15A\",\"#19d3f3\",\"#FF6692\",\"#B6E880\",\"#FF97FF\",\"#FECB52\"],\"font\":{\"color\":\"#2a3f5f\"},\"hovermode\":\"closest\",\"hoverlabel\":{\"align\":\"left\"},\"paper_bgcolor\":\"white\",\"plot_bgcolor\":\"#E5ECF6\",\"polar\":{\"bgcolor\":\"#E5ECF6\",\"angularaxis\":{\"gridcolor\":\"white\",\"linecolor\":\"white\",\"ticks\":\"\"},\"radialaxis\":{\"gridcolor\":\"white\",\"linecolor\":\"white\",\"ticks\":\"\"}},\"ternary\":{\"bgcolor\":\"#E5ECF6\",\"aaxis\":{\"gridcolor\":\"white\",\"linecolor\":\"white\",\"ticks\":\"\"},\"baxis\":{\"gridcolor\":\"white\",\"linecolor\":\"white\",\"ticks\":\"\"},\"caxis\":{\"gridcolor\":\"white\",\"linecolor\":\"white\",\"ticks\":\"\"}},\"coloraxis\":{\"colorbar\":{\"outlinewidth\":0,\"ticks\":\"\"}},\"colorscale\":{\"sequential\":[[0.0,\"#0d0887\"],[0.1111111111111111,\"#46039f\"],[0.2222222222222222,\"#7201a8\"],[0.3333333333333333,\"#9c179e\"],[0.4444444444444444,\"#bd3786\"],[0.5555555555555556,\"#d8576b\"],[0.6666666666666666,\"#ed7953\"],[0.7777777777777778,\"#fb9f3a\"],[0.8888888888888888,\"#fdca26\"],[1.0,\"#f0f921\"]],\"sequentialminus\":[[0.0,\"#0d0887\"],[0.1111111111111111,\"#46039f\"],[0.2222222222222222,\"#7201a8\"],[0.3333333333333333,\"#9c179e\"],[0.4444444444444444,\"#bd3786\"],[0.5555555555555556,\"#d8576b\"],[0.6666666666666666,\"#ed7953\"],[0.7777777777777778,\"#fb9f3a\"],[0.8888888888888888,\"#fdca26\"],[1.0,\"#f0f921\"]],\"diverging\":[[0,\"#8e0152\"],[0.1,\"#c51b7d\"],[0.2,\"#de77ae\"],[0.3,\"#f1b6da\"],[0.4,\"#fde0ef\"],[0.5,\"#f7f7f7\"],[0.6,\"#e6f5d0\"],[0.7,\"#b8e186\"],[0.8,\"#7fbc41\"],[0.9,\"#4d9221\"],[1,\"#276419\"]]},\"xaxis\":{\"gridcolor\":\"white\",\"linecolor\":\"white\",\"ticks\":\"\",\"title\":{\"standoff\":15},\"zerolinecolor\":\"white\",\"automargin\":true,\"zerolinewidth\":2},\"yaxis\":{\"gridcolor\":\"white\",\"linecolor\":\"white\",\"ticks\":\"\",\"title\":{\"standoff\":15},\"zerolinecolor\":\"white\",\"automargin\":true,\"zerolinewidth\":2},\"scene\":{\"xaxis\":{\"backgroundcolor\":\"#E5ECF6\",\"gridcolor\":\"white\",\"linecolor\":\"white\",\"showbackground\":true,\"ticks\":\"\",\"zerolinecolor\":\"white\",\"gridwidth\":2},\"yaxis\":{\"backgroundcolor\":\"#E5ECF6\",\"gridcolor\":\"white\",\"linecolor\":\"white\",\"showbackground\":true,\"ticks\":\"\",\"zerolinecolor\":\"white\",\"gridwidth\":2},\"zaxis\":{\"backgroundcolor\":\"#E5ECF6\",\"gridcolor\":\"white\",\"linecolor\":\"white\",\"showbackground\":true,\"ticks\":\"\",\"zerolinecolor\":\"white\",\"gridwidth\":2}},\"shapedefaults\":{\"line\":{\"color\":\"#2a3f5f\"}},\"annotationdefaults\":{\"arrowcolor\":\"#2a3f5f\",\"arrowhead\":0,\"arrowwidth\":1},\"geo\":{\"bgcolor\":\"white\",\"landcolor\":\"#E5ECF6\",\"subunitcolor\":\"white\",\"showland\":true,\"showlakes\":true,\"lakecolor\":\"white\"},\"title\":{\"x\":0.05},\"mapbox\":{\"style\":\"light\"}}},\"xaxis\":{\"anchor\":\"y\",\"domain\":[0.0,1.0],\"title\":{\"text\":\"TSNE1\"}},\"yaxis\":{\"anchor\":\"x\",\"domain\":[0.0,1.0],\"title\":{\"text\":\"TSNE2\"}},\"coloraxis\":{\"colorbar\":{\"title\":{\"text\":\"rating\"}},\"colorscale\":[[0,\"red\"],[0.5,\"gray\"],[1.0,\"green\"]]},\"legend\":{\"tracegroupgap\":0},\"margin\":{\"t\":60}},                        {\"responsive\": true}                    ).then(function(){\n",
              "                            \n",
              "var gd = document.getElementById('af007b93-4fad-4fb1-bb98-9e4a1dbbfc27');\n",
              "var x = new MutationObserver(function (mutations, observer) {{\n",
              "        var display = window.getComputedStyle(gd).display;\n",
              "        if (!display || display === 'none') {{\n",
              "            console.log([gd, 'removed!']);\n",
              "            Plotly.purge(gd);\n",
              "            observer.disconnect();\n",
              "        }}\n",
              "}});\n",
              "\n",
              "// Listen for the removal of the full notebook cells\n",
              "var notebookContainer = gd.closest('#notebook-container');\n",
              "if (notebookContainer) {{\n",
              "    x.observe(notebookContainer, {childList: true});\n",
              "}}\n",
              "\n",
              "// Listen for the clearing of the current output cell\n",
              "var outputEl = gd.closest('.output');\n",
              "if (outputEl) {{\n",
              "    x.observe(outputEl, {childList: true});\n",
              "}}\n",
              "\n",
              "                        })                };                            </script>        </div>\n",
              "</body>\n",
              "</html>"
            ]
          },
          "metadata": {}
        }
      ]
    },
    {
      "cell_type": "markdown",
      "source": [
        "## Conclusão\n",
        "Neste notebook, demonstramos como a Gemini API pode ser utilizada para endereçar diferentes casos de uso de atendimento ao cliente.  \n",
        "\n",
        "Em particular, verificamos a flexibilidade que as LLMs propiciam, aceitando instruções e restrições nos prompts que aceleram muito o desenvolvimento de aplicações de *machine learning* que levariam semanas para serem implementadas utilizando técnicas tradicionais e bancos de dados limitados.  \n",
        "\n",
        "O Vertex API também oferece ferramentas para [fine-tuning de modelos](https://cloud.google.com/vertex-ai/docs/generative-ai/models/tune-models?hl=pt-br) Palm / Lllama 2, entre outros, caso seja necessário adaptar o model para domínios mais específicos."
      ],
      "metadata": {
        "id": "WxiH02HuMmn4"
      }
    },
    {
      "cell_type": "markdown",
      "source": [
        "## Para saber mais\n",
        "- [Meu keynote na DevFest Prudente 2023 sobre IA Generativa com LLM](https://www.youtube.com/watch?app=desktop&v=d-al-YgHRJo&t=57m20s)\n",
        "- [Google AI Studio](https://aistudio.google.com/)\n",
        "- [Documentação da Gemini API](https://ai.google.dev/gemini-api/docs)\n",
        "- [Notebooks em Português de Prompt Design, Gemini API e Vertex AI](https://github.com/lucianommartins/generative-ai-ptbr-prototypes/tree/main) - por Luciano Martins (Google)  \n",
        "- [Exemplos oficiais de Generative AI com Google Cloud Platform](https://github.com/GoogleCloudPlatform/generative-ai)"
      ],
      "metadata": {
        "id": "N1eo4IsXXzDx"
      }
    },
    {
      "cell_type": "code",
      "source": [],
      "metadata": {
        "id": "_m1a2WevHYPT"
      },
      "execution_count": null,
      "outputs": []
    }
  ]
}
